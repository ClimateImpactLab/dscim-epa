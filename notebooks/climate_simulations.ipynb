{
 "cells": [
  {
   "cell_type": "code",
   "execution_count": null,
   "id": "cc6824b0-3e25-47a3-8e82-7b67c4dc60f7",
   "metadata": {
    "tags": []
   },
   "outputs": [],
   "source": [
    "import xarray as xr\n",
    "import pandas as pd\n",
    "import numpy as np\n",
    "from p_tqdm import p_map\n",
    "import seaborn as sns\n",
    "import matplotlib.pyplot as plt"
   ]
  },
  {
   "cell_type": "code",
   "execution_count": null,
   "id": "fe8308af-f29b-4148-b861-677002ac44c5",
   "metadata": {
    "tags": []
   },
   "outputs": [],
   "source": [
    "# root = \"/mnt/CIL_integration/menu_results_AR6_epa/CAMEL/2020/unmasked\"\n",
    "root = \"/mnt/CIL_integration/menu_results_96k_integration/integration_AMEL/2020/unmasked/\"\n",
    "recipe = \"risk_aversion\"\n",
    "disc = \"euler_ramsey\"\n",
    "eta = 2.0 # 1.567899395\n",
    "rho = 0.0 # 0.00770271076\n",
    "weitzman_parameter=['0.001', '0.01']\n",
    "model = 'IIASA GDP'\n",
    "ssp='SSP3'\n",
    "rcp='rcp85'\n",
    "discrate=0.02\n",
    "no_draws=100"
   ]
  },
  {
   "cell_type": "code",
   "execution_count": null,
   "id": "0cd992fa-37b1-4cb4-9ef8-3cb669b02f80",
   "metadata": {
    "tags": []
   },
   "outputs": [],
   "source": [
    "ds = xr.open_dataset(\n",
    "    f\"{root}/{recipe}_{disc}_eta{eta}_rho{rho}_uncollapsed_sccs.nc4\"\n",
    ")\n",
    "\n",
    "if disc == 'constant' : \n",
    "    ds = ds.sel(discrate=discrate)\n",
    "    \n",
    "ds['simulation'] = range(0, len(ds.simulation))"
   ]
  },
  {
   "cell_type": "code",
   "execution_count": null,
   "id": "14927ee3-81ee-448b-8ac5-c2e09401a639",
   "metadata": {
    "tags": []
   },
   "outputs": [],
   "source": [
    "np.random.seed(30)"
   ]
  },
  {
   "cell_type": "code",
   "execution_count": null,
   "id": "a0c43e33-c232-4984-9ea1-05e612745e18",
   "metadata": {
    "tags": []
   },
   "outputs": [],
   "source": [
    "def sample_dist(sample, ds=ds):\n",
    "    \n",
    "    samples = []\n",
    "    \n",
    "    for draw in range(no_draws):\n",
    "        subset = ds.sel(\n",
    "                    weitzman_parameter=weitzman_parameter,\n",
    "                    model=model,\n",
    "                    rcp=rcp,\n",
    "                    ssp=ssp,\n",
    "                    simulation=np.random.randint(0, ds.simulation.size, sample)\n",
    "                ).mean('simulation')\n",
    "\n",
    "        samples.append(subset.expand_dims({\n",
    "            'sample' : [sample],\n",
    "            'draw' : [draw],\n",
    "        }))\n",
    "        \n",
    "    return xr.combine_by_coords(samples)"
   ]
  },
  {
   "cell_type": "code",
   "execution_count": null,
   "id": "a5404aec-edf4-43c4-893d-936418763e6f",
   "metadata": {
    "tags": []
   },
   "outputs": [],
   "source": [
    "samples = p_map(sample_dist,\n",
    "                [\n",
    "                 50, 100, 500, \n",
    "                 1000, 1500, 2000, \n",
    "                 2500, 3000, 5000, \n",
    "                 10000, 50000, len(ds.simulation)\n",
    "                ]\n",
    "               )\n",
    "\n",
    "samples = xr.combine_by_coords(samples)"
   ]
  },
  {
   "cell_type": "code",
   "execution_count": null,
   "id": "e4336ec7-f558-41bb-85fe-747756f7cfe2",
   "metadata": {
    "tags": []
   },
   "outputs": [],
   "source": [
    "for wp in weitzman_parameter:\n",
    "    sns.set_theme(style=\"darkgrid\")\n",
    "    sns.displot(\n",
    "        samples.sel(weitzman_parameter=wp).to_dataframe().reset_index(),\n",
    "        x=\"uncollapsed_sccs\",\n",
    "        col=\"sample\", \n",
    "        col_wrap=4,\n",
    "        bins=50, \n",
    "    )\n",
    "    \n",
    "    plt.subplots_adjust(top=0.9)\n",
    "\n",
    "    plt.suptitle(f\"{recipe} {disc} {model} {ssp} {rcp} \\n eta = {eta}, rho = {rho}, weitzman parameter = {wp}, # draws = {no_draws}\")\n",
    "    plt.savefig(f'/mnt/CIL_integration/plots/integration_paper_diagnostics/AR5_samples_{recipe}_{disc}_{model}_{ssp}_{rcp}_eta{eta}_rho{rho}_wp{wp}.png', dpi=300, bbox_inches='tight')"
   ]
  }
 ],
 "metadata": {
  "kernelspec": {
   "display_name": "Python 3 (ipykernel)",
   "language": "python",
   "name": "python3"
  },
  "language_info": {
   "codemirror_mode": {
    "name": "ipython",
    "version": 3
   },
   "file_extension": ".py",
   "mimetype": "text/x-python",
   "name": "python",
   "nbconvert_exporter": "python",
   "pygments_lexer": "ipython3",
   "version": "3.8.0"
  }
 },
 "nbformat": 4,
 "nbformat_minor": 5
}
