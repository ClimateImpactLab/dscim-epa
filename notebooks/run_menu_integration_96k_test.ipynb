{
 "cells": [
  {
   "cell_type": "code",
   "execution_count": 1,
   "metadata": {
    "execution": {
     "iopub.execute_input": "2022-04-11T20:40:34.955742Z",
     "iopub.status.busy": "2022-04-11T20:40:34.955364Z",
     "iopub.status.idle": "2022-04-11T20:40:37.266196Z",
     "shell.execute_reply": "2022-04-11T20:40:37.265661Z",
     "shell.execute_reply.started": "2022-04-11T20:40:34.955682Z"
    },
    "tags": []
   },
   "outputs": [
    {
     "name": "stderr",
     "output_type": "stream",
     "text": [
      "/home/kschwarz/miniconda3/envs/dscim2/lib/python3.8/site-packages/statsmodels/compat/pandas.py:61: FutureWarning: pandas.Int64Index is deprecated and will be removed from pandas in a future version. Use pandas.Index with the appropriate dtype instead.\n",
      "  from pandas import Int64Index as NumericIndex\n"
     ]
    }
   ],
   "source": [
    "import os, gc, time\n",
    "import numpy as np\n",
    "import pandas as pd\n",
    "import xarray as xr\n",
    "import matplotlib.pyplot as plt\n",
    "import matplotlib as mpl\n",
    "username = os.getenv('USER')\n",
    "import dask.array as da\n",
    "# from dask_jobqueue import SLURMCluster\n",
    "# from dask.distributed import Client, progress\n",
    "import dask\n",
    "from collections import OrderedDict\n",
    "dask.config.set(**{'array.slicing.split_large_chunks': False})\n",
    "# dask.config.set({\"distributed.workers.memory.target\": 4})\n",
    "\n",
    "from dscim import ProWaiter\n",
    "from itertools import product, chain\n",
    "import itertools\n",
    "# import seaborn as sns\n",
    "from functools import reduce\n",
    "from pathlib import Path\n",
    "\n",
    "import seaborn as sns\n"
   ]
  },
  {
   "cell_type": "code",
   "execution_count": 2,
   "metadata": {
    "execution": {
     "iopub.execute_input": "2022-04-11T20:40:37.267399Z",
     "iopub.status.busy": "2022-04-11T20:40:37.267177Z",
     "iopub.status.idle": "2022-04-11T20:40:37.271751Z",
     "shell.execute_reply": "2022-04-11T20:40:37.271282Z",
     "shell.execute_reply.started": "2022-04-11T20:40:37.267379Z"
    },
    "tags": []
   },
   "outputs": [],
   "source": [
    "discount_types = [ \"euler_gwr\", \"euler_ramsey\"] #, \"constant\",  \"naive_gwr\", \"naive_ramsey\"]\n",
    "menu_options = [\"risk_aversion\", \"adding_up\", \"equity\"]\n",
    "pulse_years = [2020]\n",
    "# pulse_years = list(range(2025, 2051, 5))\n",
    "weitzman_values = [x / 10.0 for x in range(1, 11, 1)] + [0.25, 0.01, 0.001, 0.0001]\n",
    "global_cons = False\n",
    "factors = False\n",
    "marginal_damages = False\n",
    "masks = [\n",
    "    \"unmasked\",\n",
    "        #  \"truncate_at_ecs995symmetric_passing_mask\",\n",
    "        # \"truncate_at_ecs990symmetric_passing_mask\",\n",
    "        # \"truncate_at_ecs950symmetric_passing_mask\",\n",
    "        # \"truncate_at_ecs830symmetric_passing_mask\",\n",
    "        # \"truncate_at_ecs750symmetric_passing_mask\",\n",
    "        ]\n",
    "\n",
    "fair_dims_list=[\n",
    "    ['simulation'],\n",
    "    # ['simulation', 'rcp'],\n",
    "    # ['simulation', 'ssp', 'model'],\n",
    "    # ['simulation', 'ssp', 'model', 'rcp'],\n",
    "]"
   ]
  },
  {
   "cell_type": "markdown",
   "metadata": {},
   "source": [
    "# run all"
   ]
  },
  {
   "cell_type": "code",
   "execution_count": 3,
   "metadata": {
    "execution": {
     "iopub.execute_input": "2022-04-11T20:40:37.273327Z",
     "iopub.status.busy": "2022-04-11T20:40:37.273116Z",
     "iopub.status.idle": "2022-04-11T20:40:37.276961Z",
     "shell.execute_reply": "2022-04-11T20:40:37.276487Z",
     "shell.execute_reply.started": "2022-04-11T20:40:37.273307Z"
    },
    "tags": []
   },
   "outputs": [],
   "source": [
    "sectors = [\"integration_AMEL\"]\n",
    "AR_list = [6]\n",
    "combos = [(s, p, d, m, ar, ma, f) \n",
    "          for p in pulse_years\n",
    "          for s in sectors \n",
    "          for d in discount_types \n",
    "          for m in menu_options\n",
    "          for ar in AR_list\n",
    "          for ma in masks\n",
    "          for f in fair_dims_list\n",
    "         ]"
   ]
  },
  {
   "cell_type": "code",
   "execution_count": 4,
   "metadata": {
    "execution": {
     "iopub.execute_input": "2022-04-11T20:40:37.277844Z",
     "iopub.status.busy": "2022-04-11T20:40:37.277697Z",
     "iopub.status.idle": "2022-04-11T21:35:20.404423Z",
     "shell.execute_reply": "2022-04-11T21:35:20.403486Z",
     "shell.execute_reply.started": "2022-04-11T20:40:37.277825Z"
    },
    "tags": []
   },
   "outputs": [
    {
     "name": "stdout",
     "output_type": "stream",
     "text": [
      "=========================================================\n",
      "('integration_AMEL', 2020, 'euler_gwr', 'risk_aversion', 6, 'unmasked', ['simulation'])\n",
      "damages ~ -1 + anomaly + np.power(anomaly, 2)\n",
      "Risk-aversion CEs found at /shares/gcp/integration/CE_library_epa_vsl_bc39/integration_AMEL//risk_aversion_ce_no_cc_eta2.0.zarr. These are being loaded...\n",
      "Subsetting on {'ssp': ['SSP2', 'SSP3', 'SSP4']} keys.\n",
      "Risk-aversion CEs found at /shares/gcp/integration/CE_library_epa_vsl_bc39/integration_AMEL//risk_aversion_ce_cc_eta2.0.zarr. These are being loaded...\n",
      "Subsetting on {'ssp': ['SSP2', 'SSP3', 'SSP4']} keys.\n",
      "Subsetting on {'ssp': ['SSP2', 'SSP3', 'SSP4']} keys.\n"
     ]
    },
    {
     "name": "stderr",
     "output_type": "stream",
     "text": [
      "/home/kschwarz/miniconda3/envs/dscim2/lib/python3.8/site-packages/xarray/core/nanops.py:141: RuntimeWarning: Mean of empty slice\n",
      "  return np.nanmean(a, axis=axis, dtype=dtype)\n"
     ]
    },
    {
     "name": "stdout",
     "output_type": "stream",
     "text": [
      "Subsetting on {'ssp': ['SSP2', 'SSP3', 'SSP4']} keys.\n",
      "Saving /mnt/CIL_integration/menu_results_96k_integration/integration_AMEL/2020/unmasked/risk_aversion_euler_gwr_eta2.0_rho0.0_damage_function_points.csv\n",
      "Extrapolating global consumption.\n",
      "End-of-century growth rates are not capped.\n"
     ]
    },
    {
     "name": "stderr",
     "output_type": "stream",
     "text": [
      "/home/kschwarz/miniconda3/envs/dscim2/lib/python3.8/site-packages/xarray/core/nanops.py:141: RuntimeWarning: Mean of empty slice\n",
      "  return np.nanmean(a, axis=axis, dtype=dtype)\n",
      "/home/kschwarz/miniconda3/envs/dscim2/lib/python3.8/site-packages/dask/core.py:119: RuntimeWarning: invalid value encountered in true_divide\n",
      "  return func(*(_execute_task(a, cache) for a in args))\n",
      "/home/kschwarz/miniconda3/envs/dscim2/lib/python3.8/site-packages/dask/core.py:119: RuntimeWarning: invalid value encountered in true_divide\n",
      "  return func(*(_execute_task(a, cache) for a in args))\n"
     ]
    },
    {
     "name": "stdout",
     "output_type": "stream",
     "text": [
      "Skipped saving global_consumption.\n",
      "Saving /mnt/CIL_integration/menu_results_96k_integration/integration_AMEL/2020/unmasked/risk_aversion_euler_gwr_eta2.0_rho0.0_damage_function_fit.nc4\n"
     ]
    },
    {
     "name": "stderr",
     "output_type": "stream",
     "text": [
      "/home/kschwarz/miniconda3/envs/dscim2/lib/python3.8/site-packages/dask/core.py:119: RuntimeWarning: invalid value encountered in true_divide\n",
      "  return func(*(_execute_task(a, cache) for a in args))\n"
     ]
    },
    {
     "name": "stdout",
     "output_type": "stream",
     "text": [
      "\n",
      " Executing \n",
      "        Running risk_aversion\n",
      "        sector: integration_AMEL\n",
      "        discounting: euler_gwr\n",
      "        eta: 2.0\n",
      "        rho: 0.0\n",
      "        \n",
      "Processing damage functions ...\n",
      "Existing damage functions not found. Damage points will be loaded.\n",
      "Saving /mnt/CIL_integration/menu_results_96k_integration/integration_AMEL/2020/unmasked/risk_aversion_euler_gwr_eta2.0_rho0.0_damage_function_coefficients.nc4\n"
     ]
    },
    {
     "name": "stderr",
     "output_type": "stream",
     "text": [
      "/home/kschwarz/miniconda3/envs/dscim2/lib/python3.8/site-packages/dask/core.py:119: RuntimeWarning: invalid value encountered in true_divide\n",
      "  return func(*(_execute_task(a, cache) for a in args))\n"
     ]
    },
    {
     "name": "stdout",
     "output_type": "stream",
     "text": [
      "Saving /mnt/CIL_integration/menu_results_96k_integration/integration_AMEL/2020/unmasked/risk_aversion_euler_gwr_eta2.0_rho0.0_damage_function_fit.nc4\n"
     ]
    },
    {
     "name": "stderr",
     "output_type": "stream",
     "text": [
      "/home/kschwarz/miniconda3/envs/dscim2/lib/python3.8/site-packages/dask/core.py:119: RuntimeWarning: invalid value encountered in true_divide\n",
      "  return func(*(_execute_task(a, cache) for a in args))\n"
     ]
    },
    {
     "name": "stdout",
     "output_type": "stream",
     "text": [
      "Processing SCC calculation ...\n",
      "Saving /mnt/CIL_integration/menu_results_96k_integration/integration_AMEL/2020/unmasked/risk_aversion_euler_gwr_eta2.0_rho0.0_damage_function_coefficients.nc4\n"
     ]
    },
    {
     "name": "stderr",
     "output_type": "stream",
     "text": [
      "/home/kschwarz/miniconda3/envs/dscim2/lib/python3.8/site-packages/dask/core.py:119: RuntimeWarning: invalid value encountered in true_divide\n",
      "  return func(*(_execute_task(a, cache) for a in args))\n"
     ]
    },
    {
     "name": "stdout",
     "output_type": "stream",
     "text": [
      "Skipped saving ce_fair_no_pulse.\n"
     ]
    },
    {
     "name": "stderr",
     "output_type": "stream",
     "text": [
      "/home/kschwarz/repos/integration/dscim/menu/main_recipe.py:1174: FutureWarning: xarray.ufuncs is deprecated. Instead, use numpy ufuncs directly.\n",
      "  rhos = xr.ufuncs.expm1(xr.DataArray(self.rho, coords=[cons_pc.year]))\n",
      "/home/kschwarz/miniconda3/envs/dscim2/lib/python3.8/site-packages/xarray/core/dataarray.py:3061: FutureWarning: xarray.ufuncs is deprecated. Instead, use numpy ufuncs directly.\n",
      "  da = self.__array_wrap__(f(self.variable.data, *args, **kwargs))\n",
      "/home/kschwarz/repos/integration/dscim/menu/main_recipe.py:1174: FutureWarning: xarray.ufuncs is deprecated. Instead, use numpy ufuncs directly.\n",
      "  rhos = xr.ufuncs.expm1(xr.DataArray(self.rho, coords=[cons_pc.year]))\n",
      "/home/kschwarz/miniconda3/envs/dscim2/lib/python3.8/site-packages/xarray/core/dataarray.py:3061: FutureWarning: xarray.ufuncs is deprecated. Instead, use numpy ufuncs directly.\n",
      "  da = self.__array_wrap__(f(self.variable.data, *args, **kwargs))\n",
      "/home/kschwarz/repos/integration/dscim/menu/main_recipe.py:1174: FutureWarning: xarray.ufuncs is deprecated. Instead, use numpy ufuncs directly.\n",
      "  rhos = xr.ufuncs.expm1(xr.DataArray(self.rho, coords=[cons_pc.year]))\n",
      "/home/kschwarz/miniconda3/envs/dscim2/lib/python3.8/site-packages/xarray/core/dataarray.py:3061: FutureWarning: xarray.ufuncs is deprecated. Instead, use numpy ufuncs directly.\n",
      "  da = self.__array_wrap__(f(self.variable.data, *args, **kwargs))\n"
     ]
    },
    {
     "name": "stdout",
     "output_type": "stream",
     "text": [
      "Saving /mnt/CIL_integration/menu_results_96k_integration/integration_AMEL/2020/unmasked/risk_aversion_euler_gwr_eta2.0_rho0.0_damage_function_coefficients.nc4\n"
     ]
    },
    {
     "name": "stderr",
     "output_type": "stream",
     "text": [
      "/home/kschwarz/miniconda3/envs/dscim2/lib/python3.8/site-packages/dask/core.py:119: RuntimeWarning: invalid value encountered in true_divide\n",
      "  return func(*(_execute_task(a, cache) for a in args))\n"
     ]
    },
    {
     "name": "stdout",
     "output_type": "stream",
     "text": [
      "Saving /mnt/CIL_integration/menu_results_96k_integration/integration_AMEL/2020/unmasked/risk_aversion_euler_gwr_eta2.0_rho0.0_discount_factors.nc4\n"
     ]
    },
    {
     "name": "stderr",
     "output_type": "stream",
     "text": [
      "/home/kschwarz/repos/integration/dscim/menu/main_recipe.py:1174: FutureWarning: xarray.ufuncs is deprecated. Instead, use numpy ufuncs directly.\n",
      "  rhos = xr.ufuncs.expm1(xr.DataArray(self.rho, coords=[cons_pc.year]))\n",
      "/home/kschwarz/miniconda3/envs/dscim2/lib/python3.8/site-packages/xarray/core/dataarray.py:3061: FutureWarning: xarray.ufuncs is deprecated. Instead, use numpy ufuncs directly.\n",
      "  da = self.__array_wrap__(f(self.variable.data, *args, **kwargs))\n",
      "/home/kschwarz/miniconda3/envs/dscim2/lib/python3.8/site-packages/dask/core.py:119: RuntimeWarning: invalid value encountered in true_divide\n",
      "  return func(*(_execute_task(a, cache) for a in args))\n",
      "/home/kschwarz/miniconda3/envs/dscim2/lib/python3.8/site-packages/dask/core.py:119: RuntimeWarning: invalid value encountered in true_divide\n",
      "  return func(*(_execute_task(a, cache) for a in args))\n",
      "/home/kschwarz/miniconda3/envs/dscim2/lib/python3.8/site-packages/dask/core.py:119: RuntimeWarning: invalid value encountered in true_divide\n",
      "  return func(*(_execute_task(a, cache) for a in args))\n",
      "/home/kschwarz/miniconda3/envs/dscim2/lib/python3.8/site-packages/dask/core.py:119: RuntimeWarning: invalid value encountered in true_divide\n",
      "  return func(*(_execute_task(a, cache) for a in args))\n",
      "/home/kschwarz/miniconda3/envs/dscim2/lib/python3.8/site-packages/dask/core.py:119: RuntimeWarning: invalid value encountered in true_divide\n",
      "  return func(*(_execute_task(a, cache) for a in args))\n",
      "/home/kschwarz/miniconda3/envs/dscim2/lib/python3.8/site-packages/dask/core.py:119: RuntimeWarning: invalid value encountered in true_divide\n",
      "  return func(*(_execute_task(a, cache) for a in args))\n",
      "/home/kschwarz/miniconda3/envs/dscim2/lib/python3.8/site-packages/dask/core.py:119: RuntimeWarning: invalid value encountered in true_divide\n",
      "  return func(*(_execute_task(a, cache) for a in args))\n",
      "/home/kschwarz/miniconda3/envs/dscim2/lib/python3.8/site-packages/dask/core.py:119: RuntimeWarning: invalid value encountered in true_divide\n",
      "  return func(*(_execute_task(a, cache) for a in args))\n",
      "/home/kschwarz/miniconda3/envs/dscim2/lib/python3.8/site-packages/dask/core.py:119: RuntimeWarning: invalid value encountered in true_divide\n",
      "  return func(*(_execute_task(a, cache) for a in args))\n",
      "/home/kschwarz/miniconda3/envs/dscim2/lib/python3.8/site-packages/dask/core.py:119: RuntimeWarning: invalid value encountered in true_divide\n",
      "  return func(*(_execute_task(a, cache) for a in args))\n",
      "/home/kschwarz/miniconda3/envs/dscim2/lib/python3.8/site-packages/dask/core.py:119: RuntimeWarning: invalid value encountered in true_divide\n",
      "  return func(*(_execute_task(a, cache) for a in args))\n",
      "/home/kschwarz/miniconda3/envs/dscim2/lib/python3.8/site-packages/dask/core.py:119: RuntimeWarning: invalid value encountered in true_divide\n",
      "  return func(*(_execute_task(a, cache) for a in args))\n",
      "/home/kschwarz/miniconda3/envs/dscim2/lib/python3.8/site-packages/dask/core.py:119: RuntimeWarning: invalid value encountered in true_divide\n",
      "  return func(*(_execute_task(a, cache) for a in args))\n",
      "/home/kschwarz/miniconda3/envs/dscim2/lib/python3.8/site-packages/dask/core.py:119: RuntimeWarning: invalid value encountered in true_divide\n",
      "  return func(*(_execute_task(a, cache) for a in args))\n",
      "/home/kschwarz/miniconda3/envs/dscim2/lib/python3.8/site-packages/dask/core.py:119: RuntimeWarning: invalid value encountered in true_divide\n",
      "  return func(*(_execute_task(a, cache) for a in args))\n",
      "/home/kschwarz/miniconda3/envs/dscim2/lib/python3.8/site-packages/dask/core.py:119: RuntimeWarning: invalid value encountered in true_divide\n",
      "  return func(*(_execute_task(a, cache) for a in args))\n",
      "/home/kschwarz/miniconda3/envs/dscim2/lib/python3.8/site-packages/dask/core.py:119: RuntimeWarning: invalid value encountered in true_divide\n",
      "  return func(*(_execute_task(a, cache) for a in args))\n"
     ]
    },
    {
     "name": "stdout",
     "output_type": "stream",
     "text": [
      "Skipped saving ce_fair_no_pulse.\n",
      "Saving /mnt/CIL_integration/menu_results_96k_integration/integration_AMEL/2020/unmasked/risk_aversion_euler_gwr_eta2.0_rho0.0_damage_function_coefficients.nc4\n"
     ]
    },
    {
     "name": "stderr",
     "output_type": "stream",
     "text": [
      "/home/kschwarz/miniconda3/envs/dscim2/lib/python3.8/site-packages/dask/core.py:119: RuntimeWarning: invalid value encountered in true_divide\n",
      "  return func(*(_execute_task(a, cache) for a in args))\n"
     ]
    },
    {
     "name": "stdout",
     "output_type": "stream",
     "text": [
      "Skipped saving ce_fair_pulse.\n",
      "Saving /mnt/CIL_integration/menu_results_96k_integration/integration_AMEL/2020/unmasked/risk_aversion_euler_gwr_eta2.0_rho0.0_damage_function_coefficients.nc4\n"
     ]
    },
    {
     "name": "stderr",
     "output_type": "stream",
     "text": [
      "/home/kschwarz/miniconda3/envs/dscim2/lib/python3.8/site-packages/dask/core.py:119: RuntimeWarning: invalid value encountered in true_divide\n",
      "  return func(*(_execute_task(a, cache) for a in args))\n"
     ]
    },
    {
     "name": "stdout",
     "output_type": "stream",
     "text": [
      "Saving /mnt/CIL_integration/menu_results_96k_integration/integration_AMEL/2020/unmasked/risk_aversion_euler_gwr_eta2.0_rho0.0_damage_function_coefficients.nc4\n"
     ]
    },
    {
     "name": "stderr",
     "output_type": "stream",
     "text": [
      "/home/kschwarz/miniconda3/envs/dscim2/lib/python3.8/site-packages/dask/core.py:119: RuntimeWarning: invalid value encountered in true_divide\n",
      "  return func(*(_execute_task(a, cache) for a in args))\n"
     ]
    },
    {
     "name": "stdout",
     "output_type": "stream",
     "text": [
      "Saving /mnt/CIL_integration/menu_results_96k_integration/integration_AMEL/2020/unmasked/risk_aversion_euler_gwr_eta2.0_rho0.0_marginal_damages.nc4\n"
     ]
    },
    {
     "name": "stderr",
     "output_type": "stream",
     "text": [
      "/home/kschwarz/miniconda3/envs/dscim2/lib/python3.8/site-packages/dask/core.py:119: RuntimeWarning: invalid value encountered in true_divide\n",
      "  return func(*(_execute_task(a, cache) for a in args))\n",
      "/home/kschwarz/miniconda3/envs/dscim2/lib/python3.8/site-packages/dask/core.py:119: RuntimeWarning: invalid value encountered in true_divide\n",
      "  return func(*(_execute_task(a, cache) for a in args))\n",
      "/home/kschwarz/miniconda3/envs/dscim2/lib/python3.8/site-packages/dask/core.py:119: RuntimeWarning: invalid value encountered in true_divide\n",
      "  return func(*(_execute_task(a, cache) for a in args))\n",
      "/home/kschwarz/miniconda3/envs/dscim2/lib/python3.8/site-packages/dask/core.py:119: RuntimeWarning: invalid value encountered in true_divide\n",
      "  return func(*(_execute_task(a, cache) for a in args))\n",
      "/home/kschwarz/miniconda3/envs/dscim2/lib/python3.8/site-packages/dask/core.py:119: RuntimeWarning: invalid value encountered in true_divide\n",
      "  return func(*(_execute_task(a, cache) for a in args))\n",
      "/home/kschwarz/miniconda3/envs/dscim2/lib/python3.8/site-packages/dask/core.py:119: RuntimeWarning: invalid value encountered in true_divide\n",
      "  return func(*(_execute_task(a, cache) for a in args))\n",
      "/home/kschwarz/miniconda3/envs/dscim2/lib/python3.8/site-packages/dask/core.py:119: RuntimeWarning: invalid value encountered in true_divide\n",
      "  return func(*(_execute_task(a, cache) for a in args))\n",
      "/home/kschwarz/miniconda3/envs/dscim2/lib/python3.8/site-packages/dask/core.py:119: RuntimeWarning: invalid value encountered in true_divide\n",
      "  return func(*(_execute_task(a, cache) for a in args))\n",
      "/home/kschwarz/miniconda3/envs/dscim2/lib/python3.8/site-packages/dask/core.py:119: RuntimeWarning: invalid value encountered in true_divide\n",
      "  return func(*(_execute_task(a, cache) for a in args))\n",
      "/home/kschwarz/miniconda3/envs/dscim2/lib/python3.8/site-packages/dask/core.py:119: RuntimeWarning: invalid value encountered in true_divide\n",
      "  return func(*(_execute_task(a, cache) for a in args))\n",
      "/home/kschwarz/miniconda3/envs/dscim2/lib/python3.8/site-packages/dask/core.py:119: RuntimeWarning: invalid value encountered in true_divide\n",
      "  return func(*(_execute_task(a, cache) for a in args))\n",
      "/home/kschwarz/miniconda3/envs/dscim2/lib/python3.8/site-packages/dask/core.py:119: RuntimeWarning: invalid value encountered in true_divide\n",
      "  return func(*(_execute_task(a, cache) for a in args))\n",
      "/home/kschwarz/miniconda3/envs/dscim2/lib/python3.8/site-packages/dask/core.py:119: RuntimeWarning: invalid value encountered in true_divide\n",
      "  return func(*(_execute_task(a, cache) for a in args))\n",
      "/home/kschwarz/miniconda3/envs/dscim2/lib/python3.8/site-packages/dask/core.py:119: RuntimeWarning: invalid value encountered in true_divide\n",
      "  return func(*(_execute_task(a, cache) for a in args))\n",
      "/home/kschwarz/miniconda3/envs/dscim2/lib/python3.8/site-packages/dask/core.py:119: RuntimeWarning: invalid value encountered in true_divide\n",
      "  return func(*(_execute_task(a, cache) for a in args))\n",
      "/home/kschwarz/miniconda3/envs/dscim2/lib/python3.8/site-packages/dask/core.py:119: RuntimeWarning: invalid value encountered in true_divide\n",
      "  return func(*(_execute_task(a, cache) for a in args))\n",
      "/home/kschwarz/miniconda3/envs/dscim2/lib/python3.8/site-packages/dask/core.py:119: RuntimeWarning: invalid value encountered in true_divide\n",
      "  return func(*(_execute_task(a, cache) for a in args))\n",
      "/home/kschwarz/miniconda3/envs/dscim2/lib/python3.8/site-packages/dask/core.py:119: RuntimeWarning: invalid value encountered in true_divide\n",
      "  return func(*(_execute_task(a, cache) for a in args))\n",
      "/home/kschwarz/miniconda3/envs/dscim2/lib/python3.8/site-packages/dask/core.py:119: RuntimeWarning: invalid value encountered in true_divide\n",
      "  return func(*(_execute_task(a, cache) for a in args))\n",
      "/home/kschwarz/miniconda3/envs/dscim2/lib/python3.8/site-packages/dask/core.py:119: RuntimeWarning: invalid value encountered in true_divide\n",
      "  return func(*(_execute_task(a, cache) for a in args))\n",
      "/home/kschwarz/miniconda3/envs/dscim2/lib/python3.8/site-packages/dask/core.py:119: RuntimeWarning: invalid value encountered in true_divide\n",
      "  return func(*(_execute_task(a, cache) for a in args))\n",
      "/home/kschwarz/miniconda3/envs/dscim2/lib/python3.8/site-packages/dask/core.py:119: RuntimeWarning: invalid value encountered in true_divide\n",
      "  return func(*(_execute_task(a, cache) for a in args))\n"
     ]
    },
    {
     "name": "stdout",
     "output_type": "stream",
     "text": [
      "Skipped saving ce_fair_no_pulse.\n",
      "Saving /mnt/CIL_integration/menu_results_96k_integration/integration_AMEL/2020/unmasked/risk_aversion_euler_gwr_eta2.0_rho0.0_damage_function_coefficients.nc4\n"
     ]
    },
    {
     "name": "stderr",
     "output_type": "stream",
     "text": [
      "/home/kschwarz/repos/integration/dscim/menu/main_recipe.py:1174: FutureWarning: xarray.ufuncs is deprecated. Instead, use numpy ufuncs directly.\n",
      "  rhos = xr.ufuncs.expm1(xr.DataArray(self.rho, coords=[cons_pc.year]))\n",
      "/home/kschwarz/miniconda3/envs/dscim2/lib/python3.8/site-packages/xarray/core/dataarray.py:3061: FutureWarning: xarray.ufuncs is deprecated. Instead, use numpy ufuncs directly.\n",
      "  da = self.__array_wrap__(f(self.variable.data, *args, **kwargs))\n",
      "/home/kschwarz/repos/integration/dscim/menu/main_recipe.py:1174: FutureWarning: xarray.ufuncs is deprecated. Instead, use numpy ufuncs directly.\n",
      "  rhos = xr.ufuncs.expm1(xr.DataArray(self.rho, coords=[cons_pc.year]))\n",
      "/home/kschwarz/miniconda3/envs/dscim2/lib/python3.8/site-packages/xarray/core/dataarray.py:3061: FutureWarning: xarray.ufuncs is deprecated. Instead, use numpy ufuncs directly.\n",
      "  da = self.__array_wrap__(f(self.variable.data, *args, **kwargs))\n",
      "/home/kschwarz/repos/integration/dscim/menu/main_recipe.py:1174: FutureWarning: xarray.ufuncs is deprecated. Instead, use numpy ufuncs directly.\n",
      "  rhos = xr.ufuncs.expm1(xr.DataArray(self.rho, coords=[cons_pc.year]))\n",
      "/home/kschwarz/miniconda3/envs/dscim2/lib/python3.8/site-packages/xarray/core/dataarray.py:3061: FutureWarning: xarray.ufuncs is deprecated. Instead, use numpy ufuncs directly.\n",
      "  da = self.__array_wrap__(f(self.variable.data, *args, **kwargs))\n",
      "/home/kschwarz/miniconda3/envs/dscim2/lib/python3.8/site-packages/dask/core.py:119: RuntimeWarning: invalid value encountered in true_divide\n",
      "  return func(*(_execute_task(a, cache) for a in args))\n"
     ]
    },
    {
     "name": "stdout",
     "output_type": "stream",
     "text": [
      "Saving /mnt/CIL_integration/menu_results_96k_integration/integration_AMEL/2020/unmasked/risk_aversion_euler_gwr_eta2.0_rho0.0_uncollapsed_sccs.nc4\n"
     ]
    },
    {
     "name": "stderr",
     "output_type": "stream",
     "text": [
      "/home/kschwarz/repos/integration/dscim/menu/main_recipe.py:1174: FutureWarning: xarray.ufuncs is deprecated. Instead, use numpy ufuncs directly.\n",
      "  rhos = xr.ufuncs.expm1(xr.DataArray(self.rho, coords=[cons_pc.year]))\n",
      "/home/kschwarz/miniconda3/envs/dscim2/lib/python3.8/site-packages/xarray/core/dataarray.py:3061: FutureWarning: xarray.ufuncs is deprecated. Instead, use numpy ufuncs directly.\n",
      "  da = self.__array_wrap__(f(self.variable.data, *args, **kwargs))\n",
      "/home/kschwarz/repos/integration/dscim/menu/main_recipe.py:1174: FutureWarning: xarray.ufuncs is deprecated. Instead, use numpy ufuncs directly.\n",
      "  rhos = xr.ufuncs.expm1(xr.DataArray(self.rho, coords=[cons_pc.year]))\n",
      "/home/kschwarz/miniconda3/envs/dscim2/lib/python3.8/site-packages/xarray/core/dataarray.py:3061: FutureWarning: xarray.ufuncs is deprecated. Instead, use numpy ufuncs directly.\n",
      "  da = self.__array_wrap__(f(self.variable.data, *args, **kwargs))\n",
      "/home/kschwarz/miniconda3/envs/dscim2/lib/python3.8/site-packages/dask/core.py:119: RuntimeWarning: invalid value encountered in true_divide\n",
      "  return func(*(_execute_task(a, cache) for a in args))\n",
      "/home/kschwarz/miniconda3/envs/dscim2/lib/python3.8/site-packages/dask/core.py:119: RuntimeWarning: invalid value encountered in true_divide\n",
      "  return func(*(_execute_task(a, cache) for a in args))\n",
      "/home/kschwarz/miniconda3/envs/dscim2/lib/python3.8/site-packages/dask/core.py:119: RuntimeWarning: invalid value encountered in true_divide\n",
      "  return func(*(_execute_task(a, cache) for a in args))\n",
      "/home/kschwarz/miniconda3/envs/dscim2/lib/python3.8/site-packages/dask/core.py:119: RuntimeWarning: invalid value encountered in true_divide\n",
      "  return func(*(_execute_task(a, cache) for a in args))\n",
      "/home/kschwarz/miniconda3/envs/dscim2/lib/python3.8/site-packages/dask/core.py:119: RuntimeWarning: invalid value encountered in true_divide\n",
      "  return func(*(_execute_task(a, cache) for a in args))\n",
      "/home/kschwarz/miniconda3/envs/dscim2/lib/python3.8/site-packages/dask/core.py:119: RuntimeWarning: invalid value encountered in true_divide\n",
      "  return func(*(_execute_task(a, cache) for a in args))\n",
      "/home/kschwarz/miniconda3/envs/dscim2/lib/python3.8/site-packages/dask/core.py:119: RuntimeWarning: invalid value encountered in true_divide\n",
      "  return func(*(_execute_task(a, cache) for a in args))\n",
      "/home/kschwarz/miniconda3/envs/dscim2/lib/python3.8/site-packages/dask/core.py:119: RuntimeWarning: invalid value encountered in true_divide\n",
      "  return func(*(_execute_task(a, cache) for a in args))\n",
      "/home/kschwarz/miniconda3/envs/dscim2/lib/python3.8/site-packages/dask/core.py:119: RuntimeWarning: invalid value encountered in true_divide\n",
      "  return func(*(_execute_task(a, cache) for a in args))\n",
      "/home/kschwarz/miniconda3/envs/dscim2/lib/python3.8/site-packages/dask/core.py:119: RuntimeWarning: invalid value encountered in true_divide\n",
      "  return func(*(_execute_task(a, cache) for a in args))\n",
      "/home/kschwarz/miniconda3/envs/dscim2/lib/python3.8/site-packages/dask/core.py:119: RuntimeWarning: invalid value encountered in true_divide\n",
      "  return func(*(_execute_task(a, cache) for a in args))\n",
      "/home/kschwarz/miniconda3/envs/dscim2/lib/python3.8/site-packages/dask/core.py:119: RuntimeWarning: invalid value encountered in true_divide\n",
      "  return func(*(_execute_task(a, cache) for a in args))\n",
      "/home/kschwarz/miniconda3/envs/dscim2/lib/python3.8/site-packages/dask/core.py:119: RuntimeWarning: invalid value encountered in true_divide\n",
      "  return func(*(_execute_task(a, cache) for a in args))\n",
      "/home/kschwarz/miniconda3/envs/dscim2/lib/python3.8/site-packages/dask/core.py:119: RuntimeWarning: invalid value encountered in true_divide\n",
      "  return func(*(_execute_task(a, cache) for a in args))\n",
      "/home/kschwarz/miniconda3/envs/dscim2/lib/python3.8/site-packages/dask/core.py:119: RuntimeWarning: invalid value encountered in true_divide\n",
      "  return func(*(_execute_task(a, cache) for a in args))\n",
      "/home/kschwarz/miniconda3/envs/dscim2/lib/python3.8/site-packages/dask/core.py:119: RuntimeWarning: invalid value encountered in true_divide\n",
      "  return func(*(_execute_task(a, cache) for a in args))\n",
      "/home/kschwarz/miniconda3/envs/dscim2/lib/python3.8/site-packages/dask/core.py:119: RuntimeWarning: invalid value encountered in true_divide\n",
      "  return func(*(_execute_task(a, cache) for a in args))\n",
      "/home/kschwarz/miniconda3/envs/dscim2/lib/python3.8/site-packages/dask/core.py:119: RuntimeWarning: invalid value encountered in true_divide\n",
      "  return func(*(_execute_task(a, cache) for a in args))\n",
      "/home/kschwarz/miniconda3/envs/dscim2/lib/python3.8/site-packages/dask/core.py:119: RuntimeWarning: invalid value encountered in true_divide\n",
      "  return func(*(_execute_task(a, cache) for a in args))\n",
      "/home/kschwarz/miniconda3/envs/dscim2/lib/python3.8/site-packages/dask/core.py:119: RuntimeWarning: invalid value encountered in true_divide\n",
      "  return func(*(_execute_task(a, cache) for a in args))\n",
      "/home/kschwarz/miniconda3/envs/dscim2/lib/python3.8/site-packages/dask/core.py:119: RuntimeWarning: invalid value encountered in true_divide\n",
      "  return func(*(_execute_task(a, cache) for a in args))\n",
      "/home/kschwarz/miniconda3/envs/dscim2/lib/python3.8/site-packages/dask/core.py:119: RuntimeWarning: invalid value encountered in true_divide\n",
      "  return func(*(_execute_task(a, cache) for a in args))\n",
      "/home/kschwarz/miniconda3/envs/dscim2/lib/python3.8/site-packages/dask/core.py:119: RuntimeWarning: invalid value encountered in true_divide\n",
      "  return func(*(_execute_task(a, cache) for a in args))\n",
      "/home/kschwarz/miniconda3/envs/dscim2/lib/python3.8/site-packages/dask/core.py:119: RuntimeWarning: invalid value encountered in true_divide\n",
      "  return func(*(_execute_task(a, cache) for a in args))\n",
      "/home/kschwarz/miniconda3/envs/dscim2/lib/python3.8/site-packages/dask/core.py:119: RuntimeWarning: invalid value encountered in true_divide\n",
      "  return func(*(_execute_task(a, cache) for a in args))\n",
      "/home/kschwarz/miniconda3/envs/dscim2/lib/python3.8/site-packages/dask/core.py:119: RuntimeWarning: invalid value encountered in true_divide\n",
      "  return func(*(_execute_task(a, cache) for a in args))\n",
      "/home/kschwarz/miniconda3/envs/dscim2/lib/python3.8/site-packages/dask/core.py:119: RuntimeWarning: invalid value encountered in true_divide\n",
      "  return func(*(_execute_task(a, cache) for a in args))\n",
      "/home/kschwarz/miniconda3/envs/dscim2/lib/python3.8/site-packages/dask/core.py:119: RuntimeWarning: invalid value encountered in true_divide\n",
      "  return func(*(_execute_task(a, cache) for a in args))\n",
      "/home/kschwarz/miniconda3/envs/dscim2/lib/python3.8/site-packages/dask/core.py:119: RuntimeWarning: invalid value encountered in true_divide\n",
      "  return func(*(_execute_task(a, cache) for a in args))\n",
      "/home/kschwarz/miniconda3/envs/dscim2/lib/python3.8/site-packages/dask/core.py:119: RuntimeWarning: invalid value encountered in true_divide\n",
      "  return func(*(_execute_task(a, cache) for a in args))\n",
      "/home/kschwarz/miniconda3/envs/dscim2/lib/python3.8/site-packages/dask/core.py:119: RuntimeWarning: invalid value encountered in true_divide\n",
      "  return func(*(_execute_task(a, cache) for a in args))\n",
      "/home/kschwarz/miniconda3/envs/dscim2/lib/python3.8/site-packages/dask/core.py:119: RuntimeWarning: invalid value encountered in true_divide\n",
      "  return func(*(_execute_task(a, cache) for a in args))\n",
      "/home/kschwarz/miniconda3/envs/dscim2/lib/python3.8/site-packages/dask/core.py:119: RuntimeWarning: invalid value encountered in true_divide\n",
      "  return func(*(_execute_task(a, cache) for a in args))\n",
      "/home/kschwarz/miniconda3/envs/dscim2/lib/python3.8/site-packages/dask/core.py:119: RuntimeWarning: invalid value encountered in true_divide\n",
      "  return func(*(_execute_task(a, cache) for a in args))\n",
      "/home/kschwarz/miniconda3/envs/dscim2/lib/python3.8/site-packages/dask/core.py:119: RuntimeWarning: invalid value encountered in true_divide\n",
      "  return func(*(_execute_task(a, cache) for a in args))\n",
      "/home/kschwarz/miniconda3/envs/dscim2/lib/python3.8/site-packages/dask/core.py:119: RuntimeWarning: invalid value encountered in true_divide\n",
      "  return func(*(_execute_task(a, cache) for a in args))\n",
      "/home/kschwarz/miniconda3/envs/dscim2/lib/python3.8/site-packages/dask/core.py:119: RuntimeWarning: invalid value encountered in true_divide\n",
      "  return func(*(_execute_task(a, cache) for a in args))\n",
      "/home/kschwarz/miniconda3/envs/dscim2/lib/python3.8/site-packages/dask/core.py:119: RuntimeWarning: invalid value encountered in true_divide\n",
      "  return func(*(_execute_task(a, cache) for a in args))\n",
      "/home/kschwarz/miniconda3/envs/dscim2/lib/python3.8/site-packages/dask/core.py:119: RuntimeWarning: invalid value encountered in true_divide\n",
      "  return func(*(_execute_task(a, cache) for a in args))\n",
      "/home/kschwarz/miniconda3/envs/dscim2/lib/python3.8/site-packages/dask/core.py:119: RuntimeWarning: invalid value encountered in true_divide\n",
      "  return func(*(_execute_task(a, cache) for a in args))\n",
      "/home/kschwarz/miniconda3/envs/dscim2/lib/python3.8/site-packages/dask/core.py:119: RuntimeWarning: invalid value encountered in true_divide\n",
      "  return func(*(_execute_task(a, cache) for a in args))\n",
      "/home/kschwarz/miniconda3/envs/dscim2/lib/python3.8/site-packages/dask/core.py:119: RuntimeWarning: invalid value encountered in true_divide\n",
      "  return func(*(_execute_task(a, cache) for a in args))\n",
      "/home/kschwarz/miniconda3/envs/dscim2/lib/python3.8/site-packages/dask/core.py:119: RuntimeWarning: invalid value encountered in true_divide\n",
      "  return func(*(_execute_task(a, cache) for a in args))\n",
      "/home/kschwarz/miniconda3/envs/dscim2/lib/python3.8/site-packages/dask/core.py:119: RuntimeWarning: invalid value encountered in true_divide\n",
      "  return func(*(_execute_task(a, cache) for a in args))\n",
      "/home/kschwarz/miniconda3/envs/dscim2/lib/python3.8/site-packages/dask/core.py:119: RuntimeWarning: invalid value encountered in true_divide\n",
      "  return func(*(_execute_task(a, cache) for a in args))\n",
      "/home/kschwarz/miniconda3/envs/dscim2/lib/python3.8/site-packages/dask/core.py:119: RuntimeWarning: invalid value encountered in true_divide\n",
      "  return func(*(_execute_task(a, cache) for a in args))\n",
      "/home/kschwarz/miniconda3/envs/dscim2/lib/python3.8/site-packages/dask/core.py:119: RuntimeWarning: invalid value encountered in true_divide\n",
      "  return func(*(_execute_task(a, cache) for a in args))\n",
      "/home/kschwarz/miniconda3/envs/dscim2/lib/python3.8/site-packages/dask/core.py:119: RuntimeWarning: invalid value encountered in true_divide\n",
      "  return func(*(_execute_task(a, cache) for a in args))\n",
      "/home/kschwarz/miniconda3/envs/dscim2/lib/python3.8/site-packages/dask/core.py:119: RuntimeWarning: invalid value encountered in true_divide\n",
      "  return func(*(_execute_task(a, cache) for a in args))\n"
     ]
    },
    {
     "name": "stdout",
     "output_type": "stream",
     "text": [
      "Saving /mnt/CIL_integration/menu_results_96k_integration/integration_AMEL/2020/unmasked/risk_aversion_euler_gwr_eta2.0_rho0.0_scc.nc4\n"
     ]
    },
    {
     "name": "stderr",
     "output_type": "stream",
     "text": [
      "/home/kschwarz/miniconda3/envs/dscim2/lib/python3.8/site-packages/dask/core.py:119: RuntimeWarning: invalid value encountered in true_divide\n",
      "  return func(*(_execute_task(a, cache) for a in args))\n",
      "/home/kschwarz/miniconda3/envs/dscim2/lib/python3.8/site-packages/dask/core.py:119: RuntimeWarning: invalid value encountered in true_divide\n",
      "  return func(*(_execute_task(a, cache) for a in args))\n",
      "/home/kschwarz/miniconda3/envs/dscim2/lib/python3.8/site-packages/dask/core.py:119: RuntimeWarning: invalid value encountered in true_divide\n",
      "  return func(*(_execute_task(a, cache) for a in args))\n",
      "/home/kschwarz/miniconda3/envs/dscim2/lib/python3.8/site-packages/dask/core.py:119: RuntimeWarning: invalid value encountered in true_divide\n",
      "  return func(*(_execute_task(a, cache) for a in args))\n",
      "/home/kschwarz/miniconda3/envs/dscim2/lib/python3.8/site-packages/dask/core.py:119: RuntimeWarning: invalid value encountered in true_divide\n",
      "  return func(*(_execute_task(a, cache) for a in args))\n",
      "/home/kschwarz/miniconda3/envs/dscim2/lib/python3.8/site-packages/dask/core.py:119: RuntimeWarning: invalid value encountered in true_divide\n",
      "  return func(*(_execute_task(a, cache) for a in args))\n",
      "/home/kschwarz/miniconda3/envs/dscim2/lib/python3.8/site-packages/dask/core.py:119: RuntimeWarning: invalid value encountered in true_divide\n",
      "  return func(*(_execute_task(a, cache) for a in args))\n"
     ]
    },
    {
     "name": "stdout",
     "output_type": "stream",
     "text": [
      "Results available: /mnt/CIL_integration/menu_results_96k_integration/integration_AMEL/2020/unmasked/\n",
      "remaining combos: 5\n",
      "=========================================================\n",
      "('integration_AMEL', 2020, 'euler_gwr', 'adding_up', 6, 'unmasked', ['simulation'])\n",
      "damages ~ -1 + anomaly + np.power(anomaly, 2)\n",
      "Adding up aggregated damages found at /shares/gcp/integration/CE_library_epa_vsl_bc39/integration_AMEL//adding_up_ce_cc_eta2.0.zarr, /shares/gcp/integration/CE_library_epa_vsl_bc39/integration_AMEL//adding_up_ce_no_cc_eta2.0.zarr. These are being loaded...\n",
      "Subsetting on {'ssp': ['SSP2', 'SSP3', 'SSP4']} keys.\n",
      "Subsetting on {'ssp': ['SSP2', 'SSP3', 'SSP4']} keys.\n",
      "Saving /mnt/CIL_integration/menu_results_96k_integration/integration_AMEL/2020/unmasked/adding_up_euler_gwr_eta2.0_rho0.0_damage_function_points.csv\n",
      "Subsetting on {'ssp': ['SSP2', 'SSP3', 'SSP4']} keys.\n",
      "Extrapolating global consumption.\n",
      "End-of-century growth rates are not capped.\n",
      "Skipped saving global_consumption.\n",
      "Saving /mnt/CIL_integration/menu_results_96k_integration/integration_AMEL/2020/unmasked/adding_up_euler_gwr_eta2.0_rho0.0_damage_function_fit.nc4\n",
      "\n",
      " Executing \n",
      "        Running adding_up\n",
      "        sector: integration_AMEL\n",
      "        discounting: euler_gwr\n",
      "        eta: 2.0\n",
      "        rho: 0.0\n",
      "        \n",
      "Processing damage functions ...\n",
      "Existing damage functions not found. Damage points will be loaded.\n",
      "Saving /mnt/CIL_integration/menu_results_96k_integration/integration_AMEL/2020/unmasked/adding_up_euler_gwr_eta2.0_rho0.0_damage_function_coefficients.nc4\n",
      "Saving /mnt/CIL_integration/menu_results_96k_integration/integration_AMEL/2020/unmasked/adding_up_euler_gwr_eta2.0_rho0.0_damage_function_fit.nc4\n",
      "Processing SCC calculation ...\n",
      "Saving /mnt/CIL_integration/menu_results_96k_integration/integration_AMEL/2020/unmasked/adding_up_euler_gwr_eta2.0_rho0.0_damage_function_coefficients.nc4\n",
      "Skipped saving ce_fair_no_pulse.\n"
     ]
    },
    {
     "name": "stderr",
     "output_type": "stream",
     "text": [
      "/home/kschwarz/repos/integration/dscim/menu/main_recipe.py:1174: FutureWarning: xarray.ufuncs is deprecated. Instead, use numpy ufuncs directly.\n",
      "  rhos = xr.ufuncs.expm1(xr.DataArray(self.rho, coords=[cons_pc.year]))\n",
      "/home/kschwarz/miniconda3/envs/dscim2/lib/python3.8/site-packages/xarray/core/dataarray.py:3061: FutureWarning: xarray.ufuncs is deprecated. Instead, use numpy ufuncs directly.\n",
      "  da = self.__array_wrap__(f(self.variable.data, *args, **kwargs))\n",
      "/home/kschwarz/repos/integration/dscim/menu/main_recipe.py:1174: FutureWarning: xarray.ufuncs is deprecated. Instead, use numpy ufuncs directly.\n",
      "  rhos = xr.ufuncs.expm1(xr.DataArray(self.rho, coords=[cons_pc.year]))\n",
      "/home/kschwarz/miniconda3/envs/dscim2/lib/python3.8/site-packages/xarray/core/dataarray.py:3061: FutureWarning: xarray.ufuncs is deprecated. Instead, use numpy ufuncs directly.\n",
      "  da = self.__array_wrap__(f(self.variable.data, *args, **kwargs))\n",
      "/home/kschwarz/repos/integration/dscim/menu/main_recipe.py:1174: FutureWarning: xarray.ufuncs is deprecated. Instead, use numpy ufuncs directly.\n",
      "  rhos = xr.ufuncs.expm1(xr.DataArray(self.rho, coords=[cons_pc.year]))\n",
      "/home/kschwarz/miniconda3/envs/dscim2/lib/python3.8/site-packages/xarray/core/dataarray.py:3061: FutureWarning: xarray.ufuncs is deprecated. Instead, use numpy ufuncs directly.\n",
      "  da = self.__array_wrap__(f(self.variable.data, *args, **kwargs))\n"
     ]
    },
    {
     "name": "stdout",
     "output_type": "stream",
     "text": [
      "Saving /mnt/CIL_integration/menu_results_96k_integration/integration_AMEL/2020/unmasked/adding_up_euler_gwr_eta2.0_rho0.0_damage_function_coefficients.nc4\n",
      "Saving /mnt/CIL_integration/menu_results_96k_integration/integration_AMEL/2020/unmasked/adding_up_euler_gwr_eta2.0_rho0.0_discount_factors.nc4\n"
     ]
    },
    {
     "name": "stderr",
     "output_type": "stream",
     "text": [
      "/home/kschwarz/repos/integration/dscim/menu/main_recipe.py:1174: FutureWarning: xarray.ufuncs is deprecated. Instead, use numpy ufuncs directly.\n",
      "  rhos = xr.ufuncs.expm1(xr.DataArray(self.rho, coords=[cons_pc.year]))\n",
      "/home/kschwarz/miniconda3/envs/dscim2/lib/python3.8/site-packages/xarray/core/dataarray.py:3061: FutureWarning: xarray.ufuncs is deprecated. Instead, use numpy ufuncs directly.\n",
      "  da = self.__array_wrap__(f(self.variable.data, *args, **kwargs))\n"
     ]
    },
    {
     "name": "stdout",
     "output_type": "stream",
     "text": [
      "Skipped saving ce_fair_no_pulse.\n",
      "Saving /mnt/CIL_integration/menu_results_96k_integration/integration_AMEL/2020/unmasked/adding_up_euler_gwr_eta2.0_rho0.0_damage_function_coefficients.nc4\n",
      "Skipped saving ce_fair_pulse.\n",
      "Saving /mnt/CIL_integration/menu_results_96k_integration/integration_AMEL/2020/unmasked/adding_up_euler_gwr_eta2.0_rho0.0_damage_function_coefficients.nc4\n",
      "Saving /mnt/CIL_integration/menu_results_96k_integration/integration_AMEL/2020/unmasked/adding_up_euler_gwr_eta2.0_rho0.0_damage_function_coefficients.nc4\n",
      "Saving /mnt/CIL_integration/menu_results_96k_integration/integration_AMEL/2020/unmasked/adding_up_euler_gwr_eta2.0_rho0.0_marginal_damages.nc4\n",
      "Skipped saving ce_fair_no_pulse.\n",
      "Saving /mnt/CIL_integration/menu_results_96k_integration/integration_AMEL/2020/unmasked/adding_up_euler_gwr_eta2.0_rho0.0_damage_function_coefficients.nc4\n"
     ]
    },
    {
     "name": "stderr",
     "output_type": "stream",
     "text": [
      "/home/kschwarz/repos/integration/dscim/menu/main_recipe.py:1174: FutureWarning: xarray.ufuncs is deprecated. Instead, use numpy ufuncs directly.\n",
      "  rhos = xr.ufuncs.expm1(xr.DataArray(self.rho, coords=[cons_pc.year]))\n",
      "/home/kschwarz/miniconda3/envs/dscim2/lib/python3.8/site-packages/xarray/core/dataarray.py:3061: FutureWarning: xarray.ufuncs is deprecated. Instead, use numpy ufuncs directly.\n",
      "  da = self.__array_wrap__(f(self.variable.data, *args, **kwargs))\n",
      "/home/kschwarz/repos/integration/dscim/menu/main_recipe.py:1174: FutureWarning: xarray.ufuncs is deprecated. Instead, use numpy ufuncs directly.\n",
      "  rhos = xr.ufuncs.expm1(xr.DataArray(self.rho, coords=[cons_pc.year]))\n",
      "/home/kschwarz/miniconda3/envs/dscim2/lib/python3.8/site-packages/xarray/core/dataarray.py:3061: FutureWarning: xarray.ufuncs is deprecated. Instead, use numpy ufuncs directly.\n",
      "  da = self.__array_wrap__(f(self.variable.data, *args, **kwargs))\n",
      "/home/kschwarz/repos/integration/dscim/menu/main_recipe.py:1174: FutureWarning: xarray.ufuncs is deprecated. Instead, use numpy ufuncs directly.\n",
      "  rhos = xr.ufuncs.expm1(xr.DataArray(self.rho, coords=[cons_pc.year]))\n",
      "/home/kschwarz/miniconda3/envs/dscim2/lib/python3.8/site-packages/xarray/core/dataarray.py:3061: FutureWarning: xarray.ufuncs is deprecated. Instead, use numpy ufuncs directly.\n",
      "  da = self.__array_wrap__(f(self.variable.data, *args, **kwargs))\n",
      "/home/kschwarz/repos/integration/dscim/menu/main_recipe.py:1174: FutureWarning: xarray.ufuncs is deprecated. Instead, use numpy ufuncs directly.\n",
      "  rhos = xr.ufuncs.expm1(xr.DataArray(self.rho, coords=[cons_pc.year]))\n",
      "/home/kschwarz/miniconda3/envs/dscim2/lib/python3.8/site-packages/xarray/core/dataarray.py:3061: FutureWarning: xarray.ufuncs is deprecated. Instead, use numpy ufuncs directly.\n",
      "  da = self.__array_wrap__(f(self.variable.data, *args, **kwargs))\n",
      "/home/kschwarz/repos/integration/dscim/menu/main_recipe.py:1174: FutureWarning: xarray.ufuncs is deprecated. Instead, use numpy ufuncs directly.\n",
      "  rhos = xr.ufuncs.expm1(xr.DataArray(self.rho, coords=[cons_pc.year]))\n",
      "/home/kschwarz/miniconda3/envs/dscim2/lib/python3.8/site-packages/xarray/core/dataarray.py:3061: FutureWarning: xarray.ufuncs is deprecated. Instead, use numpy ufuncs directly.\n",
      "  da = self.__array_wrap__(f(self.variable.data, *args, **kwargs))\n"
     ]
    },
    {
     "name": "stdout",
     "output_type": "stream",
     "text": [
      "Saving /mnt/CIL_integration/menu_results_96k_integration/integration_AMEL/2020/unmasked/adding_up_euler_gwr_eta2.0_rho0.0_uncollapsed_sccs.nc4\n",
      "Saving /mnt/CIL_integration/menu_results_96k_integration/integration_AMEL/2020/unmasked/adding_up_euler_gwr_eta2.0_rho0.0_scc.nc4\n",
      "Results available: /mnt/CIL_integration/menu_results_96k_integration/integration_AMEL/2020/unmasked/\n",
      "remaining combos: 4\n",
      "=========================================================\n",
      "('integration_AMEL', 2020, 'euler_gwr', 'equity', 6, 'unmasked', ['simulation'])\n",
      "damages ~ -1 + anomaly + np.power(anomaly, 2)\n",
      "Risk-aversion CEs found at /shares/gcp/integration/CE_library_epa_vsl_bc39/integration_AMEL//risk_aversion_ce_no_cc_eta2.0.zarr. These are being loaded...\n",
      "Subsetting on {'ssp': ['SSP2', 'SSP3', 'SSP4']} keys.\n",
      "Subsetting on {'ssp': ['SSP2', 'SSP3', 'SSP4']} keys.\n",
      "Subsetting on {'ssp': ['SSP2', 'SSP3', 'SSP4']} keys.\n",
      "Risk-aversion CEs found at /shares/gcp/integration/CE_library_epa_vsl_bc39/integration_AMEL//risk_aversion_ce_cc_eta2.0.zarr. These are being loaded...\n",
      "Subsetting on {'ssp': ['SSP2', 'SSP3', 'SSP4']} keys.\n",
      "Saving /mnt/CIL_integration/menu_results_96k_integration/integration_AMEL/2020/unmasked/equity_euler_gwr_eta2.0_rho0.0_damage_function_points.csv\n",
      "Extrapolating global consumption.\n"
     ]
    },
    {
     "name": "stderr",
     "output_type": "stream",
     "text": [
      "/home/kschwarz/miniconda3/envs/dscim2/lib/python3.8/site-packages/dask/core.py:119: RuntimeWarning: invalid value encountered in true_divide\n",
      "  return func(*(_execute_task(a, cache) for a in args))\n",
      "/home/kschwarz/miniconda3/envs/dscim2/lib/python3.8/site-packages/dask/core.py:119: RuntimeWarning: invalid value encountered in true_divide\n",
      "  return func(*(_execute_task(a, cache) for a in args))\n"
     ]
    },
    {
     "name": "stdout",
     "output_type": "stream",
     "text": [
      "Skipped saving global_consumption.\n",
      "Saving /mnt/CIL_integration/menu_results_96k_integration/integration_AMEL/2020/unmasked/equity_euler_gwr_eta2.0_rho0.0_damage_function_fit.nc4\n",
      "\n",
      " Executing \n",
      "        Running equity\n",
      "        sector: integration_AMEL\n",
      "        discounting: euler_gwr\n",
      "        eta: 2.0\n",
      "        rho: 0.0\n",
      "        \n",
      "Processing damage functions ...\n",
      "Existing damage functions not found. Damage points will be loaded.\n"
     ]
    },
    {
     "name": "stderr",
     "output_type": "stream",
     "text": [
      "/home/kschwarz/miniconda3/envs/dscim2/lib/python3.8/site-packages/dask/core.py:119: RuntimeWarning: invalid value encountered in true_divide\n",
      "  return func(*(_execute_task(a, cache) for a in args))\n"
     ]
    },
    {
     "name": "stdout",
     "output_type": "stream",
     "text": [
      "Saving /mnt/CIL_integration/menu_results_96k_integration/integration_AMEL/2020/unmasked/equity_euler_gwr_eta2.0_rho0.0_damage_function_coefficients.nc4\n"
     ]
    },
    {
     "name": "stderr",
     "output_type": "stream",
     "text": [
      "/home/kschwarz/miniconda3/envs/dscim2/lib/python3.8/site-packages/dask/core.py:119: RuntimeWarning: invalid value encountered in true_divide\n",
      "  return func(*(_execute_task(a, cache) for a in args))\n"
     ]
    },
    {
     "name": "stdout",
     "output_type": "stream",
     "text": [
      "Saving /mnt/CIL_integration/menu_results_96k_integration/integration_AMEL/2020/unmasked/equity_euler_gwr_eta2.0_rho0.0_damage_function_fit.nc4\n",
      "Processing SCC calculation ...\n"
     ]
    },
    {
     "name": "stderr",
     "output_type": "stream",
     "text": [
      "/home/kschwarz/miniconda3/envs/dscim2/lib/python3.8/site-packages/dask/core.py:119: RuntimeWarning: invalid value encountered in true_divide\n",
      "  return func(*(_execute_task(a, cache) for a in args))\n"
     ]
    },
    {
     "name": "stdout",
     "output_type": "stream",
     "text": [
      "Saving /mnt/CIL_integration/menu_results_96k_integration/integration_AMEL/2020/unmasked/equity_euler_gwr_eta2.0_rho0.0_damage_function_coefficients.nc4\n"
     ]
    },
    {
     "name": "stderr",
     "output_type": "stream",
     "text": [
      "/home/kschwarz/miniconda3/envs/dscim2/lib/python3.8/site-packages/dask/core.py:119: RuntimeWarning: invalid value encountered in true_divide\n",
      "  return func(*(_execute_task(a, cache) for a in args))\n"
     ]
    },
    {
     "name": "stdout",
     "output_type": "stream",
     "text": [
      "Skipped saving ce_fair_no_pulse.\n"
     ]
    },
    {
     "name": "stderr",
     "output_type": "stream",
     "text": [
      "/home/kschwarz/repos/integration/dscim/menu/main_recipe.py:1174: FutureWarning: xarray.ufuncs is deprecated. Instead, use numpy ufuncs directly.\n",
      "  rhos = xr.ufuncs.expm1(xr.DataArray(self.rho, coords=[cons_pc.year]))\n",
      "/home/kschwarz/miniconda3/envs/dscim2/lib/python3.8/site-packages/xarray/core/dataarray.py:3061: FutureWarning: xarray.ufuncs is deprecated. Instead, use numpy ufuncs directly.\n",
      "  da = self.__array_wrap__(f(self.variable.data, *args, **kwargs))\n",
      "/home/kschwarz/repos/integration/dscim/menu/main_recipe.py:1174: FutureWarning: xarray.ufuncs is deprecated. Instead, use numpy ufuncs directly.\n",
      "  rhos = xr.ufuncs.expm1(xr.DataArray(self.rho, coords=[cons_pc.year]))\n",
      "/home/kschwarz/miniconda3/envs/dscim2/lib/python3.8/site-packages/xarray/core/dataarray.py:3061: FutureWarning: xarray.ufuncs is deprecated. Instead, use numpy ufuncs directly.\n",
      "  da = self.__array_wrap__(f(self.variable.data, *args, **kwargs))\n",
      "/home/kschwarz/repos/integration/dscim/menu/main_recipe.py:1174: FutureWarning: xarray.ufuncs is deprecated. Instead, use numpy ufuncs directly.\n",
      "  rhos = xr.ufuncs.expm1(xr.DataArray(self.rho, coords=[cons_pc.year]))\n",
      "/home/kschwarz/miniconda3/envs/dscim2/lib/python3.8/site-packages/xarray/core/dataarray.py:3061: FutureWarning: xarray.ufuncs is deprecated. Instead, use numpy ufuncs directly.\n",
      "  da = self.__array_wrap__(f(self.variable.data, *args, **kwargs))\n"
     ]
    },
    {
     "name": "stdout",
     "output_type": "stream",
     "text": [
      "Saving /mnt/CIL_integration/menu_results_96k_integration/integration_AMEL/2020/unmasked/equity_euler_gwr_eta2.0_rho0.0_damage_function_coefficients.nc4\n"
     ]
    },
    {
     "name": "stderr",
     "output_type": "stream",
     "text": [
      "/home/kschwarz/miniconda3/envs/dscim2/lib/python3.8/site-packages/dask/core.py:119: RuntimeWarning: invalid value encountered in true_divide\n",
      "  return func(*(_execute_task(a, cache) for a in args))\n",
      "/home/kschwarz/repos/integration/dscim/menu/main_recipe.py:1174: FutureWarning: xarray.ufuncs is deprecated. Instead, use numpy ufuncs directly.\n",
      "  rhos = xr.ufuncs.expm1(xr.DataArray(self.rho, coords=[cons_pc.year]))\n",
      "/home/kschwarz/miniconda3/envs/dscim2/lib/python3.8/site-packages/xarray/core/dataarray.py:3061: FutureWarning: xarray.ufuncs is deprecated. Instead, use numpy ufuncs directly.\n",
      "  da = self.__array_wrap__(f(self.variable.data, *args, **kwargs))\n"
     ]
    },
    {
     "name": "stdout",
     "output_type": "stream",
     "text": [
      "Saving /mnt/CIL_integration/menu_results_96k_integration/integration_AMEL/2020/unmasked/equity_euler_gwr_eta2.0_rho0.0_discount_factors.nc4\n"
     ]
    },
    {
     "name": "stderr",
     "output_type": "stream",
     "text": [
      "/home/kschwarz/miniconda3/envs/dscim2/lib/python3.8/site-packages/dask/core.py:119: RuntimeWarning: invalid value encountered in true_divide\n",
      "  return func(*(_execute_task(a, cache) for a in args))\n",
      "/home/kschwarz/miniconda3/envs/dscim2/lib/python3.8/site-packages/dask/core.py:119: RuntimeWarning: invalid value encountered in true_divide\n",
      "  return func(*(_execute_task(a, cache) for a in args))\n",
      "/home/kschwarz/miniconda3/envs/dscim2/lib/python3.8/site-packages/dask/core.py:119: RuntimeWarning: invalid value encountered in true_divide\n",
      "  return func(*(_execute_task(a, cache) for a in args))\n",
      "/home/kschwarz/miniconda3/envs/dscim2/lib/python3.8/site-packages/dask/core.py:119: RuntimeWarning: invalid value encountered in true_divide\n",
      "  return func(*(_execute_task(a, cache) for a in args))\n",
      "/home/kschwarz/miniconda3/envs/dscim2/lib/python3.8/site-packages/dask/core.py:119: RuntimeWarning: invalid value encountered in true_divide\n",
      "  return func(*(_execute_task(a, cache) for a in args))\n"
     ]
    },
    {
     "name": "stdout",
     "output_type": "stream",
     "text": [
      "Skipped saving ce_fair_no_pulse.\n",
      "Saving /mnt/CIL_integration/menu_results_96k_integration/integration_AMEL/2020/unmasked/equity_euler_gwr_eta2.0_rho0.0_damage_function_coefficients.nc4\n"
     ]
    },
    {
     "name": "stderr",
     "output_type": "stream",
     "text": [
      "/home/kschwarz/miniconda3/envs/dscim2/lib/python3.8/site-packages/dask/core.py:119: RuntimeWarning: invalid value encountered in true_divide\n",
      "  return func(*(_execute_task(a, cache) for a in args))\n",
      "/home/kschwarz/miniconda3/envs/dscim2/lib/python3.8/site-packages/dask/core.py:119: RuntimeWarning: invalid value encountered in true_divide\n",
      "  return func(*(_execute_task(a, cache) for a in args))\n"
     ]
    },
    {
     "name": "stdout",
     "output_type": "stream",
     "text": [
      "Skipped saving ce_fair_pulse.\n",
      "Saving /mnt/CIL_integration/menu_results_96k_integration/integration_AMEL/2020/unmasked/equity_euler_gwr_eta2.0_rho0.0_damage_function_coefficients.nc4\n"
     ]
    },
    {
     "name": "stderr",
     "output_type": "stream",
     "text": [
      "/home/kschwarz/miniconda3/envs/dscim2/lib/python3.8/site-packages/dask/core.py:119: RuntimeWarning: invalid value encountered in true_divide\n",
      "  return func(*(_execute_task(a, cache) for a in args))\n"
     ]
    },
    {
     "name": "stdout",
     "output_type": "stream",
     "text": [
      "Saving /mnt/CIL_integration/menu_results_96k_integration/integration_AMEL/2020/unmasked/equity_euler_gwr_eta2.0_rho0.0_damage_function_coefficients.nc4\n"
     ]
    },
    {
     "name": "stderr",
     "output_type": "stream",
     "text": [
      "/home/kschwarz/miniconda3/envs/dscim2/lib/python3.8/site-packages/dask/core.py:119: RuntimeWarning: invalid value encountered in true_divide\n",
      "  return func(*(_execute_task(a, cache) for a in args))\n"
     ]
    },
    {
     "name": "stdout",
     "output_type": "stream",
     "text": [
      "Saving /mnt/CIL_integration/menu_results_96k_integration/integration_AMEL/2020/unmasked/equity_euler_gwr_eta2.0_rho0.0_marginal_damages.nc4\n"
     ]
    },
    {
     "name": "stderr",
     "output_type": "stream",
     "text": [
      "/home/kschwarz/miniconda3/envs/dscim2/lib/python3.8/site-packages/dask/core.py:119: RuntimeWarning: invalid value encountered in true_divide\n",
      "  return func(*(_execute_task(a, cache) for a in args))\n",
      "/home/kschwarz/miniconda3/envs/dscim2/lib/python3.8/site-packages/dask/core.py:119: RuntimeWarning: invalid value encountered in true_divide\n",
      "  return func(*(_execute_task(a, cache) for a in args))\n",
      "/home/kschwarz/miniconda3/envs/dscim2/lib/python3.8/site-packages/dask/core.py:119: RuntimeWarning: invalid value encountered in true_divide\n",
      "  return func(*(_execute_task(a, cache) for a in args))\n",
      "/home/kschwarz/miniconda3/envs/dscim2/lib/python3.8/site-packages/dask/core.py:119: RuntimeWarning: invalid value encountered in true_divide\n",
      "  return func(*(_execute_task(a, cache) for a in args))\n",
      "/home/kschwarz/miniconda3/envs/dscim2/lib/python3.8/site-packages/dask/core.py:119: RuntimeWarning: invalid value encountered in true_divide\n",
      "  return func(*(_execute_task(a, cache) for a in args))\n",
      "/home/kschwarz/miniconda3/envs/dscim2/lib/python3.8/site-packages/dask/core.py:119: RuntimeWarning: invalid value encountered in true_divide\n",
      "  return func(*(_execute_task(a, cache) for a in args))\n",
      "/home/kschwarz/miniconda3/envs/dscim2/lib/python3.8/site-packages/dask/core.py:119: RuntimeWarning: invalid value encountered in true_divide\n",
      "  return func(*(_execute_task(a, cache) for a in args))\n"
     ]
    },
    {
     "name": "stdout",
     "output_type": "stream",
     "text": [
      "Skipped saving ce_fair_no_pulse.\n"
     ]
    },
    {
     "name": "stderr",
     "output_type": "stream",
     "text": [
      "/home/kschwarz/repos/integration/dscim/menu/main_recipe.py:1174: FutureWarning: xarray.ufuncs is deprecated. Instead, use numpy ufuncs directly.\n",
      "  rhos = xr.ufuncs.expm1(xr.DataArray(self.rho, coords=[cons_pc.year]))\n",
      "/home/kschwarz/miniconda3/envs/dscim2/lib/python3.8/site-packages/xarray/core/dataarray.py:3061: FutureWarning: xarray.ufuncs is deprecated. Instead, use numpy ufuncs directly.\n",
      "  da = self.__array_wrap__(f(self.variable.data, *args, **kwargs))\n",
      "/home/kschwarz/repos/integration/dscim/menu/main_recipe.py:1174: FutureWarning: xarray.ufuncs is deprecated. Instead, use numpy ufuncs directly.\n",
      "  rhos = xr.ufuncs.expm1(xr.DataArray(self.rho, coords=[cons_pc.year]))\n",
      "/home/kschwarz/miniconda3/envs/dscim2/lib/python3.8/site-packages/xarray/core/dataarray.py:3061: FutureWarning: xarray.ufuncs is deprecated. Instead, use numpy ufuncs directly.\n",
      "  da = self.__array_wrap__(f(self.variable.data, *args, **kwargs))\n",
      "/home/kschwarz/repos/integration/dscim/menu/main_recipe.py:1174: FutureWarning: xarray.ufuncs is deprecated. Instead, use numpy ufuncs directly.\n",
      "  rhos = xr.ufuncs.expm1(xr.DataArray(self.rho, coords=[cons_pc.year]))\n",
      "/home/kschwarz/miniconda3/envs/dscim2/lib/python3.8/site-packages/xarray/core/dataarray.py:3061: FutureWarning: xarray.ufuncs is deprecated. Instead, use numpy ufuncs directly.\n",
      "  da = self.__array_wrap__(f(self.variable.data, *args, **kwargs))\n"
     ]
    },
    {
     "name": "stdout",
     "output_type": "stream",
     "text": [
      "Saving /mnt/CIL_integration/menu_results_96k_integration/integration_AMEL/2020/unmasked/equity_euler_gwr_eta2.0_rho0.0_damage_function_coefficients.nc4\n"
     ]
    },
    {
     "name": "stderr",
     "output_type": "stream",
     "text": [
      "/home/kschwarz/miniconda3/envs/dscim2/lib/python3.8/site-packages/dask/core.py:119: RuntimeWarning: invalid value encountered in true_divide\n",
      "  return func(*(_execute_task(a, cache) for a in args))\n",
      "/home/kschwarz/repos/integration/dscim/menu/main_recipe.py:1174: FutureWarning: xarray.ufuncs is deprecated. Instead, use numpy ufuncs directly.\n",
      "  rhos = xr.ufuncs.expm1(xr.DataArray(self.rho, coords=[cons_pc.year]))\n",
      "/home/kschwarz/miniconda3/envs/dscim2/lib/python3.8/site-packages/xarray/core/dataarray.py:3061: FutureWarning: xarray.ufuncs is deprecated. Instead, use numpy ufuncs directly.\n",
      "  da = self.__array_wrap__(f(self.variable.data, *args, **kwargs))\n"
     ]
    },
    {
     "name": "stdout",
     "output_type": "stream",
     "text": [
      "Saving /mnt/CIL_integration/menu_results_96k_integration/integration_AMEL/2020/unmasked/equity_euler_gwr_eta2.0_rho0.0_uncollapsed_sccs.nc4\n"
     ]
    },
    {
     "name": "stderr",
     "output_type": "stream",
     "text": [
      "/home/kschwarz/repos/integration/dscim/menu/main_recipe.py:1174: FutureWarning: xarray.ufuncs is deprecated. Instead, use numpy ufuncs directly.\n",
      "  rhos = xr.ufuncs.expm1(xr.DataArray(self.rho, coords=[cons_pc.year]))\n",
      "/home/kschwarz/miniconda3/envs/dscim2/lib/python3.8/site-packages/xarray/core/dataarray.py:3061: FutureWarning: xarray.ufuncs is deprecated. Instead, use numpy ufuncs directly.\n",
      "  da = self.__array_wrap__(f(self.variable.data, *args, **kwargs))\n",
      "/home/kschwarz/miniconda3/envs/dscim2/lib/python3.8/site-packages/dask/core.py:119: RuntimeWarning: invalid value encountered in true_divide\n",
      "  return func(*(_execute_task(a, cache) for a in args))\n",
      "/home/kschwarz/miniconda3/envs/dscim2/lib/python3.8/site-packages/dask/core.py:119: RuntimeWarning: invalid value encountered in true_divide\n",
      "  return func(*(_execute_task(a, cache) for a in args))\n",
      "/home/kschwarz/miniconda3/envs/dscim2/lib/python3.8/site-packages/dask/core.py:119: RuntimeWarning: invalid value encountered in true_divide\n",
      "  return func(*(_execute_task(a, cache) for a in args))\n",
      "/home/kschwarz/miniconda3/envs/dscim2/lib/python3.8/site-packages/dask/core.py:119: RuntimeWarning: invalid value encountered in true_divide\n",
      "  return func(*(_execute_task(a, cache) for a in args))\n",
      "/home/kschwarz/miniconda3/envs/dscim2/lib/python3.8/site-packages/dask/core.py:119: RuntimeWarning: invalid value encountered in true_divide\n",
      "  return func(*(_execute_task(a, cache) for a in args))\n",
      "/home/kschwarz/miniconda3/envs/dscim2/lib/python3.8/site-packages/dask/core.py:119: RuntimeWarning: invalid value encountered in true_divide\n",
      "  return func(*(_execute_task(a, cache) for a in args))\n",
      "/home/kschwarz/miniconda3/envs/dscim2/lib/python3.8/site-packages/dask/core.py:119: RuntimeWarning: invalid value encountered in true_divide\n",
      "  return func(*(_execute_task(a, cache) for a in args))\n",
      "/home/kschwarz/miniconda3/envs/dscim2/lib/python3.8/site-packages/dask/core.py:119: RuntimeWarning: invalid value encountered in true_divide\n",
      "  return func(*(_execute_task(a, cache) for a in args))\n",
      "/home/kschwarz/miniconda3/envs/dscim2/lib/python3.8/site-packages/dask/core.py:119: RuntimeWarning: invalid value encountered in true_divide\n",
      "  return func(*(_execute_task(a, cache) for a in args))\n",
      "/home/kschwarz/miniconda3/envs/dscim2/lib/python3.8/site-packages/dask/core.py:119: RuntimeWarning: invalid value encountered in true_divide\n",
      "  return func(*(_execute_task(a, cache) for a in args))\n",
      "/home/kschwarz/miniconda3/envs/dscim2/lib/python3.8/site-packages/dask/core.py:119: RuntimeWarning: invalid value encountered in true_divide\n",
      "  return func(*(_execute_task(a, cache) for a in args))\n",
      "/home/kschwarz/miniconda3/envs/dscim2/lib/python3.8/site-packages/dask/core.py:119: RuntimeWarning: invalid value encountered in true_divide\n",
      "  return func(*(_execute_task(a, cache) for a in args))\n",
      "/home/kschwarz/miniconda3/envs/dscim2/lib/python3.8/site-packages/dask/core.py:119: RuntimeWarning: invalid value encountered in true_divide\n",
      "  return func(*(_execute_task(a, cache) for a in args))\n",
      "/home/kschwarz/miniconda3/envs/dscim2/lib/python3.8/site-packages/dask/core.py:119: RuntimeWarning: invalid value encountered in true_divide\n",
      "  return func(*(_execute_task(a, cache) for a in args))\n",
      "/home/kschwarz/miniconda3/envs/dscim2/lib/python3.8/site-packages/dask/core.py:119: RuntimeWarning: invalid value encountered in true_divide\n",
      "  return func(*(_execute_task(a, cache) for a in args))\n",
      "/home/kschwarz/miniconda3/envs/dscim2/lib/python3.8/site-packages/dask/core.py:119: RuntimeWarning: invalid value encountered in true_divide\n",
      "  return func(*(_execute_task(a, cache) for a in args))\n",
      "/home/kschwarz/miniconda3/envs/dscim2/lib/python3.8/site-packages/dask/core.py:119: RuntimeWarning: invalid value encountered in true_divide\n",
      "  return func(*(_execute_task(a, cache) for a in args))\n",
      "/home/kschwarz/miniconda3/envs/dscim2/lib/python3.8/site-packages/dask/core.py:119: RuntimeWarning: invalid value encountered in true_divide\n",
      "  return func(*(_execute_task(a, cache) for a in args))\n",
      "/home/kschwarz/miniconda3/envs/dscim2/lib/python3.8/site-packages/dask/core.py:119: RuntimeWarning: invalid value encountered in true_divide\n",
      "  return func(*(_execute_task(a, cache) for a in args))\n",
      "/home/kschwarz/miniconda3/envs/dscim2/lib/python3.8/site-packages/dask/core.py:119: RuntimeWarning: invalid value encountered in true_divide\n",
      "  return func(*(_execute_task(a, cache) for a in args))\n"
     ]
    },
    {
     "name": "stdout",
     "output_type": "stream",
     "text": [
      "Saving /mnt/CIL_integration/menu_results_96k_integration/integration_AMEL/2020/unmasked/equity_euler_gwr_eta2.0_rho0.0_scc.nc4\n"
     ]
    },
    {
     "name": "stderr",
     "output_type": "stream",
     "text": [
      "/home/kschwarz/miniconda3/envs/dscim2/lib/python3.8/site-packages/dask/core.py:119: RuntimeWarning: invalid value encountered in true_divide\n",
      "  return func(*(_execute_task(a, cache) for a in args))\n",
      "/home/kschwarz/miniconda3/envs/dscim2/lib/python3.8/site-packages/dask/core.py:119: RuntimeWarning: invalid value encountered in true_divide\n",
      "  return func(*(_execute_task(a, cache) for a in args))\n",
      "/home/kschwarz/miniconda3/envs/dscim2/lib/python3.8/site-packages/dask/core.py:119: RuntimeWarning: invalid value encountered in true_divide\n",
      "  return func(*(_execute_task(a, cache) for a in args))\n",
      "/home/kschwarz/miniconda3/envs/dscim2/lib/python3.8/site-packages/dask/core.py:119: RuntimeWarning: invalid value encountered in true_divide\n",
      "  return func(*(_execute_task(a, cache) for a in args))\n",
      "/home/kschwarz/miniconda3/envs/dscim2/lib/python3.8/site-packages/dask/core.py:119: RuntimeWarning: invalid value encountered in true_divide\n",
      "  return func(*(_execute_task(a, cache) for a in args))\n"
     ]
    },
    {
     "name": "stdout",
     "output_type": "stream",
     "text": [
      "Results available: /mnt/CIL_integration/menu_results_96k_integration/integration_AMEL/2020/unmasked/\n",
      "remaining combos: 3\n",
      "=========================================================\n",
      "('integration_AMEL', 2020, 'euler_ramsey', 'risk_aversion', 6, 'unmasked', ['simulation'])\n",
      "damages ~ -1 + anomaly + np.power(anomaly, 2)\n",
      "Risk-aversion CEs found at /shares/gcp/integration/CE_library_epa_vsl_bc39/integration_AMEL//risk_aversion_ce_no_cc_eta2.0.zarr. These are being loaded...\n",
      "Subsetting on {'ssp': ['SSP2', 'SSP3', 'SSP4']} keys.\n",
      "Risk-aversion CEs found at /shares/gcp/integration/CE_library_epa_vsl_bc39/integration_AMEL//risk_aversion_ce_cc_eta2.0.zarr. These are being loaded...\n",
      "Subsetting on {'ssp': ['SSP2', 'SSP3', 'SSP4']} keys.\n",
      "Subsetting on {'ssp': ['SSP2', 'SSP3', 'SSP4']} keys.\n",
      "Saving /mnt/CIL_integration/menu_results_96k_integration/integration_AMEL/2020/unmasked/risk_aversion_euler_ramsey_eta2.0_rho0.0_damage_function_points.csv\n",
      "Subsetting on {'ssp': ['SSP2', 'SSP3', 'SSP4']} keys.\n",
      "Extrapolating global consumption.\n",
      "End-of-century growth rates are not capped.\n",
      "Skipped saving global_consumption.\n",
      "Saving /mnt/CIL_integration/menu_results_96k_integration/integration_AMEL/2020/unmasked/risk_aversion_euler_ramsey_eta2.0_rho0.0_damage_function_fit.nc4\n",
      "\n",
      " Executing \n",
      "        Running risk_aversion\n",
      "        sector: integration_AMEL\n",
      "        discounting: euler_ramsey\n",
      "        eta: 2.0\n",
      "        rho: 0.0\n",
      "        \n",
      "Processing damage functions ...\n",
      "Existing damage functions not found. Damage points will be loaded.\n",
      "Saving /mnt/CIL_integration/menu_results_96k_integration/integration_AMEL/2020/unmasked/risk_aversion_euler_ramsey_eta2.0_rho0.0_damage_function_coefficients.nc4\n",
      "Saving /mnt/CIL_integration/menu_results_96k_integration/integration_AMEL/2020/unmasked/risk_aversion_euler_ramsey_eta2.0_rho0.0_damage_function_fit.nc4\n",
      "Processing SCC calculation ...\n",
      "Saving /mnt/CIL_integration/menu_results_96k_integration/integration_AMEL/2020/unmasked/risk_aversion_euler_ramsey_eta2.0_rho0.0_damage_function_coefficients.nc4\n",
      "Skipped saving ce_fair_no_pulse.\n"
     ]
    },
    {
     "name": "stderr",
     "output_type": "stream",
     "text": [
      "/home/kschwarz/repos/integration/dscim/menu/main_recipe.py:1174: FutureWarning: xarray.ufuncs is deprecated. Instead, use numpy ufuncs directly.\n",
      "  rhos = xr.ufuncs.expm1(xr.DataArray(self.rho, coords=[cons_pc.year]))\n",
      "/home/kschwarz/miniconda3/envs/dscim2/lib/python3.8/site-packages/xarray/core/dataarray.py:3061: FutureWarning: xarray.ufuncs is deprecated. Instead, use numpy ufuncs directly.\n",
      "  da = self.__array_wrap__(f(self.variable.data, *args, **kwargs))\n",
      "/home/kschwarz/repos/integration/dscim/menu/main_recipe.py:1174: FutureWarning: xarray.ufuncs is deprecated. Instead, use numpy ufuncs directly.\n",
      "  rhos = xr.ufuncs.expm1(xr.DataArray(self.rho, coords=[cons_pc.year]))\n",
      "/home/kschwarz/miniconda3/envs/dscim2/lib/python3.8/site-packages/xarray/core/dataarray.py:3061: FutureWarning: xarray.ufuncs is deprecated. Instead, use numpy ufuncs directly.\n",
      "  da = self.__array_wrap__(f(self.variable.data, *args, **kwargs))\n",
      "/home/kschwarz/repos/integration/dscim/menu/main_recipe.py:1174: FutureWarning: xarray.ufuncs is deprecated. Instead, use numpy ufuncs directly.\n",
      "  rhos = xr.ufuncs.expm1(xr.DataArray(self.rho, coords=[cons_pc.year]))\n",
      "/home/kschwarz/miniconda3/envs/dscim2/lib/python3.8/site-packages/xarray/core/dataarray.py:3061: FutureWarning: xarray.ufuncs is deprecated. Instead, use numpy ufuncs directly.\n",
      "  da = self.__array_wrap__(f(self.variable.data, *args, **kwargs))\n"
     ]
    },
    {
     "name": "stdout",
     "output_type": "stream",
     "text": [
      "Saving /mnt/CIL_integration/menu_results_96k_integration/integration_AMEL/2020/unmasked/risk_aversion_euler_ramsey_eta2.0_rho0.0_damage_function_coefficients.nc4\n"
     ]
    },
    {
     "name": "stderr",
     "output_type": "stream",
     "text": [
      "/home/kschwarz/repos/integration/dscim/menu/main_recipe.py:1174: FutureWarning: xarray.ufuncs is deprecated. Instead, use numpy ufuncs directly.\n",
      "  rhos = xr.ufuncs.expm1(xr.DataArray(self.rho, coords=[cons_pc.year]))\n",
      "/home/kschwarz/miniconda3/envs/dscim2/lib/python3.8/site-packages/xarray/core/dataarray.py:3061: FutureWarning: xarray.ufuncs is deprecated. Instead, use numpy ufuncs directly.\n",
      "  da = self.__array_wrap__(f(self.variable.data, *args, **kwargs))\n"
     ]
    },
    {
     "name": "stdout",
     "output_type": "stream",
     "text": [
      "Saving /mnt/CIL_integration/menu_results_96k_integration/integration_AMEL/2020/unmasked/risk_aversion_euler_ramsey_eta2.0_rho0.0_discount_factors.nc4\n",
      "Skipped saving ce_fair_no_pulse.\n",
      "Saving /mnt/CIL_integration/menu_results_96k_integration/integration_AMEL/2020/unmasked/risk_aversion_euler_ramsey_eta2.0_rho0.0_damage_function_coefficients.nc4\n",
      "Skipped saving ce_fair_pulse.\n",
      "Saving /mnt/CIL_integration/menu_results_96k_integration/integration_AMEL/2020/unmasked/risk_aversion_euler_ramsey_eta2.0_rho0.0_damage_function_coefficients.nc4\n",
      "Saving /mnt/CIL_integration/menu_results_96k_integration/integration_AMEL/2020/unmasked/risk_aversion_euler_ramsey_eta2.0_rho0.0_damage_function_coefficients.nc4\n",
      "Saving /mnt/CIL_integration/menu_results_96k_integration/integration_AMEL/2020/unmasked/risk_aversion_euler_ramsey_eta2.0_rho0.0_marginal_damages.nc4\n",
      "Skipped saving ce_fair_no_pulse.\n"
     ]
    },
    {
     "name": "stderr",
     "output_type": "stream",
     "text": [
      "/home/kschwarz/repos/integration/dscim/menu/main_recipe.py:1174: FutureWarning: xarray.ufuncs is deprecated. Instead, use numpy ufuncs directly.\n",
      "  rhos = xr.ufuncs.expm1(xr.DataArray(self.rho, coords=[cons_pc.year]))\n",
      "/home/kschwarz/miniconda3/envs/dscim2/lib/python3.8/site-packages/xarray/core/dataarray.py:3061: FutureWarning: xarray.ufuncs is deprecated. Instead, use numpy ufuncs directly.\n",
      "  da = self.__array_wrap__(f(self.variable.data, *args, **kwargs))\n",
      "/home/kschwarz/repos/integration/dscim/menu/main_recipe.py:1174: FutureWarning: xarray.ufuncs is deprecated. Instead, use numpy ufuncs directly.\n",
      "  rhos = xr.ufuncs.expm1(xr.DataArray(self.rho, coords=[cons_pc.year]))\n",
      "/home/kschwarz/miniconda3/envs/dscim2/lib/python3.8/site-packages/xarray/core/dataarray.py:3061: FutureWarning: xarray.ufuncs is deprecated. Instead, use numpy ufuncs directly.\n",
      "  da = self.__array_wrap__(f(self.variable.data, *args, **kwargs))\n",
      "/home/kschwarz/repos/integration/dscim/menu/main_recipe.py:1174: FutureWarning: xarray.ufuncs is deprecated. Instead, use numpy ufuncs directly.\n",
      "  rhos = xr.ufuncs.expm1(xr.DataArray(self.rho, coords=[cons_pc.year]))\n",
      "/home/kschwarz/miniconda3/envs/dscim2/lib/python3.8/site-packages/xarray/core/dataarray.py:3061: FutureWarning: xarray.ufuncs is deprecated. Instead, use numpy ufuncs directly.\n",
      "  da = self.__array_wrap__(f(self.variable.data, *args, **kwargs))\n"
     ]
    },
    {
     "name": "stdout",
     "output_type": "stream",
     "text": [
      "Saving /mnt/CIL_integration/menu_results_96k_integration/integration_AMEL/2020/unmasked/risk_aversion_euler_ramsey_eta2.0_rho0.0_damage_function_coefficients.nc4\n"
     ]
    },
    {
     "name": "stderr",
     "output_type": "stream",
     "text": [
      "/home/kschwarz/repos/integration/dscim/menu/main_recipe.py:1174: FutureWarning: xarray.ufuncs is deprecated. Instead, use numpy ufuncs directly.\n",
      "  rhos = xr.ufuncs.expm1(xr.DataArray(self.rho, coords=[cons_pc.year]))\n",
      "/home/kschwarz/miniconda3/envs/dscim2/lib/python3.8/site-packages/xarray/core/dataarray.py:3061: FutureWarning: xarray.ufuncs is deprecated. Instead, use numpy ufuncs directly.\n",
      "  da = self.__array_wrap__(f(self.variable.data, *args, **kwargs))\n",
      "/home/kschwarz/repos/integration/dscim/menu/main_recipe.py:1174: FutureWarning: xarray.ufuncs is deprecated. Instead, use numpy ufuncs directly.\n",
      "  rhos = xr.ufuncs.expm1(xr.DataArray(self.rho, coords=[cons_pc.year]))\n",
      "/home/kschwarz/miniconda3/envs/dscim2/lib/python3.8/site-packages/xarray/core/dataarray.py:3061: FutureWarning: xarray.ufuncs is deprecated. Instead, use numpy ufuncs directly.\n",
      "  da = self.__array_wrap__(f(self.variable.data, *args, **kwargs))\n"
     ]
    },
    {
     "name": "stdout",
     "output_type": "stream",
     "text": [
      "Saving /mnt/CIL_integration/menu_results_96k_integration/integration_AMEL/2020/unmasked/risk_aversion_euler_ramsey_eta2.0_rho0.0_uncollapsed_sccs.nc4\n",
      "Saving /mnt/CIL_integration/menu_results_96k_integration/integration_AMEL/2020/unmasked/risk_aversion_euler_ramsey_eta2.0_rho0.0_scc.nc4\n",
      "Results available: /mnt/CIL_integration/menu_results_96k_integration/integration_AMEL/2020/unmasked/\n",
      "remaining combos: 2\n",
      "=========================================================\n",
      "('integration_AMEL', 2020, 'euler_ramsey', 'adding_up', 6, 'unmasked', ['simulation'])\n",
      "damages ~ -1 + anomaly + np.power(anomaly, 2)\n",
      "Adding up aggregated damages found at /shares/gcp/integration/CE_library_epa_vsl_bc39/integration_AMEL//adding_up_ce_cc_eta2.0.zarr, /shares/gcp/integration/CE_library_epa_vsl_bc39/integration_AMEL//adding_up_ce_no_cc_eta2.0.zarr. These are being loaded...\n",
      "Subsetting on {'ssp': ['SSP2', 'SSP3', 'SSP4']} keys.\n",
      "Subsetting on {'ssp': ['SSP2', 'SSP3', 'SSP4']} keys.\n",
      "Saving /mnt/CIL_integration/menu_results_96k_integration/integration_AMEL/2020/unmasked/adding_up_euler_ramsey_eta2.0_rho0.0_damage_function_points.csv\n",
      "Subsetting on {'ssp': ['SSP2', 'SSP3', 'SSP4']} keys.\n",
      "Extrapolating global consumption.\n",
      "End-of-century growth rates are not capped.\n",
      "Skipped saving global_consumption.\n",
      "Saving /mnt/CIL_integration/menu_results_96k_integration/integration_AMEL/2020/unmasked/adding_up_euler_ramsey_eta2.0_rho0.0_damage_function_fit.nc4\n",
      "\n",
      " Executing \n",
      "        Running adding_up\n",
      "        sector: integration_AMEL\n",
      "        discounting: euler_ramsey\n",
      "        eta: 2.0\n",
      "        rho: 0.0\n",
      "        \n",
      "Processing damage functions ...\n",
      "Existing damage functions not found. Damage points will be loaded.\n",
      "Saving /mnt/CIL_integration/menu_results_96k_integration/integration_AMEL/2020/unmasked/adding_up_euler_ramsey_eta2.0_rho0.0_damage_function_coefficients.nc4\n",
      "Saving /mnt/CIL_integration/menu_results_96k_integration/integration_AMEL/2020/unmasked/adding_up_euler_ramsey_eta2.0_rho0.0_damage_function_fit.nc4\n",
      "Processing SCC calculation ...\n",
      "Saving /mnt/CIL_integration/menu_results_96k_integration/integration_AMEL/2020/unmasked/adding_up_euler_ramsey_eta2.0_rho0.0_damage_function_coefficients.nc4\n",
      "Skipped saving ce_fair_no_pulse.\n"
     ]
    },
    {
     "name": "stderr",
     "output_type": "stream",
     "text": [
      "/home/kschwarz/repos/integration/dscim/menu/main_recipe.py:1174: FutureWarning: xarray.ufuncs is deprecated. Instead, use numpy ufuncs directly.\n",
      "  rhos = xr.ufuncs.expm1(xr.DataArray(self.rho, coords=[cons_pc.year]))\n",
      "/home/kschwarz/miniconda3/envs/dscim2/lib/python3.8/site-packages/xarray/core/dataarray.py:3061: FutureWarning: xarray.ufuncs is deprecated. Instead, use numpy ufuncs directly.\n",
      "  da = self.__array_wrap__(f(self.variable.data, *args, **kwargs))\n",
      "/home/kschwarz/repos/integration/dscim/menu/main_recipe.py:1174: FutureWarning: xarray.ufuncs is deprecated. Instead, use numpy ufuncs directly.\n",
      "  rhos = xr.ufuncs.expm1(xr.DataArray(self.rho, coords=[cons_pc.year]))\n",
      "/home/kschwarz/miniconda3/envs/dscim2/lib/python3.8/site-packages/xarray/core/dataarray.py:3061: FutureWarning: xarray.ufuncs is deprecated. Instead, use numpy ufuncs directly.\n",
      "  da = self.__array_wrap__(f(self.variable.data, *args, **kwargs))\n",
      "/home/kschwarz/repos/integration/dscim/menu/main_recipe.py:1174: FutureWarning: xarray.ufuncs is deprecated. Instead, use numpy ufuncs directly.\n",
      "  rhos = xr.ufuncs.expm1(xr.DataArray(self.rho, coords=[cons_pc.year]))\n",
      "/home/kschwarz/miniconda3/envs/dscim2/lib/python3.8/site-packages/xarray/core/dataarray.py:3061: FutureWarning: xarray.ufuncs is deprecated. Instead, use numpy ufuncs directly.\n",
      "  da = self.__array_wrap__(f(self.variable.data, *args, **kwargs))\n"
     ]
    },
    {
     "name": "stdout",
     "output_type": "stream",
     "text": [
      "Saving /mnt/CIL_integration/menu_results_96k_integration/integration_AMEL/2020/unmasked/adding_up_euler_ramsey_eta2.0_rho0.0_damage_function_coefficients.nc4\n"
     ]
    },
    {
     "name": "stderr",
     "output_type": "stream",
     "text": [
      "/home/kschwarz/repos/integration/dscim/menu/main_recipe.py:1174: FutureWarning: xarray.ufuncs is deprecated. Instead, use numpy ufuncs directly.\n",
      "  rhos = xr.ufuncs.expm1(xr.DataArray(self.rho, coords=[cons_pc.year]))\n",
      "/home/kschwarz/miniconda3/envs/dscim2/lib/python3.8/site-packages/xarray/core/dataarray.py:3061: FutureWarning: xarray.ufuncs is deprecated. Instead, use numpy ufuncs directly.\n",
      "  da = self.__array_wrap__(f(self.variable.data, *args, **kwargs))\n"
     ]
    },
    {
     "name": "stdout",
     "output_type": "stream",
     "text": [
      "Saving /mnt/CIL_integration/menu_results_96k_integration/integration_AMEL/2020/unmasked/adding_up_euler_ramsey_eta2.0_rho0.0_discount_factors.nc4\n",
      "Skipped saving ce_fair_no_pulse.\n",
      "Saving /mnt/CIL_integration/menu_results_96k_integration/integration_AMEL/2020/unmasked/adding_up_euler_ramsey_eta2.0_rho0.0_damage_function_coefficients.nc4\n",
      "Skipped saving ce_fair_pulse.\n",
      "Saving /mnt/CIL_integration/menu_results_96k_integration/integration_AMEL/2020/unmasked/adding_up_euler_ramsey_eta2.0_rho0.0_damage_function_coefficients.nc4\n",
      "Saving /mnt/CIL_integration/menu_results_96k_integration/integration_AMEL/2020/unmasked/adding_up_euler_ramsey_eta2.0_rho0.0_damage_function_coefficients.nc4\n",
      "Saving /mnt/CIL_integration/menu_results_96k_integration/integration_AMEL/2020/unmasked/adding_up_euler_ramsey_eta2.0_rho0.0_marginal_damages.nc4\n",
      "Skipped saving ce_fair_no_pulse.\n"
     ]
    },
    {
     "name": "stderr",
     "output_type": "stream",
     "text": [
      "/home/kschwarz/repos/integration/dscim/menu/main_recipe.py:1174: FutureWarning: xarray.ufuncs is deprecated. Instead, use numpy ufuncs directly.\n",
      "  rhos = xr.ufuncs.expm1(xr.DataArray(self.rho, coords=[cons_pc.year]))\n",
      "/home/kschwarz/miniconda3/envs/dscim2/lib/python3.8/site-packages/xarray/core/dataarray.py:3061: FutureWarning: xarray.ufuncs is deprecated. Instead, use numpy ufuncs directly.\n",
      "  da = self.__array_wrap__(f(self.variable.data, *args, **kwargs))\n",
      "/home/kschwarz/repos/integration/dscim/menu/main_recipe.py:1174: FutureWarning: xarray.ufuncs is deprecated. Instead, use numpy ufuncs directly.\n",
      "  rhos = xr.ufuncs.expm1(xr.DataArray(self.rho, coords=[cons_pc.year]))\n",
      "/home/kschwarz/miniconda3/envs/dscim2/lib/python3.8/site-packages/xarray/core/dataarray.py:3061: FutureWarning: xarray.ufuncs is deprecated. Instead, use numpy ufuncs directly.\n",
      "  da = self.__array_wrap__(f(self.variable.data, *args, **kwargs))\n",
      "/home/kschwarz/repos/integration/dscim/menu/main_recipe.py:1174: FutureWarning: xarray.ufuncs is deprecated. Instead, use numpy ufuncs directly.\n",
      "  rhos = xr.ufuncs.expm1(xr.DataArray(self.rho, coords=[cons_pc.year]))\n",
      "/home/kschwarz/miniconda3/envs/dscim2/lib/python3.8/site-packages/xarray/core/dataarray.py:3061: FutureWarning: xarray.ufuncs is deprecated. Instead, use numpy ufuncs directly.\n",
      "  da = self.__array_wrap__(f(self.variable.data, *args, **kwargs))\n"
     ]
    },
    {
     "name": "stdout",
     "output_type": "stream",
     "text": [
      "Saving /mnt/CIL_integration/menu_results_96k_integration/integration_AMEL/2020/unmasked/adding_up_euler_ramsey_eta2.0_rho0.0_damage_function_coefficients.nc4\n"
     ]
    },
    {
     "name": "stderr",
     "output_type": "stream",
     "text": [
      "/home/kschwarz/repos/integration/dscim/menu/main_recipe.py:1174: FutureWarning: xarray.ufuncs is deprecated. Instead, use numpy ufuncs directly.\n",
      "  rhos = xr.ufuncs.expm1(xr.DataArray(self.rho, coords=[cons_pc.year]))\n",
      "/home/kschwarz/miniconda3/envs/dscim2/lib/python3.8/site-packages/xarray/core/dataarray.py:3061: FutureWarning: xarray.ufuncs is deprecated. Instead, use numpy ufuncs directly.\n",
      "  da = self.__array_wrap__(f(self.variable.data, *args, **kwargs))\n",
      "/home/kschwarz/repos/integration/dscim/menu/main_recipe.py:1174: FutureWarning: xarray.ufuncs is deprecated. Instead, use numpy ufuncs directly.\n",
      "  rhos = xr.ufuncs.expm1(xr.DataArray(self.rho, coords=[cons_pc.year]))\n",
      "/home/kschwarz/miniconda3/envs/dscim2/lib/python3.8/site-packages/xarray/core/dataarray.py:3061: FutureWarning: xarray.ufuncs is deprecated. Instead, use numpy ufuncs directly.\n",
      "  da = self.__array_wrap__(f(self.variable.data, *args, **kwargs))\n"
     ]
    },
    {
     "name": "stdout",
     "output_type": "stream",
     "text": [
      "Saving /mnt/CIL_integration/menu_results_96k_integration/integration_AMEL/2020/unmasked/adding_up_euler_ramsey_eta2.0_rho0.0_uncollapsed_sccs.nc4\n",
      "Saving /mnt/CIL_integration/menu_results_96k_integration/integration_AMEL/2020/unmasked/adding_up_euler_ramsey_eta2.0_rho0.0_scc.nc4\n",
      "Results available: /mnt/CIL_integration/menu_results_96k_integration/integration_AMEL/2020/unmasked/\n",
      "remaining combos: 1\n",
      "=========================================================\n",
      "('integration_AMEL', 2020, 'euler_ramsey', 'equity', 6, 'unmasked', ['simulation'])\n",
      "damages ~ -1 + anomaly + np.power(anomaly, 2)\n",
      "Risk-aversion CEs found at /shares/gcp/integration/CE_library_epa_vsl_bc39/integration_AMEL//risk_aversion_ce_no_cc_eta2.0.zarr. These are being loaded...\n",
      "Subsetting on {'ssp': ['SSP2', 'SSP3', 'SSP4']} keys.\n",
      "Subsetting on {'ssp': ['SSP2', 'SSP3', 'SSP4']} keys.\n",
      "Subsetting on {'ssp': ['SSP2', 'SSP3', 'SSP4']} keys.\n",
      "Risk-aversion CEs found at /shares/gcp/integration/CE_library_epa_vsl_bc39/integration_AMEL//risk_aversion_ce_cc_eta2.0.zarr. These are being loaded...\n",
      "Subsetting on {'ssp': ['SSP2', 'SSP3', 'SSP4']} keys.\n",
      "Saving /mnt/CIL_integration/menu_results_96k_integration/integration_AMEL/2020/unmasked/equity_euler_ramsey_eta2.0_rho0.0_damage_function_points.csv\n",
      "Extrapolating global consumption.\n"
     ]
    },
    {
     "name": "stderr",
     "output_type": "stream",
     "text": [
      "/home/kschwarz/miniconda3/envs/dscim2/lib/python3.8/site-packages/dask/core.py:119: RuntimeWarning: invalid value encountered in true_divide\n",
      "  return func(*(_execute_task(a, cache) for a in args))\n"
     ]
    },
    {
     "name": "stdout",
     "output_type": "stream",
     "text": [
      "Skipped saving global_consumption.\n"
     ]
    },
    {
     "name": "stderr",
     "output_type": "stream",
     "text": [
      "/home/kschwarz/miniconda3/envs/dscim2/lib/python3.8/site-packages/dask/core.py:119: RuntimeWarning: invalid value encountered in true_divide\n",
      "  return func(*(_execute_task(a, cache) for a in args))\n"
     ]
    },
    {
     "name": "stdout",
     "output_type": "stream",
     "text": [
      "Saving /mnt/CIL_integration/menu_results_96k_integration/integration_AMEL/2020/unmasked/equity_euler_ramsey_eta2.0_rho0.0_damage_function_fit.nc4\n",
      "\n",
      " Executing \n",
      "        Running equity\n",
      "        sector: integration_AMEL\n",
      "        discounting: euler_ramsey\n",
      "        eta: 2.0\n",
      "        rho: 0.0\n",
      "        \n",
      "Processing damage functions ...\n",
      "Existing damage functions not found. Damage points will be loaded.\n"
     ]
    },
    {
     "name": "stderr",
     "output_type": "stream",
     "text": [
      "/home/kschwarz/miniconda3/envs/dscim2/lib/python3.8/site-packages/dask/core.py:119: RuntimeWarning: invalid value encountered in true_divide\n",
      "  return func(*(_execute_task(a, cache) for a in args))\n"
     ]
    },
    {
     "name": "stdout",
     "output_type": "stream",
     "text": [
      "Saving /mnt/CIL_integration/menu_results_96k_integration/integration_AMEL/2020/unmasked/equity_euler_ramsey_eta2.0_rho0.0_damage_function_coefficients.nc4\n"
     ]
    },
    {
     "name": "stderr",
     "output_type": "stream",
     "text": [
      "/home/kschwarz/miniconda3/envs/dscim2/lib/python3.8/site-packages/dask/core.py:119: RuntimeWarning: invalid value encountered in true_divide\n",
      "  return func(*(_execute_task(a, cache) for a in args))\n"
     ]
    },
    {
     "name": "stdout",
     "output_type": "stream",
     "text": [
      "Saving /mnt/CIL_integration/menu_results_96k_integration/integration_AMEL/2020/unmasked/equity_euler_ramsey_eta2.0_rho0.0_damage_function_fit.nc4\n",
      "Processing SCC calculation ...\n"
     ]
    },
    {
     "name": "stderr",
     "output_type": "stream",
     "text": [
      "/home/kschwarz/miniconda3/envs/dscim2/lib/python3.8/site-packages/dask/core.py:119: RuntimeWarning: invalid value encountered in true_divide\n",
      "  return func(*(_execute_task(a, cache) for a in args))\n"
     ]
    },
    {
     "name": "stdout",
     "output_type": "stream",
     "text": [
      "Saving /mnt/CIL_integration/menu_results_96k_integration/integration_AMEL/2020/unmasked/equity_euler_ramsey_eta2.0_rho0.0_damage_function_coefficients.nc4\n"
     ]
    },
    {
     "name": "stderr",
     "output_type": "stream",
     "text": [
      "/home/kschwarz/miniconda3/envs/dscim2/lib/python3.8/site-packages/dask/core.py:119: RuntimeWarning: invalid value encountered in true_divide\n",
      "  return func(*(_execute_task(a, cache) for a in args))\n"
     ]
    },
    {
     "name": "stdout",
     "output_type": "stream",
     "text": [
      "Skipped saving ce_fair_no_pulse.\n"
     ]
    },
    {
     "name": "stderr",
     "output_type": "stream",
     "text": [
      "/home/kschwarz/repos/integration/dscim/menu/main_recipe.py:1174: FutureWarning: xarray.ufuncs is deprecated. Instead, use numpy ufuncs directly.\n",
      "  rhos = xr.ufuncs.expm1(xr.DataArray(self.rho, coords=[cons_pc.year]))\n",
      "/home/kschwarz/miniconda3/envs/dscim2/lib/python3.8/site-packages/xarray/core/dataarray.py:3061: FutureWarning: xarray.ufuncs is deprecated. Instead, use numpy ufuncs directly.\n",
      "  da = self.__array_wrap__(f(self.variable.data, *args, **kwargs))\n",
      "/home/kschwarz/repos/integration/dscim/menu/main_recipe.py:1174: FutureWarning: xarray.ufuncs is deprecated. Instead, use numpy ufuncs directly.\n",
      "  rhos = xr.ufuncs.expm1(xr.DataArray(self.rho, coords=[cons_pc.year]))\n",
      "/home/kschwarz/miniconda3/envs/dscim2/lib/python3.8/site-packages/xarray/core/dataarray.py:3061: FutureWarning: xarray.ufuncs is deprecated. Instead, use numpy ufuncs directly.\n",
      "  da = self.__array_wrap__(f(self.variable.data, *args, **kwargs))\n",
      "/home/kschwarz/repos/integration/dscim/menu/main_recipe.py:1174: FutureWarning: xarray.ufuncs is deprecated. Instead, use numpy ufuncs directly.\n",
      "  rhos = xr.ufuncs.expm1(xr.DataArray(self.rho, coords=[cons_pc.year]))\n",
      "/home/kschwarz/miniconda3/envs/dscim2/lib/python3.8/site-packages/xarray/core/dataarray.py:3061: FutureWarning: xarray.ufuncs is deprecated. Instead, use numpy ufuncs directly.\n",
      "  da = self.__array_wrap__(f(self.variable.data, *args, **kwargs))\n"
     ]
    },
    {
     "name": "stdout",
     "output_type": "stream",
     "text": [
      "Saving /mnt/CIL_integration/menu_results_96k_integration/integration_AMEL/2020/unmasked/equity_euler_ramsey_eta2.0_rho0.0_damage_function_coefficients.nc4\n"
     ]
    },
    {
     "name": "stderr",
     "output_type": "stream",
     "text": [
      "/home/kschwarz/miniconda3/envs/dscim2/lib/python3.8/site-packages/dask/core.py:119: RuntimeWarning: invalid value encountered in true_divide\n",
      "  return func(*(_execute_task(a, cache) for a in args))\n",
      "/home/kschwarz/repos/integration/dscim/menu/main_recipe.py:1174: FutureWarning: xarray.ufuncs is deprecated. Instead, use numpy ufuncs directly.\n",
      "  rhos = xr.ufuncs.expm1(xr.DataArray(self.rho, coords=[cons_pc.year]))\n",
      "/home/kschwarz/miniconda3/envs/dscim2/lib/python3.8/site-packages/xarray/core/dataarray.py:3061: FutureWarning: xarray.ufuncs is deprecated. Instead, use numpy ufuncs directly.\n",
      "  da = self.__array_wrap__(f(self.variable.data, *args, **kwargs))\n"
     ]
    },
    {
     "name": "stdout",
     "output_type": "stream",
     "text": [
      "Saving /mnt/CIL_integration/menu_results_96k_integration/integration_AMEL/2020/unmasked/equity_euler_ramsey_eta2.0_rho0.0_discount_factors.nc4\n"
     ]
    },
    {
     "name": "stderr",
     "output_type": "stream",
     "text": [
      "/home/kschwarz/miniconda3/envs/dscim2/lib/python3.8/site-packages/dask/core.py:119: RuntimeWarning: invalid value encountered in true_divide\n",
      "  return func(*(_execute_task(a, cache) for a in args))\n",
      "/home/kschwarz/miniconda3/envs/dscim2/lib/python3.8/site-packages/dask/core.py:119: RuntimeWarning: invalid value encountered in true_divide\n",
      "  return func(*(_execute_task(a, cache) for a in args))\n",
      "/home/kschwarz/miniconda3/envs/dscim2/lib/python3.8/site-packages/dask/core.py:119: RuntimeWarning: invalid value encountered in true_divide\n",
      "  return func(*(_execute_task(a, cache) for a in args))\n",
      "/home/kschwarz/miniconda3/envs/dscim2/lib/python3.8/site-packages/dask/core.py:119: RuntimeWarning: invalid value encountered in true_divide\n",
      "  return func(*(_execute_task(a, cache) for a in args))\n",
      "/home/kschwarz/miniconda3/envs/dscim2/lib/python3.8/site-packages/dask/core.py:119: RuntimeWarning: invalid value encountered in true_divide\n",
      "  return func(*(_execute_task(a, cache) for a in args))\n",
      "/home/kschwarz/miniconda3/envs/dscim2/lib/python3.8/site-packages/dask/core.py:119: RuntimeWarning: invalid value encountered in true_divide\n",
      "  return func(*(_execute_task(a, cache) for a in args))\n",
      "/home/kschwarz/miniconda3/envs/dscim2/lib/python3.8/site-packages/dask/core.py:119: RuntimeWarning: invalid value encountered in true_divide\n",
      "  return func(*(_execute_task(a, cache) for a in args))\n",
      "/home/kschwarz/miniconda3/envs/dscim2/lib/python3.8/site-packages/dask/core.py:119: RuntimeWarning: invalid value encountered in true_divide\n",
      "  return func(*(_execute_task(a, cache) for a in args))\n",
      "/home/kschwarz/miniconda3/envs/dscim2/lib/python3.8/site-packages/dask/core.py:119: RuntimeWarning: invalid value encountered in true_divide\n",
      "  return func(*(_execute_task(a, cache) for a in args))\n",
      "/home/kschwarz/miniconda3/envs/dscim2/lib/python3.8/site-packages/dask/core.py:119: RuntimeWarning: invalid value encountered in true_divide\n",
      "  return func(*(_execute_task(a, cache) for a in args))\n",
      "/home/kschwarz/miniconda3/envs/dscim2/lib/python3.8/site-packages/dask/core.py:119: RuntimeWarning: invalid value encountered in true_divide\n",
      "  return func(*(_execute_task(a, cache) for a in args))\n"
     ]
    },
    {
     "name": "stdout",
     "output_type": "stream",
     "text": [
      "Skipped saving ce_fair_no_pulse.\n",
      "Saving /mnt/CIL_integration/menu_results_96k_integration/integration_AMEL/2020/unmasked/equity_euler_ramsey_eta2.0_rho0.0_damage_function_coefficients.nc4\n"
     ]
    },
    {
     "name": "stderr",
     "output_type": "stream",
     "text": [
      "/home/kschwarz/miniconda3/envs/dscim2/lib/python3.8/site-packages/dask/core.py:119: RuntimeWarning: invalid value encountered in true_divide\n",
      "  return func(*(_execute_task(a, cache) for a in args))\n"
     ]
    },
    {
     "name": "stdout",
     "output_type": "stream",
     "text": [
      "Skipped saving ce_fair_pulse.\n",
      "Saving /mnt/CIL_integration/menu_results_96k_integration/integration_AMEL/2020/unmasked/equity_euler_ramsey_eta2.0_rho0.0_damage_function_coefficients.nc4\n"
     ]
    },
    {
     "name": "stderr",
     "output_type": "stream",
     "text": [
      "/home/kschwarz/miniconda3/envs/dscim2/lib/python3.8/site-packages/dask/core.py:119: RuntimeWarning: invalid value encountered in true_divide\n",
      "  return func(*(_execute_task(a, cache) for a in args))\n"
     ]
    },
    {
     "name": "stdout",
     "output_type": "stream",
     "text": [
      "Saving /mnt/CIL_integration/menu_results_96k_integration/integration_AMEL/2020/unmasked/equity_euler_ramsey_eta2.0_rho0.0_damage_function_coefficients.nc4\n"
     ]
    },
    {
     "name": "stderr",
     "output_type": "stream",
     "text": [
      "/home/kschwarz/miniconda3/envs/dscim2/lib/python3.8/site-packages/dask/core.py:119: RuntimeWarning: invalid value encountered in true_divide\n",
      "  return func(*(_execute_task(a, cache) for a in args))\n"
     ]
    },
    {
     "name": "stdout",
     "output_type": "stream",
     "text": [
      "Saving /mnt/CIL_integration/menu_results_96k_integration/integration_AMEL/2020/unmasked/equity_euler_ramsey_eta2.0_rho0.0_marginal_damages.nc4\n"
     ]
    },
    {
     "name": "stderr",
     "output_type": "stream",
     "text": [
      "/home/kschwarz/miniconda3/envs/dscim2/lib/python3.8/site-packages/dask/core.py:119: RuntimeWarning: invalid value encountered in true_divide\n",
      "  return func(*(_execute_task(a, cache) for a in args))\n",
      "/home/kschwarz/miniconda3/envs/dscim2/lib/python3.8/site-packages/dask/core.py:119: RuntimeWarning: invalid value encountered in true_divide\n",
      "  return func(*(_execute_task(a, cache) for a in args))\n",
      "/home/kschwarz/miniconda3/envs/dscim2/lib/python3.8/site-packages/dask/core.py:119: RuntimeWarning: invalid value encountered in true_divide\n",
      "  return func(*(_execute_task(a, cache) for a in args))\n",
      "/home/kschwarz/miniconda3/envs/dscim2/lib/python3.8/site-packages/dask/core.py:119: RuntimeWarning: invalid value encountered in true_divide\n",
      "  return func(*(_execute_task(a, cache) for a in args))\n",
      "/home/kschwarz/miniconda3/envs/dscim2/lib/python3.8/site-packages/dask/core.py:119: RuntimeWarning: invalid value encountered in true_divide\n",
      "  return func(*(_execute_task(a, cache) for a in args))\n",
      "/home/kschwarz/miniconda3/envs/dscim2/lib/python3.8/site-packages/dask/core.py:119: RuntimeWarning: invalid value encountered in true_divide\n",
      "  return func(*(_execute_task(a, cache) for a in args))\n",
      "/home/kschwarz/miniconda3/envs/dscim2/lib/python3.8/site-packages/dask/core.py:119: RuntimeWarning: invalid value encountered in true_divide\n",
      "  return func(*(_execute_task(a, cache) for a in args))\n",
      "/home/kschwarz/miniconda3/envs/dscim2/lib/python3.8/site-packages/dask/core.py:119: RuntimeWarning: invalid value encountered in true_divide\n",
      "  return func(*(_execute_task(a, cache) for a in args))\n",
      "/home/kschwarz/miniconda3/envs/dscim2/lib/python3.8/site-packages/dask/core.py:119: RuntimeWarning: invalid value encountered in true_divide\n",
      "  return func(*(_execute_task(a, cache) for a in args))\n",
      "/home/kschwarz/miniconda3/envs/dscim2/lib/python3.8/site-packages/dask/core.py:119: RuntimeWarning: invalid value encountered in true_divide\n",
      "  return func(*(_execute_task(a, cache) for a in args))\n",
      "/home/kschwarz/miniconda3/envs/dscim2/lib/python3.8/site-packages/dask/core.py:119: RuntimeWarning: invalid value encountered in true_divide\n",
      "  return func(*(_execute_task(a, cache) for a in args))\n",
      "/home/kschwarz/miniconda3/envs/dscim2/lib/python3.8/site-packages/dask/core.py:119: RuntimeWarning: invalid value encountered in true_divide\n",
      "  return func(*(_execute_task(a, cache) for a in args))\n",
      "/home/kschwarz/miniconda3/envs/dscim2/lib/python3.8/site-packages/dask/core.py:119: RuntimeWarning: invalid value encountered in true_divide\n",
      "  return func(*(_execute_task(a, cache) for a in args))\n",
      "/home/kschwarz/miniconda3/envs/dscim2/lib/python3.8/site-packages/dask/core.py:119: RuntimeWarning: invalid value encountered in true_divide\n",
      "  return func(*(_execute_task(a, cache) for a in args))\n",
      "/home/kschwarz/miniconda3/envs/dscim2/lib/python3.8/site-packages/dask/core.py:119: RuntimeWarning: invalid value encountered in true_divide\n",
      "  return func(*(_execute_task(a, cache) for a in args))\n",
      "/home/kschwarz/miniconda3/envs/dscim2/lib/python3.8/site-packages/dask/core.py:119: RuntimeWarning: invalid value encountered in true_divide\n",
      "  return func(*(_execute_task(a, cache) for a in args))\n",
      "/home/kschwarz/miniconda3/envs/dscim2/lib/python3.8/site-packages/dask/core.py:119: RuntimeWarning: invalid value encountered in true_divide\n",
      "  return func(*(_execute_task(a, cache) for a in args))\n",
      "/home/kschwarz/miniconda3/envs/dscim2/lib/python3.8/site-packages/dask/core.py:119: RuntimeWarning: invalid value encountered in true_divide\n",
      "  return func(*(_execute_task(a, cache) for a in args))\n",
      "/home/kschwarz/miniconda3/envs/dscim2/lib/python3.8/site-packages/dask/core.py:119: RuntimeWarning: invalid value encountered in true_divide\n",
      "  return func(*(_execute_task(a, cache) for a in args))\n",
      "/home/kschwarz/miniconda3/envs/dscim2/lib/python3.8/site-packages/dask/core.py:119: RuntimeWarning: invalid value encountered in true_divide\n",
      "  return func(*(_execute_task(a, cache) for a in args))\n",
      "/home/kschwarz/miniconda3/envs/dscim2/lib/python3.8/site-packages/dask/core.py:119: RuntimeWarning: invalid value encountered in true_divide\n",
      "  return func(*(_execute_task(a, cache) for a in args))\n",
      "/home/kschwarz/miniconda3/envs/dscim2/lib/python3.8/site-packages/dask/core.py:119: RuntimeWarning: invalid value encountered in true_divide\n",
      "  return func(*(_execute_task(a, cache) for a in args))\n",
      "/home/kschwarz/miniconda3/envs/dscim2/lib/python3.8/site-packages/dask/core.py:119: RuntimeWarning: invalid value encountered in true_divide\n",
      "  return func(*(_execute_task(a, cache) for a in args))\n"
     ]
    },
    {
     "name": "stdout",
     "output_type": "stream",
     "text": [
      "Skipped saving ce_fair_no_pulse.\n"
     ]
    },
    {
     "name": "stderr",
     "output_type": "stream",
     "text": [
      "/home/kschwarz/repos/integration/dscim/menu/main_recipe.py:1174: FutureWarning: xarray.ufuncs is deprecated. Instead, use numpy ufuncs directly.\n",
      "  rhos = xr.ufuncs.expm1(xr.DataArray(self.rho, coords=[cons_pc.year]))\n",
      "/home/kschwarz/miniconda3/envs/dscim2/lib/python3.8/site-packages/xarray/core/dataarray.py:3061: FutureWarning: xarray.ufuncs is deprecated. Instead, use numpy ufuncs directly.\n",
      "  da = self.__array_wrap__(f(self.variable.data, *args, **kwargs))\n",
      "/home/kschwarz/repos/integration/dscim/menu/main_recipe.py:1174: FutureWarning: xarray.ufuncs is deprecated. Instead, use numpy ufuncs directly.\n",
      "  rhos = xr.ufuncs.expm1(xr.DataArray(self.rho, coords=[cons_pc.year]))\n",
      "/home/kschwarz/miniconda3/envs/dscim2/lib/python3.8/site-packages/xarray/core/dataarray.py:3061: FutureWarning: xarray.ufuncs is deprecated. Instead, use numpy ufuncs directly.\n",
      "  da = self.__array_wrap__(f(self.variable.data, *args, **kwargs))\n",
      "/home/kschwarz/repos/integration/dscim/menu/main_recipe.py:1174: FutureWarning: xarray.ufuncs is deprecated. Instead, use numpy ufuncs directly.\n",
      "  rhos = xr.ufuncs.expm1(xr.DataArray(self.rho, coords=[cons_pc.year]))\n",
      "/home/kschwarz/miniconda3/envs/dscim2/lib/python3.8/site-packages/xarray/core/dataarray.py:3061: FutureWarning: xarray.ufuncs is deprecated. Instead, use numpy ufuncs directly.\n",
      "  da = self.__array_wrap__(f(self.variable.data, *args, **kwargs))\n"
     ]
    },
    {
     "name": "stdout",
     "output_type": "stream",
     "text": [
      "Saving /mnt/CIL_integration/menu_results_96k_integration/integration_AMEL/2020/unmasked/equity_euler_ramsey_eta2.0_rho0.0_damage_function_coefficients.nc4\n"
     ]
    },
    {
     "name": "stderr",
     "output_type": "stream",
     "text": [
      "/home/kschwarz/miniconda3/envs/dscim2/lib/python3.8/site-packages/dask/core.py:119: RuntimeWarning: invalid value encountered in true_divide\n",
      "  return func(*(_execute_task(a, cache) for a in args))\n",
      "/home/kschwarz/repos/integration/dscim/menu/main_recipe.py:1174: FutureWarning: xarray.ufuncs is deprecated. Instead, use numpy ufuncs directly.\n",
      "  rhos = xr.ufuncs.expm1(xr.DataArray(self.rho, coords=[cons_pc.year]))\n",
      "/home/kschwarz/miniconda3/envs/dscim2/lib/python3.8/site-packages/xarray/core/dataarray.py:3061: FutureWarning: xarray.ufuncs is deprecated. Instead, use numpy ufuncs directly.\n",
      "  da = self.__array_wrap__(f(self.variable.data, *args, **kwargs))\n",
      "/home/kschwarz/repos/integration/dscim/menu/main_recipe.py:1174: FutureWarning: xarray.ufuncs is deprecated. Instead, use numpy ufuncs directly.\n",
      "  rhos = xr.ufuncs.expm1(xr.DataArray(self.rho, coords=[cons_pc.year]))\n",
      "/home/kschwarz/miniconda3/envs/dscim2/lib/python3.8/site-packages/xarray/core/dataarray.py:3061: FutureWarning: xarray.ufuncs is deprecated. Instead, use numpy ufuncs directly.\n",
      "  da = self.__array_wrap__(f(self.variable.data, *args, **kwargs))\n"
     ]
    },
    {
     "name": "stdout",
     "output_type": "stream",
     "text": [
      "Saving /mnt/CIL_integration/menu_results_96k_integration/integration_AMEL/2020/unmasked/equity_euler_ramsey_eta2.0_rho0.0_uncollapsed_sccs.nc4\n"
     ]
    },
    {
     "name": "stderr",
     "output_type": "stream",
     "text": [
      "/home/kschwarz/miniconda3/envs/dscim2/lib/python3.8/site-packages/dask/core.py:119: RuntimeWarning: invalid value encountered in true_divide\n",
      "  return func(*(_execute_task(a, cache) for a in args))\n",
      "/home/kschwarz/miniconda3/envs/dscim2/lib/python3.8/site-packages/dask/core.py:119: RuntimeWarning: invalid value encountered in true_divide\n",
      "  return func(*(_execute_task(a, cache) for a in args))\n",
      "/home/kschwarz/miniconda3/envs/dscim2/lib/python3.8/site-packages/dask/core.py:119: RuntimeWarning: invalid value encountered in true_divide\n",
      "  return func(*(_execute_task(a, cache) for a in args))\n",
      "/home/kschwarz/miniconda3/envs/dscim2/lib/python3.8/site-packages/dask/core.py:119: RuntimeWarning: invalid value encountered in true_divide\n",
      "  return func(*(_execute_task(a, cache) for a in args))\n",
      "/home/kschwarz/miniconda3/envs/dscim2/lib/python3.8/site-packages/dask/core.py:119: RuntimeWarning: invalid value encountered in true_divide\n",
      "  return func(*(_execute_task(a, cache) for a in args))\n",
      "/home/kschwarz/miniconda3/envs/dscim2/lib/python3.8/site-packages/dask/core.py:119: RuntimeWarning: invalid value encountered in true_divide\n",
      "  return func(*(_execute_task(a, cache) for a in args))\n",
      "/home/kschwarz/miniconda3/envs/dscim2/lib/python3.8/site-packages/dask/core.py:119: RuntimeWarning: invalid value encountered in true_divide\n",
      "  return func(*(_execute_task(a, cache) for a in args))\n",
      "/home/kschwarz/miniconda3/envs/dscim2/lib/python3.8/site-packages/dask/core.py:119: RuntimeWarning: invalid value encountered in true_divide\n",
      "  return func(*(_execute_task(a, cache) for a in args))\n",
      "/home/kschwarz/miniconda3/envs/dscim2/lib/python3.8/site-packages/dask/core.py:119: RuntimeWarning: invalid value encountered in true_divide\n",
      "  return func(*(_execute_task(a, cache) for a in args))\n",
      "/home/kschwarz/miniconda3/envs/dscim2/lib/python3.8/site-packages/dask/core.py:119: RuntimeWarning: invalid value encountered in true_divide\n",
      "  return func(*(_execute_task(a, cache) for a in args))\n",
      "/home/kschwarz/miniconda3/envs/dscim2/lib/python3.8/site-packages/dask/core.py:119: RuntimeWarning: invalid value encountered in true_divide\n",
      "  return func(*(_execute_task(a, cache) for a in args))\n",
      "/home/kschwarz/miniconda3/envs/dscim2/lib/python3.8/site-packages/dask/core.py:119: RuntimeWarning: invalid value encountered in true_divide\n",
      "  return func(*(_execute_task(a, cache) for a in args))\n",
      "/home/kschwarz/miniconda3/envs/dscim2/lib/python3.8/site-packages/dask/core.py:119: RuntimeWarning: invalid value encountered in true_divide\n",
      "  return func(*(_execute_task(a, cache) for a in args))\n"
     ]
    },
    {
     "name": "stdout",
     "output_type": "stream",
     "text": [
      "Saving /mnt/CIL_integration/menu_results_96k_integration/integration_AMEL/2020/unmasked/equity_euler_ramsey_eta2.0_rho0.0_scc.nc4\n"
     ]
    },
    {
     "name": "stderr",
     "output_type": "stream",
     "text": [
      "/home/kschwarz/miniconda3/envs/dscim2/lib/python3.8/site-packages/dask/core.py:119: RuntimeWarning: invalid value encountered in true_divide\n",
      "  return func(*(_execute_task(a, cache) for a in args))\n",
      "/home/kschwarz/miniconda3/envs/dscim2/lib/python3.8/site-packages/dask/core.py:119: RuntimeWarning: invalid value encountered in true_divide\n",
      "  return func(*(_execute_task(a, cache) for a in args))\n",
      "/home/kschwarz/miniconda3/envs/dscim2/lib/python3.8/site-packages/dask/core.py:119: RuntimeWarning: invalid value encountered in true_divide\n",
      "  return func(*(_execute_task(a, cache) for a in args))\n",
      "/home/kschwarz/miniconda3/envs/dscim2/lib/python3.8/site-packages/dask/core.py:119: RuntimeWarning: invalid value encountered in true_divide\n",
      "  return func(*(_execute_task(a, cache) for a in args))\n",
      "/home/kschwarz/miniconda3/envs/dscim2/lib/python3.8/site-packages/dask/core.py:119: RuntimeWarning: invalid value encountered in true_divide\n",
      "  return func(*(_execute_task(a, cache) for a in args))\n",
      "/home/kschwarz/miniconda3/envs/dscim2/lib/python3.8/site-packages/dask/core.py:119: RuntimeWarning: invalid value encountered in true_divide\n",
      "  return func(*(_execute_task(a, cache) for a in args))\n",
      "/home/kschwarz/miniconda3/envs/dscim2/lib/python3.8/site-packages/dask/core.py:119: RuntimeWarning: invalid value encountered in true_divide\n",
      "  return func(*(_execute_task(a, cache) for a in args))\n",
      "/home/kschwarz/miniconda3/envs/dscim2/lib/python3.8/site-packages/dask/core.py:119: RuntimeWarning: invalid value encountered in true_divide\n",
      "  return func(*(_execute_task(a, cache) for a in args))\n",
      "/home/kschwarz/miniconda3/envs/dscim2/lib/python3.8/site-packages/dask/core.py:119: RuntimeWarning: invalid value encountered in true_divide\n",
      "  return func(*(_execute_task(a, cache) for a in args))\n",
      "/home/kschwarz/miniconda3/envs/dscim2/lib/python3.8/site-packages/dask/core.py:119: RuntimeWarning: invalid value encountered in true_divide\n",
      "  return func(*(_execute_task(a, cache) for a in args))\n",
      "/home/kschwarz/miniconda3/envs/dscim2/lib/python3.8/site-packages/dask/core.py:119: RuntimeWarning: invalid value encountered in true_divide\n",
      "  return func(*(_execute_task(a, cache) for a in args))\n",
      "/home/kschwarz/miniconda3/envs/dscim2/lib/python3.8/site-packages/dask/core.py:119: RuntimeWarning: invalid value encountered in true_divide\n",
      "  return func(*(_execute_task(a, cache) for a in args))\n",
      "/home/kschwarz/miniconda3/envs/dscim2/lib/python3.8/site-packages/dask/core.py:119: RuntimeWarning: invalid value encountered in true_divide\n",
      "  return func(*(_execute_task(a, cache) for a in args))\n"
     ]
    },
    {
     "name": "stdout",
     "output_type": "stream",
     "text": [
      "Results available: /mnt/CIL_integration/menu_results_96k_integration/integration_AMEL/2020/unmasked/\n",
      "remaining combos: 0\n"
     ]
    }
   ],
   "source": [
    "n_combos = len(combos)\n",
    "\n",
    "while n_combos > 0: \n",
    "    combo = combos[0]\n",
    "    print(\"=========================================================\")\n",
    "    print(combo)\n",
    "    sector = combo[0]\n",
    "    pulse_year = combo[1]\n",
    "    discount_type = combo[2]\n",
    "    menu_option = combo[3]\n",
    "    AR = combo[4]\n",
    "    mask = combo[5]\n",
    "    fair_dims = combo[6]\n",
    "\n",
    "    if len(fair_dims) > 1:\n",
    "        print(fair_dims)\n",
    "        fair_folder = f\"fair_collapsed_{'_'.join([i for i in fair_dims if i!='simulation'])}\"\n",
    "    else:\n",
    "        fair_folder = ''\n",
    "\n",
    "    w = ProWaiter(path_to_config=f'/home/{username}/repos/integration/configs/96k_sims_test.yaml')\n",
    "    save_path=f'/mnt/CIL_integration/menu_results_96k_integration/{sector}/{pulse_year}/{mask}/{fair_folder}'\n",
    "\n",
    "    if mask=='unmasked':\n",
    "        mask = None\n",
    "\n",
    "    kwargs = {'discounting_type' : discount_type,\n",
    "              'sector': sector,\n",
    "              'ce_path' : f'/shares/gcp/integration/CE_library_epa_vsl_bc39/{sector}/',\n",
    "              'save_path' : save_path,\n",
    "              'fair_dims' : fair_dims,\n",
    "              'weitzman_parameter' : weitzman_values,\n",
    "              'pulse_year' : pulse_year,\n",
    "              'ecs_mask_name' : mask,\n",
    "              'eta' : 2.0,\n",
    "              'rho' : 0.0,\n",
    "             }\n",
    "\n",
    "    if \"CAMEL\" in sector:\n",
    "        kwargs.update({\n",
    "            'damage_function_path' : f'/mnt/CIL_integration/damage_function_library/damage_function_library_integration/{sector}'\n",
    "        })\n",
    "\n",
    "    menu_item = w.menu_factory(menu_key=menu_option,\n",
    "                                           sector=sector,\n",
    "                                           kwargs=kwargs\n",
    "                                          )\n",
    "    \n",
    "    print(menu_item.formula)\n",
    "    if \"CAMEL\" not in sector:\n",
    "        menu_item.damage_function_fit\n",
    "        \n",
    "    menu_item.order_plate('scc')\n",
    "        \n",
    "    if global_cons == True:\n",
    "        menu_item.global_consumption_no_pulse.to_netcdf(\n",
    "            f\"{save_path}/{menu_option}_{discount_type}_eta{menu_item.eta}_rho{menu_item.rho}_global_consumption_no_pulse.nc4\")\n",
    "        menu_item.global_consumption.to_netcdf(\n",
    "            f\"{save_path}/{menu_option}_{discount_type}_eta{menu_item.eta}_rho{menu_item.rho}_global_consumption.nc4\")\n",
    "\n",
    "    if marginal_damages==True:\n",
    "        md = (menu_item.global_consumption_no_pulse - menu_item.global_consumption_pulse) * menu_item.climate.conversion\n",
    "        md = md.rename('marginal_damages').to_dataset()\n",
    "        for var in md.variables:\n",
    "            md[var].encoding.clear()\n",
    "        md.chunk({\n",
    "            \"discount_type\":1,\n",
    "             \"weitzman_parameter\":1,\n",
    "             \"ssp\":1,\n",
    "             \"model\":1,\n",
    "             \"gas\":1,\n",
    "             \"year\":10\n",
    "        }).to_zarr(\n",
    "            f'{save_path}/{menu_option}_{discount_type}_eta{menu_item.eta}_rho{menu_item.rho}_uncollapsed_marginal_damages.zarr',\n",
    "            consolidated = True,\n",
    "            mode = \"w\"\n",
    "        )\n",
    "\n",
    "    if factors==True:\n",
    "        \n",
    "        # holding population constant\n",
    "        # from 2100 to 2300 with 2099 values\n",
    "        pop = menu_item.collapsed_pop.sum(\"region\")\n",
    "        pop = pop.reindex(\n",
    "            year=range(pop.year.min().values, menu_item.ext_end_year + 1), method=\"ffill\"\n",
    "        )\n",
    "        \n",
    "        df = menu_item.calculate_discount_factors(\n",
    "            menu_item.global_consumption_no_pulse / pop\n",
    "        ).to_dataset(name = \"discount_factor\")\n",
    "        for var in df.variables:\n",
    "            df[var].encoding.clear()\n",
    "        df.chunk({\n",
    "            \"discount_type\":1,\n",
    "             \"weitzman_parameter\":1,\n",
    "             \"ssp\":1,\n",
    "             \"model\":1,\n",
    "             \"gas\":1,\n",
    "             \"year\":10\n",
    "        }).to_zarr(\n",
    "            f'{save_path}/{menu_option}_{discount_type}_eta{menu_item.eta}_rho{menu_item.rho}_uncollapsed_discount_factors.zarr',\n",
    "            consolidated = True,\n",
    "            mode = \"w\"\n",
    "        )\n",
    "\n",
    "    combos.remove(combo)\n",
    "    n_combos = len(combos)\n",
    "    print(f\"remaining combos: {n_combos}\")"
   ]
  }
 ],
 "metadata": {
  "kernelspec": {
   "display_name": "Python 3 (ipykernel)",
   "language": "python",
   "name": "python3"
  },
  "language_info": {
   "codemirror_mode": {
    "name": "ipython",
    "version": 3
   },
   "file_extension": ".py",
   "mimetype": "text/x-python",
   "name": "python",
   "nbconvert_exporter": "python",
   "pygments_lexer": "ipython3",
   "version": "3.8.0"
  }
 },
 "nbformat": 4,
 "nbformat_minor": 4
}
