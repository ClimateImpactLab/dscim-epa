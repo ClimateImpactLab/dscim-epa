{
 "cells": [
  {
   "cell_type": "markdown",
   "metadata": {
    "tags": []
   },
   "source": [
    "# Data-driven Spatial Climate Impact Model\n",
    "## Version v1.0.0-alpha.4\n",
    "\n",
    "This notebook is a demonstration of how to compute the Social Cost of Carbon using `dscim`. The model offers a \"menu\" of available SCCs for various valuation and discounting type choices, which are offered by a `Waiter`. Once the menu item is selected from the `Waiter`, the SCC is ordered and delivered.\n",
    "\n",
    "\n",
    "### In this release v1.0.0-alpha.4\n",
    "\n",
    "This is an alpha release of `dscim` as it is expected that some input data will change and some additional features will be added. \n",
    " - This release *does not* include any valuation of econometric or climate uncertainty. \n",
    " - This release *does not* include valuation of uncertainty across socioeconomic growth pathways.\n",
    " - `agriculture` and `coastal` damages are in development. Their and `combined` SCCs may experience small changes after this release.\n",
    " - The SCCs presented are \"point estimates\": the central damage function is applied to GMST and GMSL trajectories from the median FaIR climate parameters.\n",
    "\n",
    "\n",
    "### Execution steps:\n",
    "1. Set `save_path` to where you would like to store model run output files.\n",
    "2. Configure the model input file path by calling `configure_dscim(data_path)`. `data_path` only needs to be modified if `repo_setup.sh` was executed outside the repository root directory.\n",
    "3. User makes selections for `sector`, `menu option`, `discount type`, `pulse year`\n",
    "    - Available sectors: \"energy\", \"labor\", \"mortality\", \"coastal\", \"agriculture\", and \"combined\" (this is the integrated SCC)\n",
    "    - Available menu options: \"without uncertainty\"\n",
    "    - Available discount types: \"constant\", \"ramsey\"\n",
    "    - Available pulse years: 2020, 2025, 2030, 2035, 2040, 2045, 2050\n",
    "4. Set up the menu item by calling the `Waiter.menu_factory()` with keyword arguments `kwargs`\n",
    "5. Order the SCC outputs by calling `order_scc()` on the menu item\n"
   ]
  },
  {
   "cell_type": "code",
   "execution_count": 1,
   "metadata": {},
   "outputs": [],
   "source": [
    "import os\n",
    "import numpy as np\n",
    "import pandas as pd\n",
    "import xarray as xr\n",
    "from dscim.utils.generate_yaml import configure_dscim\n",
    "\n",
    "pd.options.display.float_format = '{:.2f}'.format\n"
   ]
  },
  {
   "cell_type": "markdown",
   "metadata": {},
   "source": [
    "## User: configure this section\n"
   ]
  },
  {
   "cell_type": "code",
   "execution_count": null,
   "metadata": {},
   "outputs": [],
   "source": [
    "# specify relative to the repo root if you'd like\n",
    "import dscim\n",
    "PKG_ROOT = os.path.abspath('..')\n",
    "print(PKG_ROOT)"
   ]
  },
  {
   "cell_type": "code",
   "execution_count": null,
   "metadata": {
    "tags": []
   },
   "outputs": [],
   "source": [
    "sector = \n",
    "\n",
    "# where would you like your output files saved?\n",
    "save_path = os.path.join(PKG_ROOT, f'RUN_OUTPUT/{sector}/{pulse_year}/')\n",
    "\n",
    "# modify this only if you downloaded the input data into another folder\n",
    "data_path = os.path.join(PKG_ROOT, \"dscim_input_data\")"
   ]
  },
  {
   "cell_type": "code",
   "execution_count": null,
   "metadata": {
    "tags": []
   },
   "outputs": [],
   "source": [
    "# configure the Waiter to serve up the requested kind of SCCs\n",
    "w = configure_dscim(data_path)"
   ]
  },
  {
   "cell_type": "markdown",
   "metadata": {},
   "source": [
    "# Demonstrate running one sector, menu type, and discount type\n",
    "\n",
    "User configure these settings"
   ]
  },
  {
   "cell_type": "code",
   "execution_count": null,
   "metadata": {
    "tags": []
   },
   "outputs": [],
   "source": [
    "sector = \"combined\"\n",
    "pulse_year = 2020\n",
    "discount_type = \"constant\"\n",
    "menu_option = \"without uncertainty\""
   ]
  },
  {
   "cell_type": "code",
   "execution_count": null,
   "metadata": {
    "tags": []
   },
   "outputs": [],
   "source": [
    "# This section passes the user-defined arguments to the Waiter to retrieve the menu of choice.\n",
    "# Then you can order SCCs off the menu!\n",
    "\n",
    "kwargs = {'discounting_type' : discount_type,\n",
    "          'sector': sector,\n",
    "          'save_path' : save_path.format(sector=sector,pulse_year=pulse_year),\n",
    "          'pulse_year' : pulse_year,\n",
    "          'eta' : 2.0,\n",
    "          'rho' : 0.0\n",
    "         }\n",
    "\n",
    "menu_item = w.menu_factory(menu_key=menu_option,\n",
    "                                       sector=sector,\n",
    "                                       kwargs=kwargs\n",
    "                                      )\n",
    "sccs = menu_item.order_scc().compute()"
   ]
  },
  {
   "cell_type": "markdown",
   "metadata": {},
   "source": [
    "## SCC Results:"
   ]
  },
  {
   "cell_type": "code",
   "execution_count": null,
   "metadata": {
    "tags": []
   },
   "outputs": [],
   "source": [
    "print(f\"Results shown are for '{sector}' sector {menu_option} with {discount_type} discounting for a pulse year of {pulse_year}\")\n",
    "# turn into a table and showcase \n",
    "sccs.to_dataframe().unstack(\"rcp\")"
   ]
  }
 ],
 "metadata": {
  "interpreter": {
   "hash": "953232c768eb7b2eda52f21e5c3f75df97ba20a5b03178819266de02999c9350"
  },
  "kernelspec": {
   "display_name": "Python 3 (ipykernel)",
   "language": "python",
   "name": "python3"
  },
  "language_info": {
   "codemirror_mode": {
    "name": "ipython",
    "version": 3
   },
   "file_extension": ".py",
   "mimetype": "text/x-python",
   "name": "python",
   "nbconvert_exporter": "python",
   "pygments_lexer": "ipython3",
   "version": "3.8.0"
  }
 },
 "nbformat": 4,
 "nbformat_minor": 4
}
