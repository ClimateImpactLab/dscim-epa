{
 "cells": [
  {
   "cell_type": "code",
   "execution_count": null,
   "id": "3160fe66-1b11-4140-8c6e-f93b50ee3254",
   "metadata": {
    "tags": []
   },
   "outputs": [],
   "source": [
    "import xarray as xr\n",
    "import pandas as pd\n",
    "import numpy as np\n",
    "from p_tqdm import p_map\n",
    "from itertools import product\n",
    "import os\n",
    "from pathlib import Path\n",
    "from p_tqdm import p_map\n",
    "from functools import partial"
   ]
  },
  {
   "cell_type": "code",
   "execution_count": null,
   "id": "f06751be-baa8-4147-8fae-ad8ba4614fc8",
   "metadata": {
    "tags": []
   },
   "outputs": [],
   "source": [
    "recipes = ['adding_up', 'risk_aversion']\n",
    "discs = ['constant', 'euler_ramsey']\n",
    "sectors = [\"CAMEL_clipped\"] # [\"coastal\", \"labor_clipped\", \"agriculture_clipped\", 'AMEL_clipped', \"mortality_clipped\", \"energy_clipped\" ] # \"CAMEL_clipped\", \n",
    "mask_names = [\"gdppc_emissions\"] # [\"climate\",\"emissions\",\"gdppc\",\"gdppc_emissions_climate\"]\n",
    "mask_vars =[ f'q{i[0]}_q{i[1]}' for i in [\n",
    "    # [0.001, 0.999],\n",
    "    # [0.005, 0.995],\n",
    "    [0.01, 0.99],\n",
    "    # [0.05, 0.95],\n",
    "]]\n",
    "\n",
    "# years=[2020]\n",
    "years = range(2020,2081,10)\n",
    "etas =  [1.567899395, 2.0, 1.016010255, 1.244459066, 1.421158116,]\n",
    "eta_rhos = {\n",
    "    2.0 : 0.0,\n",
    "    1.016010255 : 9.149608e-05,\n",
    "    1.244459066 : 0.00197263997,\n",
    "    1.421158116 : 0.00461878399,\n",
    "    1.567899395 : 0.00770271076\n",
    "}"
   ]
  },
  {
   "cell_type": "code",
   "execution_count": null,
   "id": "6d9989f6-a4c6-480d-bc6d-993377402373",
   "metadata": {
    "tags": []
   },
   "outputs": [],
   "source": [
    "def resave_file(args):\n",
    "\n",
    "    sector, year, recipe, disc, eta, mask_name, mask_var = args\n",
    "    \n",
    "    indir=f\"/mnt/CIL_integration/gas_test/['CH4', 'CO2_Fossil', 'N2O']/{sector}/{year}\"\n",
    "\n",
    "    ds = xr.open_dataset(\n",
    "        f\"{indir}/unmasked_None/{recipe}_{disc}_eta{eta}_rho{eta_rhos[eta]}_uncollapsed_sccs.nc4\"\n",
    "    )\n",
    "\n",
    "    if mask_name != 'unmasked':\n",
    "        mask = xr.open_dataset(f\"/shares/gcp/integration/rff/climate/masks/CO2_Fossil/{mask_name}_based_masks.nc4\")[mask_var]\n",
    "        ds = ds.where(mask, drop=True)\n",
    "    else:\n",
    "        mask_name = \"unmasked\"\n",
    "        mask_var = \"None\"\n",
    "\n",
    "    # mask and put back together\n",
    "    outpath =  f\"{indir}/{mask_name}_{mask_var}/\"\n",
    "    os.makedirs(outpath, exist_ok = True)\n",
    "    print(f\"{outpath}/{recipe}_{disc}_eta{eta}_rho{eta_rhos[eta]}_uncollapsed_sccs.nc4\")\n",
    "    ds.to_netcdf(f\"{outpath}/{recipe}_{disc}_eta{eta}_rho{eta_rhos[eta]}_uncollapsed_sccs.nc4\")\n",
    "    ds.close()\n"
   ]
  },
  {
   "cell_type": "code",
   "execution_count": null,
   "id": "c5209e10-dd56-498a-964a-84e2cec7f13e",
   "metadata": {
    "tags": []
   },
   "outputs": [],
   "source": [
    "p_map(resave_file,\n",
    "      list(product(sectors, years, recipes, discs, etas, mask_names, mask_vars)),\n",
    "      num_cpus=30\n",
    "     )"
   ]
  }
 ],
 "metadata": {
  "kernelspec": {
   "display_name": "Python 3 (ipykernel)",
   "language": "python",
   "name": "python3"
  },
  "language_info": {
   "codemirror_mode": {
    "name": "ipython",
    "version": 3
   },
   "file_extension": ".py",
   "mimetype": "text/x-python",
   "name": "python",
   "nbconvert_exporter": "python",
   "pygments_lexer": "ipython3",
   "version": "3.8.0"
  }
 },
 "nbformat": 4,
 "nbformat_minor": 5
}
