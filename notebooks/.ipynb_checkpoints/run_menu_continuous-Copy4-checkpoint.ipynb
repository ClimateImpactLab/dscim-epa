{
 "cells": [
  {
   "cell_type": "code",
   "execution_count": null,
   "metadata": {
    "tags": []
   },
   "outputs": [],
   "source": [
    "import os, gc, time\n",
    "import numpy as np\n",
    "import pandas as pd\n",
    "import xarray as xr\n",
    "import matplotlib.pyplot as plt\n",
    "import matplotlib as mpl\n",
    "username = os.getenv('USER')\n",
    "import dask.array as da\n",
    "from dask_jobqueue import SLURMCluster\n",
    "from dask.distributed import Client, progress\n",
    "import dask\n",
    "from collections import OrderedDict\n",
    "dask.config.set(**{'array.slicing.split_large_chunks': False})\n",
    "# dask.config.set({\"distributed.workers.memory.target\": 4})\n",
    "\n",
    "from dscim import ProWaiter\n",
    "from dscim.menu.simple_storage import StackedDamages, EconVars, Climate\n",
    "from dscim.menu.risk_aversion import RiskAversionRecipe\n",
    "from dscim.menu.baseline import Baseline\n",
    "from dscim.menu.equity import EquityRecipe\n",
    "from itertools import product, chain\n",
    "import itertools\n",
    "# import seaborn as sns\n",
    "from dscim.fair.utils import modeler\n",
    "from dscim.fair.estimations import c_equivalence\n",
    "from functools import reduce\n",
    "from pathlib import Path\n",
    "\n",
    "import seaborn as sns\n",
    "from dscim.fair.estimations import compute_damages"
   ]
  },
  {
   "cell_type": "code",
   "execution_count": null,
   "metadata": {
    "tags": []
   },
   "outputs": [],
   "source": [
    "discount_types = [ \"constant\",\"euler_ramsey\",\"euler_gwr\"]\n",
    "menu_options = [\"adding_up\",\"risk_aversion\",\"equity\"]\n",
    "# pulse_years = [2030]\n",
    "pulse_years = list(range(2060, 2081, 10))\n",
    "weitzman_values = [x / 10.0 for x in range(1, 11, 1)] + [0.25, 0.01, 0.001, 0.0001] "
   ]
  },
  {
   "cell_type": "code",
   "execution_count": null,
   "metadata": {
    "tags": []
   },
   "outputs": [],
   "source": [
    "# sectors = [\"mortality\", \"labor\", \"energy\", \"agriculture\", \"coastal\", \"AMEL\",\"CAMEL\"]\n",
    "sectors = [\"mortality_clipped\"]\n",
    "AR_list = [6]\n",
    "bc_list = [39]\n",
    "eta_rhos = { \n",
    "    2.0:0.0,\n",
    "    1.016010255 : 9.149608e-05,\n",
    "    1.244459066 : 0.00197263997,\n",
    "    1.421158116 : 0.00461878399,\n",
    "    1.567899395 : 0.00770271076\n",
    "}\n",
    "combos = [(s, p, d, m, ar, bc,eta) \n",
    "          for p in pulse_years\n",
    "          for s in sectors \n",
    "          for d in discount_types \n",
    "          for m in menu_options\n",
    "          for ar in AR_list\n",
    "          for bc in bc_list\n",
    "          for eta in eta_rhos.keys()]\n"
   ]
  },
  {
   "cell_type": "code",
   "execution_count": null,
   "metadata": {
    "tags": []
   },
   "outputs": [],
   "source": [
    "n_combos = len(combos)\n",
    "\n",
    "while n_combos > 0: \n",
    "    combo = combos[0]\n",
    "    print(\"=========================================================\")\n",
    "    print(combo)\n",
    "    sector = combo[0]\n",
    "    pulse_year = combo[1]\n",
    "    discount_type = combo[2]\n",
    "    menu_option = combo[3]\n",
    "    AR = combo[4]\n",
    "    bc = combo[5]\n",
    "    eta = combo[6]\n",
    "    w = ProWaiter(path_to_config=f'/home/{username}/repos/integration/configs/epa_tool_config-histclim_AR{AR}.yaml')\n",
    "    kwargs = {'discounting_type' : discount_type,\n",
    "              'sector': sector,\n",
    "              'ce_path' : f'/shares/gcp/integration/CE_library_epa_vsl_bc{bc}/{sector}/',\n",
    "              'save_path' : f'/mnt/CIL_integration/menu_results_AR{AR}_bc{bc}_epa_vsl_continuous/{sector}/{pulse_year}/unmasked/',\n",
    "              'damage_function_path' : f\"/mnt/CIL_integration/menu_results_AR6_bc39_epa_vsl_continuous/{sector}/2020/unmasked\",\n",
    "              'weitzman_parameter' : weitzman_values,\n",
    "              'pulse_year' : pulse_year,\n",
    "              'eta': eta,\n",
    "              'rho': eta_rhos[eta]\n",
    "             }\n",
    "    \n",
    "    if bc == 39:\n",
    "        kwargs.update({'cons_clip': 39.39265060424805})\n",
    "        \n",
    "    menu_item = w.menu_factory(menu_key=menu_option,\n",
    "                                           sector=sector,\n",
    "                                           kwargs=kwargs\n",
    "                                          )\n",
    "    menu_item.order_plate('scc')   \n",
    "    \n",
    "    combos.remove(combo)\n",
    "    n_combos = len(combos)\n",
    "    print(f\"remaining combos: {n_combos}\")\n"
   ]
  },
  {
   "cell_type": "code",
   "execution_count": null,
   "metadata": {},
   "outputs": [],
   "source": []
  },
  {
   "cell_type": "code",
   "execution_count": null,
   "metadata": {},
   "outputs": [],
   "source": []
  }
 ],
 "metadata": {
  "kernelspec": {
   "display_name": "Python 3 (ipykernel)",
   "language": "python",
   "name": "python3"
  },
  "language_info": {
   "codemirror_mode": {
    "name": "ipython",
    "version": 3
   },
   "file_extension": ".py",
   "mimetype": "text/x-python",
   "name": "python",
   "nbconvert_exporter": "python",
   "pygments_lexer": "ipython3",
   "version": "3.8.0"
  }
 },
 "nbformat": 4,
 "nbformat_minor": 4
}
