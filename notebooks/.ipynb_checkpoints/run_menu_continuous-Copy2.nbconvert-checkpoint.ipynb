{
 "cells": [
  {
   "cell_type": "code",
   "execution_count": 1,
   "metadata": {
    "execution": {
     "iopub.execute_input": "2022-01-13T16:26:13.417116Z",
     "iopub.status.busy": "2022-01-13T16:26:13.416374Z",
     "iopub.status.idle": "2022-01-13T16:26:15.995029Z",
     "shell.execute_reply": "2022-01-13T16:26:15.995976Z"
    },
    "tags": []
   },
   "outputs": [
    {
     "name": "stderr",
     "output_type": "stream",
     "text": [
      "/home/liruixue/miniconda3/envs/dscim/lib/python3.8/site-packages/dask_jobqueue/core.py:17: FutureWarning: format_bytes is deprecated and will be removed in a future release. Please use dask.utils.format_bytes instead.\n",
      "  from distributed.utils import format_bytes, parse_bytes, tmpfile, get_ip_interface\n",
      "/home/liruixue/miniconda3/envs/dscim/lib/python3.8/site-packages/dask_jobqueue/core.py:17: FutureWarning: parse_bytes is deprecated and will be removed in a future release. Please use dask.utils.parse_bytes instead.\n",
      "  from distributed.utils import format_bytes, parse_bytes, tmpfile, get_ip_interface\n",
      "/home/liruixue/miniconda3/envs/dscim/lib/python3.8/site-packages/dask_jobqueue/htcondor.py:6: FutureWarning: parse_bytes is deprecated and will be removed in a future release. Please use dask.utils.parse_bytes instead.\n",
      "  from distributed.utils import parse_bytes\n"
     ]
    }
   ],
   "source": [
    "import os, gc, time\n",
    "import numpy as np\n",
    "import pandas as pd\n",
    "import xarray as xr\n",
    "import matplotlib.pyplot as plt\n",
    "import matplotlib as mpl\n",
    "username = os.getenv('USER')\n",
    "import dask.array as da\n",
    "from dask_jobqueue import SLURMCluster\n",
    "from dask.distributed import Client, progress\n",
    "import dask\n",
    "from collections import OrderedDict\n",
    "dask.config.set(**{'array.slicing.split_large_chunks': False})\n",
    "# dask.config.set({\"distributed.workers.memory.target\": 4})\n",
    "\n",
    "from dscim import ProWaiter\n",
    "from dscim.menu.simple_storage import StackedDamages, EconVars, Climate\n",
    "from dscim.menu.risk_aversion import RiskAversionRecipe\n",
    "from dscim.menu.baseline import Baseline\n",
    "from dscim.menu.equity import EquityRecipe\n",
    "from itertools import product, chain\n",
    "import itertools\n",
    "# import seaborn as sns\n",
    "from dscim.fair.utils import modeler\n",
    "from dscim.fair.estimations import c_equivalence\n",
    "from functools import reduce\n",
    "from pathlib import Path\n",
    "\n",
    "import seaborn as sns\n",
    "from dscim.fair.estimations import compute_damages"
   ]
  },
  {
   "cell_type": "code",
   "execution_count": 2,
   "metadata": {
    "execution": {
     "iopub.execute_input": "2022-01-13T16:26:16.002862Z",
     "iopub.status.busy": "2022-01-13T16:26:16.001769Z",
     "iopub.status.idle": "2022-01-13T16:26:16.004261Z",
     "shell.execute_reply": "2022-01-13T16:26:16.005170Z"
    },
    "tags": []
   },
   "outputs": [],
   "source": [
    "discount_types = [ \"constant\",\"euler_ramsey\",\"euler_gwr\"]\n",
    "menu_options = [\"adding_up\",\"risk_aversion\",\"equity\"]\n",
    "# pulse_years = [2030]\n",
    "pulse_years = list(range(2060, 2081, 10))\n",
    "weitzman_values = [x / 10.0 for x in range(1, 11, 1)] + [0.25, 0.01, 0.001, 0.0001] "
   ]
  },
  {
   "cell_type": "code",
   "execution_count": 3,
   "metadata": {
    "execution": {
     "iopub.execute_input": "2022-01-13T16:26:16.011030Z",
     "iopub.status.busy": "2022-01-13T16:26:16.010523Z",
     "iopub.status.idle": "2022-01-13T16:26:16.012417Z",
     "shell.execute_reply": "2022-01-13T16:26:16.012811Z"
    },
    "tags": []
   },
   "outputs": [],
   "source": [
    "# sectors = [\"mortality\", \"labor\", \"energy\", \"agriculture\", \"coastal\", \"AMEL\",\"CAMEL\"]\n",
    "sectors = [\"agriculture_clipped\"]\n",
    "AR_list = [6]\n",
    "bc_list = [39]\n",
    "eta_rhos = { \n",
    "    2.0:0.0,\n",
    "    1.016010255 : 9.149608e-05,\n",
    "    1.244459066 : 0.00197263997,\n",
    "    1.421158116 : 0.00461878399,\n",
    "    1.567899395 : 0.00770271076\n",
    "}\n",
    "combos = [(s, p, d, m, ar, bc,eta) \n",
    "          for p in pulse_years\n",
    "          for s in sectors \n",
    "          for d in discount_types \n",
    "          for m in menu_options\n",
    "          for ar in AR_list\n",
    "          for bc in bc_list\n",
    "          for eta in eta_rhos.keys()]\n"
   ]
  },
  {
   "cell_type": "code",
   "execution_count": 4,
   "metadata": {
    "execution": {
     "iopub.execute_input": "2022-01-13T16:26:16.020747Z",
     "iopub.status.busy": "2022-01-13T16:26:16.020232Z",
     "iopub.status.idle": "2022-01-13T18:07:35.792506Z",
     "shell.execute_reply": "2022-01-13T18:07:35.793425Z"
    },
    "tags": []
   },
   "outputs": [
    {
     "name": "stdout",
     "output_type": "stream",
     "text": [
      "=========================================================\n",
      "('agriculture_clipped', 2060, 'constant', 'adding_up', 6, 39, 2.0)\n",
      "Rechunking for 'adding_up' option.\n",
      "\n",
      " Executing Running adding_up class with the following parameters: \n",
      "Sector: agriculture_clipped \n",
      "Path to damages: /shares/gcp/integration/float32/input_data_histclim/ag_data/v0.0_ag_histclim-delta_clipped.zarr \n",
      "Menu recipe: adding_up \n",
      "Damages delta: delta_reallocation \n",
      "Discount level: global \n",
      "Discount type: constant \n",
      "Damage function path: None \n",
      "\n",
      "\n",
      "Processing damage functions ...\n",
      "Existing damage functions not found. Damage points will be loaded.\n",
      "Adding up CEs found at /shares/gcp/integration/CE_library_epa_vsl_bc39/agriculture_clipped//adding_up_ce_cc_eta2.0.zarr, /shares/gcp/integration/CE_library_epa_vsl_bc39/agriculture_clipped//adding_up_ce_no_cc_eta2.0.zarr. These are being loaded...\n",
      "Saving /mnt/CIL_integration/menu_results_AR6_bc39_diag/agriculture_clipped/2060/unmasked/adding_up_constant_eta2.0_rho0.0_damage_function_points.csv\n",
      "Extrapolating global consumption.\n",
      "End-of-century growth rates are not capped.\n",
      "Saving /mnt/CIL_integration/menu_results_AR6_bc39_diag/agriculture_clipped/2060/unmasked/adding_up_constant_eta2.0_rho0.0_global_consumption.nc4\n",
      "Saving /mnt/CIL_integration/menu_results_AR6_bc39_diag/agriculture_clipped/2060/unmasked/adding_up_constant_eta2.0_rho0.0_damage_function_coefficients.nc4\n",
      "Results available: /mnt/CIL_integration/menu_results_AR6_bc39_diag/agriculture_clipped/2060/unmasked/\n",
      "remaining combos: 134\n",
      "=========================================================\n",
      "('agriculture_clipped', 2060, 'constant', 'adding_up', 6, 39, 1.016010255)\n",
      "Rechunking for 'adding_up' option.\n",
      "\n",
      " Executing Running adding_up class with the following parameters: \n",
      "Sector: agriculture_clipped \n",
      "Path to damages: /shares/gcp/integration/float32/input_data_histclim/ag_data/v0.0_ag_histclim-delta_clipped.zarr \n",
      "Menu recipe: adding_up \n",
      "Damages delta: delta_reallocation \n",
      "Discount level: global \n",
      "Discount type: constant \n",
      "Damage function path: None \n",
      "\n",
      "\n",
      "Processing damage functions ...\n",
      "Existing damage functions not found. Damage points will be loaded.\n",
      "Adding up CEs found at /shares/gcp/integration/CE_library_epa_vsl_bc39/agriculture_clipped//adding_up_ce_cc_eta1.016010255.zarr, /shares/gcp/integration/CE_library_epa_vsl_bc39/agriculture_clipped//adding_up_ce_no_cc_eta1.016010255.zarr. These are being loaded...\n",
      "Saving /mnt/CIL_integration/menu_results_AR6_bc39_diag/agriculture_clipped/2060/unmasked/adding_up_constant_eta1.016010255_rho9.149608e-05_damage_function_points.csv\n",
      "Extrapolating global consumption.\n",
      "End-of-century growth rates are not capped.\n",
      "Saving /mnt/CIL_integration/menu_results_AR6_bc39_diag/agriculture_clipped/2060/unmasked/adding_up_constant_eta1.016010255_rho9.149608e-05_global_consumption.nc4\n",
      "Saving /mnt/CIL_integration/menu_results_AR6_bc39_diag/agriculture_clipped/2060/unmasked/adding_up_constant_eta1.016010255_rho9.149608e-05_damage_function_coefficients.nc4\n",
      "Results available: /mnt/CIL_integration/menu_results_AR6_bc39_diag/agriculture_clipped/2060/unmasked/\n",
      "remaining combos: 133\n",
      "=========================================================\n",
      "('agriculture_clipped', 2060, 'constant', 'adding_up', 6, 39, 1.244459066)\n",
      "Rechunking for 'adding_up' option.\n",
      "\n",
      " Executing Running adding_up class with the following parameters: \n",
      "Sector: agriculture_clipped \n",
      "Path to damages: /shares/gcp/integration/float32/input_data_histclim/ag_data/v0.0_ag_histclim-delta_clipped.zarr \n",
      "Menu recipe: adding_up \n",
      "Damages delta: delta_reallocation \n",
      "Discount level: global \n",
      "Discount type: constant \n",
      "Damage function path: None \n",
      "\n",
      "\n",
      "Processing damage functions ...\n",
      "Existing damage functions not found. Damage points will be loaded.\n",
      "Adding up CEs found at /shares/gcp/integration/CE_library_epa_vsl_bc39/agriculture_clipped//adding_up_ce_cc_eta1.244459066.zarr, /shares/gcp/integration/CE_library_epa_vsl_bc39/agriculture_clipped//adding_up_ce_no_cc_eta1.244459066.zarr. These are being loaded...\n",
      "Saving /mnt/CIL_integration/menu_results_AR6_bc39_diag/agriculture_clipped/2060/unmasked/adding_up_constant_eta1.244459066_rho0.00197263997_damage_function_points.csv\n",
      "Extrapolating global consumption.\n",
      "End-of-century growth rates are not capped.\n",
      "Saving /mnt/CIL_integration/menu_results_AR6_bc39_diag/agriculture_clipped/2060/unmasked/adding_up_constant_eta1.244459066_rho0.00197263997_global_consumption.nc4\n",
      "Saving /mnt/CIL_integration/menu_results_AR6_bc39_diag/agriculture_clipped/2060/unmasked/adding_up_constant_eta1.244459066_rho0.00197263997_damage_function_coefficients.nc4\n",
      "Results available: /mnt/CIL_integration/menu_results_AR6_bc39_diag/agriculture_clipped/2060/unmasked/\n",
      "remaining combos: 132\n",
      "=========================================================\n",
      "('agriculture_clipped', 2060, 'constant', 'adding_up', 6, 39, 1.421158116)\n",
      "Rechunking for 'adding_up' option.\n",
      "\n",
      " Executing Running adding_up class with the following parameters: \n",
      "Sector: agriculture_clipped \n",
      "Path to damages: /shares/gcp/integration/float32/input_data_histclim/ag_data/v0.0_ag_histclim-delta_clipped.zarr \n",
      "Menu recipe: adding_up \n",
      "Damages delta: delta_reallocation \n",
      "Discount level: global \n",
      "Discount type: constant \n",
      "Damage function path: None \n",
      "\n",
      "\n",
      "Processing damage functions ...\n",
      "Existing damage functions not found. Damage points will be loaded.\n",
      "Adding up CEs found at /shares/gcp/integration/CE_library_epa_vsl_bc39/agriculture_clipped//adding_up_ce_cc_eta1.421158116.zarr, /shares/gcp/integration/CE_library_epa_vsl_bc39/agriculture_clipped//adding_up_ce_no_cc_eta1.421158116.zarr. These are being loaded...\n",
      "Saving /mnt/CIL_integration/menu_results_AR6_bc39_diag/agriculture_clipped/2060/unmasked/adding_up_constant_eta1.421158116_rho0.00461878399_damage_function_points.csv\n",
      "Extrapolating global consumption.\n",
      "End-of-century growth rates are not capped.\n",
      "Saving /mnt/CIL_integration/menu_results_AR6_bc39_diag/agriculture_clipped/2060/unmasked/adding_up_constant_eta1.421158116_rho0.00461878399_global_consumption.nc4\n",
      "Saving /mnt/CIL_integration/menu_results_AR6_bc39_diag/agriculture_clipped/2060/unmasked/adding_up_constant_eta1.421158116_rho0.00461878399_damage_function_coefficients.nc4\n",
      "Results available: /mnt/CIL_integration/menu_results_AR6_bc39_diag/agriculture_clipped/2060/unmasked/\n",
      "remaining combos: 131\n",
      "=========================================================\n",
      "('agriculture_clipped', 2060, 'constant', 'adding_up', 6, 39, 1.567899395)\n",
      "Rechunking for 'adding_up' option.\n",
      "\n",
      " Executing Running adding_up class with the following parameters: \n",
      "Sector: agriculture_clipped \n",
      "Path to damages: /shares/gcp/integration/float32/input_data_histclim/ag_data/v0.0_ag_histclim-delta_clipped.zarr \n",
      "Menu recipe: adding_up \n",
      "Damages delta: delta_reallocation \n",
      "Discount level: global \n",
      "Discount type: constant \n",
      "Damage function path: None \n",
      "\n",
      "\n",
      "Processing damage functions ...\n",
      "Existing damage functions not found. Damage points will be loaded.\n",
      "Adding up CEs found at /shares/gcp/integration/CE_library_epa_vsl_bc39/agriculture_clipped//adding_up_ce_cc_eta1.567899395.zarr, /shares/gcp/integration/CE_library_epa_vsl_bc39/agriculture_clipped//adding_up_ce_no_cc_eta1.567899395.zarr. These are being loaded...\n",
      "Saving /mnt/CIL_integration/menu_results_AR6_bc39_diag/agriculture_clipped/2060/unmasked/adding_up_constant_eta1.567899395_rho0.00770271076_damage_function_points.csv\n",
      "Extrapolating global consumption.\n",
      "End-of-century growth rates are not capped.\n",
      "Saving /mnt/CIL_integration/menu_results_AR6_bc39_diag/agriculture_clipped/2060/unmasked/adding_up_constant_eta1.567899395_rho0.00770271076_global_consumption.nc4\n",
      "Saving /mnt/CIL_integration/menu_results_AR6_bc39_diag/agriculture_clipped/2060/unmasked/adding_up_constant_eta1.567899395_rho0.00770271076_damage_function_coefficients.nc4\n",
      "Results available: /mnt/CIL_integration/menu_results_AR6_bc39_diag/agriculture_clipped/2060/unmasked/\n",
      "remaining combos: 130\n",
      "=========================================================\n",
      "('agriculture_clipped', 2060, 'constant', 'risk_aversion', 6, 39, 2.0)\n",
      "\n",
      " Executing Running risk_aversion class with the following parameters: \n",
      "Sector: agriculture_clipped \n",
      "Path to damages: /shares/gcp/integration/float32/input_data_histclim/ag_data/v0.0_ag_histclim-delta_clipped.zarr \n",
      "Menu recipe: risk_aversion \n",
      "Damages delta: delta_reallocation \n",
      "Discount level: global \n",
      "Discount type: constant \n",
      "Damage function path: None \n",
      "\n",
      "\n",
      "Processing damage functions ...\n",
      "Existing damage functions not found. Damage points will be loaded.\n",
      "Risk-aversion CEs found at /shares/gcp/integration/CE_library_epa_vsl_bc39/agriculture_clipped//risk_aversion_ce_no_cc_eta2.0.zarr. These are being loaded...\n",
      "Risk-aversion CEs found at /shares/gcp/integration/CE_library_epa_vsl_bc39/agriculture_clipped//risk_aversion_ce_cc_eta2.0.zarr. These are being loaded...\n",
      "Saving /mnt/CIL_integration/menu_results_AR6_bc39_diag/agriculture_clipped/2060/unmasked/risk_aversion_constant_eta2.0_rho0.0_damage_function_points.csv\n",
      "Extrapolating global consumption.\n",
      "End-of-century growth rates are not capped.\n",
      "Saving /mnt/CIL_integration/menu_results_AR6_bc39_diag/agriculture_clipped/2060/unmasked/risk_aversion_constant_eta2.0_rho0.0_global_consumption.nc4\n",
      "Saving /mnt/CIL_integration/menu_results_AR6_bc39_diag/agriculture_clipped/2060/unmasked/risk_aversion_constant_eta2.0_rho0.0_damage_function_coefficients.nc4\n",
      "Results available: /mnt/CIL_integration/menu_results_AR6_bc39_diag/agriculture_clipped/2060/unmasked/\n",
      "remaining combos: 129\n",
      "=========================================================\n",
      "('agriculture_clipped', 2060, 'constant', 'risk_aversion', 6, 39, 1.016010255)\n",
      "\n",
      " Executing Running risk_aversion class with the following parameters: \n",
      "Sector: agriculture_clipped \n",
      "Path to damages: /shares/gcp/integration/float32/input_data_histclim/ag_data/v0.0_ag_histclim-delta_clipped.zarr \n",
      "Menu recipe: risk_aversion \n",
      "Damages delta: delta_reallocation \n",
      "Discount level: global \n",
      "Discount type: constant \n",
      "Damage function path: None \n",
      "\n",
      "\n",
      "Processing damage functions ...\n",
      "Existing damage functions not found. Damage points will be loaded.\n",
      "Risk-aversion CEs found at /shares/gcp/integration/CE_library_epa_vsl_bc39/agriculture_clipped//risk_aversion_ce_no_cc_eta1.016010255.zarr. These are being loaded...\n",
      "Risk-aversion CEs found at /shares/gcp/integration/CE_library_epa_vsl_bc39/agriculture_clipped//risk_aversion_ce_cc_eta1.016010255.zarr. These are being loaded...\n",
      "Saving /mnt/CIL_integration/menu_results_AR6_bc39_diag/agriculture_clipped/2060/unmasked/risk_aversion_constant_eta1.016010255_rho9.149608e-05_damage_function_points.csv\n",
      "Extrapolating global consumption.\n",
      "End-of-century growth rates are not capped.\n",
      "Saving /mnt/CIL_integration/menu_results_AR6_bc39_diag/agriculture_clipped/2060/unmasked/risk_aversion_constant_eta1.016010255_rho9.149608e-05_global_consumption.nc4\n",
      "Saving /mnt/CIL_integration/menu_results_AR6_bc39_diag/agriculture_clipped/2060/unmasked/risk_aversion_constant_eta1.016010255_rho9.149608e-05_damage_function_coefficients.nc4\n",
      "Results available: /mnt/CIL_integration/menu_results_AR6_bc39_diag/agriculture_clipped/2060/unmasked/\n",
      "remaining combos: 128\n",
      "=========================================================\n",
      "('agriculture_clipped', 2060, 'constant', 'risk_aversion', 6, 39, 1.244459066)\n",
      "\n",
      " Executing Running risk_aversion class with the following parameters: \n",
      "Sector: agriculture_clipped \n",
      "Path to damages: /shares/gcp/integration/float32/input_data_histclim/ag_data/v0.0_ag_histclim-delta_clipped.zarr \n",
      "Menu recipe: risk_aversion \n",
      "Damages delta: delta_reallocation \n",
      "Discount level: global \n",
      "Discount type: constant \n",
      "Damage function path: None \n",
      "\n",
      "\n",
      "Processing damage functions ...\n",
      "Existing damage functions not found. Damage points will be loaded.\n",
      "Risk-aversion CEs found at /shares/gcp/integration/CE_library_epa_vsl_bc39/agriculture_clipped//risk_aversion_ce_no_cc_eta1.244459066.zarr. These are being loaded...\n",
      "Risk-aversion CEs found at /shares/gcp/integration/CE_library_epa_vsl_bc39/agriculture_clipped//risk_aversion_ce_cc_eta1.244459066.zarr. These are being loaded...\n",
      "Saving /mnt/CIL_integration/menu_results_AR6_bc39_diag/agriculture_clipped/2060/unmasked/risk_aversion_constant_eta1.244459066_rho0.00197263997_damage_function_points.csv\n",
      "Extrapolating global consumption.\n",
      "End-of-century growth rates are not capped.\n",
      "Saving /mnt/CIL_integration/menu_results_AR6_bc39_diag/agriculture_clipped/2060/unmasked/risk_aversion_constant_eta1.244459066_rho0.00197263997_global_consumption.nc4\n",
      "Saving /mnt/CIL_integration/menu_results_AR6_bc39_diag/agriculture_clipped/2060/unmasked/risk_aversion_constant_eta1.244459066_rho0.00197263997_damage_function_coefficients.nc4\n",
      "Results available: /mnt/CIL_integration/menu_results_AR6_bc39_diag/agriculture_clipped/2060/unmasked/\n",
      "remaining combos: 127\n",
      "=========================================================\n",
      "('agriculture_clipped', 2060, 'constant', 'risk_aversion', 6, 39, 1.421158116)\n",
      "\n",
      " Executing Running risk_aversion class with the following parameters: \n",
      "Sector: agriculture_clipped \n",
      "Path to damages: /shares/gcp/integration/float32/input_data_histclim/ag_data/v0.0_ag_histclim-delta_clipped.zarr \n",
      "Menu recipe: risk_aversion \n",
      "Damages delta: delta_reallocation \n",
      "Discount level: global \n",
      "Discount type: constant \n",
      "Damage function path: None \n",
      "\n",
      "\n",
      "Processing damage functions ...\n",
      "Existing damage functions not found. Damage points will be loaded.\n",
      "Risk-aversion CEs found at /shares/gcp/integration/CE_library_epa_vsl_bc39/agriculture_clipped//risk_aversion_ce_no_cc_eta1.421158116.zarr. These are being loaded...\n",
      "Risk-aversion CEs found at /shares/gcp/integration/CE_library_epa_vsl_bc39/agriculture_clipped//risk_aversion_ce_cc_eta1.421158116.zarr. These are being loaded...\n",
      "Saving /mnt/CIL_integration/menu_results_AR6_bc39_diag/agriculture_clipped/2060/unmasked/risk_aversion_constant_eta1.421158116_rho0.00461878399_damage_function_points.csv\n",
      "Extrapolating global consumption.\n",
      "End-of-century growth rates are not capped.\n",
      "Saving /mnt/CIL_integration/menu_results_AR6_bc39_diag/agriculture_clipped/2060/unmasked/risk_aversion_constant_eta1.421158116_rho0.00461878399_global_consumption.nc4\n",
      "Saving /mnt/CIL_integration/menu_results_AR6_bc39_diag/agriculture_clipped/2060/unmasked/risk_aversion_constant_eta1.421158116_rho0.00461878399_damage_function_coefficients.nc4\n",
      "Results available: /mnt/CIL_integration/menu_results_AR6_bc39_diag/agriculture_clipped/2060/unmasked/\n",
      "remaining combos: 126\n",
      "=========================================================\n",
      "('agriculture_clipped', 2060, 'constant', 'risk_aversion', 6, 39, 1.567899395)\n",
      "\n",
      " Executing Running risk_aversion class with the following parameters: \n",
      "Sector: agriculture_clipped \n",
      "Path to damages: /shares/gcp/integration/float32/input_data_histclim/ag_data/v0.0_ag_histclim-delta_clipped.zarr \n",
      "Menu recipe: risk_aversion \n",
      "Damages delta: delta_reallocation \n",
      "Discount level: global \n",
      "Discount type: constant \n",
      "Damage function path: None \n",
      "\n",
      "\n",
      "Processing damage functions ...\n",
      "Existing damage functions not found. Damage points will be loaded.\n",
      "Risk-aversion CEs found at /shares/gcp/integration/CE_library_epa_vsl_bc39/agriculture_clipped//risk_aversion_ce_no_cc_eta1.567899395.zarr. These are being loaded...\n",
      "Risk-aversion CEs found at /shares/gcp/integration/CE_library_epa_vsl_bc39/agriculture_clipped//risk_aversion_ce_cc_eta1.567899395.zarr. These are being loaded...\n",
      "Saving /mnt/CIL_integration/menu_results_AR6_bc39_diag/agriculture_clipped/2060/unmasked/risk_aversion_constant_eta1.567899395_rho0.00770271076_damage_function_points.csv\n",
      "Extrapolating global consumption.\n",
      "End-of-century growth rates are not capped.\n",
      "Saving /mnt/CIL_integration/menu_results_AR6_bc39_diag/agriculture_clipped/2060/unmasked/risk_aversion_constant_eta1.567899395_rho0.00770271076_global_consumption.nc4\n",
      "Saving /mnt/CIL_integration/menu_results_AR6_bc39_diag/agriculture_clipped/2060/unmasked/risk_aversion_constant_eta1.567899395_rho0.00770271076_damage_function_coefficients.nc4\n",
      "Results available: /mnt/CIL_integration/menu_results_AR6_bc39_diag/agriculture_clipped/2060/unmasked/\n",
      "remaining combos: 125\n",
      "=========================================================\n",
      "('agriculture_clipped', 2060, 'constant', 'equity', 6, 39, 2.0)\n",
      "\n",
      " Executing Running equity class with the following parameters: \n",
      "Sector: agriculture_clipped \n",
      "Path to damages: /shares/gcp/integration/float32/input_data_histclim/ag_data/v0.0_ag_histclim-delta_clipped.zarr \n",
      "Menu recipe: equity \n",
      "Damages delta: delta_reallocation \n",
      "Discount level: global \n",
      "Discount type: constant \n",
      "Damage function path: None \n",
      "\n",
      "\n",
      "Processing damage functions ...\n",
      "Existing damage functions not found. Damage points will be loaded.\n",
      "Risk-aversion CEs found at /shares/gcp/integration/CE_library_epa_vsl_bc39/agriculture_clipped//risk_aversion_ce_no_cc_eta2.0.zarr. These are being loaded...\n"
     ]
    },
    {
     "name": "stderr",
     "output_type": "stream",
     "text": [
      "/home/liruixue/miniconda3/envs/dscim/lib/python3.8/site-packages/dask/array/core.py:4402: PerformanceWarning: Increasing number of chunks by factor of 30\n",
      "  result = blockwise(\n",
      "/home/liruixue/miniconda3/envs/dscim/lib/python3.8/site-packages/dask/core.py:121: RuntimeWarning: invalid value encountered in true_divide\n",
      "  return func(*(_execute_task(a, cache) for a in args))\n"
     ]
    },
    {
     "name": "stdout",
     "output_type": "stream",
     "text": [
      "Risk-aversion CEs found at /shares/gcp/integration/CE_library_epa_vsl_bc39/agriculture_clipped//risk_aversion_ce_cc_eta2.0.zarr. These are being loaded...\n"
     ]
    },
    {
     "name": "stderr",
     "output_type": "stream",
     "text": [
      "/home/liruixue/miniconda3/envs/dscim/lib/python3.8/site-packages/dask/array/core.py:4402: PerformanceWarning: Increasing number of chunks by factor of 30\n",
      "  result = blockwise(\n",
      "/home/liruixue/miniconda3/envs/dscim/lib/python3.8/site-packages/dask/core.py:121: RuntimeWarning: invalid value encountered in true_divide\n",
      "  return func(*(_execute_task(a, cache) for a in args))\n",
      "/home/liruixue/miniconda3/envs/dscim/lib/python3.8/site-packages/dask/core.py:121: RuntimeWarning: invalid value encountered in true_divide\n",
      "  return func(*(_execute_task(a, cache) for a in args))\n"
     ]
    },
    {
     "name": "stdout",
     "output_type": "stream",
     "text": [
      "Saving /mnt/CIL_integration/menu_results_AR6_bc39_diag/agriculture_clipped/2060/unmasked/equity_constant_eta2.0_rho0.0_damage_function_points.csv\n",
      "Extrapolating global consumption.\n"
     ]
    },
    {
     "name": "stderr",
     "output_type": "stream",
     "text": [
      "/home/liruixue/miniconda3/envs/dscim/lib/python3.8/site-packages/dask/core.py:121: RuntimeWarning: invalid value encountered in true_divide\n",
      "  return func(*(_execute_task(a, cache) for a in args))\n"
     ]
    },
    {
     "name": "stdout",
     "output_type": "stream",
     "text": [
      "Saving /mnt/CIL_integration/menu_results_AR6_bc39_diag/agriculture_clipped/2060/unmasked/equity_constant_eta2.0_rho0.0_global_consumption.nc4\n"
     ]
    },
    {
     "name": "stderr",
     "output_type": "stream",
     "text": [
      "/home/liruixue/miniconda3/envs/dscim/lib/python3.8/site-packages/dask/core.py:121: RuntimeWarning: invalid value encountered in true_divide\n",
      "  return func(*(_execute_task(a, cache) for a in args))\n",
      "/home/liruixue/miniconda3/envs/dscim/lib/python3.8/site-packages/dask/core.py:121: RuntimeWarning: invalid value encountered in true_divide\n",
      "  return func(*(_execute_task(a, cache) for a in args))\n"
     ]
    },
    {
     "name": "stdout",
     "output_type": "stream",
     "text": [
      "Saving /mnt/CIL_integration/menu_results_AR6_bc39_diag/agriculture_clipped/2060/unmasked/equity_constant_eta2.0_rho0.0_damage_function_coefficients.nc4\n",
      "Results available: /mnt/CIL_integration/menu_results_AR6_bc39_diag/agriculture_clipped/2060/unmasked/\n",
      "remaining combos: 124\n",
      "=========================================================\n",
      "('agriculture_clipped', 2060, 'constant', 'equity', 6, 39, 1.016010255)\n"
     ]
    },
    {
     "name": "stderr",
     "output_type": "stream",
     "text": [
      "/home/liruixue/miniconda3/envs/dscim/lib/python3.8/site-packages/dask/core.py:121: RuntimeWarning: invalid value encountered in true_divide\n",
      "  return func(*(_execute_task(a, cache) for a in args))\n"
     ]
    },
    {
     "name": "stdout",
     "output_type": "stream",
     "text": [
      "\n",
      " Executing Running equity class with the following parameters: \n",
      "Sector: agriculture_clipped \n",
      "Path to damages: /shares/gcp/integration/float32/input_data_histclim/ag_data/v0.0_ag_histclim-delta_clipped.zarr \n",
      "Menu recipe: equity \n",
      "Damages delta: delta_reallocation \n",
      "Discount level: global \n",
      "Discount type: constant \n",
      "Damage function path: None \n",
      "\n",
      "\n",
      "Processing damage functions ...\n",
      "Existing damage functions not found. Damage points will be loaded.\n",
      "Risk-aversion CEs found at /shares/gcp/integration/CE_library_epa_vsl_bc39/agriculture_clipped//risk_aversion_ce_no_cc_eta1.016010255.zarr. These are being loaded...\n"
     ]
    },
    {
     "name": "stderr",
     "output_type": "stream",
     "text": [
      "/home/liruixue/miniconda3/envs/dscim/lib/python3.8/site-packages/dask/array/core.py:4402: PerformanceWarning: Increasing number of chunks by factor of 30\n",
      "  result = blockwise(\n",
      "/home/liruixue/miniconda3/envs/dscim/lib/python3.8/site-packages/dask/core.py:121: RuntimeWarning: invalid value encountered in true_divide\n",
      "  return func(*(_execute_task(a, cache) for a in args))\n"
     ]
    },
    {
     "name": "stdout",
     "output_type": "stream",
     "text": [
      "Risk-aversion CEs found at /shares/gcp/integration/CE_library_epa_vsl_bc39/agriculture_clipped//risk_aversion_ce_cc_eta1.016010255.zarr. These are being loaded...\n"
     ]
    },
    {
     "name": "stderr",
     "output_type": "stream",
     "text": [
      "/home/liruixue/miniconda3/envs/dscim/lib/python3.8/site-packages/dask/array/core.py:4402: PerformanceWarning: Increasing number of chunks by factor of 30\n",
      "  result = blockwise(\n",
      "/home/liruixue/miniconda3/envs/dscim/lib/python3.8/site-packages/dask/core.py:121: RuntimeWarning: invalid value encountered in true_divide\n",
      "  return func(*(_execute_task(a, cache) for a in args))\n",
      "/home/liruixue/miniconda3/envs/dscim/lib/python3.8/site-packages/dask/core.py:121: RuntimeWarning: invalid value encountered in true_divide\n",
      "  return func(*(_execute_task(a, cache) for a in args))\n"
     ]
    },
    {
     "name": "stdout",
     "output_type": "stream",
     "text": [
      "Saving /mnt/CIL_integration/menu_results_AR6_bc39_diag/agriculture_clipped/2060/unmasked/equity_constant_eta1.016010255_rho9.149608e-05_damage_function_points.csv\n",
      "Extrapolating global consumption.\n"
     ]
    },
    {
     "name": "stderr",
     "output_type": "stream",
     "text": [
      "/home/liruixue/miniconda3/envs/dscim/lib/python3.8/site-packages/dask/core.py:121: RuntimeWarning: invalid value encountered in true_divide\n",
      "  return func(*(_execute_task(a, cache) for a in args))\n"
     ]
    },
    {
     "name": "stdout",
     "output_type": "stream",
     "text": [
      "Saving /mnt/CIL_integration/menu_results_AR6_bc39_diag/agriculture_clipped/2060/unmasked/equity_constant_eta1.016010255_rho9.149608e-05_global_consumption.nc4\n"
     ]
    },
    {
     "name": "stderr",
     "output_type": "stream",
     "text": [
      "/home/liruixue/miniconda3/envs/dscim/lib/python3.8/site-packages/dask/core.py:121: RuntimeWarning: invalid value encountered in true_divide\n",
      "  return func(*(_execute_task(a, cache) for a in args))\n",
      "/home/liruixue/miniconda3/envs/dscim/lib/python3.8/site-packages/dask/core.py:121: RuntimeWarning: invalid value encountered in true_divide\n",
      "  return func(*(_execute_task(a, cache) for a in args))\n"
     ]
    },
    {
     "name": "stdout",
     "output_type": "stream",
     "text": [
      "Saving /mnt/CIL_integration/menu_results_AR6_bc39_diag/agriculture_clipped/2060/unmasked/equity_constant_eta1.016010255_rho9.149608e-05_damage_function_coefficients.nc4\n",
      "Results available: /mnt/CIL_integration/menu_results_AR6_bc39_diag/agriculture_clipped/2060/unmasked/\n",
      "remaining combos: 123\n",
      "=========================================================\n",
      "('agriculture_clipped', 2060, 'constant', 'equity', 6, 39, 1.244459066)\n"
     ]
    },
    {
     "name": "stderr",
     "output_type": "stream",
     "text": [
      "/home/liruixue/miniconda3/envs/dscim/lib/python3.8/site-packages/dask/core.py:121: RuntimeWarning: invalid value encountered in true_divide\n",
      "  return func(*(_execute_task(a, cache) for a in args))\n"
     ]
    },
    {
     "name": "stdout",
     "output_type": "stream",
     "text": [
      "\n",
      " Executing Running equity class with the following parameters: \n",
      "Sector: agriculture_clipped \n",
      "Path to damages: /shares/gcp/integration/float32/input_data_histclim/ag_data/v0.0_ag_histclim-delta_clipped.zarr \n",
      "Menu recipe: equity \n",
      "Damages delta: delta_reallocation \n",
      "Discount level: global \n",
      "Discount type: constant \n",
      "Damage function path: None \n",
      "\n",
      "\n",
      "Processing damage functions ...\n",
      "Existing damage functions not found. Damage points will be loaded.\n",
      "Risk-aversion CEs found at /shares/gcp/integration/CE_library_epa_vsl_bc39/agriculture_clipped//risk_aversion_ce_no_cc_eta1.244459066.zarr. These are being loaded...\n"
     ]
    },
    {
     "name": "stderr",
     "output_type": "stream",
     "text": [
      "/home/liruixue/miniconda3/envs/dscim/lib/python3.8/site-packages/dask/array/core.py:4402: PerformanceWarning: Increasing number of chunks by factor of 30\n",
      "  result = blockwise(\n",
      "/home/liruixue/miniconda3/envs/dscim/lib/python3.8/site-packages/dask/core.py:121: RuntimeWarning: invalid value encountered in true_divide\n",
      "  return func(*(_execute_task(a, cache) for a in args))\n"
     ]
    },
    {
     "name": "stdout",
     "output_type": "stream",
     "text": [
      "Risk-aversion CEs found at /shares/gcp/integration/CE_library_epa_vsl_bc39/agriculture_clipped//risk_aversion_ce_cc_eta1.244459066.zarr. These are being loaded...\n"
     ]
    },
    {
     "name": "stderr",
     "output_type": "stream",
     "text": [
      "/home/liruixue/miniconda3/envs/dscim/lib/python3.8/site-packages/dask/array/core.py:4402: PerformanceWarning: Increasing number of chunks by factor of 30\n",
      "  result = blockwise(\n",
      "/home/liruixue/miniconda3/envs/dscim/lib/python3.8/site-packages/dask/core.py:121: RuntimeWarning: invalid value encountered in true_divide\n",
      "  return func(*(_execute_task(a, cache) for a in args))\n",
      "/home/liruixue/miniconda3/envs/dscim/lib/python3.8/site-packages/dask/core.py:121: RuntimeWarning: invalid value encountered in true_divide\n",
      "  return func(*(_execute_task(a, cache) for a in args))\n"
     ]
    },
    {
     "name": "stdout",
     "output_type": "stream",
     "text": [
      "Saving /mnt/CIL_integration/menu_results_AR6_bc39_diag/agriculture_clipped/2060/unmasked/equity_constant_eta1.244459066_rho0.00197263997_damage_function_points.csv\n",
      "Extrapolating global consumption.\n"
     ]
    },
    {
     "name": "stderr",
     "output_type": "stream",
     "text": [
      "/home/liruixue/miniconda3/envs/dscim/lib/python3.8/site-packages/dask/core.py:121: RuntimeWarning: invalid value encountered in true_divide\n",
      "  return func(*(_execute_task(a, cache) for a in args))\n"
     ]
    },
    {
     "name": "stdout",
     "output_type": "stream",
     "text": [
      "Saving /mnt/CIL_integration/menu_results_AR6_bc39_diag/agriculture_clipped/2060/unmasked/equity_constant_eta1.244459066_rho0.00197263997_global_consumption.nc4\n"
     ]
    },
    {
     "name": "stderr",
     "output_type": "stream",
     "text": [
      "/home/liruixue/miniconda3/envs/dscim/lib/python3.8/site-packages/dask/core.py:121: RuntimeWarning: invalid value encountered in true_divide\n",
      "  return func(*(_execute_task(a, cache) for a in args))\n",
      "/home/liruixue/miniconda3/envs/dscim/lib/python3.8/site-packages/dask/core.py:121: RuntimeWarning: invalid value encountered in true_divide\n",
      "  return func(*(_execute_task(a, cache) for a in args))\n"
     ]
    },
    {
     "name": "stdout",
     "output_type": "stream",
     "text": [
      "Saving /mnt/CIL_integration/menu_results_AR6_bc39_diag/agriculture_clipped/2060/unmasked/equity_constant_eta1.244459066_rho0.00197263997_damage_function_coefficients.nc4\n",
      "Results available: /mnt/CIL_integration/menu_results_AR6_bc39_diag/agriculture_clipped/2060/unmasked/\n",
      "remaining combos: 122\n",
      "=========================================================\n",
      "('agriculture_clipped', 2060, 'constant', 'equity', 6, 39, 1.421158116)\n"
     ]
    },
    {
     "name": "stderr",
     "output_type": "stream",
     "text": [
      "/home/liruixue/miniconda3/envs/dscim/lib/python3.8/site-packages/dask/core.py:121: RuntimeWarning: invalid value encountered in true_divide\n",
      "  return func(*(_execute_task(a, cache) for a in args))\n"
     ]
    },
    {
     "name": "stdout",
     "output_type": "stream",
     "text": [
      "\n",
      " Executing Running equity class with the following parameters: \n",
      "Sector: agriculture_clipped \n",
      "Path to damages: /shares/gcp/integration/float32/input_data_histclim/ag_data/v0.0_ag_histclim-delta_clipped.zarr \n",
      "Menu recipe: equity \n",
      "Damages delta: delta_reallocation \n",
      "Discount level: global \n",
      "Discount type: constant \n",
      "Damage function path: None \n",
      "\n",
      "\n",
      "Processing damage functions ...\n",
      "Existing damage functions not found. Damage points will be loaded.\n",
      "Risk-aversion CEs found at /shares/gcp/integration/CE_library_epa_vsl_bc39/agriculture_clipped//risk_aversion_ce_no_cc_eta1.421158116.zarr. These are being loaded...\n"
     ]
    },
    {
     "name": "stderr",
     "output_type": "stream",
     "text": [
      "/home/liruixue/miniconda3/envs/dscim/lib/python3.8/site-packages/dask/array/core.py:4402: PerformanceWarning: Increasing number of chunks by factor of 30\n",
      "  result = blockwise(\n",
      "/home/liruixue/miniconda3/envs/dscim/lib/python3.8/site-packages/dask/core.py:121: RuntimeWarning: invalid value encountered in true_divide\n",
      "  return func(*(_execute_task(a, cache) for a in args))\n"
     ]
    },
    {
     "name": "stdout",
     "output_type": "stream",
     "text": [
      "Risk-aversion CEs found at /shares/gcp/integration/CE_library_epa_vsl_bc39/agriculture_clipped//risk_aversion_ce_cc_eta1.421158116.zarr. These are being loaded...\n"
     ]
    },
    {
     "name": "stderr",
     "output_type": "stream",
     "text": [
      "/home/liruixue/miniconda3/envs/dscim/lib/python3.8/site-packages/dask/array/core.py:4402: PerformanceWarning: Increasing number of chunks by factor of 30\n",
      "  result = blockwise(\n",
      "/home/liruixue/miniconda3/envs/dscim/lib/python3.8/site-packages/dask/core.py:121: RuntimeWarning: invalid value encountered in true_divide\n",
      "  return func(*(_execute_task(a, cache) for a in args))\n",
      "/home/liruixue/miniconda3/envs/dscim/lib/python3.8/site-packages/dask/core.py:121: RuntimeWarning: invalid value encountered in true_divide\n",
      "  return func(*(_execute_task(a, cache) for a in args))\n"
     ]
    },
    {
     "name": "stdout",
     "output_type": "stream",
     "text": [
      "Saving /mnt/CIL_integration/menu_results_AR6_bc39_diag/agriculture_clipped/2060/unmasked/equity_constant_eta1.421158116_rho0.00461878399_damage_function_points.csv\n",
      "Extrapolating global consumption.\n"
     ]
    },
    {
     "name": "stderr",
     "output_type": "stream",
     "text": [
      "/home/liruixue/miniconda3/envs/dscim/lib/python3.8/site-packages/dask/core.py:121: RuntimeWarning: invalid value encountered in true_divide\n",
      "  return func(*(_execute_task(a, cache) for a in args))\n"
     ]
    },
    {
     "name": "stdout",
     "output_type": "stream",
     "text": [
      "Saving /mnt/CIL_integration/menu_results_AR6_bc39_diag/agriculture_clipped/2060/unmasked/equity_constant_eta1.421158116_rho0.00461878399_global_consumption.nc4\n"
     ]
    },
    {
     "name": "stderr",
     "output_type": "stream",
     "text": [
      "/home/liruixue/miniconda3/envs/dscim/lib/python3.8/site-packages/dask/core.py:121: RuntimeWarning: invalid value encountered in true_divide\n",
      "  return func(*(_execute_task(a, cache) for a in args))\n",
      "/home/liruixue/miniconda3/envs/dscim/lib/python3.8/site-packages/dask/core.py:121: RuntimeWarning: invalid value encountered in true_divide\n",
      "  return func(*(_execute_task(a, cache) for a in args))\n"
     ]
    },
    {
     "name": "stdout",
     "output_type": "stream",
     "text": [
      "Saving /mnt/CIL_integration/menu_results_AR6_bc39_diag/agriculture_clipped/2060/unmasked/equity_constant_eta1.421158116_rho0.00461878399_damage_function_coefficients.nc4\n",
      "Results available: /mnt/CIL_integration/menu_results_AR6_bc39_diag/agriculture_clipped/2060/unmasked/\n",
      "remaining combos: 121\n",
      "=========================================================\n",
      "('agriculture_clipped', 2060, 'constant', 'equity', 6, 39, 1.567899395)\n"
     ]
    },
    {
     "name": "stderr",
     "output_type": "stream",
     "text": [
      "/home/liruixue/miniconda3/envs/dscim/lib/python3.8/site-packages/dask/core.py:121: RuntimeWarning: invalid value encountered in true_divide\n",
      "  return func(*(_execute_task(a, cache) for a in args))\n"
     ]
    },
    {
     "name": "stdout",
     "output_type": "stream",
     "text": [
      "\n",
      " Executing Running equity class with the following parameters: \n",
      "Sector: agriculture_clipped \n",
      "Path to damages: /shares/gcp/integration/float32/input_data_histclim/ag_data/v0.0_ag_histclim-delta_clipped.zarr \n",
      "Menu recipe: equity \n",
      "Damages delta: delta_reallocation \n",
      "Discount level: global \n",
      "Discount type: constant \n",
      "Damage function path: None \n",
      "\n",
      "\n",
      "Processing damage functions ...\n",
      "Existing damage functions not found. Damage points will be loaded.\n",
      "Risk-aversion CEs found at /shares/gcp/integration/CE_library_epa_vsl_bc39/agriculture_clipped//risk_aversion_ce_no_cc_eta1.567899395.zarr. These are being loaded...\n"
     ]
    },
    {
     "name": "stderr",
     "output_type": "stream",
     "text": [
      "/home/liruixue/miniconda3/envs/dscim/lib/python3.8/site-packages/dask/array/core.py:4402: PerformanceWarning: Increasing number of chunks by factor of 30\n",
      "  result = blockwise(\n",
      "/home/liruixue/miniconda3/envs/dscim/lib/python3.8/site-packages/dask/core.py:121: RuntimeWarning: invalid value encountered in true_divide\n",
      "  return func(*(_execute_task(a, cache) for a in args))\n"
     ]
    },
    {
     "name": "stdout",
     "output_type": "stream",
     "text": [
      "Risk-aversion CEs found at /shares/gcp/integration/CE_library_epa_vsl_bc39/agriculture_clipped//risk_aversion_ce_cc_eta1.567899395.zarr. These are being loaded...\n"
     ]
    },
    {
     "name": "stderr",
     "output_type": "stream",
     "text": [
      "/home/liruixue/miniconda3/envs/dscim/lib/python3.8/site-packages/dask/array/core.py:4402: PerformanceWarning: Increasing number of chunks by factor of 30\n",
      "  result = blockwise(\n",
      "/home/liruixue/miniconda3/envs/dscim/lib/python3.8/site-packages/dask/core.py:121: RuntimeWarning: invalid value encountered in true_divide\n",
      "  return func(*(_execute_task(a, cache) for a in args))\n",
      "/home/liruixue/miniconda3/envs/dscim/lib/python3.8/site-packages/dask/core.py:121: RuntimeWarning: invalid value encountered in true_divide\n",
      "  return func(*(_execute_task(a, cache) for a in args))\n"
     ]
    },
    {
     "name": "stdout",
     "output_type": "stream",
     "text": [
      "Saving /mnt/CIL_integration/menu_results_AR6_bc39_diag/agriculture_clipped/2060/unmasked/equity_constant_eta1.567899395_rho0.00770271076_damage_function_points.csv\n",
      "Extrapolating global consumption.\n"
     ]
    },
    {
     "name": "stderr",
     "output_type": "stream",
     "text": [
      "/home/liruixue/miniconda3/envs/dscim/lib/python3.8/site-packages/dask/core.py:121: RuntimeWarning: invalid value encountered in true_divide\n",
      "  return func(*(_execute_task(a, cache) for a in args))\n"
     ]
    },
    {
     "name": "stdout",
     "output_type": "stream",
     "text": [
      "Saving /mnt/CIL_integration/menu_results_AR6_bc39_diag/agriculture_clipped/2060/unmasked/equity_constant_eta1.567899395_rho0.00770271076_global_consumption.nc4\n"
     ]
    },
    {
     "name": "stderr",
     "output_type": "stream",
     "text": [
      "/home/liruixue/miniconda3/envs/dscim/lib/python3.8/site-packages/dask/core.py:121: RuntimeWarning: invalid value encountered in true_divide\n",
      "  return func(*(_execute_task(a, cache) for a in args))\n",
      "/home/liruixue/miniconda3/envs/dscim/lib/python3.8/site-packages/dask/core.py:121: RuntimeWarning: invalid value encountered in true_divide\n",
      "  return func(*(_execute_task(a, cache) for a in args))\n"
     ]
    },
    {
     "name": "stdout",
     "output_type": "stream",
     "text": [
      "Saving /mnt/CIL_integration/menu_results_AR6_bc39_diag/agriculture_clipped/2060/unmasked/equity_constant_eta1.567899395_rho0.00770271076_damage_function_coefficients.nc4\n",
      "Results available: /mnt/CIL_integration/menu_results_AR6_bc39_diag/agriculture_clipped/2060/unmasked/\n",
      "remaining combos: 120\n",
      "=========================================================\n",
      "('agriculture_clipped', 2060, 'euler_ramsey', 'adding_up', 6, 39, 2.0)\n",
      "Rechunking for 'adding_up' option.\n",
      "\n",
      " Executing Running adding_up class with the following parameters: \n",
      "Sector: agriculture_clipped \n",
      "Path to damages: /shares/gcp/integration/float32/input_data_histclim/ag_data/v0.0_ag_histclim-delta_clipped.zarr \n",
      "Menu recipe: adding_up \n",
      "Damages delta: delta_reallocation \n",
      "Discount level: global \n",
      "Discount type: euler_ramsey \n",
      "Damage function path: None \n",
      "\n",
      "\n"
     ]
    },
    {
     "name": "stderr",
     "output_type": "stream",
     "text": [
      "/home/liruixue/miniconda3/envs/dscim/lib/python3.8/site-packages/dask/core.py:121: RuntimeWarning: invalid value encountered in true_divide\n",
      "  return func(*(_execute_task(a, cache) for a in args))\n"
     ]
    },
    {
     "name": "stdout",
     "output_type": "stream",
     "text": [
      "Processing damage functions ...\n",
      "Existing damage functions not found. Damage points will be loaded.\n",
      "Adding up CEs found at /shares/gcp/integration/CE_library_epa_vsl_bc39/agriculture_clipped//adding_up_ce_cc_eta2.0.zarr, /shares/gcp/integration/CE_library_epa_vsl_bc39/agriculture_clipped//adding_up_ce_no_cc_eta2.0.zarr. These are being loaded...\n",
      "Saving /mnt/CIL_integration/menu_results_AR6_bc39_diag/agriculture_clipped/2060/unmasked/adding_up_euler_ramsey_eta2.0_rho0.0_damage_function_points.csv\n",
      "Extrapolating global consumption.\n",
      "End-of-century growth rates are not capped.\n",
      "Saving /mnt/CIL_integration/menu_results_AR6_bc39_diag/agriculture_clipped/2060/unmasked/adding_up_euler_ramsey_eta2.0_rho0.0_global_consumption.nc4\n",
      "Saving /mnt/CIL_integration/menu_results_AR6_bc39_diag/agriculture_clipped/2060/unmasked/adding_up_euler_ramsey_eta2.0_rho0.0_damage_function_coefficients.nc4\n",
      "Results available: /mnt/CIL_integration/menu_results_AR6_bc39_diag/agriculture_clipped/2060/unmasked/\n",
      "remaining combos: 119\n",
      "=========================================================\n",
      "('agriculture_clipped', 2060, 'euler_ramsey', 'adding_up', 6, 39, 1.016010255)\n",
      "Rechunking for 'adding_up' option.\n",
      "\n",
      " Executing Running adding_up class with the following parameters: \n",
      "Sector: agriculture_clipped \n",
      "Path to damages: /shares/gcp/integration/float32/input_data_histclim/ag_data/v0.0_ag_histclim-delta_clipped.zarr \n",
      "Menu recipe: adding_up \n",
      "Damages delta: delta_reallocation \n",
      "Discount level: global \n",
      "Discount type: euler_ramsey \n",
      "Damage function path: None \n",
      "\n",
      "\n",
      "Processing damage functions ...\n",
      "Existing damage functions not found. Damage points will be loaded.\n",
      "Adding up CEs found at /shares/gcp/integration/CE_library_epa_vsl_bc39/agriculture_clipped//adding_up_ce_cc_eta1.016010255.zarr, /shares/gcp/integration/CE_library_epa_vsl_bc39/agriculture_clipped//adding_up_ce_no_cc_eta1.016010255.zarr. These are being loaded...\n",
      "Saving /mnt/CIL_integration/menu_results_AR6_bc39_diag/agriculture_clipped/2060/unmasked/adding_up_euler_ramsey_eta1.016010255_rho9.149608e-05_damage_function_points.csv\n",
      "Extrapolating global consumption.\n",
      "End-of-century growth rates are not capped.\n",
      "Saving /mnt/CIL_integration/menu_results_AR6_bc39_diag/agriculture_clipped/2060/unmasked/adding_up_euler_ramsey_eta1.016010255_rho9.149608e-05_global_consumption.nc4\n",
      "Saving /mnt/CIL_integration/menu_results_AR6_bc39_diag/agriculture_clipped/2060/unmasked/adding_up_euler_ramsey_eta1.016010255_rho9.149608e-05_damage_function_coefficients.nc4\n",
      "Results available: /mnt/CIL_integration/menu_results_AR6_bc39_diag/agriculture_clipped/2060/unmasked/\n",
      "remaining combos: 118\n",
      "=========================================================\n",
      "('agriculture_clipped', 2060, 'euler_ramsey', 'adding_up', 6, 39, 1.244459066)\n",
      "Rechunking for 'adding_up' option.\n",
      "\n",
      " Executing Running adding_up class with the following parameters: \n",
      "Sector: agriculture_clipped \n",
      "Path to damages: /shares/gcp/integration/float32/input_data_histclim/ag_data/v0.0_ag_histclim-delta_clipped.zarr \n",
      "Menu recipe: adding_up \n",
      "Damages delta: delta_reallocation \n",
      "Discount level: global \n",
      "Discount type: euler_ramsey \n",
      "Damage function path: None \n",
      "\n",
      "\n",
      "Processing damage functions ...\n",
      "Existing damage functions not found. Damage points will be loaded.\n",
      "Adding up CEs found at /shares/gcp/integration/CE_library_epa_vsl_bc39/agriculture_clipped//adding_up_ce_cc_eta1.244459066.zarr, /shares/gcp/integration/CE_library_epa_vsl_bc39/agriculture_clipped//adding_up_ce_no_cc_eta1.244459066.zarr. These are being loaded...\n",
      "Saving /mnt/CIL_integration/menu_results_AR6_bc39_diag/agriculture_clipped/2060/unmasked/adding_up_euler_ramsey_eta1.244459066_rho0.00197263997_damage_function_points.csv\n",
      "Extrapolating global consumption.\n",
      "End-of-century growth rates are not capped.\n",
      "Saving /mnt/CIL_integration/menu_results_AR6_bc39_diag/agriculture_clipped/2060/unmasked/adding_up_euler_ramsey_eta1.244459066_rho0.00197263997_global_consumption.nc4\n",
      "Saving /mnt/CIL_integration/menu_results_AR6_bc39_diag/agriculture_clipped/2060/unmasked/adding_up_euler_ramsey_eta1.244459066_rho0.00197263997_damage_function_coefficients.nc4\n",
      "Results available: /mnt/CIL_integration/menu_results_AR6_bc39_diag/agriculture_clipped/2060/unmasked/\n",
      "remaining combos: 117\n",
      "=========================================================\n",
      "('agriculture_clipped', 2060, 'euler_ramsey', 'adding_up', 6, 39, 1.421158116)\n",
      "Rechunking for 'adding_up' option.\n",
      "\n",
      " Executing Running adding_up class with the following parameters: \n",
      "Sector: agriculture_clipped \n",
      "Path to damages: /shares/gcp/integration/float32/input_data_histclim/ag_data/v0.0_ag_histclim-delta_clipped.zarr \n",
      "Menu recipe: adding_up \n",
      "Damages delta: delta_reallocation \n",
      "Discount level: global \n",
      "Discount type: euler_ramsey \n",
      "Damage function path: None \n",
      "\n",
      "\n",
      "Processing damage functions ...\n",
      "Existing damage functions not found. Damage points will be loaded.\n",
      "Adding up CEs found at /shares/gcp/integration/CE_library_epa_vsl_bc39/agriculture_clipped//adding_up_ce_cc_eta1.421158116.zarr, /shares/gcp/integration/CE_library_epa_vsl_bc39/agriculture_clipped//adding_up_ce_no_cc_eta1.421158116.zarr. These are being loaded...\n",
      "Saving /mnt/CIL_integration/menu_results_AR6_bc39_diag/agriculture_clipped/2060/unmasked/adding_up_euler_ramsey_eta1.421158116_rho0.00461878399_damage_function_points.csv\n",
      "Extrapolating global consumption.\n",
      "End-of-century growth rates are not capped.\n",
      "Saving /mnt/CIL_integration/menu_results_AR6_bc39_diag/agriculture_clipped/2060/unmasked/adding_up_euler_ramsey_eta1.421158116_rho0.00461878399_global_consumption.nc4\n",
      "Saving /mnt/CIL_integration/menu_results_AR6_bc39_diag/agriculture_clipped/2060/unmasked/adding_up_euler_ramsey_eta1.421158116_rho0.00461878399_damage_function_coefficients.nc4\n",
      "Results available: /mnt/CIL_integration/menu_results_AR6_bc39_diag/agriculture_clipped/2060/unmasked/\n",
      "remaining combos: 116\n",
      "=========================================================\n",
      "('agriculture_clipped', 2060, 'euler_ramsey', 'adding_up', 6, 39, 1.567899395)\n",
      "Rechunking for 'adding_up' option.\n",
      "\n",
      " Executing Running adding_up class with the following parameters: \n",
      "Sector: agriculture_clipped \n",
      "Path to damages: /shares/gcp/integration/float32/input_data_histclim/ag_data/v0.0_ag_histclim-delta_clipped.zarr \n",
      "Menu recipe: adding_up \n",
      "Damages delta: delta_reallocation \n",
      "Discount level: global \n",
      "Discount type: euler_ramsey \n",
      "Damage function path: None \n",
      "\n",
      "\n",
      "Processing damage functions ...\n",
      "Existing damage functions not found. Damage points will be loaded.\n",
      "Adding up CEs found at /shares/gcp/integration/CE_library_epa_vsl_bc39/agriculture_clipped//adding_up_ce_cc_eta1.567899395.zarr, /shares/gcp/integration/CE_library_epa_vsl_bc39/agriculture_clipped//adding_up_ce_no_cc_eta1.567899395.zarr. These are being loaded...\n",
      "Saving /mnt/CIL_integration/menu_results_AR6_bc39_diag/agriculture_clipped/2060/unmasked/adding_up_euler_ramsey_eta1.567899395_rho0.00770271076_damage_function_points.csv\n",
      "Extrapolating global consumption.\n",
      "End-of-century growth rates are not capped.\n",
      "Saving /mnt/CIL_integration/menu_results_AR6_bc39_diag/agriculture_clipped/2060/unmasked/adding_up_euler_ramsey_eta1.567899395_rho0.00770271076_global_consumption.nc4\n",
      "Saving /mnt/CIL_integration/menu_results_AR6_bc39_diag/agriculture_clipped/2060/unmasked/adding_up_euler_ramsey_eta1.567899395_rho0.00770271076_damage_function_coefficients.nc4\n",
      "Results available: /mnt/CIL_integration/menu_results_AR6_bc39_diag/agriculture_clipped/2060/unmasked/\n",
      "remaining combos: 115\n",
      "=========================================================\n",
      "('agriculture_clipped', 2060, 'euler_ramsey', 'risk_aversion', 6, 39, 2.0)\n",
      "\n",
      " Executing Running risk_aversion class with the following parameters: \n",
      "Sector: agriculture_clipped \n",
      "Path to damages: /shares/gcp/integration/float32/input_data_histclim/ag_data/v0.0_ag_histclim-delta_clipped.zarr \n",
      "Menu recipe: risk_aversion \n",
      "Damages delta: delta_reallocation \n",
      "Discount level: global \n",
      "Discount type: euler_ramsey \n",
      "Damage function path: None \n",
      "\n",
      "\n",
      "Processing damage functions ...\n",
      "Existing damage functions not found. Damage points will be loaded.\n",
      "Risk-aversion CEs found at /shares/gcp/integration/CE_library_epa_vsl_bc39/agriculture_clipped//risk_aversion_ce_no_cc_eta2.0.zarr. These are being loaded...\n",
      "Risk-aversion CEs found at /shares/gcp/integration/CE_library_epa_vsl_bc39/agriculture_clipped//risk_aversion_ce_cc_eta2.0.zarr. These are being loaded...\n",
      "Saving /mnt/CIL_integration/menu_results_AR6_bc39_diag/agriculture_clipped/2060/unmasked/risk_aversion_euler_ramsey_eta2.0_rho0.0_damage_function_points.csv\n",
      "Extrapolating global consumption.\n",
      "End-of-century growth rates are not capped.\n",
      "Saving /mnt/CIL_integration/menu_results_AR6_bc39_diag/agriculture_clipped/2060/unmasked/risk_aversion_euler_ramsey_eta2.0_rho0.0_global_consumption.nc4\n",
      "Saving /mnt/CIL_integration/menu_results_AR6_bc39_diag/agriculture_clipped/2060/unmasked/risk_aversion_euler_ramsey_eta2.0_rho0.0_damage_function_coefficients.nc4\n",
      "Results available: /mnt/CIL_integration/menu_results_AR6_bc39_diag/agriculture_clipped/2060/unmasked/\n",
      "remaining combos: 114\n",
      "=========================================================\n",
      "('agriculture_clipped', 2060, 'euler_ramsey', 'risk_aversion', 6, 39, 1.016010255)\n",
      "\n",
      " Executing Running risk_aversion class with the following parameters: \n",
      "Sector: agriculture_clipped \n",
      "Path to damages: /shares/gcp/integration/float32/input_data_histclim/ag_data/v0.0_ag_histclim-delta_clipped.zarr \n",
      "Menu recipe: risk_aversion \n",
      "Damages delta: delta_reallocation \n",
      "Discount level: global \n",
      "Discount type: euler_ramsey \n",
      "Damage function path: None \n",
      "\n",
      "\n",
      "Processing damage functions ...\n",
      "Existing damage functions not found. Damage points will be loaded.\n",
      "Risk-aversion CEs found at /shares/gcp/integration/CE_library_epa_vsl_bc39/agriculture_clipped//risk_aversion_ce_no_cc_eta1.016010255.zarr. These are being loaded...\n",
      "Risk-aversion CEs found at /shares/gcp/integration/CE_library_epa_vsl_bc39/agriculture_clipped//risk_aversion_ce_cc_eta1.016010255.zarr. These are being loaded...\n",
      "Saving /mnt/CIL_integration/menu_results_AR6_bc39_diag/agriculture_clipped/2060/unmasked/risk_aversion_euler_ramsey_eta1.016010255_rho9.149608e-05_damage_function_points.csv\n",
      "Extrapolating global consumption.\n",
      "End-of-century growth rates are not capped.\n",
      "Saving /mnt/CIL_integration/menu_results_AR6_bc39_diag/agriculture_clipped/2060/unmasked/risk_aversion_euler_ramsey_eta1.016010255_rho9.149608e-05_global_consumption.nc4\n",
      "Saving /mnt/CIL_integration/menu_results_AR6_bc39_diag/agriculture_clipped/2060/unmasked/risk_aversion_euler_ramsey_eta1.016010255_rho9.149608e-05_damage_function_coefficients.nc4\n",
      "Results available: /mnt/CIL_integration/menu_results_AR6_bc39_diag/agriculture_clipped/2060/unmasked/\n",
      "remaining combos: 113\n",
      "=========================================================\n",
      "('agriculture_clipped', 2060, 'euler_ramsey', 'risk_aversion', 6, 39, 1.244459066)\n",
      "\n",
      " Executing Running risk_aversion class with the following parameters: \n",
      "Sector: agriculture_clipped \n",
      "Path to damages: /shares/gcp/integration/float32/input_data_histclim/ag_data/v0.0_ag_histclim-delta_clipped.zarr \n",
      "Menu recipe: risk_aversion \n",
      "Damages delta: delta_reallocation \n",
      "Discount level: global \n",
      "Discount type: euler_ramsey \n",
      "Damage function path: None \n",
      "\n",
      "\n",
      "Processing damage functions ...\n",
      "Existing damage functions not found. Damage points will be loaded.\n",
      "Risk-aversion CEs found at /shares/gcp/integration/CE_library_epa_vsl_bc39/agriculture_clipped//risk_aversion_ce_no_cc_eta1.244459066.zarr. These are being loaded...\n",
      "Risk-aversion CEs found at /shares/gcp/integration/CE_library_epa_vsl_bc39/agriculture_clipped//risk_aversion_ce_cc_eta1.244459066.zarr. These are being loaded...\n",
      "Saving /mnt/CIL_integration/menu_results_AR6_bc39_diag/agriculture_clipped/2060/unmasked/risk_aversion_euler_ramsey_eta1.244459066_rho0.00197263997_damage_function_points.csv\n",
      "Extrapolating global consumption.\n",
      "End-of-century growth rates are not capped.\n",
      "Saving /mnt/CIL_integration/menu_results_AR6_bc39_diag/agriculture_clipped/2060/unmasked/risk_aversion_euler_ramsey_eta1.244459066_rho0.00197263997_global_consumption.nc4\n",
      "Saving /mnt/CIL_integration/menu_results_AR6_bc39_diag/agriculture_clipped/2060/unmasked/risk_aversion_euler_ramsey_eta1.244459066_rho0.00197263997_damage_function_coefficients.nc4\n",
      "Results available: /mnt/CIL_integration/menu_results_AR6_bc39_diag/agriculture_clipped/2060/unmasked/\n",
      "remaining combos: 112\n",
      "=========================================================\n",
      "('agriculture_clipped', 2060, 'euler_ramsey', 'risk_aversion', 6, 39, 1.421158116)\n",
      "\n",
      " Executing Running risk_aversion class with the following parameters: \n",
      "Sector: agriculture_clipped \n",
      "Path to damages: /shares/gcp/integration/float32/input_data_histclim/ag_data/v0.0_ag_histclim-delta_clipped.zarr \n",
      "Menu recipe: risk_aversion \n",
      "Damages delta: delta_reallocation \n",
      "Discount level: global \n",
      "Discount type: euler_ramsey \n",
      "Damage function path: None \n",
      "\n",
      "\n",
      "Processing damage functions ...\n",
      "Existing damage functions not found. Damage points will be loaded.\n",
      "Risk-aversion CEs found at /shares/gcp/integration/CE_library_epa_vsl_bc39/agriculture_clipped//risk_aversion_ce_no_cc_eta1.421158116.zarr. These are being loaded...\n",
      "Risk-aversion CEs found at /shares/gcp/integration/CE_library_epa_vsl_bc39/agriculture_clipped//risk_aversion_ce_cc_eta1.421158116.zarr. These are being loaded...\n",
      "Saving /mnt/CIL_integration/menu_results_AR6_bc39_diag/agriculture_clipped/2060/unmasked/risk_aversion_euler_ramsey_eta1.421158116_rho0.00461878399_damage_function_points.csv\n",
      "Extrapolating global consumption.\n",
      "End-of-century growth rates are not capped.\n",
      "Saving /mnt/CIL_integration/menu_results_AR6_bc39_diag/agriculture_clipped/2060/unmasked/risk_aversion_euler_ramsey_eta1.421158116_rho0.00461878399_global_consumption.nc4\n",
      "Saving /mnt/CIL_integration/menu_results_AR6_bc39_diag/agriculture_clipped/2060/unmasked/risk_aversion_euler_ramsey_eta1.421158116_rho0.00461878399_damage_function_coefficients.nc4\n",
      "Results available: /mnt/CIL_integration/menu_results_AR6_bc39_diag/agriculture_clipped/2060/unmasked/\n",
      "remaining combos: 111\n",
      "=========================================================\n",
      "('agriculture_clipped', 2060, 'euler_ramsey', 'risk_aversion', 6, 39, 1.567899395)\n",
      "\n",
      " Executing Running risk_aversion class with the following parameters: \n",
      "Sector: agriculture_clipped \n",
      "Path to damages: /shares/gcp/integration/float32/input_data_histclim/ag_data/v0.0_ag_histclim-delta_clipped.zarr \n",
      "Menu recipe: risk_aversion \n",
      "Damages delta: delta_reallocation \n",
      "Discount level: global \n",
      "Discount type: euler_ramsey \n",
      "Damage function path: None \n",
      "\n",
      "\n",
      "Processing damage functions ...\n",
      "Existing damage functions not found. Damage points will be loaded.\n",
      "Risk-aversion CEs found at /shares/gcp/integration/CE_library_epa_vsl_bc39/agriculture_clipped//risk_aversion_ce_no_cc_eta1.567899395.zarr. These are being loaded...\n",
      "Risk-aversion CEs found at /shares/gcp/integration/CE_library_epa_vsl_bc39/agriculture_clipped//risk_aversion_ce_cc_eta1.567899395.zarr. These are being loaded...\n",
      "Saving /mnt/CIL_integration/menu_results_AR6_bc39_diag/agriculture_clipped/2060/unmasked/risk_aversion_euler_ramsey_eta1.567899395_rho0.00770271076_damage_function_points.csv\n",
      "Extrapolating global consumption.\n",
      "End-of-century growth rates are not capped.\n",
      "Saving /mnt/CIL_integration/menu_results_AR6_bc39_diag/agriculture_clipped/2060/unmasked/risk_aversion_euler_ramsey_eta1.567899395_rho0.00770271076_global_consumption.nc4\n",
      "Saving /mnt/CIL_integration/menu_results_AR6_bc39_diag/agriculture_clipped/2060/unmasked/risk_aversion_euler_ramsey_eta1.567899395_rho0.00770271076_damage_function_coefficients.nc4\n",
      "Results available: /mnt/CIL_integration/menu_results_AR6_bc39_diag/agriculture_clipped/2060/unmasked/\n",
      "remaining combos: 110\n",
      "=========================================================\n",
      "('agriculture_clipped', 2060, 'euler_ramsey', 'equity', 6, 39, 2.0)\n",
      "\n",
      " Executing Running equity class with the following parameters: \n",
      "Sector: agriculture_clipped \n",
      "Path to damages: /shares/gcp/integration/float32/input_data_histclim/ag_data/v0.0_ag_histclim-delta_clipped.zarr \n",
      "Menu recipe: equity \n",
      "Damages delta: delta_reallocation \n",
      "Discount level: global \n",
      "Discount type: euler_ramsey \n",
      "Damage function path: None \n",
      "\n",
      "\n",
      "Processing damage functions ...\n",
      "Existing damage functions not found. Damage points will be loaded.\n",
      "Risk-aversion CEs found at /shares/gcp/integration/CE_library_epa_vsl_bc39/agriculture_clipped//risk_aversion_ce_no_cc_eta2.0.zarr. These are being loaded...\n"
     ]
    },
    {
     "name": "stderr",
     "output_type": "stream",
     "text": [
      "/home/liruixue/miniconda3/envs/dscim/lib/python3.8/site-packages/dask/array/core.py:4402: PerformanceWarning: Increasing number of chunks by factor of 30\n",
      "  result = blockwise(\n",
      "/home/liruixue/miniconda3/envs/dscim/lib/python3.8/site-packages/dask/core.py:121: RuntimeWarning: invalid value encountered in true_divide\n",
      "  return func(*(_execute_task(a, cache) for a in args))\n"
     ]
    },
    {
     "name": "stdout",
     "output_type": "stream",
     "text": [
      "Risk-aversion CEs found at /shares/gcp/integration/CE_library_epa_vsl_bc39/agriculture_clipped//risk_aversion_ce_cc_eta2.0.zarr. These are being loaded...\n"
     ]
    },
    {
     "name": "stderr",
     "output_type": "stream",
     "text": [
      "/home/liruixue/miniconda3/envs/dscim/lib/python3.8/site-packages/dask/array/core.py:4402: PerformanceWarning: Increasing number of chunks by factor of 30\n",
      "  result = blockwise(\n",
      "/home/liruixue/miniconda3/envs/dscim/lib/python3.8/site-packages/dask/core.py:121: RuntimeWarning: invalid value encountered in true_divide\n",
      "  return func(*(_execute_task(a, cache) for a in args))\n",
      "/home/liruixue/miniconda3/envs/dscim/lib/python3.8/site-packages/dask/core.py:121: RuntimeWarning: invalid value encountered in true_divide\n",
      "  return func(*(_execute_task(a, cache) for a in args))\n"
     ]
    },
    {
     "name": "stdout",
     "output_type": "stream",
     "text": [
      "Saving /mnt/CIL_integration/menu_results_AR6_bc39_diag/agriculture_clipped/2060/unmasked/equity_euler_ramsey_eta2.0_rho0.0_damage_function_points.csv\n",
      "Extrapolating global consumption.\n"
     ]
    },
    {
     "name": "stderr",
     "output_type": "stream",
     "text": [
      "/home/liruixue/miniconda3/envs/dscim/lib/python3.8/site-packages/dask/core.py:121: RuntimeWarning: invalid value encountered in true_divide\n",
      "  return func(*(_execute_task(a, cache) for a in args))\n"
     ]
    },
    {
     "name": "stdout",
     "output_type": "stream",
     "text": [
      "Saving /mnt/CIL_integration/menu_results_AR6_bc39_diag/agriculture_clipped/2060/unmasked/equity_euler_ramsey_eta2.0_rho0.0_global_consumption.nc4\n"
     ]
    },
    {
     "name": "stderr",
     "output_type": "stream",
     "text": [
      "/home/liruixue/miniconda3/envs/dscim/lib/python3.8/site-packages/dask/core.py:121: RuntimeWarning: invalid value encountered in true_divide\n",
      "  return func(*(_execute_task(a, cache) for a in args))\n",
      "/home/liruixue/miniconda3/envs/dscim/lib/python3.8/site-packages/dask/core.py:121: RuntimeWarning: invalid value encountered in true_divide\n",
      "  return func(*(_execute_task(a, cache) for a in args))\n"
     ]
    },
    {
     "name": "stdout",
     "output_type": "stream",
     "text": [
      "Saving /mnt/CIL_integration/menu_results_AR6_bc39_diag/agriculture_clipped/2060/unmasked/equity_euler_ramsey_eta2.0_rho0.0_damage_function_coefficients.nc4\n",
      "Results available: /mnt/CIL_integration/menu_results_AR6_bc39_diag/agriculture_clipped/2060/unmasked/\n",
      "remaining combos: 109\n",
      "=========================================================\n",
      "('agriculture_clipped', 2060, 'euler_ramsey', 'equity', 6, 39, 1.016010255)\n"
     ]
    },
    {
     "name": "stderr",
     "output_type": "stream",
     "text": [
      "/home/liruixue/miniconda3/envs/dscim/lib/python3.8/site-packages/dask/core.py:121: RuntimeWarning: invalid value encountered in true_divide\n",
      "  return func(*(_execute_task(a, cache) for a in args))\n"
     ]
    },
    {
     "name": "stdout",
     "output_type": "stream",
     "text": [
      "\n",
      " Executing Running equity class with the following parameters: \n",
      "Sector: agriculture_clipped \n",
      "Path to damages: /shares/gcp/integration/float32/input_data_histclim/ag_data/v0.0_ag_histclim-delta_clipped.zarr \n",
      "Menu recipe: equity \n",
      "Damages delta: delta_reallocation \n",
      "Discount level: global \n",
      "Discount type: euler_ramsey \n",
      "Damage function path: None \n",
      "\n",
      "\n",
      "Processing damage functions ...\n",
      "Existing damage functions not found. Damage points will be loaded.\n",
      "Risk-aversion CEs found at /shares/gcp/integration/CE_library_epa_vsl_bc39/agriculture_clipped//risk_aversion_ce_no_cc_eta1.016010255.zarr. These are being loaded...\n"
     ]
    },
    {
     "name": "stderr",
     "output_type": "stream",
     "text": [
      "/home/liruixue/miniconda3/envs/dscim/lib/python3.8/site-packages/dask/array/core.py:4402: PerformanceWarning: Increasing number of chunks by factor of 30\n",
      "  result = blockwise(\n",
      "/home/liruixue/miniconda3/envs/dscim/lib/python3.8/site-packages/dask/core.py:121: RuntimeWarning: invalid value encountered in true_divide\n",
      "  return func(*(_execute_task(a, cache) for a in args))\n"
     ]
    },
    {
     "name": "stdout",
     "output_type": "stream",
     "text": [
      "Risk-aversion CEs found at /shares/gcp/integration/CE_library_epa_vsl_bc39/agriculture_clipped//risk_aversion_ce_cc_eta1.016010255.zarr. These are being loaded...\n"
     ]
    },
    {
     "name": "stderr",
     "output_type": "stream",
     "text": [
      "/home/liruixue/miniconda3/envs/dscim/lib/python3.8/site-packages/dask/array/core.py:4402: PerformanceWarning: Increasing number of chunks by factor of 30\n",
      "  result = blockwise(\n",
      "/home/liruixue/miniconda3/envs/dscim/lib/python3.8/site-packages/dask/core.py:121: RuntimeWarning: invalid value encountered in true_divide\n",
      "  return func(*(_execute_task(a, cache) for a in args))\n",
      "/home/liruixue/miniconda3/envs/dscim/lib/python3.8/site-packages/dask/core.py:121: RuntimeWarning: invalid value encountered in true_divide\n",
      "  return func(*(_execute_task(a, cache) for a in args))\n"
     ]
    },
    {
     "name": "stdout",
     "output_type": "stream",
     "text": [
      "Saving /mnt/CIL_integration/menu_results_AR6_bc39_diag/agriculture_clipped/2060/unmasked/equity_euler_ramsey_eta1.016010255_rho9.149608e-05_damage_function_points.csv\n",
      "Extrapolating global consumption.\n"
     ]
    },
    {
     "name": "stderr",
     "output_type": "stream",
     "text": [
      "/home/liruixue/miniconda3/envs/dscim/lib/python3.8/site-packages/dask/core.py:121: RuntimeWarning: invalid value encountered in true_divide\n",
      "  return func(*(_execute_task(a, cache) for a in args))\n"
     ]
    },
    {
     "name": "stdout",
     "output_type": "stream",
     "text": [
      "Saving /mnt/CIL_integration/menu_results_AR6_bc39_diag/agriculture_clipped/2060/unmasked/equity_euler_ramsey_eta1.016010255_rho9.149608e-05_global_consumption.nc4\n"
     ]
    },
    {
     "name": "stderr",
     "output_type": "stream",
     "text": [
      "/home/liruixue/miniconda3/envs/dscim/lib/python3.8/site-packages/dask/core.py:121: RuntimeWarning: invalid value encountered in true_divide\n",
      "  return func(*(_execute_task(a, cache) for a in args))\n",
      "/home/liruixue/miniconda3/envs/dscim/lib/python3.8/site-packages/dask/core.py:121: RuntimeWarning: invalid value encountered in true_divide\n",
      "  return func(*(_execute_task(a, cache) for a in args))\n"
     ]
    },
    {
     "name": "stdout",
     "output_type": "stream",
     "text": [
      "Saving /mnt/CIL_integration/menu_results_AR6_bc39_diag/agriculture_clipped/2060/unmasked/equity_euler_ramsey_eta1.016010255_rho9.149608e-05_damage_function_coefficients.nc4\n",
      "Results available: /mnt/CIL_integration/menu_results_AR6_bc39_diag/agriculture_clipped/2060/unmasked/\n",
      "remaining combos: 108\n",
      "=========================================================\n",
      "('agriculture_clipped', 2060, 'euler_ramsey', 'equity', 6, 39, 1.244459066)\n",
      "\n",
      " Executing Running equity class with the following parameters: \n",
      "Sector: agriculture_clipped \n",
      "Path to damages: /shares/gcp/integration/float32/input_data_histclim/ag_data/v0.0_ag_histclim-delta_clipped.zarr \n",
      "Menu recipe: equity \n",
      "Damages delta: delta_reallocation \n",
      "Discount level: global \n",
      "Discount type: euler_ramsey \n",
      "Damage function path: None \n",
      "\n",
      "\n",
      "Processing damage functions ...\n"
     ]
    },
    {
     "name": "stderr",
     "output_type": "stream",
     "text": [
      "/home/liruixue/miniconda3/envs/dscim/lib/python3.8/site-packages/dask/core.py:121: RuntimeWarning: invalid value encountered in true_divide\n",
      "  return func(*(_execute_task(a, cache) for a in args))\n"
     ]
    },
    {
     "name": "stdout",
     "output_type": "stream",
     "text": [
      "Existing damage functions not found. Damage points will be loaded.\n",
      "Risk-aversion CEs found at /shares/gcp/integration/CE_library_epa_vsl_bc39/agriculture_clipped//risk_aversion_ce_no_cc_eta1.244459066.zarr. These are being loaded...\n"
     ]
    },
    {
     "name": "stderr",
     "output_type": "stream",
     "text": [
      "/home/liruixue/miniconda3/envs/dscim/lib/python3.8/site-packages/dask/array/core.py:4402: PerformanceWarning: Increasing number of chunks by factor of 30\n",
      "  result = blockwise(\n",
      "/home/liruixue/miniconda3/envs/dscim/lib/python3.8/site-packages/dask/core.py:121: RuntimeWarning: invalid value encountered in true_divide\n",
      "  return func(*(_execute_task(a, cache) for a in args))\n"
     ]
    },
    {
     "name": "stdout",
     "output_type": "stream",
     "text": [
      "Risk-aversion CEs found at /shares/gcp/integration/CE_library_epa_vsl_bc39/agriculture_clipped//risk_aversion_ce_cc_eta1.244459066.zarr. These are being loaded...\n"
     ]
    },
    {
     "name": "stderr",
     "output_type": "stream",
     "text": [
      "/home/liruixue/miniconda3/envs/dscim/lib/python3.8/site-packages/dask/array/core.py:4402: PerformanceWarning: Increasing number of chunks by factor of 30\n",
      "  result = blockwise(\n",
      "/home/liruixue/miniconda3/envs/dscim/lib/python3.8/site-packages/dask/core.py:121: RuntimeWarning: invalid value encountered in true_divide\n",
      "  return func(*(_execute_task(a, cache) for a in args))\n",
      "/home/liruixue/miniconda3/envs/dscim/lib/python3.8/site-packages/dask/core.py:121: RuntimeWarning: invalid value encountered in true_divide\n",
      "  return func(*(_execute_task(a, cache) for a in args))\n"
     ]
    },
    {
     "name": "stdout",
     "output_type": "stream",
     "text": [
      "Saving /mnt/CIL_integration/menu_results_AR6_bc39_diag/agriculture_clipped/2060/unmasked/equity_euler_ramsey_eta1.244459066_rho0.00197263997_damage_function_points.csv\n",
      "Extrapolating global consumption.\n"
     ]
    },
    {
     "name": "stderr",
     "output_type": "stream",
     "text": [
      "/home/liruixue/miniconda3/envs/dscim/lib/python3.8/site-packages/dask/core.py:121: RuntimeWarning: invalid value encountered in true_divide\n",
      "  return func(*(_execute_task(a, cache) for a in args))\n"
     ]
    },
    {
     "name": "stdout",
     "output_type": "stream",
     "text": [
      "Saving /mnt/CIL_integration/menu_results_AR6_bc39_diag/agriculture_clipped/2060/unmasked/equity_euler_ramsey_eta1.244459066_rho0.00197263997_global_consumption.nc4\n"
     ]
    },
    {
     "name": "stderr",
     "output_type": "stream",
     "text": [
      "/home/liruixue/miniconda3/envs/dscim/lib/python3.8/site-packages/dask/core.py:121: RuntimeWarning: invalid value encountered in true_divide\n",
      "  return func(*(_execute_task(a, cache) for a in args))\n",
      "/home/liruixue/miniconda3/envs/dscim/lib/python3.8/site-packages/dask/core.py:121: RuntimeWarning: invalid value encountered in true_divide\n",
      "  return func(*(_execute_task(a, cache) for a in args))\n"
     ]
    },
    {
     "name": "stdout",
     "output_type": "stream",
     "text": [
      "Saving /mnt/CIL_integration/menu_results_AR6_bc39_diag/agriculture_clipped/2060/unmasked/equity_euler_ramsey_eta1.244459066_rho0.00197263997_damage_function_coefficients.nc4\n",
      "Results available: /mnt/CIL_integration/menu_results_AR6_bc39_diag/agriculture_clipped/2060/unmasked/\n",
      "remaining combos: 107\n",
      "=========================================================\n",
      "('agriculture_clipped', 2060, 'euler_ramsey', 'equity', 6, 39, 1.421158116)\n"
     ]
    },
    {
     "name": "stderr",
     "output_type": "stream",
     "text": [
      "/home/liruixue/miniconda3/envs/dscim/lib/python3.8/site-packages/dask/core.py:121: RuntimeWarning: invalid value encountered in true_divide\n",
      "  return func(*(_execute_task(a, cache) for a in args))\n"
     ]
    },
    {
     "name": "stdout",
     "output_type": "stream",
     "text": [
      "\n",
      " Executing Running equity class with the following parameters: \n",
      "Sector: agriculture_clipped \n",
      "Path to damages: /shares/gcp/integration/float32/input_data_histclim/ag_data/v0.0_ag_histclim-delta_clipped.zarr \n",
      "Menu recipe: equity \n",
      "Damages delta: delta_reallocation \n",
      "Discount level: global \n",
      "Discount type: euler_ramsey \n",
      "Damage function path: None \n",
      "\n",
      "\n",
      "Processing damage functions ...\n",
      "Existing damage functions not found. Damage points will be loaded.\n",
      "Risk-aversion CEs found at /shares/gcp/integration/CE_library_epa_vsl_bc39/agriculture_clipped//risk_aversion_ce_no_cc_eta1.421158116.zarr. These are being loaded...\n"
     ]
    },
    {
     "name": "stderr",
     "output_type": "stream",
     "text": [
      "/home/liruixue/miniconda3/envs/dscim/lib/python3.8/site-packages/dask/array/core.py:4402: PerformanceWarning: Increasing number of chunks by factor of 30\n",
      "  result = blockwise(\n",
      "/home/liruixue/miniconda3/envs/dscim/lib/python3.8/site-packages/dask/core.py:121: RuntimeWarning: invalid value encountered in true_divide\n",
      "  return func(*(_execute_task(a, cache) for a in args))\n"
     ]
    },
    {
     "name": "stdout",
     "output_type": "stream",
     "text": [
      "Risk-aversion CEs found at /shares/gcp/integration/CE_library_epa_vsl_bc39/agriculture_clipped//risk_aversion_ce_cc_eta1.421158116.zarr. These are being loaded...\n"
     ]
    },
    {
     "name": "stderr",
     "output_type": "stream",
     "text": [
      "/home/liruixue/miniconda3/envs/dscim/lib/python3.8/site-packages/dask/array/core.py:4402: PerformanceWarning: Increasing number of chunks by factor of 30\n",
      "  result = blockwise(\n",
      "/home/liruixue/miniconda3/envs/dscim/lib/python3.8/site-packages/dask/core.py:121: RuntimeWarning: invalid value encountered in true_divide\n",
      "  return func(*(_execute_task(a, cache) for a in args))\n",
      "/home/liruixue/miniconda3/envs/dscim/lib/python3.8/site-packages/dask/core.py:121: RuntimeWarning: invalid value encountered in true_divide\n",
      "  return func(*(_execute_task(a, cache) for a in args))\n"
     ]
    },
    {
     "name": "stdout",
     "output_type": "stream",
     "text": [
      "Saving /mnt/CIL_integration/menu_results_AR6_bc39_diag/agriculture_clipped/2060/unmasked/equity_euler_ramsey_eta1.421158116_rho0.00461878399_damage_function_points.csv\n",
      "Extrapolating global consumption.\n"
     ]
    },
    {
     "name": "stderr",
     "output_type": "stream",
     "text": [
      "/home/liruixue/miniconda3/envs/dscim/lib/python3.8/site-packages/dask/core.py:121: RuntimeWarning: invalid value encountered in true_divide\n",
      "  return func(*(_execute_task(a, cache) for a in args))\n"
     ]
    },
    {
     "name": "stdout",
     "output_type": "stream",
     "text": [
      "Saving /mnt/CIL_integration/menu_results_AR6_bc39_diag/agriculture_clipped/2060/unmasked/equity_euler_ramsey_eta1.421158116_rho0.00461878399_global_consumption.nc4\n"
     ]
    },
    {
     "name": "stderr",
     "output_type": "stream",
     "text": [
      "/home/liruixue/miniconda3/envs/dscim/lib/python3.8/site-packages/dask/core.py:121: RuntimeWarning: invalid value encountered in true_divide\n",
      "  return func(*(_execute_task(a, cache) for a in args))\n",
      "/home/liruixue/miniconda3/envs/dscim/lib/python3.8/site-packages/dask/core.py:121: RuntimeWarning: invalid value encountered in true_divide\n",
      "  return func(*(_execute_task(a, cache) for a in args))\n"
     ]
    },
    {
     "name": "stdout",
     "output_type": "stream",
     "text": [
      "Saving /mnt/CIL_integration/menu_results_AR6_bc39_diag/agriculture_clipped/2060/unmasked/equity_euler_ramsey_eta1.421158116_rho0.00461878399_damage_function_coefficients.nc4\n",
      "Results available: /mnt/CIL_integration/menu_results_AR6_bc39_diag/agriculture_clipped/2060/unmasked/\n",
      "remaining combos: 106\n",
      "=========================================================\n",
      "('agriculture_clipped', 2060, 'euler_ramsey', 'equity', 6, 39, 1.567899395)\n"
     ]
    },
    {
     "name": "stderr",
     "output_type": "stream",
     "text": [
      "/home/liruixue/miniconda3/envs/dscim/lib/python3.8/site-packages/dask/core.py:121: RuntimeWarning: invalid value encountered in true_divide\n",
      "  return func(*(_execute_task(a, cache) for a in args))\n"
     ]
    },
    {
     "name": "stdout",
     "output_type": "stream",
     "text": [
      "\n",
      " Executing Running equity class with the following parameters: \n",
      "Sector: agriculture_clipped \n",
      "Path to damages: /shares/gcp/integration/float32/input_data_histclim/ag_data/v0.0_ag_histclim-delta_clipped.zarr \n",
      "Menu recipe: equity \n",
      "Damages delta: delta_reallocation \n",
      "Discount level: global \n",
      "Discount type: euler_ramsey \n",
      "Damage function path: None \n",
      "\n",
      "\n",
      "Processing damage functions ...\n",
      "Existing damage functions not found. Damage points will be loaded.\n",
      "Risk-aversion CEs found at /shares/gcp/integration/CE_library_epa_vsl_bc39/agriculture_clipped//risk_aversion_ce_no_cc_eta1.567899395.zarr. These are being loaded...\n"
     ]
    },
    {
     "name": "stderr",
     "output_type": "stream",
     "text": [
      "/home/liruixue/miniconda3/envs/dscim/lib/python3.8/site-packages/dask/array/core.py:4402: PerformanceWarning: Increasing number of chunks by factor of 30\n",
      "  result = blockwise(\n",
      "/home/liruixue/miniconda3/envs/dscim/lib/python3.8/site-packages/dask/core.py:121: RuntimeWarning: invalid value encountered in true_divide\n",
      "  return func(*(_execute_task(a, cache) for a in args))\n"
     ]
    },
    {
     "name": "stdout",
     "output_type": "stream",
     "text": [
      "Risk-aversion CEs found at /shares/gcp/integration/CE_library_epa_vsl_bc39/agriculture_clipped//risk_aversion_ce_cc_eta1.567899395.zarr. These are being loaded...\n"
     ]
    },
    {
     "name": "stderr",
     "output_type": "stream",
     "text": [
      "/home/liruixue/miniconda3/envs/dscim/lib/python3.8/site-packages/dask/array/core.py:4402: PerformanceWarning: Increasing number of chunks by factor of 30\n",
      "  result = blockwise(\n",
      "/home/liruixue/miniconda3/envs/dscim/lib/python3.8/site-packages/dask/core.py:121: RuntimeWarning: invalid value encountered in true_divide\n",
      "  return func(*(_execute_task(a, cache) for a in args))\n",
      "/home/liruixue/miniconda3/envs/dscim/lib/python3.8/site-packages/dask/core.py:121: RuntimeWarning: invalid value encountered in true_divide\n",
      "  return func(*(_execute_task(a, cache) for a in args))\n"
     ]
    },
    {
     "name": "stdout",
     "output_type": "stream",
     "text": [
      "Saving /mnt/CIL_integration/menu_results_AR6_bc39_diag/agriculture_clipped/2060/unmasked/equity_euler_ramsey_eta1.567899395_rho0.00770271076_damage_function_points.csv\n",
      "Extrapolating global consumption.\n"
     ]
    },
    {
     "name": "stderr",
     "output_type": "stream",
     "text": [
      "/home/liruixue/miniconda3/envs/dscim/lib/python3.8/site-packages/dask/core.py:121: RuntimeWarning: invalid value encountered in true_divide\n",
      "  return func(*(_execute_task(a, cache) for a in args))\n"
     ]
    },
    {
     "name": "stdout",
     "output_type": "stream",
     "text": [
      "Saving /mnt/CIL_integration/menu_results_AR6_bc39_diag/agriculture_clipped/2060/unmasked/equity_euler_ramsey_eta1.567899395_rho0.00770271076_global_consumption.nc4\n"
     ]
    },
    {
     "name": "stderr",
     "output_type": "stream",
     "text": [
      "/home/liruixue/miniconda3/envs/dscim/lib/python3.8/site-packages/dask/core.py:121: RuntimeWarning: invalid value encountered in true_divide\n",
      "  return func(*(_execute_task(a, cache) for a in args))\n",
      "/home/liruixue/miniconda3/envs/dscim/lib/python3.8/site-packages/dask/core.py:121: RuntimeWarning: invalid value encountered in true_divide\n",
      "  return func(*(_execute_task(a, cache) for a in args))\n"
     ]
    },
    {
     "name": "stdout",
     "output_type": "stream",
     "text": [
      "Saving /mnt/CIL_integration/menu_results_AR6_bc39_diag/agriculture_clipped/2060/unmasked/equity_euler_ramsey_eta1.567899395_rho0.00770271076_damage_function_coefficients.nc4\n",
      "Results available: /mnt/CIL_integration/menu_results_AR6_bc39_diag/agriculture_clipped/2060/unmasked/\n",
      "remaining combos: 105\n",
      "=========================================================\n",
      "('agriculture_clipped', 2060, 'euler_gwr', 'adding_up', 6, 39, 2.0)\n",
      "Rechunking for 'adding_up' option.\n"
     ]
    },
    {
     "name": "stderr",
     "output_type": "stream",
     "text": [
      "/home/liruixue/miniconda3/envs/dscim/lib/python3.8/site-packages/dask/core.py:121: RuntimeWarning: invalid value encountered in true_divide\n",
      "  return func(*(_execute_task(a, cache) for a in args))\n"
     ]
    },
    {
     "name": "stdout",
     "output_type": "stream",
     "text": [
      "\n",
      " Executing Running adding_up class with the following parameters: \n",
      "Sector: agriculture_clipped \n",
      "Path to damages: /shares/gcp/integration/float32/input_data_histclim/ag_data/v0.0_ag_histclim-delta_clipped.zarr \n",
      "Menu recipe: adding_up \n",
      "Damages delta: delta_reallocation \n",
      "Discount level: global \n",
      "Discount type: euler_gwr \n",
      "Damage function path: None \n",
      "\n",
      "\n",
      "Processing damage functions ...\n",
      "Existing damage functions not found. Damage points will be loaded.\n",
      "Adding up CEs found at /shares/gcp/integration/CE_library_epa_vsl_bc39/agriculture_clipped//adding_up_ce_cc_eta2.0.zarr, /shares/gcp/integration/CE_library_epa_vsl_bc39/agriculture_clipped//adding_up_ce_no_cc_eta2.0.zarr. These are being loaded...\n",
      "Saving /mnt/CIL_integration/menu_results_AR6_bc39_diag/agriculture_clipped/2060/unmasked/adding_up_euler_gwr_eta2.0_rho0.0_damage_function_points.csv\n",
      "Extrapolating global consumption.\n",
      "End-of-century growth rates are not capped.\n",
      "Saving /mnt/CIL_integration/menu_results_AR6_bc39_diag/agriculture_clipped/2060/unmasked/adding_up_euler_gwr_eta2.0_rho0.0_global_consumption.nc4\n",
      "Saving /mnt/CIL_integration/menu_results_AR6_bc39_diag/agriculture_clipped/2060/unmasked/adding_up_euler_gwr_eta2.0_rho0.0_damage_function_coefficients.nc4\n",
      "Results available: /mnt/CIL_integration/menu_results_AR6_bc39_diag/agriculture_clipped/2060/unmasked/\n",
      "remaining combos: 104\n",
      "=========================================================\n",
      "('agriculture_clipped', 2060, 'euler_gwr', 'adding_up', 6, 39, 1.016010255)\n",
      "Rechunking for 'adding_up' option.\n",
      "\n",
      " Executing Running adding_up class with the following parameters: \n",
      "Sector: agriculture_clipped \n",
      "Path to damages: /shares/gcp/integration/float32/input_data_histclim/ag_data/v0.0_ag_histclim-delta_clipped.zarr \n",
      "Menu recipe: adding_up \n",
      "Damages delta: delta_reallocation \n",
      "Discount level: global \n",
      "Discount type: euler_gwr \n",
      "Damage function path: None \n",
      "\n",
      "\n",
      "Processing damage functions ...\n",
      "Existing damage functions not found. Damage points will be loaded.\n",
      "Adding up CEs found at /shares/gcp/integration/CE_library_epa_vsl_bc39/agriculture_clipped//adding_up_ce_cc_eta1.016010255.zarr, /shares/gcp/integration/CE_library_epa_vsl_bc39/agriculture_clipped//adding_up_ce_no_cc_eta1.016010255.zarr. These are being loaded...\n",
      "Saving /mnt/CIL_integration/menu_results_AR6_bc39_diag/agriculture_clipped/2060/unmasked/adding_up_euler_gwr_eta1.016010255_rho9.149608e-05_damage_function_points.csv\n",
      "Extrapolating global consumption.\n",
      "End-of-century growth rates are not capped.\n",
      "Saving /mnt/CIL_integration/menu_results_AR6_bc39_diag/agriculture_clipped/2060/unmasked/adding_up_euler_gwr_eta1.016010255_rho9.149608e-05_global_consumption.nc4\n",
      "Saving /mnt/CIL_integration/menu_results_AR6_bc39_diag/agriculture_clipped/2060/unmasked/adding_up_euler_gwr_eta1.016010255_rho9.149608e-05_damage_function_coefficients.nc4\n",
      "Results available: /mnt/CIL_integration/menu_results_AR6_bc39_diag/agriculture_clipped/2060/unmasked/\n",
      "remaining combos: 103\n",
      "=========================================================\n",
      "('agriculture_clipped', 2060, 'euler_gwr', 'adding_up', 6, 39, 1.244459066)\n",
      "Rechunking for 'adding_up' option.\n",
      "\n",
      " Executing Running adding_up class with the following parameters: \n",
      "Sector: agriculture_clipped \n",
      "Path to damages: /shares/gcp/integration/float32/input_data_histclim/ag_data/v0.0_ag_histclim-delta_clipped.zarr \n",
      "Menu recipe: adding_up \n",
      "Damages delta: delta_reallocation \n",
      "Discount level: global \n",
      "Discount type: euler_gwr \n",
      "Damage function path: None \n",
      "\n",
      "\n",
      "Processing damage functions ...\n",
      "Existing damage functions not found. Damage points will be loaded.\n",
      "Adding up CEs found at /shares/gcp/integration/CE_library_epa_vsl_bc39/agriculture_clipped//adding_up_ce_cc_eta1.244459066.zarr, /shares/gcp/integration/CE_library_epa_vsl_bc39/agriculture_clipped//adding_up_ce_no_cc_eta1.244459066.zarr. These are being loaded...\n",
      "Saving /mnt/CIL_integration/menu_results_AR6_bc39_diag/agriculture_clipped/2060/unmasked/adding_up_euler_gwr_eta1.244459066_rho0.00197263997_damage_function_points.csv\n",
      "Extrapolating global consumption.\n",
      "End-of-century growth rates are not capped.\n",
      "Saving /mnt/CIL_integration/menu_results_AR6_bc39_diag/agriculture_clipped/2060/unmasked/adding_up_euler_gwr_eta1.244459066_rho0.00197263997_global_consumption.nc4\n",
      "Saving /mnt/CIL_integration/menu_results_AR6_bc39_diag/agriculture_clipped/2060/unmasked/adding_up_euler_gwr_eta1.244459066_rho0.00197263997_damage_function_coefficients.nc4\n",
      "Results available: /mnt/CIL_integration/menu_results_AR6_bc39_diag/agriculture_clipped/2060/unmasked/\n",
      "remaining combos: 102\n",
      "=========================================================\n",
      "('agriculture_clipped', 2060, 'euler_gwr', 'adding_up', 6, 39, 1.421158116)\n",
      "Rechunking for 'adding_up' option.\n",
      "\n",
      " Executing Running adding_up class with the following parameters: \n",
      "Sector: agriculture_clipped \n",
      "Path to damages: /shares/gcp/integration/float32/input_data_histclim/ag_data/v0.0_ag_histclim-delta_clipped.zarr \n",
      "Menu recipe: adding_up \n",
      "Damages delta: delta_reallocation \n",
      "Discount level: global \n",
      "Discount type: euler_gwr \n",
      "Damage function path: None \n",
      "\n",
      "\n",
      "Processing damage functions ...\n",
      "Existing damage functions not found. Damage points will be loaded.\n",
      "Adding up CEs found at /shares/gcp/integration/CE_library_epa_vsl_bc39/agriculture_clipped//adding_up_ce_cc_eta1.421158116.zarr, /shares/gcp/integration/CE_library_epa_vsl_bc39/agriculture_clipped//adding_up_ce_no_cc_eta1.421158116.zarr. These are being loaded...\n",
      "Saving /mnt/CIL_integration/menu_results_AR6_bc39_diag/agriculture_clipped/2060/unmasked/adding_up_euler_gwr_eta1.421158116_rho0.00461878399_damage_function_points.csv\n",
      "Extrapolating global consumption.\n",
      "End-of-century growth rates are not capped.\n",
      "Saving /mnt/CIL_integration/menu_results_AR6_bc39_diag/agriculture_clipped/2060/unmasked/adding_up_euler_gwr_eta1.421158116_rho0.00461878399_global_consumption.nc4\n",
      "Saving /mnt/CIL_integration/menu_results_AR6_bc39_diag/agriculture_clipped/2060/unmasked/adding_up_euler_gwr_eta1.421158116_rho0.00461878399_damage_function_coefficients.nc4\n",
      "Results available: /mnt/CIL_integration/menu_results_AR6_bc39_diag/agriculture_clipped/2060/unmasked/\n",
      "remaining combos: 101\n",
      "=========================================================\n",
      "('agriculture_clipped', 2060, 'euler_gwr', 'adding_up', 6, 39, 1.567899395)\n",
      "Rechunking for 'adding_up' option.\n",
      "\n",
      " Executing Running adding_up class with the following parameters: \n",
      "Sector: agriculture_clipped \n",
      "Path to damages: /shares/gcp/integration/float32/input_data_histclim/ag_data/v0.0_ag_histclim-delta_clipped.zarr \n",
      "Menu recipe: adding_up \n",
      "Damages delta: delta_reallocation \n",
      "Discount level: global \n",
      "Discount type: euler_gwr \n",
      "Damage function path: None \n",
      "\n",
      "\n",
      "Processing damage functions ...\n",
      "Existing damage functions not found. Damage points will be loaded.\n",
      "Adding up CEs found at /shares/gcp/integration/CE_library_epa_vsl_bc39/agriculture_clipped//adding_up_ce_cc_eta1.567899395.zarr, /shares/gcp/integration/CE_library_epa_vsl_bc39/agriculture_clipped//adding_up_ce_no_cc_eta1.567899395.zarr. These are being loaded...\n",
      "Saving /mnt/CIL_integration/menu_results_AR6_bc39_diag/agriculture_clipped/2060/unmasked/adding_up_euler_gwr_eta1.567899395_rho0.00770271076_damage_function_points.csv\n",
      "Extrapolating global consumption.\n",
      "End-of-century growth rates are not capped.\n",
      "Saving /mnt/CIL_integration/menu_results_AR6_bc39_diag/agriculture_clipped/2060/unmasked/adding_up_euler_gwr_eta1.567899395_rho0.00770271076_global_consumption.nc4\n",
      "Saving /mnt/CIL_integration/menu_results_AR6_bc39_diag/agriculture_clipped/2060/unmasked/adding_up_euler_gwr_eta1.567899395_rho0.00770271076_damage_function_coefficients.nc4\n",
      "Results available: /mnt/CIL_integration/menu_results_AR6_bc39_diag/agriculture_clipped/2060/unmasked/\n",
      "remaining combos: 100\n",
      "=========================================================\n",
      "('agriculture_clipped', 2060, 'euler_gwr', 'risk_aversion', 6, 39, 2.0)\n",
      "\n",
      " Executing Running risk_aversion class with the following parameters: \n",
      "Sector: agriculture_clipped \n",
      "Path to damages: /shares/gcp/integration/float32/input_data_histclim/ag_data/v0.0_ag_histclim-delta_clipped.zarr \n",
      "Menu recipe: risk_aversion \n",
      "Damages delta: delta_reallocation \n",
      "Discount level: global \n",
      "Discount type: euler_gwr \n",
      "Damage function path: None \n",
      "\n",
      "\n",
      "Processing damage functions ...\n",
      "Existing damage functions not found. Damage points will be loaded.\n",
      "Risk-aversion CEs found at /shares/gcp/integration/CE_library_epa_vsl_bc39/agriculture_clipped//risk_aversion_ce_no_cc_eta2.0.zarr. These are being loaded...\n",
      "Risk-aversion CEs found at /shares/gcp/integration/CE_library_epa_vsl_bc39/agriculture_clipped//risk_aversion_ce_cc_eta2.0.zarr. These are being loaded...\n"
     ]
    },
    {
     "name": "stderr",
     "output_type": "stream",
     "text": [
      "/home/liruixue/miniconda3/envs/dscim/lib/python3.8/site-packages/xarray/core/nanops.py:148: RuntimeWarning: Mean of empty slice\n",
      "  return np.nanmean(a, axis=axis, dtype=dtype)\n"
     ]
    },
    {
     "name": "stdout",
     "output_type": "stream",
     "text": [
      "Saving /mnt/CIL_integration/menu_results_AR6_bc39_diag/agriculture_clipped/2060/unmasked/risk_aversion_euler_gwr_eta2.0_rho0.0_damage_function_points.csv\n",
      "Extrapolating global consumption.\n",
      "End-of-century growth rates are not capped.\n"
     ]
    },
    {
     "name": "stderr",
     "output_type": "stream",
     "text": [
      "/home/liruixue/miniconda3/envs/dscim/lib/python3.8/site-packages/dask/core.py:121: RuntimeWarning: invalid value encountered in true_divide\n",
      "  return func(*(_execute_task(a, cache) for a in args))\n"
     ]
    },
    {
     "name": "stdout",
     "output_type": "stream",
     "text": [
      "Saving /mnt/CIL_integration/menu_results_AR6_bc39_diag/agriculture_clipped/2060/unmasked/risk_aversion_euler_gwr_eta2.0_rho0.0_global_consumption.nc4\n"
     ]
    },
    {
     "name": "stderr",
     "output_type": "stream",
     "text": [
      "/home/liruixue/miniconda3/envs/dscim/lib/python3.8/site-packages/dask/core.py:121: RuntimeWarning: invalid value encountered in true_divide\n",
      "  return func(*(_execute_task(a, cache) for a in args))\n",
      "/home/liruixue/miniconda3/envs/dscim/lib/python3.8/site-packages/dask/core.py:121: RuntimeWarning: invalid value encountered in true_divide\n",
      "  return func(*(_execute_task(a, cache) for a in args))\n",
      "/home/liruixue/miniconda3/envs/dscim/lib/python3.8/site-packages/dask/core.py:121: RuntimeWarning: invalid value encountered in true_divide\n",
      "  return func(*(_execute_task(a, cache) for a in args))\n",
      "/home/liruixue/miniconda3/envs/dscim/lib/python3.8/site-packages/dask/core.py:121: RuntimeWarning: invalid value encountered in true_divide\n",
      "  return func(*(_execute_task(a, cache) for a in args))\n"
     ]
    },
    {
     "name": "stdout",
     "output_type": "stream",
     "text": [
      "Saving /mnt/CIL_integration/menu_results_AR6_bc39_diag/agriculture_clipped/2060/unmasked/risk_aversion_euler_gwr_eta2.0_rho0.0_damage_function_coefficients.nc4\n"
     ]
    },
    {
     "name": "stderr",
     "output_type": "stream",
     "text": [
      "/home/liruixue/miniconda3/envs/dscim/lib/python3.8/site-packages/dask/core.py:121: RuntimeWarning: invalid value encountered in true_divide\n",
      "  return func(*(_execute_task(a, cache) for a in args))\n"
     ]
    },
    {
     "name": "stdout",
     "output_type": "stream",
     "text": [
      "Results available: /mnt/CIL_integration/menu_results_AR6_bc39_diag/agriculture_clipped/2060/unmasked/\n",
      "remaining combos: 99\n",
      "=========================================================\n",
      "('agriculture_clipped', 2060, 'euler_gwr', 'risk_aversion', 6, 39, 1.016010255)\n",
      "\n",
      " Executing Running risk_aversion class with the following parameters: \n",
      "Sector: agriculture_clipped \n",
      "Path to damages: /shares/gcp/integration/float32/input_data_histclim/ag_data/v0.0_ag_histclim-delta_clipped.zarr \n",
      "Menu recipe: risk_aversion \n",
      "Damages delta: delta_reallocation \n",
      "Discount level: global \n",
      "Discount type: euler_gwr \n",
      "Damage function path: None \n",
      "\n",
      "\n",
      "Processing damage functions ...\n",
      "Existing damage functions not found. Damage points will be loaded.\n",
      "Risk-aversion CEs found at /shares/gcp/integration/CE_library_epa_vsl_bc39/agriculture_clipped//risk_aversion_ce_no_cc_eta1.016010255.zarr. These are being loaded...\n",
      "Risk-aversion CEs found at /shares/gcp/integration/CE_library_epa_vsl_bc39/agriculture_clipped//risk_aversion_ce_cc_eta1.016010255.zarr. These are being loaded...\n",
      "Saving /mnt/CIL_integration/menu_results_AR6_bc39_diag/agriculture_clipped/2060/unmasked/risk_aversion_euler_gwr_eta1.016010255_rho9.149608e-05_damage_function_points.csv\n",
      "Extrapolating global consumption.\n",
      "End-of-century growth rates are not capped.\n"
     ]
    },
    {
     "name": "stderr",
     "output_type": "stream",
     "text": [
      "/home/liruixue/miniconda3/envs/dscim/lib/python3.8/site-packages/dask/core.py:121: RuntimeWarning: invalid value encountered in true_divide\n",
      "  return func(*(_execute_task(a, cache) for a in args))\n",
      "/home/liruixue/miniconda3/envs/dscim/lib/python3.8/site-packages/dask/core.py:121: RuntimeWarning: invalid value encountered in true_divide\n",
      "  return func(*(_execute_task(a, cache) for a in args))\n",
      "/home/liruixue/miniconda3/envs/dscim/lib/python3.8/site-packages/dask/core.py:121: RuntimeWarning: invalid value encountered in true_divide\n",
      "  return func(*(_execute_task(a, cache) for a in args))\n",
      "/home/liruixue/miniconda3/envs/dscim/lib/python3.8/site-packages/dask/core.py:121: RuntimeWarning: invalid value encountered in true_divide\n",
      "  return func(*(_execute_task(a, cache) for a in args))\n"
     ]
    },
    {
     "name": "stdout",
     "output_type": "stream",
     "text": [
      "Saving /mnt/CIL_integration/menu_results_AR6_bc39_diag/agriculture_clipped/2060/unmasked/risk_aversion_euler_gwr_eta1.016010255_rho9.149608e-05_global_consumption.nc4\n"
     ]
    },
    {
     "name": "stderr",
     "output_type": "stream",
     "text": [
      "/home/liruixue/miniconda3/envs/dscim/lib/python3.8/site-packages/dask/core.py:121: RuntimeWarning: invalid value encountered in true_divide\n",
      "  return func(*(_execute_task(a, cache) for a in args))\n",
      "/home/liruixue/miniconda3/envs/dscim/lib/python3.8/site-packages/dask/core.py:121: RuntimeWarning: invalid value encountered in true_divide\n",
      "  return func(*(_execute_task(a, cache) for a in args))\n",
      "/home/liruixue/miniconda3/envs/dscim/lib/python3.8/site-packages/dask/core.py:121: RuntimeWarning: invalid value encountered in true_divide\n",
      "  return func(*(_execute_task(a, cache) for a in args))\n"
     ]
    },
    {
     "name": "stdout",
     "output_type": "stream",
     "text": [
      "Saving /mnt/CIL_integration/menu_results_AR6_bc39_diag/agriculture_clipped/2060/unmasked/risk_aversion_euler_gwr_eta1.016010255_rho9.149608e-05_damage_function_coefficients.nc4\n"
     ]
    },
    {
     "name": "stderr",
     "output_type": "stream",
     "text": [
      "/home/liruixue/miniconda3/envs/dscim/lib/python3.8/site-packages/dask/core.py:121: RuntimeWarning: invalid value encountered in true_divide\n",
      "  return func(*(_execute_task(a, cache) for a in args))\n"
     ]
    },
    {
     "name": "stdout",
     "output_type": "stream",
     "text": [
      "Results available: /mnt/CIL_integration/menu_results_AR6_bc39_diag/agriculture_clipped/2060/unmasked/\n",
      "remaining combos: 98\n",
      "=========================================================\n",
      "('agriculture_clipped', 2060, 'euler_gwr', 'risk_aversion', 6, 39, 1.244459066)\n",
      "\n",
      " Executing Running risk_aversion class with the following parameters: \n",
      "Sector: agriculture_clipped \n",
      "Path to damages: /shares/gcp/integration/float32/input_data_histclim/ag_data/v0.0_ag_histclim-delta_clipped.zarr \n",
      "Menu recipe: risk_aversion \n",
      "Damages delta: delta_reallocation \n",
      "Discount level: global \n",
      "Discount type: euler_gwr \n",
      "Damage function path: None \n",
      "\n",
      "\n",
      "Processing damage functions ...\n",
      "Existing damage functions not found. Damage points will be loaded.\n",
      "Risk-aversion CEs found at /shares/gcp/integration/CE_library_epa_vsl_bc39/agriculture_clipped//risk_aversion_ce_no_cc_eta1.244459066.zarr. These are being loaded...\n",
      "Risk-aversion CEs found at /shares/gcp/integration/CE_library_epa_vsl_bc39/agriculture_clipped//risk_aversion_ce_cc_eta1.244459066.zarr. These are being loaded...\n",
      "Saving /mnt/CIL_integration/menu_results_AR6_bc39_diag/agriculture_clipped/2060/unmasked/risk_aversion_euler_gwr_eta1.244459066_rho0.00197263997_damage_function_points.csv\n",
      "Extrapolating global consumption.\n",
      "End-of-century growth rates are not capped.\n"
     ]
    },
    {
     "name": "stderr",
     "output_type": "stream",
     "text": [
      "/home/liruixue/miniconda3/envs/dscim/lib/python3.8/site-packages/dask/core.py:121: RuntimeWarning: invalid value encountered in true_divide\n",
      "  return func(*(_execute_task(a, cache) for a in args))\n",
      "/home/liruixue/miniconda3/envs/dscim/lib/python3.8/site-packages/dask/core.py:121: RuntimeWarning: invalid value encountered in true_divide\n",
      "  return func(*(_execute_task(a, cache) for a in args))\n",
      "/home/liruixue/miniconda3/envs/dscim/lib/python3.8/site-packages/dask/core.py:121: RuntimeWarning: invalid value encountered in true_divide\n",
      "  return func(*(_execute_task(a, cache) for a in args))\n",
      "/home/liruixue/miniconda3/envs/dscim/lib/python3.8/site-packages/dask/core.py:121: RuntimeWarning: invalid value encountered in true_divide\n",
      "  return func(*(_execute_task(a, cache) for a in args))\n"
     ]
    },
    {
     "name": "stdout",
     "output_type": "stream",
     "text": [
      "Saving /mnt/CIL_integration/menu_results_AR6_bc39_diag/agriculture_clipped/2060/unmasked/risk_aversion_euler_gwr_eta1.244459066_rho0.00197263997_global_consumption.nc4\n"
     ]
    },
    {
     "name": "stderr",
     "output_type": "stream",
     "text": [
      "/home/liruixue/miniconda3/envs/dscim/lib/python3.8/site-packages/dask/core.py:121: RuntimeWarning: invalid value encountered in true_divide\n",
      "  return func(*(_execute_task(a, cache) for a in args))\n",
      "/home/liruixue/miniconda3/envs/dscim/lib/python3.8/site-packages/dask/core.py:121: RuntimeWarning: invalid value encountered in true_divide\n",
      "  return func(*(_execute_task(a, cache) for a in args))\n",
      "/home/liruixue/miniconda3/envs/dscim/lib/python3.8/site-packages/dask/core.py:121: RuntimeWarning: invalid value encountered in true_divide\n",
      "  return func(*(_execute_task(a, cache) for a in args))\n"
     ]
    },
    {
     "name": "stdout",
     "output_type": "stream",
     "text": [
      "Saving /mnt/CIL_integration/menu_results_AR6_bc39_diag/agriculture_clipped/2060/unmasked/risk_aversion_euler_gwr_eta1.244459066_rho0.00197263997_damage_function_coefficients.nc4\n"
     ]
    },
    {
     "name": "stderr",
     "output_type": "stream",
     "text": [
      "/home/liruixue/miniconda3/envs/dscim/lib/python3.8/site-packages/dask/core.py:121: RuntimeWarning: invalid value encountered in true_divide\n",
      "  return func(*(_execute_task(a, cache) for a in args))\n"
     ]
    },
    {
     "name": "stdout",
     "output_type": "stream",
     "text": [
      "Results available: /mnt/CIL_integration/menu_results_AR6_bc39_diag/agriculture_clipped/2060/unmasked/\n",
      "remaining combos: 97\n",
      "=========================================================\n",
      "('agriculture_clipped', 2060, 'euler_gwr', 'risk_aversion', 6, 39, 1.421158116)\n",
      "\n",
      " Executing Running risk_aversion class with the following parameters: \n",
      "Sector: agriculture_clipped \n",
      "Path to damages: /shares/gcp/integration/float32/input_data_histclim/ag_data/v0.0_ag_histclim-delta_clipped.zarr \n",
      "Menu recipe: risk_aversion \n",
      "Damages delta: delta_reallocation \n",
      "Discount level: global \n",
      "Discount type: euler_gwr \n",
      "Damage function path: None \n",
      "\n",
      "\n",
      "Processing damage functions ...\n",
      "Existing damage functions not found. Damage points will be loaded.\n",
      "Risk-aversion CEs found at /shares/gcp/integration/CE_library_epa_vsl_bc39/agriculture_clipped//risk_aversion_ce_no_cc_eta1.421158116.zarr. These are being loaded...\n",
      "Risk-aversion CEs found at /shares/gcp/integration/CE_library_epa_vsl_bc39/agriculture_clipped//risk_aversion_ce_cc_eta1.421158116.zarr. These are being loaded...\n",
      "Saving /mnt/CIL_integration/menu_results_AR6_bc39_diag/agriculture_clipped/2060/unmasked/risk_aversion_euler_gwr_eta1.421158116_rho0.00461878399_damage_function_points.csv\n",
      "Extrapolating global consumption.\n",
      "End-of-century growth rates are not capped.\n"
     ]
    },
    {
     "name": "stderr",
     "output_type": "stream",
     "text": [
      "/home/liruixue/miniconda3/envs/dscim/lib/python3.8/site-packages/dask/core.py:121: RuntimeWarning: invalid value encountered in true_divide\n",
      "  return func(*(_execute_task(a, cache) for a in args))\n",
      "/home/liruixue/miniconda3/envs/dscim/lib/python3.8/site-packages/dask/core.py:121: RuntimeWarning: invalid value encountered in true_divide\n",
      "  return func(*(_execute_task(a, cache) for a in args))\n",
      "/home/liruixue/miniconda3/envs/dscim/lib/python3.8/site-packages/dask/core.py:121: RuntimeWarning: invalid value encountered in true_divide\n",
      "  return func(*(_execute_task(a, cache) for a in args))\n",
      "/home/liruixue/miniconda3/envs/dscim/lib/python3.8/site-packages/dask/core.py:121: RuntimeWarning: invalid value encountered in true_divide\n",
      "  return func(*(_execute_task(a, cache) for a in args))\n"
     ]
    },
    {
     "name": "stdout",
     "output_type": "stream",
     "text": [
      "Saving /mnt/CIL_integration/menu_results_AR6_bc39_diag/agriculture_clipped/2060/unmasked/risk_aversion_euler_gwr_eta1.421158116_rho0.00461878399_global_consumption.nc4\n"
     ]
    },
    {
     "name": "stderr",
     "output_type": "stream",
     "text": [
      "/home/liruixue/miniconda3/envs/dscim/lib/python3.8/site-packages/dask/core.py:121: RuntimeWarning: invalid value encountered in true_divide\n",
      "  return func(*(_execute_task(a, cache) for a in args))\n",
      "/home/liruixue/miniconda3/envs/dscim/lib/python3.8/site-packages/dask/core.py:121: RuntimeWarning: invalid value encountered in true_divide\n",
      "  return func(*(_execute_task(a, cache) for a in args))\n",
      "/home/liruixue/miniconda3/envs/dscim/lib/python3.8/site-packages/dask/core.py:121: RuntimeWarning: invalid value encountered in true_divide\n",
      "  return func(*(_execute_task(a, cache) for a in args))\n",
      "/home/liruixue/miniconda3/envs/dscim/lib/python3.8/site-packages/dask/core.py:121: RuntimeWarning: invalid value encountered in true_divide\n",
      "  return func(*(_execute_task(a, cache) for a in args))\n"
     ]
    },
    {
     "name": "stdout",
     "output_type": "stream",
     "text": [
      "Saving /mnt/CIL_integration/menu_results_AR6_bc39_diag/agriculture_clipped/2060/unmasked/risk_aversion_euler_gwr_eta1.421158116_rho0.00461878399_damage_function_coefficients.nc4\n"
     ]
    },
    {
     "name": "stderr",
     "output_type": "stream",
     "text": [
      "/home/liruixue/miniconda3/envs/dscim/lib/python3.8/site-packages/dask/core.py:121: RuntimeWarning: invalid value encountered in true_divide\n",
      "  return func(*(_execute_task(a, cache) for a in args))\n"
     ]
    },
    {
     "name": "stdout",
     "output_type": "stream",
     "text": [
      "Results available: /mnt/CIL_integration/menu_results_AR6_bc39_diag/agriculture_clipped/2060/unmasked/\n",
      "remaining combos: 96\n",
      "=========================================================\n",
      "('agriculture_clipped', 2060, 'euler_gwr', 'risk_aversion', 6, 39, 1.567899395)\n",
      "\n",
      " Executing Running risk_aversion class with the following parameters: \n",
      "Sector: agriculture_clipped \n",
      "Path to damages: /shares/gcp/integration/float32/input_data_histclim/ag_data/v0.0_ag_histclim-delta_clipped.zarr \n",
      "Menu recipe: risk_aversion \n",
      "Damages delta: delta_reallocation \n",
      "Discount level: global \n",
      "Discount type: euler_gwr \n",
      "Damage function path: None \n",
      "\n",
      "\n",
      "Processing damage functions ...\n",
      "Existing damage functions not found. Damage points will be loaded.\n",
      "Risk-aversion CEs found at /shares/gcp/integration/CE_library_epa_vsl_bc39/agriculture_clipped//risk_aversion_ce_no_cc_eta1.567899395.zarr. These are being loaded...\n",
      "Risk-aversion CEs found at /shares/gcp/integration/CE_library_epa_vsl_bc39/agriculture_clipped//risk_aversion_ce_cc_eta1.567899395.zarr. These are being loaded...\n",
      "Saving /mnt/CIL_integration/menu_results_AR6_bc39_diag/agriculture_clipped/2060/unmasked/risk_aversion_euler_gwr_eta1.567899395_rho0.00770271076_damage_function_points.csv\n",
      "Extrapolating global consumption.\n",
      "End-of-century growth rates are not capped.\n"
     ]
    },
    {
     "name": "stderr",
     "output_type": "stream",
     "text": [
      "/home/liruixue/miniconda3/envs/dscim/lib/python3.8/site-packages/dask/core.py:121: RuntimeWarning: invalid value encountered in true_divide\n",
      "  return func(*(_execute_task(a, cache) for a in args))\n",
      "/home/liruixue/miniconda3/envs/dscim/lib/python3.8/site-packages/dask/core.py:121: RuntimeWarning: invalid value encountered in true_divide\n",
      "  return func(*(_execute_task(a, cache) for a in args))\n"
     ]
    },
    {
     "name": "stdout",
     "output_type": "stream",
     "text": [
      "Saving /mnt/CIL_integration/menu_results_AR6_bc39_diag/agriculture_clipped/2060/unmasked/risk_aversion_euler_gwr_eta1.567899395_rho0.00770271076_global_consumption.nc4\n"
     ]
    },
    {
     "name": "stderr",
     "output_type": "stream",
     "text": [
      "/home/liruixue/miniconda3/envs/dscim/lib/python3.8/site-packages/dask/core.py:121: RuntimeWarning: invalid value encountered in true_divide\n",
      "  return func(*(_execute_task(a, cache) for a in args))\n",
      "/home/liruixue/miniconda3/envs/dscim/lib/python3.8/site-packages/dask/core.py:121: RuntimeWarning: invalid value encountered in true_divide\n",
      "  return func(*(_execute_task(a, cache) for a in args))\n",
      "/home/liruixue/miniconda3/envs/dscim/lib/python3.8/site-packages/dask/core.py:121: RuntimeWarning: invalid value encountered in true_divide\n",
      "  return func(*(_execute_task(a, cache) for a in args))\n"
     ]
    },
    {
     "name": "stdout",
     "output_type": "stream",
     "text": [
      "Saving /mnt/CIL_integration/menu_results_AR6_bc39_diag/agriculture_clipped/2060/unmasked/risk_aversion_euler_gwr_eta1.567899395_rho0.00770271076_damage_function_coefficients.nc4\n"
     ]
    },
    {
     "name": "stderr",
     "output_type": "stream",
     "text": [
      "/home/liruixue/miniconda3/envs/dscim/lib/python3.8/site-packages/dask/core.py:121: RuntimeWarning: invalid value encountered in true_divide\n",
      "  return func(*(_execute_task(a, cache) for a in args))\n"
     ]
    },
    {
     "name": "stdout",
     "output_type": "stream",
     "text": [
      "Results available: /mnt/CIL_integration/menu_results_AR6_bc39_diag/agriculture_clipped/2060/unmasked/\n",
      "remaining combos: 95\n",
      "=========================================================\n",
      "('agriculture_clipped', 2060, 'euler_gwr', 'equity', 6, 39, 2.0)\n",
      "\n",
      " Executing Running equity class with the following parameters: \n",
      "Sector: agriculture_clipped \n",
      "Path to damages: /shares/gcp/integration/float32/input_data_histclim/ag_data/v0.0_ag_histclim-delta_clipped.zarr \n",
      "Menu recipe: equity \n",
      "Damages delta: delta_reallocation \n",
      "Discount level: global \n",
      "Discount type: euler_gwr \n",
      "Damage function path: None \n",
      "\n",
      "\n",
      "Processing damage functions ...\n",
      "Existing damage functions not found. Damage points will be loaded.\n",
      "Risk-aversion CEs found at /shares/gcp/integration/CE_library_epa_vsl_bc39/agriculture_clipped//risk_aversion_ce_no_cc_eta2.0.zarr. These are being loaded...\n"
     ]
    },
    {
     "name": "stderr",
     "output_type": "stream",
     "text": [
      "/home/liruixue/miniconda3/envs/dscim/lib/python3.8/site-packages/dask/array/core.py:4402: PerformanceWarning: Increasing number of chunks by factor of 30\n",
      "  result = blockwise(\n",
      "/home/liruixue/miniconda3/envs/dscim/lib/python3.8/site-packages/dask/core.py:121: RuntimeWarning: invalid value encountered in true_divide\n",
      "  return func(*(_execute_task(a, cache) for a in args))\n"
     ]
    },
    {
     "name": "stdout",
     "output_type": "stream",
     "text": [
      "Risk-aversion CEs found at /shares/gcp/integration/CE_library_epa_vsl_bc39/agriculture_clipped//risk_aversion_ce_cc_eta2.0.zarr. These are being loaded...\n"
     ]
    },
    {
     "name": "stderr",
     "output_type": "stream",
     "text": [
      "/home/liruixue/miniconda3/envs/dscim/lib/python3.8/site-packages/dask/array/core.py:4402: PerformanceWarning: Increasing number of chunks by factor of 30\n",
      "  result = blockwise(\n",
      "/home/liruixue/miniconda3/envs/dscim/lib/python3.8/site-packages/dask/core.py:121: RuntimeWarning: invalid value encountered in true_divide\n",
      "  return func(*(_execute_task(a, cache) for a in args))\n",
      "/home/liruixue/miniconda3/envs/dscim/lib/python3.8/site-packages/dask/core.py:121: RuntimeWarning: invalid value encountered in true_divide\n",
      "  return func(*(_execute_task(a, cache) for a in args))\n"
     ]
    },
    {
     "name": "stdout",
     "output_type": "stream",
     "text": [
      "Saving /mnt/CIL_integration/menu_results_AR6_bc39_diag/agriculture_clipped/2060/unmasked/equity_euler_gwr_eta2.0_rho0.0_damage_function_points.csv\n",
      "Extrapolating global consumption.\n"
     ]
    },
    {
     "name": "stderr",
     "output_type": "stream",
     "text": [
      "/home/liruixue/miniconda3/envs/dscim/lib/python3.8/site-packages/dask/core.py:121: RuntimeWarning: invalid value encountered in true_divide\n",
      "  return func(*(_execute_task(a, cache) for a in args))\n",
      "/home/liruixue/miniconda3/envs/dscim/lib/python3.8/site-packages/dask/core.py:121: RuntimeWarning: invalid value encountered in true_divide\n",
      "  return func(*(_execute_task(a, cache) for a in args))\n"
     ]
    },
    {
     "name": "stdout",
     "output_type": "stream",
     "text": [
      "Saving /mnt/CIL_integration/menu_results_AR6_bc39_diag/agriculture_clipped/2060/unmasked/equity_euler_gwr_eta2.0_rho0.0_global_consumption.nc4\n"
     ]
    },
    {
     "name": "stderr",
     "output_type": "stream",
     "text": [
      "/home/liruixue/miniconda3/envs/dscim/lib/python3.8/site-packages/dask/core.py:121: RuntimeWarning: invalid value encountered in true_divide\n",
      "  return func(*(_execute_task(a, cache) for a in args))\n",
      "/home/liruixue/miniconda3/envs/dscim/lib/python3.8/site-packages/dask/core.py:121: RuntimeWarning: invalid value encountered in true_divide\n",
      "  return func(*(_execute_task(a, cache) for a in args))\n",
      "/home/liruixue/miniconda3/envs/dscim/lib/python3.8/site-packages/dask/core.py:121: RuntimeWarning: invalid value encountered in true_divide\n",
      "  return func(*(_execute_task(a, cache) for a in args))\n"
     ]
    },
    {
     "name": "stdout",
     "output_type": "stream",
     "text": [
      "Saving /mnt/CIL_integration/menu_results_AR6_bc39_diag/agriculture_clipped/2060/unmasked/equity_euler_gwr_eta2.0_rho0.0_damage_function_coefficients.nc4\n",
      "Results available: /mnt/CIL_integration/menu_results_AR6_bc39_diag/agriculture_clipped/2060/unmasked/\n",
      "remaining combos: 94\n",
      "=========================================================\n",
      "('agriculture_clipped', 2060, 'euler_gwr', 'equity', 6, 39, 1.016010255)\n"
     ]
    },
    {
     "name": "stderr",
     "output_type": "stream",
     "text": [
      "/home/liruixue/miniconda3/envs/dscim/lib/python3.8/site-packages/dask/core.py:121: RuntimeWarning: invalid value encountered in true_divide\n",
      "  return func(*(_execute_task(a, cache) for a in args))\n"
     ]
    },
    {
     "name": "stdout",
     "output_type": "stream",
     "text": [
      "\n",
      " Executing Running equity class with the following parameters: \n",
      "Sector: agriculture_clipped \n",
      "Path to damages: /shares/gcp/integration/float32/input_data_histclim/ag_data/v0.0_ag_histclim-delta_clipped.zarr \n",
      "Menu recipe: equity \n",
      "Damages delta: delta_reallocation \n",
      "Discount level: global \n",
      "Discount type: euler_gwr \n",
      "Damage function path: None \n",
      "\n",
      "\n",
      "Processing damage functions ...\n",
      "Existing damage functions not found. Damage points will be loaded.\n",
      "Risk-aversion CEs found at /shares/gcp/integration/CE_library_epa_vsl_bc39/agriculture_clipped//risk_aversion_ce_no_cc_eta1.016010255.zarr. These are being loaded...\n"
     ]
    },
    {
     "name": "stderr",
     "output_type": "stream",
     "text": [
      "/home/liruixue/miniconda3/envs/dscim/lib/python3.8/site-packages/dask/array/core.py:4402: PerformanceWarning: Increasing number of chunks by factor of 30\n",
      "  result = blockwise(\n",
      "/home/liruixue/miniconda3/envs/dscim/lib/python3.8/site-packages/dask/core.py:121: RuntimeWarning: invalid value encountered in true_divide\n",
      "  return func(*(_execute_task(a, cache) for a in args))\n"
     ]
    },
    {
     "name": "stdout",
     "output_type": "stream",
     "text": [
      "Risk-aversion CEs found at /shares/gcp/integration/CE_library_epa_vsl_bc39/agriculture_clipped//risk_aversion_ce_cc_eta1.016010255.zarr. These are being loaded...\n"
     ]
    },
    {
     "name": "stderr",
     "output_type": "stream",
     "text": [
      "/home/liruixue/miniconda3/envs/dscim/lib/python3.8/site-packages/dask/array/core.py:4402: PerformanceWarning: Increasing number of chunks by factor of 30\n",
      "  result = blockwise(\n",
      "/home/liruixue/miniconda3/envs/dscim/lib/python3.8/site-packages/dask/core.py:121: RuntimeWarning: invalid value encountered in true_divide\n",
      "  return func(*(_execute_task(a, cache) for a in args))\n",
      "/home/liruixue/miniconda3/envs/dscim/lib/python3.8/site-packages/dask/core.py:121: RuntimeWarning: invalid value encountered in true_divide\n",
      "  return func(*(_execute_task(a, cache) for a in args))\n"
     ]
    },
    {
     "name": "stdout",
     "output_type": "stream",
     "text": [
      "Saving /mnt/CIL_integration/menu_results_AR6_bc39_diag/agriculture_clipped/2060/unmasked/equity_euler_gwr_eta1.016010255_rho9.149608e-05_damage_function_points.csv\n",
      "Extrapolating global consumption.\n"
     ]
    },
    {
     "name": "stderr",
     "output_type": "stream",
     "text": [
      "/home/liruixue/miniconda3/envs/dscim/lib/python3.8/site-packages/dask/core.py:121: RuntimeWarning: invalid value encountered in true_divide\n",
      "  return func(*(_execute_task(a, cache) for a in args))\n",
      "/home/liruixue/miniconda3/envs/dscim/lib/python3.8/site-packages/dask/core.py:121: RuntimeWarning: invalid value encountered in true_divide\n",
      "  return func(*(_execute_task(a, cache) for a in args))\n",
      "/home/liruixue/miniconda3/envs/dscim/lib/python3.8/site-packages/dask/core.py:121: RuntimeWarning: invalid value encountered in true_divide\n",
      "  return func(*(_execute_task(a, cache) for a in args))\n",
      "/home/liruixue/miniconda3/envs/dscim/lib/python3.8/site-packages/dask/core.py:121: RuntimeWarning: invalid value encountered in true_divide\n",
      "  return func(*(_execute_task(a, cache) for a in args))\n",
      "/home/liruixue/miniconda3/envs/dscim/lib/python3.8/site-packages/dask/core.py:121: RuntimeWarning: invalid value encountered in true_divide\n",
      "  return func(*(_execute_task(a, cache) for a in args))\n",
      "/home/liruixue/miniconda3/envs/dscim/lib/python3.8/site-packages/dask/core.py:121: RuntimeWarning: invalid value encountered in true_divide\n",
      "  return func(*(_execute_task(a, cache) for a in args))\n",
      "/home/liruixue/miniconda3/envs/dscim/lib/python3.8/site-packages/dask/core.py:121: RuntimeWarning: invalid value encountered in true_divide\n",
      "  return func(*(_execute_task(a, cache) for a in args))\n",
      "/home/liruixue/miniconda3/envs/dscim/lib/python3.8/site-packages/dask/core.py:121: RuntimeWarning: invalid value encountered in true_divide\n",
      "  return func(*(_execute_task(a, cache) for a in args))\n",
      "/home/liruixue/miniconda3/envs/dscim/lib/python3.8/site-packages/dask/core.py:121: RuntimeWarning: invalid value encountered in true_divide\n",
      "  return func(*(_execute_task(a, cache) for a in args))\n"
     ]
    },
    {
     "name": "stdout",
     "output_type": "stream",
     "text": [
      "Saving /mnt/CIL_integration/menu_results_AR6_bc39_diag/agriculture_clipped/2060/unmasked/equity_euler_gwr_eta1.016010255_rho9.149608e-05_global_consumption.nc4\n"
     ]
    },
    {
     "name": "stderr",
     "output_type": "stream",
     "text": [
      "/home/liruixue/miniconda3/envs/dscim/lib/python3.8/site-packages/dask/core.py:121: RuntimeWarning: invalid value encountered in true_divide\n",
      "  return func(*(_execute_task(a, cache) for a in args))\n",
      "/home/liruixue/miniconda3/envs/dscim/lib/python3.8/site-packages/dask/core.py:121: RuntimeWarning: invalid value encountered in true_divide\n",
      "  return func(*(_execute_task(a, cache) for a in args))\n"
     ]
    },
    {
     "name": "stdout",
     "output_type": "stream",
     "text": [
      "Saving /mnt/CIL_integration/menu_results_AR6_bc39_diag/agriculture_clipped/2060/unmasked/equity_euler_gwr_eta1.016010255_rho9.149608e-05_damage_function_coefficients.nc4\n",
      "Results available: /mnt/CIL_integration/menu_results_AR6_bc39_diag/agriculture_clipped/2060/unmasked/\n",
      "remaining combos: 93\n",
      "=========================================================\n",
      "('agriculture_clipped', 2060, 'euler_gwr', 'equity', 6, 39, 1.244459066)\n"
     ]
    },
    {
     "name": "stderr",
     "output_type": "stream",
     "text": [
      "/home/liruixue/miniconda3/envs/dscim/lib/python3.8/site-packages/dask/core.py:121: RuntimeWarning: invalid value encountered in true_divide\n",
      "  return func(*(_execute_task(a, cache) for a in args))\n"
     ]
    },
    {
     "name": "stdout",
     "output_type": "stream",
     "text": [
      "\n",
      " Executing Running equity class with the following parameters: \n",
      "Sector: agriculture_clipped \n",
      "Path to damages: /shares/gcp/integration/float32/input_data_histclim/ag_data/v0.0_ag_histclim-delta_clipped.zarr \n",
      "Menu recipe: equity \n",
      "Damages delta: delta_reallocation \n",
      "Discount level: global \n",
      "Discount type: euler_gwr \n",
      "Damage function path: None \n",
      "\n",
      "\n",
      "Processing damage functions ...\n",
      "Existing damage functions not found. Damage points will be loaded.\n",
      "Risk-aversion CEs found at /shares/gcp/integration/CE_library_epa_vsl_bc39/agriculture_clipped//risk_aversion_ce_no_cc_eta1.244459066.zarr. These are being loaded...\n"
     ]
    },
    {
     "name": "stderr",
     "output_type": "stream",
     "text": [
      "/home/liruixue/miniconda3/envs/dscim/lib/python3.8/site-packages/dask/array/core.py:4402: PerformanceWarning: Increasing number of chunks by factor of 30\n",
      "  result = blockwise(\n",
      "/home/liruixue/miniconda3/envs/dscim/lib/python3.8/site-packages/dask/core.py:121: RuntimeWarning: invalid value encountered in true_divide\n",
      "  return func(*(_execute_task(a, cache) for a in args))\n"
     ]
    },
    {
     "name": "stdout",
     "output_type": "stream",
     "text": [
      "Risk-aversion CEs found at /shares/gcp/integration/CE_library_epa_vsl_bc39/agriculture_clipped//risk_aversion_ce_cc_eta1.244459066.zarr. These are being loaded...\n"
     ]
    },
    {
     "name": "stderr",
     "output_type": "stream",
     "text": [
      "/home/liruixue/miniconda3/envs/dscim/lib/python3.8/site-packages/dask/array/core.py:4402: PerformanceWarning: Increasing number of chunks by factor of 30\n",
      "  result = blockwise(\n",
      "/home/liruixue/miniconda3/envs/dscim/lib/python3.8/site-packages/dask/core.py:121: RuntimeWarning: invalid value encountered in true_divide\n",
      "  return func(*(_execute_task(a, cache) for a in args))\n",
      "/home/liruixue/miniconda3/envs/dscim/lib/python3.8/site-packages/dask/core.py:121: RuntimeWarning: invalid value encountered in true_divide\n",
      "  return func(*(_execute_task(a, cache) for a in args))\n"
     ]
    },
    {
     "name": "stdout",
     "output_type": "stream",
     "text": [
      "Saving /mnt/CIL_integration/menu_results_AR6_bc39_diag/agriculture_clipped/2060/unmasked/equity_euler_gwr_eta1.244459066_rho0.00197263997_damage_function_points.csv\n",
      "Extrapolating global consumption.\n"
     ]
    },
    {
     "name": "stderr",
     "output_type": "stream",
     "text": [
      "/home/liruixue/miniconda3/envs/dscim/lib/python3.8/site-packages/dask/core.py:121: RuntimeWarning: invalid value encountered in true_divide\n",
      "  return func(*(_execute_task(a, cache) for a in args))\n",
      "/home/liruixue/miniconda3/envs/dscim/lib/python3.8/site-packages/dask/core.py:121: RuntimeWarning: invalid value encountered in true_divide\n",
      "  return func(*(_execute_task(a, cache) for a in args))\n",
      "/home/liruixue/miniconda3/envs/dscim/lib/python3.8/site-packages/dask/core.py:121: RuntimeWarning: invalid value encountered in true_divide\n",
      "  return func(*(_execute_task(a, cache) for a in args))\n",
      "/home/liruixue/miniconda3/envs/dscim/lib/python3.8/site-packages/dask/core.py:121: RuntimeWarning: invalid value encountered in true_divide\n",
      "  return func(*(_execute_task(a, cache) for a in args))\n",
      "/home/liruixue/miniconda3/envs/dscim/lib/python3.8/site-packages/dask/core.py:121: RuntimeWarning: invalid value encountered in true_divide\n",
      "  return func(*(_execute_task(a, cache) for a in args))\n",
      "/home/liruixue/miniconda3/envs/dscim/lib/python3.8/site-packages/dask/core.py:121: RuntimeWarning: invalid value encountered in true_divide\n",
      "  return func(*(_execute_task(a, cache) for a in args))\n",
      "/home/liruixue/miniconda3/envs/dscim/lib/python3.8/site-packages/dask/core.py:121: RuntimeWarning: invalid value encountered in true_divide\n",
      "  return func(*(_execute_task(a, cache) for a in args))\n",
      "/home/liruixue/miniconda3/envs/dscim/lib/python3.8/site-packages/dask/core.py:121: RuntimeWarning: invalid value encountered in true_divide\n",
      "  return func(*(_execute_task(a, cache) for a in args))\n"
     ]
    },
    {
     "name": "stdout",
     "output_type": "stream",
     "text": [
      "Saving /mnt/CIL_integration/menu_results_AR6_bc39_diag/agriculture_clipped/2060/unmasked/equity_euler_gwr_eta1.244459066_rho0.00197263997_global_consumption.nc4\n"
     ]
    },
    {
     "name": "stderr",
     "output_type": "stream",
     "text": [
      "/home/liruixue/miniconda3/envs/dscim/lib/python3.8/site-packages/dask/core.py:121: RuntimeWarning: invalid value encountered in true_divide\n",
      "  return func(*(_execute_task(a, cache) for a in args))\n",
      "/home/liruixue/miniconda3/envs/dscim/lib/python3.8/site-packages/dask/core.py:121: RuntimeWarning: invalid value encountered in true_divide\n",
      "  return func(*(_execute_task(a, cache) for a in args))\n",
      "/home/liruixue/miniconda3/envs/dscim/lib/python3.8/site-packages/dask/core.py:121: RuntimeWarning: invalid value encountered in true_divide\n",
      "  return func(*(_execute_task(a, cache) for a in args))\n"
     ]
    },
    {
     "name": "stdout",
     "output_type": "stream",
     "text": [
      "Saving /mnt/CIL_integration/menu_results_AR6_bc39_diag/agriculture_clipped/2060/unmasked/equity_euler_gwr_eta1.244459066_rho0.00197263997_damage_function_coefficients.nc4\n",
      "Results available: /mnt/CIL_integration/menu_results_AR6_bc39_diag/agriculture_clipped/2060/unmasked/\n",
      "remaining combos: 92\n",
      "=========================================================\n",
      "('agriculture_clipped', 2060, 'euler_gwr', 'equity', 6, 39, 1.421158116)\n"
     ]
    },
    {
     "name": "stderr",
     "output_type": "stream",
     "text": [
      "/home/liruixue/miniconda3/envs/dscim/lib/python3.8/site-packages/dask/core.py:121: RuntimeWarning: invalid value encountered in true_divide\n",
      "  return func(*(_execute_task(a, cache) for a in args))\n"
     ]
    },
    {
     "name": "stdout",
     "output_type": "stream",
     "text": [
      "\n",
      " Executing Running equity class with the following parameters: \n",
      "Sector: agriculture_clipped \n",
      "Path to damages: /shares/gcp/integration/float32/input_data_histclim/ag_data/v0.0_ag_histclim-delta_clipped.zarr \n",
      "Menu recipe: equity \n",
      "Damages delta: delta_reallocation \n",
      "Discount level: global \n",
      "Discount type: euler_gwr \n",
      "Damage function path: None \n",
      "\n",
      "\n",
      "Processing damage functions ...\n",
      "Existing damage functions not found. Damage points will be loaded.\n",
      "Risk-aversion CEs found at /shares/gcp/integration/CE_library_epa_vsl_bc39/agriculture_clipped//risk_aversion_ce_no_cc_eta1.421158116.zarr. These are being loaded...\n"
     ]
    },
    {
     "name": "stderr",
     "output_type": "stream",
     "text": [
      "/home/liruixue/miniconda3/envs/dscim/lib/python3.8/site-packages/dask/array/core.py:4402: PerformanceWarning: Increasing number of chunks by factor of 30\n",
      "  result = blockwise(\n",
      "/home/liruixue/miniconda3/envs/dscim/lib/python3.8/site-packages/dask/core.py:121: RuntimeWarning: invalid value encountered in true_divide\n",
      "  return func(*(_execute_task(a, cache) for a in args))\n"
     ]
    },
    {
     "name": "stdout",
     "output_type": "stream",
     "text": [
      "Risk-aversion CEs found at /shares/gcp/integration/CE_library_epa_vsl_bc39/agriculture_clipped//risk_aversion_ce_cc_eta1.421158116.zarr. These are being loaded...\n"
     ]
    },
    {
     "name": "stderr",
     "output_type": "stream",
     "text": [
      "/home/liruixue/miniconda3/envs/dscim/lib/python3.8/site-packages/dask/array/core.py:4402: PerformanceWarning: Increasing number of chunks by factor of 30\n",
      "  result = blockwise(\n",
      "/home/liruixue/miniconda3/envs/dscim/lib/python3.8/site-packages/dask/core.py:121: RuntimeWarning: invalid value encountered in true_divide\n",
      "  return func(*(_execute_task(a, cache) for a in args))\n",
      "/home/liruixue/miniconda3/envs/dscim/lib/python3.8/site-packages/dask/core.py:121: RuntimeWarning: invalid value encountered in true_divide\n",
      "  return func(*(_execute_task(a, cache) for a in args))\n"
     ]
    },
    {
     "name": "stdout",
     "output_type": "stream",
     "text": [
      "Saving /mnt/CIL_integration/menu_results_AR6_bc39_diag/agriculture_clipped/2060/unmasked/equity_euler_gwr_eta1.421158116_rho0.00461878399_damage_function_points.csv\n",
      "Extrapolating global consumption.\n"
     ]
    },
    {
     "name": "stderr",
     "output_type": "stream",
     "text": [
      "/home/liruixue/miniconda3/envs/dscim/lib/python3.8/site-packages/dask/core.py:121: RuntimeWarning: invalid value encountered in true_divide\n",
      "  return func(*(_execute_task(a, cache) for a in args))\n",
      "/home/liruixue/miniconda3/envs/dscim/lib/python3.8/site-packages/dask/core.py:121: RuntimeWarning: invalid value encountered in true_divide\n",
      "  return func(*(_execute_task(a, cache) for a in args))\n",
      "/home/liruixue/miniconda3/envs/dscim/lib/python3.8/site-packages/dask/core.py:121: RuntimeWarning: invalid value encountered in true_divide\n",
      "  return func(*(_execute_task(a, cache) for a in args))\n",
      "/home/liruixue/miniconda3/envs/dscim/lib/python3.8/site-packages/dask/core.py:121: RuntimeWarning: invalid value encountered in true_divide\n",
      "  return func(*(_execute_task(a, cache) for a in args))\n",
      "/home/liruixue/miniconda3/envs/dscim/lib/python3.8/site-packages/dask/core.py:121: RuntimeWarning: invalid value encountered in true_divide\n",
      "  return func(*(_execute_task(a, cache) for a in args))\n",
      "/home/liruixue/miniconda3/envs/dscim/lib/python3.8/site-packages/dask/core.py:121: RuntimeWarning: invalid value encountered in true_divide\n",
      "  return func(*(_execute_task(a, cache) for a in args))\n",
      "/home/liruixue/miniconda3/envs/dscim/lib/python3.8/site-packages/dask/core.py:121: RuntimeWarning: invalid value encountered in true_divide\n",
      "  return func(*(_execute_task(a, cache) for a in args))\n",
      "/home/liruixue/miniconda3/envs/dscim/lib/python3.8/site-packages/dask/core.py:121: RuntimeWarning: invalid value encountered in true_divide\n",
      "  return func(*(_execute_task(a, cache) for a in args))\n"
     ]
    },
    {
     "name": "stdout",
     "output_type": "stream",
     "text": [
      "Saving /mnt/CIL_integration/menu_results_AR6_bc39_diag/agriculture_clipped/2060/unmasked/equity_euler_gwr_eta1.421158116_rho0.00461878399_global_consumption.nc4\n"
     ]
    },
    {
     "name": "stderr",
     "output_type": "stream",
     "text": [
      "/home/liruixue/miniconda3/envs/dscim/lib/python3.8/site-packages/dask/core.py:121: RuntimeWarning: invalid value encountered in true_divide\n",
      "  return func(*(_execute_task(a, cache) for a in args))\n",
      "/home/liruixue/miniconda3/envs/dscim/lib/python3.8/site-packages/dask/core.py:121: RuntimeWarning: invalid value encountered in true_divide\n",
      "  return func(*(_execute_task(a, cache) for a in args))\n"
     ]
    },
    {
     "name": "stdout",
     "output_type": "stream",
     "text": [
      "Saving /mnt/CIL_integration/menu_results_AR6_bc39_diag/agriculture_clipped/2060/unmasked/equity_euler_gwr_eta1.421158116_rho0.00461878399_damage_function_coefficients.nc4\n",
      "Results available: /mnt/CIL_integration/menu_results_AR6_bc39_diag/agriculture_clipped/2060/unmasked/\n",
      "remaining combos: 91\n",
      "=========================================================\n",
      "('agriculture_clipped', 2060, 'euler_gwr', 'equity', 6, 39, 1.567899395)\n"
     ]
    },
    {
     "name": "stderr",
     "output_type": "stream",
     "text": [
      "/home/liruixue/miniconda3/envs/dscim/lib/python3.8/site-packages/dask/core.py:121: RuntimeWarning: invalid value encountered in true_divide\n",
      "  return func(*(_execute_task(a, cache) for a in args))\n"
     ]
    },
    {
     "name": "stdout",
     "output_type": "stream",
     "text": [
      "\n",
      " Executing Running equity class with the following parameters: \n",
      "Sector: agriculture_clipped \n",
      "Path to damages: /shares/gcp/integration/float32/input_data_histclim/ag_data/v0.0_ag_histclim-delta_clipped.zarr \n",
      "Menu recipe: equity \n",
      "Damages delta: delta_reallocation \n",
      "Discount level: global \n",
      "Discount type: euler_gwr \n",
      "Damage function path: None \n",
      "\n",
      "\n",
      "Processing damage functions ...\n",
      "Existing damage functions not found. Damage points will be loaded.\n",
      "Risk-aversion CEs found at /shares/gcp/integration/CE_library_epa_vsl_bc39/agriculture_clipped//risk_aversion_ce_no_cc_eta1.567899395.zarr. These are being loaded...\n"
     ]
    },
    {
     "name": "stderr",
     "output_type": "stream",
     "text": [
      "/home/liruixue/miniconda3/envs/dscim/lib/python3.8/site-packages/dask/array/core.py:4402: PerformanceWarning: Increasing number of chunks by factor of 30\n",
      "  result = blockwise(\n",
      "/home/liruixue/miniconda3/envs/dscim/lib/python3.8/site-packages/dask/core.py:121: RuntimeWarning: invalid value encountered in true_divide\n",
      "  return func(*(_execute_task(a, cache) for a in args))\n"
     ]
    },
    {
     "name": "stdout",
     "output_type": "stream",
     "text": [
      "Risk-aversion CEs found at /shares/gcp/integration/CE_library_epa_vsl_bc39/agriculture_clipped//risk_aversion_ce_cc_eta1.567899395.zarr. These are being loaded...\n"
     ]
    },
    {
     "name": "stderr",
     "output_type": "stream",
     "text": [
      "/home/liruixue/miniconda3/envs/dscim/lib/python3.8/site-packages/dask/array/core.py:4402: PerformanceWarning: Increasing number of chunks by factor of 30\n",
      "  result = blockwise(\n",
      "/home/liruixue/miniconda3/envs/dscim/lib/python3.8/site-packages/dask/core.py:121: RuntimeWarning: invalid value encountered in true_divide\n",
      "  return func(*(_execute_task(a, cache) for a in args))\n",
      "/home/liruixue/miniconda3/envs/dscim/lib/python3.8/site-packages/dask/core.py:121: RuntimeWarning: invalid value encountered in true_divide\n",
      "  return func(*(_execute_task(a, cache) for a in args))\n"
     ]
    },
    {
     "name": "stdout",
     "output_type": "stream",
     "text": [
      "Saving /mnt/CIL_integration/menu_results_AR6_bc39_diag/agriculture_clipped/2060/unmasked/equity_euler_gwr_eta1.567899395_rho0.00770271076_damage_function_points.csv\n",
      "Extrapolating global consumption.\n"
     ]
    },
    {
     "name": "stderr",
     "output_type": "stream",
     "text": [
      "/home/liruixue/miniconda3/envs/dscim/lib/python3.8/site-packages/dask/core.py:121: RuntimeWarning: invalid value encountered in true_divide\n",
      "  return func(*(_execute_task(a, cache) for a in args))\n",
      "/home/liruixue/miniconda3/envs/dscim/lib/python3.8/site-packages/dask/core.py:121: RuntimeWarning: invalid value encountered in true_divide\n",
      "  return func(*(_execute_task(a, cache) for a in args))\n",
      "/home/liruixue/miniconda3/envs/dscim/lib/python3.8/site-packages/dask/core.py:121: RuntimeWarning: invalid value encountered in true_divide\n",
      "  return func(*(_execute_task(a, cache) for a in args))\n",
      "/home/liruixue/miniconda3/envs/dscim/lib/python3.8/site-packages/dask/core.py:121: RuntimeWarning: invalid value encountered in true_divide\n",
      "  return func(*(_execute_task(a, cache) for a in args))\n",
      "/home/liruixue/miniconda3/envs/dscim/lib/python3.8/site-packages/dask/core.py:121: RuntimeWarning: invalid value encountered in true_divide\n",
      "  return func(*(_execute_task(a, cache) for a in args))\n",
      "/home/liruixue/miniconda3/envs/dscim/lib/python3.8/site-packages/dask/core.py:121: RuntimeWarning: invalid value encountered in true_divide\n",
      "  return func(*(_execute_task(a, cache) for a in args))\n",
      "/home/liruixue/miniconda3/envs/dscim/lib/python3.8/site-packages/dask/core.py:121: RuntimeWarning: invalid value encountered in true_divide\n",
      "  return func(*(_execute_task(a, cache) for a in args))\n"
     ]
    },
    {
     "name": "stdout",
     "output_type": "stream",
     "text": [
      "Saving /mnt/CIL_integration/menu_results_AR6_bc39_diag/agriculture_clipped/2060/unmasked/equity_euler_gwr_eta1.567899395_rho0.00770271076_global_consumption.nc4\n"
     ]
    },
    {
     "name": "stderr",
     "output_type": "stream",
     "text": [
      "/home/liruixue/miniconda3/envs/dscim/lib/python3.8/site-packages/dask/core.py:121: RuntimeWarning: invalid value encountered in true_divide\n",
      "  return func(*(_execute_task(a, cache) for a in args))\n",
      "/home/liruixue/miniconda3/envs/dscim/lib/python3.8/site-packages/dask/core.py:121: RuntimeWarning: invalid value encountered in true_divide\n",
      "  return func(*(_execute_task(a, cache) for a in args))\n",
      "/home/liruixue/miniconda3/envs/dscim/lib/python3.8/site-packages/dask/core.py:121: RuntimeWarning: invalid value encountered in true_divide\n",
      "  return func(*(_execute_task(a, cache) for a in args))\n"
     ]
    },
    {
     "name": "stdout",
     "output_type": "stream",
     "text": [
      "Saving /mnt/CIL_integration/menu_results_AR6_bc39_diag/agriculture_clipped/2060/unmasked/equity_euler_gwr_eta1.567899395_rho0.00770271076_damage_function_coefficients.nc4\n",
      "Results available: /mnt/CIL_integration/menu_results_AR6_bc39_diag/agriculture_clipped/2060/unmasked/\n",
      "remaining combos: 90\n",
      "=========================================================\n",
      "('agriculture_clipped', 2070, 'constant', 'adding_up', 6, 39, 2.0)\n",
      "Rechunking for 'adding_up' option.\n"
     ]
    },
    {
     "name": "stderr",
     "output_type": "stream",
     "text": [
      "/home/liruixue/miniconda3/envs/dscim/lib/python3.8/site-packages/dask/core.py:121: RuntimeWarning: invalid value encountered in true_divide\n",
      "  return func(*(_execute_task(a, cache) for a in args))\n"
     ]
    },
    {
     "name": "stdout",
     "output_type": "stream",
     "text": [
      "\n",
      " Executing Running adding_up class with the following parameters: \n",
      "Sector: agriculture_clipped \n",
      "Path to damages: /shares/gcp/integration/float32/input_data_histclim/ag_data/v0.0_ag_histclim-delta_clipped.zarr \n",
      "Menu recipe: adding_up \n",
      "Damages delta: delta_reallocation \n",
      "Discount level: global \n",
      "Discount type: constant \n",
      "Damage function path: None \n",
      "\n",
      "\n",
      "Processing damage functions ...\n",
      "Existing damage functions not found. Damage points will be loaded.\n",
      "Adding up CEs found at /shares/gcp/integration/CE_library_epa_vsl_bc39/agriculture_clipped//adding_up_ce_cc_eta2.0.zarr, /shares/gcp/integration/CE_library_epa_vsl_bc39/agriculture_clipped//adding_up_ce_no_cc_eta2.0.zarr. These are being loaded...\n",
      "Saving /mnt/CIL_integration/menu_results_AR6_bc39_diag/agriculture_clipped/2070/unmasked/adding_up_constant_eta2.0_rho0.0_damage_function_points.csv\n",
      "Extrapolating global consumption.\n",
      "End-of-century growth rates are not capped.\n",
      "Saving /mnt/CIL_integration/menu_results_AR6_bc39_diag/agriculture_clipped/2070/unmasked/adding_up_constant_eta2.0_rho0.0_global_consumption.nc4\n",
      "Saving /mnt/CIL_integration/menu_results_AR6_bc39_diag/agriculture_clipped/2070/unmasked/adding_up_constant_eta2.0_rho0.0_damage_function_coefficients.nc4\n",
      "Results available: /mnt/CIL_integration/menu_results_AR6_bc39_diag/agriculture_clipped/2070/unmasked/\n",
      "remaining combos: 89\n",
      "=========================================================\n",
      "('agriculture_clipped', 2070, 'constant', 'adding_up', 6, 39, 1.016010255)\n",
      "Rechunking for 'adding_up' option.\n",
      "\n",
      " Executing Running adding_up class with the following parameters: \n",
      "Sector: agriculture_clipped \n",
      "Path to damages: /shares/gcp/integration/float32/input_data_histclim/ag_data/v0.0_ag_histclim-delta_clipped.zarr \n",
      "Menu recipe: adding_up \n",
      "Damages delta: delta_reallocation \n",
      "Discount level: global \n",
      "Discount type: constant \n",
      "Damage function path: None \n",
      "\n",
      "\n",
      "Processing damage functions ...\n",
      "Existing damage functions not found. Damage points will be loaded.\n",
      "Adding up CEs found at /shares/gcp/integration/CE_library_epa_vsl_bc39/agriculture_clipped//adding_up_ce_cc_eta1.016010255.zarr, /shares/gcp/integration/CE_library_epa_vsl_bc39/agriculture_clipped//adding_up_ce_no_cc_eta1.016010255.zarr. These are being loaded...\n",
      "Saving /mnt/CIL_integration/menu_results_AR6_bc39_diag/agriculture_clipped/2070/unmasked/adding_up_constant_eta1.016010255_rho9.149608e-05_damage_function_points.csv\n",
      "Extrapolating global consumption.\n",
      "End-of-century growth rates are not capped.\n",
      "Saving /mnt/CIL_integration/menu_results_AR6_bc39_diag/agriculture_clipped/2070/unmasked/adding_up_constant_eta1.016010255_rho9.149608e-05_global_consumption.nc4\n",
      "Saving /mnt/CIL_integration/menu_results_AR6_bc39_diag/agriculture_clipped/2070/unmasked/adding_up_constant_eta1.016010255_rho9.149608e-05_damage_function_coefficients.nc4\n",
      "Results available: /mnt/CIL_integration/menu_results_AR6_bc39_diag/agriculture_clipped/2070/unmasked/\n",
      "remaining combos: 88\n",
      "=========================================================\n",
      "('agriculture_clipped', 2070, 'constant', 'adding_up', 6, 39, 1.244459066)\n",
      "Rechunking for 'adding_up' option.\n",
      "\n",
      " Executing Running adding_up class with the following parameters: \n",
      "Sector: agriculture_clipped \n",
      "Path to damages: /shares/gcp/integration/float32/input_data_histclim/ag_data/v0.0_ag_histclim-delta_clipped.zarr \n",
      "Menu recipe: adding_up \n",
      "Damages delta: delta_reallocation \n",
      "Discount level: global \n",
      "Discount type: constant \n",
      "Damage function path: None \n",
      "\n",
      "\n",
      "Processing damage functions ...\n",
      "Existing damage functions not found. Damage points will be loaded.\n",
      "Adding up CEs found at /shares/gcp/integration/CE_library_epa_vsl_bc39/agriculture_clipped//adding_up_ce_cc_eta1.244459066.zarr, /shares/gcp/integration/CE_library_epa_vsl_bc39/agriculture_clipped//adding_up_ce_no_cc_eta1.244459066.zarr. These are being loaded...\n",
      "Saving /mnt/CIL_integration/menu_results_AR6_bc39_diag/agriculture_clipped/2070/unmasked/adding_up_constant_eta1.244459066_rho0.00197263997_damage_function_points.csv\n",
      "Extrapolating global consumption.\n",
      "End-of-century growth rates are not capped.\n",
      "Saving /mnt/CIL_integration/menu_results_AR6_bc39_diag/agriculture_clipped/2070/unmasked/adding_up_constant_eta1.244459066_rho0.00197263997_global_consumption.nc4\n",
      "Saving /mnt/CIL_integration/menu_results_AR6_bc39_diag/agriculture_clipped/2070/unmasked/adding_up_constant_eta1.244459066_rho0.00197263997_damage_function_coefficients.nc4\n",
      "Results available: /mnt/CIL_integration/menu_results_AR6_bc39_diag/agriculture_clipped/2070/unmasked/\n",
      "remaining combos: 87\n",
      "=========================================================\n",
      "('agriculture_clipped', 2070, 'constant', 'adding_up', 6, 39, 1.421158116)\n",
      "Rechunking for 'adding_up' option.\n",
      "\n",
      " Executing Running adding_up class with the following parameters: \n",
      "Sector: agriculture_clipped \n",
      "Path to damages: /shares/gcp/integration/float32/input_data_histclim/ag_data/v0.0_ag_histclim-delta_clipped.zarr \n",
      "Menu recipe: adding_up \n",
      "Damages delta: delta_reallocation \n",
      "Discount level: global \n",
      "Discount type: constant \n",
      "Damage function path: None \n",
      "\n",
      "\n",
      "Processing damage functions ...\n",
      "Existing damage functions not found. Damage points will be loaded.\n",
      "Adding up CEs found at /shares/gcp/integration/CE_library_epa_vsl_bc39/agriculture_clipped//adding_up_ce_cc_eta1.421158116.zarr, /shares/gcp/integration/CE_library_epa_vsl_bc39/agriculture_clipped//adding_up_ce_no_cc_eta1.421158116.zarr. These are being loaded...\n",
      "Saving /mnt/CIL_integration/menu_results_AR6_bc39_diag/agriculture_clipped/2070/unmasked/adding_up_constant_eta1.421158116_rho0.00461878399_damage_function_points.csv\n",
      "Extrapolating global consumption.\n",
      "End-of-century growth rates are not capped.\n",
      "Saving /mnt/CIL_integration/menu_results_AR6_bc39_diag/agriculture_clipped/2070/unmasked/adding_up_constant_eta1.421158116_rho0.00461878399_global_consumption.nc4\n",
      "Saving /mnt/CIL_integration/menu_results_AR6_bc39_diag/agriculture_clipped/2070/unmasked/adding_up_constant_eta1.421158116_rho0.00461878399_damage_function_coefficients.nc4\n",
      "Results available: /mnt/CIL_integration/menu_results_AR6_bc39_diag/agriculture_clipped/2070/unmasked/\n",
      "remaining combos: 86\n",
      "=========================================================\n",
      "('agriculture_clipped', 2070, 'constant', 'adding_up', 6, 39, 1.567899395)\n",
      "Rechunking for 'adding_up' option.\n",
      "\n",
      " Executing Running adding_up class with the following parameters: \n",
      "Sector: agriculture_clipped \n",
      "Path to damages: /shares/gcp/integration/float32/input_data_histclim/ag_data/v0.0_ag_histclim-delta_clipped.zarr \n",
      "Menu recipe: adding_up \n",
      "Damages delta: delta_reallocation \n",
      "Discount level: global \n",
      "Discount type: constant \n",
      "Damage function path: None \n",
      "\n",
      "\n",
      "Processing damage functions ...\n",
      "Existing damage functions not found. Damage points will be loaded.\n",
      "Adding up CEs found at /shares/gcp/integration/CE_library_epa_vsl_bc39/agriculture_clipped//adding_up_ce_cc_eta1.567899395.zarr, /shares/gcp/integration/CE_library_epa_vsl_bc39/agriculture_clipped//adding_up_ce_no_cc_eta1.567899395.zarr. These are being loaded...\n",
      "Saving /mnt/CIL_integration/menu_results_AR6_bc39_diag/agriculture_clipped/2070/unmasked/adding_up_constant_eta1.567899395_rho0.00770271076_damage_function_points.csv\n",
      "Extrapolating global consumption.\n",
      "End-of-century growth rates are not capped.\n",
      "Saving /mnt/CIL_integration/menu_results_AR6_bc39_diag/agriculture_clipped/2070/unmasked/adding_up_constant_eta1.567899395_rho0.00770271076_global_consumption.nc4\n",
      "Saving /mnt/CIL_integration/menu_results_AR6_bc39_diag/agriculture_clipped/2070/unmasked/adding_up_constant_eta1.567899395_rho0.00770271076_damage_function_coefficients.nc4\n",
      "Results available: /mnt/CIL_integration/menu_results_AR6_bc39_diag/agriculture_clipped/2070/unmasked/\n",
      "remaining combos: 85\n",
      "=========================================================\n",
      "('agriculture_clipped', 2070, 'constant', 'risk_aversion', 6, 39, 2.0)\n",
      "\n",
      " Executing Running risk_aversion class with the following parameters: \n",
      "Sector: agriculture_clipped \n",
      "Path to damages: /shares/gcp/integration/float32/input_data_histclim/ag_data/v0.0_ag_histclim-delta_clipped.zarr \n",
      "Menu recipe: risk_aversion \n",
      "Damages delta: delta_reallocation \n",
      "Discount level: global \n",
      "Discount type: constant \n",
      "Damage function path: None \n",
      "\n",
      "\n",
      "Processing damage functions ...\n",
      "Existing damage functions not found. Damage points will be loaded.\n",
      "Risk-aversion CEs found at /shares/gcp/integration/CE_library_epa_vsl_bc39/agriculture_clipped//risk_aversion_ce_no_cc_eta2.0.zarr. These are being loaded...\n",
      "Risk-aversion CEs found at /shares/gcp/integration/CE_library_epa_vsl_bc39/agriculture_clipped//risk_aversion_ce_cc_eta2.0.zarr. These are being loaded...\n",
      "Saving /mnt/CIL_integration/menu_results_AR6_bc39_diag/agriculture_clipped/2070/unmasked/risk_aversion_constant_eta2.0_rho0.0_damage_function_points.csv\n",
      "Extrapolating global consumption.\n",
      "End-of-century growth rates are not capped.\n",
      "Saving /mnt/CIL_integration/menu_results_AR6_bc39_diag/agriculture_clipped/2070/unmasked/risk_aversion_constant_eta2.0_rho0.0_global_consumption.nc4\n",
      "Saving /mnt/CIL_integration/menu_results_AR6_bc39_diag/agriculture_clipped/2070/unmasked/risk_aversion_constant_eta2.0_rho0.0_damage_function_coefficients.nc4\n",
      "Results available: /mnt/CIL_integration/menu_results_AR6_bc39_diag/agriculture_clipped/2070/unmasked/\n",
      "remaining combos: 84\n",
      "=========================================================\n",
      "('agriculture_clipped', 2070, 'constant', 'risk_aversion', 6, 39, 1.016010255)\n",
      "\n",
      " Executing Running risk_aversion class with the following parameters: \n",
      "Sector: agriculture_clipped \n",
      "Path to damages: /shares/gcp/integration/float32/input_data_histclim/ag_data/v0.0_ag_histclim-delta_clipped.zarr \n",
      "Menu recipe: risk_aversion \n",
      "Damages delta: delta_reallocation \n",
      "Discount level: global \n",
      "Discount type: constant \n",
      "Damage function path: None \n",
      "\n",
      "\n",
      "Processing damage functions ...\n",
      "Existing damage functions not found. Damage points will be loaded.\n",
      "Risk-aversion CEs found at /shares/gcp/integration/CE_library_epa_vsl_bc39/agriculture_clipped//risk_aversion_ce_no_cc_eta1.016010255.zarr. These are being loaded...\n",
      "Risk-aversion CEs found at /shares/gcp/integration/CE_library_epa_vsl_bc39/agriculture_clipped//risk_aversion_ce_cc_eta1.016010255.zarr. These are being loaded...\n",
      "Saving /mnt/CIL_integration/menu_results_AR6_bc39_diag/agriculture_clipped/2070/unmasked/risk_aversion_constant_eta1.016010255_rho9.149608e-05_damage_function_points.csv\n",
      "Extrapolating global consumption.\n",
      "End-of-century growth rates are not capped.\n",
      "Saving /mnt/CIL_integration/menu_results_AR6_bc39_diag/agriculture_clipped/2070/unmasked/risk_aversion_constant_eta1.016010255_rho9.149608e-05_global_consumption.nc4\n",
      "Saving /mnt/CIL_integration/menu_results_AR6_bc39_diag/agriculture_clipped/2070/unmasked/risk_aversion_constant_eta1.016010255_rho9.149608e-05_damage_function_coefficients.nc4\n",
      "Results available: /mnt/CIL_integration/menu_results_AR6_bc39_diag/agriculture_clipped/2070/unmasked/\n",
      "remaining combos: 83\n",
      "=========================================================\n",
      "('agriculture_clipped', 2070, 'constant', 'risk_aversion', 6, 39, 1.244459066)\n",
      "\n",
      " Executing Running risk_aversion class with the following parameters: \n",
      "Sector: agriculture_clipped \n",
      "Path to damages: /shares/gcp/integration/float32/input_data_histclim/ag_data/v0.0_ag_histclim-delta_clipped.zarr \n",
      "Menu recipe: risk_aversion \n",
      "Damages delta: delta_reallocation \n",
      "Discount level: global \n",
      "Discount type: constant \n",
      "Damage function path: None \n",
      "\n",
      "\n",
      "Processing damage functions ...\n",
      "Existing damage functions not found. Damage points will be loaded.\n",
      "Risk-aversion CEs found at /shares/gcp/integration/CE_library_epa_vsl_bc39/agriculture_clipped//risk_aversion_ce_no_cc_eta1.244459066.zarr. These are being loaded...\n",
      "Risk-aversion CEs found at /shares/gcp/integration/CE_library_epa_vsl_bc39/agriculture_clipped//risk_aversion_ce_cc_eta1.244459066.zarr. These are being loaded...\n",
      "Saving /mnt/CIL_integration/menu_results_AR6_bc39_diag/agriculture_clipped/2070/unmasked/risk_aversion_constant_eta1.244459066_rho0.00197263997_damage_function_points.csv\n",
      "Extrapolating global consumption.\n",
      "End-of-century growth rates are not capped.\n",
      "Saving /mnt/CIL_integration/menu_results_AR6_bc39_diag/agriculture_clipped/2070/unmasked/risk_aversion_constant_eta1.244459066_rho0.00197263997_global_consumption.nc4\n",
      "Saving /mnt/CIL_integration/menu_results_AR6_bc39_diag/agriculture_clipped/2070/unmasked/risk_aversion_constant_eta1.244459066_rho0.00197263997_damage_function_coefficients.nc4\n",
      "Results available: /mnt/CIL_integration/menu_results_AR6_bc39_diag/agriculture_clipped/2070/unmasked/\n",
      "remaining combos: 82\n",
      "=========================================================\n",
      "('agriculture_clipped', 2070, 'constant', 'risk_aversion', 6, 39, 1.421158116)\n",
      "\n",
      " Executing Running risk_aversion class with the following parameters: \n",
      "Sector: agriculture_clipped \n",
      "Path to damages: /shares/gcp/integration/float32/input_data_histclim/ag_data/v0.0_ag_histclim-delta_clipped.zarr \n",
      "Menu recipe: risk_aversion \n",
      "Damages delta: delta_reallocation \n",
      "Discount level: global \n",
      "Discount type: constant \n",
      "Damage function path: None \n",
      "\n",
      "\n",
      "Processing damage functions ...\n",
      "Existing damage functions not found. Damage points will be loaded.\n",
      "Risk-aversion CEs found at /shares/gcp/integration/CE_library_epa_vsl_bc39/agriculture_clipped//risk_aversion_ce_no_cc_eta1.421158116.zarr. These are being loaded...\n",
      "Risk-aversion CEs found at /shares/gcp/integration/CE_library_epa_vsl_bc39/agriculture_clipped//risk_aversion_ce_cc_eta1.421158116.zarr. These are being loaded...\n",
      "Saving /mnt/CIL_integration/menu_results_AR6_bc39_diag/agriculture_clipped/2070/unmasked/risk_aversion_constant_eta1.421158116_rho0.00461878399_damage_function_points.csv\n",
      "Extrapolating global consumption.\n",
      "End-of-century growth rates are not capped.\n",
      "Saving /mnt/CIL_integration/menu_results_AR6_bc39_diag/agriculture_clipped/2070/unmasked/risk_aversion_constant_eta1.421158116_rho0.00461878399_global_consumption.nc4\n",
      "Saving /mnt/CIL_integration/menu_results_AR6_bc39_diag/agriculture_clipped/2070/unmasked/risk_aversion_constant_eta1.421158116_rho0.00461878399_damage_function_coefficients.nc4\n",
      "Results available: /mnt/CIL_integration/menu_results_AR6_bc39_diag/agriculture_clipped/2070/unmasked/\n",
      "remaining combos: 81\n",
      "=========================================================\n",
      "('agriculture_clipped', 2070, 'constant', 'risk_aversion', 6, 39, 1.567899395)\n",
      "\n",
      " Executing Running risk_aversion class with the following parameters: \n",
      "Sector: agriculture_clipped \n",
      "Path to damages: /shares/gcp/integration/float32/input_data_histclim/ag_data/v0.0_ag_histclim-delta_clipped.zarr \n",
      "Menu recipe: risk_aversion \n",
      "Damages delta: delta_reallocation \n",
      "Discount level: global \n",
      "Discount type: constant \n",
      "Damage function path: None \n",
      "\n",
      "\n",
      "Processing damage functions ...\n",
      "Existing damage functions not found. Damage points will be loaded.\n",
      "Risk-aversion CEs found at /shares/gcp/integration/CE_library_epa_vsl_bc39/agriculture_clipped//risk_aversion_ce_no_cc_eta1.567899395.zarr. These are being loaded...\n",
      "Risk-aversion CEs found at /shares/gcp/integration/CE_library_epa_vsl_bc39/agriculture_clipped//risk_aversion_ce_cc_eta1.567899395.zarr. These are being loaded...\n",
      "Saving /mnt/CIL_integration/menu_results_AR6_bc39_diag/agriculture_clipped/2070/unmasked/risk_aversion_constant_eta1.567899395_rho0.00770271076_damage_function_points.csv\n",
      "Extrapolating global consumption.\n",
      "End-of-century growth rates are not capped.\n",
      "Saving /mnt/CIL_integration/menu_results_AR6_bc39_diag/agriculture_clipped/2070/unmasked/risk_aversion_constant_eta1.567899395_rho0.00770271076_global_consumption.nc4\n",
      "Saving /mnt/CIL_integration/menu_results_AR6_bc39_diag/agriculture_clipped/2070/unmasked/risk_aversion_constant_eta1.567899395_rho0.00770271076_damage_function_coefficients.nc4\n",
      "Results available: /mnt/CIL_integration/menu_results_AR6_bc39_diag/agriculture_clipped/2070/unmasked/\n",
      "remaining combos: 80\n",
      "=========================================================\n",
      "('agriculture_clipped', 2070, 'constant', 'equity', 6, 39, 2.0)\n",
      "\n",
      " Executing Running equity class with the following parameters: \n",
      "Sector: agriculture_clipped \n",
      "Path to damages: /shares/gcp/integration/float32/input_data_histclim/ag_data/v0.0_ag_histclim-delta_clipped.zarr \n",
      "Menu recipe: equity \n",
      "Damages delta: delta_reallocation \n",
      "Discount level: global \n",
      "Discount type: constant \n",
      "Damage function path: None \n",
      "\n",
      "\n",
      "Processing damage functions ...\n",
      "Existing damage functions not found. Damage points will be loaded.\n",
      "Risk-aversion CEs found at /shares/gcp/integration/CE_library_epa_vsl_bc39/agriculture_clipped//risk_aversion_ce_no_cc_eta2.0.zarr. These are being loaded...\n"
     ]
    },
    {
     "name": "stderr",
     "output_type": "stream",
     "text": [
      "/home/liruixue/miniconda3/envs/dscim/lib/python3.8/site-packages/dask/array/core.py:4402: PerformanceWarning: Increasing number of chunks by factor of 24\n",
      "  result = blockwise(\n",
      "/home/liruixue/miniconda3/envs/dscim/lib/python3.8/site-packages/dask/core.py:121: RuntimeWarning: invalid value encountered in true_divide\n",
      "  return func(*(_execute_task(a, cache) for a in args))\n"
     ]
    },
    {
     "name": "stdout",
     "output_type": "stream",
     "text": [
      "Risk-aversion CEs found at /shares/gcp/integration/CE_library_epa_vsl_bc39/agriculture_clipped//risk_aversion_ce_cc_eta2.0.zarr. These are being loaded...\n"
     ]
    },
    {
     "name": "stderr",
     "output_type": "stream",
     "text": [
      "/home/liruixue/miniconda3/envs/dscim/lib/python3.8/site-packages/dask/array/core.py:4402: PerformanceWarning: Increasing number of chunks by factor of 24\n",
      "  result = blockwise(\n",
      "/home/liruixue/miniconda3/envs/dscim/lib/python3.8/site-packages/dask/core.py:121: RuntimeWarning: invalid value encountered in true_divide\n",
      "  return func(*(_execute_task(a, cache) for a in args))\n",
      "/home/liruixue/miniconda3/envs/dscim/lib/python3.8/site-packages/dask/core.py:121: RuntimeWarning: invalid value encountered in true_divide\n",
      "  return func(*(_execute_task(a, cache) for a in args))\n"
     ]
    },
    {
     "name": "stdout",
     "output_type": "stream",
     "text": [
      "Saving /mnt/CIL_integration/menu_results_AR6_bc39_diag/agriculture_clipped/2070/unmasked/equity_constant_eta2.0_rho0.0_damage_function_points.csv\n",
      "Extrapolating global consumption.\n"
     ]
    },
    {
     "name": "stderr",
     "output_type": "stream",
     "text": [
      "/home/liruixue/miniconda3/envs/dscim/lib/python3.8/site-packages/dask/core.py:121: RuntimeWarning: invalid value encountered in true_divide\n",
      "  return func(*(_execute_task(a, cache) for a in args))\n"
     ]
    },
    {
     "name": "stdout",
     "output_type": "stream",
     "text": [
      "Saving /mnt/CIL_integration/menu_results_AR6_bc39_diag/agriculture_clipped/2070/unmasked/equity_constant_eta2.0_rho0.0_global_consumption.nc4\n"
     ]
    },
    {
     "name": "stderr",
     "output_type": "stream",
     "text": [
      "/home/liruixue/miniconda3/envs/dscim/lib/python3.8/site-packages/dask/core.py:121: RuntimeWarning: invalid value encountered in true_divide\n",
      "  return func(*(_execute_task(a, cache) for a in args))\n",
      "/home/liruixue/miniconda3/envs/dscim/lib/python3.8/site-packages/dask/core.py:121: RuntimeWarning: invalid value encountered in true_divide\n",
      "  return func(*(_execute_task(a, cache) for a in args))\n"
     ]
    },
    {
     "name": "stdout",
     "output_type": "stream",
     "text": [
      "Saving /mnt/CIL_integration/menu_results_AR6_bc39_diag/agriculture_clipped/2070/unmasked/equity_constant_eta2.0_rho0.0_damage_function_coefficients.nc4\n",
      "Results available: /mnt/CIL_integration/menu_results_AR6_bc39_diag/agriculture_clipped/2070/unmasked/\n",
      "remaining combos: 79\n",
      "=========================================================\n",
      "('agriculture_clipped', 2070, 'constant', 'equity', 6, 39, 1.016010255)\n"
     ]
    },
    {
     "name": "stderr",
     "output_type": "stream",
     "text": [
      "/home/liruixue/miniconda3/envs/dscim/lib/python3.8/site-packages/dask/core.py:121: RuntimeWarning: invalid value encountered in true_divide\n",
      "  return func(*(_execute_task(a, cache) for a in args))\n"
     ]
    },
    {
     "name": "stdout",
     "output_type": "stream",
     "text": [
      "\n",
      " Executing Running equity class with the following parameters: \n",
      "Sector: agriculture_clipped \n",
      "Path to damages: /shares/gcp/integration/float32/input_data_histclim/ag_data/v0.0_ag_histclim-delta_clipped.zarr \n",
      "Menu recipe: equity \n",
      "Damages delta: delta_reallocation \n",
      "Discount level: global \n",
      "Discount type: constant \n",
      "Damage function path: None \n",
      "\n",
      "\n",
      "Processing damage functions ...\n",
      "Existing damage functions not found. Damage points will be loaded.\n",
      "Risk-aversion CEs found at /shares/gcp/integration/CE_library_epa_vsl_bc39/agriculture_clipped//risk_aversion_ce_no_cc_eta1.016010255.zarr. These are being loaded...\n"
     ]
    },
    {
     "name": "stderr",
     "output_type": "stream",
     "text": [
      "/home/liruixue/miniconda3/envs/dscim/lib/python3.8/site-packages/dask/array/core.py:4402: PerformanceWarning: Increasing number of chunks by factor of 24\n",
      "  result = blockwise(\n",
      "/home/liruixue/miniconda3/envs/dscim/lib/python3.8/site-packages/dask/core.py:121: RuntimeWarning: invalid value encountered in true_divide\n",
      "  return func(*(_execute_task(a, cache) for a in args))\n"
     ]
    },
    {
     "name": "stdout",
     "output_type": "stream",
     "text": [
      "Risk-aversion CEs found at /shares/gcp/integration/CE_library_epa_vsl_bc39/agriculture_clipped//risk_aversion_ce_cc_eta1.016010255.zarr. These are being loaded...\n"
     ]
    },
    {
     "name": "stderr",
     "output_type": "stream",
     "text": [
      "/home/liruixue/miniconda3/envs/dscim/lib/python3.8/site-packages/dask/array/core.py:4402: PerformanceWarning: Increasing number of chunks by factor of 24\n",
      "  result = blockwise(\n",
      "/home/liruixue/miniconda3/envs/dscim/lib/python3.8/site-packages/dask/core.py:121: RuntimeWarning: invalid value encountered in true_divide\n",
      "  return func(*(_execute_task(a, cache) for a in args))\n",
      "/home/liruixue/miniconda3/envs/dscim/lib/python3.8/site-packages/dask/core.py:121: RuntimeWarning: invalid value encountered in true_divide\n",
      "  return func(*(_execute_task(a, cache) for a in args))\n"
     ]
    },
    {
     "name": "stdout",
     "output_type": "stream",
     "text": [
      "Saving /mnt/CIL_integration/menu_results_AR6_bc39_diag/agriculture_clipped/2070/unmasked/equity_constant_eta1.016010255_rho9.149608e-05_damage_function_points.csv\n",
      "Extrapolating global consumption.\n"
     ]
    },
    {
     "name": "stderr",
     "output_type": "stream",
     "text": [
      "/home/liruixue/miniconda3/envs/dscim/lib/python3.8/site-packages/dask/core.py:121: RuntimeWarning: invalid value encountered in true_divide\n",
      "  return func(*(_execute_task(a, cache) for a in args))\n"
     ]
    },
    {
     "name": "stdout",
     "output_type": "stream",
     "text": [
      "Saving /mnt/CIL_integration/menu_results_AR6_bc39_diag/agriculture_clipped/2070/unmasked/equity_constant_eta1.016010255_rho9.149608e-05_global_consumption.nc4\n"
     ]
    },
    {
     "name": "stderr",
     "output_type": "stream",
     "text": [
      "/home/liruixue/miniconda3/envs/dscim/lib/python3.8/site-packages/dask/core.py:121: RuntimeWarning: invalid value encountered in true_divide\n",
      "  return func(*(_execute_task(a, cache) for a in args))\n",
      "/home/liruixue/miniconda3/envs/dscim/lib/python3.8/site-packages/dask/core.py:121: RuntimeWarning: invalid value encountered in true_divide\n",
      "  return func(*(_execute_task(a, cache) for a in args))\n"
     ]
    },
    {
     "name": "stdout",
     "output_type": "stream",
     "text": [
      "Saving /mnt/CIL_integration/menu_results_AR6_bc39_diag/agriculture_clipped/2070/unmasked/equity_constant_eta1.016010255_rho9.149608e-05_damage_function_coefficients.nc4\n",
      "Results available: /mnt/CIL_integration/menu_results_AR6_bc39_diag/agriculture_clipped/2070/unmasked/\n",
      "remaining combos: 78\n",
      "=========================================================\n",
      "('agriculture_clipped', 2070, 'constant', 'equity', 6, 39, 1.244459066)\n"
     ]
    },
    {
     "name": "stderr",
     "output_type": "stream",
     "text": [
      "/home/liruixue/miniconda3/envs/dscim/lib/python3.8/site-packages/dask/core.py:121: RuntimeWarning: invalid value encountered in true_divide\n",
      "  return func(*(_execute_task(a, cache) for a in args))\n"
     ]
    },
    {
     "name": "stdout",
     "output_type": "stream",
     "text": [
      "\n",
      " Executing Running equity class with the following parameters: \n",
      "Sector: agriculture_clipped \n",
      "Path to damages: /shares/gcp/integration/float32/input_data_histclim/ag_data/v0.0_ag_histclim-delta_clipped.zarr \n",
      "Menu recipe: equity \n",
      "Damages delta: delta_reallocation \n",
      "Discount level: global \n",
      "Discount type: constant \n",
      "Damage function path: None \n",
      "\n",
      "\n",
      "Processing damage functions ...\n",
      "Existing damage functions not found. Damage points will be loaded.\n",
      "Risk-aversion CEs found at /shares/gcp/integration/CE_library_epa_vsl_bc39/agriculture_clipped//risk_aversion_ce_no_cc_eta1.244459066.zarr. These are being loaded...\n"
     ]
    },
    {
     "name": "stderr",
     "output_type": "stream",
     "text": [
      "/home/liruixue/miniconda3/envs/dscim/lib/python3.8/site-packages/dask/array/core.py:4402: PerformanceWarning: Increasing number of chunks by factor of 24\n",
      "  result = blockwise(\n",
      "/home/liruixue/miniconda3/envs/dscim/lib/python3.8/site-packages/dask/core.py:121: RuntimeWarning: invalid value encountered in true_divide\n",
      "  return func(*(_execute_task(a, cache) for a in args))\n"
     ]
    },
    {
     "name": "stdout",
     "output_type": "stream",
     "text": [
      "Risk-aversion CEs found at /shares/gcp/integration/CE_library_epa_vsl_bc39/agriculture_clipped//risk_aversion_ce_cc_eta1.244459066.zarr. These are being loaded...\n"
     ]
    },
    {
     "name": "stderr",
     "output_type": "stream",
     "text": [
      "/home/liruixue/miniconda3/envs/dscim/lib/python3.8/site-packages/dask/array/core.py:4402: PerformanceWarning: Increasing number of chunks by factor of 24\n",
      "  result = blockwise(\n",
      "/home/liruixue/miniconda3/envs/dscim/lib/python3.8/site-packages/dask/core.py:121: RuntimeWarning: invalid value encountered in true_divide\n",
      "  return func(*(_execute_task(a, cache) for a in args))\n",
      "/home/liruixue/miniconda3/envs/dscim/lib/python3.8/site-packages/dask/core.py:121: RuntimeWarning: invalid value encountered in true_divide\n",
      "  return func(*(_execute_task(a, cache) for a in args))\n"
     ]
    },
    {
     "name": "stdout",
     "output_type": "stream",
     "text": [
      "Saving /mnt/CIL_integration/menu_results_AR6_bc39_diag/agriculture_clipped/2070/unmasked/equity_constant_eta1.244459066_rho0.00197263997_damage_function_points.csv\n",
      "Extrapolating global consumption.\n"
     ]
    },
    {
     "name": "stderr",
     "output_type": "stream",
     "text": [
      "/home/liruixue/miniconda3/envs/dscim/lib/python3.8/site-packages/dask/core.py:121: RuntimeWarning: invalid value encountered in true_divide\n",
      "  return func(*(_execute_task(a, cache) for a in args))\n"
     ]
    },
    {
     "name": "stdout",
     "output_type": "stream",
     "text": [
      "Saving /mnt/CIL_integration/menu_results_AR6_bc39_diag/agriculture_clipped/2070/unmasked/equity_constant_eta1.244459066_rho0.00197263997_global_consumption.nc4\n"
     ]
    },
    {
     "name": "stderr",
     "output_type": "stream",
     "text": [
      "/home/liruixue/miniconda3/envs/dscim/lib/python3.8/site-packages/dask/core.py:121: RuntimeWarning: invalid value encountered in true_divide\n",
      "  return func(*(_execute_task(a, cache) for a in args))\n",
      "/home/liruixue/miniconda3/envs/dscim/lib/python3.8/site-packages/dask/core.py:121: RuntimeWarning: invalid value encountered in true_divide\n",
      "  return func(*(_execute_task(a, cache) for a in args))\n"
     ]
    },
    {
     "name": "stdout",
     "output_type": "stream",
     "text": [
      "Saving /mnt/CIL_integration/menu_results_AR6_bc39_diag/agriculture_clipped/2070/unmasked/equity_constant_eta1.244459066_rho0.00197263997_damage_function_coefficients.nc4\n",
      "Results available: /mnt/CIL_integration/menu_results_AR6_bc39_diag/agriculture_clipped/2070/unmasked/\n",
      "remaining combos: 77\n",
      "=========================================================\n",
      "('agriculture_clipped', 2070, 'constant', 'equity', 6, 39, 1.421158116)\n",
      "\n",
      " Executing Running equity class with the following parameters: \n",
      "Sector: agriculture_clipped \n",
      "Path to damages: /shares/gcp/integration/float32/input_data_histclim/ag_data/v0.0_ag_histclim-delta_clipped.zarr \n",
      "Menu recipe: equity \n",
      "Damages delta: delta_reallocation \n",
      "Discount level: global \n",
      "Discount type: constant \n",
      "Damage function path: None \n",
      "\n",
      "\n",
      "Processing damage functions ...\n",
      "Existing damage functions not found. Damage points will be loaded.\n",
      "Risk-aversion CEs found at /shares/gcp/integration/CE_library_epa_vsl_bc39/agriculture_clipped//risk_aversion_ce_no_cc_eta1.421158116.zarr. These are being loaded...\n"
     ]
    },
    {
     "name": "stderr",
     "output_type": "stream",
     "text": [
      "/home/liruixue/miniconda3/envs/dscim/lib/python3.8/site-packages/dask/core.py:121: RuntimeWarning: invalid value encountered in true_divide\n",
      "  return func(*(_execute_task(a, cache) for a in args))\n",
      "/home/liruixue/miniconda3/envs/dscim/lib/python3.8/site-packages/dask/array/core.py:4402: PerformanceWarning: Increasing number of chunks by factor of 24\n",
      "  result = blockwise(\n",
      "/home/liruixue/miniconda3/envs/dscim/lib/python3.8/site-packages/dask/core.py:121: RuntimeWarning: invalid value encountered in true_divide\n",
      "  return func(*(_execute_task(a, cache) for a in args))\n"
     ]
    },
    {
     "name": "stdout",
     "output_type": "stream",
     "text": [
      "Risk-aversion CEs found at /shares/gcp/integration/CE_library_epa_vsl_bc39/agriculture_clipped//risk_aversion_ce_cc_eta1.421158116.zarr. These are being loaded...\n"
     ]
    },
    {
     "name": "stderr",
     "output_type": "stream",
     "text": [
      "/home/liruixue/miniconda3/envs/dscim/lib/python3.8/site-packages/dask/array/core.py:4402: PerformanceWarning: Increasing number of chunks by factor of 24\n",
      "  result = blockwise(\n",
      "/home/liruixue/miniconda3/envs/dscim/lib/python3.8/site-packages/dask/core.py:121: RuntimeWarning: invalid value encountered in true_divide\n",
      "  return func(*(_execute_task(a, cache) for a in args))\n",
      "/home/liruixue/miniconda3/envs/dscim/lib/python3.8/site-packages/dask/core.py:121: RuntimeWarning: invalid value encountered in true_divide\n",
      "  return func(*(_execute_task(a, cache) for a in args))\n"
     ]
    },
    {
     "name": "stdout",
     "output_type": "stream",
     "text": [
      "Saving /mnt/CIL_integration/menu_results_AR6_bc39_diag/agriculture_clipped/2070/unmasked/equity_constant_eta1.421158116_rho0.00461878399_damage_function_points.csv\n",
      "Extrapolating global consumption.\n"
     ]
    },
    {
     "name": "stderr",
     "output_type": "stream",
     "text": [
      "/home/liruixue/miniconda3/envs/dscim/lib/python3.8/site-packages/dask/core.py:121: RuntimeWarning: invalid value encountered in true_divide\n",
      "  return func(*(_execute_task(a, cache) for a in args))\n",
      "/home/liruixue/miniconda3/envs/dscim/lib/python3.8/site-packages/dask/core.py:121: RuntimeWarning: invalid value encountered in true_divide\n",
      "  return func(*(_execute_task(a, cache) for a in args))\n"
     ]
    },
    {
     "name": "stdout",
     "output_type": "stream",
     "text": [
      "Saving /mnt/CIL_integration/menu_results_AR6_bc39_diag/agriculture_clipped/2070/unmasked/equity_constant_eta1.421158116_rho0.00461878399_global_consumption.nc4\n"
     ]
    },
    {
     "name": "stderr",
     "output_type": "stream",
     "text": [
      "/home/liruixue/miniconda3/envs/dscim/lib/python3.8/site-packages/dask/core.py:121: RuntimeWarning: invalid value encountered in true_divide\n",
      "  return func(*(_execute_task(a, cache) for a in args))\n"
     ]
    },
    {
     "name": "stdout",
     "output_type": "stream",
     "text": [
      "Saving /mnt/CIL_integration/menu_results_AR6_bc39_diag/agriculture_clipped/2070/unmasked/equity_constant_eta1.421158116_rho0.00461878399_damage_function_coefficients.nc4\n",
      "Results available: /mnt/CIL_integration/menu_results_AR6_bc39_diag/agriculture_clipped/2070/unmasked/\n",
      "remaining combos: 76\n",
      "=========================================================\n",
      "('agriculture_clipped', 2070, 'constant', 'equity', 6, 39, 1.567899395)\n"
     ]
    },
    {
     "name": "stderr",
     "output_type": "stream",
     "text": [
      "/home/liruixue/miniconda3/envs/dscim/lib/python3.8/site-packages/dask/core.py:121: RuntimeWarning: invalid value encountered in true_divide\n",
      "  return func(*(_execute_task(a, cache) for a in args))\n"
     ]
    },
    {
     "name": "stdout",
     "output_type": "stream",
     "text": [
      "\n",
      " Executing Running equity class with the following parameters: \n",
      "Sector: agriculture_clipped \n",
      "Path to damages: /shares/gcp/integration/float32/input_data_histclim/ag_data/v0.0_ag_histclim-delta_clipped.zarr \n",
      "Menu recipe: equity \n",
      "Damages delta: delta_reallocation \n",
      "Discount level: global \n",
      "Discount type: constant \n",
      "Damage function path: None \n",
      "\n",
      "\n",
      "Processing damage functions ...\n",
      "Existing damage functions not found. Damage points will be loaded.\n",
      "Risk-aversion CEs found at /shares/gcp/integration/CE_library_epa_vsl_bc39/agriculture_clipped//risk_aversion_ce_no_cc_eta1.567899395.zarr. These are being loaded...\n"
     ]
    },
    {
     "name": "stderr",
     "output_type": "stream",
     "text": [
      "/home/liruixue/miniconda3/envs/dscim/lib/python3.8/site-packages/dask/array/core.py:4402: PerformanceWarning: Increasing number of chunks by factor of 24\n",
      "  result = blockwise(\n",
      "/home/liruixue/miniconda3/envs/dscim/lib/python3.8/site-packages/dask/core.py:121: RuntimeWarning: invalid value encountered in true_divide\n",
      "  return func(*(_execute_task(a, cache) for a in args))\n"
     ]
    },
    {
     "name": "stdout",
     "output_type": "stream",
     "text": [
      "Risk-aversion CEs found at /shares/gcp/integration/CE_library_epa_vsl_bc39/agriculture_clipped//risk_aversion_ce_cc_eta1.567899395.zarr. These are being loaded...\n"
     ]
    },
    {
     "name": "stderr",
     "output_type": "stream",
     "text": [
      "/home/liruixue/miniconda3/envs/dscim/lib/python3.8/site-packages/dask/array/core.py:4402: PerformanceWarning: Increasing number of chunks by factor of 24\n",
      "  result = blockwise(\n",
      "/home/liruixue/miniconda3/envs/dscim/lib/python3.8/site-packages/dask/core.py:121: RuntimeWarning: invalid value encountered in true_divide\n",
      "  return func(*(_execute_task(a, cache) for a in args))\n",
      "/home/liruixue/miniconda3/envs/dscim/lib/python3.8/site-packages/dask/core.py:121: RuntimeWarning: invalid value encountered in true_divide\n",
      "  return func(*(_execute_task(a, cache) for a in args))\n"
     ]
    },
    {
     "name": "stdout",
     "output_type": "stream",
     "text": [
      "Saving /mnt/CIL_integration/menu_results_AR6_bc39_diag/agriculture_clipped/2070/unmasked/equity_constant_eta1.567899395_rho0.00770271076_damage_function_points.csv\n",
      "Extrapolating global consumption.\n"
     ]
    },
    {
     "name": "stderr",
     "output_type": "stream",
     "text": [
      "/home/liruixue/miniconda3/envs/dscim/lib/python3.8/site-packages/dask/core.py:121: RuntimeWarning: invalid value encountered in true_divide\n",
      "  return func(*(_execute_task(a, cache) for a in args))\n"
     ]
    },
    {
     "name": "stdout",
     "output_type": "stream",
     "text": [
      "Saving /mnt/CIL_integration/menu_results_AR6_bc39_diag/agriculture_clipped/2070/unmasked/equity_constant_eta1.567899395_rho0.00770271076_global_consumption.nc4\n"
     ]
    },
    {
     "name": "stderr",
     "output_type": "stream",
     "text": [
      "/home/liruixue/miniconda3/envs/dscim/lib/python3.8/site-packages/dask/core.py:121: RuntimeWarning: invalid value encountered in true_divide\n",
      "  return func(*(_execute_task(a, cache) for a in args))\n",
      "/home/liruixue/miniconda3/envs/dscim/lib/python3.8/site-packages/dask/core.py:121: RuntimeWarning: invalid value encountered in true_divide\n",
      "  return func(*(_execute_task(a, cache) for a in args))\n"
     ]
    },
    {
     "name": "stdout",
     "output_type": "stream",
     "text": [
      "Saving /mnt/CIL_integration/menu_results_AR6_bc39_diag/agriculture_clipped/2070/unmasked/equity_constant_eta1.567899395_rho0.00770271076_damage_function_coefficients.nc4\n",
      "Results available: /mnt/CIL_integration/menu_results_AR6_bc39_diag/agriculture_clipped/2070/unmasked/\n",
      "remaining combos: 75\n",
      "=========================================================\n",
      "('agriculture_clipped', 2070, 'euler_ramsey', 'adding_up', 6, 39, 2.0)\n",
      "Rechunking for 'adding_up' option.\n"
     ]
    },
    {
     "name": "stderr",
     "output_type": "stream",
     "text": [
      "/home/liruixue/miniconda3/envs/dscim/lib/python3.8/site-packages/dask/core.py:121: RuntimeWarning: invalid value encountered in true_divide\n",
      "  return func(*(_execute_task(a, cache) for a in args))\n"
     ]
    },
    {
     "name": "stdout",
     "output_type": "stream",
     "text": [
      "\n",
      " Executing Running adding_up class with the following parameters: \n",
      "Sector: agriculture_clipped \n",
      "Path to damages: /shares/gcp/integration/float32/input_data_histclim/ag_data/v0.0_ag_histclim-delta_clipped.zarr \n",
      "Menu recipe: adding_up \n",
      "Damages delta: delta_reallocation \n",
      "Discount level: global \n",
      "Discount type: euler_ramsey \n",
      "Damage function path: None \n",
      "\n",
      "\n",
      "Processing damage functions ...\n",
      "Existing damage functions not found. Damage points will be loaded.\n",
      "Adding up CEs found at /shares/gcp/integration/CE_library_epa_vsl_bc39/agriculture_clipped//adding_up_ce_cc_eta2.0.zarr, /shares/gcp/integration/CE_library_epa_vsl_bc39/agriculture_clipped//adding_up_ce_no_cc_eta2.0.zarr. These are being loaded...\n",
      "Saving /mnt/CIL_integration/menu_results_AR6_bc39_diag/agriculture_clipped/2070/unmasked/adding_up_euler_ramsey_eta2.0_rho0.0_damage_function_points.csv\n",
      "Extrapolating global consumption.\n",
      "End-of-century growth rates are not capped.\n",
      "Saving /mnt/CIL_integration/menu_results_AR6_bc39_diag/agriculture_clipped/2070/unmasked/adding_up_euler_ramsey_eta2.0_rho0.0_global_consumption.nc4\n",
      "Saving /mnt/CIL_integration/menu_results_AR6_bc39_diag/agriculture_clipped/2070/unmasked/adding_up_euler_ramsey_eta2.0_rho0.0_damage_function_coefficients.nc4\n",
      "Results available: /mnt/CIL_integration/menu_results_AR6_bc39_diag/agriculture_clipped/2070/unmasked/\n",
      "remaining combos: 74\n",
      "=========================================================\n",
      "('agriculture_clipped', 2070, 'euler_ramsey', 'adding_up', 6, 39, 1.016010255)\n",
      "Rechunking for 'adding_up' option.\n",
      "\n",
      " Executing Running adding_up class with the following parameters: \n",
      "Sector: agriculture_clipped \n",
      "Path to damages: /shares/gcp/integration/float32/input_data_histclim/ag_data/v0.0_ag_histclim-delta_clipped.zarr \n",
      "Menu recipe: adding_up \n",
      "Damages delta: delta_reallocation \n",
      "Discount level: global \n",
      "Discount type: euler_ramsey \n",
      "Damage function path: None \n",
      "\n",
      "\n",
      "Processing damage functions ...\n",
      "Existing damage functions not found. Damage points will be loaded.\n",
      "Adding up CEs found at /shares/gcp/integration/CE_library_epa_vsl_bc39/agriculture_clipped//adding_up_ce_cc_eta1.016010255.zarr, /shares/gcp/integration/CE_library_epa_vsl_bc39/agriculture_clipped//adding_up_ce_no_cc_eta1.016010255.zarr. These are being loaded...\n",
      "Saving /mnt/CIL_integration/menu_results_AR6_bc39_diag/agriculture_clipped/2070/unmasked/adding_up_euler_ramsey_eta1.016010255_rho9.149608e-05_damage_function_points.csv\n",
      "Extrapolating global consumption.\n",
      "End-of-century growth rates are not capped.\n",
      "Saving /mnt/CIL_integration/menu_results_AR6_bc39_diag/agriculture_clipped/2070/unmasked/adding_up_euler_ramsey_eta1.016010255_rho9.149608e-05_global_consumption.nc4\n",
      "Saving /mnt/CIL_integration/menu_results_AR6_bc39_diag/agriculture_clipped/2070/unmasked/adding_up_euler_ramsey_eta1.016010255_rho9.149608e-05_damage_function_coefficients.nc4\n",
      "Results available: /mnt/CIL_integration/menu_results_AR6_bc39_diag/agriculture_clipped/2070/unmasked/\n",
      "remaining combos: 73\n",
      "=========================================================\n",
      "('agriculture_clipped', 2070, 'euler_ramsey', 'adding_up', 6, 39, 1.244459066)\n",
      "Rechunking for 'adding_up' option.\n",
      "\n",
      " Executing Running adding_up class with the following parameters: \n",
      "Sector: agriculture_clipped \n",
      "Path to damages: /shares/gcp/integration/float32/input_data_histclim/ag_data/v0.0_ag_histclim-delta_clipped.zarr \n",
      "Menu recipe: adding_up \n",
      "Damages delta: delta_reallocation \n",
      "Discount level: global \n",
      "Discount type: euler_ramsey \n",
      "Damage function path: None \n",
      "\n",
      "\n",
      "Processing damage functions ...\n",
      "Existing damage functions not found. Damage points will be loaded.\n",
      "Adding up CEs found at /shares/gcp/integration/CE_library_epa_vsl_bc39/agriculture_clipped//adding_up_ce_cc_eta1.244459066.zarr, /shares/gcp/integration/CE_library_epa_vsl_bc39/agriculture_clipped//adding_up_ce_no_cc_eta1.244459066.zarr. These are being loaded...\n",
      "Saving /mnt/CIL_integration/menu_results_AR6_bc39_diag/agriculture_clipped/2070/unmasked/adding_up_euler_ramsey_eta1.244459066_rho0.00197263997_damage_function_points.csv\n",
      "Extrapolating global consumption.\n",
      "End-of-century growth rates are not capped.\n",
      "Saving /mnt/CIL_integration/menu_results_AR6_bc39_diag/agriculture_clipped/2070/unmasked/adding_up_euler_ramsey_eta1.244459066_rho0.00197263997_global_consumption.nc4\n",
      "Saving /mnt/CIL_integration/menu_results_AR6_bc39_diag/agriculture_clipped/2070/unmasked/adding_up_euler_ramsey_eta1.244459066_rho0.00197263997_damage_function_coefficients.nc4\n",
      "Results available: /mnt/CIL_integration/menu_results_AR6_bc39_diag/agriculture_clipped/2070/unmasked/\n",
      "remaining combos: 72\n",
      "=========================================================\n",
      "('agriculture_clipped', 2070, 'euler_ramsey', 'adding_up', 6, 39, 1.421158116)\n",
      "Rechunking for 'adding_up' option.\n",
      "\n",
      " Executing Running adding_up class with the following parameters: \n",
      "Sector: agriculture_clipped \n",
      "Path to damages: /shares/gcp/integration/float32/input_data_histclim/ag_data/v0.0_ag_histclim-delta_clipped.zarr \n",
      "Menu recipe: adding_up \n",
      "Damages delta: delta_reallocation \n",
      "Discount level: global \n",
      "Discount type: euler_ramsey \n",
      "Damage function path: None \n",
      "\n",
      "\n",
      "Processing damage functions ...\n",
      "Existing damage functions not found. Damage points will be loaded.\n",
      "Adding up CEs found at /shares/gcp/integration/CE_library_epa_vsl_bc39/agriculture_clipped//adding_up_ce_cc_eta1.421158116.zarr, /shares/gcp/integration/CE_library_epa_vsl_bc39/agriculture_clipped//adding_up_ce_no_cc_eta1.421158116.zarr. These are being loaded...\n",
      "Saving /mnt/CIL_integration/menu_results_AR6_bc39_diag/agriculture_clipped/2070/unmasked/adding_up_euler_ramsey_eta1.421158116_rho0.00461878399_damage_function_points.csv\n",
      "Extrapolating global consumption.\n",
      "End-of-century growth rates are not capped.\n",
      "Saving /mnt/CIL_integration/menu_results_AR6_bc39_diag/agriculture_clipped/2070/unmasked/adding_up_euler_ramsey_eta1.421158116_rho0.00461878399_global_consumption.nc4\n",
      "Saving /mnt/CIL_integration/menu_results_AR6_bc39_diag/agriculture_clipped/2070/unmasked/adding_up_euler_ramsey_eta1.421158116_rho0.00461878399_damage_function_coefficients.nc4\n",
      "Results available: /mnt/CIL_integration/menu_results_AR6_bc39_diag/agriculture_clipped/2070/unmasked/\n",
      "remaining combos: 71\n",
      "=========================================================\n",
      "('agriculture_clipped', 2070, 'euler_ramsey', 'adding_up', 6, 39, 1.567899395)\n",
      "Rechunking for 'adding_up' option.\n",
      "\n",
      " Executing Running adding_up class with the following parameters: \n",
      "Sector: agriculture_clipped \n",
      "Path to damages: /shares/gcp/integration/float32/input_data_histclim/ag_data/v0.0_ag_histclim-delta_clipped.zarr \n",
      "Menu recipe: adding_up \n",
      "Damages delta: delta_reallocation \n",
      "Discount level: global \n",
      "Discount type: euler_ramsey \n",
      "Damage function path: None \n",
      "\n",
      "\n",
      "Processing damage functions ...\n",
      "Existing damage functions not found. Damage points will be loaded.\n",
      "Adding up CEs found at /shares/gcp/integration/CE_library_epa_vsl_bc39/agriculture_clipped//adding_up_ce_cc_eta1.567899395.zarr, /shares/gcp/integration/CE_library_epa_vsl_bc39/agriculture_clipped//adding_up_ce_no_cc_eta1.567899395.zarr. These are being loaded...\n",
      "Saving /mnt/CIL_integration/menu_results_AR6_bc39_diag/agriculture_clipped/2070/unmasked/adding_up_euler_ramsey_eta1.567899395_rho0.00770271076_damage_function_points.csv\n",
      "Extrapolating global consumption.\n",
      "End-of-century growth rates are not capped.\n",
      "Saving /mnt/CIL_integration/menu_results_AR6_bc39_diag/agriculture_clipped/2070/unmasked/adding_up_euler_ramsey_eta1.567899395_rho0.00770271076_global_consumption.nc4\n",
      "Saving /mnt/CIL_integration/menu_results_AR6_bc39_diag/agriculture_clipped/2070/unmasked/adding_up_euler_ramsey_eta1.567899395_rho0.00770271076_damage_function_coefficients.nc4\n",
      "Results available: /mnt/CIL_integration/menu_results_AR6_bc39_diag/agriculture_clipped/2070/unmasked/\n",
      "remaining combos: 70\n",
      "=========================================================\n",
      "('agriculture_clipped', 2070, 'euler_ramsey', 'risk_aversion', 6, 39, 2.0)\n",
      "\n",
      " Executing Running risk_aversion class with the following parameters: \n",
      "Sector: agriculture_clipped \n",
      "Path to damages: /shares/gcp/integration/float32/input_data_histclim/ag_data/v0.0_ag_histclim-delta_clipped.zarr \n",
      "Menu recipe: risk_aversion \n",
      "Damages delta: delta_reallocation \n",
      "Discount level: global \n",
      "Discount type: euler_ramsey \n",
      "Damage function path: None \n",
      "\n",
      "\n",
      "Processing damage functions ...\n",
      "Existing damage functions not found. Damage points will be loaded.\n",
      "Risk-aversion CEs found at /shares/gcp/integration/CE_library_epa_vsl_bc39/agriculture_clipped//risk_aversion_ce_no_cc_eta2.0.zarr. These are being loaded...\n",
      "Risk-aversion CEs found at /shares/gcp/integration/CE_library_epa_vsl_bc39/agriculture_clipped//risk_aversion_ce_cc_eta2.0.zarr. These are being loaded...\n",
      "Saving /mnt/CIL_integration/menu_results_AR6_bc39_diag/agriculture_clipped/2070/unmasked/risk_aversion_euler_ramsey_eta2.0_rho0.0_damage_function_points.csv\n",
      "Extrapolating global consumption.\n",
      "End-of-century growth rates are not capped.\n",
      "Saving /mnt/CIL_integration/menu_results_AR6_bc39_diag/agriculture_clipped/2070/unmasked/risk_aversion_euler_ramsey_eta2.0_rho0.0_global_consumption.nc4\n",
      "Saving /mnt/CIL_integration/menu_results_AR6_bc39_diag/agriculture_clipped/2070/unmasked/risk_aversion_euler_ramsey_eta2.0_rho0.0_damage_function_coefficients.nc4\n",
      "Results available: /mnt/CIL_integration/menu_results_AR6_bc39_diag/agriculture_clipped/2070/unmasked/\n",
      "remaining combos: 69\n",
      "=========================================================\n",
      "('agriculture_clipped', 2070, 'euler_ramsey', 'risk_aversion', 6, 39, 1.016010255)\n",
      "\n",
      " Executing Running risk_aversion class with the following parameters: \n",
      "Sector: agriculture_clipped \n",
      "Path to damages: /shares/gcp/integration/float32/input_data_histclim/ag_data/v0.0_ag_histclim-delta_clipped.zarr \n",
      "Menu recipe: risk_aversion \n",
      "Damages delta: delta_reallocation \n",
      "Discount level: global \n",
      "Discount type: euler_ramsey \n",
      "Damage function path: None \n",
      "\n",
      "\n",
      "Processing damage functions ...\n",
      "Existing damage functions not found. Damage points will be loaded.\n",
      "Risk-aversion CEs found at /shares/gcp/integration/CE_library_epa_vsl_bc39/agriculture_clipped//risk_aversion_ce_no_cc_eta1.016010255.zarr. These are being loaded...\n",
      "Risk-aversion CEs found at /shares/gcp/integration/CE_library_epa_vsl_bc39/agriculture_clipped//risk_aversion_ce_cc_eta1.016010255.zarr. These are being loaded...\n",
      "Saving /mnt/CIL_integration/menu_results_AR6_bc39_diag/agriculture_clipped/2070/unmasked/risk_aversion_euler_ramsey_eta1.016010255_rho9.149608e-05_damage_function_points.csv\n",
      "Extrapolating global consumption.\n",
      "End-of-century growth rates are not capped.\n",
      "Saving /mnt/CIL_integration/menu_results_AR6_bc39_diag/agriculture_clipped/2070/unmasked/risk_aversion_euler_ramsey_eta1.016010255_rho9.149608e-05_global_consumption.nc4\n",
      "Saving /mnt/CIL_integration/menu_results_AR6_bc39_diag/agriculture_clipped/2070/unmasked/risk_aversion_euler_ramsey_eta1.016010255_rho9.149608e-05_damage_function_coefficients.nc4\n",
      "Results available: /mnt/CIL_integration/menu_results_AR6_bc39_diag/agriculture_clipped/2070/unmasked/\n",
      "remaining combos: 68\n",
      "=========================================================\n",
      "('agriculture_clipped', 2070, 'euler_ramsey', 'risk_aversion', 6, 39, 1.244459066)\n",
      "\n",
      " Executing Running risk_aversion class with the following parameters: \n",
      "Sector: agriculture_clipped \n",
      "Path to damages: /shares/gcp/integration/float32/input_data_histclim/ag_data/v0.0_ag_histclim-delta_clipped.zarr \n",
      "Menu recipe: risk_aversion \n",
      "Damages delta: delta_reallocation \n",
      "Discount level: global \n",
      "Discount type: euler_ramsey \n",
      "Damage function path: None \n",
      "\n",
      "\n",
      "Processing damage functions ...\n",
      "Existing damage functions not found. Damage points will be loaded.\n",
      "Risk-aversion CEs found at /shares/gcp/integration/CE_library_epa_vsl_bc39/agriculture_clipped//risk_aversion_ce_no_cc_eta1.244459066.zarr. These are being loaded...\n",
      "Risk-aversion CEs found at /shares/gcp/integration/CE_library_epa_vsl_bc39/agriculture_clipped//risk_aversion_ce_cc_eta1.244459066.zarr. These are being loaded...\n",
      "Saving /mnt/CIL_integration/menu_results_AR6_bc39_diag/agriculture_clipped/2070/unmasked/risk_aversion_euler_ramsey_eta1.244459066_rho0.00197263997_damage_function_points.csv\n",
      "Extrapolating global consumption.\n",
      "End-of-century growth rates are not capped.\n",
      "Saving /mnt/CIL_integration/menu_results_AR6_bc39_diag/agriculture_clipped/2070/unmasked/risk_aversion_euler_ramsey_eta1.244459066_rho0.00197263997_global_consumption.nc4\n",
      "Saving /mnt/CIL_integration/menu_results_AR6_bc39_diag/agriculture_clipped/2070/unmasked/risk_aversion_euler_ramsey_eta1.244459066_rho0.00197263997_damage_function_coefficients.nc4\n",
      "Results available: /mnt/CIL_integration/menu_results_AR6_bc39_diag/agriculture_clipped/2070/unmasked/\n",
      "remaining combos: 67\n",
      "=========================================================\n",
      "('agriculture_clipped', 2070, 'euler_ramsey', 'risk_aversion', 6, 39, 1.421158116)\n",
      "\n",
      " Executing Running risk_aversion class with the following parameters: \n",
      "Sector: agriculture_clipped \n",
      "Path to damages: /shares/gcp/integration/float32/input_data_histclim/ag_data/v0.0_ag_histclim-delta_clipped.zarr \n",
      "Menu recipe: risk_aversion \n",
      "Damages delta: delta_reallocation \n",
      "Discount level: global \n",
      "Discount type: euler_ramsey \n",
      "Damage function path: None \n",
      "\n",
      "\n",
      "Processing damage functions ...\n",
      "Existing damage functions not found. Damage points will be loaded.\n",
      "Risk-aversion CEs found at /shares/gcp/integration/CE_library_epa_vsl_bc39/agriculture_clipped//risk_aversion_ce_no_cc_eta1.421158116.zarr. These are being loaded...\n",
      "Risk-aversion CEs found at /shares/gcp/integration/CE_library_epa_vsl_bc39/agriculture_clipped//risk_aversion_ce_cc_eta1.421158116.zarr. These are being loaded...\n",
      "Saving /mnt/CIL_integration/menu_results_AR6_bc39_diag/agriculture_clipped/2070/unmasked/risk_aversion_euler_ramsey_eta1.421158116_rho0.00461878399_damage_function_points.csv\n",
      "Extrapolating global consumption.\n",
      "End-of-century growth rates are not capped.\n",
      "Saving /mnt/CIL_integration/menu_results_AR6_bc39_diag/agriculture_clipped/2070/unmasked/risk_aversion_euler_ramsey_eta1.421158116_rho0.00461878399_global_consumption.nc4\n",
      "Saving /mnt/CIL_integration/menu_results_AR6_bc39_diag/agriculture_clipped/2070/unmasked/risk_aversion_euler_ramsey_eta1.421158116_rho0.00461878399_damage_function_coefficients.nc4\n",
      "Results available: /mnt/CIL_integration/menu_results_AR6_bc39_diag/agriculture_clipped/2070/unmasked/\n",
      "remaining combos: 66\n",
      "=========================================================\n",
      "('agriculture_clipped', 2070, 'euler_ramsey', 'risk_aversion', 6, 39, 1.567899395)\n",
      "\n",
      " Executing Running risk_aversion class with the following parameters: \n",
      "Sector: agriculture_clipped \n",
      "Path to damages: /shares/gcp/integration/float32/input_data_histclim/ag_data/v0.0_ag_histclim-delta_clipped.zarr \n",
      "Menu recipe: risk_aversion \n",
      "Damages delta: delta_reallocation \n",
      "Discount level: global \n",
      "Discount type: euler_ramsey \n",
      "Damage function path: None \n",
      "\n",
      "\n",
      "Processing damage functions ...\n",
      "Existing damage functions not found. Damage points will be loaded.\n",
      "Risk-aversion CEs found at /shares/gcp/integration/CE_library_epa_vsl_bc39/agriculture_clipped//risk_aversion_ce_no_cc_eta1.567899395.zarr. These are being loaded...\n",
      "Risk-aversion CEs found at /shares/gcp/integration/CE_library_epa_vsl_bc39/agriculture_clipped//risk_aversion_ce_cc_eta1.567899395.zarr. These are being loaded...\n",
      "Saving /mnt/CIL_integration/menu_results_AR6_bc39_diag/agriculture_clipped/2070/unmasked/risk_aversion_euler_ramsey_eta1.567899395_rho0.00770271076_damage_function_points.csv\n",
      "Extrapolating global consumption.\n",
      "End-of-century growth rates are not capped.\n",
      "Saving /mnt/CIL_integration/menu_results_AR6_bc39_diag/agriculture_clipped/2070/unmasked/risk_aversion_euler_ramsey_eta1.567899395_rho0.00770271076_global_consumption.nc4\n",
      "Saving /mnt/CIL_integration/menu_results_AR6_bc39_diag/agriculture_clipped/2070/unmasked/risk_aversion_euler_ramsey_eta1.567899395_rho0.00770271076_damage_function_coefficients.nc4\n",
      "Results available: /mnt/CIL_integration/menu_results_AR6_bc39_diag/agriculture_clipped/2070/unmasked/\n",
      "remaining combos: 65\n",
      "=========================================================\n",
      "('agriculture_clipped', 2070, 'euler_ramsey', 'equity', 6, 39, 2.0)\n",
      "\n",
      " Executing Running equity class with the following parameters: \n",
      "Sector: agriculture_clipped \n",
      "Path to damages: /shares/gcp/integration/float32/input_data_histclim/ag_data/v0.0_ag_histclim-delta_clipped.zarr \n",
      "Menu recipe: equity \n",
      "Damages delta: delta_reallocation \n",
      "Discount level: global \n",
      "Discount type: euler_ramsey \n",
      "Damage function path: None \n",
      "\n",
      "\n",
      "Processing damage functions ...\n",
      "Existing damage functions not found. Damage points will be loaded.\n",
      "Risk-aversion CEs found at /shares/gcp/integration/CE_library_epa_vsl_bc39/agriculture_clipped//risk_aversion_ce_no_cc_eta2.0.zarr. These are being loaded...\n"
     ]
    },
    {
     "name": "stderr",
     "output_type": "stream",
     "text": [
      "/home/liruixue/miniconda3/envs/dscim/lib/python3.8/site-packages/dask/array/core.py:4402: PerformanceWarning: Increasing number of chunks by factor of 24\n",
      "  result = blockwise(\n",
      "/home/liruixue/miniconda3/envs/dscim/lib/python3.8/site-packages/dask/core.py:121: RuntimeWarning: invalid value encountered in true_divide\n",
      "  return func(*(_execute_task(a, cache) for a in args))\n"
     ]
    },
    {
     "name": "stdout",
     "output_type": "stream",
     "text": [
      "Risk-aversion CEs found at /shares/gcp/integration/CE_library_epa_vsl_bc39/agriculture_clipped//risk_aversion_ce_cc_eta2.0.zarr. These are being loaded...\n"
     ]
    },
    {
     "name": "stderr",
     "output_type": "stream",
     "text": [
      "/home/liruixue/miniconda3/envs/dscim/lib/python3.8/site-packages/dask/array/core.py:4402: PerformanceWarning: Increasing number of chunks by factor of 24\n",
      "  result = blockwise(\n",
      "/home/liruixue/miniconda3/envs/dscim/lib/python3.8/site-packages/dask/core.py:121: RuntimeWarning: invalid value encountered in true_divide\n",
      "  return func(*(_execute_task(a, cache) for a in args))\n",
      "/home/liruixue/miniconda3/envs/dscim/lib/python3.8/site-packages/dask/core.py:121: RuntimeWarning: invalid value encountered in true_divide\n",
      "  return func(*(_execute_task(a, cache) for a in args))\n"
     ]
    },
    {
     "name": "stdout",
     "output_type": "stream",
     "text": [
      "Saving /mnt/CIL_integration/menu_results_AR6_bc39_diag/agriculture_clipped/2070/unmasked/equity_euler_ramsey_eta2.0_rho0.0_damage_function_points.csv\n",
      "Extrapolating global consumption.\n"
     ]
    },
    {
     "name": "stderr",
     "output_type": "stream",
     "text": [
      "/home/liruixue/miniconda3/envs/dscim/lib/python3.8/site-packages/dask/core.py:121: RuntimeWarning: invalid value encountered in true_divide\n",
      "  return func(*(_execute_task(a, cache) for a in args))\n"
     ]
    },
    {
     "name": "stdout",
     "output_type": "stream",
     "text": [
      "Saving /mnt/CIL_integration/menu_results_AR6_bc39_diag/agriculture_clipped/2070/unmasked/equity_euler_ramsey_eta2.0_rho0.0_global_consumption.nc4\n"
     ]
    },
    {
     "name": "stderr",
     "output_type": "stream",
     "text": [
      "/home/liruixue/miniconda3/envs/dscim/lib/python3.8/site-packages/dask/core.py:121: RuntimeWarning: invalid value encountered in true_divide\n",
      "  return func(*(_execute_task(a, cache) for a in args))\n",
      "/home/liruixue/miniconda3/envs/dscim/lib/python3.8/site-packages/dask/core.py:121: RuntimeWarning: invalid value encountered in true_divide\n",
      "  return func(*(_execute_task(a, cache) for a in args))\n"
     ]
    },
    {
     "name": "stdout",
     "output_type": "stream",
     "text": [
      "Saving /mnt/CIL_integration/menu_results_AR6_bc39_diag/agriculture_clipped/2070/unmasked/equity_euler_ramsey_eta2.0_rho0.0_damage_function_coefficients.nc4\n",
      "Results available: /mnt/CIL_integration/menu_results_AR6_bc39_diag/agriculture_clipped/2070/unmasked/\n",
      "remaining combos: 64\n",
      "=========================================================\n",
      "('agriculture_clipped', 2070, 'euler_ramsey', 'equity', 6, 39, 1.016010255)\n"
     ]
    },
    {
     "name": "stderr",
     "output_type": "stream",
     "text": [
      "/home/liruixue/miniconda3/envs/dscim/lib/python3.8/site-packages/dask/core.py:121: RuntimeWarning: invalid value encountered in true_divide\n",
      "  return func(*(_execute_task(a, cache) for a in args))\n"
     ]
    },
    {
     "name": "stdout",
     "output_type": "stream",
     "text": [
      "\n",
      " Executing Running equity class with the following parameters: \n",
      "Sector: agriculture_clipped \n",
      "Path to damages: /shares/gcp/integration/float32/input_data_histclim/ag_data/v0.0_ag_histclim-delta_clipped.zarr \n",
      "Menu recipe: equity \n",
      "Damages delta: delta_reallocation \n",
      "Discount level: global \n",
      "Discount type: euler_ramsey \n",
      "Damage function path: None \n",
      "\n",
      "\n",
      "Processing damage functions ...\n",
      "Existing damage functions not found. Damage points will be loaded.\n",
      "Risk-aversion CEs found at /shares/gcp/integration/CE_library_epa_vsl_bc39/agriculture_clipped//risk_aversion_ce_no_cc_eta1.016010255.zarr. These are being loaded...\n"
     ]
    },
    {
     "name": "stderr",
     "output_type": "stream",
     "text": [
      "/home/liruixue/miniconda3/envs/dscim/lib/python3.8/site-packages/dask/array/core.py:4402: PerformanceWarning: Increasing number of chunks by factor of 24\n",
      "  result = blockwise(\n",
      "/home/liruixue/miniconda3/envs/dscim/lib/python3.8/site-packages/dask/core.py:121: RuntimeWarning: invalid value encountered in true_divide\n",
      "  return func(*(_execute_task(a, cache) for a in args))\n"
     ]
    },
    {
     "name": "stdout",
     "output_type": "stream",
     "text": [
      "Risk-aversion CEs found at /shares/gcp/integration/CE_library_epa_vsl_bc39/agriculture_clipped//risk_aversion_ce_cc_eta1.016010255.zarr. These are being loaded...\n"
     ]
    },
    {
     "name": "stderr",
     "output_type": "stream",
     "text": [
      "/home/liruixue/miniconda3/envs/dscim/lib/python3.8/site-packages/dask/array/core.py:4402: PerformanceWarning: Increasing number of chunks by factor of 24\n",
      "  result = blockwise(\n",
      "/home/liruixue/miniconda3/envs/dscim/lib/python3.8/site-packages/dask/core.py:121: RuntimeWarning: invalid value encountered in true_divide\n",
      "  return func(*(_execute_task(a, cache) for a in args))\n",
      "/home/liruixue/miniconda3/envs/dscim/lib/python3.8/site-packages/dask/core.py:121: RuntimeWarning: invalid value encountered in true_divide\n",
      "  return func(*(_execute_task(a, cache) for a in args))\n"
     ]
    },
    {
     "name": "stdout",
     "output_type": "stream",
     "text": [
      "Saving /mnt/CIL_integration/menu_results_AR6_bc39_diag/agriculture_clipped/2070/unmasked/equity_euler_ramsey_eta1.016010255_rho9.149608e-05_damage_function_points.csv\n",
      "Extrapolating global consumption.\n"
     ]
    },
    {
     "name": "stderr",
     "output_type": "stream",
     "text": [
      "/home/liruixue/miniconda3/envs/dscim/lib/python3.8/site-packages/dask/core.py:121: RuntimeWarning: invalid value encountered in true_divide\n",
      "  return func(*(_execute_task(a, cache) for a in args))\n"
     ]
    },
    {
     "name": "stdout",
     "output_type": "stream",
     "text": [
      "Saving /mnt/CIL_integration/menu_results_AR6_bc39_diag/agriculture_clipped/2070/unmasked/equity_euler_ramsey_eta1.016010255_rho9.149608e-05_global_consumption.nc4\n"
     ]
    },
    {
     "name": "stderr",
     "output_type": "stream",
     "text": [
      "/home/liruixue/miniconda3/envs/dscim/lib/python3.8/site-packages/dask/core.py:121: RuntimeWarning: invalid value encountered in true_divide\n",
      "  return func(*(_execute_task(a, cache) for a in args))\n",
      "/home/liruixue/miniconda3/envs/dscim/lib/python3.8/site-packages/dask/core.py:121: RuntimeWarning: invalid value encountered in true_divide\n",
      "  return func(*(_execute_task(a, cache) for a in args))\n"
     ]
    },
    {
     "name": "stdout",
     "output_type": "stream",
     "text": [
      "Saving /mnt/CIL_integration/menu_results_AR6_bc39_diag/agriculture_clipped/2070/unmasked/equity_euler_ramsey_eta1.016010255_rho9.149608e-05_damage_function_coefficients.nc4\n",
      "Results available: /mnt/CIL_integration/menu_results_AR6_bc39_diag/agriculture_clipped/2070/unmasked/\n",
      "remaining combos: 63\n",
      "=========================================================\n",
      "('agriculture_clipped', 2070, 'euler_ramsey', 'equity', 6, 39, 1.244459066)\n",
      "\n",
      " Executing Running equity class with the following parameters: \n",
      "Sector: agriculture_clipped \n",
      "Path to damages: /shares/gcp/integration/float32/input_data_histclim/ag_data/v0.0_ag_histclim-delta_clipped.zarr \n",
      "Menu recipe: equity \n",
      "Damages delta: delta_reallocation \n",
      "Discount level: global \n",
      "Discount type: euler_ramsey \n",
      "Damage function path: None \n",
      "\n",
      "\n",
      "Processing damage functions ...\n",
      "Existing damage functions not found. Damage points will be loaded.\n"
     ]
    },
    {
     "name": "stderr",
     "output_type": "stream",
     "text": [
      "/home/liruixue/miniconda3/envs/dscim/lib/python3.8/site-packages/dask/core.py:121: RuntimeWarning: invalid value encountered in true_divide\n",
      "  return func(*(_execute_task(a, cache) for a in args))\n"
     ]
    },
    {
     "name": "stdout",
     "output_type": "stream",
     "text": [
      "Risk-aversion CEs found at /shares/gcp/integration/CE_library_epa_vsl_bc39/agriculture_clipped//risk_aversion_ce_no_cc_eta1.244459066.zarr. These are being loaded...\n"
     ]
    },
    {
     "name": "stderr",
     "output_type": "stream",
     "text": [
      "/home/liruixue/miniconda3/envs/dscim/lib/python3.8/site-packages/dask/array/core.py:4402: PerformanceWarning: Increasing number of chunks by factor of 24\n",
      "  result = blockwise(\n",
      "/home/liruixue/miniconda3/envs/dscim/lib/python3.8/site-packages/dask/core.py:121: RuntimeWarning: invalid value encountered in true_divide\n",
      "  return func(*(_execute_task(a, cache) for a in args))\n"
     ]
    },
    {
     "name": "stdout",
     "output_type": "stream",
     "text": [
      "Risk-aversion CEs found at /shares/gcp/integration/CE_library_epa_vsl_bc39/agriculture_clipped//risk_aversion_ce_cc_eta1.244459066.zarr. These are being loaded...\n"
     ]
    },
    {
     "name": "stderr",
     "output_type": "stream",
     "text": [
      "/home/liruixue/miniconda3/envs/dscim/lib/python3.8/site-packages/dask/array/core.py:4402: PerformanceWarning: Increasing number of chunks by factor of 24\n",
      "  result = blockwise(\n",
      "/home/liruixue/miniconda3/envs/dscim/lib/python3.8/site-packages/dask/core.py:121: RuntimeWarning: invalid value encountered in true_divide\n",
      "  return func(*(_execute_task(a, cache) for a in args))\n",
      "/home/liruixue/miniconda3/envs/dscim/lib/python3.8/site-packages/dask/core.py:121: RuntimeWarning: invalid value encountered in true_divide\n",
      "  return func(*(_execute_task(a, cache) for a in args))\n"
     ]
    },
    {
     "name": "stdout",
     "output_type": "stream",
     "text": [
      "Saving /mnt/CIL_integration/menu_results_AR6_bc39_diag/agriculture_clipped/2070/unmasked/equity_euler_ramsey_eta1.244459066_rho0.00197263997_damage_function_points.csv\n",
      "Extrapolating global consumption.\n"
     ]
    },
    {
     "name": "stderr",
     "output_type": "stream",
     "text": [
      "/home/liruixue/miniconda3/envs/dscim/lib/python3.8/site-packages/dask/core.py:121: RuntimeWarning: invalid value encountered in true_divide\n",
      "  return func(*(_execute_task(a, cache) for a in args))\n"
     ]
    },
    {
     "name": "stdout",
     "output_type": "stream",
     "text": [
      "Saving /mnt/CIL_integration/menu_results_AR6_bc39_diag/agriculture_clipped/2070/unmasked/equity_euler_ramsey_eta1.244459066_rho0.00197263997_global_consumption.nc4\n"
     ]
    },
    {
     "name": "stderr",
     "output_type": "stream",
     "text": [
      "/home/liruixue/miniconda3/envs/dscim/lib/python3.8/site-packages/dask/core.py:121: RuntimeWarning: invalid value encountered in true_divide\n",
      "  return func(*(_execute_task(a, cache) for a in args))\n",
      "/home/liruixue/miniconda3/envs/dscim/lib/python3.8/site-packages/dask/core.py:121: RuntimeWarning: invalid value encountered in true_divide\n",
      "  return func(*(_execute_task(a, cache) for a in args))\n"
     ]
    },
    {
     "name": "stdout",
     "output_type": "stream",
     "text": [
      "Saving /mnt/CIL_integration/menu_results_AR6_bc39_diag/agriculture_clipped/2070/unmasked/equity_euler_ramsey_eta1.244459066_rho0.00197263997_damage_function_coefficients.nc4\n",
      "Results available: /mnt/CIL_integration/menu_results_AR6_bc39_diag/agriculture_clipped/2070/unmasked/\n",
      "remaining combos: 62\n",
      "=========================================================\n",
      "('agriculture_clipped', 2070, 'euler_ramsey', 'equity', 6, 39, 1.421158116)\n",
      "\n",
      " Executing Running equity class with the following parameters: \n",
      "Sector: agriculture_clipped \n",
      "Path to damages: /shares/gcp/integration/float32/input_data_histclim/ag_data/v0.0_ag_histclim-delta_clipped.zarr \n",
      "Menu recipe: equity \n",
      "Damages delta: delta_reallocation \n",
      "Discount level: global \n",
      "Discount type: euler_ramsey \n",
      "Damage function path: None \n",
      "\n",
      "\n"
     ]
    },
    {
     "name": "stderr",
     "output_type": "stream",
     "text": [
      "/home/liruixue/miniconda3/envs/dscim/lib/python3.8/site-packages/dask/core.py:121: RuntimeWarning: invalid value encountered in true_divide\n",
      "  return func(*(_execute_task(a, cache) for a in args))\n"
     ]
    },
    {
     "name": "stdout",
     "output_type": "stream",
     "text": [
      "Processing damage functions ...\n",
      "Existing damage functions not found. Damage points will be loaded.\n",
      "Risk-aversion CEs found at /shares/gcp/integration/CE_library_epa_vsl_bc39/agriculture_clipped//risk_aversion_ce_no_cc_eta1.421158116.zarr. These are being loaded...\n"
     ]
    },
    {
     "name": "stderr",
     "output_type": "stream",
     "text": [
      "/home/liruixue/miniconda3/envs/dscim/lib/python3.8/site-packages/dask/array/core.py:4402: PerformanceWarning: Increasing number of chunks by factor of 24\n",
      "  result = blockwise(\n",
      "/home/liruixue/miniconda3/envs/dscim/lib/python3.8/site-packages/dask/core.py:121: RuntimeWarning: invalid value encountered in true_divide\n",
      "  return func(*(_execute_task(a, cache) for a in args))\n"
     ]
    },
    {
     "name": "stdout",
     "output_type": "stream",
     "text": [
      "Risk-aversion CEs found at /shares/gcp/integration/CE_library_epa_vsl_bc39/agriculture_clipped//risk_aversion_ce_cc_eta1.421158116.zarr. These are being loaded...\n"
     ]
    },
    {
     "name": "stderr",
     "output_type": "stream",
     "text": [
      "/home/liruixue/miniconda3/envs/dscim/lib/python3.8/site-packages/dask/array/core.py:4402: PerformanceWarning: Increasing number of chunks by factor of 24\n",
      "  result = blockwise(\n",
      "/home/liruixue/miniconda3/envs/dscim/lib/python3.8/site-packages/dask/core.py:121: RuntimeWarning: invalid value encountered in true_divide\n",
      "  return func(*(_execute_task(a, cache) for a in args))\n",
      "/home/liruixue/miniconda3/envs/dscim/lib/python3.8/site-packages/dask/core.py:121: RuntimeWarning: invalid value encountered in true_divide\n",
      "  return func(*(_execute_task(a, cache) for a in args))\n"
     ]
    },
    {
     "name": "stdout",
     "output_type": "stream",
     "text": [
      "Saving /mnt/CIL_integration/menu_results_AR6_bc39_diag/agriculture_clipped/2070/unmasked/equity_euler_ramsey_eta1.421158116_rho0.00461878399_damage_function_points.csv\n",
      "Extrapolating global consumption.\n"
     ]
    },
    {
     "name": "stderr",
     "output_type": "stream",
     "text": [
      "/home/liruixue/miniconda3/envs/dscim/lib/python3.8/site-packages/dask/core.py:121: RuntimeWarning: invalid value encountered in true_divide\n",
      "  return func(*(_execute_task(a, cache) for a in args))\n"
     ]
    },
    {
     "name": "stdout",
     "output_type": "stream",
     "text": [
      "Saving /mnt/CIL_integration/menu_results_AR6_bc39_diag/agriculture_clipped/2070/unmasked/equity_euler_ramsey_eta1.421158116_rho0.00461878399_global_consumption.nc4\n"
     ]
    },
    {
     "name": "stderr",
     "output_type": "stream",
     "text": [
      "/home/liruixue/miniconda3/envs/dscim/lib/python3.8/site-packages/dask/core.py:121: RuntimeWarning: invalid value encountered in true_divide\n",
      "  return func(*(_execute_task(a, cache) for a in args))\n",
      "/home/liruixue/miniconda3/envs/dscim/lib/python3.8/site-packages/dask/core.py:121: RuntimeWarning: invalid value encountered in true_divide\n",
      "  return func(*(_execute_task(a, cache) for a in args))\n"
     ]
    },
    {
     "name": "stdout",
     "output_type": "stream",
     "text": [
      "Saving /mnt/CIL_integration/menu_results_AR6_bc39_diag/agriculture_clipped/2070/unmasked/equity_euler_ramsey_eta1.421158116_rho0.00461878399_damage_function_coefficients.nc4\n",
      "Results available: /mnt/CIL_integration/menu_results_AR6_bc39_diag/agriculture_clipped/2070/unmasked/\n",
      "remaining combos: 61\n",
      "=========================================================\n",
      "('agriculture_clipped', 2070, 'euler_ramsey', 'equity', 6, 39, 1.567899395)\n"
     ]
    },
    {
     "name": "stderr",
     "output_type": "stream",
     "text": [
      "/home/liruixue/miniconda3/envs/dscim/lib/python3.8/site-packages/dask/core.py:121: RuntimeWarning: invalid value encountered in true_divide\n",
      "  return func(*(_execute_task(a, cache) for a in args))\n"
     ]
    },
    {
     "name": "stdout",
     "output_type": "stream",
     "text": [
      "\n",
      " Executing Running equity class with the following parameters: \n",
      "Sector: agriculture_clipped \n",
      "Path to damages: /shares/gcp/integration/float32/input_data_histclim/ag_data/v0.0_ag_histclim-delta_clipped.zarr \n",
      "Menu recipe: equity \n",
      "Damages delta: delta_reallocation \n",
      "Discount level: global \n",
      "Discount type: euler_ramsey \n",
      "Damage function path: None \n",
      "\n",
      "\n",
      "Processing damage functions ...\n",
      "Existing damage functions not found. Damage points will be loaded.\n",
      "Risk-aversion CEs found at /shares/gcp/integration/CE_library_epa_vsl_bc39/agriculture_clipped//risk_aversion_ce_no_cc_eta1.567899395.zarr. These are being loaded...\n"
     ]
    },
    {
     "name": "stderr",
     "output_type": "stream",
     "text": [
      "/home/liruixue/miniconda3/envs/dscim/lib/python3.8/site-packages/dask/array/core.py:4402: PerformanceWarning: Increasing number of chunks by factor of 24\n",
      "  result = blockwise(\n",
      "/home/liruixue/miniconda3/envs/dscim/lib/python3.8/site-packages/dask/core.py:121: RuntimeWarning: invalid value encountered in true_divide\n",
      "  return func(*(_execute_task(a, cache) for a in args))\n"
     ]
    },
    {
     "name": "stdout",
     "output_type": "stream",
     "text": [
      "Risk-aversion CEs found at /shares/gcp/integration/CE_library_epa_vsl_bc39/agriculture_clipped//risk_aversion_ce_cc_eta1.567899395.zarr. These are being loaded...\n"
     ]
    },
    {
     "name": "stderr",
     "output_type": "stream",
     "text": [
      "/home/liruixue/miniconda3/envs/dscim/lib/python3.8/site-packages/dask/array/core.py:4402: PerformanceWarning: Increasing number of chunks by factor of 24\n",
      "  result = blockwise(\n",
      "/home/liruixue/miniconda3/envs/dscim/lib/python3.8/site-packages/dask/core.py:121: RuntimeWarning: invalid value encountered in true_divide\n",
      "  return func(*(_execute_task(a, cache) for a in args))\n",
      "/home/liruixue/miniconda3/envs/dscim/lib/python3.8/site-packages/dask/core.py:121: RuntimeWarning: invalid value encountered in true_divide\n",
      "  return func(*(_execute_task(a, cache) for a in args))\n"
     ]
    },
    {
     "name": "stdout",
     "output_type": "stream",
     "text": [
      "Saving /mnt/CIL_integration/menu_results_AR6_bc39_diag/agriculture_clipped/2070/unmasked/equity_euler_ramsey_eta1.567899395_rho0.00770271076_damage_function_points.csv\n",
      "Extrapolating global consumption.\n"
     ]
    },
    {
     "name": "stderr",
     "output_type": "stream",
     "text": [
      "/home/liruixue/miniconda3/envs/dscim/lib/python3.8/site-packages/dask/core.py:121: RuntimeWarning: invalid value encountered in true_divide\n",
      "  return func(*(_execute_task(a, cache) for a in args))\n"
     ]
    },
    {
     "name": "stdout",
     "output_type": "stream",
     "text": [
      "Saving /mnt/CIL_integration/menu_results_AR6_bc39_diag/agriculture_clipped/2070/unmasked/equity_euler_ramsey_eta1.567899395_rho0.00770271076_global_consumption.nc4\n"
     ]
    },
    {
     "name": "stderr",
     "output_type": "stream",
     "text": [
      "/home/liruixue/miniconda3/envs/dscim/lib/python3.8/site-packages/dask/core.py:121: RuntimeWarning: invalid value encountered in true_divide\n",
      "  return func(*(_execute_task(a, cache) for a in args))\n",
      "/home/liruixue/miniconda3/envs/dscim/lib/python3.8/site-packages/dask/core.py:121: RuntimeWarning: invalid value encountered in true_divide\n",
      "  return func(*(_execute_task(a, cache) for a in args))\n"
     ]
    },
    {
     "name": "stdout",
     "output_type": "stream",
     "text": [
      "Saving /mnt/CIL_integration/menu_results_AR6_bc39_diag/agriculture_clipped/2070/unmasked/equity_euler_ramsey_eta1.567899395_rho0.00770271076_damage_function_coefficients.nc4\n",
      "Results available: /mnt/CIL_integration/menu_results_AR6_bc39_diag/agriculture_clipped/2070/unmasked/\n",
      "remaining combos: 60\n",
      "=========================================================\n",
      "('agriculture_clipped', 2070, 'euler_gwr', 'adding_up', 6, 39, 2.0)\n",
      "Rechunking for 'adding_up' option.\n"
     ]
    },
    {
     "name": "stderr",
     "output_type": "stream",
     "text": [
      "/home/liruixue/miniconda3/envs/dscim/lib/python3.8/site-packages/dask/core.py:121: RuntimeWarning: invalid value encountered in true_divide\n",
      "  return func(*(_execute_task(a, cache) for a in args))\n"
     ]
    },
    {
     "name": "stdout",
     "output_type": "stream",
     "text": [
      "\n",
      " Executing Running adding_up class with the following parameters: \n",
      "Sector: agriculture_clipped \n",
      "Path to damages: /shares/gcp/integration/float32/input_data_histclim/ag_data/v0.0_ag_histclim-delta_clipped.zarr \n",
      "Menu recipe: adding_up \n",
      "Damages delta: delta_reallocation \n",
      "Discount level: global \n",
      "Discount type: euler_gwr \n",
      "Damage function path: None \n",
      "\n",
      "\n",
      "Processing damage functions ...\n",
      "Existing damage functions not found. Damage points will be loaded.\n",
      "Adding up CEs found at /shares/gcp/integration/CE_library_epa_vsl_bc39/agriculture_clipped//adding_up_ce_cc_eta2.0.zarr, /shares/gcp/integration/CE_library_epa_vsl_bc39/agriculture_clipped//adding_up_ce_no_cc_eta2.0.zarr. These are being loaded...\n",
      "Saving /mnt/CIL_integration/menu_results_AR6_bc39_diag/agriculture_clipped/2070/unmasked/adding_up_euler_gwr_eta2.0_rho0.0_damage_function_points.csv\n",
      "Extrapolating global consumption.\n",
      "End-of-century growth rates are not capped.\n",
      "Saving /mnt/CIL_integration/menu_results_AR6_bc39_diag/agriculture_clipped/2070/unmasked/adding_up_euler_gwr_eta2.0_rho0.0_global_consumption.nc4\n",
      "Saving /mnt/CIL_integration/menu_results_AR6_bc39_diag/agriculture_clipped/2070/unmasked/adding_up_euler_gwr_eta2.0_rho0.0_damage_function_coefficients.nc4\n",
      "Results available: /mnt/CIL_integration/menu_results_AR6_bc39_diag/agriculture_clipped/2070/unmasked/\n",
      "remaining combos: 59\n",
      "=========================================================\n",
      "('agriculture_clipped', 2070, 'euler_gwr', 'adding_up', 6, 39, 1.016010255)\n",
      "Rechunking for 'adding_up' option.\n",
      "\n",
      " Executing Running adding_up class with the following parameters: \n",
      "Sector: agriculture_clipped \n",
      "Path to damages: /shares/gcp/integration/float32/input_data_histclim/ag_data/v0.0_ag_histclim-delta_clipped.zarr \n",
      "Menu recipe: adding_up \n",
      "Damages delta: delta_reallocation \n",
      "Discount level: global \n",
      "Discount type: euler_gwr \n",
      "Damage function path: None \n",
      "\n",
      "\n",
      "Processing damage functions ...\n",
      "Existing damage functions not found. Damage points will be loaded.\n",
      "Adding up CEs found at /shares/gcp/integration/CE_library_epa_vsl_bc39/agriculture_clipped//adding_up_ce_cc_eta1.016010255.zarr, /shares/gcp/integration/CE_library_epa_vsl_bc39/agriculture_clipped//adding_up_ce_no_cc_eta1.016010255.zarr. These are being loaded...\n",
      "Saving /mnt/CIL_integration/menu_results_AR6_bc39_diag/agriculture_clipped/2070/unmasked/adding_up_euler_gwr_eta1.016010255_rho9.149608e-05_damage_function_points.csv\n",
      "Extrapolating global consumption.\n",
      "End-of-century growth rates are not capped.\n",
      "Saving /mnt/CIL_integration/menu_results_AR6_bc39_diag/agriculture_clipped/2070/unmasked/adding_up_euler_gwr_eta1.016010255_rho9.149608e-05_global_consumption.nc4\n",
      "Saving /mnt/CIL_integration/menu_results_AR6_bc39_diag/agriculture_clipped/2070/unmasked/adding_up_euler_gwr_eta1.016010255_rho9.149608e-05_damage_function_coefficients.nc4\n",
      "Results available: /mnt/CIL_integration/menu_results_AR6_bc39_diag/agriculture_clipped/2070/unmasked/\n",
      "remaining combos: 58\n",
      "=========================================================\n",
      "('agriculture_clipped', 2070, 'euler_gwr', 'adding_up', 6, 39, 1.244459066)\n",
      "Rechunking for 'adding_up' option.\n",
      "\n",
      " Executing Running adding_up class with the following parameters: \n",
      "Sector: agriculture_clipped \n",
      "Path to damages: /shares/gcp/integration/float32/input_data_histclim/ag_data/v0.0_ag_histclim-delta_clipped.zarr \n",
      "Menu recipe: adding_up \n",
      "Damages delta: delta_reallocation \n",
      "Discount level: global \n",
      "Discount type: euler_gwr \n",
      "Damage function path: None \n",
      "\n",
      "\n",
      "Processing damage functions ...\n",
      "Existing damage functions not found. Damage points will be loaded.\n",
      "Adding up CEs found at /shares/gcp/integration/CE_library_epa_vsl_bc39/agriculture_clipped//adding_up_ce_cc_eta1.244459066.zarr, /shares/gcp/integration/CE_library_epa_vsl_bc39/agriculture_clipped//adding_up_ce_no_cc_eta1.244459066.zarr. These are being loaded...\n",
      "Saving /mnt/CIL_integration/menu_results_AR6_bc39_diag/agriculture_clipped/2070/unmasked/adding_up_euler_gwr_eta1.244459066_rho0.00197263997_damage_function_points.csv\n",
      "Extrapolating global consumption.\n",
      "End-of-century growth rates are not capped.\n",
      "Saving /mnt/CIL_integration/menu_results_AR6_bc39_diag/agriculture_clipped/2070/unmasked/adding_up_euler_gwr_eta1.244459066_rho0.00197263997_global_consumption.nc4\n",
      "Saving /mnt/CIL_integration/menu_results_AR6_bc39_diag/agriculture_clipped/2070/unmasked/adding_up_euler_gwr_eta1.244459066_rho0.00197263997_damage_function_coefficients.nc4\n",
      "Results available: /mnt/CIL_integration/menu_results_AR6_bc39_diag/agriculture_clipped/2070/unmasked/\n",
      "remaining combos: 57\n",
      "=========================================================\n",
      "('agriculture_clipped', 2070, 'euler_gwr', 'adding_up', 6, 39, 1.421158116)\n",
      "Rechunking for 'adding_up' option.\n",
      "\n",
      " Executing Running adding_up class with the following parameters: \n",
      "Sector: agriculture_clipped \n",
      "Path to damages: /shares/gcp/integration/float32/input_data_histclim/ag_data/v0.0_ag_histclim-delta_clipped.zarr \n",
      "Menu recipe: adding_up \n",
      "Damages delta: delta_reallocation \n",
      "Discount level: global \n",
      "Discount type: euler_gwr \n",
      "Damage function path: None \n",
      "\n",
      "\n",
      "Processing damage functions ...\n",
      "Existing damage functions not found. Damage points will be loaded.\n",
      "Adding up CEs found at /shares/gcp/integration/CE_library_epa_vsl_bc39/agriculture_clipped//adding_up_ce_cc_eta1.421158116.zarr, /shares/gcp/integration/CE_library_epa_vsl_bc39/agriculture_clipped//adding_up_ce_no_cc_eta1.421158116.zarr. These are being loaded...\n",
      "Saving /mnt/CIL_integration/menu_results_AR6_bc39_diag/agriculture_clipped/2070/unmasked/adding_up_euler_gwr_eta1.421158116_rho0.00461878399_damage_function_points.csv\n",
      "Extrapolating global consumption.\n",
      "End-of-century growth rates are not capped.\n",
      "Saving /mnt/CIL_integration/menu_results_AR6_bc39_diag/agriculture_clipped/2070/unmasked/adding_up_euler_gwr_eta1.421158116_rho0.00461878399_global_consumption.nc4\n",
      "Saving /mnt/CIL_integration/menu_results_AR6_bc39_diag/agriculture_clipped/2070/unmasked/adding_up_euler_gwr_eta1.421158116_rho0.00461878399_damage_function_coefficients.nc4\n",
      "Results available: /mnt/CIL_integration/menu_results_AR6_bc39_diag/agriculture_clipped/2070/unmasked/\n",
      "remaining combos: 56\n",
      "=========================================================\n",
      "('agriculture_clipped', 2070, 'euler_gwr', 'adding_up', 6, 39, 1.567899395)\n",
      "Rechunking for 'adding_up' option.\n",
      "\n",
      " Executing Running adding_up class with the following parameters: \n",
      "Sector: agriculture_clipped \n",
      "Path to damages: /shares/gcp/integration/float32/input_data_histclim/ag_data/v0.0_ag_histclim-delta_clipped.zarr \n",
      "Menu recipe: adding_up \n",
      "Damages delta: delta_reallocation \n",
      "Discount level: global \n",
      "Discount type: euler_gwr \n",
      "Damage function path: None \n",
      "\n",
      "\n",
      "Processing damage functions ...\n",
      "Existing damage functions not found. Damage points will be loaded.\n",
      "Adding up CEs found at /shares/gcp/integration/CE_library_epa_vsl_bc39/agriculture_clipped//adding_up_ce_cc_eta1.567899395.zarr, /shares/gcp/integration/CE_library_epa_vsl_bc39/agriculture_clipped//adding_up_ce_no_cc_eta1.567899395.zarr. These are being loaded...\n",
      "Saving /mnt/CIL_integration/menu_results_AR6_bc39_diag/agriculture_clipped/2070/unmasked/adding_up_euler_gwr_eta1.567899395_rho0.00770271076_damage_function_points.csv\n",
      "Extrapolating global consumption.\n",
      "End-of-century growth rates are not capped.\n",
      "Saving /mnt/CIL_integration/menu_results_AR6_bc39_diag/agriculture_clipped/2070/unmasked/adding_up_euler_gwr_eta1.567899395_rho0.00770271076_global_consumption.nc4\n",
      "Saving /mnt/CIL_integration/menu_results_AR6_bc39_diag/agriculture_clipped/2070/unmasked/adding_up_euler_gwr_eta1.567899395_rho0.00770271076_damage_function_coefficients.nc4\n",
      "Results available: /mnt/CIL_integration/menu_results_AR6_bc39_diag/agriculture_clipped/2070/unmasked/\n",
      "remaining combos: 55\n",
      "=========================================================\n",
      "('agriculture_clipped', 2070, 'euler_gwr', 'risk_aversion', 6, 39, 2.0)\n",
      "\n",
      " Executing Running risk_aversion class with the following parameters: \n",
      "Sector: agriculture_clipped \n",
      "Path to damages: /shares/gcp/integration/float32/input_data_histclim/ag_data/v0.0_ag_histclim-delta_clipped.zarr \n",
      "Menu recipe: risk_aversion \n",
      "Damages delta: delta_reallocation \n",
      "Discount level: global \n",
      "Discount type: euler_gwr \n",
      "Damage function path: None \n",
      "\n",
      "\n",
      "Processing damage functions ...\n",
      "Existing damage functions not found. Damage points will be loaded.\n",
      "Risk-aversion CEs found at /shares/gcp/integration/CE_library_epa_vsl_bc39/agriculture_clipped//risk_aversion_ce_no_cc_eta2.0.zarr. These are being loaded...\n",
      "Risk-aversion CEs found at /shares/gcp/integration/CE_library_epa_vsl_bc39/agriculture_clipped//risk_aversion_ce_cc_eta2.0.zarr. These are being loaded...\n",
      "Saving /mnt/CIL_integration/menu_results_AR6_bc39_diag/agriculture_clipped/2070/unmasked/risk_aversion_euler_gwr_eta2.0_rho0.0_damage_function_points.csv\n",
      "Extrapolating global consumption.\n",
      "End-of-century growth rates are not capped.\n"
     ]
    },
    {
     "name": "stderr",
     "output_type": "stream",
     "text": [
      "/home/liruixue/miniconda3/envs/dscim/lib/python3.8/site-packages/dask/core.py:121: RuntimeWarning: invalid value encountered in true_divide\n",
      "  return func(*(_execute_task(a, cache) for a in args))\n",
      "/home/liruixue/miniconda3/envs/dscim/lib/python3.8/site-packages/dask/core.py:121: RuntimeWarning: invalid value encountered in true_divide\n",
      "  return func(*(_execute_task(a, cache) for a in args))\n",
      "/home/liruixue/miniconda3/envs/dscim/lib/python3.8/site-packages/dask/core.py:121: RuntimeWarning: invalid value encountered in true_divide\n",
      "  return func(*(_execute_task(a, cache) for a in args))\n",
      "/home/liruixue/miniconda3/envs/dscim/lib/python3.8/site-packages/dask/core.py:121: RuntimeWarning: invalid value encountered in true_divide\n",
      "  return func(*(_execute_task(a, cache) for a in args))\n"
     ]
    },
    {
     "name": "stdout",
     "output_type": "stream",
     "text": [
      "Saving /mnt/CIL_integration/menu_results_AR6_bc39_diag/agriculture_clipped/2070/unmasked/risk_aversion_euler_gwr_eta2.0_rho0.0_global_consumption.nc4\n"
     ]
    },
    {
     "name": "stderr",
     "output_type": "stream",
     "text": [
      "/home/liruixue/miniconda3/envs/dscim/lib/python3.8/site-packages/dask/core.py:121: RuntimeWarning: invalid value encountered in true_divide\n",
      "  return func(*(_execute_task(a, cache) for a in args))\n",
      "/home/liruixue/miniconda3/envs/dscim/lib/python3.8/site-packages/dask/core.py:121: RuntimeWarning: invalid value encountered in true_divide\n",
      "  return func(*(_execute_task(a, cache) for a in args))\n",
      "/home/liruixue/miniconda3/envs/dscim/lib/python3.8/site-packages/dask/core.py:121: RuntimeWarning: invalid value encountered in true_divide\n",
      "  return func(*(_execute_task(a, cache) for a in args))\n",
      "/home/liruixue/miniconda3/envs/dscim/lib/python3.8/site-packages/dask/core.py:121: RuntimeWarning: invalid value encountered in true_divide\n",
      "  return func(*(_execute_task(a, cache) for a in args))\n",
      "/home/liruixue/miniconda3/envs/dscim/lib/python3.8/site-packages/dask/core.py:121: RuntimeWarning: invalid value encountered in true_divide\n",
      "  return func(*(_execute_task(a, cache) for a in args))\n",
      "/home/liruixue/miniconda3/envs/dscim/lib/python3.8/site-packages/dask/core.py:121: RuntimeWarning: invalid value encountered in true_divide\n",
      "  return func(*(_execute_task(a, cache) for a in args))\n"
     ]
    },
    {
     "name": "stdout",
     "output_type": "stream",
     "text": [
      "Saving /mnt/CIL_integration/menu_results_AR6_bc39_diag/agriculture_clipped/2070/unmasked/risk_aversion_euler_gwr_eta2.0_rho0.0_damage_function_coefficients.nc4\n"
     ]
    },
    {
     "name": "stderr",
     "output_type": "stream",
     "text": [
      "/home/liruixue/miniconda3/envs/dscim/lib/python3.8/site-packages/dask/core.py:121: RuntimeWarning: invalid value encountered in true_divide\n",
      "  return func(*(_execute_task(a, cache) for a in args))\n"
     ]
    },
    {
     "name": "stdout",
     "output_type": "stream",
     "text": [
      "Results available: /mnt/CIL_integration/menu_results_AR6_bc39_diag/agriculture_clipped/2070/unmasked/\n",
      "remaining combos: 54\n",
      "=========================================================\n",
      "('agriculture_clipped', 2070, 'euler_gwr', 'risk_aversion', 6, 39, 1.016010255)\n",
      "\n",
      " Executing Running risk_aversion class with the following parameters: \n",
      "Sector: agriculture_clipped \n",
      "Path to damages: /shares/gcp/integration/float32/input_data_histclim/ag_data/v0.0_ag_histclim-delta_clipped.zarr \n",
      "Menu recipe: risk_aversion \n",
      "Damages delta: delta_reallocation \n",
      "Discount level: global \n",
      "Discount type: euler_gwr \n",
      "Damage function path: None \n",
      "\n",
      "\n",
      "Processing damage functions ...\n",
      "Existing damage functions not found. Damage points will be loaded.\n",
      "Risk-aversion CEs found at /shares/gcp/integration/CE_library_epa_vsl_bc39/agriculture_clipped//risk_aversion_ce_no_cc_eta1.016010255.zarr. These are being loaded...\n",
      "Risk-aversion CEs found at /shares/gcp/integration/CE_library_epa_vsl_bc39/agriculture_clipped//risk_aversion_ce_cc_eta1.016010255.zarr. These are being loaded...\n",
      "Saving /mnt/CIL_integration/menu_results_AR6_bc39_diag/agriculture_clipped/2070/unmasked/risk_aversion_euler_gwr_eta1.016010255_rho9.149608e-05_damage_function_points.csv\n",
      "Extrapolating global consumption.\n",
      "End-of-century growth rates are not capped.\n"
     ]
    },
    {
     "name": "stderr",
     "output_type": "stream",
     "text": [
      "/home/liruixue/miniconda3/envs/dscim/lib/python3.8/site-packages/dask/core.py:121: RuntimeWarning: invalid value encountered in true_divide\n",
      "  return func(*(_execute_task(a, cache) for a in args))\n",
      "/home/liruixue/miniconda3/envs/dscim/lib/python3.8/site-packages/dask/core.py:121: RuntimeWarning: invalid value encountered in true_divide\n",
      "  return func(*(_execute_task(a, cache) for a in args))\n"
     ]
    },
    {
     "name": "stdout",
     "output_type": "stream",
     "text": [
      "Saving /mnt/CIL_integration/menu_results_AR6_bc39_diag/agriculture_clipped/2070/unmasked/risk_aversion_euler_gwr_eta1.016010255_rho9.149608e-05_global_consumption.nc4\n"
     ]
    },
    {
     "name": "stderr",
     "output_type": "stream",
     "text": [
      "/home/liruixue/miniconda3/envs/dscim/lib/python3.8/site-packages/dask/core.py:121: RuntimeWarning: invalid value encountered in true_divide\n",
      "  return func(*(_execute_task(a, cache) for a in args))\n",
      "/home/liruixue/miniconda3/envs/dscim/lib/python3.8/site-packages/dask/core.py:121: RuntimeWarning: invalid value encountered in true_divide\n",
      "  return func(*(_execute_task(a, cache) for a in args))\n",
      "/home/liruixue/miniconda3/envs/dscim/lib/python3.8/site-packages/dask/core.py:121: RuntimeWarning: invalid value encountered in true_divide\n",
      "  return func(*(_execute_task(a, cache) for a in args))\n",
      "/home/liruixue/miniconda3/envs/dscim/lib/python3.8/site-packages/dask/core.py:121: RuntimeWarning: invalid value encountered in true_divide\n",
      "  return func(*(_execute_task(a, cache) for a in args))\n"
     ]
    },
    {
     "name": "stdout",
     "output_type": "stream",
     "text": [
      "Saving /mnt/CIL_integration/menu_results_AR6_bc39_diag/agriculture_clipped/2070/unmasked/risk_aversion_euler_gwr_eta1.016010255_rho9.149608e-05_damage_function_coefficients.nc4\n"
     ]
    },
    {
     "name": "stderr",
     "output_type": "stream",
     "text": [
      "/home/liruixue/miniconda3/envs/dscim/lib/python3.8/site-packages/dask/core.py:121: RuntimeWarning: invalid value encountered in true_divide\n",
      "  return func(*(_execute_task(a, cache) for a in args))\n"
     ]
    },
    {
     "name": "stdout",
     "output_type": "stream",
     "text": [
      "Results available: /mnt/CIL_integration/menu_results_AR6_bc39_diag/agriculture_clipped/2070/unmasked/\n",
      "remaining combos: 53\n",
      "=========================================================\n",
      "('agriculture_clipped', 2070, 'euler_gwr', 'risk_aversion', 6, 39, 1.244459066)\n",
      "\n",
      " Executing Running risk_aversion class with the following parameters: \n",
      "Sector: agriculture_clipped \n",
      "Path to damages: /shares/gcp/integration/float32/input_data_histclim/ag_data/v0.0_ag_histclim-delta_clipped.zarr \n",
      "Menu recipe: risk_aversion \n",
      "Damages delta: delta_reallocation \n",
      "Discount level: global \n",
      "Discount type: euler_gwr \n",
      "Damage function path: None \n",
      "\n",
      "\n",
      "Processing damage functions ...\n",
      "Existing damage functions not found. Damage points will be loaded.\n",
      "Risk-aversion CEs found at /shares/gcp/integration/CE_library_epa_vsl_bc39/agriculture_clipped//risk_aversion_ce_no_cc_eta1.244459066.zarr. These are being loaded...\n",
      "Risk-aversion CEs found at /shares/gcp/integration/CE_library_epa_vsl_bc39/agriculture_clipped//risk_aversion_ce_cc_eta1.244459066.zarr. These are being loaded...\n",
      "Saving /mnt/CIL_integration/menu_results_AR6_bc39_diag/agriculture_clipped/2070/unmasked/risk_aversion_euler_gwr_eta1.244459066_rho0.00197263997_damage_function_points.csv\n",
      "Extrapolating global consumption.\n",
      "End-of-century growth rates are not capped.\n"
     ]
    },
    {
     "name": "stderr",
     "output_type": "stream",
     "text": [
      "/home/liruixue/miniconda3/envs/dscim/lib/python3.8/site-packages/dask/core.py:121: RuntimeWarning: invalid value encountered in true_divide\n",
      "  return func(*(_execute_task(a, cache) for a in args))\n",
      "/home/liruixue/miniconda3/envs/dscim/lib/python3.8/site-packages/dask/core.py:121: RuntimeWarning: invalid value encountered in true_divide\n",
      "  return func(*(_execute_task(a, cache) for a in args))\n",
      "/home/liruixue/miniconda3/envs/dscim/lib/python3.8/site-packages/dask/core.py:121: RuntimeWarning: invalid value encountered in true_divide\n",
      "  return func(*(_execute_task(a, cache) for a in args))\n"
     ]
    },
    {
     "name": "stdout",
     "output_type": "stream",
     "text": [
      "Saving /mnt/CIL_integration/menu_results_AR6_bc39_diag/agriculture_clipped/2070/unmasked/risk_aversion_euler_gwr_eta1.244459066_rho0.00197263997_global_consumption.nc4\n"
     ]
    },
    {
     "name": "stderr",
     "output_type": "stream",
     "text": [
      "/home/liruixue/miniconda3/envs/dscim/lib/python3.8/site-packages/dask/core.py:121: RuntimeWarning: invalid value encountered in true_divide\n",
      "  return func(*(_execute_task(a, cache) for a in args))\n",
      "/home/liruixue/miniconda3/envs/dscim/lib/python3.8/site-packages/dask/core.py:121: RuntimeWarning: invalid value encountered in true_divide\n",
      "  return func(*(_execute_task(a, cache) for a in args))\n",
      "/home/liruixue/miniconda3/envs/dscim/lib/python3.8/site-packages/dask/core.py:121: RuntimeWarning: invalid value encountered in true_divide\n",
      "  return func(*(_execute_task(a, cache) for a in args))\n",
      "/home/liruixue/miniconda3/envs/dscim/lib/python3.8/site-packages/dask/core.py:121: RuntimeWarning: invalid value encountered in true_divide\n",
      "  return func(*(_execute_task(a, cache) for a in args))\n",
      "/home/liruixue/miniconda3/envs/dscim/lib/python3.8/site-packages/dask/core.py:121: RuntimeWarning: invalid value encountered in true_divide\n",
      "  return func(*(_execute_task(a, cache) for a in args))\n",
      "/home/liruixue/miniconda3/envs/dscim/lib/python3.8/site-packages/dask/core.py:121: RuntimeWarning: invalid value encountered in true_divide\n",
      "  return func(*(_execute_task(a, cache) for a in args))\n",
      "/home/liruixue/miniconda3/envs/dscim/lib/python3.8/site-packages/dask/core.py:121: RuntimeWarning: invalid value encountered in true_divide\n",
      "  return func(*(_execute_task(a, cache) for a in args))\n"
     ]
    },
    {
     "name": "stdout",
     "output_type": "stream",
     "text": [
      "Saving /mnt/CIL_integration/menu_results_AR6_bc39_diag/agriculture_clipped/2070/unmasked/risk_aversion_euler_gwr_eta1.244459066_rho0.00197263997_damage_function_coefficients.nc4\n"
     ]
    },
    {
     "name": "stderr",
     "output_type": "stream",
     "text": [
      "/home/liruixue/miniconda3/envs/dscim/lib/python3.8/site-packages/dask/core.py:121: RuntimeWarning: invalid value encountered in true_divide\n",
      "  return func(*(_execute_task(a, cache) for a in args))\n"
     ]
    },
    {
     "name": "stdout",
     "output_type": "stream",
     "text": [
      "Results available: /mnt/CIL_integration/menu_results_AR6_bc39_diag/agriculture_clipped/2070/unmasked/\n",
      "remaining combos: 52\n",
      "=========================================================\n",
      "('agriculture_clipped', 2070, 'euler_gwr', 'risk_aversion', 6, 39, 1.421158116)\n",
      "\n",
      " Executing Running risk_aversion class with the following parameters: \n",
      "Sector: agriculture_clipped \n",
      "Path to damages: /shares/gcp/integration/float32/input_data_histclim/ag_data/v0.0_ag_histclim-delta_clipped.zarr \n",
      "Menu recipe: risk_aversion \n",
      "Damages delta: delta_reallocation \n",
      "Discount level: global \n",
      "Discount type: euler_gwr \n",
      "Damage function path: None \n",
      "\n",
      "\n",
      "Processing damage functions ...\n",
      "Existing damage functions not found. Damage points will be loaded.\n",
      "Risk-aversion CEs found at /shares/gcp/integration/CE_library_epa_vsl_bc39/agriculture_clipped//risk_aversion_ce_no_cc_eta1.421158116.zarr. These are being loaded...\n",
      "Risk-aversion CEs found at /shares/gcp/integration/CE_library_epa_vsl_bc39/agriculture_clipped//risk_aversion_ce_cc_eta1.421158116.zarr. These are being loaded...\n",
      "Saving /mnt/CIL_integration/menu_results_AR6_bc39_diag/agriculture_clipped/2070/unmasked/risk_aversion_euler_gwr_eta1.421158116_rho0.00461878399_damage_function_points.csv\n",
      "Extrapolating global consumption.\n",
      "End-of-century growth rates are not capped.\n"
     ]
    },
    {
     "name": "stderr",
     "output_type": "stream",
     "text": [
      "/home/liruixue/miniconda3/envs/dscim/lib/python3.8/site-packages/dask/core.py:121: RuntimeWarning: invalid value encountered in true_divide\n",
      "  return func(*(_execute_task(a, cache) for a in args))\n",
      "/home/liruixue/miniconda3/envs/dscim/lib/python3.8/site-packages/dask/core.py:121: RuntimeWarning: invalid value encountered in true_divide\n",
      "  return func(*(_execute_task(a, cache) for a in args))\n",
      "/home/liruixue/miniconda3/envs/dscim/lib/python3.8/site-packages/dask/core.py:121: RuntimeWarning: invalid value encountered in true_divide\n",
      "  return func(*(_execute_task(a, cache) for a in args))\n",
      "/home/liruixue/miniconda3/envs/dscim/lib/python3.8/site-packages/dask/core.py:121: RuntimeWarning: invalid value encountered in true_divide\n",
      "  return func(*(_execute_task(a, cache) for a in args))\n",
      "/home/liruixue/miniconda3/envs/dscim/lib/python3.8/site-packages/dask/core.py:121: RuntimeWarning: invalid value encountered in true_divide\n",
      "  return func(*(_execute_task(a, cache) for a in args))\n",
      "/home/liruixue/miniconda3/envs/dscim/lib/python3.8/site-packages/dask/core.py:121: RuntimeWarning: invalid value encountered in true_divide\n",
      "  return func(*(_execute_task(a, cache) for a in args))\n"
     ]
    },
    {
     "name": "stdout",
     "output_type": "stream",
     "text": [
      "Saving /mnt/CIL_integration/menu_results_AR6_bc39_diag/agriculture_clipped/2070/unmasked/risk_aversion_euler_gwr_eta1.421158116_rho0.00461878399_global_consumption.nc4\n"
     ]
    },
    {
     "name": "stderr",
     "output_type": "stream",
     "text": [
      "/home/liruixue/miniconda3/envs/dscim/lib/python3.8/site-packages/dask/core.py:121: RuntimeWarning: invalid value encountered in true_divide\n",
      "  return func(*(_execute_task(a, cache) for a in args))\n"
     ]
    },
    {
     "name": "stdout",
     "output_type": "stream",
     "text": [
      "Saving /mnt/CIL_integration/menu_results_AR6_bc39_diag/agriculture_clipped/2070/unmasked/risk_aversion_euler_gwr_eta1.421158116_rho0.00461878399_damage_function_coefficients.nc4\n"
     ]
    },
    {
     "name": "stderr",
     "output_type": "stream",
     "text": [
      "/home/liruixue/miniconda3/envs/dscim/lib/python3.8/site-packages/dask/core.py:121: RuntimeWarning: invalid value encountered in true_divide\n",
      "  return func(*(_execute_task(a, cache) for a in args))\n"
     ]
    },
    {
     "name": "stdout",
     "output_type": "stream",
     "text": [
      "Results available: /mnt/CIL_integration/menu_results_AR6_bc39_diag/agriculture_clipped/2070/unmasked/\n",
      "remaining combos: 51\n",
      "=========================================================\n",
      "('agriculture_clipped', 2070, 'euler_gwr', 'risk_aversion', 6, 39, 1.567899395)\n",
      "\n",
      " Executing Running risk_aversion class with the following parameters: \n",
      "Sector: agriculture_clipped \n",
      "Path to damages: /shares/gcp/integration/float32/input_data_histclim/ag_data/v0.0_ag_histclim-delta_clipped.zarr \n",
      "Menu recipe: risk_aversion \n",
      "Damages delta: delta_reallocation \n",
      "Discount level: global \n",
      "Discount type: euler_gwr \n",
      "Damage function path: None \n",
      "\n",
      "\n",
      "Processing damage functions ...\n",
      "Existing damage functions not found. Damage points will be loaded.\n",
      "Risk-aversion CEs found at /shares/gcp/integration/CE_library_epa_vsl_bc39/agriculture_clipped//risk_aversion_ce_no_cc_eta1.567899395.zarr. These are being loaded...\n",
      "Risk-aversion CEs found at /shares/gcp/integration/CE_library_epa_vsl_bc39/agriculture_clipped//risk_aversion_ce_cc_eta1.567899395.zarr. These are being loaded...\n",
      "Saving /mnt/CIL_integration/menu_results_AR6_bc39_diag/agriculture_clipped/2070/unmasked/risk_aversion_euler_gwr_eta1.567899395_rho0.00770271076_damage_function_points.csv\n",
      "Extrapolating global consumption.\n",
      "End-of-century growth rates are not capped.\n"
     ]
    },
    {
     "name": "stderr",
     "output_type": "stream",
     "text": [
      "/home/liruixue/miniconda3/envs/dscim/lib/python3.8/site-packages/dask/core.py:121: RuntimeWarning: invalid value encountered in true_divide\n",
      "  return func(*(_execute_task(a, cache) for a in args))\n"
     ]
    },
    {
     "name": "stdout",
     "output_type": "stream",
     "text": [
      "Saving /mnt/CIL_integration/menu_results_AR6_bc39_diag/agriculture_clipped/2070/unmasked/risk_aversion_euler_gwr_eta1.567899395_rho0.00770271076_global_consumption.nc4\n"
     ]
    },
    {
     "name": "stderr",
     "output_type": "stream",
     "text": [
      "/home/liruixue/miniconda3/envs/dscim/lib/python3.8/site-packages/dask/core.py:121: RuntimeWarning: invalid value encountered in true_divide\n",
      "  return func(*(_execute_task(a, cache) for a in args))\n",
      "/home/liruixue/miniconda3/envs/dscim/lib/python3.8/site-packages/dask/core.py:121: RuntimeWarning: invalid value encountered in true_divide\n",
      "  return func(*(_execute_task(a, cache) for a in args))\n",
      "/home/liruixue/miniconda3/envs/dscim/lib/python3.8/site-packages/dask/core.py:121: RuntimeWarning: invalid value encountered in true_divide\n",
      "  return func(*(_execute_task(a, cache) for a in args))\n"
     ]
    },
    {
     "name": "stdout",
     "output_type": "stream",
     "text": [
      "Saving /mnt/CIL_integration/menu_results_AR6_bc39_diag/agriculture_clipped/2070/unmasked/risk_aversion_euler_gwr_eta1.567899395_rho0.00770271076_damage_function_coefficients.nc4\n"
     ]
    },
    {
     "name": "stderr",
     "output_type": "stream",
     "text": [
      "/home/liruixue/miniconda3/envs/dscim/lib/python3.8/site-packages/dask/core.py:121: RuntimeWarning: invalid value encountered in true_divide\n",
      "  return func(*(_execute_task(a, cache) for a in args))\n"
     ]
    },
    {
     "name": "stdout",
     "output_type": "stream",
     "text": [
      "Results available: /mnt/CIL_integration/menu_results_AR6_bc39_diag/agriculture_clipped/2070/unmasked/\n",
      "remaining combos: 50\n",
      "=========================================================\n",
      "('agriculture_clipped', 2070, 'euler_gwr', 'equity', 6, 39, 2.0)\n",
      "\n",
      " Executing Running equity class with the following parameters: \n",
      "Sector: agriculture_clipped \n",
      "Path to damages: /shares/gcp/integration/float32/input_data_histclim/ag_data/v0.0_ag_histclim-delta_clipped.zarr \n",
      "Menu recipe: equity \n",
      "Damages delta: delta_reallocation \n",
      "Discount level: global \n",
      "Discount type: euler_gwr \n",
      "Damage function path: None \n",
      "\n",
      "\n",
      "Processing damage functions ...\n",
      "Existing damage functions not found. Damage points will be loaded.\n",
      "Risk-aversion CEs found at /shares/gcp/integration/CE_library_epa_vsl_bc39/agriculture_clipped//risk_aversion_ce_no_cc_eta2.0.zarr. These are being loaded...\n"
     ]
    },
    {
     "name": "stderr",
     "output_type": "stream",
     "text": [
      "/home/liruixue/miniconda3/envs/dscim/lib/python3.8/site-packages/dask/array/core.py:4402: PerformanceWarning: Increasing number of chunks by factor of 24\n",
      "  result = blockwise(\n",
      "/home/liruixue/miniconda3/envs/dscim/lib/python3.8/site-packages/dask/core.py:121: RuntimeWarning: invalid value encountered in true_divide\n",
      "  return func(*(_execute_task(a, cache) for a in args))\n"
     ]
    },
    {
     "name": "stdout",
     "output_type": "stream",
     "text": [
      "Risk-aversion CEs found at /shares/gcp/integration/CE_library_epa_vsl_bc39/agriculture_clipped//risk_aversion_ce_cc_eta2.0.zarr. These are being loaded...\n"
     ]
    },
    {
     "name": "stderr",
     "output_type": "stream",
     "text": [
      "/home/liruixue/miniconda3/envs/dscim/lib/python3.8/site-packages/dask/array/core.py:4402: PerformanceWarning: Increasing number of chunks by factor of 24\n",
      "  result = blockwise(\n",
      "/home/liruixue/miniconda3/envs/dscim/lib/python3.8/site-packages/dask/core.py:121: RuntimeWarning: invalid value encountered in true_divide\n",
      "  return func(*(_execute_task(a, cache) for a in args))\n",
      "/home/liruixue/miniconda3/envs/dscim/lib/python3.8/site-packages/dask/core.py:121: RuntimeWarning: invalid value encountered in true_divide\n",
      "  return func(*(_execute_task(a, cache) for a in args))\n"
     ]
    },
    {
     "name": "stdout",
     "output_type": "stream",
     "text": [
      "Saving /mnt/CIL_integration/menu_results_AR6_bc39_diag/agriculture_clipped/2070/unmasked/equity_euler_gwr_eta2.0_rho0.0_damage_function_points.csv\n",
      "Extrapolating global consumption.\n"
     ]
    },
    {
     "name": "stderr",
     "output_type": "stream",
     "text": [
      "/home/liruixue/miniconda3/envs/dscim/lib/python3.8/site-packages/dask/core.py:121: RuntimeWarning: invalid value encountered in true_divide\n",
      "  return func(*(_execute_task(a, cache) for a in args))\n",
      "/home/liruixue/miniconda3/envs/dscim/lib/python3.8/site-packages/dask/core.py:121: RuntimeWarning: invalid value encountered in true_divide\n",
      "  return func(*(_execute_task(a, cache) for a in args))\n",
      "/home/liruixue/miniconda3/envs/dscim/lib/python3.8/site-packages/dask/core.py:121: RuntimeWarning: invalid value encountered in true_divide\n",
      "  return func(*(_execute_task(a, cache) for a in args))\n",
      "/home/liruixue/miniconda3/envs/dscim/lib/python3.8/site-packages/dask/core.py:121: RuntimeWarning: invalid value encountered in true_divide\n",
      "  return func(*(_execute_task(a, cache) for a in args))\n",
      "/home/liruixue/miniconda3/envs/dscim/lib/python3.8/site-packages/dask/core.py:121: RuntimeWarning: invalid value encountered in true_divide\n",
      "  return func(*(_execute_task(a, cache) for a in args))\n",
      "/home/liruixue/miniconda3/envs/dscim/lib/python3.8/site-packages/dask/core.py:121: RuntimeWarning: invalid value encountered in true_divide\n",
      "  return func(*(_execute_task(a, cache) for a in args))\n",
      "/home/liruixue/miniconda3/envs/dscim/lib/python3.8/site-packages/dask/core.py:121: RuntimeWarning: invalid value encountered in true_divide\n",
      "  return func(*(_execute_task(a, cache) for a in args))\n"
     ]
    },
    {
     "name": "stdout",
     "output_type": "stream",
     "text": [
      "Saving /mnt/CIL_integration/menu_results_AR6_bc39_diag/agriculture_clipped/2070/unmasked/equity_euler_gwr_eta2.0_rho0.0_global_consumption.nc4\n"
     ]
    },
    {
     "name": "stderr",
     "output_type": "stream",
     "text": [
      "/home/liruixue/miniconda3/envs/dscim/lib/python3.8/site-packages/dask/core.py:121: RuntimeWarning: invalid value encountered in true_divide\n",
      "  return func(*(_execute_task(a, cache) for a in args))\n",
      "/home/liruixue/miniconda3/envs/dscim/lib/python3.8/site-packages/dask/core.py:121: RuntimeWarning: invalid value encountered in true_divide\n",
      "  return func(*(_execute_task(a, cache) for a in args))\n",
      "/home/liruixue/miniconda3/envs/dscim/lib/python3.8/site-packages/dask/core.py:121: RuntimeWarning: invalid value encountered in true_divide\n",
      "  return func(*(_execute_task(a, cache) for a in args))\n"
     ]
    },
    {
     "name": "stdout",
     "output_type": "stream",
     "text": [
      "Saving /mnt/CIL_integration/menu_results_AR6_bc39_diag/agriculture_clipped/2070/unmasked/equity_euler_gwr_eta2.0_rho0.0_damage_function_coefficients.nc4\n",
      "Results available: /mnt/CIL_integration/menu_results_AR6_bc39_diag/agriculture_clipped/2070/unmasked/\n",
      "remaining combos: 49\n",
      "=========================================================\n",
      "('agriculture_clipped', 2070, 'euler_gwr', 'equity', 6, 39, 1.016010255)\n"
     ]
    },
    {
     "name": "stderr",
     "output_type": "stream",
     "text": [
      "/home/liruixue/miniconda3/envs/dscim/lib/python3.8/site-packages/dask/core.py:121: RuntimeWarning: invalid value encountered in true_divide\n",
      "  return func(*(_execute_task(a, cache) for a in args))\n"
     ]
    },
    {
     "name": "stdout",
     "output_type": "stream",
     "text": [
      "\n",
      " Executing Running equity class with the following parameters: \n",
      "Sector: agriculture_clipped \n",
      "Path to damages: /shares/gcp/integration/float32/input_data_histclim/ag_data/v0.0_ag_histclim-delta_clipped.zarr \n",
      "Menu recipe: equity \n",
      "Damages delta: delta_reallocation \n",
      "Discount level: global \n",
      "Discount type: euler_gwr \n",
      "Damage function path: None \n",
      "\n",
      "\n",
      "Processing damage functions ...\n",
      "Existing damage functions not found. Damage points will be loaded.\n",
      "Risk-aversion CEs found at /shares/gcp/integration/CE_library_epa_vsl_bc39/agriculture_clipped//risk_aversion_ce_no_cc_eta1.016010255.zarr. These are being loaded...\n"
     ]
    },
    {
     "name": "stderr",
     "output_type": "stream",
     "text": [
      "/home/liruixue/miniconda3/envs/dscim/lib/python3.8/site-packages/dask/array/core.py:4402: PerformanceWarning: Increasing number of chunks by factor of 24\n",
      "  result = blockwise(\n",
      "/home/liruixue/miniconda3/envs/dscim/lib/python3.8/site-packages/dask/core.py:121: RuntimeWarning: invalid value encountered in true_divide\n",
      "  return func(*(_execute_task(a, cache) for a in args))\n"
     ]
    },
    {
     "name": "stdout",
     "output_type": "stream",
     "text": [
      "Risk-aversion CEs found at /shares/gcp/integration/CE_library_epa_vsl_bc39/agriculture_clipped//risk_aversion_ce_cc_eta1.016010255.zarr. These are being loaded...\n"
     ]
    },
    {
     "name": "stderr",
     "output_type": "stream",
     "text": [
      "/home/liruixue/miniconda3/envs/dscim/lib/python3.8/site-packages/dask/array/core.py:4402: PerformanceWarning: Increasing number of chunks by factor of 24\n",
      "  result = blockwise(\n",
      "/home/liruixue/miniconda3/envs/dscim/lib/python3.8/site-packages/dask/core.py:121: RuntimeWarning: invalid value encountered in true_divide\n",
      "  return func(*(_execute_task(a, cache) for a in args))\n",
      "/home/liruixue/miniconda3/envs/dscim/lib/python3.8/site-packages/dask/core.py:121: RuntimeWarning: invalid value encountered in true_divide\n",
      "  return func(*(_execute_task(a, cache) for a in args))\n"
     ]
    },
    {
     "name": "stdout",
     "output_type": "stream",
     "text": [
      "Saving /mnt/CIL_integration/menu_results_AR6_bc39_diag/agriculture_clipped/2070/unmasked/equity_euler_gwr_eta1.016010255_rho9.149608e-05_damage_function_points.csv\n",
      "Extrapolating global consumption.\n"
     ]
    },
    {
     "name": "stderr",
     "output_type": "stream",
     "text": [
      "/home/liruixue/miniconda3/envs/dscim/lib/python3.8/site-packages/dask/core.py:121: RuntimeWarning: invalid value encountered in true_divide\n",
      "  return func(*(_execute_task(a, cache) for a in args))\n",
      "/home/liruixue/miniconda3/envs/dscim/lib/python3.8/site-packages/dask/core.py:121: RuntimeWarning: invalid value encountered in true_divide\n",
      "  return func(*(_execute_task(a, cache) for a in args))\n",
      "/home/liruixue/miniconda3/envs/dscim/lib/python3.8/site-packages/dask/core.py:121: RuntimeWarning: invalid value encountered in true_divide\n",
      "  return func(*(_execute_task(a, cache) for a in args))\n",
      "/home/liruixue/miniconda3/envs/dscim/lib/python3.8/site-packages/dask/core.py:121: RuntimeWarning: invalid value encountered in true_divide\n",
      "  return func(*(_execute_task(a, cache) for a in args))\n",
      "/home/liruixue/miniconda3/envs/dscim/lib/python3.8/site-packages/dask/core.py:121: RuntimeWarning: invalid value encountered in true_divide\n",
      "  return func(*(_execute_task(a, cache) for a in args))\n",
      "/home/liruixue/miniconda3/envs/dscim/lib/python3.8/site-packages/dask/core.py:121: RuntimeWarning: invalid value encountered in true_divide\n",
      "  return func(*(_execute_task(a, cache) for a in args))\n",
      "/home/liruixue/miniconda3/envs/dscim/lib/python3.8/site-packages/dask/core.py:121: RuntimeWarning: invalid value encountered in true_divide\n",
      "  return func(*(_execute_task(a, cache) for a in args))\n",
      "/home/liruixue/miniconda3/envs/dscim/lib/python3.8/site-packages/dask/core.py:121: RuntimeWarning: invalid value encountered in true_divide\n",
      "  return func(*(_execute_task(a, cache) for a in args))\n"
     ]
    },
    {
     "name": "stdout",
     "output_type": "stream",
     "text": [
      "Saving /mnt/CIL_integration/menu_results_AR6_bc39_diag/agriculture_clipped/2070/unmasked/equity_euler_gwr_eta1.016010255_rho9.149608e-05_global_consumption.nc4\n"
     ]
    },
    {
     "name": "stderr",
     "output_type": "stream",
     "text": [
      "/home/liruixue/miniconda3/envs/dscim/lib/python3.8/site-packages/dask/core.py:121: RuntimeWarning: invalid value encountered in true_divide\n",
      "  return func(*(_execute_task(a, cache) for a in args))\n",
      "/home/liruixue/miniconda3/envs/dscim/lib/python3.8/site-packages/dask/core.py:121: RuntimeWarning: invalid value encountered in true_divide\n",
      "  return func(*(_execute_task(a, cache) for a in args))\n",
      "/home/liruixue/miniconda3/envs/dscim/lib/python3.8/site-packages/dask/core.py:121: RuntimeWarning: invalid value encountered in true_divide\n",
      "  return func(*(_execute_task(a, cache) for a in args))\n"
     ]
    },
    {
     "name": "stdout",
     "output_type": "stream",
     "text": [
      "Saving /mnt/CIL_integration/menu_results_AR6_bc39_diag/agriculture_clipped/2070/unmasked/equity_euler_gwr_eta1.016010255_rho9.149608e-05_damage_function_coefficients.nc4\n",
      "Results available: /mnt/CIL_integration/menu_results_AR6_bc39_diag/agriculture_clipped/2070/unmasked/\n",
      "remaining combos: 48\n",
      "=========================================================\n",
      "('agriculture_clipped', 2070, 'euler_gwr', 'equity', 6, 39, 1.244459066)\n"
     ]
    },
    {
     "name": "stderr",
     "output_type": "stream",
     "text": [
      "/home/liruixue/miniconda3/envs/dscim/lib/python3.8/site-packages/dask/core.py:121: RuntimeWarning: invalid value encountered in true_divide\n",
      "  return func(*(_execute_task(a, cache) for a in args))\n"
     ]
    },
    {
     "name": "stdout",
     "output_type": "stream",
     "text": [
      "\n",
      " Executing Running equity class with the following parameters: \n",
      "Sector: agriculture_clipped \n",
      "Path to damages: /shares/gcp/integration/float32/input_data_histclim/ag_data/v0.0_ag_histclim-delta_clipped.zarr \n",
      "Menu recipe: equity \n",
      "Damages delta: delta_reallocation \n",
      "Discount level: global \n",
      "Discount type: euler_gwr \n",
      "Damage function path: None \n",
      "\n",
      "\n",
      "Processing damage functions ...\n",
      "Existing damage functions not found. Damage points will be loaded.\n",
      "Risk-aversion CEs found at /shares/gcp/integration/CE_library_epa_vsl_bc39/agriculture_clipped//risk_aversion_ce_no_cc_eta1.244459066.zarr. These are being loaded...\n"
     ]
    },
    {
     "name": "stderr",
     "output_type": "stream",
     "text": [
      "/home/liruixue/miniconda3/envs/dscim/lib/python3.8/site-packages/dask/array/core.py:4402: PerformanceWarning: Increasing number of chunks by factor of 24\n",
      "  result = blockwise(\n",
      "/home/liruixue/miniconda3/envs/dscim/lib/python3.8/site-packages/dask/core.py:121: RuntimeWarning: invalid value encountered in true_divide\n",
      "  return func(*(_execute_task(a, cache) for a in args))\n"
     ]
    },
    {
     "name": "stdout",
     "output_type": "stream",
     "text": [
      "Risk-aversion CEs found at /shares/gcp/integration/CE_library_epa_vsl_bc39/agriculture_clipped//risk_aversion_ce_cc_eta1.244459066.zarr. These are being loaded...\n"
     ]
    },
    {
     "name": "stderr",
     "output_type": "stream",
     "text": [
      "/home/liruixue/miniconda3/envs/dscim/lib/python3.8/site-packages/dask/array/core.py:4402: PerformanceWarning: Increasing number of chunks by factor of 24\n",
      "  result = blockwise(\n",
      "/home/liruixue/miniconda3/envs/dscim/lib/python3.8/site-packages/dask/core.py:121: RuntimeWarning: invalid value encountered in true_divide\n",
      "  return func(*(_execute_task(a, cache) for a in args))\n",
      "/home/liruixue/miniconda3/envs/dscim/lib/python3.8/site-packages/dask/core.py:121: RuntimeWarning: invalid value encountered in true_divide\n",
      "  return func(*(_execute_task(a, cache) for a in args))\n"
     ]
    },
    {
     "name": "stdout",
     "output_type": "stream",
     "text": [
      "Saving /mnt/CIL_integration/menu_results_AR6_bc39_diag/agriculture_clipped/2070/unmasked/equity_euler_gwr_eta1.244459066_rho0.00197263997_damage_function_points.csv\n",
      "Extrapolating global consumption.\n"
     ]
    },
    {
     "name": "stderr",
     "output_type": "stream",
     "text": [
      "/home/liruixue/miniconda3/envs/dscim/lib/python3.8/site-packages/dask/core.py:121: RuntimeWarning: invalid value encountered in true_divide\n",
      "  return func(*(_execute_task(a, cache) for a in args))\n",
      "/home/liruixue/miniconda3/envs/dscim/lib/python3.8/site-packages/dask/core.py:121: RuntimeWarning: invalid value encountered in true_divide\n",
      "  return func(*(_execute_task(a, cache) for a in args))\n",
      "/home/liruixue/miniconda3/envs/dscim/lib/python3.8/site-packages/dask/core.py:121: RuntimeWarning: invalid value encountered in true_divide\n",
      "  return func(*(_execute_task(a, cache) for a in args))\n",
      "/home/liruixue/miniconda3/envs/dscim/lib/python3.8/site-packages/dask/core.py:121: RuntimeWarning: invalid value encountered in true_divide\n",
      "  return func(*(_execute_task(a, cache) for a in args))\n",
      "/home/liruixue/miniconda3/envs/dscim/lib/python3.8/site-packages/dask/core.py:121: RuntimeWarning: invalid value encountered in true_divide\n",
      "  return func(*(_execute_task(a, cache) for a in args))\n",
      "/home/liruixue/miniconda3/envs/dscim/lib/python3.8/site-packages/dask/core.py:121: RuntimeWarning: invalid value encountered in true_divide\n",
      "  return func(*(_execute_task(a, cache) for a in args))\n"
     ]
    },
    {
     "name": "stdout",
     "output_type": "stream",
     "text": [
      "Saving /mnt/CIL_integration/menu_results_AR6_bc39_diag/agriculture_clipped/2070/unmasked/equity_euler_gwr_eta1.244459066_rho0.00197263997_global_consumption.nc4\n"
     ]
    },
    {
     "name": "stderr",
     "output_type": "stream",
     "text": [
      "/home/liruixue/miniconda3/envs/dscim/lib/python3.8/site-packages/dask/core.py:121: RuntimeWarning: invalid value encountered in true_divide\n",
      "  return func(*(_execute_task(a, cache) for a in args))\n",
      "/home/liruixue/miniconda3/envs/dscim/lib/python3.8/site-packages/dask/core.py:121: RuntimeWarning: invalid value encountered in true_divide\n",
      "  return func(*(_execute_task(a, cache) for a in args))\n",
      "/home/liruixue/miniconda3/envs/dscim/lib/python3.8/site-packages/dask/core.py:121: RuntimeWarning: invalid value encountered in true_divide\n",
      "  return func(*(_execute_task(a, cache) for a in args))\n"
     ]
    },
    {
     "name": "stdout",
     "output_type": "stream",
     "text": [
      "Saving /mnt/CIL_integration/menu_results_AR6_bc39_diag/agriculture_clipped/2070/unmasked/equity_euler_gwr_eta1.244459066_rho0.00197263997_damage_function_coefficients.nc4\n",
      "Results available: /mnt/CIL_integration/menu_results_AR6_bc39_diag/agriculture_clipped/2070/unmasked/\n",
      "remaining combos: 47\n",
      "=========================================================\n",
      "('agriculture_clipped', 2070, 'euler_gwr', 'equity', 6, 39, 1.421158116)\n"
     ]
    },
    {
     "name": "stderr",
     "output_type": "stream",
     "text": [
      "/home/liruixue/miniconda3/envs/dscim/lib/python3.8/site-packages/dask/core.py:121: RuntimeWarning: invalid value encountered in true_divide\n",
      "  return func(*(_execute_task(a, cache) for a in args))\n"
     ]
    },
    {
     "name": "stdout",
     "output_type": "stream",
     "text": [
      "\n",
      " Executing Running equity class with the following parameters: \n",
      "Sector: agriculture_clipped \n",
      "Path to damages: /shares/gcp/integration/float32/input_data_histclim/ag_data/v0.0_ag_histclim-delta_clipped.zarr \n",
      "Menu recipe: equity \n",
      "Damages delta: delta_reallocation \n",
      "Discount level: global \n",
      "Discount type: euler_gwr \n",
      "Damage function path: None \n",
      "\n",
      "\n",
      "Processing damage functions ...\n",
      "Existing damage functions not found. Damage points will be loaded.\n",
      "Risk-aversion CEs found at /shares/gcp/integration/CE_library_epa_vsl_bc39/agriculture_clipped//risk_aversion_ce_no_cc_eta1.421158116.zarr. These are being loaded...\n"
     ]
    },
    {
     "name": "stderr",
     "output_type": "stream",
     "text": [
      "/home/liruixue/miniconda3/envs/dscim/lib/python3.8/site-packages/dask/array/core.py:4402: PerformanceWarning: Increasing number of chunks by factor of 24\n",
      "  result = blockwise(\n",
      "/home/liruixue/miniconda3/envs/dscim/lib/python3.8/site-packages/dask/core.py:121: RuntimeWarning: invalid value encountered in true_divide\n",
      "  return func(*(_execute_task(a, cache) for a in args))\n"
     ]
    },
    {
     "name": "stdout",
     "output_type": "stream",
     "text": [
      "Risk-aversion CEs found at /shares/gcp/integration/CE_library_epa_vsl_bc39/agriculture_clipped//risk_aversion_ce_cc_eta1.421158116.zarr. These are being loaded...\n"
     ]
    },
    {
     "name": "stderr",
     "output_type": "stream",
     "text": [
      "/home/liruixue/miniconda3/envs/dscim/lib/python3.8/site-packages/dask/array/core.py:4402: PerformanceWarning: Increasing number of chunks by factor of 24\n",
      "  result = blockwise(\n",
      "/home/liruixue/miniconda3/envs/dscim/lib/python3.8/site-packages/dask/core.py:121: RuntimeWarning: invalid value encountered in true_divide\n",
      "  return func(*(_execute_task(a, cache) for a in args))\n",
      "/home/liruixue/miniconda3/envs/dscim/lib/python3.8/site-packages/dask/core.py:121: RuntimeWarning: invalid value encountered in true_divide\n",
      "  return func(*(_execute_task(a, cache) for a in args))\n"
     ]
    },
    {
     "name": "stdout",
     "output_type": "stream",
     "text": [
      "Saving /mnt/CIL_integration/menu_results_AR6_bc39_diag/agriculture_clipped/2070/unmasked/equity_euler_gwr_eta1.421158116_rho0.00461878399_damage_function_points.csv\n",
      "Extrapolating global consumption.\n"
     ]
    },
    {
     "name": "stderr",
     "output_type": "stream",
     "text": [
      "/home/liruixue/miniconda3/envs/dscim/lib/python3.8/site-packages/dask/core.py:121: RuntimeWarning: invalid value encountered in true_divide\n",
      "  return func(*(_execute_task(a, cache) for a in args))\n",
      "/home/liruixue/miniconda3/envs/dscim/lib/python3.8/site-packages/dask/core.py:121: RuntimeWarning: invalid value encountered in true_divide\n",
      "  return func(*(_execute_task(a, cache) for a in args))\n",
      "/home/liruixue/miniconda3/envs/dscim/lib/python3.8/site-packages/dask/core.py:121: RuntimeWarning: invalid value encountered in true_divide\n",
      "  return func(*(_execute_task(a, cache) for a in args))\n",
      "/home/liruixue/miniconda3/envs/dscim/lib/python3.8/site-packages/dask/core.py:121: RuntimeWarning: invalid value encountered in true_divide\n",
      "  return func(*(_execute_task(a, cache) for a in args))\n",
      "/home/liruixue/miniconda3/envs/dscim/lib/python3.8/site-packages/dask/core.py:121: RuntimeWarning: invalid value encountered in true_divide\n",
      "  return func(*(_execute_task(a, cache) for a in args))\n",
      "/home/liruixue/miniconda3/envs/dscim/lib/python3.8/site-packages/dask/core.py:121: RuntimeWarning: invalid value encountered in true_divide\n",
      "  return func(*(_execute_task(a, cache) for a in args))\n",
      "/home/liruixue/miniconda3/envs/dscim/lib/python3.8/site-packages/dask/core.py:121: RuntimeWarning: invalid value encountered in true_divide\n",
      "  return func(*(_execute_task(a, cache) for a in args))\n",
      "/home/liruixue/miniconda3/envs/dscim/lib/python3.8/site-packages/dask/core.py:121: RuntimeWarning: invalid value encountered in true_divide\n",
      "  return func(*(_execute_task(a, cache) for a in args))\n",
      "/home/liruixue/miniconda3/envs/dscim/lib/python3.8/site-packages/dask/core.py:121: RuntimeWarning: invalid value encountered in true_divide\n",
      "  return func(*(_execute_task(a, cache) for a in args))\n"
     ]
    },
    {
     "name": "stdout",
     "output_type": "stream",
     "text": [
      "Saving /mnt/CIL_integration/menu_results_AR6_bc39_diag/agriculture_clipped/2070/unmasked/equity_euler_gwr_eta1.421158116_rho0.00461878399_global_consumption.nc4\n"
     ]
    },
    {
     "name": "stderr",
     "output_type": "stream",
     "text": [
      "/home/liruixue/miniconda3/envs/dscim/lib/python3.8/site-packages/dask/core.py:121: RuntimeWarning: invalid value encountered in true_divide\n",
      "  return func(*(_execute_task(a, cache) for a in args))\n",
      "/home/liruixue/miniconda3/envs/dscim/lib/python3.8/site-packages/dask/core.py:121: RuntimeWarning: invalid value encountered in true_divide\n",
      "  return func(*(_execute_task(a, cache) for a in args))\n"
     ]
    },
    {
     "name": "stdout",
     "output_type": "stream",
     "text": [
      "Saving /mnt/CIL_integration/menu_results_AR6_bc39_diag/agriculture_clipped/2070/unmasked/equity_euler_gwr_eta1.421158116_rho0.00461878399_damage_function_coefficients.nc4\n",
      "Results available: /mnt/CIL_integration/menu_results_AR6_bc39_diag/agriculture_clipped/2070/unmasked/\n",
      "remaining combos: 46\n",
      "=========================================================\n",
      "('agriculture_clipped', 2070, 'euler_gwr', 'equity', 6, 39, 1.567899395)\n"
     ]
    },
    {
     "name": "stderr",
     "output_type": "stream",
     "text": [
      "/home/liruixue/miniconda3/envs/dscim/lib/python3.8/site-packages/dask/core.py:121: RuntimeWarning: invalid value encountered in true_divide\n",
      "  return func(*(_execute_task(a, cache) for a in args))\n"
     ]
    },
    {
     "name": "stdout",
     "output_type": "stream",
     "text": [
      "\n",
      " Executing Running equity class with the following parameters: \n",
      "Sector: agriculture_clipped \n",
      "Path to damages: /shares/gcp/integration/float32/input_data_histclim/ag_data/v0.0_ag_histclim-delta_clipped.zarr \n",
      "Menu recipe: equity \n",
      "Damages delta: delta_reallocation \n",
      "Discount level: global \n",
      "Discount type: euler_gwr \n",
      "Damage function path: None \n",
      "\n",
      "\n",
      "Processing damage functions ...\n",
      "Existing damage functions not found. Damage points will be loaded.\n",
      "Risk-aversion CEs found at /shares/gcp/integration/CE_library_epa_vsl_bc39/agriculture_clipped//risk_aversion_ce_no_cc_eta1.567899395.zarr. These are being loaded...\n"
     ]
    },
    {
     "name": "stderr",
     "output_type": "stream",
     "text": [
      "/home/liruixue/miniconda3/envs/dscim/lib/python3.8/site-packages/dask/array/core.py:4402: PerformanceWarning: Increasing number of chunks by factor of 24\n",
      "  result = blockwise(\n",
      "/home/liruixue/miniconda3/envs/dscim/lib/python3.8/site-packages/dask/core.py:121: RuntimeWarning: invalid value encountered in true_divide\n",
      "  return func(*(_execute_task(a, cache) for a in args))\n"
     ]
    },
    {
     "name": "stdout",
     "output_type": "stream",
     "text": [
      "Risk-aversion CEs found at /shares/gcp/integration/CE_library_epa_vsl_bc39/agriculture_clipped//risk_aversion_ce_cc_eta1.567899395.zarr. These are being loaded...\n"
     ]
    },
    {
     "name": "stderr",
     "output_type": "stream",
     "text": [
      "/home/liruixue/miniconda3/envs/dscim/lib/python3.8/site-packages/dask/array/core.py:4402: PerformanceWarning: Increasing number of chunks by factor of 24\n",
      "  result = blockwise(\n",
      "/home/liruixue/miniconda3/envs/dscim/lib/python3.8/site-packages/dask/core.py:121: RuntimeWarning: invalid value encountered in true_divide\n",
      "  return func(*(_execute_task(a, cache) for a in args))\n",
      "/home/liruixue/miniconda3/envs/dscim/lib/python3.8/site-packages/dask/core.py:121: RuntimeWarning: invalid value encountered in true_divide\n",
      "  return func(*(_execute_task(a, cache) for a in args))\n"
     ]
    },
    {
     "name": "stdout",
     "output_type": "stream",
     "text": [
      "Saving /mnt/CIL_integration/menu_results_AR6_bc39_diag/agriculture_clipped/2070/unmasked/equity_euler_gwr_eta1.567899395_rho0.00770271076_damage_function_points.csv\n",
      "Extrapolating global consumption.\n"
     ]
    },
    {
     "name": "stderr",
     "output_type": "stream",
     "text": [
      "/home/liruixue/miniconda3/envs/dscim/lib/python3.8/site-packages/dask/core.py:121: RuntimeWarning: invalid value encountered in true_divide\n",
      "  return func(*(_execute_task(a, cache) for a in args))\n",
      "/home/liruixue/miniconda3/envs/dscim/lib/python3.8/site-packages/dask/core.py:121: RuntimeWarning: invalid value encountered in true_divide\n",
      "  return func(*(_execute_task(a, cache) for a in args))\n",
      "/home/liruixue/miniconda3/envs/dscim/lib/python3.8/site-packages/dask/core.py:121: RuntimeWarning: invalid value encountered in true_divide\n",
      "  return func(*(_execute_task(a, cache) for a in args))\n",
      "/home/liruixue/miniconda3/envs/dscim/lib/python3.8/site-packages/dask/core.py:121: RuntimeWarning: invalid value encountered in true_divide\n",
      "  return func(*(_execute_task(a, cache) for a in args))\n",
      "/home/liruixue/miniconda3/envs/dscim/lib/python3.8/site-packages/dask/core.py:121: RuntimeWarning: invalid value encountered in true_divide\n",
      "  return func(*(_execute_task(a, cache) for a in args))\n",
      "/home/liruixue/miniconda3/envs/dscim/lib/python3.8/site-packages/dask/core.py:121: RuntimeWarning: invalid value encountered in true_divide\n",
      "  return func(*(_execute_task(a, cache) for a in args))\n",
      "/home/liruixue/miniconda3/envs/dscim/lib/python3.8/site-packages/dask/core.py:121: RuntimeWarning: invalid value encountered in true_divide\n",
      "  return func(*(_execute_task(a, cache) for a in args))\n",
      "/home/liruixue/miniconda3/envs/dscim/lib/python3.8/site-packages/dask/core.py:121: RuntimeWarning: invalid value encountered in true_divide\n",
      "  return func(*(_execute_task(a, cache) for a in args))\n",
      "/home/liruixue/miniconda3/envs/dscim/lib/python3.8/site-packages/dask/core.py:121: RuntimeWarning: invalid value encountered in true_divide\n",
      "  return func(*(_execute_task(a, cache) for a in args))\n",
      "/home/liruixue/miniconda3/envs/dscim/lib/python3.8/site-packages/dask/core.py:121: RuntimeWarning: invalid value encountered in true_divide\n",
      "  return func(*(_execute_task(a, cache) for a in args))\n",
      "/home/liruixue/miniconda3/envs/dscim/lib/python3.8/site-packages/dask/core.py:121: RuntimeWarning: invalid value encountered in true_divide\n",
      "  return func(*(_execute_task(a, cache) for a in args))\n"
     ]
    },
    {
     "name": "stdout",
     "output_type": "stream",
     "text": [
      "Saving /mnt/CIL_integration/menu_results_AR6_bc39_diag/agriculture_clipped/2070/unmasked/equity_euler_gwr_eta1.567899395_rho0.00770271076_global_consumption.nc4\n"
     ]
    },
    {
     "name": "stderr",
     "output_type": "stream",
     "text": [
      "/home/liruixue/miniconda3/envs/dscim/lib/python3.8/site-packages/dask/core.py:121: RuntimeWarning: invalid value encountered in true_divide\n",
      "  return func(*(_execute_task(a, cache) for a in args))\n",
      "/home/liruixue/miniconda3/envs/dscim/lib/python3.8/site-packages/dask/core.py:121: RuntimeWarning: invalid value encountered in true_divide\n",
      "  return func(*(_execute_task(a, cache) for a in args))\n",
      "/home/liruixue/miniconda3/envs/dscim/lib/python3.8/site-packages/dask/core.py:121: RuntimeWarning: invalid value encountered in true_divide\n",
      "  return func(*(_execute_task(a, cache) for a in args))\n"
     ]
    },
    {
     "name": "stdout",
     "output_type": "stream",
     "text": [
      "Saving /mnt/CIL_integration/menu_results_AR6_bc39_diag/agriculture_clipped/2070/unmasked/equity_euler_gwr_eta1.567899395_rho0.00770271076_damage_function_coefficients.nc4\n",
      "Results available: /mnt/CIL_integration/menu_results_AR6_bc39_diag/agriculture_clipped/2070/unmasked/\n",
      "remaining combos: 45\n",
      "=========================================================\n",
      "('agriculture_clipped', 2080, 'constant', 'adding_up', 6, 39, 2.0)\n"
     ]
    },
    {
     "name": "stderr",
     "output_type": "stream",
     "text": [
      "/home/liruixue/miniconda3/envs/dscim/lib/python3.8/site-packages/dask/core.py:121: RuntimeWarning: invalid value encountered in true_divide\n",
      "  return func(*(_execute_task(a, cache) for a in args))\n"
     ]
    },
    {
     "name": "stdout",
     "output_type": "stream",
     "text": [
      "Rechunking for 'adding_up' option.\n",
      "\n",
      " Executing Running adding_up class with the following parameters: \n",
      "Sector: agriculture_clipped \n",
      "Path to damages: /shares/gcp/integration/float32/input_data_histclim/ag_data/v0.0_ag_histclim-delta_clipped.zarr \n",
      "Menu recipe: adding_up \n",
      "Damages delta: delta_reallocation \n",
      "Discount level: global \n",
      "Discount type: constant \n",
      "Damage function path: None \n",
      "\n",
      "\n",
      "Processing damage functions ...\n",
      "Existing damage functions not found. Damage points will be loaded.\n",
      "Adding up CEs found at /shares/gcp/integration/CE_library_epa_vsl_bc39/agriculture_clipped//adding_up_ce_cc_eta2.0.zarr, /shares/gcp/integration/CE_library_epa_vsl_bc39/agriculture_clipped//adding_up_ce_no_cc_eta2.0.zarr. These are being loaded...\n",
      "Saving /mnt/CIL_integration/menu_results_AR6_bc39_diag/agriculture_clipped/2080/unmasked/adding_up_constant_eta2.0_rho0.0_damage_function_points.csv\n",
      "Extrapolating global consumption.\n",
      "End-of-century growth rates are not capped.\n",
      "Saving /mnt/CIL_integration/menu_results_AR6_bc39_diag/agriculture_clipped/2080/unmasked/adding_up_constant_eta2.0_rho0.0_global_consumption.nc4\n",
      "Saving /mnt/CIL_integration/menu_results_AR6_bc39_diag/agriculture_clipped/2080/unmasked/adding_up_constant_eta2.0_rho0.0_damage_function_coefficients.nc4\n",
      "Results available: /mnt/CIL_integration/menu_results_AR6_bc39_diag/agriculture_clipped/2080/unmasked/\n",
      "remaining combos: 44\n",
      "=========================================================\n",
      "('agriculture_clipped', 2080, 'constant', 'adding_up', 6, 39, 1.016010255)\n",
      "Rechunking for 'adding_up' option.\n",
      "\n",
      " Executing Running adding_up class with the following parameters: \n",
      "Sector: agriculture_clipped \n",
      "Path to damages: /shares/gcp/integration/float32/input_data_histclim/ag_data/v0.0_ag_histclim-delta_clipped.zarr \n",
      "Menu recipe: adding_up \n",
      "Damages delta: delta_reallocation \n",
      "Discount level: global \n",
      "Discount type: constant \n",
      "Damage function path: None \n",
      "\n",
      "\n",
      "Processing damage functions ...\n",
      "Existing damage functions not found. Damage points will be loaded.\n",
      "Adding up CEs found at /shares/gcp/integration/CE_library_epa_vsl_bc39/agriculture_clipped//adding_up_ce_cc_eta1.016010255.zarr, /shares/gcp/integration/CE_library_epa_vsl_bc39/agriculture_clipped//adding_up_ce_no_cc_eta1.016010255.zarr. These are being loaded...\n",
      "Saving /mnt/CIL_integration/menu_results_AR6_bc39_diag/agriculture_clipped/2080/unmasked/adding_up_constant_eta1.016010255_rho9.149608e-05_damage_function_points.csv\n",
      "Extrapolating global consumption.\n",
      "End-of-century growth rates are not capped.\n",
      "Saving /mnt/CIL_integration/menu_results_AR6_bc39_diag/agriculture_clipped/2080/unmasked/adding_up_constant_eta1.016010255_rho9.149608e-05_global_consumption.nc4\n",
      "Saving /mnt/CIL_integration/menu_results_AR6_bc39_diag/agriculture_clipped/2080/unmasked/adding_up_constant_eta1.016010255_rho9.149608e-05_damage_function_coefficients.nc4\n",
      "Results available: /mnt/CIL_integration/menu_results_AR6_bc39_diag/agriculture_clipped/2080/unmasked/\n",
      "remaining combos: 43\n",
      "=========================================================\n",
      "('agriculture_clipped', 2080, 'constant', 'adding_up', 6, 39, 1.244459066)\n",
      "Rechunking for 'adding_up' option.\n",
      "\n",
      " Executing Running adding_up class with the following parameters: \n",
      "Sector: agriculture_clipped \n",
      "Path to damages: /shares/gcp/integration/float32/input_data_histclim/ag_data/v0.0_ag_histclim-delta_clipped.zarr \n",
      "Menu recipe: adding_up \n",
      "Damages delta: delta_reallocation \n",
      "Discount level: global \n",
      "Discount type: constant \n",
      "Damage function path: None \n",
      "\n",
      "\n",
      "Processing damage functions ...\n",
      "Existing damage functions not found. Damage points will be loaded.\n",
      "Adding up CEs found at /shares/gcp/integration/CE_library_epa_vsl_bc39/agriculture_clipped//adding_up_ce_cc_eta1.244459066.zarr, /shares/gcp/integration/CE_library_epa_vsl_bc39/agriculture_clipped//adding_up_ce_no_cc_eta1.244459066.zarr. These are being loaded...\n",
      "Saving /mnt/CIL_integration/menu_results_AR6_bc39_diag/agriculture_clipped/2080/unmasked/adding_up_constant_eta1.244459066_rho0.00197263997_damage_function_points.csv\n",
      "Extrapolating global consumption.\n",
      "End-of-century growth rates are not capped.\n",
      "Saving /mnt/CIL_integration/menu_results_AR6_bc39_diag/agriculture_clipped/2080/unmasked/adding_up_constant_eta1.244459066_rho0.00197263997_global_consumption.nc4\n",
      "Saving /mnt/CIL_integration/menu_results_AR6_bc39_diag/agriculture_clipped/2080/unmasked/adding_up_constant_eta1.244459066_rho0.00197263997_damage_function_coefficients.nc4\n",
      "Results available: /mnt/CIL_integration/menu_results_AR6_bc39_diag/agriculture_clipped/2080/unmasked/\n",
      "remaining combos: 42\n",
      "=========================================================\n",
      "('agriculture_clipped', 2080, 'constant', 'adding_up', 6, 39, 1.421158116)\n",
      "Rechunking for 'adding_up' option.\n",
      "\n",
      " Executing Running adding_up class with the following parameters: \n",
      "Sector: agriculture_clipped \n",
      "Path to damages: /shares/gcp/integration/float32/input_data_histclim/ag_data/v0.0_ag_histclim-delta_clipped.zarr \n",
      "Menu recipe: adding_up \n",
      "Damages delta: delta_reallocation \n",
      "Discount level: global \n",
      "Discount type: constant \n",
      "Damage function path: None \n",
      "\n",
      "\n",
      "Processing damage functions ...\n",
      "Existing damage functions not found. Damage points will be loaded.\n",
      "Adding up CEs found at /shares/gcp/integration/CE_library_epa_vsl_bc39/agriculture_clipped//adding_up_ce_cc_eta1.421158116.zarr, /shares/gcp/integration/CE_library_epa_vsl_bc39/agriculture_clipped//adding_up_ce_no_cc_eta1.421158116.zarr. These are being loaded...\n",
      "Saving /mnt/CIL_integration/menu_results_AR6_bc39_diag/agriculture_clipped/2080/unmasked/adding_up_constant_eta1.421158116_rho0.00461878399_damage_function_points.csv\n",
      "Extrapolating global consumption.\n",
      "End-of-century growth rates are not capped.\n",
      "Saving /mnt/CIL_integration/menu_results_AR6_bc39_diag/agriculture_clipped/2080/unmasked/adding_up_constant_eta1.421158116_rho0.00461878399_global_consumption.nc4\n",
      "Saving /mnt/CIL_integration/menu_results_AR6_bc39_diag/agriculture_clipped/2080/unmasked/adding_up_constant_eta1.421158116_rho0.00461878399_damage_function_coefficients.nc4\n",
      "Results available: /mnt/CIL_integration/menu_results_AR6_bc39_diag/agriculture_clipped/2080/unmasked/\n",
      "remaining combos: 41\n",
      "=========================================================\n",
      "('agriculture_clipped', 2080, 'constant', 'adding_up', 6, 39, 1.567899395)\n",
      "Rechunking for 'adding_up' option.\n",
      "\n",
      " Executing Running adding_up class with the following parameters: \n",
      "Sector: agriculture_clipped \n",
      "Path to damages: /shares/gcp/integration/float32/input_data_histclim/ag_data/v0.0_ag_histclim-delta_clipped.zarr \n",
      "Menu recipe: adding_up \n",
      "Damages delta: delta_reallocation \n",
      "Discount level: global \n",
      "Discount type: constant \n",
      "Damage function path: None \n",
      "\n",
      "\n",
      "Processing damage functions ...\n",
      "Existing damage functions not found. Damage points will be loaded.\n",
      "Adding up CEs found at /shares/gcp/integration/CE_library_epa_vsl_bc39/agriculture_clipped//adding_up_ce_cc_eta1.567899395.zarr, /shares/gcp/integration/CE_library_epa_vsl_bc39/agriculture_clipped//adding_up_ce_no_cc_eta1.567899395.zarr. These are being loaded...\n",
      "Saving /mnt/CIL_integration/menu_results_AR6_bc39_diag/agriculture_clipped/2080/unmasked/adding_up_constant_eta1.567899395_rho0.00770271076_damage_function_points.csv\n",
      "Extrapolating global consumption.\n",
      "End-of-century growth rates are not capped.\n",
      "Saving /mnt/CIL_integration/menu_results_AR6_bc39_diag/agriculture_clipped/2080/unmasked/adding_up_constant_eta1.567899395_rho0.00770271076_global_consumption.nc4\n",
      "Saving /mnt/CIL_integration/menu_results_AR6_bc39_diag/agriculture_clipped/2080/unmasked/adding_up_constant_eta1.567899395_rho0.00770271076_damage_function_coefficients.nc4\n",
      "Results available: /mnt/CIL_integration/menu_results_AR6_bc39_diag/agriculture_clipped/2080/unmasked/\n",
      "remaining combos: 40\n",
      "=========================================================\n",
      "('agriculture_clipped', 2080, 'constant', 'risk_aversion', 6, 39, 2.0)\n",
      "\n",
      " Executing Running risk_aversion class with the following parameters: \n",
      "Sector: agriculture_clipped \n",
      "Path to damages: /shares/gcp/integration/float32/input_data_histclim/ag_data/v0.0_ag_histclim-delta_clipped.zarr \n",
      "Menu recipe: risk_aversion \n",
      "Damages delta: delta_reallocation \n",
      "Discount level: global \n",
      "Discount type: constant \n",
      "Damage function path: None \n",
      "\n",
      "\n",
      "Processing damage functions ...\n",
      "Existing damage functions not found. Damage points will be loaded.\n",
      "Risk-aversion CEs found at /shares/gcp/integration/CE_library_epa_vsl_bc39/agriculture_clipped//risk_aversion_ce_no_cc_eta2.0.zarr. These are being loaded...\n",
      "Risk-aversion CEs found at /shares/gcp/integration/CE_library_epa_vsl_bc39/agriculture_clipped//risk_aversion_ce_cc_eta2.0.zarr. These are being loaded...\n",
      "Saving /mnt/CIL_integration/menu_results_AR6_bc39_diag/agriculture_clipped/2080/unmasked/risk_aversion_constant_eta2.0_rho0.0_damage_function_points.csv\n",
      "Extrapolating global consumption.\n",
      "End-of-century growth rates are not capped.\n",
      "Saving /mnt/CIL_integration/menu_results_AR6_bc39_diag/agriculture_clipped/2080/unmasked/risk_aversion_constant_eta2.0_rho0.0_global_consumption.nc4\n",
      "Saving /mnt/CIL_integration/menu_results_AR6_bc39_diag/agriculture_clipped/2080/unmasked/risk_aversion_constant_eta2.0_rho0.0_damage_function_coefficients.nc4\n",
      "Results available: /mnt/CIL_integration/menu_results_AR6_bc39_diag/agriculture_clipped/2080/unmasked/\n",
      "remaining combos: 39\n",
      "=========================================================\n",
      "('agriculture_clipped', 2080, 'constant', 'risk_aversion', 6, 39, 1.016010255)\n",
      "\n",
      " Executing Running risk_aversion class with the following parameters: \n",
      "Sector: agriculture_clipped \n",
      "Path to damages: /shares/gcp/integration/float32/input_data_histclim/ag_data/v0.0_ag_histclim-delta_clipped.zarr \n",
      "Menu recipe: risk_aversion \n",
      "Damages delta: delta_reallocation \n",
      "Discount level: global \n",
      "Discount type: constant \n",
      "Damage function path: None \n",
      "\n",
      "\n",
      "Processing damage functions ...\n",
      "Existing damage functions not found. Damage points will be loaded.\n",
      "Risk-aversion CEs found at /shares/gcp/integration/CE_library_epa_vsl_bc39/agriculture_clipped//risk_aversion_ce_no_cc_eta1.016010255.zarr. These are being loaded...\n",
      "Risk-aversion CEs found at /shares/gcp/integration/CE_library_epa_vsl_bc39/agriculture_clipped//risk_aversion_ce_cc_eta1.016010255.zarr. These are being loaded...\n",
      "Saving /mnt/CIL_integration/menu_results_AR6_bc39_diag/agriculture_clipped/2080/unmasked/risk_aversion_constant_eta1.016010255_rho9.149608e-05_damage_function_points.csv\n",
      "Extrapolating global consumption.\n",
      "End-of-century growth rates are not capped.\n",
      "Saving /mnt/CIL_integration/menu_results_AR6_bc39_diag/agriculture_clipped/2080/unmasked/risk_aversion_constant_eta1.016010255_rho9.149608e-05_global_consumption.nc4\n",
      "Saving /mnt/CIL_integration/menu_results_AR6_bc39_diag/agriculture_clipped/2080/unmasked/risk_aversion_constant_eta1.016010255_rho9.149608e-05_damage_function_coefficients.nc4\n",
      "Results available: /mnt/CIL_integration/menu_results_AR6_bc39_diag/agriculture_clipped/2080/unmasked/\n",
      "remaining combos: 38\n",
      "=========================================================\n",
      "('agriculture_clipped', 2080, 'constant', 'risk_aversion', 6, 39, 1.244459066)\n",
      "\n",
      " Executing Running risk_aversion class with the following parameters: \n",
      "Sector: agriculture_clipped \n",
      "Path to damages: /shares/gcp/integration/float32/input_data_histclim/ag_data/v0.0_ag_histclim-delta_clipped.zarr \n",
      "Menu recipe: risk_aversion \n",
      "Damages delta: delta_reallocation \n",
      "Discount level: global \n",
      "Discount type: constant \n",
      "Damage function path: None \n",
      "\n",
      "\n",
      "Processing damage functions ...\n",
      "Existing damage functions not found. Damage points will be loaded.\n",
      "Risk-aversion CEs found at /shares/gcp/integration/CE_library_epa_vsl_bc39/agriculture_clipped//risk_aversion_ce_no_cc_eta1.244459066.zarr. These are being loaded...\n",
      "Risk-aversion CEs found at /shares/gcp/integration/CE_library_epa_vsl_bc39/agriculture_clipped//risk_aversion_ce_cc_eta1.244459066.zarr. These are being loaded...\n",
      "Saving /mnt/CIL_integration/menu_results_AR6_bc39_diag/agriculture_clipped/2080/unmasked/risk_aversion_constant_eta1.244459066_rho0.00197263997_damage_function_points.csv\n",
      "Extrapolating global consumption.\n",
      "End-of-century growth rates are not capped.\n",
      "Saving /mnt/CIL_integration/menu_results_AR6_bc39_diag/agriculture_clipped/2080/unmasked/risk_aversion_constant_eta1.244459066_rho0.00197263997_global_consumption.nc4\n",
      "Saving /mnt/CIL_integration/menu_results_AR6_bc39_diag/agriculture_clipped/2080/unmasked/risk_aversion_constant_eta1.244459066_rho0.00197263997_damage_function_coefficients.nc4\n",
      "Results available: /mnt/CIL_integration/menu_results_AR6_bc39_diag/agriculture_clipped/2080/unmasked/\n",
      "remaining combos: 37\n",
      "=========================================================\n",
      "('agriculture_clipped', 2080, 'constant', 'risk_aversion', 6, 39, 1.421158116)\n",
      "\n",
      " Executing Running risk_aversion class with the following parameters: \n",
      "Sector: agriculture_clipped \n",
      "Path to damages: /shares/gcp/integration/float32/input_data_histclim/ag_data/v0.0_ag_histclim-delta_clipped.zarr \n",
      "Menu recipe: risk_aversion \n",
      "Damages delta: delta_reallocation \n",
      "Discount level: global \n",
      "Discount type: constant \n",
      "Damage function path: None \n",
      "\n",
      "\n",
      "Processing damage functions ...\n",
      "Existing damage functions not found. Damage points will be loaded.\n",
      "Risk-aversion CEs found at /shares/gcp/integration/CE_library_epa_vsl_bc39/agriculture_clipped//risk_aversion_ce_no_cc_eta1.421158116.zarr. These are being loaded...\n",
      "Risk-aversion CEs found at /shares/gcp/integration/CE_library_epa_vsl_bc39/agriculture_clipped//risk_aversion_ce_cc_eta1.421158116.zarr. These are being loaded...\n",
      "Saving /mnt/CIL_integration/menu_results_AR6_bc39_diag/agriculture_clipped/2080/unmasked/risk_aversion_constant_eta1.421158116_rho0.00461878399_damage_function_points.csv\n",
      "Extrapolating global consumption.\n",
      "End-of-century growth rates are not capped.\n",
      "Saving /mnt/CIL_integration/menu_results_AR6_bc39_diag/agriculture_clipped/2080/unmasked/risk_aversion_constant_eta1.421158116_rho0.00461878399_global_consumption.nc4\n",
      "Saving /mnt/CIL_integration/menu_results_AR6_bc39_diag/agriculture_clipped/2080/unmasked/risk_aversion_constant_eta1.421158116_rho0.00461878399_damage_function_coefficients.nc4\n",
      "Results available: /mnt/CIL_integration/menu_results_AR6_bc39_diag/agriculture_clipped/2080/unmasked/\n",
      "remaining combos: 36\n",
      "=========================================================\n",
      "('agriculture_clipped', 2080, 'constant', 'risk_aversion', 6, 39, 1.567899395)\n",
      "\n",
      " Executing Running risk_aversion class with the following parameters: \n",
      "Sector: agriculture_clipped \n",
      "Path to damages: /shares/gcp/integration/float32/input_data_histclim/ag_data/v0.0_ag_histclim-delta_clipped.zarr \n",
      "Menu recipe: risk_aversion \n",
      "Damages delta: delta_reallocation \n",
      "Discount level: global \n",
      "Discount type: constant \n",
      "Damage function path: None \n",
      "\n",
      "\n",
      "Processing damage functions ...\n",
      "Existing damage functions not found. Damage points will be loaded.\n",
      "Risk-aversion CEs found at /shares/gcp/integration/CE_library_epa_vsl_bc39/agriculture_clipped//risk_aversion_ce_no_cc_eta1.567899395.zarr. These are being loaded...\n",
      "Risk-aversion CEs found at /shares/gcp/integration/CE_library_epa_vsl_bc39/agriculture_clipped//risk_aversion_ce_cc_eta1.567899395.zarr. These are being loaded...\n",
      "Saving /mnt/CIL_integration/menu_results_AR6_bc39_diag/agriculture_clipped/2080/unmasked/risk_aversion_constant_eta1.567899395_rho0.00770271076_damage_function_points.csv\n",
      "Extrapolating global consumption.\n",
      "End-of-century growth rates are not capped.\n",
      "Saving /mnt/CIL_integration/menu_results_AR6_bc39_diag/agriculture_clipped/2080/unmasked/risk_aversion_constant_eta1.567899395_rho0.00770271076_global_consumption.nc4\n",
      "Saving /mnt/CIL_integration/menu_results_AR6_bc39_diag/agriculture_clipped/2080/unmasked/risk_aversion_constant_eta1.567899395_rho0.00770271076_damage_function_coefficients.nc4\n",
      "Results available: /mnt/CIL_integration/menu_results_AR6_bc39_diag/agriculture_clipped/2080/unmasked/\n",
      "remaining combos: 35\n",
      "=========================================================\n",
      "('agriculture_clipped', 2080, 'constant', 'equity', 6, 39, 2.0)\n",
      "\n",
      " Executing Running equity class with the following parameters: \n",
      "Sector: agriculture_clipped \n",
      "Path to damages: /shares/gcp/integration/float32/input_data_histclim/ag_data/v0.0_ag_histclim-delta_clipped.zarr \n",
      "Menu recipe: equity \n",
      "Damages delta: delta_reallocation \n",
      "Discount level: global \n",
      "Discount type: constant \n",
      "Damage function path: None \n",
      "\n",
      "\n",
      "Processing damage functions ...\n",
      "Existing damage functions not found. Damage points will be loaded.\n",
      "Risk-aversion CEs found at /shares/gcp/integration/CE_library_epa_vsl_bc39/agriculture_clipped//risk_aversion_ce_no_cc_eta2.0.zarr. These are being loaded...\n"
     ]
    },
    {
     "name": "stderr",
     "output_type": "stream",
     "text": [
      "/home/liruixue/miniconda3/envs/dscim/lib/python3.8/site-packages/dask/array/core.py:4402: PerformanceWarning: Increasing number of chunks by factor of 18\n",
      "  result = blockwise(\n",
      "/home/liruixue/miniconda3/envs/dscim/lib/python3.8/site-packages/dask/core.py:121: RuntimeWarning: invalid value encountered in true_divide\n",
      "  return func(*(_execute_task(a, cache) for a in args))\n"
     ]
    },
    {
     "name": "stdout",
     "output_type": "stream",
     "text": [
      "Risk-aversion CEs found at /shares/gcp/integration/CE_library_epa_vsl_bc39/agriculture_clipped//risk_aversion_ce_cc_eta2.0.zarr. These are being loaded...\n"
     ]
    },
    {
     "name": "stderr",
     "output_type": "stream",
     "text": [
      "/home/liruixue/miniconda3/envs/dscim/lib/python3.8/site-packages/dask/array/core.py:4402: PerformanceWarning: Increasing number of chunks by factor of 18\n",
      "  result = blockwise(\n",
      "/home/liruixue/miniconda3/envs/dscim/lib/python3.8/site-packages/dask/core.py:121: RuntimeWarning: invalid value encountered in true_divide\n",
      "  return func(*(_execute_task(a, cache) for a in args))\n",
      "/home/liruixue/miniconda3/envs/dscim/lib/python3.8/site-packages/dask/core.py:121: RuntimeWarning: invalid value encountered in true_divide\n",
      "  return func(*(_execute_task(a, cache) for a in args))\n"
     ]
    },
    {
     "name": "stdout",
     "output_type": "stream",
     "text": [
      "Saving /mnt/CIL_integration/menu_results_AR6_bc39_diag/agriculture_clipped/2080/unmasked/equity_constant_eta2.0_rho0.0_damage_function_points.csv\n",
      "Extrapolating global consumption.\n"
     ]
    },
    {
     "name": "stderr",
     "output_type": "stream",
     "text": [
      "/home/liruixue/miniconda3/envs/dscim/lib/python3.8/site-packages/dask/core.py:121: RuntimeWarning: invalid value encountered in true_divide\n",
      "  return func(*(_execute_task(a, cache) for a in args))\n"
     ]
    },
    {
     "name": "stdout",
     "output_type": "stream",
     "text": [
      "Saving /mnt/CIL_integration/menu_results_AR6_bc39_diag/agriculture_clipped/2080/unmasked/equity_constant_eta2.0_rho0.0_global_consumption.nc4\n"
     ]
    },
    {
     "name": "stderr",
     "output_type": "stream",
     "text": [
      "/home/liruixue/miniconda3/envs/dscim/lib/python3.8/site-packages/dask/core.py:121: RuntimeWarning: invalid value encountered in true_divide\n",
      "  return func(*(_execute_task(a, cache) for a in args))\n",
      "/home/liruixue/miniconda3/envs/dscim/lib/python3.8/site-packages/dask/core.py:121: RuntimeWarning: invalid value encountered in true_divide\n",
      "  return func(*(_execute_task(a, cache) for a in args))\n"
     ]
    },
    {
     "name": "stdout",
     "output_type": "stream",
     "text": [
      "Saving /mnt/CIL_integration/menu_results_AR6_bc39_diag/agriculture_clipped/2080/unmasked/equity_constant_eta2.0_rho0.0_damage_function_coefficients.nc4\n",
      "Results available: /mnt/CIL_integration/menu_results_AR6_bc39_diag/agriculture_clipped/2080/unmasked/\n",
      "remaining combos: 34\n",
      "=========================================================\n",
      "('agriculture_clipped', 2080, 'constant', 'equity', 6, 39, 1.016010255)\n"
     ]
    },
    {
     "name": "stderr",
     "output_type": "stream",
     "text": [
      "/home/liruixue/miniconda3/envs/dscim/lib/python3.8/site-packages/dask/core.py:121: RuntimeWarning: invalid value encountered in true_divide\n",
      "  return func(*(_execute_task(a, cache) for a in args))\n"
     ]
    },
    {
     "name": "stdout",
     "output_type": "stream",
     "text": [
      "\n",
      " Executing Running equity class with the following parameters: \n",
      "Sector: agriculture_clipped \n",
      "Path to damages: /shares/gcp/integration/float32/input_data_histclim/ag_data/v0.0_ag_histclim-delta_clipped.zarr \n",
      "Menu recipe: equity \n",
      "Damages delta: delta_reallocation \n",
      "Discount level: global \n",
      "Discount type: constant \n",
      "Damage function path: None \n",
      "\n",
      "\n",
      "Processing damage functions ...\n",
      "Existing damage functions not found. Damage points will be loaded.\n",
      "Risk-aversion CEs found at /shares/gcp/integration/CE_library_epa_vsl_bc39/agriculture_clipped//risk_aversion_ce_no_cc_eta1.016010255.zarr. These are being loaded...\n"
     ]
    },
    {
     "name": "stderr",
     "output_type": "stream",
     "text": [
      "/home/liruixue/miniconda3/envs/dscim/lib/python3.8/site-packages/dask/array/core.py:4402: PerformanceWarning: Increasing number of chunks by factor of 18\n",
      "  result = blockwise(\n",
      "/home/liruixue/miniconda3/envs/dscim/lib/python3.8/site-packages/dask/core.py:121: RuntimeWarning: invalid value encountered in true_divide\n",
      "  return func(*(_execute_task(a, cache) for a in args))\n"
     ]
    },
    {
     "name": "stdout",
     "output_type": "stream",
     "text": [
      "Risk-aversion CEs found at /shares/gcp/integration/CE_library_epa_vsl_bc39/agriculture_clipped//risk_aversion_ce_cc_eta1.016010255.zarr. These are being loaded...\n"
     ]
    },
    {
     "name": "stderr",
     "output_type": "stream",
     "text": [
      "/home/liruixue/miniconda3/envs/dscim/lib/python3.8/site-packages/dask/array/core.py:4402: PerformanceWarning: Increasing number of chunks by factor of 18\n",
      "  result = blockwise(\n",
      "/home/liruixue/miniconda3/envs/dscim/lib/python3.8/site-packages/dask/core.py:121: RuntimeWarning: invalid value encountered in true_divide\n",
      "  return func(*(_execute_task(a, cache) for a in args))\n",
      "/home/liruixue/miniconda3/envs/dscim/lib/python3.8/site-packages/dask/core.py:121: RuntimeWarning: invalid value encountered in true_divide\n",
      "  return func(*(_execute_task(a, cache) for a in args))\n"
     ]
    },
    {
     "name": "stdout",
     "output_type": "stream",
     "text": [
      "Saving /mnt/CIL_integration/menu_results_AR6_bc39_diag/agriculture_clipped/2080/unmasked/equity_constant_eta1.016010255_rho9.149608e-05_damage_function_points.csv\n",
      "Extrapolating global consumption.\n"
     ]
    },
    {
     "name": "stderr",
     "output_type": "stream",
     "text": [
      "/home/liruixue/miniconda3/envs/dscim/lib/python3.8/site-packages/dask/core.py:121: RuntimeWarning: invalid value encountered in true_divide\n",
      "  return func(*(_execute_task(a, cache) for a in args))\n"
     ]
    },
    {
     "name": "stdout",
     "output_type": "stream",
     "text": [
      "Saving /mnt/CIL_integration/menu_results_AR6_bc39_diag/agriculture_clipped/2080/unmasked/equity_constant_eta1.016010255_rho9.149608e-05_global_consumption.nc4\n"
     ]
    },
    {
     "name": "stderr",
     "output_type": "stream",
     "text": [
      "/home/liruixue/miniconda3/envs/dscim/lib/python3.8/site-packages/dask/core.py:121: RuntimeWarning: invalid value encountered in true_divide\n",
      "  return func(*(_execute_task(a, cache) for a in args))\n",
      "/home/liruixue/miniconda3/envs/dscim/lib/python3.8/site-packages/dask/core.py:121: RuntimeWarning: invalid value encountered in true_divide\n",
      "  return func(*(_execute_task(a, cache) for a in args))\n"
     ]
    },
    {
     "name": "stdout",
     "output_type": "stream",
     "text": [
      "Saving /mnt/CIL_integration/menu_results_AR6_bc39_diag/agriculture_clipped/2080/unmasked/equity_constant_eta1.016010255_rho9.149608e-05_damage_function_coefficients.nc4\n",
      "Results available: /mnt/CIL_integration/menu_results_AR6_bc39_diag/agriculture_clipped/2080/unmasked/\n",
      "remaining combos: 33\n",
      "=========================================================\n",
      "('agriculture_clipped', 2080, 'constant', 'equity', 6, 39, 1.244459066)\n"
     ]
    },
    {
     "name": "stderr",
     "output_type": "stream",
     "text": [
      "/home/liruixue/miniconda3/envs/dscim/lib/python3.8/site-packages/dask/core.py:121: RuntimeWarning: invalid value encountered in true_divide\n",
      "  return func(*(_execute_task(a, cache) for a in args))\n"
     ]
    },
    {
     "name": "stdout",
     "output_type": "stream",
     "text": [
      "\n",
      " Executing Running equity class with the following parameters: \n",
      "Sector: agriculture_clipped \n",
      "Path to damages: /shares/gcp/integration/float32/input_data_histclim/ag_data/v0.0_ag_histclim-delta_clipped.zarr \n",
      "Menu recipe: equity \n",
      "Damages delta: delta_reallocation \n",
      "Discount level: global \n",
      "Discount type: constant \n",
      "Damage function path: None \n",
      "\n",
      "\n",
      "Processing damage functions ...\n",
      "Existing damage functions not found. Damage points will be loaded.\n",
      "Risk-aversion CEs found at /shares/gcp/integration/CE_library_epa_vsl_bc39/agriculture_clipped//risk_aversion_ce_no_cc_eta1.244459066.zarr. These are being loaded...\n"
     ]
    },
    {
     "name": "stderr",
     "output_type": "stream",
     "text": [
      "/home/liruixue/miniconda3/envs/dscim/lib/python3.8/site-packages/dask/array/core.py:4402: PerformanceWarning: Increasing number of chunks by factor of 18\n",
      "  result = blockwise(\n",
      "/home/liruixue/miniconda3/envs/dscim/lib/python3.8/site-packages/dask/core.py:121: RuntimeWarning: invalid value encountered in true_divide\n",
      "  return func(*(_execute_task(a, cache) for a in args))\n"
     ]
    },
    {
     "name": "stdout",
     "output_type": "stream",
     "text": [
      "Risk-aversion CEs found at /shares/gcp/integration/CE_library_epa_vsl_bc39/agriculture_clipped//risk_aversion_ce_cc_eta1.244459066.zarr. These are being loaded...\n"
     ]
    },
    {
     "name": "stderr",
     "output_type": "stream",
     "text": [
      "/home/liruixue/miniconda3/envs/dscim/lib/python3.8/site-packages/dask/array/core.py:4402: PerformanceWarning: Increasing number of chunks by factor of 18\n",
      "  result = blockwise(\n",
      "/home/liruixue/miniconda3/envs/dscim/lib/python3.8/site-packages/dask/core.py:121: RuntimeWarning: invalid value encountered in true_divide\n",
      "  return func(*(_execute_task(a, cache) for a in args))\n",
      "/home/liruixue/miniconda3/envs/dscim/lib/python3.8/site-packages/dask/core.py:121: RuntimeWarning: invalid value encountered in true_divide\n",
      "  return func(*(_execute_task(a, cache) for a in args))\n"
     ]
    },
    {
     "name": "stdout",
     "output_type": "stream",
     "text": [
      "Saving /mnt/CIL_integration/menu_results_AR6_bc39_diag/agriculture_clipped/2080/unmasked/equity_constant_eta1.244459066_rho0.00197263997_damage_function_points.csv\n",
      "Extrapolating global consumption.\n"
     ]
    },
    {
     "name": "stderr",
     "output_type": "stream",
     "text": [
      "/home/liruixue/miniconda3/envs/dscim/lib/python3.8/site-packages/dask/core.py:121: RuntimeWarning: invalid value encountered in true_divide\n",
      "  return func(*(_execute_task(a, cache) for a in args))\n"
     ]
    },
    {
     "name": "stdout",
     "output_type": "stream",
     "text": [
      "Saving /mnt/CIL_integration/menu_results_AR6_bc39_diag/agriculture_clipped/2080/unmasked/equity_constant_eta1.244459066_rho0.00197263997_global_consumption.nc4\n"
     ]
    },
    {
     "name": "stderr",
     "output_type": "stream",
     "text": [
      "/home/liruixue/miniconda3/envs/dscim/lib/python3.8/site-packages/dask/core.py:121: RuntimeWarning: invalid value encountered in true_divide\n",
      "  return func(*(_execute_task(a, cache) for a in args))\n",
      "/home/liruixue/miniconda3/envs/dscim/lib/python3.8/site-packages/dask/core.py:121: RuntimeWarning: invalid value encountered in true_divide\n",
      "  return func(*(_execute_task(a, cache) for a in args))\n"
     ]
    },
    {
     "name": "stdout",
     "output_type": "stream",
     "text": [
      "Saving /mnt/CIL_integration/menu_results_AR6_bc39_diag/agriculture_clipped/2080/unmasked/equity_constant_eta1.244459066_rho0.00197263997_damage_function_coefficients.nc4\n",
      "Results available: /mnt/CIL_integration/menu_results_AR6_bc39_diag/agriculture_clipped/2080/unmasked/\n",
      "remaining combos: 32\n",
      "=========================================================\n",
      "('agriculture_clipped', 2080, 'constant', 'equity', 6, 39, 1.421158116)\n",
      "\n",
      " Executing Running equity class with the following parameters: \n",
      "Sector: agriculture_clipped \n",
      "Path to damages: /shares/gcp/integration/float32/input_data_histclim/ag_data/v0.0_ag_histclim-delta_clipped.zarr \n",
      "Menu recipe: equity \n",
      "Damages delta: delta_reallocation \n",
      "Discount level: global \n",
      "Discount type: constant \n",
      "Damage function path: None \n",
      "\n",
      "\n",
      "Processing damage functions ...\n",
      "Existing damage functions not found. Damage points will be loaded.\n"
     ]
    },
    {
     "name": "stderr",
     "output_type": "stream",
     "text": [
      "/home/liruixue/miniconda3/envs/dscim/lib/python3.8/site-packages/dask/core.py:121: RuntimeWarning: invalid value encountered in true_divide\n",
      "  return func(*(_execute_task(a, cache) for a in args))\n"
     ]
    },
    {
     "name": "stdout",
     "output_type": "stream",
     "text": [
      "Risk-aversion CEs found at /shares/gcp/integration/CE_library_epa_vsl_bc39/agriculture_clipped//risk_aversion_ce_no_cc_eta1.421158116.zarr. These are being loaded...\n"
     ]
    },
    {
     "name": "stderr",
     "output_type": "stream",
     "text": [
      "/home/liruixue/miniconda3/envs/dscim/lib/python3.8/site-packages/dask/array/core.py:4402: PerformanceWarning: Increasing number of chunks by factor of 18\n",
      "  result = blockwise(\n",
      "/home/liruixue/miniconda3/envs/dscim/lib/python3.8/site-packages/dask/core.py:121: RuntimeWarning: invalid value encountered in true_divide\n",
      "  return func(*(_execute_task(a, cache) for a in args))\n"
     ]
    },
    {
     "name": "stdout",
     "output_type": "stream",
     "text": [
      "Risk-aversion CEs found at /shares/gcp/integration/CE_library_epa_vsl_bc39/agriculture_clipped//risk_aversion_ce_cc_eta1.421158116.zarr. These are being loaded...\n"
     ]
    },
    {
     "name": "stderr",
     "output_type": "stream",
     "text": [
      "/home/liruixue/miniconda3/envs/dscim/lib/python3.8/site-packages/dask/array/core.py:4402: PerformanceWarning: Increasing number of chunks by factor of 18\n",
      "  result = blockwise(\n",
      "/home/liruixue/miniconda3/envs/dscim/lib/python3.8/site-packages/dask/core.py:121: RuntimeWarning: invalid value encountered in true_divide\n",
      "  return func(*(_execute_task(a, cache) for a in args))\n",
      "/home/liruixue/miniconda3/envs/dscim/lib/python3.8/site-packages/dask/core.py:121: RuntimeWarning: invalid value encountered in true_divide\n",
      "  return func(*(_execute_task(a, cache) for a in args))\n"
     ]
    },
    {
     "name": "stdout",
     "output_type": "stream",
     "text": [
      "Saving /mnt/CIL_integration/menu_results_AR6_bc39_diag/agriculture_clipped/2080/unmasked/equity_constant_eta1.421158116_rho0.00461878399_damage_function_points.csv\n",
      "Extrapolating global consumption.\n"
     ]
    },
    {
     "name": "stderr",
     "output_type": "stream",
     "text": [
      "/home/liruixue/miniconda3/envs/dscim/lib/python3.8/site-packages/dask/core.py:121: RuntimeWarning: invalid value encountered in true_divide\n",
      "  return func(*(_execute_task(a, cache) for a in args))\n"
     ]
    },
    {
     "name": "stdout",
     "output_type": "stream",
     "text": [
      "Saving /mnt/CIL_integration/menu_results_AR6_bc39_diag/agriculture_clipped/2080/unmasked/equity_constant_eta1.421158116_rho0.00461878399_global_consumption.nc4\n"
     ]
    },
    {
     "name": "stderr",
     "output_type": "stream",
     "text": [
      "/home/liruixue/miniconda3/envs/dscim/lib/python3.8/site-packages/dask/core.py:121: RuntimeWarning: invalid value encountered in true_divide\n",
      "  return func(*(_execute_task(a, cache) for a in args))\n",
      "/home/liruixue/miniconda3/envs/dscim/lib/python3.8/site-packages/dask/core.py:121: RuntimeWarning: invalid value encountered in true_divide\n",
      "  return func(*(_execute_task(a, cache) for a in args))\n"
     ]
    },
    {
     "name": "stdout",
     "output_type": "stream",
     "text": [
      "Saving /mnt/CIL_integration/menu_results_AR6_bc39_diag/agriculture_clipped/2080/unmasked/equity_constant_eta1.421158116_rho0.00461878399_damage_function_coefficients.nc4\n",
      "Results available: /mnt/CIL_integration/menu_results_AR6_bc39_diag/agriculture_clipped/2080/unmasked/\n",
      "remaining combos: 31\n",
      "=========================================================\n",
      "('agriculture_clipped', 2080, 'constant', 'equity', 6, 39, 1.567899395)\n",
      "\n",
      " Executing Running equity class with the following parameters: \n",
      "Sector: agriculture_clipped \n",
      "Path to damages: /shares/gcp/integration/float32/input_data_histclim/ag_data/v0.0_ag_histclim-delta_clipped.zarr \n",
      "Menu recipe: equity \n",
      "Damages delta: delta_reallocation \n",
      "Discount level: global \n",
      "Discount type: constant \n",
      "Damage function path: None \n",
      "\n",
      "\n",
      "Processing damage functions ...\n",
      "Existing damage functions not found. Damage points will be loaded.\n",
      "Risk-aversion CEs found at /shares/gcp/integration/CE_library_epa_vsl_bc39/agriculture_clipped//risk_aversion_ce_no_cc_eta1.567899395.zarr. These are being loaded...\n"
     ]
    },
    {
     "name": "stderr",
     "output_type": "stream",
     "text": [
      "/home/liruixue/miniconda3/envs/dscim/lib/python3.8/site-packages/dask/core.py:121: RuntimeWarning: invalid value encountered in true_divide\n",
      "  return func(*(_execute_task(a, cache) for a in args))\n",
      "/home/liruixue/miniconda3/envs/dscim/lib/python3.8/site-packages/dask/array/core.py:4402: PerformanceWarning: Increasing number of chunks by factor of 18\n",
      "  result = blockwise(\n",
      "/home/liruixue/miniconda3/envs/dscim/lib/python3.8/site-packages/dask/core.py:121: RuntimeWarning: invalid value encountered in true_divide\n",
      "  return func(*(_execute_task(a, cache) for a in args))\n"
     ]
    },
    {
     "name": "stdout",
     "output_type": "stream",
     "text": [
      "Risk-aversion CEs found at /shares/gcp/integration/CE_library_epa_vsl_bc39/agriculture_clipped//risk_aversion_ce_cc_eta1.567899395.zarr. These are being loaded...\n"
     ]
    },
    {
     "name": "stderr",
     "output_type": "stream",
     "text": [
      "/home/liruixue/miniconda3/envs/dscim/lib/python3.8/site-packages/dask/array/core.py:4402: PerformanceWarning: Increasing number of chunks by factor of 18\n",
      "  result = blockwise(\n",
      "/home/liruixue/miniconda3/envs/dscim/lib/python3.8/site-packages/dask/core.py:121: RuntimeWarning: invalid value encountered in true_divide\n",
      "  return func(*(_execute_task(a, cache) for a in args))\n",
      "/home/liruixue/miniconda3/envs/dscim/lib/python3.8/site-packages/dask/core.py:121: RuntimeWarning: invalid value encountered in true_divide\n",
      "  return func(*(_execute_task(a, cache) for a in args))\n"
     ]
    },
    {
     "name": "stdout",
     "output_type": "stream",
     "text": [
      "Saving /mnt/CIL_integration/menu_results_AR6_bc39_diag/agriculture_clipped/2080/unmasked/equity_constant_eta1.567899395_rho0.00770271076_damage_function_points.csv\n",
      "Extrapolating global consumption.\n"
     ]
    },
    {
     "name": "stderr",
     "output_type": "stream",
     "text": [
      "/home/liruixue/miniconda3/envs/dscim/lib/python3.8/site-packages/dask/core.py:121: RuntimeWarning: invalid value encountered in true_divide\n",
      "  return func(*(_execute_task(a, cache) for a in args))\n"
     ]
    },
    {
     "name": "stdout",
     "output_type": "stream",
     "text": [
      "Saving /mnt/CIL_integration/menu_results_AR6_bc39_diag/agriculture_clipped/2080/unmasked/equity_constant_eta1.567899395_rho0.00770271076_global_consumption.nc4\n"
     ]
    },
    {
     "name": "stderr",
     "output_type": "stream",
     "text": [
      "/home/liruixue/miniconda3/envs/dscim/lib/python3.8/site-packages/dask/core.py:121: RuntimeWarning: invalid value encountered in true_divide\n",
      "  return func(*(_execute_task(a, cache) for a in args))\n",
      "/home/liruixue/miniconda3/envs/dscim/lib/python3.8/site-packages/dask/core.py:121: RuntimeWarning: invalid value encountered in true_divide\n",
      "  return func(*(_execute_task(a, cache) for a in args))\n"
     ]
    },
    {
     "name": "stdout",
     "output_type": "stream",
     "text": [
      "Saving /mnt/CIL_integration/menu_results_AR6_bc39_diag/agriculture_clipped/2080/unmasked/equity_constant_eta1.567899395_rho0.00770271076_damage_function_coefficients.nc4\n",
      "Results available: /mnt/CIL_integration/menu_results_AR6_bc39_diag/agriculture_clipped/2080/unmasked/\n",
      "remaining combos: 30\n",
      "=========================================================\n",
      "('agriculture_clipped', 2080, 'euler_ramsey', 'adding_up', 6, 39, 2.0)\n",
      "Rechunking for 'adding_up' option.\n",
      "\n",
      " Executing Running adding_up class with the following parameters: \n",
      "Sector: agriculture_clipped \n",
      "Path to damages: /shares/gcp/integration/float32/input_data_histclim/ag_data/v0.0_ag_histclim-delta_clipped.zarr \n",
      "Menu recipe: adding_up \n",
      "Damages delta: delta_reallocation \n",
      "Discount level: global \n",
      "Discount type: euler_ramsey \n",
      "Damage function path: None \n",
      "\n",
      "\n",
      "Processing damage functions ...\n",
      "Existing damage functions not found. Damage points will be loaded.\n",
      "Adding up CEs found at /shares/gcp/integration/CE_library_epa_vsl_bc39/agriculture_clipped//adding_up_ce_cc_eta2.0.zarr, /shares/gcp/integration/CE_library_epa_vsl_bc39/agriculture_clipped//adding_up_ce_no_cc_eta2.0.zarr. These are being loaded...\n"
     ]
    },
    {
     "name": "stderr",
     "output_type": "stream",
     "text": [
      "/home/liruixue/miniconda3/envs/dscim/lib/python3.8/site-packages/dask/core.py:121: RuntimeWarning: invalid value encountered in true_divide\n",
      "  return func(*(_execute_task(a, cache) for a in args))\n"
     ]
    },
    {
     "name": "stdout",
     "output_type": "stream",
     "text": [
      "Saving /mnt/CIL_integration/menu_results_AR6_bc39_diag/agriculture_clipped/2080/unmasked/adding_up_euler_ramsey_eta2.0_rho0.0_damage_function_points.csv\n",
      "Extrapolating global consumption.\n",
      "End-of-century growth rates are not capped.\n",
      "Saving /mnt/CIL_integration/menu_results_AR6_bc39_diag/agriculture_clipped/2080/unmasked/adding_up_euler_ramsey_eta2.0_rho0.0_global_consumption.nc4\n",
      "Saving /mnt/CIL_integration/menu_results_AR6_bc39_diag/agriculture_clipped/2080/unmasked/adding_up_euler_ramsey_eta2.0_rho0.0_damage_function_coefficients.nc4\n",
      "Results available: /mnt/CIL_integration/menu_results_AR6_bc39_diag/agriculture_clipped/2080/unmasked/\n",
      "remaining combos: 29\n",
      "=========================================================\n",
      "('agriculture_clipped', 2080, 'euler_ramsey', 'adding_up', 6, 39, 1.016010255)\n",
      "Rechunking for 'adding_up' option.\n",
      "\n",
      " Executing Running adding_up class with the following parameters: \n",
      "Sector: agriculture_clipped \n",
      "Path to damages: /shares/gcp/integration/float32/input_data_histclim/ag_data/v0.0_ag_histclim-delta_clipped.zarr \n",
      "Menu recipe: adding_up \n",
      "Damages delta: delta_reallocation \n",
      "Discount level: global \n",
      "Discount type: euler_ramsey \n",
      "Damage function path: None \n",
      "\n",
      "\n",
      "Processing damage functions ...\n",
      "Existing damage functions not found. Damage points will be loaded.\n",
      "Adding up CEs found at /shares/gcp/integration/CE_library_epa_vsl_bc39/agriculture_clipped//adding_up_ce_cc_eta1.016010255.zarr, /shares/gcp/integration/CE_library_epa_vsl_bc39/agriculture_clipped//adding_up_ce_no_cc_eta1.016010255.zarr. These are being loaded...\n",
      "Saving /mnt/CIL_integration/menu_results_AR6_bc39_diag/agriculture_clipped/2080/unmasked/adding_up_euler_ramsey_eta1.016010255_rho9.149608e-05_damage_function_points.csv\n",
      "Extrapolating global consumption.\n",
      "End-of-century growth rates are not capped.\n",
      "Saving /mnt/CIL_integration/menu_results_AR6_bc39_diag/agriculture_clipped/2080/unmasked/adding_up_euler_ramsey_eta1.016010255_rho9.149608e-05_global_consumption.nc4\n",
      "Saving /mnt/CIL_integration/menu_results_AR6_bc39_diag/agriculture_clipped/2080/unmasked/adding_up_euler_ramsey_eta1.016010255_rho9.149608e-05_damage_function_coefficients.nc4\n",
      "Results available: /mnt/CIL_integration/menu_results_AR6_bc39_diag/agriculture_clipped/2080/unmasked/\n",
      "remaining combos: 28\n",
      "=========================================================\n",
      "('agriculture_clipped', 2080, 'euler_ramsey', 'adding_up', 6, 39, 1.244459066)\n",
      "Rechunking for 'adding_up' option.\n",
      "\n",
      " Executing Running adding_up class with the following parameters: \n",
      "Sector: agriculture_clipped \n",
      "Path to damages: /shares/gcp/integration/float32/input_data_histclim/ag_data/v0.0_ag_histclim-delta_clipped.zarr \n",
      "Menu recipe: adding_up \n",
      "Damages delta: delta_reallocation \n",
      "Discount level: global \n",
      "Discount type: euler_ramsey \n",
      "Damage function path: None \n",
      "\n",
      "\n",
      "Processing damage functions ...\n",
      "Existing damage functions not found. Damage points will be loaded.\n",
      "Adding up CEs found at /shares/gcp/integration/CE_library_epa_vsl_bc39/agriculture_clipped//adding_up_ce_cc_eta1.244459066.zarr, /shares/gcp/integration/CE_library_epa_vsl_bc39/agriculture_clipped//adding_up_ce_no_cc_eta1.244459066.zarr. These are being loaded...\n",
      "Saving /mnt/CIL_integration/menu_results_AR6_bc39_diag/agriculture_clipped/2080/unmasked/adding_up_euler_ramsey_eta1.244459066_rho0.00197263997_damage_function_points.csv\n",
      "Extrapolating global consumption.\n",
      "End-of-century growth rates are not capped.\n",
      "Saving /mnt/CIL_integration/menu_results_AR6_bc39_diag/agriculture_clipped/2080/unmasked/adding_up_euler_ramsey_eta1.244459066_rho0.00197263997_global_consumption.nc4\n",
      "Saving /mnt/CIL_integration/menu_results_AR6_bc39_diag/agriculture_clipped/2080/unmasked/adding_up_euler_ramsey_eta1.244459066_rho0.00197263997_damage_function_coefficients.nc4\n",
      "Results available: /mnt/CIL_integration/menu_results_AR6_bc39_diag/agriculture_clipped/2080/unmasked/\n",
      "remaining combos: 27\n",
      "=========================================================\n",
      "('agriculture_clipped', 2080, 'euler_ramsey', 'adding_up', 6, 39, 1.421158116)\n",
      "Rechunking for 'adding_up' option.\n",
      "\n",
      " Executing Running adding_up class with the following parameters: \n",
      "Sector: agriculture_clipped \n",
      "Path to damages: /shares/gcp/integration/float32/input_data_histclim/ag_data/v0.0_ag_histclim-delta_clipped.zarr \n",
      "Menu recipe: adding_up \n",
      "Damages delta: delta_reallocation \n",
      "Discount level: global \n",
      "Discount type: euler_ramsey \n",
      "Damage function path: None \n",
      "\n",
      "\n",
      "Processing damage functions ...\n",
      "Existing damage functions not found. Damage points will be loaded.\n",
      "Adding up CEs found at /shares/gcp/integration/CE_library_epa_vsl_bc39/agriculture_clipped//adding_up_ce_cc_eta1.421158116.zarr, /shares/gcp/integration/CE_library_epa_vsl_bc39/agriculture_clipped//adding_up_ce_no_cc_eta1.421158116.zarr. These are being loaded...\n",
      "Saving /mnt/CIL_integration/menu_results_AR6_bc39_diag/agriculture_clipped/2080/unmasked/adding_up_euler_ramsey_eta1.421158116_rho0.00461878399_damage_function_points.csv\n",
      "Extrapolating global consumption.\n",
      "End-of-century growth rates are not capped.\n",
      "Saving /mnt/CIL_integration/menu_results_AR6_bc39_diag/agriculture_clipped/2080/unmasked/adding_up_euler_ramsey_eta1.421158116_rho0.00461878399_global_consumption.nc4\n",
      "Saving /mnt/CIL_integration/menu_results_AR6_bc39_diag/agriculture_clipped/2080/unmasked/adding_up_euler_ramsey_eta1.421158116_rho0.00461878399_damage_function_coefficients.nc4\n",
      "Results available: /mnt/CIL_integration/menu_results_AR6_bc39_diag/agriculture_clipped/2080/unmasked/\n",
      "remaining combos: 26\n",
      "=========================================================\n",
      "('agriculture_clipped', 2080, 'euler_ramsey', 'adding_up', 6, 39, 1.567899395)\n",
      "Rechunking for 'adding_up' option.\n",
      "\n",
      " Executing Running adding_up class with the following parameters: \n",
      "Sector: agriculture_clipped \n",
      "Path to damages: /shares/gcp/integration/float32/input_data_histclim/ag_data/v0.0_ag_histclim-delta_clipped.zarr \n",
      "Menu recipe: adding_up \n",
      "Damages delta: delta_reallocation \n",
      "Discount level: global \n",
      "Discount type: euler_ramsey \n",
      "Damage function path: None \n",
      "\n",
      "\n",
      "Processing damage functions ...\n",
      "Existing damage functions not found. Damage points will be loaded.\n",
      "Adding up CEs found at /shares/gcp/integration/CE_library_epa_vsl_bc39/agriculture_clipped//adding_up_ce_cc_eta1.567899395.zarr, /shares/gcp/integration/CE_library_epa_vsl_bc39/agriculture_clipped//adding_up_ce_no_cc_eta1.567899395.zarr. These are being loaded...\n",
      "Saving /mnt/CIL_integration/menu_results_AR6_bc39_diag/agriculture_clipped/2080/unmasked/adding_up_euler_ramsey_eta1.567899395_rho0.00770271076_damage_function_points.csv\n",
      "Extrapolating global consumption.\n",
      "End-of-century growth rates are not capped.\n",
      "Saving /mnt/CIL_integration/menu_results_AR6_bc39_diag/agriculture_clipped/2080/unmasked/adding_up_euler_ramsey_eta1.567899395_rho0.00770271076_global_consumption.nc4\n",
      "Saving /mnt/CIL_integration/menu_results_AR6_bc39_diag/agriculture_clipped/2080/unmasked/adding_up_euler_ramsey_eta1.567899395_rho0.00770271076_damage_function_coefficients.nc4\n",
      "Results available: /mnt/CIL_integration/menu_results_AR6_bc39_diag/agriculture_clipped/2080/unmasked/\n",
      "remaining combos: 25\n",
      "=========================================================\n",
      "('agriculture_clipped', 2080, 'euler_ramsey', 'risk_aversion', 6, 39, 2.0)\n",
      "\n",
      " Executing Running risk_aversion class with the following parameters: \n",
      "Sector: agriculture_clipped \n",
      "Path to damages: /shares/gcp/integration/float32/input_data_histclim/ag_data/v0.0_ag_histclim-delta_clipped.zarr \n",
      "Menu recipe: risk_aversion \n",
      "Damages delta: delta_reallocation \n",
      "Discount level: global \n",
      "Discount type: euler_ramsey \n",
      "Damage function path: None \n",
      "\n",
      "\n",
      "Processing damage functions ...\n",
      "Existing damage functions not found. Damage points will be loaded.\n",
      "Risk-aversion CEs found at /shares/gcp/integration/CE_library_epa_vsl_bc39/agriculture_clipped//risk_aversion_ce_no_cc_eta2.0.zarr. These are being loaded...\n",
      "Risk-aversion CEs found at /shares/gcp/integration/CE_library_epa_vsl_bc39/agriculture_clipped//risk_aversion_ce_cc_eta2.0.zarr. These are being loaded...\n",
      "Saving /mnt/CIL_integration/menu_results_AR6_bc39_diag/agriculture_clipped/2080/unmasked/risk_aversion_euler_ramsey_eta2.0_rho0.0_damage_function_points.csv\n",
      "Extrapolating global consumption.\n",
      "End-of-century growth rates are not capped.\n",
      "Saving /mnt/CIL_integration/menu_results_AR6_bc39_diag/agriculture_clipped/2080/unmasked/risk_aversion_euler_ramsey_eta2.0_rho0.0_global_consumption.nc4\n",
      "Saving /mnt/CIL_integration/menu_results_AR6_bc39_diag/agriculture_clipped/2080/unmasked/risk_aversion_euler_ramsey_eta2.0_rho0.0_damage_function_coefficients.nc4\n",
      "Results available: /mnt/CIL_integration/menu_results_AR6_bc39_diag/agriculture_clipped/2080/unmasked/\n",
      "remaining combos: 24\n",
      "=========================================================\n",
      "('agriculture_clipped', 2080, 'euler_ramsey', 'risk_aversion', 6, 39, 1.016010255)\n",
      "\n",
      " Executing Running risk_aversion class with the following parameters: \n",
      "Sector: agriculture_clipped \n",
      "Path to damages: /shares/gcp/integration/float32/input_data_histclim/ag_data/v0.0_ag_histclim-delta_clipped.zarr \n",
      "Menu recipe: risk_aversion \n",
      "Damages delta: delta_reallocation \n",
      "Discount level: global \n",
      "Discount type: euler_ramsey \n",
      "Damage function path: None \n",
      "\n",
      "\n",
      "Processing damage functions ...\n",
      "Existing damage functions not found. Damage points will be loaded.\n",
      "Risk-aversion CEs found at /shares/gcp/integration/CE_library_epa_vsl_bc39/agriculture_clipped//risk_aversion_ce_no_cc_eta1.016010255.zarr. These are being loaded...\n",
      "Risk-aversion CEs found at /shares/gcp/integration/CE_library_epa_vsl_bc39/agriculture_clipped//risk_aversion_ce_cc_eta1.016010255.zarr. These are being loaded...\n",
      "Saving /mnt/CIL_integration/menu_results_AR6_bc39_diag/agriculture_clipped/2080/unmasked/risk_aversion_euler_ramsey_eta1.016010255_rho9.149608e-05_damage_function_points.csv\n",
      "Extrapolating global consumption.\n",
      "End-of-century growth rates are not capped.\n",
      "Saving /mnt/CIL_integration/menu_results_AR6_bc39_diag/agriculture_clipped/2080/unmasked/risk_aversion_euler_ramsey_eta1.016010255_rho9.149608e-05_global_consumption.nc4\n",
      "Saving /mnt/CIL_integration/menu_results_AR6_bc39_diag/agriculture_clipped/2080/unmasked/risk_aversion_euler_ramsey_eta1.016010255_rho9.149608e-05_damage_function_coefficients.nc4\n",
      "Results available: /mnt/CIL_integration/menu_results_AR6_bc39_diag/agriculture_clipped/2080/unmasked/\n",
      "remaining combos: 23\n",
      "=========================================================\n",
      "('agriculture_clipped', 2080, 'euler_ramsey', 'risk_aversion', 6, 39, 1.244459066)\n",
      "\n",
      " Executing Running risk_aversion class with the following parameters: \n",
      "Sector: agriculture_clipped \n",
      "Path to damages: /shares/gcp/integration/float32/input_data_histclim/ag_data/v0.0_ag_histclim-delta_clipped.zarr \n",
      "Menu recipe: risk_aversion \n",
      "Damages delta: delta_reallocation \n",
      "Discount level: global \n",
      "Discount type: euler_ramsey \n",
      "Damage function path: None \n",
      "\n",
      "\n",
      "Processing damage functions ...\n",
      "Existing damage functions not found. Damage points will be loaded.\n",
      "Risk-aversion CEs found at /shares/gcp/integration/CE_library_epa_vsl_bc39/agriculture_clipped//risk_aversion_ce_no_cc_eta1.244459066.zarr. These are being loaded...\n",
      "Risk-aversion CEs found at /shares/gcp/integration/CE_library_epa_vsl_bc39/agriculture_clipped//risk_aversion_ce_cc_eta1.244459066.zarr. These are being loaded...\n",
      "Saving /mnt/CIL_integration/menu_results_AR6_bc39_diag/agriculture_clipped/2080/unmasked/risk_aversion_euler_ramsey_eta1.244459066_rho0.00197263997_damage_function_points.csv\n",
      "Extrapolating global consumption.\n",
      "End-of-century growth rates are not capped.\n",
      "Saving /mnt/CIL_integration/menu_results_AR6_bc39_diag/agriculture_clipped/2080/unmasked/risk_aversion_euler_ramsey_eta1.244459066_rho0.00197263997_global_consumption.nc4\n",
      "Saving /mnt/CIL_integration/menu_results_AR6_bc39_diag/agriculture_clipped/2080/unmasked/risk_aversion_euler_ramsey_eta1.244459066_rho0.00197263997_damage_function_coefficients.nc4\n",
      "Results available: /mnt/CIL_integration/menu_results_AR6_bc39_diag/agriculture_clipped/2080/unmasked/\n",
      "remaining combos: 22\n",
      "=========================================================\n",
      "('agriculture_clipped', 2080, 'euler_ramsey', 'risk_aversion', 6, 39, 1.421158116)\n",
      "\n",
      " Executing Running risk_aversion class with the following parameters: \n",
      "Sector: agriculture_clipped \n",
      "Path to damages: /shares/gcp/integration/float32/input_data_histclim/ag_data/v0.0_ag_histclim-delta_clipped.zarr \n",
      "Menu recipe: risk_aversion \n",
      "Damages delta: delta_reallocation \n",
      "Discount level: global \n",
      "Discount type: euler_ramsey \n",
      "Damage function path: None \n",
      "\n",
      "\n",
      "Processing damage functions ...\n",
      "Existing damage functions not found. Damage points will be loaded.\n",
      "Risk-aversion CEs found at /shares/gcp/integration/CE_library_epa_vsl_bc39/agriculture_clipped//risk_aversion_ce_no_cc_eta1.421158116.zarr. These are being loaded...\n",
      "Risk-aversion CEs found at /shares/gcp/integration/CE_library_epa_vsl_bc39/agriculture_clipped//risk_aversion_ce_cc_eta1.421158116.zarr. These are being loaded...\n",
      "Saving /mnt/CIL_integration/menu_results_AR6_bc39_diag/agriculture_clipped/2080/unmasked/risk_aversion_euler_ramsey_eta1.421158116_rho0.00461878399_damage_function_points.csv\n",
      "Extrapolating global consumption.\n",
      "End-of-century growth rates are not capped.\n",
      "Saving /mnt/CIL_integration/menu_results_AR6_bc39_diag/agriculture_clipped/2080/unmasked/risk_aversion_euler_ramsey_eta1.421158116_rho0.00461878399_global_consumption.nc4\n",
      "Saving /mnt/CIL_integration/menu_results_AR6_bc39_diag/agriculture_clipped/2080/unmasked/risk_aversion_euler_ramsey_eta1.421158116_rho0.00461878399_damage_function_coefficients.nc4\n",
      "Results available: /mnt/CIL_integration/menu_results_AR6_bc39_diag/agriculture_clipped/2080/unmasked/\n",
      "remaining combos: 21\n",
      "=========================================================\n",
      "('agriculture_clipped', 2080, 'euler_ramsey', 'risk_aversion', 6, 39, 1.567899395)\n",
      "\n",
      " Executing Running risk_aversion class with the following parameters: \n",
      "Sector: agriculture_clipped \n",
      "Path to damages: /shares/gcp/integration/float32/input_data_histclim/ag_data/v0.0_ag_histclim-delta_clipped.zarr \n",
      "Menu recipe: risk_aversion \n",
      "Damages delta: delta_reallocation \n",
      "Discount level: global \n",
      "Discount type: euler_ramsey \n",
      "Damage function path: None \n",
      "\n",
      "\n",
      "Processing damage functions ...\n",
      "Existing damage functions not found. Damage points will be loaded.\n",
      "Risk-aversion CEs found at /shares/gcp/integration/CE_library_epa_vsl_bc39/agriculture_clipped//risk_aversion_ce_no_cc_eta1.567899395.zarr. These are being loaded...\n",
      "Risk-aversion CEs found at /shares/gcp/integration/CE_library_epa_vsl_bc39/agriculture_clipped//risk_aversion_ce_cc_eta1.567899395.zarr. These are being loaded...\n",
      "Saving /mnt/CIL_integration/menu_results_AR6_bc39_diag/agriculture_clipped/2080/unmasked/risk_aversion_euler_ramsey_eta1.567899395_rho0.00770271076_damage_function_points.csv\n",
      "Extrapolating global consumption.\n",
      "End-of-century growth rates are not capped.\n",
      "Saving /mnt/CIL_integration/menu_results_AR6_bc39_diag/agriculture_clipped/2080/unmasked/risk_aversion_euler_ramsey_eta1.567899395_rho0.00770271076_global_consumption.nc4\n",
      "Saving /mnt/CIL_integration/menu_results_AR6_bc39_diag/agriculture_clipped/2080/unmasked/risk_aversion_euler_ramsey_eta1.567899395_rho0.00770271076_damage_function_coefficients.nc4\n",
      "Results available: /mnt/CIL_integration/menu_results_AR6_bc39_diag/agriculture_clipped/2080/unmasked/\n",
      "remaining combos: 20\n",
      "=========================================================\n",
      "('agriculture_clipped', 2080, 'euler_ramsey', 'equity', 6, 39, 2.0)\n",
      "\n",
      " Executing Running equity class with the following parameters: \n",
      "Sector: agriculture_clipped \n",
      "Path to damages: /shares/gcp/integration/float32/input_data_histclim/ag_data/v0.0_ag_histclim-delta_clipped.zarr \n",
      "Menu recipe: equity \n",
      "Damages delta: delta_reallocation \n",
      "Discount level: global \n",
      "Discount type: euler_ramsey \n",
      "Damage function path: None \n",
      "\n",
      "\n",
      "Processing damage functions ...\n",
      "Existing damage functions not found. Damage points will be loaded.\n",
      "Risk-aversion CEs found at /shares/gcp/integration/CE_library_epa_vsl_bc39/agriculture_clipped//risk_aversion_ce_no_cc_eta2.0.zarr. These are being loaded...\n"
     ]
    },
    {
     "name": "stderr",
     "output_type": "stream",
     "text": [
      "/home/liruixue/miniconda3/envs/dscim/lib/python3.8/site-packages/dask/array/core.py:4402: PerformanceWarning: Increasing number of chunks by factor of 18\n",
      "  result = blockwise(\n",
      "/home/liruixue/miniconda3/envs/dscim/lib/python3.8/site-packages/dask/core.py:121: RuntimeWarning: invalid value encountered in true_divide\n",
      "  return func(*(_execute_task(a, cache) for a in args))\n"
     ]
    },
    {
     "name": "stdout",
     "output_type": "stream",
     "text": [
      "Risk-aversion CEs found at /shares/gcp/integration/CE_library_epa_vsl_bc39/agriculture_clipped//risk_aversion_ce_cc_eta2.0.zarr. These are being loaded...\n"
     ]
    },
    {
     "name": "stderr",
     "output_type": "stream",
     "text": [
      "/home/liruixue/miniconda3/envs/dscim/lib/python3.8/site-packages/dask/array/core.py:4402: PerformanceWarning: Increasing number of chunks by factor of 18\n",
      "  result = blockwise(\n",
      "/home/liruixue/miniconda3/envs/dscim/lib/python3.8/site-packages/dask/core.py:121: RuntimeWarning: invalid value encountered in true_divide\n",
      "  return func(*(_execute_task(a, cache) for a in args))\n",
      "/home/liruixue/miniconda3/envs/dscim/lib/python3.8/site-packages/dask/core.py:121: RuntimeWarning: invalid value encountered in true_divide\n",
      "  return func(*(_execute_task(a, cache) for a in args))\n"
     ]
    },
    {
     "name": "stdout",
     "output_type": "stream",
     "text": [
      "Saving /mnt/CIL_integration/menu_results_AR6_bc39_diag/agriculture_clipped/2080/unmasked/equity_euler_ramsey_eta2.0_rho0.0_damage_function_points.csv\n",
      "Extrapolating global consumption.\n"
     ]
    },
    {
     "name": "stderr",
     "output_type": "stream",
     "text": [
      "/home/liruixue/miniconda3/envs/dscim/lib/python3.8/site-packages/dask/core.py:121: RuntimeWarning: invalid value encountered in true_divide\n",
      "  return func(*(_execute_task(a, cache) for a in args))\n"
     ]
    },
    {
     "name": "stdout",
     "output_type": "stream",
     "text": [
      "Saving /mnt/CIL_integration/menu_results_AR6_bc39_diag/agriculture_clipped/2080/unmasked/equity_euler_ramsey_eta2.0_rho0.0_global_consumption.nc4\n"
     ]
    },
    {
     "name": "stderr",
     "output_type": "stream",
     "text": [
      "/home/liruixue/miniconda3/envs/dscim/lib/python3.8/site-packages/dask/core.py:121: RuntimeWarning: invalid value encountered in true_divide\n",
      "  return func(*(_execute_task(a, cache) for a in args))\n",
      "/home/liruixue/miniconda3/envs/dscim/lib/python3.8/site-packages/dask/core.py:121: RuntimeWarning: invalid value encountered in true_divide\n",
      "  return func(*(_execute_task(a, cache) for a in args))\n"
     ]
    },
    {
     "name": "stdout",
     "output_type": "stream",
     "text": [
      "Saving /mnt/CIL_integration/menu_results_AR6_bc39_diag/agriculture_clipped/2080/unmasked/equity_euler_ramsey_eta2.0_rho0.0_damage_function_coefficients.nc4\n",
      "Results available: /mnt/CIL_integration/menu_results_AR6_bc39_diag/agriculture_clipped/2080/unmasked/\n",
      "remaining combos: 19\n",
      "=========================================================\n",
      "('agriculture_clipped', 2080, 'euler_ramsey', 'equity', 6, 39, 1.016010255)\n"
     ]
    },
    {
     "name": "stderr",
     "output_type": "stream",
     "text": [
      "/home/liruixue/miniconda3/envs/dscim/lib/python3.8/site-packages/dask/core.py:121: RuntimeWarning: invalid value encountered in true_divide\n",
      "  return func(*(_execute_task(a, cache) for a in args))\n"
     ]
    },
    {
     "name": "stdout",
     "output_type": "stream",
     "text": [
      "\n",
      " Executing Running equity class with the following parameters: \n",
      "Sector: agriculture_clipped \n",
      "Path to damages: /shares/gcp/integration/float32/input_data_histclim/ag_data/v0.0_ag_histclim-delta_clipped.zarr \n",
      "Menu recipe: equity \n",
      "Damages delta: delta_reallocation \n",
      "Discount level: global \n",
      "Discount type: euler_ramsey \n",
      "Damage function path: None \n",
      "\n",
      "\n",
      "Processing damage functions ...\n",
      "Existing damage functions not found. Damage points will be loaded.\n",
      "Risk-aversion CEs found at /shares/gcp/integration/CE_library_epa_vsl_bc39/agriculture_clipped//risk_aversion_ce_no_cc_eta1.016010255.zarr. These are being loaded...\n"
     ]
    },
    {
     "name": "stderr",
     "output_type": "stream",
     "text": [
      "/home/liruixue/miniconda3/envs/dscim/lib/python3.8/site-packages/dask/array/core.py:4402: PerformanceWarning: Increasing number of chunks by factor of 18\n",
      "  result = blockwise(\n",
      "/home/liruixue/miniconda3/envs/dscim/lib/python3.8/site-packages/dask/core.py:121: RuntimeWarning: invalid value encountered in true_divide\n",
      "  return func(*(_execute_task(a, cache) for a in args))\n"
     ]
    },
    {
     "name": "stdout",
     "output_type": "stream",
     "text": [
      "Risk-aversion CEs found at /shares/gcp/integration/CE_library_epa_vsl_bc39/agriculture_clipped//risk_aversion_ce_cc_eta1.016010255.zarr. These are being loaded...\n"
     ]
    },
    {
     "name": "stderr",
     "output_type": "stream",
     "text": [
      "/home/liruixue/miniconda3/envs/dscim/lib/python3.8/site-packages/dask/array/core.py:4402: PerformanceWarning: Increasing number of chunks by factor of 18\n",
      "  result = blockwise(\n",
      "/home/liruixue/miniconda3/envs/dscim/lib/python3.8/site-packages/dask/core.py:121: RuntimeWarning: invalid value encountered in true_divide\n",
      "  return func(*(_execute_task(a, cache) for a in args))\n",
      "/home/liruixue/miniconda3/envs/dscim/lib/python3.8/site-packages/dask/core.py:121: RuntimeWarning: invalid value encountered in true_divide\n",
      "  return func(*(_execute_task(a, cache) for a in args))\n"
     ]
    },
    {
     "name": "stdout",
     "output_type": "stream",
     "text": [
      "Saving /mnt/CIL_integration/menu_results_AR6_bc39_diag/agriculture_clipped/2080/unmasked/equity_euler_ramsey_eta1.016010255_rho9.149608e-05_damage_function_points.csv\n",
      "Extrapolating global consumption.\n"
     ]
    },
    {
     "name": "stderr",
     "output_type": "stream",
     "text": [
      "/home/liruixue/miniconda3/envs/dscim/lib/python3.8/site-packages/dask/core.py:121: RuntimeWarning: invalid value encountered in true_divide\n",
      "  return func(*(_execute_task(a, cache) for a in args))\n"
     ]
    },
    {
     "name": "stdout",
     "output_type": "stream",
     "text": [
      "Saving /mnt/CIL_integration/menu_results_AR6_bc39_diag/agriculture_clipped/2080/unmasked/equity_euler_ramsey_eta1.016010255_rho9.149608e-05_global_consumption.nc4\n"
     ]
    },
    {
     "name": "stderr",
     "output_type": "stream",
     "text": [
      "/home/liruixue/miniconda3/envs/dscim/lib/python3.8/site-packages/dask/core.py:121: RuntimeWarning: invalid value encountered in true_divide\n",
      "  return func(*(_execute_task(a, cache) for a in args))\n",
      "/home/liruixue/miniconda3/envs/dscim/lib/python3.8/site-packages/dask/core.py:121: RuntimeWarning: invalid value encountered in true_divide\n",
      "  return func(*(_execute_task(a, cache) for a in args))\n"
     ]
    },
    {
     "name": "stdout",
     "output_type": "stream",
     "text": [
      "Saving /mnt/CIL_integration/menu_results_AR6_bc39_diag/agriculture_clipped/2080/unmasked/equity_euler_ramsey_eta1.016010255_rho9.149608e-05_damage_function_coefficients.nc4\n",
      "Results available: /mnt/CIL_integration/menu_results_AR6_bc39_diag/agriculture_clipped/2080/unmasked/\n",
      "remaining combos: 18\n",
      "=========================================================\n",
      "('agriculture_clipped', 2080, 'euler_ramsey', 'equity', 6, 39, 1.244459066)\n",
      "\n",
      " Executing Running equity class with the following parameters: \n",
      "Sector: agriculture_clipped \n",
      "Path to damages: /shares/gcp/integration/float32/input_data_histclim/ag_data/v0.0_ag_histclim-delta_clipped.zarr \n",
      "Menu recipe: equity \n",
      "Damages delta: delta_reallocation \n",
      "Discount level: global \n",
      "Discount type: euler_ramsey \n",
      "Damage function path: None \n",
      "\n",
      "\n",
      "Processing damage functions ...\n"
     ]
    },
    {
     "name": "stderr",
     "output_type": "stream",
     "text": [
      "/home/liruixue/miniconda3/envs/dscim/lib/python3.8/site-packages/dask/core.py:121: RuntimeWarning: invalid value encountered in true_divide\n",
      "  return func(*(_execute_task(a, cache) for a in args))\n"
     ]
    },
    {
     "name": "stdout",
     "output_type": "stream",
     "text": [
      "Existing damage functions not found. Damage points will be loaded.\n",
      "Risk-aversion CEs found at /shares/gcp/integration/CE_library_epa_vsl_bc39/agriculture_clipped//risk_aversion_ce_no_cc_eta1.244459066.zarr. These are being loaded...\n"
     ]
    },
    {
     "name": "stderr",
     "output_type": "stream",
     "text": [
      "/home/liruixue/miniconda3/envs/dscim/lib/python3.8/site-packages/dask/array/core.py:4402: PerformanceWarning: Increasing number of chunks by factor of 18\n",
      "  result = blockwise(\n",
      "/home/liruixue/miniconda3/envs/dscim/lib/python3.8/site-packages/dask/core.py:121: RuntimeWarning: invalid value encountered in true_divide\n",
      "  return func(*(_execute_task(a, cache) for a in args))\n"
     ]
    },
    {
     "name": "stdout",
     "output_type": "stream",
     "text": [
      "Risk-aversion CEs found at /shares/gcp/integration/CE_library_epa_vsl_bc39/agriculture_clipped//risk_aversion_ce_cc_eta1.244459066.zarr. These are being loaded...\n"
     ]
    },
    {
     "name": "stderr",
     "output_type": "stream",
     "text": [
      "/home/liruixue/miniconda3/envs/dscim/lib/python3.8/site-packages/dask/array/core.py:4402: PerformanceWarning: Increasing number of chunks by factor of 18\n",
      "  result = blockwise(\n",
      "/home/liruixue/miniconda3/envs/dscim/lib/python3.8/site-packages/dask/core.py:121: RuntimeWarning: invalid value encountered in true_divide\n",
      "  return func(*(_execute_task(a, cache) for a in args))\n",
      "/home/liruixue/miniconda3/envs/dscim/lib/python3.8/site-packages/dask/core.py:121: RuntimeWarning: invalid value encountered in true_divide\n",
      "  return func(*(_execute_task(a, cache) for a in args))\n"
     ]
    },
    {
     "name": "stdout",
     "output_type": "stream",
     "text": [
      "Saving /mnt/CIL_integration/menu_results_AR6_bc39_diag/agriculture_clipped/2080/unmasked/equity_euler_ramsey_eta1.244459066_rho0.00197263997_damage_function_points.csv\n",
      "Extrapolating global consumption.\n"
     ]
    },
    {
     "name": "stderr",
     "output_type": "stream",
     "text": [
      "/home/liruixue/miniconda3/envs/dscim/lib/python3.8/site-packages/dask/core.py:121: RuntimeWarning: invalid value encountered in true_divide\n",
      "  return func(*(_execute_task(a, cache) for a in args))\n"
     ]
    },
    {
     "name": "stdout",
     "output_type": "stream",
     "text": [
      "Saving /mnt/CIL_integration/menu_results_AR6_bc39_diag/agriculture_clipped/2080/unmasked/equity_euler_ramsey_eta1.244459066_rho0.00197263997_global_consumption.nc4\n"
     ]
    },
    {
     "name": "stderr",
     "output_type": "stream",
     "text": [
      "/home/liruixue/miniconda3/envs/dscim/lib/python3.8/site-packages/dask/core.py:121: RuntimeWarning: invalid value encountered in true_divide\n",
      "  return func(*(_execute_task(a, cache) for a in args))\n",
      "/home/liruixue/miniconda3/envs/dscim/lib/python3.8/site-packages/dask/core.py:121: RuntimeWarning: invalid value encountered in true_divide\n",
      "  return func(*(_execute_task(a, cache) for a in args))\n"
     ]
    },
    {
     "name": "stdout",
     "output_type": "stream",
     "text": [
      "Saving /mnt/CIL_integration/menu_results_AR6_bc39_diag/agriculture_clipped/2080/unmasked/equity_euler_ramsey_eta1.244459066_rho0.00197263997_damage_function_coefficients.nc4\n",
      "Results available: /mnt/CIL_integration/menu_results_AR6_bc39_diag/agriculture_clipped/2080/unmasked/\n",
      "remaining combos: 17\n",
      "=========================================================\n",
      "('agriculture_clipped', 2080, 'euler_ramsey', 'equity', 6, 39, 1.421158116)\n",
      "\n",
      " Executing Running equity class with the following parameters: \n",
      "Sector: agriculture_clipped \n",
      "Path to damages: /shares/gcp/integration/float32/input_data_histclim/ag_data/v0.0_ag_histclim-delta_clipped.zarr \n",
      "Menu recipe: equity \n",
      "Damages delta: delta_reallocation \n",
      "Discount level: global \n",
      "Discount type: euler_ramsey \n",
      "Damage function path: None \n",
      "\n",
      "\n"
     ]
    },
    {
     "name": "stderr",
     "output_type": "stream",
     "text": [
      "/home/liruixue/miniconda3/envs/dscim/lib/python3.8/site-packages/dask/core.py:121: RuntimeWarning: invalid value encountered in true_divide\n",
      "  return func(*(_execute_task(a, cache) for a in args))\n"
     ]
    },
    {
     "name": "stdout",
     "output_type": "stream",
     "text": [
      "Processing damage functions ...\n",
      "Existing damage functions not found. Damage points will be loaded.\n",
      "Risk-aversion CEs found at /shares/gcp/integration/CE_library_epa_vsl_bc39/agriculture_clipped//risk_aversion_ce_no_cc_eta1.421158116.zarr. These are being loaded...\n"
     ]
    },
    {
     "name": "stderr",
     "output_type": "stream",
     "text": [
      "/home/liruixue/miniconda3/envs/dscim/lib/python3.8/site-packages/dask/array/core.py:4402: PerformanceWarning: Increasing number of chunks by factor of 18\n",
      "  result = blockwise(\n",
      "/home/liruixue/miniconda3/envs/dscim/lib/python3.8/site-packages/dask/core.py:121: RuntimeWarning: invalid value encountered in true_divide\n",
      "  return func(*(_execute_task(a, cache) for a in args))\n"
     ]
    },
    {
     "name": "stdout",
     "output_type": "stream",
     "text": [
      "Risk-aversion CEs found at /shares/gcp/integration/CE_library_epa_vsl_bc39/agriculture_clipped//risk_aversion_ce_cc_eta1.421158116.zarr. These are being loaded...\n"
     ]
    },
    {
     "name": "stderr",
     "output_type": "stream",
     "text": [
      "/home/liruixue/miniconda3/envs/dscim/lib/python3.8/site-packages/dask/array/core.py:4402: PerformanceWarning: Increasing number of chunks by factor of 18\n",
      "  result = blockwise(\n",
      "/home/liruixue/miniconda3/envs/dscim/lib/python3.8/site-packages/dask/core.py:121: RuntimeWarning: invalid value encountered in true_divide\n",
      "  return func(*(_execute_task(a, cache) for a in args))\n",
      "/home/liruixue/miniconda3/envs/dscim/lib/python3.8/site-packages/dask/core.py:121: RuntimeWarning: invalid value encountered in true_divide\n",
      "  return func(*(_execute_task(a, cache) for a in args))\n"
     ]
    },
    {
     "name": "stdout",
     "output_type": "stream",
     "text": [
      "Saving /mnt/CIL_integration/menu_results_AR6_bc39_diag/agriculture_clipped/2080/unmasked/equity_euler_ramsey_eta1.421158116_rho0.00461878399_damage_function_points.csv\n",
      "Extrapolating global consumption.\n"
     ]
    },
    {
     "name": "stderr",
     "output_type": "stream",
     "text": [
      "/home/liruixue/miniconda3/envs/dscim/lib/python3.8/site-packages/dask/core.py:121: RuntimeWarning: invalid value encountered in true_divide\n",
      "  return func(*(_execute_task(a, cache) for a in args))\n"
     ]
    },
    {
     "name": "stdout",
     "output_type": "stream",
     "text": [
      "Saving /mnt/CIL_integration/menu_results_AR6_bc39_diag/agriculture_clipped/2080/unmasked/equity_euler_ramsey_eta1.421158116_rho0.00461878399_global_consumption.nc4\n"
     ]
    },
    {
     "name": "stderr",
     "output_type": "stream",
     "text": [
      "/home/liruixue/miniconda3/envs/dscim/lib/python3.8/site-packages/dask/core.py:121: RuntimeWarning: invalid value encountered in true_divide\n",
      "  return func(*(_execute_task(a, cache) for a in args))\n",
      "/home/liruixue/miniconda3/envs/dscim/lib/python3.8/site-packages/dask/core.py:121: RuntimeWarning: invalid value encountered in true_divide\n",
      "  return func(*(_execute_task(a, cache) for a in args))\n"
     ]
    },
    {
     "name": "stdout",
     "output_type": "stream",
     "text": [
      "Saving /mnt/CIL_integration/menu_results_AR6_bc39_diag/agriculture_clipped/2080/unmasked/equity_euler_ramsey_eta1.421158116_rho0.00461878399_damage_function_coefficients.nc4\n",
      "Results available: /mnt/CIL_integration/menu_results_AR6_bc39_diag/agriculture_clipped/2080/unmasked/\n",
      "remaining combos: 16\n",
      "=========================================================\n",
      "('agriculture_clipped', 2080, 'euler_ramsey', 'equity', 6, 39, 1.567899395)\n",
      "\n",
      " Executing Running equity class with the following parameters: \n",
      "Sector: agriculture_clipped \n",
      "Path to damages: /shares/gcp/integration/float32/input_data_histclim/ag_data/v0.0_ag_histclim-delta_clipped.zarr \n",
      "Menu recipe: equity \n",
      "Damages delta: delta_reallocation \n",
      "Discount level: global \n",
      "Discount type: euler_ramsey \n",
      "Damage function path: None \n",
      "\n",
      "\n",
      "Processing damage functions ...\n",
      "Existing damage functions not found. Damage points will be loaded.\n",
      "Risk-aversion CEs found at /shares/gcp/integration/CE_library_epa_vsl_bc39/agriculture_clipped//risk_aversion_ce_no_cc_eta1.567899395.zarr. These are being loaded...\n"
     ]
    },
    {
     "name": "stderr",
     "output_type": "stream",
     "text": [
      "/home/liruixue/miniconda3/envs/dscim/lib/python3.8/site-packages/dask/core.py:121: RuntimeWarning: invalid value encountered in true_divide\n",
      "  return func(*(_execute_task(a, cache) for a in args))\n",
      "/home/liruixue/miniconda3/envs/dscim/lib/python3.8/site-packages/dask/array/core.py:4402: PerformanceWarning: Increasing number of chunks by factor of 18\n",
      "  result = blockwise(\n",
      "/home/liruixue/miniconda3/envs/dscim/lib/python3.8/site-packages/dask/core.py:121: RuntimeWarning: invalid value encountered in true_divide\n",
      "  return func(*(_execute_task(a, cache) for a in args))\n"
     ]
    },
    {
     "name": "stdout",
     "output_type": "stream",
     "text": [
      "Risk-aversion CEs found at /shares/gcp/integration/CE_library_epa_vsl_bc39/agriculture_clipped//risk_aversion_ce_cc_eta1.567899395.zarr. These are being loaded...\n"
     ]
    },
    {
     "name": "stderr",
     "output_type": "stream",
     "text": [
      "/home/liruixue/miniconda3/envs/dscim/lib/python3.8/site-packages/dask/array/core.py:4402: PerformanceWarning: Increasing number of chunks by factor of 18\n",
      "  result = blockwise(\n",
      "/home/liruixue/miniconda3/envs/dscim/lib/python3.8/site-packages/dask/core.py:121: RuntimeWarning: invalid value encountered in true_divide\n",
      "  return func(*(_execute_task(a, cache) for a in args))\n",
      "/home/liruixue/miniconda3/envs/dscim/lib/python3.8/site-packages/dask/core.py:121: RuntimeWarning: invalid value encountered in true_divide\n",
      "  return func(*(_execute_task(a, cache) for a in args))\n"
     ]
    },
    {
     "name": "stdout",
     "output_type": "stream",
     "text": [
      "Saving /mnt/CIL_integration/menu_results_AR6_bc39_diag/agriculture_clipped/2080/unmasked/equity_euler_ramsey_eta1.567899395_rho0.00770271076_damage_function_points.csv\n",
      "Extrapolating global consumption.\n"
     ]
    },
    {
     "name": "stderr",
     "output_type": "stream",
     "text": [
      "/home/liruixue/miniconda3/envs/dscim/lib/python3.8/site-packages/dask/core.py:121: RuntimeWarning: invalid value encountered in true_divide\n",
      "  return func(*(_execute_task(a, cache) for a in args))\n"
     ]
    },
    {
     "name": "stdout",
     "output_type": "stream",
     "text": [
      "Saving /mnt/CIL_integration/menu_results_AR6_bc39_diag/agriculture_clipped/2080/unmasked/equity_euler_ramsey_eta1.567899395_rho0.00770271076_global_consumption.nc4\n"
     ]
    },
    {
     "name": "stderr",
     "output_type": "stream",
     "text": [
      "/home/liruixue/miniconda3/envs/dscim/lib/python3.8/site-packages/dask/core.py:121: RuntimeWarning: invalid value encountered in true_divide\n",
      "  return func(*(_execute_task(a, cache) for a in args))\n",
      "/home/liruixue/miniconda3/envs/dscim/lib/python3.8/site-packages/dask/core.py:121: RuntimeWarning: invalid value encountered in true_divide\n",
      "  return func(*(_execute_task(a, cache) for a in args))\n"
     ]
    },
    {
     "name": "stdout",
     "output_type": "stream",
     "text": [
      "Saving /mnt/CIL_integration/menu_results_AR6_bc39_diag/agriculture_clipped/2080/unmasked/equity_euler_ramsey_eta1.567899395_rho0.00770271076_damage_function_coefficients.nc4\n",
      "Results available: /mnt/CIL_integration/menu_results_AR6_bc39_diag/agriculture_clipped/2080/unmasked/\n",
      "remaining combos: 15\n",
      "=========================================================\n",
      "('agriculture_clipped', 2080, 'euler_gwr', 'adding_up', 6, 39, 2.0)\n",
      "Rechunking for 'adding_up' option.\n",
      "\n",
      " Executing Running adding_up class with the following parameters: \n",
      "Sector: agriculture_clipped \n",
      "Path to damages: /shares/gcp/integration/float32/input_data_histclim/ag_data/v0.0_ag_histclim-delta_clipped.zarr \n",
      "Menu recipe: adding_up \n",
      "Damages delta: delta_reallocation \n",
      "Discount level: global \n",
      "Discount type: euler_gwr \n",
      "Damage function path: None \n",
      "\n",
      "\n",
      "Processing damage functions ...\n",
      "Existing damage functions not found. Damage points will be loaded.\n"
     ]
    },
    {
     "name": "stderr",
     "output_type": "stream",
     "text": [
      "/home/liruixue/miniconda3/envs/dscim/lib/python3.8/site-packages/dask/core.py:121: RuntimeWarning: invalid value encountered in true_divide\n",
      "  return func(*(_execute_task(a, cache) for a in args))\n"
     ]
    },
    {
     "name": "stdout",
     "output_type": "stream",
     "text": [
      "Adding up CEs found at /shares/gcp/integration/CE_library_epa_vsl_bc39/agriculture_clipped//adding_up_ce_cc_eta2.0.zarr, /shares/gcp/integration/CE_library_epa_vsl_bc39/agriculture_clipped//adding_up_ce_no_cc_eta2.0.zarr. These are being loaded...\n",
      "Saving /mnt/CIL_integration/menu_results_AR6_bc39_diag/agriculture_clipped/2080/unmasked/adding_up_euler_gwr_eta2.0_rho0.0_damage_function_points.csv\n",
      "Extrapolating global consumption.\n",
      "End-of-century growth rates are not capped.\n",
      "Saving /mnt/CIL_integration/menu_results_AR6_bc39_diag/agriculture_clipped/2080/unmasked/adding_up_euler_gwr_eta2.0_rho0.0_global_consumption.nc4\n",
      "Saving /mnt/CIL_integration/menu_results_AR6_bc39_diag/agriculture_clipped/2080/unmasked/adding_up_euler_gwr_eta2.0_rho0.0_damage_function_coefficients.nc4\n",
      "Results available: /mnt/CIL_integration/menu_results_AR6_bc39_diag/agriculture_clipped/2080/unmasked/\n",
      "remaining combos: 14\n",
      "=========================================================\n",
      "('agriculture_clipped', 2080, 'euler_gwr', 'adding_up', 6, 39, 1.016010255)\n",
      "Rechunking for 'adding_up' option.\n",
      "\n",
      " Executing Running adding_up class with the following parameters: \n",
      "Sector: agriculture_clipped \n",
      "Path to damages: /shares/gcp/integration/float32/input_data_histclim/ag_data/v0.0_ag_histclim-delta_clipped.zarr \n",
      "Menu recipe: adding_up \n",
      "Damages delta: delta_reallocation \n",
      "Discount level: global \n",
      "Discount type: euler_gwr \n",
      "Damage function path: None \n",
      "\n",
      "\n",
      "Processing damage functions ...\n",
      "Existing damage functions not found. Damage points will be loaded.\n",
      "Adding up CEs found at /shares/gcp/integration/CE_library_epa_vsl_bc39/agriculture_clipped//adding_up_ce_cc_eta1.016010255.zarr, /shares/gcp/integration/CE_library_epa_vsl_bc39/agriculture_clipped//adding_up_ce_no_cc_eta1.016010255.zarr. These are being loaded...\n",
      "Saving /mnt/CIL_integration/menu_results_AR6_bc39_diag/agriculture_clipped/2080/unmasked/adding_up_euler_gwr_eta1.016010255_rho9.149608e-05_damage_function_points.csv\n",
      "Extrapolating global consumption.\n",
      "End-of-century growth rates are not capped.\n",
      "Saving /mnt/CIL_integration/menu_results_AR6_bc39_diag/agriculture_clipped/2080/unmasked/adding_up_euler_gwr_eta1.016010255_rho9.149608e-05_global_consumption.nc4\n",
      "Saving /mnt/CIL_integration/menu_results_AR6_bc39_diag/agriculture_clipped/2080/unmasked/adding_up_euler_gwr_eta1.016010255_rho9.149608e-05_damage_function_coefficients.nc4\n",
      "Results available: /mnt/CIL_integration/menu_results_AR6_bc39_diag/agriculture_clipped/2080/unmasked/\n",
      "remaining combos: 13\n",
      "=========================================================\n",
      "('agriculture_clipped', 2080, 'euler_gwr', 'adding_up', 6, 39, 1.244459066)\n",
      "Rechunking for 'adding_up' option.\n",
      "\n",
      " Executing Running adding_up class with the following parameters: \n",
      "Sector: agriculture_clipped \n",
      "Path to damages: /shares/gcp/integration/float32/input_data_histclim/ag_data/v0.0_ag_histclim-delta_clipped.zarr \n",
      "Menu recipe: adding_up \n",
      "Damages delta: delta_reallocation \n",
      "Discount level: global \n",
      "Discount type: euler_gwr \n",
      "Damage function path: None \n",
      "\n",
      "\n",
      "Processing damage functions ...\n",
      "Existing damage functions not found. Damage points will be loaded.\n",
      "Adding up CEs found at /shares/gcp/integration/CE_library_epa_vsl_bc39/agriculture_clipped//adding_up_ce_cc_eta1.244459066.zarr, /shares/gcp/integration/CE_library_epa_vsl_bc39/agriculture_clipped//adding_up_ce_no_cc_eta1.244459066.zarr. These are being loaded...\n",
      "Saving /mnt/CIL_integration/menu_results_AR6_bc39_diag/agriculture_clipped/2080/unmasked/adding_up_euler_gwr_eta1.244459066_rho0.00197263997_damage_function_points.csv\n",
      "Extrapolating global consumption.\n",
      "End-of-century growth rates are not capped.\n",
      "Saving /mnt/CIL_integration/menu_results_AR6_bc39_diag/agriculture_clipped/2080/unmasked/adding_up_euler_gwr_eta1.244459066_rho0.00197263997_global_consumption.nc4\n",
      "Saving /mnt/CIL_integration/menu_results_AR6_bc39_diag/agriculture_clipped/2080/unmasked/adding_up_euler_gwr_eta1.244459066_rho0.00197263997_damage_function_coefficients.nc4\n",
      "Results available: /mnt/CIL_integration/menu_results_AR6_bc39_diag/agriculture_clipped/2080/unmasked/\n",
      "remaining combos: 12\n",
      "=========================================================\n",
      "('agriculture_clipped', 2080, 'euler_gwr', 'adding_up', 6, 39, 1.421158116)\n",
      "Rechunking for 'adding_up' option.\n",
      "\n",
      " Executing Running adding_up class with the following parameters: \n",
      "Sector: agriculture_clipped \n",
      "Path to damages: /shares/gcp/integration/float32/input_data_histclim/ag_data/v0.0_ag_histclim-delta_clipped.zarr \n",
      "Menu recipe: adding_up \n",
      "Damages delta: delta_reallocation \n",
      "Discount level: global \n",
      "Discount type: euler_gwr \n",
      "Damage function path: None \n",
      "\n",
      "\n",
      "Processing damage functions ...\n",
      "Existing damage functions not found. Damage points will be loaded.\n",
      "Adding up CEs found at /shares/gcp/integration/CE_library_epa_vsl_bc39/agriculture_clipped//adding_up_ce_cc_eta1.421158116.zarr, /shares/gcp/integration/CE_library_epa_vsl_bc39/agriculture_clipped//adding_up_ce_no_cc_eta1.421158116.zarr. These are being loaded...\n",
      "Saving /mnt/CIL_integration/menu_results_AR6_bc39_diag/agriculture_clipped/2080/unmasked/adding_up_euler_gwr_eta1.421158116_rho0.00461878399_damage_function_points.csv\n",
      "Extrapolating global consumption.\n",
      "End-of-century growth rates are not capped.\n",
      "Saving /mnt/CIL_integration/menu_results_AR6_bc39_diag/agriculture_clipped/2080/unmasked/adding_up_euler_gwr_eta1.421158116_rho0.00461878399_global_consumption.nc4\n",
      "Saving /mnt/CIL_integration/menu_results_AR6_bc39_diag/agriculture_clipped/2080/unmasked/adding_up_euler_gwr_eta1.421158116_rho0.00461878399_damage_function_coefficients.nc4\n",
      "Results available: /mnt/CIL_integration/menu_results_AR6_bc39_diag/agriculture_clipped/2080/unmasked/\n",
      "remaining combos: 11\n",
      "=========================================================\n",
      "('agriculture_clipped', 2080, 'euler_gwr', 'adding_up', 6, 39, 1.567899395)\n",
      "Rechunking for 'adding_up' option.\n",
      "\n",
      " Executing Running adding_up class with the following parameters: \n",
      "Sector: agriculture_clipped \n",
      "Path to damages: /shares/gcp/integration/float32/input_data_histclim/ag_data/v0.0_ag_histclim-delta_clipped.zarr \n",
      "Menu recipe: adding_up \n",
      "Damages delta: delta_reallocation \n",
      "Discount level: global \n",
      "Discount type: euler_gwr \n",
      "Damage function path: None \n",
      "\n",
      "\n",
      "Processing damage functions ...\n",
      "Existing damage functions not found. Damage points will be loaded.\n",
      "Adding up CEs found at /shares/gcp/integration/CE_library_epa_vsl_bc39/agriculture_clipped//adding_up_ce_cc_eta1.567899395.zarr, /shares/gcp/integration/CE_library_epa_vsl_bc39/agriculture_clipped//adding_up_ce_no_cc_eta1.567899395.zarr. These are being loaded...\n",
      "Saving /mnt/CIL_integration/menu_results_AR6_bc39_diag/agriculture_clipped/2080/unmasked/adding_up_euler_gwr_eta1.567899395_rho0.00770271076_damage_function_points.csv\n",
      "Extrapolating global consumption.\n",
      "End-of-century growth rates are not capped.\n",
      "Saving /mnt/CIL_integration/menu_results_AR6_bc39_diag/agriculture_clipped/2080/unmasked/adding_up_euler_gwr_eta1.567899395_rho0.00770271076_global_consumption.nc4\n",
      "Saving /mnt/CIL_integration/menu_results_AR6_bc39_diag/agriculture_clipped/2080/unmasked/adding_up_euler_gwr_eta1.567899395_rho0.00770271076_damage_function_coefficients.nc4\n",
      "Results available: /mnt/CIL_integration/menu_results_AR6_bc39_diag/agriculture_clipped/2080/unmasked/\n",
      "remaining combos: 10\n",
      "=========================================================\n",
      "('agriculture_clipped', 2080, 'euler_gwr', 'risk_aversion', 6, 39, 2.0)\n",
      "\n",
      " Executing Running risk_aversion class with the following parameters: \n",
      "Sector: agriculture_clipped \n",
      "Path to damages: /shares/gcp/integration/float32/input_data_histclim/ag_data/v0.0_ag_histclim-delta_clipped.zarr \n",
      "Menu recipe: risk_aversion \n",
      "Damages delta: delta_reallocation \n",
      "Discount level: global \n",
      "Discount type: euler_gwr \n",
      "Damage function path: None \n",
      "\n",
      "\n",
      "Processing damage functions ...\n",
      "Existing damage functions not found. Damage points will be loaded.\n",
      "Risk-aversion CEs found at /shares/gcp/integration/CE_library_epa_vsl_bc39/agriculture_clipped//risk_aversion_ce_no_cc_eta2.0.zarr. These are being loaded...\n",
      "Risk-aversion CEs found at /shares/gcp/integration/CE_library_epa_vsl_bc39/agriculture_clipped//risk_aversion_ce_cc_eta2.0.zarr. These are being loaded...\n",
      "Saving /mnt/CIL_integration/menu_results_AR6_bc39_diag/agriculture_clipped/2080/unmasked/risk_aversion_euler_gwr_eta2.0_rho0.0_damage_function_points.csv\n",
      "Extrapolating global consumption.\n",
      "End-of-century growth rates are not capped.\n"
     ]
    },
    {
     "name": "stderr",
     "output_type": "stream",
     "text": [
      "/home/liruixue/miniconda3/envs/dscim/lib/python3.8/site-packages/dask/core.py:121: RuntimeWarning: invalid value encountered in true_divide\n",
      "  return func(*(_execute_task(a, cache) for a in args))\n",
      "/home/liruixue/miniconda3/envs/dscim/lib/python3.8/site-packages/dask/core.py:121: RuntimeWarning: invalid value encountered in true_divide\n",
      "  return func(*(_execute_task(a, cache) for a in args))\n",
      "/home/liruixue/miniconda3/envs/dscim/lib/python3.8/site-packages/dask/core.py:121: RuntimeWarning: invalid value encountered in true_divide\n",
      "  return func(*(_execute_task(a, cache) for a in args))\n",
      "/home/liruixue/miniconda3/envs/dscim/lib/python3.8/site-packages/dask/core.py:121: RuntimeWarning: invalid value encountered in true_divide\n",
      "  return func(*(_execute_task(a, cache) for a in args))\n",
      "/home/liruixue/miniconda3/envs/dscim/lib/python3.8/site-packages/dask/core.py:121: RuntimeWarning: invalid value encountered in true_divide\n",
      "  return func(*(_execute_task(a, cache) for a in args))\n",
      "/home/liruixue/miniconda3/envs/dscim/lib/python3.8/site-packages/dask/core.py:121: RuntimeWarning: invalid value encountered in true_divide\n",
      "  return func(*(_execute_task(a, cache) for a in args))\n",
      "/home/liruixue/miniconda3/envs/dscim/lib/python3.8/site-packages/dask/core.py:121: RuntimeWarning: invalid value encountered in true_divide\n",
      "  return func(*(_execute_task(a, cache) for a in args))\n"
     ]
    },
    {
     "name": "stdout",
     "output_type": "stream",
     "text": [
      "Saving /mnt/CIL_integration/menu_results_AR6_bc39_diag/agriculture_clipped/2080/unmasked/risk_aversion_euler_gwr_eta2.0_rho0.0_global_consumption.nc4\n"
     ]
    },
    {
     "name": "stderr",
     "output_type": "stream",
     "text": [
      "/home/liruixue/miniconda3/envs/dscim/lib/python3.8/site-packages/dask/core.py:121: RuntimeWarning: invalid value encountered in true_divide\n",
      "  return func(*(_execute_task(a, cache) for a in args))\n",
      "/home/liruixue/miniconda3/envs/dscim/lib/python3.8/site-packages/dask/core.py:121: RuntimeWarning: invalid value encountered in true_divide\n",
      "  return func(*(_execute_task(a, cache) for a in args))\n",
      "/home/liruixue/miniconda3/envs/dscim/lib/python3.8/site-packages/dask/core.py:121: RuntimeWarning: invalid value encountered in true_divide\n",
      "  return func(*(_execute_task(a, cache) for a in args))\n",
      "/home/liruixue/miniconda3/envs/dscim/lib/python3.8/site-packages/dask/core.py:121: RuntimeWarning: invalid value encountered in true_divide\n",
      "  return func(*(_execute_task(a, cache) for a in args))\n",
      "/home/liruixue/miniconda3/envs/dscim/lib/python3.8/site-packages/dask/core.py:121: RuntimeWarning: invalid value encountered in true_divide\n",
      "  return func(*(_execute_task(a, cache) for a in args))\n"
     ]
    },
    {
     "name": "stdout",
     "output_type": "stream",
     "text": [
      "Saving /mnt/CIL_integration/menu_results_AR6_bc39_diag/agriculture_clipped/2080/unmasked/risk_aversion_euler_gwr_eta2.0_rho0.0_damage_function_coefficients.nc4\n"
     ]
    },
    {
     "name": "stderr",
     "output_type": "stream",
     "text": [
      "/home/liruixue/miniconda3/envs/dscim/lib/python3.8/site-packages/dask/core.py:121: RuntimeWarning: invalid value encountered in true_divide\n",
      "  return func(*(_execute_task(a, cache) for a in args))\n"
     ]
    },
    {
     "name": "stdout",
     "output_type": "stream",
     "text": [
      "Results available: /mnt/CIL_integration/menu_results_AR6_bc39_diag/agriculture_clipped/2080/unmasked/\n",
      "remaining combos: 9\n",
      "=========================================================\n",
      "('agriculture_clipped', 2080, 'euler_gwr', 'risk_aversion', 6, 39, 1.016010255)\n",
      "\n",
      " Executing Running risk_aversion class with the following parameters: \n",
      "Sector: agriculture_clipped \n",
      "Path to damages: /shares/gcp/integration/float32/input_data_histclim/ag_data/v0.0_ag_histclim-delta_clipped.zarr \n",
      "Menu recipe: risk_aversion \n",
      "Damages delta: delta_reallocation \n",
      "Discount level: global \n",
      "Discount type: euler_gwr \n",
      "Damage function path: None \n",
      "\n",
      "\n",
      "Processing damage functions ...\n",
      "Existing damage functions not found. Damage points will be loaded.\n",
      "Risk-aversion CEs found at /shares/gcp/integration/CE_library_epa_vsl_bc39/agriculture_clipped//risk_aversion_ce_no_cc_eta1.016010255.zarr. These are being loaded...\n",
      "Risk-aversion CEs found at /shares/gcp/integration/CE_library_epa_vsl_bc39/agriculture_clipped//risk_aversion_ce_cc_eta1.016010255.zarr. These are being loaded...\n",
      "Saving /mnt/CIL_integration/menu_results_AR6_bc39_diag/agriculture_clipped/2080/unmasked/risk_aversion_euler_gwr_eta1.016010255_rho9.149608e-05_damage_function_points.csv\n",
      "Extrapolating global consumption.\n",
      "End-of-century growth rates are not capped.\n"
     ]
    },
    {
     "name": "stderr",
     "output_type": "stream",
     "text": [
      "/home/liruixue/miniconda3/envs/dscim/lib/python3.8/site-packages/dask/core.py:121: RuntimeWarning: invalid value encountered in true_divide\n",
      "  return func(*(_execute_task(a, cache) for a in args))\n",
      "/home/liruixue/miniconda3/envs/dscim/lib/python3.8/site-packages/dask/core.py:121: RuntimeWarning: invalid value encountered in true_divide\n",
      "  return func(*(_execute_task(a, cache) for a in args))\n",
      "/home/liruixue/miniconda3/envs/dscim/lib/python3.8/site-packages/dask/core.py:121: RuntimeWarning: invalid value encountered in true_divide\n",
      "  return func(*(_execute_task(a, cache) for a in args))\n",
      "/home/liruixue/miniconda3/envs/dscim/lib/python3.8/site-packages/dask/core.py:121: RuntimeWarning: invalid value encountered in true_divide\n",
      "  return func(*(_execute_task(a, cache) for a in args))\n",
      "/home/liruixue/miniconda3/envs/dscim/lib/python3.8/site-packages/dask/core.py:121: RuntimeWarning: invalid value encountered in true_divide\n",
      "  return func(*(_execute_task(a, cache) for a in args))\n",
      "/home/liruixue/miniconda3/envs/dscim/lib/python3.8/site-packages/dask/core.py:121: RuntimeWarning: invalid value encountered in true_divide\n",
      "  return func(*(_execute_task(a, cache) for a in args))\n",
      "/home/liruixue/miniconda3/envs/dscim/lib/python3.8/site-packages/dask/core.py:121: RuntimeWarning: invalid value encountered in true_divide\n",
      "  return func(*(_execute_task(a, cache) for a in args))\n"
     ]
    },
    {
     "name": "stdout",
     "output_type": "stream",
     "text": [
      "Saving /mnt/CIL_integration/menu_results_AR6_bc39_diag/agriculture_clipped/2080/unmasked/risk_aversion_euler_gwr_eta1.016010255_rho9.149608e-05_global_consumption.nc4\n"
     ]
    },
    {
     "name": "stderr",
     "output_type": "stream",
     "text": [
      "/home/liruixue/miniconda3/envs/dscim/lib/python3.8/site-packages/dask/core.py:121: RuntimeWarning: invalid value encountered in true_divide\n",
      "  return func(*(_execute_task(a, cache) for a in args))\n",
      "/home/liruixue/miniconda3/envs/dscim/lib/python3.8/site-packages/dask/core.py:121: RuntimeWarning: invalid value encountered in true_divide\n",
      "  return func(*(_execute_task(a, cache) for a in args))\n",
      "/home/liruixue/miniconda3/envs/dscim/lib/python3.8/site-packages/dask/core.py:121: RuntimeWarning: invalid value encountered in true_divide\n",
      "  return func(*(_execute_task(a, cache) for a in args))\n"
     ]
    },
    {
     "name": "stdout",
     "output_type": "stream",
     "text": [
      "Saving /mnt/CIL_integration/menu_results_AR6_bc39_diag/agriculture_clipped/2080/unmasked/risk_aversion_euler_gwr_eta1.016010255_rho9.149608e-05_damage_function_coefficients.nc4\n"
     ]
    },
    {
     "name": "stderr",
     "output_type": "stream",
     "text": [
      "/home/liruixue/miniconda3/envs/dscim/lib/python3.8/site-packages/dask/core.py:121: RuntimeWarning: invalid value encountered in true_divide\n",
      "  return func(*(_execute_task(a, cache) for a in args))\n"
     ]
    },
    {
     "name": "stdout",
     "output_type": "stream",
     "text": [
      "Results available: /mnt/CIL_integration/menu_results_AR6_bc39_diag/agriculture_clipped/2080/unmasked/\n",
      "remaining combos: 8\n",
      "=========================================================\n",
      "('agriculture_clipped', 2080, 'euler_gwr', 'risk_aversion', 6, 39, 1.244459066)\n",
      "\n",
      " Executing Running risk_aversion class with the following parameters: \n",
      "Sector: agriculture_clipped \n",
      "Path to damages: /shares/gcp/integration/float32/input_data_histclim/ag_data/v0.0_ag_histclim-delta_clipped.zarr \n",
      "Menu recipe: risk_aversion \n",
      "Damages delta: delta_reallocation \n",
      "Discount level: global \n",
      "Discount type: euler_gwr \n",
      "Damage function path: None \n",
      "\n",
      "\n",
      "Processing damage functions ...\n",
      "Existing damage functions not found. Damage points will be loaded.\n",
      "Risk-aversion CEs found at /shares/gcp/integration/CE_library_epa_vsl_bc39/agriculture_clipped//risk_aversion_ce_no_cc_eta1.244459066.zarr. These are being loaded...\n",
      "Risk-aversion CEs found at /shares/gcp/integration/CE_library_epa_vsl_bc39/agriculture_clipped//risk_aversion_ce_cc_eta1.244459066.zarr. These are being loaded...\n",
      "Saving /mnt/CIL_integration/menu_results_AR6_bc39_diag/agriculture_clipped/2080/unmasked/risk_aversion_euler_gwr_eta1.244459066_rho0.00197263997_damage_function_points.csv\n",
      "Extrapolating global consumption.\n",
      "End-of-century growth rates are not capped.\n"
     ]
    },
    {
     "name": "stderr",
     "output_type": "stream",
     "text": [
      "/home/liruixue/miniconda3/envs/dscim/lib/python3.8/site-packages/dask/core.py:121: RuntimeWarning: invalid value encountered in true_divide\n",
      "  return func(*(_execute_task(a, cache) for a in args))\n",
      "/home/liruixue/miniconda3/envs/dscim/lib/python3.8/site-packages/dask/core.py:121: RuntimeWarning: invalid value encountered in true_divide\n",
      "  return func(*(_execute_task(a, cache) for a in args))\n",
      "/home/liruixue/miniconda3/envs/dscim/lib/python3.8/site-packages/dask/core.py:121: RuntimeWarning: invalid value encountered in true_divide\n",
      "  return func(*(_execute_task(a, cache) for a in args))\n",
      "/home/liruixue/miniconda3/envs/dscim/lib/python3.8/site-packages/dask/core.py:121: RuntimeWarning: invalid value encountered in true_divide\n",
      "  return func(*(_execute_task(a, cache) for a in args))\n",
      "/home/liruixue/miniconda3/envs/dscim/lib/python3.8/site-packages/dask/core.py:121: RuntimeWarning: invalid value encountered in true_divide\n",
      "  return func(*(_execute_task(a, cache) for a in args))\n",
      "/home/liruixue/miniconda3/envs/dscim/lib/python3.8/site-packages/dask/core.py:121: RuntimeWarning: invalid value encountered in true_divide\n",
      "  return func(*(_execute_task(a, cache) for a in args))\n"
     ]
    },
    {
     "name": "stdout",
     "output_type": "stream",
     "text": [
      "Saving /mnt/CIL_integration/menu_results_AR6_bc39_diag/agriculture_clipped/2080/unmasked/risk_aversion_euler_gwr_eta1.244459066_rho0.00197263997_global_consumption.nc4\n"
     ]
    },
    {
     "name": "stderr",
     "output_type": "stream",
     "text": [
      "/home/liruixue/miniconda3/envs/dscim/lib/python3.8/site-packages/dask/core.py:121: RuntimeWarning: invalid value encountered in true_divide\n",
      "  return func(*(_execute_task(a, cache) for a in args))\n",
      "/home/liruixue/miniconda3/envs/dscim/lib/python3.8/site-packages/dask/core.py:121: RuntimeWarning: invalid value encountered in true_divide\n",
      "  return func(*(_execute_task(a, cache) for a in args))\n",
      "/home/liruixue/miniconda3/envs/dscim/lib/python3.8/site-packages/dask/core.py:121: RuntimeWarning: invalid value encountered in true_divide\n",
      "  return func(*(_execute_task(a, cache) for a in args))\n",
      "/home/liruixue/miniconda3/envs/dscim/lib/python3.8/site-packages/dask/core.py:121: RuntimeWarning: invalid value encountered in true_divide\n",
      "  return func(*(_execute_task(a, cache) for a in args))\n",
      "/home/liruixue/miniconda3/envs/dscim/lib/python3.8/site-packages/dask/core.py:121: RuntimeWarning: invalid value encountered in true_divide\n",
      "  return func(*(_execute_task(a, cache) for a in args))\n",
      "/home/liruixue/miniconda3/envs/dscim/lib/python3.8/site-packages/dask/core.py:121: RuntimeWarning: invalid value encountered in true_divide\n",
      "  return func(*(_execute_task(a, cache) for a in args))\n",
      "/home/liruixue/miniconda3/envs/dscim/lib/python3.8/site-packages/dask/core.py:121: RuntimeWarning: invalid value encountered in true_divide\n",
      "  return func(*(_execute_task(a, cache) for a in args))\n",
      "/home/liruixue/miniconda3/envs/dscim/lib/python3.8/site-packages/dask/core.py:121: RuntimeWarning: invalid value encountered in true_divide\n",
      "  return func(*(_execute_task(a, cache) for a in args))\n"
     ]
    },
    {
     "name": "stdout",
     "output_type": "stream",
     "text": [
      "Saving /mnt/CIL_integration/menu_results_AR6_bc39_diag/agriculture_clipped/2080/unmasked/risk_aversion_euler_gwr_eta1.244459066_rho0.00197263997_damage_function_coefficients.nc4\n"
     ]
    },
    {
     "name": "stderr",
     "output_type": "stream",
     "text": [
      "/home/liruixue/miniconda3/envs/dscim/lib/python3.8/site-packages/dask/core.py:121: RuntimeWarning: invalid value encountered in true_divide\n",
      "  return func(*(_execute_task(a, cache) for a in args))\n"
     ]
    },
    {
     "name": "stdout",
     "output_type": "stream",
     "text": [
      "Results available: /mnt/CIL_integration/menu_results_AR6_bc39_diag/agriculture_clipped/2080/unmasked/\n",
      "remaining combos: 7\n",
      "=========================================================\n",
      "('agriculture_clipped', 2080, 'euler_gwr', 'risk_aversion', 6, 39, 1.421158116)\n",
      "\n",
      " Executing Running risk_aversion class with the following parameters: \n",
      "Sector: agriculture_clipped \n",
      "Path to damages: /shares/gcp/integration/float32/input_data_histclim/ag_data/v0.0_ag_histclim-delta_clipped.zarr \n",
      "Menu recipe: risk_aversion \n",
      "Damages delta: delta_reallocation \n",
      "Discount level: global \n",
      "Discount type: euler_gwr \n",
      "Damage function path: None \n",
      "\n",
      "\n",
      "Processing damage functions ...\n",
      "Existing damage functions not found. Damage points will be loaded.\n",
      "Risk-aversion CEs found at /shares/gcp/integration/CE_library_epa_vsl_bc39/agriculture_clipped//risk_aversion_ce_no_cc_eta1.421158116.zarr. These are being loaded...\n",
      "Risk-aversion CEs found at /shares/gcp/integration/CE_library_epa_vsl_bc39/agriculture_clipped//risk_aversion_ce_cc_eta1.421158116.zarr. These are being loaded...\n",
      "Saving /mnt/CIL_integration/menu_results_AR6_bc39_diag/agriculture_clipped/2080/unmasked/risk_aversion_euler_gwr_eta1.421158116_rho0.00461878399_damage_function_points.csv\n",
      "Extrapolating global consumption.\n",
      "End-of-century growth rates are not capped.\n"
     ]
    },
    {
     "name": "stderr",
     "output_type": "stream",
     "text": [
      "/home/liruixue/miniconda3/envs/dscim/lib/python3.8/site-packages/dask/core.py:121: RuntimeWarning: invalid value encountered in true_divide\n",
      "  return func(*(_execute_task(a, cache) for a in args))\n",
      "/home/liruixue/miniconda3/envs/dscim/lib/python3.8/site-packages/dask/core.py:121: RuntimeWarning: invalid value encountered in true_divide\n",
      "  return func(*(_execute_task(a, cache) for a in args))\n",
      "/home/liruixue/miniconda3/envs/dscim/lib/python3.8/site-packages/dask/core.py:121: RuntimeWarning: invalid value encountered in true_divide\n",
      "  return func(*(_execute_task(a, cache) for a in args))\n",
      "/home/liruixue/miniconda3/envs/dscim/lib/python3.8/site-packages/dask/core.py:121: RuntimeWarning: invalid value encountered in true_divide\n",
      "  return func(*(_execute_task(a, cache) for a in args))\n",
      "/home/liruixue/miniconda3/envs/dscim/lib/python3.8/site-packages/dask/core.py:121: RuntimeWarning: invalid value encountered in true_divide\n",
      "  return func(*(_execute_task(a, cache) for a in args))\n",
      "/home/liruixue/miniconda3/envs/dscim/lib/python3.8/site-packages/dask/core.py:121: RuntimeWarning: invalid value encountered in true_divide\n",
      "  return func(*(_execute_task(a, cache) for a in args))\n"
     ]
    },
    {
     "name": "stdout",
     "output_type": "stream",
     "text": [
      "Saving /mnt/CIL_integration/menu_results_AR6_bc39_diag/agriculture_clipped/2080/unmasked/risk_aversion_euler_gwr_eta1.421158116_rho0.00461878399_global_consumption.nc4\n"
     ]
    },
    {
     "name": "stderr",
     "output_type": "stream",
     "text": [
      "/home/liruixue/miniconda3/envs/dscim/lib/python3.8/site-packages/dask/core.py:121: RuntimeWarning: invalid value encountered in true_divide\n",
      "  return func(*(_execute_task(a, cache) for a in args))\n",
      "/home/liruixue/miniconda3/envs/dscim/lib/python3.8/site-packages/dask/core.py:121: RuntimeWarning: invalid value encountered in true_divide\n",
      "  return func(*(_execute_task(a, cache) for a in args))\n",
      "/home/liruixue/miniconda3/envs/dscim/lib/python3.8/site-packages/dask/core.py:121: RuntimeWarning: invalid value encountered in true_divide\n",
      "  return func(*(_execute_task(a, cache) for a in args))\n",
      "/home/liruixue/miniconda3/envs/dscim/lib/python3.8/site-packages/dask/core.py:121: RuntimeWarning: invalid value encountered in true_divide\n",
      "  return func(*(_execute_task(a, cache) for a in args))\n",
      "/home/liruixue/miniconda3/envs/dscim/lib/python3.8/site-packages/dask/core.py:121: RuntimeWarning: invalid value encountered in true_divide\n",
      "  return func(*(_execute_task(a, cache) for a in args))\n",
      "/home/liruixue/miniconda3/envs/dscim/lib/python3.8/site-packages/dask/core.py:121: RuntimeWarning: invalid value encountered in true_divide\n",
      "  return func(*(_execute_task(a, cache) for a in args))\n"
     ]
    },
    {
     "name": "stdout",
     "output_type": "stream",
     "text": [
      "Saving /mnt/CIL_integration/menu_results_AR6_bc39_diag/agriculture_clipped/2080/unmasked/risk_aversion_euler_gwr_eta1.421158116_rho0.00461878399_damage_function_coefficients.nc4\n"
     ]
    },
    {
     "name": "stderr",
     "output_type": "stream",
     "text": [
      "/home/liruixue/miniconda3/envs/dscim/lib/python3.8/site-packages/dask/core.py:121: RuntimeWarning: invalid value encountered in true_divide\n",
      "  return func(*(_execute_task(a, cache) for a in args))\n"
     ]
    },
    {
     "name": "stdout",
     "output_type": "stream",
     "text": [
      "Results available: /mnt/CIL_integration/menu_results_AR6_bc39_diag/agriculture_clipped/2080/unmasked/\n",
      "remaining combos: 6\n",
      "=========================================================\n",
      "('agriculture_clipped', 2080, 'euler_gwr', 'risk_aversion', 6, 39, 1.567899395)\n",
      "\n",
      " Executing Running risk_aversion class with the following parameters: \n",
      "Sector: agriculture_clipped \n",
      "Path to damages: /shares/gcp/integration/float32/input_data_histclim/ag_data/v0.0_ag_histclim-delta_clipped.zarr \n",
      "Menu recipe: risk_aversion \n",
      "Damages delta: delta_reallocation \n",
      "Discount level: global \n",
      "Discount type: euler_gwr \n",
      "Damage function path: None \n",
      "\n",
      "\n",
      "Processing damage functions ...\n",
      "Existing damage functions not found. Damage points will be loaded.\n",
      "Risk-aversion CEs found at /shares/gcp/integration/CE_library_epa_vsl_bc39/agriculture_clipped//risk_aversion_ce_no_cc_eta1.567899395.zarr. These are being loaded...\n",
      "Risk-aversion CEs found at /shares/gcp/integration/CE_library_epa_vsl_bc39/agriculture_clipped//risk_aversion_ce_cc_eta1.567899395.zarr. These are being loaded...\n",
      "Saving /mnt/CIL_integration/menu_results_AR6_bc39_diag/agriculture_clipped/2080/unmasked/risk_aversion_euler_gwr_eta1.567899395_rho0.00770271076_damage_function_points.csv\n",
      "Extrapolating global consumption.\n",
      "End-of-century growth rates are not capped.\n"
     ]
    },
    {
     "name": "stderr",
     "output_type": "stream",
     "text": [
      "/home/liruixue/miniconda3/envs/dscim/lib/python3.8/site-packages/dask/core.py:121: RuntimeWarning: invalid value encountered in true_divide\n",
      "  return func(*(_execute_task(a, cache) for a in args))\n",
      "/home/liruixue/miniconda3/envs/dscim/lib/python3.8/site-packages/dask/core.py:121: RuntimeWarning: invalid value encountered in true_divide\n",
      "  return func(*(_execute_task(a, cache) for a in args))\n",
      "/home/liruixue/miniconda3/envs/dscim/lib/python3.8/site-packages/dask/core.py:121: RuntimeWarning: invalid value encountered in true_divide\n",
      "  return func(*(_execute_task(a, cache) for a in args))\n",
      "/home/liruixue/miniconda3/envs/dscim/lib/python3.8/site-packages/dask/core.py:121: RuntimeWarning: invalid value encountered in true_divide\n",
      "  return func(*(_execute_task(a, cache) for a in args))\n"
     ]
    },
    {
     "name": "stdout",
     "output_type": "stream",
     "text": [
      "Saving /mnt/CIL_integration/menu_results_AR6_bc39_diag/agriculture_clipped/2080/unmasked/risk_aversion_euler_gwr_eta1.567899395_rho0.00770271076_global_consumption.nc4\n"
     ]
    },
    {
     "name": "stderr",
     "output_type": "stream",
     "text": [
      "/home/liruixue/miniconda3/envs/dscim/lib/python3.8/site-packages/dask/core.py:121: RuntimeWarning: invalid value encountered in true_divide\n",
      "  return func(*(_execute_task(a, cache) for a in args))\n",
      "/home/liruixue/miniconda3/envs/dscim/lib/python3.8/site-packages/dask/core.py:121: RuntimeWarning: invalid value encountered in true_divide\n",
      "  return func(*(_execute_task(a, cache) for a in args))\n",
      "/home/liruixue/miniconda3/envs/dscim/lib/python3.8/site-packages/dask/core.py:121: RuntimeWarning: invalid value encountered in true_divide\n",
      "  return func(*(_execute_task(a, cache) for a in args))\n",
      "/home/liruixue/miniconda3/envs/dscim/lib/python3.8/site-packages/dask/core.py:121: RuntimeWarning: invalid value encountered in true_divide\n",
      "  return func(*(_execute_task(a, cache) for a in args))\n",
      "/home/liruixue/miniconda3/envs/dscim/lib/python3.8/site-packages/dask/core.py:121: RuntimeWarning: invalid value encountered in true_divide\n",
      "  return func(*(_execute_task(a, cache) for a in args))\n",
      "/home/liruixue/miniconda3/envs/dscim/lib/python3.8/site-packages/dask/core.py:121: RuntimeWarning: invalid value encountered in true_divide\n",
      "  return func(*(_execute_task(a, cache) for a in args))\n",
      "/home/liruixue/miniconda3/envs/dscim/lib/python3.8/site-packages/dask/core.py:121: RuntimeWarning: invalid value encountered in true_divide\n",
      "  return func(*(_execute_task(a, cache) for a in args))\n",
      "/home/liruixue/miniconda3/envs/dscim/lib/python3.8/site-packages/dask/core.py:121: RuntimeWarning: invalid value encountered in true_divide\n",
      "  return func(*(_execute_task(a, cache) for a in args))\n"
     ]
    },
    {
     "name": "stdout",
     "output_type": "stream",
     "text": [
      "Saving /mnt/CIL_integration/menu_results_AR6_bc39_diag/agriculture_clipped/2080/unmasked/risk_aversion_euler_gwr_eta1.567899395_rho0.00770271076_damage_function_coefficients.nc4\n"
     ]
    },
    {
     "name": "stderr",
     "output_type": "stream",
     "text": [
      "/home/liruixue/miniconda3/envs/dscim/lib/python3.8/site-packages/dask/core.py:121: RuntimeWarning: invalid value encountered in true_divide\n",
      "  return func(*(_execute_task(a, cache) for a in args))\n"
     ]
    },
    {
     "name": "stdout",
     "output_type": "stream",
     "text": [
      "Results available: /mnt/CIL_integration/menu_results_AR6_bc39_diag/agriculture_clipped/2080/unmasked/\n",
      "remaining combos: 5\n",
      "=========================================================\n",
      "('agriculture_clipped', 2080, 'euler_gwr', 'equity', 6, 39, 2.0)\n",
      "\n",
      " Executing Running equity class with the following parameters: \n",
      "Sector: agriculture_clipped \n",
      "Path to damages: /shares/gcp/integration/float32/input_data_histclim/ag_data/v0.0_ag_histclim-delta_clipped.zarr \n",
      "Menu recipe: equity \n",
      "Damages delta: delta_reallocation \n",
      "Discount level: global \n",
      "Discount type: euler_gwr \n",
      "Damage function path: None \n",
      "\n",
      "\n",
      "Processing damage functions ...\n",
      "Existing damage functions not found. Damage points will be loaded.\n",
      "Risk-aversion CEs found at /shares/gcp/integration/CE_library_epa_vsl_bc39/agriculture_clipped//risk_aversion_ce_no_cc_eta2.0.zarr. These are being loaded...\n"
     ]
    },
    {
     "name": "stderr",
     "output_type": "stream",
     "text": [
      "/home/liruixue/miniconda3/envs/dscim/lib/python3.8/site-packages/dask/array/core.py:4402: PerformanceWarning: Increasing number of chunks by factor of 18\n",
      "  result = blockwise(\n",
      "/home/liruixue/miniconda3/envs/dscim/lib/python3.8/site-packages/dask/core.py:121: RuntimeWarning: invalid value encountered in true_divide\n",
      "  return func(*(_execute_task(a, cache) for a in args))\n"
     ]
    },
    {
     "name": "stdout",
     "output_type": "stream",
     "text": [
      "Risk-aversion CEs found at /shares/gcp/integration/CE_library_epa_vsl_bc39/agriculture_clipped//risk_aversion_ce_cc_eta2.0.zarr. These are being loaded...\n"
     ]
    },
    {
     "name": "stderr",
     "output_type": "stream",
     "text": [
      "/home/liruixue/miniconda3/envs/dscim/lib/python3.8/site-packages/dask/array/core.py:4402: PerformanceWarning: Increasing number of chunks by factor of 18\n",
      "  result = blockwise(\n",
      "/home/liruixue/miniconda3/envs/dscim/lib/python3.8/site-packages/dask/core.py:121: RuntimeWarning: invalid value encountered in true_divide\n",
      "  return func(*(_execute_task(a, cache) for a in args))\n",
      "/home/liruixue/miniconda3/envs/dscim/lib/python3.8/site-packages/dask/core.py:121: RuntimeWarning: invalid value encountered in true_divide\n",
      "  return func(*(_execute_task(a, cache) for a in args))\n"
     ]
    },
    {
     "name": "stdout",
     "output_type": "stream",
     "text": [
      "Saving /mnt/CIL_integration/menu_results_AR6_bc39_diag/agriculture_clipped/2080/unmasked/equity_euler_gwr_eta2.0_rho0.0_damage_function_points.csv\n",
      "Extrapolating global consumption.\n"
     ]
    },
    {
     "name": "stderr",
     "output_type": "stream",
     "text": [
      "/home/liruixue/miniconda3/envs/dscim/lib/python3.8/site-packages/dask/core.py:121: RuntimeWarning: invalid value encountered in true_divide\n",
      "  return func(*(_execute_task(a, cache) for a in args))\n",
      "/home/liruixue/miniconda3/envs/dscim/lib/python3.8/site-packages/dask/core.py:121: RuntimeWarning: invalid value encountered in true_divide\n",
      "  return func(*(_execute_task(a, cache) for a in args))\n",
      "/home/liruixue/miniconda3/envs/dscim/lib/python3.8/site-packages/dask/core.py:121: RuntimeWarning: invalid value encountered in true_divide\n",
      "  return func(*(_execute_task(a, cache) for a in args))\n",
      "/home/liruixue/miniconda3/envs/dscim/lib/python3.8/site-packages/dask/core.py:121: RuntimeWarning: invalid value encountered in true_divide\n",
      "  return func(*(_execute_task(a, cache) for a in args))\n",
      "/home/liruixue/miniconda3/envs/dscim/lib/python3.8/site-packages/dask/core.py:121: RuntimeWarning: invalid value encountered in true_divide\n",
      "  return func(*(_execute_task(a, cache) for a in args))\n",
      "/home/liruixue/miniconda3/envs/dscim/lib/python3.8/site-packages/dask/core.py:121: RuntimeWarning: invalid value encountered in true_divide\n",
      "  return func(*(_execute_task(a, cache) for a in args))\n",
      "/home/liruixue/miniconda3/envs/dscim/lib/python3.8/site-packages/dask/core.py:121: RuntimeWarning: invalid value encountered in true_divide\n",
      "  return func(*(_execute_task(a, cache) for a in args))\n",
      "/home/liruixue/miniconda3/envs/dscim/lib/python3.8/site-packages/dask/core.py:121: RuntimeWarning: invalid value encountered in true_divide\n",
      "  return func(*(_execute_task(a, cache) for a in args))\n",
      "/home/liruixue/miniconda3/envs/dscim/lib/python3.8/site-packages/dask/core.py:121: RuntimeWarning: invalid value encountered in true_divide\n",
      "  return func(*(_execute_task(a, cache) for a in args))\n"
     ]
    },
    {
     "name": "stdout",
     "output_type": "stream",
     "text": [
      "Saving /mnt/CIL_integration/menu_results_AR6_bc39_diag/agriculture_clipped/2080/unmasked/equity_euler_gwr_eta2.0_rho0.0_global_consumption.nc4\n"
     ]
    },
    {
     "name": "stderr",
     "output_type": "stream",
     "text": [
      "/home/liruixue/miniconda3/envs/dscim/lib/python3.8/site-packages/dask/core.py:121: RuntimeWarning: invalid value encountered in true_divide\n",
      "  return func(*(_execute_task(a, cache) for a in args))\n",
      "/home/liruixue/miniconda3/envs/dscim/lib/python3.8/site-packages/dask/core.py:121: RuntimeWarning: invalid value encountered in true_divide\n",
      "  return func(*(_execute_task(a, cache) for a in args))\n"
     ]
    },
    {
     "name": "stdout",
     "output_type": "stream",
     "text": [
      "Saving /mnt/CIL_integration/menu_results_AR6_bc39_diag/agriculture_clipped/2080/unmasked/equity_euler_gwr_eta2.0_rho0.0_damage_function_coefficients.nc4\n",
      "Results available: /mnt/CIL_integration/menu_results_AR6_bc39_diag/agriculture_clipped/2080/unmasked/\n",
      "remaining combos: 4\n",
      "=========================================================\n",
      "('agriculture_clipped', 2080, 'euler_gwr', 'equity', 6, 39, 1.016010255)\n"
     ]
    },
    {
     "name": "stderr",
     "output_type": "stream",
     "text": [
      "/home/liruixue/miniconda3/envs/dscim/lib/python3.8/site-packages/dask/core.py:121: RuntimeWarning: invalid value encountered in true_divide\n",
      "  return func(*(_execute_task(a, cache) for a in args))\n"
     ]
    },
    {
     "name": "stdout",
     "output_type": "stream",
     "text": [
      "\n",
      " Executing Running equity class with the following parameters: \n",
      "Sector: agriculture_clipped \n",
      "Path to damages: /shares/gcp/integration/float32/input_data_histclim/ag_data/v0.0_ag_histclim-delta_clipped.zarr \n",
      "Menu recipe: equity \n",
      "Damages delta: delta_reallocation \n",
      "Discount level: global \n",
      "Discount type: euler_gwr \n",
      "Damage function path: None \n",
      "\n",
      "\n",
      "Processing damage functions ...\n",
      "Existing damage functions not found. Damage points will be loaded.\n",
      "Risk-aversion CEs found at /shares/gcp/integration/CE_library_epa_vsl_bc39/agriculture_clipped//risk_aversion_ce_no_cc_eta1.016010255.zarr. These are being loaded...\n"
     ]
    },
    {
     "name": "stderr",
     "output_type": "stream",
     "text": [
      "/home/liruixue/miniconda3/envs/dscim/lib/python3.8/site-packages/dask/array/core.py:4402: PerformanceWarning: Increasing number of chunks by factor of 18\n",
      "  result = blockwise(\n",
      "/home/liruixue/miniconda3/envs/dscim/lib/python3.8/site-packages/dask/core.py:121: RuntimeWarning: invalid value encountered in true_divide\n",
      "  return func(*(_execute_task(a, cache) for a in args))\n"
     ]
    },
    {
     "name": "stdout",
     "output_type": "stream",
     "text": [
      "Risk-aversion CEs found at /shares/gcp/integration/CE_library_epa_vsl_bc39/agriculture_clipped//risk_aversion_ce_cc_eta1.016010255.zarr. These are being loaded...\n"
     ]
    },
    {
     "name": "stderr",
     "output_type": "stream",
     "text": [
      "/home/liruixue/miniconda3/envs/dscim/lib/python3.8/site-packages/dask/array/core.py:4402: PerformanceWarning: Increasing number of chunks by factor of 18\n",
      "  result = blockwise(\n",
      "/home/liruixue/miniconda3/envs/dscim/lib/python3.8/site-packages/dask/core.py:121: RuntimeWarning: invalid value encountered in true_divide\n",
      "  return func(*(_execute_task(a, cache) for a in args))\n",
      "/home/liruixue/miniconda3/envs/dscim/lib/python3.8/site-packages/dask/core.py:121: RuntimeWarning: invalid value encountered in true_divide\n",
      "  return func(*(_execute_task(a, cache) for a in args))\n"
     ]
    },
    {
     "name": "stdout",
     "output_type": "stream",
     "text": [
      "Saving /mnt/CIL_integration/menu_results_AR6_bc39_diag/agriculture_clipped/2080/unmasked/equity_euler_gwr_eta1.016010255_rho9.149608e-05_damage_function_points.csv\n",
      "Extrapolating global consumption.\n"
     ]
    },
    {
     "name": "stderr",
     "output_type": "stream",
     "text": [
      "/home/liruixue/miniconda3/envs/dscim/lib/python3.8/site-packages/dask/core.py:121: RuntimeWarning: invalid value encountered in true_divide\n",
      "  return func(*(_execute_task(a, cache) for a in args))\n",
      "/home/liruixue/miniconda3/envs/dscim/lib/python3.8/site-packages/dask/core.py:121: RuntimeWarning: invalid value encountered in true_divide\n",
      "  return func(*(_execute_task(a, cache) for a in args))\n",
      "/home/liruixue/miniconda3/envs/dscim/lib/python3.8/site-packages/dask/core.py:121: RuntimeWarning: invalid value encountered in true_divide\n",
      "  return func(*(_execute_task(a, cache) for a in args))\n",
      "/home/liruixue/miniconda3/envs/dscim/lib/python3.8/site-packages/dask/core.py:121: RuntimeWarning: invalid value encountered in true_divide\n",
      "  return func(*(_execute_task(a, cache) for a in args))\n",
      "/home/liruixue/miniconda3/envs/dscim/lib/python3.8/site-packages/dask/core.py:121: RuntimeWarning: invalid value encountered in true_divide\n",
      "  return func(*(_execute_task(a, cache) for a in args))\n",
      "/home/liruixue/miniconda3/envs/dscim/lib/python3.8/site-packages/dask/core.py:121: RuntimeWarning: invalid value encountered in true_divide\n",
      "  return func(*(_execute_task(a, cache) for a in args))\n",
      "/home/liruixue/miniconda3/envs/dscim/lib/python3.8/site-packages/dask/core.py:121: RuntimeWarning: invalid value encountered in true_divide\n",
      "  return func(*(_execute_task(a, cache) for a in args))\n",
      "/home/liruixue/miniconda3/envs/dscim/lib/python3.8/site-packages/dask/core.py:121: RuntimeWarning: invalid value encountered in true_divide\n",
      "  return func(*(_execute_task(a, cache) for a in args))\n",
      "/home/liruixue/miniconda3/envs/dscim/lib/python3.8/site-packages/dask/core.py:121: RuntimeWarning: invalid value encountered in true_divide\n",
      "  return func(*(_execute_task(a, cache) for a in args))\n"
     ]
    },
    {
     "name": "stdout",
     "output_type": "stream",
     "text": [
      "Saving /mnt/CIL_integration/menu_results_AR6_bc39_diag/agriculture_clipped/2080/unmasked/equity_euler_gwr_eta1.016010255_rho9.149608e-05_global_consumption.nc4\n"
     ]
    },
    {
     "name": "stderr",
     "output_type": "stream",
     "text": [
      "/home/liruixue/miniconda3/envs/dscim/lib/python3.8/site-packages/dask/core.py:121: RuntimeWarning: invalid value encountered in true_divide\n",
      "  return func(*(_execute_task(a, cache) for a in args))\n",
      "/home/liruixue/miniconda3/envs/dscim/lib/python3.8/site-packages/dask/core.py:121: RuntimeWarning: invalid value encountered in true_divide\n",
      "  return func(*(_execute_task(a, cache) for a in args))\n",
      "/home/liruixue/miniconda3/envs/dscim/lib/python3.8/site-packages/dask/core.py:121: RuntimeWarning: invalid value encountered in true_divide\n",
      "  return func(*(_execute_task(a, cache) for a in args))\n"
     ]
    },
    {
     "name": "stdout",
     "output_type": "stream",
     "text": [
      "Saving /mnt/CIL_integration/menu_results_AR6_bc39_diag/agriculture_clipped/2080/unmasked/equity_euler_gwr_eta1.016010255_rho9.149608e-05_damage_function_coefficients.nc4\n",
      "Results available: /mnt/CIL_integration/menu_results_AR6_bc39_diag/agriculture_clipped/2080/unmasked/\n",
      "remaining combos: 3\n",
      "=========================================================\n",
      "('agriculture_clipped', 2080, 'euler_gwr', 'equity', 6, 39, 1.244459066)\n"
     ]
    },
    {
     "name": "stderr",
     "output_type": "stream",
     "text": [
      "/home/liruixue/miniconda3/envs/dscim/lib/python3.8/site-packages/dask/core.py:121: RuntimeWarning: invalid value encountered in true_divide\n",
      "  return func(*(_execute_task(a, cache) for a in args))\n"
     ]
    },
    {
     "name": "stdout",
     "output_type": "stream",
     "text": [
      "\n",
      " Executing Running equity class with the following parameters: \n",
      "Sector: agriculture_clipped \n",
      "Path to damages: /shares/gcp/integration/float32/input_data_histclim/ag_data/v0.0_ag_histclim-delta_clipped.zarr \n",
      "Menu recipe: equity \n",
      "Damages delta: delta_reallocation \n",
      "Discount level: global \n",
      "Discount type: euler_gwr \n",
      "Damage function path: None \n",
      "\n",
      "\n",
      "Processing damage functions ...\n",
      "Existing damage functions not found. Damage points will be loaded.\n",
      "Risk-aversion CEs found at /shares/gcp/integration/CE_library_epa_vsl_bc39/agriculture_clipped//risk_aversion_ce_no_cc_eta1.244459066.zarr. These are being loaded...\n"
     ]
    },
    {
     "name": "stderr",
     "output_type": "stream",
     "text": [
      "/home/liruixue/miniconda3/envs/dscim/lib/python3.8/site-packages/dask/array/core.py:4402: PerformanceWarning: Increasing number of chunks by factor of 18\n",
      "  result = blockwise(\n",
      "/home/liruixue/miniconda3/envs/dscim/lib/python3.8/site-packages/dask/core.py:121: RuntimeWarning: invalid value encountered in true_divide\n",
      "  return func(*(_execute_task(a, cache) for a in args))\n"
     ]
    },
    {
     "name": "stdout",
     "output_type": "stream",
     "text": [
      "Risk-aversion CEs found at /shares/gcp/integration/CE_library_epa_vsl_bc39/agriculture_clipped//risk_aversion_ce_cc_eta1.244459066.zarr. These are being loaded...\n"
     ]
    },
    {
     "name": "stderr",
     "output_type": "stream",
     "text": [
      "/home/liruixue/miniconda3/envs/dscim/lib/python3.8/site-packages/dask/array/core.py:4402: PerformanceWarning: Increasing number of chunks by factor of 18\n",
      "  result = blockwise(\n",
      "/home/liruixue/miniconda3/envs/dscim/lib/python3.8/site-packages/dask/core.py:121: RuntimeWarning: invalid value encountered in true_divide\n",
      "  return func(*(_execute_task(a, cache) for a in args))\n",
      "/home/liruixue/miniconda3/envs/dscim/lib/python3.8/site-packages/dask/core.py:121: RuntimeWarning: invalid value encountered in true_divide\n",
      "  return func(*(_execute_task(a, cache) for a in args))\n"
     ]
    },
    {
     "name": "stdout",
     "output_type": "stream",
     "text": [
      "Saving /mnt/CIL_integration/menu_results_AR6_bc39_diag/agriculture_clipped/2080/unmasked/equity_euler_gwr_eta1.244459066_rho0.00197263997_damage_function_points.csv\n",
      "Extrapolating global consumption.\n"
     ]
    },
    {
     "name": "stderr",
     "output_type": "stream",
     "text": [
      "/home/liruixue/miniconda3/envs/dscim/lib/python3.8/site-packages/dask/core.py:121: RuntimeWarning: invalid value encountered in true_divide\n",
      "  return func(*(_execute_task(a, cache) for a in args))\n",
      "/home/liruixue/miniconda3/envs/dscim/lib/python3.8/site-packages/dask/core.py:121: RuntimeWarning: invalid value encountered in true_divide\n",
      "  return func(*(_execute_task(a, cache) for a in args))\n",
      "/home/liruixue/miniconda3/envs/dscim/lib/python3.8/site-packages/dask/core.py:121: RuntimeWarning: invalid value encountered in true_divide\n",
      "  return func(*(_execute_task(a, cache) for a in args))\n",
      "/home/liruixue/miniconda3/envs/dscim/lib/python3.8/site-packages/dask/core.py:121: RuntimeWarning: invalid value encountered in true_divide\n",
      "  return func(*(_execute_task(a, cache) for a in args))\n",
      "/home/liruixue/miniconda3/envs/dscim/lib/python3.8/site-packages/dask/core.py:121: RuntimeWarning: invalid value encountered in true_divide\n",
      "  return func(*(_execute_task(a, cache) for a in args))\n",
      "/home/liruixue/miniconda3/envs/dscim/lib/python3.8/site-packages/dask/core.py:121: RuntimeWarning: invalid value encountered in true_divide\n",
      "  return func(*(_execute_task(a, cache) for a in args))\n"
     ]
    },
    {
     "name": "stdout",
     "output_type": "stream",
     "text": [
      "Saving /mnt/CIL_integration/menu_results_AR6_bc39_diag/agriculture_clipped/2080/unmasked/equity_euler_gwr_eta1.244459066_rho0.00197263997_global_consumption.nc4\n"
     ]
    },
    {
     "name": "stderr",
     "output_type": "stream",
     "text": [
      "/home/liruixue/miniconda3/envs/dscim/lib/python3.8/site-packages/dask/core.py:121: RuntimeWarning: invalid value encountered in true_divide\n",
      "  return func(*(_execute_task(a, cache) for a in args))\n",
      "/home/liruixue/miniconda3/envs/dscim/lib/python3.8/site-packages/dask/core.py:121: RuntimeWarning: invalid value encountered in true_divide\n",
      "  return func(*(_execute_task(a, cache) for a in args))\n",
      "/home/liruixue/miniconda3/envs/dscim/lib/python3.8/site-packages/dask/core.py:121: RuntimeWarning: invalid value encountered in true_divide\n",
      "  return func(*(_execute_task(a, cache) for a in args))\n"
     ]
    },
    {
     "name": "stdout",
     "output_type": "stream",
     "text": [
      "Saving /mnt/CIL_integration/menu_results_AR6_bc39_diag/agriculture_clipped/2080/unmasked/equity_euler_gwr_eta1.244459066_rho0.00197263997_damage_function_coefficients.nc4\n",
      "Results available: /mnt/CIL_integration/menu_results_AR6_bc39_diag/agriculture_clipped/2080/unmasked/\n",
      "remaining combos: 2\n",
      "=========================================================\n",
      "('agriculture_clipped', 2080, 'euler_gwr', 'equity', 6, 39, 1.421158116)\n"
     ]
    },
    {
     "name": "stderr",
     "output_type": "stream",
     "text": [
      "/home/liruixue/miniconda3/envs/dscim/lib/python3.8/site-packages/dask/core.py:121: RuntimeWarning: invalid value encountered in true_divide\n",
      "  return func(*(_execute_task(a, cache) for a in args))\n"
     ]
    },
    {
     "name": "stdout",
     "output_type": "stream",
     "text": [
      "\n",
      " Executing Running equity class with the following parameters: \n",
      "Sector: agriculture_clipped \n",
      "Path to damages: /shares/gcp/integration/float32/input_data_histclim/ag_data/v0.0_ag_histclim-delta_clipped.zarr \n",
      "Menu recipe: equity \n",
      "Damages delta: delta_reallocation \n",
      "Discount level: global \n",
      "Discount type: euler_gwr \n",
      "Damage function path: None \n",
      "\n",
      "\n",
      "Processing damage functions ...\n",
      "Existing damage functions not found. Damage points will be loaded.\n",
      "Risk-aversion CEs found at /shares/gcp/integration/CE_library_epa_vsl_bc39/agriculture_clipped//risk_aversion_ce_no_cc_eta1.421158116.zarr. These are being loaded...\n"
     ]
    },
    {
     "name": "stderr",
     "output_type": "stream",
     "text": [
      "/home/liruixue/miniconda3/envs/dscim/lib/python3.8/site-packages/dask/array/core.py:4402: PerformanceWarning: Increasing number of chunks by factor of 18\n",
      "  result = blockwise(\n",
      "/home/liruixue/miniconda3/envs/dscim/lib/python3.8/site-packages/dask/core.py:121: RuntimeWarning: invalid value encountered in true_divide\n",
      "  return func(*(_execute_task(a, cache) for a in args))\n"
     ]
    },
    {
     "name": "stdout",
     "output_type": "stream",
     "text": [
      "Risk-aversion CEs found at /shares/gcp/integration/CE_library_epa_vsl_bc39/agriculture_clipped//risk_aversion_ce_cc_eta1.421158116.zarr. These are being loaded...\n"
     ]
    },
    {
     "name": "stderr",
     "output_type": "stream",
     "text": [
      "/home/liruixue/miniconda3/envs/dscim/lib/python3.8/site-packages/dask/array/core.py:4402: PerformanceWarning: Increasing number of chunks by factor of 18\n",
      "  result = blockwise(\n",
      "/home/liruixue/miniconda3/envs/dscim/lib/python3.8/site-packages/dask/core.py:121: RuntimeWarning: invalid value encountered in true_divide\n",
      "  return func(*(_execute_task(a, cache) for a in args))\n",
      "/home/liruixue/miniconda3/envs/dscim/lib/python3.8/site-packages/dask/core.py:121: RuntimeWarning: invalid value encountered in true_divide\n",
      "  return func(*(_execute_task(a, cache) for a in args))\n"
     ]
    },
    {
     "name": "stdout",
     "output_type": "stream",
     "text": [
      "Saving /mnt/CIL_integration/menu_results_AR6_bc39_diag/agriculture_clipped/2080/unmasked/equity_euler_gwr_eta1.421158116_rho0.00461878399_damage_function_points.csv\n",
      "Extrapolating global consumption.\n"
     ]
    },
    {
     "name": "stderr",
     "output_type": "stream",
     "text": [
      "/home/liruixue/miniconda3/envs/dscim/lib/python3.8/site-packages/dask/core.py:121: RuntimeWarning: invalid value encountered in true_divide\n",
      "  return func(*(_execute_task(a, cache) for a in args))\n",
      "/home/liruixue/miniconda3/envs/dscim/lib/python3.8/site-packages/dask/core.py:121: RuntimeWarning: invalid value encountered in true_divide\n",
      "  return func(*(_execute_task(a, cache) for a in args))\n",
      "/home/liruixue/miniconda3/envs/dscim/lib/python3.8/site-packages/dask/core.py:121: RuntimeWarning: invalid value encountered in true_divide\n",
      "  return func(*(_execute_task(a, cache) for a in args))\n",
      "/home/liruixue/miniconda3/envs/dscim/lib/python3.8/site-packages/dask/core.py:121: RuntimeWarning: invalid value encountered in true_divide\n",
      "  return func(*(_execute_task(a, cache) for a in args))\n",
      "/home/liruixue/miniconda3/envs/dscim/lib/python3.8/site-packages/dask/core.py:121: RuntimeWarning: invalid value encountered in true_divide\n",
      "  return func(*(_execute_task(a, cache) for a in args))\n",
      "/home/liruixue/miniconda3/envs/dscim/lib/python3.8/site-packages/dask/core.py:121: RuntimeWarning: invalid value encountered in true_divide\n",
      "  return func(*(_execute_task(a, cache) for a in args))\n",
      "/home/liruixue/miniconda3/envs/dscim/lib/python3.8/site-packages/dask/core.py:121: RuntimeWarning: invalid value encountered in true_divide\n",
      "  return func(*(_execute_task(a, cache) for a in args))\n"
     ]
    },
    {
     "name": "stdout",
     "output_type": "stream",
     "text": [
      "Saving /mnt/CIL_integration/menu_results_AR6_bc39_diag/agriculture_clipped/2080/unmasked/equity_euler_gwr_eta1.421158116_rho0.00461878399_global_consumption.nc4\n"
     ]
    },
    {
     "name": "stderr",
     "output_type": "stream",
     "text": [
      "/home/liruixue/miniconda3/envs/dscim/lib/python3.8/site-packages/dask/core.py:121: RuntimeWarning: invalid value encountered in true_divide\n",
      "  return func(*(_execute_task(a, cache) for a in args))\n",
      "/home/liruixue/miniconda3/envs/dscim/lib/python3.8/site-packages/dask/core.py:121: RuntimeWarning: invalid value encountered in true_divide\n",
      "  return func(*(_execute_task(a, cache) for a in args))\n"
     ]
    },
    {
     "name": "stdout",
     "output_type": "stream",
     "text": [
      "Saving /mnt/CIL_integration/menu_results_AR6_bc39_diag/agriculture_clipped/2080/unmasked/equity_euler_gwr_eta1.421158116_rho0.00461878399_damage_function_coefficients.nc4\n",
      "Results available: /mnt/CIL_integration/menu_results_AR6_bc39_diag/agriculture_clipped/2080/unmasked/\n",
      "remaining combos: 1\n",
      "=========================================================\n",
      "('agriculture_clipped', 2080, 'euler_gwr', 'equity', 6, 39, 1.567899395)\n"
     ]
    },
    {
     "name": "stderr",
     "output_type": "stream",
     "text": [
      "/home/liruixue/miniconda3/envs/dscim/lib/python3.8/site-packages/dask/core.py:121: RuntimeWarning: invalid value encountered in true_divide\n",
      "  return func(*(_execute_task(a, cache) for a in args))\n"
     ]
    },
    {
     "name": "stdout",
     "output_type": "stream",
     "text": [
      "\n",
      " Executing Running equity class with the following parameters: \n",
      "Sector: agriculture_clipped \n",
      "Path to damages: /shares/gcp/integration/float32/input_data_histclim/ag_data/v0.0_ag_histclim-delta_clipped.zarr \n",
      "Menu recipe: equity \n",
      "Damages delta: delta_reallocation \n",
      "Discount level: global \n",
      "Discount type: euler_gwr \n",
      "Damage function path: None \n",
      "\n",
      "\n",
      "Processing damage functions ...\n",
      "Existing damage functions not found. Damage points will be loaded.\n",
      "Risk-aversion CEs found at /shares/gcp/integration/CE_library_epa_vsl_bc39/agriculture_clipped//risk_aversion_ce_no_cc_eta1.567899395.zarr. These are being loaded...\n"
     ]
    },
    {
     "name": "stderr",
     "output_type": "stream",
     "text": [
      "/home/liruixue/miniconda3/envs/dscim/lib/python3.8/site-packages/dask/array/core.py:4402: PerformanceWarning: Increasing number of chunks by factor of 18\n",
      "  result = blockwise(\n",
      "/home/liruixue/miniconda3/envs/dscim/lib/python3.8/site-packages/dask/core.py:121: RuntimeWarning: invalid value encountered in true_divide\n",
      "  return func(*(_execute_task(a, cache) for a in args))\n"
     ]
    },
    {
     "name": "stdout",
     "output_type": "stream",
     "text": [
      "Risk-aversion CEs found at /shares/gcp/integration/CE_library_epa_vsl_bc39/agriculture_clipped//risk_aversion_ce_cc_eta1.567899395.zarr. These are being loaded...\n"
     ]
    },
    {
     "name": "stderr",
     "output_type": "stream",
     "text": [
      "/home/liruixue/miniconda3/envs/dscim/lib/python3.8/site-packages/dask/array/core.py:4402: PerformanceWarning: Increasing number of chunks by factor of 18\n",
      "  result = blockwise(\n",
      "/home/liruixue/miniconda3/envs/dscim/lib/python3.8/site-packages/dask/core.py:121: RuntimeWarning: invalid value encountered in true_divide\n",
      "  return func(*(_execute_task(a, cache) for a in args))\n",
      "/home/liruixue/miniconda3/envs/dscim/lib/python3.8/site-packages/dask/core.py:121: RuntimeWarning: invalid value encountered in true_divide\n",
      "  return func(*(_execute_task(a, cache) for a in args))\n"
     ]
    },
    {
     "name": "stdout",
     "output_type": "stream",
     "text": [
      "Saving /mnt/CIL_integration/menu_results_AR6_bc39_diag/agriculture_clipped/2080/unmasked/equity_euler_gwr_eta1.567899395_rho0.00770271076_damage_function_points.csv\n",
      "Extrapolating global consumption.\n"
     ]
    },
    {
     "name": "stderr",
     "output_type": "stream",
     "text": [
      "/home/liruixue/miniconda3/envs/dscim/lib/python3.8/site-packages/dask/core.py:121: RuntimeWarning: invalid value encountered in true_divide\n",
      "  return func(*(_execute_task(a, cache) for a in args))\n",
      "/home/liruixue/miniconda3/envs/dscim/lib/python3.8/site-packages/dask/core.py:121: RuntimeWarning: invalid value encountered in true_divide\n",
      "  return func(*(_execute_task(a, cache) for a in args))\n",
      "/home/liruixue/miniconda3/envs/dscim/lib/python3.8/site-packages/dask/core.py:121: RuntimeWarning: invalid value encountered in true_divide\n",
      "  return func(*(_execute_task(a, cache) for a in args))\n",
      "/home/liruixue/miniconda3/envs/dscim/lib/python3.8/site-packages/dask/core.py:121: RuntimeWarning: invalid value encountered in true_divide\n",
      "  return func(*(_execute_task(a, cache) for a in args))\n",
      "/home/liruixue/miniconda3/envs/dscim/lib/python3.8/site-packages/dask/core.py:121: RuntimeWarning: invalid value encountered in true_divide\n",
      "  return func(*(_execute_task(a, cache) for a in args))\n"
     ]
    },
    {
     "name": "stdout",
     "output_type": "stream",
     "text": [
      "Saving /mnt/CIL_integration/menu_results_AR6_bc39_diag/agriculture_clipped/2080/unmasked/equity_euler_gwr_eta1.567899395_rho0.00770271076_global_consumption.nc4\n"
     ]
    },
    {
     "name": "stderr",
     "output_type": "stream",
     "text": [
      "/home/liruixue/miniconda3/envs/dscim/lib/python3.8/site-packages/dask/core.py:121: RuntimeWarning: invalid value encountered in true_divide\n",
      "  return func(*(_execute_task(a, cache) for a in args))\n",
      "/home/liruixue/miniconda3/envs/dscim/lib/python3.8/site-packages/dask/core.py:121: RuntimeWarning: invalid value encountered in true_divide\n",
      "  return func(*(_execute_task(a, cache) for a in args))\n"
     ]
    },
    {
     "name": "stdout",
     "output_type": "stream",
     "text": [
      "Saving /mnt/CIL_integration/menu_results_AR6_bc39_diag/agriculture_clipped/2080/unmasked/equity_euler_gwr_eta1.567899395_rho0.00770271076_damage_function_coefficients.nc4\n",
      "Results available: /mnt/CIL_integration/menu_results_AR6_bc39_diag/agriculture_clipped/2080/unmasked/\n",
      "remaining combos: 0\n"
     ]
    },
    {
     "name": "stderr",
     "output_type": "stream",
     "text": [
      "/home/liruixue/miniconda3/envs/dscim/lib/python3.8/site-packages/dask/core.py:121: RuntimeWarning: invalid value encountered in true_divide\n",
      "  return func(*(_execute_task(a, cache) for a in args))\n"
     ]
    }
   ],
   "source": [
    "n_combos = len(combos)\n",
    "\n",
    "while n_combos > 0: \n",
    "    combo = combos[0]\n",
    "    print(\"=========================================================\")\n",
    "    print(combo)\n",
    "    sector = combo[0]\n",
    "    pulse_year = combo[1]\n",
    "    discount_type = combo[2]\n",
    "    menu_option = combo[3]\n",
    "    AR = combo[4]\n",
    "    bc = combo[5]\n",
    "    eta = combo[6]\n",
    "    w = ProWaiter(path_to_config=f'/home/{username}/repos/integration/configs/epa_tool_config-histclim_AR{AR}.yaml')\n",
    "    kwargs = {'discounting_type' : discount_type,\n",
    "              'sector': sector,\n",
    "              'ce_path' : f'/shares/gcp/integration/CE_library_epa_vsl_bc{bc}/{sector}/',\n",
    "              'save_path' : f'/mnt/CIL_integration/menu_results_AR{AR}_bc{bc}_diag/{sector}/{pulse_year}/unmasked/',\n",
    "#               'damage_function_path' : f\"/mnt/CIL_integration/menu_results_AR6_bc39_epa_vsl_continuous/{sector}/2020/unmasked\",\n",
    "              'weitzman_parameter' : weitzman_values,\n",
    "              'pulse_year' : pulse_year,\n",
    "              'eta': eta,\n",
    "              'rho': eta_rhos[eta]\n",
    "             }\n",
    "    \n",
    "    if bc == 39:\n",
    "        kwargs.update({'cons_clip': 39.39265060424805})\n",
    "        \n",
    "    menu_item = w.menu_factory(menu_key=menu_option,\n",
    "                                           sector=sector,\n",
    "                                           kwargs=kwargs\n",
    "                                          )\n",
    "    menu_item.order_plate('damage_function')   \n",
    "    \n",
    "    combos.remove(combo)\n",
    "    n_combos = len(combos)\n",
    "    print(f\"remaining combos: {n_combos}\")\n"
   ]
  },
  {
   "cell_type": "code",
   "execution_count": null,
   "metadata": {},
   "outputs": [],
   "source": []
  },
  {
   "cell_type": "code",
   "execution_count": null,
   "metadata": {},
   "outputs": [],
   "source": []
  }
 ],
 "metadata": {
  "kernelspec": {
   "display_name": "Python 3 (ipykernel)",
   "language": "python",
   "name": "python3"
  },
  "language_info": {
   "codemirror_mode": {
    "name": "ipython",
    "version": 3
   },
   "file_extension": ".py",
   "mimetype": "text/x-python",
   "name": "python",
   "nbconvert_exporter": "python",
   "pygments_lexer": "ipython3",
   "version": "3.8.0"
  }
 },
 "nbformat": 4,
 "nbformat_minor": 4
}
