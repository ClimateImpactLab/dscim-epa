{
 "cells": [
  {
   "cell_type": "code",
   "execution_count": null,
   "id": "3160fe66-1b11-4140-8c6e-f93b50ee3254",
   "metadata": {
    "tags": []
   },
   "outputs": [],
   "source": [
    "import xarray as xr\n",
    "import pandas as pd\n",
    "import numpy as np\n",
    "from p_tqdm import p_map\n",
    "from itertools import product\n",
    "import os\n",
    "from pathlib import Path"
   ]
  },
  {
   "cell_type": "code",
   "execution_count": null,
   "id": "6d9989f6-a4c6-480d-bc6d-993377402373",
   "metadata": {
    "tags": []
   },
   "outputs": [],
   "source": [
    "def resave_file(recipe, disc, eta, rho, mask_name, mask_var, sector,itr = \"0-19\", year=2020):\n",
    "\n",
    "    ds = xr.open_dataset(\n",
    "        f'/mnt/CIL_integration/rff3_with_disc_factors/iter{itr}/{sector}/{year}/unmasked_None/{recipe}_{disc}_eta{eta}_rho{rho}_uncollapsed_sccs.nc4'\n",
    "    )\n",
    "\n",
    "    if mask_name != 'unmasked':\n",
    "        mask = xr.open_dataset(f\"/shares/gcp/integration/rff/climate/masks/CO2_Fossil/{mask_name}_based_masks.nc4\")[mask_var]\n",
    "        ds = ds.where(mask, drop=True)\n",
    "    else:\n",
    "        mask_name = \"unmasked\"\n",
    "        mask_var = \"None\"\n",
    "\n",
    "    # mask and put back together\n",
    "    outpath =  f\"/mnt/CIL_integration/rff3_expost_mask/iter{itr}/{sector}/{year}/{mask_name}_{mask_var}/\"\n",
    "    p = Path(outpath)\n",
    "    p.mkdir(parents=True, exist_ok=True)\n",
    "#     os.mkdir(outpath, exist_ok = True)\n",
    "    print(f\"{outpath}/{recipe}_{disc}_eta{eta}_rho{rho}_uncollapsed_sccs.nc4\")\n",
    "    ds.to_netcdf(f\"{outpath}/{recipe}_{disc}_eta{eta}_rho{rho}_uncollapsed_sccs.nc4\")\n",
    "    return ds\n"
   ]
  },
  {
   "cell_type": "code",
   "execution_count": null,
   "id": "16079382-c9d7-448c-83aa-993ccf70dd49",
   "metadata": {
    "tags": []
   },
   "outputs": [],
   "source": [
    "recipes = ['adding_up', 'risk_aversion']\n",
    "discs = ['constant', 'euler_ramsey']\n",
    "iterations = \"0-19\"\n",
    "# sectors = ['AMEL_clipped', \"mortality_clipped\", \"energy_clipped\", \"agriculture_clipped\", \"labor_clipped\"]\n",
    "sectors = [\"coastal\", \"CAMEL_clipped\"]\n",
    "mask_names = [\"unmasked\", \"climate\",\"emissions\",\"gdppc\",\"gdppc_emissions\",\"gdppc_emissions_climate\"]\n",
    "\n",
    "mask_vars =[ f'q{i[0]}_q{i[1]}' for i in [\n",
    "    [0.001, 0.999],\n",
    "    [0.005, 0.995],\n",
    "    [0.01, 0.99],\n",
    "    [0.05, 0.95],\n",
    "]]\n",
    "\n",
    "years = range(2020,2081,10)\n",
    "etas = [1.016010255, 1.244459066, 1.421158116, 1.567899395]\n",
    "eta_rhos = {\n",
    "    1.016010255 : 9.149608e-05,\n",
    "    1.244459066 : 0.00197263997,\n",
    "    1.421158116 : 0.00461878399,\n",
    "    1.567899395 : 0.00770271076\n",
    "}"
   ]
  },
  {
   "cell_type": "code",
   "execution_count": null,
   "id": "4ee709c4-fbad-44b8-a7f1-fe48945f6f1f",
   "metadata": {},
   "outputs": [],
   "source": [
    "mask_vars"
   ]
  },
  {
   "cell_type": "code",
   "execution_count": null,
   "id": "6842ae14-11f1-4e96-9106-87fb45c67ecc",
   "metadata": {
    "tags": []
   },
   "outputs": [],
   "source": [
    "# datasets = []\n",
    "# d = resave_file(\"adding_up\", \"constant\", \"2.0\", \"0.0\", \"emissions\", \"q0.01_q0.99\", \"AMEL_clipped\",itr = \"0-19\", year=2020)\n",
    "\n",
    "for r,d,m,v,e,s,y in product(recipes, discs, mask_names, mask_vars, etas, sectors,years):\n",
    "    print(r,d,m,v,e,s,y)\n",
    "    resave_file(r, d, e, eta_rhos[e], m, v, s,year = y)\n"
   ]
  },
  {
   "cell_type": "code",
   "execution_count": null,
   "id": "af4caba5-0886-47ee-88fc-d52d24319e9e",
   "metadata": {},
   "outputs": [],
   "source": []
  }
 ],
 "metadata": {
  "kernelspec": {
   "display_name": "Python 3 (ipykernel)",
   "language": "python",
   "name": "python3"
  },
  "language_info": {
   "codemirror_mode": {
    "name": "ipython",
    "version": 3
   },
   "file_extension": ".py",
   "mimetype": "text/x-python",
   "name": "python",
   "nbconvert_exporter": "python",
   "pygments_lexer": "ipython3",
   "version": "3.8.0"
  }
 },
 "nbformat": 4,
 "nbformat_minor": 5
}
