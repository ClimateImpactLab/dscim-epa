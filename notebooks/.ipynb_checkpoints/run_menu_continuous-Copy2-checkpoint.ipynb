{
 "cells": [
  {
   "cell_type": "code",
   "execution_count": 3,
   "metadata": {
    "tags": []
   },
   "outputs": [],
   "source": [
    "import os, gc, time\n",
    "username = os.getenv('USER')\n",
    "import numpy as np\n",
    "import pandas as pd\n",
    "import xarray as xr\n",
    "\n",
    "import dask\n",
    "dask.config.set(**{'array.slicing.split_large_chunks': False})\n",
    "\n",
    "from dscim import ProWaiter\n",
    "\n",
    "import seaborn as sns\n",
    "import matplotlib.pyplot as plt\n",
    "import matplotlib as mpl"
   ]
  },
  {
   "cell_type": "code",
   "execution_count": 4,
   "metadata": {
    "tags": []
   },
   "outputs": [],
   "source": [
    "discount_types = [\"euler_ramsey\", \"constant\"]\n",
    "menu_options = [\"adding_up\", \"risk_aversion\"]\n",
    "pulse_years = [2020]\n",
    "# pulse_years = range(2020, 2081, 10)\n",
    "weitzman_values = [x / 10.0 for x in range(1, 11, 1)] + [0.25, 0.01, 0.001, 0.0001]"
   ]
  },
  {
   "cell_type": "code",
   "execution_count": 6,
   "metadata": {
    "tags": []
   },
   "outputs": [],
   "source": [
    "sectors = [\"agriculture\"]\n",
    "# sectors = [\"CAMEL\"]\n",
    "AR_list = [6]\n",
    "eta_rhos = { \n",
    "    2.0:0.0,\n",
    "    1.016010255 : 9.149608e-05,\n",
    "    1.244459066 : 0.00197263997,\n",
    "    1.421158116 : 0.00461878399,\n",
    "    1.567899395 : 0.00770271076\n",
    "}\n",
    "combos = [(s, p, d, m, ar, eta) \n",
    "          for p in pulse_years\n",
    "          for s in sectors  \n",
    "          for d in discount_types \n",
    "          for m in menu_options\n",
    "          for ar in AR_list\n",
    "          for eta in eta_rhos.keys()]"
   ]
  },
  {
   "cell_type": "code",
   "execution_count": null,
   "metadata": {
    "tags": []
   },
   "outputs": [
    {
     "name": "stdout",
     "output_type": "stream",
     "text": [
      "=========================================================\n",
      "('mortality', 2020, 'euler_ramsey', 'adding_up', 6, 2.0)\n",
      "\n",
      " Executing \n",
      "        Running adding_up\n",
      "        sector: mortality\n",
      "        discounting: euler_ramsey\n",
      "        eta: 2.0\n",
      "        rho: 0.0\n",
      "        \n",
      "Processing damage functions ...\n",
      "Existing damage functions not found. Damage points will be loaded.\n",
      "Adding up aggregated damages found at /shares/gcp/integration/CE_library_epa_vsl_bc39/mortality//adding_up_ce_cc_eta2.0.zarr, /shares/gcp/integration/CE_library_epa_vsl_bc39/mortality//adding_up_ce_no_cc_eta2.0.zarr. These are being loaded...\n",
      "Subsetting on {'ssp': ['SSP2', 'SSP3', 'SSP4']} keys.\n",
      "Subsetting on {'ssp': ['SSP2', 'SSP3', 'SSP4']} keys.\n",
      "Saving /mnt/CIL_integration/menu_results_AR6_epa/mortality/2020/unmasked/adding_up_euler_ramsey_eta2.0_rho0.0_damage_function_points.csv\n",
      "Subsetting on {'ssp': ['SSP2', 'SSP3', 'SSP4']} keys.\n",
      "Extrapolating global consumption.\n",
      "End-of-century growth rates are not capped.\n",
      "Skipped saving global_consumption.\n",
      "Saving /mnt/CIL_integration/menu_results_AR6_epa/mortality/2020/unmasked/adding_up_euler_ramsey_eta2.0_rho0.0_damage_function_coefficients.nc4\n",
      "Saving /mnt/CIL_integration/menu_results_AR6_epa/mortality/2020/unmasked/adding_up_euler_ramsey_eta2.0_rho0.0_damage_function_fit.nc4\n",
      "Processing SCC calculation ...\n",
      "Saving /mnt/CIL_integration/menu_results_AR6_epa/mortality/2020/unmasked/adding_up_euler_ramsey_eta2.0_rho0.0_damage_function_coefficients.nc4\n",
      "Skipped saving ce_fair_no_pulse.\n",
      "Saving /mnt/CIL_integration/menu_results_AR6_epa/mortality/2020/unmasked/adding_up_euler_ramsey_eta2.0_rho0.0_damage_function_coefficients.nc4\n"
     ]
    },
    {
     "name": "stderr",
     "output_type": "stream",
     "text": [
      "/home/liruixue/repos/integration/dscim/menu/main_recipe.py:1174: FutureWarning: xarray.ufuncs is deprecated. Instead, use numpy ufuncs directly.\n",
      "  rhos = xr.ufuncs.expm1(xr.DataArray(self.rho, coords=[cons_pc.year]))\n",
      "/home/liruixue/miniconda3/envs/dscim/lib/python3.8/site-packages/xarray/core/dataarray.py:3061: FutureWarning: xarray.ufuncs is deprecated. Instead, use numpy ufuncs directly.\n",
      "  da = self.__array_wrap__(f(self.variable.data, *args, **kwargs))\n",
      "/home/liruixue/repos/integration/dscim/menu/main_recipe.py:1174: FutureWarning: xarray.ufuncs is deprecated. Instead, use numpy ufuncs directly.\n",
      "  rhos = xr.ufuncs.expm1(xr.DataArray(self.rho, coords=[cons_pc.year]))\n",
      "/home/liruixue/miniconda3/envs/dscim/lib/python3.8/site-packages/xarray/core/dataarray.py:3061: FutureWarning: xarray.ufuncs is deprecated. Instead, use numpy ufuncs directly.\n",
      "  da = self.__array_wrap__(f(self.variable.data, *args, **kwargs))\n",
      "/home/liruixue/repos/integration/dscim/menu/main_recipe.py:1174: FutureWarning: xarray.ufuncs is deprecated. Instead, use numpy ufuncs directly.\n",
      "  rhos = xr.ufuncs.expm1(xr.DataArray(self.rho, coords=[cons_pc.year]))\n",
      "/home/liruixue/miniconda3/envs/dscim/lib/python3.8/site-packages/xarray/core/dataarray.py:3061: FutureWarning: xarray.ufuncs is deprecated. Instead, use numpy ufuncs directly.\n",
      "  da = self.__array_wrap__(f(self.variable.data, *args, **kwargs))\n"
     ]
    },
    {
     "name": "stdout",
     "output_type": "stream",
     "text": [
      "Saving /mnt/CIL_integration/menu_results_AR6_epa/mortality/2020/unmasked/adding_up_euler_ramsey_eta2.0_rho0.0_discount_factors.nc4\n"
     ]
    },
    {
     "name": "stderr",
     "output_type": "stream",
     "text": [
      "/home/liruixue/repos/integration/dscim/menu/main_recipe.py:1174: FutureWarning: xarray.ufuncs is deprecated. Instead, use numpy ufuncs directly.\n",
      "  rhos = xr.ufuncs.expm1(xr.DataArray(self.rho, coords=[cons_pc.year]))\n",
      "/home/liruixue/miniconda3/envs/dscim/lib/python3.8/site-packages/xarray/core/dataarray.py:3061: FutureWarning: xarray.ufuncs is deprecated. Instead, use numpy ufuncs directly.\n",
      "  da = self.__array_wrap__(f(self.variable.data, *args, **kwargs))\n"
     ]
    },
    {
     "name": "stdout",
     "output_type": "stream",
     "text": [
      "Skipped saving ce_fair_no_pulse.\n",
      "Saving /mnt/CIL_integration/menu_results_AR6_epa/mortality/2020/unmasked/adding_up_euler_ramsey_eta2.0_rho0.0_damage_function_coefficients.nc4\n",
      "Skipped saving ce_fair_pulse.\n",
      "Saving /mnt/CIL_integration/menu_results_AR6_epa/mortality/2020/unmasked/adding_up_euler_ramsey_eta2.0_rho0.0_damage_function_coefficients.nc4\n",
      "Saving /mnt/CIL_integration/menu_results_AR6_epa/mortality/2020/unmasked/adding_up_euler_ramsey_eta2.0_rho0.0_damage_function_coefficients.nc4\n",
      "Saving /mnt/CIL_integration/menu_results_AR6_epa/mortality/2020/unmasked/adding_up_euler_ramsey_eta2.0_rho0.0_marginal_damages.nc4\n",
      "Skipped saving ce_fair_no_pulse.\n"
     ]
    },
    {
     "name": "stderr",
     "output_type": "stream",
     "text": [
      "/home/liruixue/repos/integration/dscim/menu/main_recipe.py:1174: FutureWarning: xarray.ufuncs is deprecated. Instead, use numpy ufuncs directly.\n",
      "  rhos = xr.ufuncs.expm1(xr.DataArray(self.rho, coords=[cons_pc.year]))\n",
      "/home/liruixue/miniconda3/envs/dscim/lib/python3.8/site-packages/xarray/core/dataarray.py:3061: FutureWarning: xarray.ufuncs is deprecated. Instead, use numpy ufuncs directly.\n",
      "  da = self.__array_wrap__(f(self.variable.data, *args, **kwargs))\n",
      "/home/liruixue/repos/integration/dscim/menu/main_recipe.py:1174: FutureWarning: xarray.ufuncs is deprecated. Instead, use numpy ufuncs directly.\n",
      "  rhos = xr.ufuncs.expm1(xr.DataArray(self.rho, coords=[cons_pc.year]))\n",
      "/home/liruixue/miniconda3/envs/dscim/lib/python3.8/site-packages/xarray/core/dataarray.py:3061: FutureWarning: xarray.ufuncs is deprecated. Instead, use numpy ufuncs directly.\n",
      "  da = self.__array_wrap__(f(self.variable.data, *args, **kwargs))\n",
      "/home/liruixue/repos/integration/dscim/menu/main_recipe.py:1174: FutureWarning: xarray.ufuncs is deprecated. Instead, use numpy ufuncs directly.\n",
      "  rhos = xr.ufuncs.expm1(xr.DataArray(self.rho, coords=[cons_pc.year]))\n",
      "/home/liruixue/miniconda3/envs/dscim/lib/python3.8/site-packages/xarray/core/dataarray.py:3061: FutureWarning: xarray.ufuncs is deprecated. Instead, use numpy ufuncs directly.\n",
      "  da = self.__array_wrap__(f(self.variable.data, *args, **kwargs))\n"
     ]
    },
    {
     "name": "stdout",
     "output_type": "stream",
     "text": [
      "Saving /mnt/CIL_integration/menu_results_AR6_epa/mortality/2020/unmasked/adding_up_euler_ramsey_eta2.0_rho0.0_damage_function_coefficients.nc4\n"
     ]
    },
    {
     "name": "stderr",
     "output_type": "stream",
     "text": [
      "/home/liruixue/repos/integration/dscim/menu/main_recipe.py:1174: FutureWarning: xarray.ufuncs is deprecated. Instead, use numpy ufuncs directly.\n",
      "  rhos = xr.ufuncs.expm1(xr.DataArray(self.rho, coords=[cons_pc.year]))\n",
      "/home/liruixue/miniconda3/envs/dscim/lib/python3.8/site-packages/xarray/core/dataarray.py:3061: FutureWarning: xarray.ufuncs is deprecated. Instead, use numpy ufuncs directly.\n",
      "  da = self.__array_wrap__(f(self.variable.data, *args, **kwargs))\n",
      "/home/liruixue/repos/integration/dscim/menu/main_recipe.py:1174: FutureWarning: xarray.ufuncs is deprecated. Instead, use numpy ufuncs directly.\n",
      "  rhos = xr.ufuncs.expm1(xr.DataArray(self.rho, coords=[cons_pc.year]))\n",
      "/home/liruixue/miniconda3/envs/dscim/lib/python3.8/site-packages/xarray/core/dataarray.py:3061: FutureWarning: xarray.ufuncs is deprecated. Instead, use numpy ufuncs directly.\n",
      "  da = self.__array_wrap__(f(self.variable.data, *args, **kwargs))\n"
     ]
    },
    {
     "name": "stdout",
     "output_type": "stream",
     "text": [
      "Saving /mnt/CIL_integration/menu_results_AR6_epa/mortality/2020/unmasked/adding_up_euler_ramsey_eta2.0_rho0.0_uncollapsed_sccs.nc4\n",
      "Saving /mnt/CIL_integration/menu_results_AR6_epa/mortality/2020/unmasked/adding_up_euler_ramsey_eta2.0_rho0.0_scc.nc4\n",
      "Results available: /mnt/CIL_integration/menu_results_AR6_epa/mortality/2020/unmasked/\n",
      "remaining combos: 79\n",
      "=========================================================\n",
      "('mortality', 2020, 'euler_ramsey', 'adding_up', 6, 1.016010255)\n",
      "\n",
      " Executing \n",
      "        Running adding_up\n",
      "        sector: mortality\n",
      "        discounting: euler_ramsey\n",
      "        eta: 1.016010255\n",
      "        rho: 9.149608e-05\n",
      "        \n",
      "Processing damage functions ...\n",
      "Existing damage functions not found. Damage points will be loaded.\n",
      "Adding up aggregated damages found at /shares/gcp/integration/CE_library_epa_vsl_bc39/mortality//adding_up_ce_cc_eta1.016010255.zarr, /shares/gcp/integration/CE_library_epa_vsl_bc39/mortality//adding_up_ce_no_cc_eta1.016010255.zarr. These are being loaded...\n",
      "Subsetting on {'ssp': ['SSP2', 'SSP3', 'SSP4']} keys.\n",
      "Subsetting on {'ssp': ['SSP2', 'SSP3', 'SSP4']} keys.\n",
      "Saving /mnt/CIL_integration/menu_results_AR6_epa/mortality/2020/unmasked/adding_up_euler_ramsey_eta1.016010255_rho9.149608e-05_damage_function_points.csv\n",
      "Subsetting on {'ssp': ['SSP2', 'SSP3', 'SSP4']} keys.\n",
      "Extrapolating global consumption.\n",
      "End-of-century growth rates are not capped.\n",
      "Skipped saving global_consumption.\n",
      "Saving /mnt/CIL_integration/menu_results_AR6_epa/mortality/2020/unmasked/adding_up_euler_ramsey_eta1.016010255_rho9.149608e-05_damage_function_coefficients.nc4\n",
      "Saving /mnt/CIL_integration/menu_results_AR6_epa/mortality/2020/unmasked/adding_up_euler_ramsey_eta1.016010255_rho9.149608e-05_damage_function_fit.nc4\n",
      "Processing SCC calculation ...\n",
      "Saving /mnt/CIL_integration/menu_results_AR6_epa/mortality/2020/unmasked/adding_up_euler_ramsey_eta1.016010255_rho9.149608e-05_damage_function_coefficients.nc4\n",
      "Skipped saving ce_fair_no_pulse.\n"
     ]
    },
    {
     "name": "stderr",
     "output_type": "stream",
     "text": [
      "/home/liruixue/repos/integration/dscim/menu/main_recipe.py:1174: FutureWarning: xarray.ufuncs is deprecated. Instead, use numpy ufuncs directly.\n",
      "  rhos = xr.ufuncs.expm1(xr.DataArray(self.rho, coords=[cons_pc.year]))\n",
      "/home/liruixue/miniconda3/envs/dscim/lib/python3.8/site-packages/xarray/core/dataarray.py:3061: FutureWarning: xarray.ufuncs is deprecated. Instead, use numpy ufuncs directly.\n",
      "  da = self.__array_wrap__(f(self.variable.data, *args, **kwargs))\n",
      "/home/liruixue/repos/integration/dscim/menu/main_recipe.py:1174: FutureWarning: xarray.ufuncs is deprecated. Instead, use numpy ufuncs directly.\n",
      "  rhos = xr.ufuncs.expm1(xr.DataArray(self.rho, coords=[cons_pc.year]))\n",
      "/home/liruixue/miniconda3/envs/dscim/lib/python3.8/site-packages/xarray/core/dataarray.py:3061: FutureWarning: xarray.ufuncs is deprecated. Instead, use numpy ufuncs directly.\n",
      "  da = self.__array_wrap__(f(self.variable.data, *args, **kwargs))\n",
      "/home/liruixue/repos/integration/dscim/menu/main_recipe.py:1174: FutureWarning: xarray.ufuncs is deprecated. Instead, use numpy ufuncs directly.\n",
      "  rhos = xr.ufuncs.expm1(xr.DataArray(self.rho, coords=[cons_pc.year]))\n",
      "/home/liruixue/miniconda3/envs/dscim/lib/python3.8/site-packages/xarray/core/dataarray.py:3061: FutureWarning: xarray.ufuncs is deprecated. Instead, use numpy ufuncs directly.\n",
      "  da = self.__array_wrap__(f(self.variable.data, *args, **kwargs))\n"
     ]
    },
    {
     "name": "stdout",
     "output_type": "stream",
     "text": [
      "Saving /mnt/CIL_integration/menu_results_AR6_epa/mortality/2020/unmasked/adding_up_euler_ramsey_eta1.016010255_rho9.149608e-05_damage_function_coefficients.nc4\n",
      "Saving /mnt/CIL_integration/menu_results_AR6_epa/mortality/2020/unmasked/adding_up_euler_ramsey_eta1.016010255_rho9.149608e-05_discount_factors.nc4\n"
     ]
    },
    {
     "name": "stderr",
     "output_type": "stream",
     "text": [
      "/home/liruixue/repos/integration/dscim/menu/main_recipe.py:1174: FutureWarning: xarray.ufuncs is deprecated. Instead, use numpy ufuncs directly.\n",
      "  rhos = xr.ufuncs.expm1(xr.DataArray(self.rho, coords=[cons_pc.year]))\n",
      "/home/liruixue/miniconda3/envs/dscim/lib/python3.8/site-packages/xarray/core/dataarray.py:3061: FutureWarning: xarray.ufuncs is deprecated. Instead, use numpy ufuncs directly.\n",
      "  da = self.__array_wrap__(f(self.variable.data, *args, **kwargs))\n",
      "/home/liruixue/miniconda3/envs/dscim/lib/python3.8/site-packages/dask/core.py:119: RuntimeWarning: overflow encountered in power\n",
      "  return func(*(_execute_task(a, cache) for a in args))\n",
      "/home/liruixue/miniconda3/envs/dscim/lib/python3.8/site-packages/dask/core.py:119: RuntimeWarning: overflow encountered in power\n",
      "  return func(*(_execute_task(a, cache) for a in args))\n"
     ]
    },
    {
     "name": "stdout",
     "output_type": "stream",
     "text": [
      "Skipped saving ce_fair_no_pulse.\n",
      "Saving /mnt/CIL_integration/menu_results_AR6_epa/mortality/2020/unmasked/adding_up_euler_ramsey_eta1.016010255_rho9.149608e-05_damage_function_coefficients.nc4\n",
      "Skipped saving ce_fair_pulse.\n",
      "Saving /mnt/CIL_integration/menu_results_AR6_epa/mortality/2020/unmasked/adding_up_euler_ramsey_eta1.016010255_rho9.149608e-05_damage_function_coefficients.nc4\n",
      "Saving /mnt/CIL_integration/menu_results_AR6_epa/mortality/2020/unmasked/adding_up_euler_ramsey_eta1.016010255_rho9.149608e-05_damage_function_coefficients.nc4\n",
      "Saving /mnt/CIL_integration/menu_results_AR6_epa/mortality/2020/unmasked/adding_up_euler_ramsey_eta1.016010255_rho9.149608e-05_marginal_damages.nc4\n"
     ]
    },
    {
     "name": "stderr",
     "output_type": "stream",
     "text": [
      "/home/liruixue/miniconda3/envs/dscim/lib/python3.8/site-packages/dask/core.py:119: RuntimeWarning: overflow encountered in power\n",
      "  return func(*(_execute_task(a, cache) for a in args))\n",
      "/home/liruixue/miniconda3/envs/dscim/lib/python3.8/site-packages/dask/core.py:119: RuntimeWarning: overflow encountered in power\n",
      "  return func(*(_execute_task(a, cache) for a in args))\n",
      "/home/liruixue/miniconda3/envs/dscim/lib/python3.8/site-packages/dask/core.py:119: RuntimeWarning: overflow encountered in power\n",
      "  return func(*(_execute_task(a, cache) for a in args))\n",
      "/home/liruixue/miniconda3/envs/dscim/lib/python3.8/site-packages/dask/core.py:119: RuntimeWarning: overflow encountered in power\n",
      "  return func(*(_execute_task(a, cache) for a in args))\n",
      "/home/liruixue/miniconda3/envs/dscim/lib/python3.8/site-packages/dask/core.py:119: RuntimeWarning: overflow encountered in power\n",
      "  return func(*(_execute_task(a, cache) for a in args))\n",
      "/home/liruixue/miniconda3/envs/dscim/lib/python3.8/site-packages/dask/core.py:119: RuntimeWarning: overflow encountered in power\n",
      "  return func(*(_execute_task(a, cache) for a in args))\n",
      "/home/liruixue/miniconda3/envs/dscim/lib/python3.8/site-packages/dask/core.py:119: RuntimeWarning: overflow encountered in power\n",
      "  return func(*(_execute_task(a, cache) for a in args))\n",
      "/home/liruixue/miniconda3/envs/dscim/lib/python3.8/site-packages/dask/core.py:119: RuntimeWarning: overflow encountered in power\n",
      "  return func(*(_execute_task(a, cache) for a in args))\n",
      "/home/liruixue/miniconda3/envs/dscim/lib/python3.8/site-packages/dask/core.py:119: RuntimeWarning: overflow encountered in power\n",
      "  return func(*(_execute_task(a, cache) for a in args))\n"
     ]
    },
    {
     "name": "stdout",
     "output_type": "stream",
     "text": [
      "Skipped saving ce_fair_no_pulse.\n"
     ]
    },
    {
     "name": "stderr",
     "output_type": "stream",
     "text": [
      "/home/liruixue/repos/integration/dscim/menu/main_recipe.py:1174: FutureWarning: xarray.ufuncs is deprecated. Instead, use numpy ufuncs directly.\n",
      "  rhos = xr.ufuncs.expm1(xr.DataArray(self.rho, coords=[cons_pc.year]))\n",
      "/home/liruixue/miniconda3/envs/dscim/lib/python3.8/site-packages/xarray/core/dataarray.py:3061: FutureWarning: xarray.ufuncs is deprecated. Instead, use numpy ufuncs directly.\n",
      "  da = self.__array_wrap__(f(self.variable.data, *args, **kwargs))\n",
      "/home/liruixue/repos/integration/dscim/menu/main_recipe.py:1174: FutureWarning: xarray.ufuncs is deprecated. Instead, use numpy ufuncs directly.\n",
      "  rhos = xr.ufuncs.expm1(xr.DataArray(self.rho, coords=[cons_pc.year]))\n",
      "/home/liruixue/miniconda3/envs/dscim/lib/python3.8/site-packages/xarray/core/dataarray.py:3061: FutureWarning: xarray.ufuncs is deprecated. Instead, use numpy ufuncs directly.\n",
      "  da = self.__array_wrap__(f(self.variable.data, *args, **kwargs))\n",
      "/home/liruixue/repos/integration/dscim/menu/main_recipe.py:1174: FutureWarning: xarray.ufuncs is deprecated. Instead, use numpy ufuncs directly.\n",
      "  rhos = xr.ufuncs.expm1(xr.DataArray(self.rho, coords=[cons_pc.year]))\n",
      "/home/liruixue/miniconda3/envs/dscim/lib/python3.8/site-packages/xarray/core/dataarray.py:3061: FutureWarning: xarray.ufuncs is deprecated. Instead, use numpy ufuncs directly.\n",
      "  da = self.__array_wrap__(f(self.variable.data, *args, **kwargs))\n"
     ]
    },
    {
     "name": "stdout",
     "output_type": "stream",
     "text": [
      "Saving /mnt/CIL_integration/menu_results_AR6_epa/mortality/2020/unmasked/adding_up_euler_ramsey_eta1.016010255_rho9.149608e-05_damage_function_coefficients.nc4\n"
     ]
    },
    {
     "name": "stderr",
     "output_type": "stream",
     "text": [
      "/home/liruixue/repos/integration/dscim/menu/main_recipe.py:1174: FutureWarning: xarray.ufuncs is deprecated. Instead, use numpy ufuncs directly.\n",
      "  rhos = xr.ufuncs.expm1(xr.DataArray(self.rho, coords=[cons_pc.year]))\n",
      "/home/liruixue/miniconda3/envs/dscim/lib/python3.8/site-packages/xarray/core/dataarray.py:3061: FutureWarning: xarray.ufuncs is deprecated. Instead, use numpy ufuncs directly.\n",
      "  da = self.__array_wrap__(f(self.variable.data, *args, **kwargs))\n",
      "/home/liruixue/repos/integration/dscim/menu/main_recipe.py:1174: FutureWarning: xarray.ufuncs is deprecated. Instead, use numpy ufuncs directly.\n",
      "  rhos = xr.ufuncs.expm1(xr.DataArray(self.rho, coords=[cons_pc.year]))\n",
      "/home/liruixue/miniconda3/envs/dscim/lib/python3.8/site-packages/xarray/core/dataarray.py:3061: FutureWarning: xarray.ufuncs is deprecated. Instead, use numpy ufuncs directly.\n",
      "  da = self.__array_wrap__(f(self.variable.data, *args, **kwargs))\n"
     ]
    },
    {
     "name": "stdout",
     "output_type": "stream",
     "text": [
      "Saving /mnt/CIL_integration/menu_results_AR6_epa/mortality/2020/unmasked/adding_up_euler_ramsey_eta1.016010255_rho9.149608e-05_uncollapsed_sccs.nc4\n"
     ]
    },
    {
     "name": "stderr",
     "output_type": "stream",
     "text": [
      "/home/liruixue/miniconda3/envs/dscim/lib/python3.8/site-packages/dask/core.py:119: RuntimeWarning: overflow encountered in power\n",
      "  return func(*(_execute_task(a, cache) for a in args))\n",
      "/home/liruixue/miniconda3/envs/dscim/lib/python3.8/site-packages/dask/core.py:119: RuntimeWarning: overflow encountered in power\n",
      "  return func(*(_execute_task(a, cache) for a in args))\n",
      "/home/liruixue/miniconda3/envs/dscim/lib/python3.8/site-packages/dask/core.py:119: RuntimeWarning: overflow encountered in power\n",
      "  return func(*(_execute_task(a, cache) for a in args))\n",
      "/home/liruixue/miniconda3/envs/dscim/lib/python3.8/site-packages/dask/core.py:119: RuntimeWarning: overflow encountered in power\n",
      "  return func(*(_execute_task(a, cache) for a in args))\n",
      "/home/liruixue/miniconda3/envs/dscim/lib/python3.8/site-packages/dask/core.py:119: RuntimeWarning: overflow encountered in power\n",
      "  return func(*(_execute_task(a, cache) for a in args))\n"
     ]
    },
    {
     "name": "stdout",
     "output_type": "stream",
     "text": [
      "Saving /mnt/CIL_integration/menu_results_AR6_epa/mortality/2020/unmasked/adding_up_euler_ramsey_eta1.016010255_rho9.149608e-05_scc.nc4\n"
     ]
    },
    {
     "name": "stderr",
     "output_type": "stream",
     "text": [
      "/home/liruixue/miniconda3/envs/dscim/lib/python3.8/site-packages/dask/core.py:119: RuntimeWarning: overflow encountered in power\n",
      "  return func(*(_execute_task(a, cache) for a in args))\n",
      "/home/liruixue/miniconda3/envs/dscim/lib/python3.8/site-packages/dask/core.py:119: RuntimeWarning: overflow encountered in power\n",
      "  return func(*(_execute_task(a, cache) for a in args))\n",
      "/home/liruixue/miniconda3/envs/dscim/lib/python3.8/site-packages/dask/core.py:119: RuntimeWarning: overflow encountered in power\n",
      "  return func(*(_execute_task(a, cache) for a in args))\n"
     ]
    },
    {
     "name": "stdout",
     "output_type": "stream",
     "text": [
      "Results available: /mnt/CIL_integration/menu_results_AR6_epa/mortality/2020/unmasked/\n",
      "remaining combos: 78\n",
      "=========================================================\n",
      "('mortality', 2020, 'euler_ramsey', 'adding_up', 6, 1.244459066)\n",
      "\n",
      " Executing \n",
      "        Running adding_up\n",
      "        sector: mortality\n",
      "        discounting: euler_ramsey\n",
      "        eta: 1.244459066\n",
      "        rho: 0.00197263997\n",
      "        \n",
      "Processing damage functions ...\n",
      "Existing damage functions not found. Damage points will be loaded.\n",
      "Adding up aggregated damages found at /shares/gcp/integration/CE_library_epa_vsl_bc39/mortality//adding_up_ce_cc_eta1.244459066.zarr, /shares/gcp/integration/CE_library_epa_vsl_bc39/mortality//adding_up_ce_no_cc_eta1.244459066.zarr. These are being loaded...\n",
      "Subsetting on {'ssp': ['SSP2', 'SSP3', 'SSP4']} keys.\n",
      "Subsetting on {'ssp': ['SSP2', 'SSP3', 'SSP4']} keys.\n",
      "Saving /mnt/CIL_integration/menu_results_AR6_epa/mortality/2020/unmasked/adding_up_euler_ramsey_eta1.244459066_rho0.00197263997_damage_function_points.csv\n",
      "Subsetting on {'ssp': ['SSP2', 'SSP3', 'SSP4']} keys.\n",
      "Extrapolating global consumption.\n",
      "End-of-century growth rates are not capped.\n",
      "Skipped saving global_consumption.\n",
      "Saving /mnt/CIL_integration/menu_results_AR6_epa/mortality/2020/unmasked/adding_up_euler_ramsey_eta1.244459066_rho0.00197263997_damage_function_coefficients.nc4\n",
      "Saving /mnt/CIL_integration/menu_results_AR6_epa/mortality/2020/unmasked/adding_up_euler_ramsey_eta1.244459066_rho0.00197263997_damage_function_fit.nc4\n",
      "Processing SCC calculation ...\n",
      "Saving /mnt/CIL_integration/menu_results_AR6_epa/mortality/2020/unmasked/adding_up_euler_ramsey_eta1.244459066_rho0.00197263997_damage_function_coefficients.nc4\n",
      "Skipped saving ce_fair_no_pulse.\n"
     ]
    },
    {
     "name": "stderr",
     "output_type": "stream",
     "text": [
      "/home/liruixue/repos/integration/dscim/menu/main_recipe.py:1174: FutureWarning: xarray.ufuncs is deprecated. Instead, use numpy ufuncs directly.\n",
      "  rhos = xr.ufuncs.expm1(xr.DataArray(self.rho, coords=[cons_pc.year]))\n",
      "/home/liruixue/miniconda3/envs/dscim/lib/python3.8/site-packages/xarray/core/dataarray.py:3061: FutureWarning: xarray.ufuncs is deprecated. Instead, use numpy ufuncs directly.\n",
      "  da = self.__array_wrap__(f(self.variable.data, *args, **kwargs))\n",
      "/home/liruixue/repos/integration/dscim/menu/main_recipe.py:1174: FutureWarning: xarray.ufuncs is deprecated. Instead, use numpy ufuncs directly.\n",
      "  rhos = xr.ufuncs.expm1(xr.DataArray(self.rho, coords=[cons_pc.year]))\n",
      "/home/liruixue/miniconda3/envs/dscim/lib/python3.8/site-packages/xarray/core/dataarray.py:3061: FutureWarning: xarray.ufuncs is deprecated. Instead, use numpy ufuncs directly.\n",
      "  da = self.__array_wrap__(f(self.variable.data, *args, **kwargs))\n",
      "/home/liruixue/repos/integration/dscim/menu/main_recipe.py:1174: FutureWarning: xarray.ufuncs is deprecated. Instead, use numpy ufuncs directly.\n",
      "  rhos = xr.ufuncs.expm1(xr.DataArray(self.rho, coords=[cons_pc.year]))\n",
      "/home/liruixue/miniconda3/envs/dscim/lib/python3.8/site-packages/xarray/core/dataarray.py:3061: FutureWarning: xarray.ufuncs is deprecated. Instead, use numpy ufuncs directly.\n",
      "  da = self.__array_wrap__(f(self.variable.data, *args, **kwargs))\n"
     ]
    },
    {
     "name": "stdout",
     "output_type": "stream",
     "text": [
      "Saving /mnt/CIL_integration/menu_results_AR6_epa/mortality/2020/unmasked/adding_up_euler_ramsey_eta1.244459066_rho0.00197263997_damage_function_coefficients.nc4\n",
      "Saving /mnt/CIL_integration/menu_results_AR6_epa/mortality/2020/unmasked/adding_up_euler_ramsey_eta1.244459066_rho0.00197263997_discount_factors.nc4\n"
     ]
    },
    {
     "name": "stderr",
     "output_type": "stream",
     "text": [
      "/home/liruixue/repos/integration/dscim/menu/main_recipe.py:1174: FutureWarning: xarray.ufuncs is deprecated. Instead, use numpy ufuncs directly.\n",
      "  rhos = xr.ufuncs.expm1(xr.DataArray(self.rho, coords=[cons_pc.year]))\n",
      "/home/liruixue/miniconda3/envs/dscim/lib/python3.8/site-packages/xarray/core/dataarray.py:3061: FutureWarning: xarray.ufuncs is deprecated. Instead, use numpy ufuncs directly.\n",
      "  da = self.__array_wrap__(f(self.variable.data, *args, **kwargs))\n"
     ]
    },
    {
     "name": "stdout",
     "output_type": "stream",
     "text": [
      "Skipped saving ce_fair_no_pulse.\n",
      "Saving /mnt/CIL_integration/menu_results_AR6_epa/mortality/2020/unmasked/adding_up_euler_ramsey_eta1.244459066_rho0.00197263997_damage_function_coefficients.nc4\n",
      "Skipped saving ce_fair_pulse.\n",
      "Saving /mnt/CIL_integration/menu_results_AR6_epa/mortality/2020/unmasked/adding_up_euler_ramsey_eta1.244459066_rho0.00197263997_damage_function_coefficients.nc4\n",
      "Saving /mnt/CIL_integration/menu_results_AR6_epa/mortality/2020/unmasked/adding_up_euler_ramsey_eta1.244459066_rho0.00197263997_damage_function_coefficients.nc4\n",
      "Saving /mnt/CIL_integration/menu_results_AR6_epa/mortality/2020/unmasked/adding_up_euler_ramsey_eta1.244459066_rho0.00197263997_marginal_damages.nc4\n",
      "Skipped saving ce_fair_no_pulse.\n"
     ]
    },
    {
     "name": "stderr",
     "output_type": "stream",
     "text": [
      "/home/liruixue/repos/integration/dscim/menu/main_recipe.py:1174: FutureWarning: xarray.ufuncs is deprecated. Instead, use numpy ufuncs directly.\n",
      "  rhos = xr.ufuncs.expm1(xr.DataArray(self.rho, coords=[cons_pc.year]))\n",
      "/home/liruixue/miniconda3/envs/dscim/lib/python3.8/site-packages/xarray/core/dataarray.py:3061: FutureWarning: xarray.ufuncs is deprecated. Instead, use numpy ufuncs directly.\n",
      "  da = self.__array_wrap__(f(self.variable.data, *args, **kwargs))\n",
      "/home/liruixue/repos/integration/dscim/menu/main_recipe.py:1174: FutureWarning: xarray.ufuncs is deprecated. Instead, use numpy ufuncs directly.\n",
      "  rhos = xr.ufuncs.expm1(xr.DataArray(self.rho, coords=[cons_pc.year]))\n",
      "/home/liruixue/miniconda3/envs/dscim/lib/python3.8/site-packages/xarray/core/dataarray.py:3061: FutureWarning: xarray.ufuncs is deprecated. Instead, use numpy ufuncs directly.\n",
      "  da = self.__array_wrap__(f(self.variable.data, *args, **kwargs))\n",
      "/home/liruixue/repos/integration/dscim/menu/main_recipe.py:1174: FutureWarning: xarray.ufuncs is deprecated. Instead, use numpy ufuncs directly.\n",
      "  rhos = xr.ufuncs.expm1(xr.DataArray(self.rho, coords=[cons_pc.year]))\n",
      "/home/liruixue/miniconda3/envs/dscim/lib/python3.8/site-packages/xarray/core/dataarray.py:3061: FutureWarning: xarray.ufuncs is deprecated. Instead, use numpy ufuncs directly.\n",
      "  da = self.__array_wrap__(f(self.variable.data, *args, **kwargs))\n"
     ]
    },
    {
     "name": "stdout",
     "output_type": "stream",
     "text": [
      "Saving /mnt/CIL_integration/menu_results_AR6_epa/mortality/2020/unmasked/adding_up_euler_ramsey_eta1.244459066_rho0.00197263997_damage_function_coefficients.nc4\n"
     ]
    },
    {
     "name": "stderr",
     "output_type": "stream",
     "text": [
      "/home/liruixue/repos/integration/dscim/menu/main_recipe.py:1174: FutureWarning: xarray.ufuncs is deprecated. Instead, use numpy ufuncs directly.\n",
      "  rhos = xr.ufuncs.expm1(xr.DataArray(self.rho, coords=[cons_pc.year]))\n",
      "/home/liruixue/miniconda3/envs/dscim/lib/python3.8/site-packages/xarray/core/dataarray.py:3061: FutureWarning: xarray.ufuncs is deprecated. Instead, use numpy ufuncs directly.\n",
      "  da = self.__array_wrap__(f(self.variable.data, *args, **kwargs))\n"
     ]
    },
    {
     "name": "stdout",
     "output_type": "stream",
     "text": [
      "Saving /mnt/CIL_integration/menu_results_AR6_epa/mortality/2020/unmasked/adding_up_euler_ramsey_eta1.244459066_rho0.00197263997_uncollapsed_sccs.nc4\n"
     ]
    },
    {
     "name": "stderr",
     "output_type": "stream",
     "text": [
      "/home/liruixue/repos/integration/dscim/menu/main_recipe.py:1174: FutureWarning: xarray.ufuncs is deprecated. Instead, use numpy ufuncs directly.\n",
      "  rhos = xr.ufuncs.expm1(xr.DataArray(self.rho, coords=[cons_pc.year]))\n",
      "/home/liruixue/miniconda3/envs/dscim/lib/python3.8/site-packages/xarray/core/dataarray.py:3061: FutureWarning: xarray.ufuncs is deprecated. Instead, use numpy ufuncs directly.\n",
      "  da = self.__array_wrap__(f(self.variable.data, *args, **kwargs))\n"
     ]
    },
    {
     "name": "stdout",
     "output_type": "stream",
     "text": [
      "Saving /mnt/CIL_integration/menu_results_AR6_epa/mortality/2020/unmasked/adding_up_euler_ramsey_eta1.244459066_rho0.00197263997_scc.nc4\n",
      "Results available: /mnt/CIL_integration/menu_results_AR6_epa/mortality/2020/unmasked/\n",
      "remaining combos: 77\n",
      "=========================================================\n",
      "('mortality', 2020, 'euler_ramsey', 'adding_up', 6, 1.421158116)\n",
      "\n",
      " Executing \n",
      "        Running adding_up\n",
      "        sector: mortality\n",
      "        discounting: euler_ramsey\n",
      "        eta: 1.421158116\n",
      "        rho: 0.00461878399\n",
      "        \n",
      "Processing damage functions ...\n",
      "Existing damage functions not found. Damage points will be loaded.\n",
      "Adding up aggregated damages found at /shares/gcp/integration/CE_library_epa_vsl_bc39/mortality//adding_up_ce_cc_eta1.421158116.zarr, /shares/gcp/integration/CE_library_epa_vsl_bc39/mortality//adding_up_ce_no_cc_eta1.421158116.zarr. These are being loaded...\n",
      "Subsetting on {'ssp': ['SSP2', 'SSP3', 'SSP4']} keys.\n",
      "Subsetting on {'ssp': ['SSP2', 'SSP3', 'SSP4']} keys.\n",
      "Saving /mnt/CIL_integration/menu_results_AR6_epa/mortality/2020/unmasked/adding_up_euler_ramsey_eta1.421158116_rho0.00461878399_damage_function_points.csv\n",
      "Subsetting on {'ssp': ['SSP2', 'SSP3', 'SSP4']} keys.\n",
      "Extrapolating global consumption.\n",
      "End-of-century growth rates are not capped.\n",
      "Skipped saving global_consumption.\n",
      "Saving /mnt/CIL_integration/menu_results_AR6_epa/mortality/2020/unmasked/adding_up_euler_ramsey_eta1.421158116_rho0.00461878399_damage_function_coefficients.nc4\n",
      "Saving /mnt/CIL_integration/menu_results_AR6_epa/mortality/2020/unmasked/adding_up_euler_ramsey_eta1.421158116_rho0.00461878399_damage_function_fit.nc4\n",
      "Processing SCC calculation ...\n",
      "Saving /mnt/CIL_integration/menu_results_AR6_epa/mortality/2020/unmasked/adding_up_euler_ramsey_eta1.421158116_rho0.00461878399_damage_function_coefficients.nc4\n",
      "Skipped saving ce_fair_no_pulse.\n"
     ]
    },
    {
     "name": "stderr",
     "output_type": "stream",
     "text": [
      "/home/liruixue/repos/integration/dscim/menu/main_recipe.py:1174: FutureWarning: xarray.ufuncs is deprecated. Instead, use numpy ufuncs directly.\n",
      "  rhos = xr.ufuncs.expm1(xr.DataArray(self.rho, coords=[cons_pc.year]))\n",
      "/home/liruixue/miniconda3/envs/dscim/lib/python3.8/site-packages/xarray/core/dataarray.py:3061: FutureWarning: xarray.ufuncs is deprecated. Instead, use numpy ufuncs directly.\n",
      "  da = self.__array_wrap__(f(self.variable.data, *args, **kwargs))\n",
      "/home/liruixue/repos/integration/dscim/menu/main_recipe.py:1174: FutureWarning: xarray.ufuncs is deprecated. Instead, use numpy ufuncs directly.\n",
      "  rhos = xr.ufuncs.expm1(xr.DataArray(self.rho, coords=[cons_pc.year]))\n",
      "/home/liruixue/miniconda3/envs/dscim/lib/python3.8/site-packages/xarray/core/dataarray.py:3061: FutureWarning: xarray.ufuncs is deprecated. Instead, use numpy ufuncs directly.\n",
      "  da = self.__array_wrap__(f(self.variable.data, *args, **kwargs))\n",
      "/home/liruixue/repos/integration/dscim/menu/main_recipe.py:1174: FutureWarning: xarray.ufuncs is deprecated. Instead, use numpy ufuncs directly.\n",
      "  rhos = xr.ufuncs.expm1(xr.DataArray(self.rho, coords=[cons_pc.year]))\n",
      "/home/liruixue/miniconda3/envs/dscim/lib/python3.8/site-packages/xarray/core/dataarray.py:3061: FutureWarning: xarray.ufuncs is deprecated. Instead, use numpy ufuncs directly.\n",
      "  da = self.__array_wrap__(f(self.variable.data, *args, **kwargs))\n"
     ]
    },
    {
     "name": "stdout",
     "output_type": "stream",
     "text": [
      "Saving /mnt/CIL_integration/menu_results_AR6_epa/mortality/2020/unmasked/adding_up_euler_ramsey_eta1.421158116_rho0.00461878399_damage_function_coefficients.nc4\n",
      "Saving /mnt/CIL_integration/menu_results_AR6_epa/mortality/2020/unmasked/adding_up_euler_ramsey_eta1.421158116_rho0.00461878399_discount_factors.nc4\n"
     ]
    },
    {
     "name": "stderr",
     "output_type": "stream",
     "text": [
      "/home/liruixue/repos/integration/dscim/menu/main_recipe.py:1174: FutureWarning: xarray.ufuncs is deprecated. Instead, use numpy ufuncs directly.\n",
      "  rhos = xr.ufuncs.expm1(xr.DataArray(self.rho, coords=[cons_pc.year]))\n",
      "/home/liruixue/miniconda3/envs/dscim/lib/python3.8/site-packages/xarray/core/dataarray.py:3061: FutureWarning: xarray.ufuncs is deprecated. Instead, use numpy ufuncs directly.\n",
      "  da = self.__array_wrap__(f(self.variable.data, *args, **kwargs))\n"
     ]
    },
    {
     "name": "stdout",
     "output_type": "stream",
     "text": [
      "Skipped saving ce_fair_no_pulse.\n",
      "Saving /mnt/CIL_integration/menu_results_AR6_epa/mortality/2020/unmasked/adding_up_euler_ramsey_eta1.421158116_rho0.00461878399_damage_function_coefficients.nc4\n",
      "Skipped saving ce_fair_pulse.\n",
      "Saving /mnt/CIL_integration/menu_results_AR6_epa/mortality/2020/unmasked/adding_up_euler_ramsey_eta1.421158116_rho0.00461878399_damage_function_coefficients.nc4\n",
      "Saving /mnt/CIL_integration/menu_results_AR6_epa/mortality/2020/unmasked/adding_up_euler_ramsey_eta1.421158116_rho0.00461878399_damage_function_coefficients.nc4\n",
      "Saving /mnt/CIL_integration/menu_results_AR6_epa/mortality/2020/unmasked/adding_up_euler_ramsey_eta1.421158116_rho0.00461878399_marginal_damages.nc4\n",
      "Skipped saving ce_fair_no_pulse.\n"
     ]
    },
    {
     "name": "stderr",
     "output_type": "stream",
     "text": [
      "/home/liruixue/repos/integration/dscim/menu/main_recipe.py:1174: FutureWarning: xarray.ufuncs is deprecated. Instead, use numpy ufuncs directly.\n",
      "  rhos = xr.ufuncs.expm1(xr.DataArray(self.rho, coords=[cons_pc.year]))\n",
      "/home/liruixue/miniconda3/envs/dscim/lib/python3.8/site-packages/xarray/core/dataarray.py:3061: FutureWarning: xarray.ufuncs is deprecated. Instead, use numpy ufuncs directly.\n",
      "  da = self.__array_wrap__(f(self.variable.data, *args, **kwargs))\n",
      "/home/liruixue/repos/integration/dscim/menu/main_recipe.py:1174: FutureWarning: xarray.ufuncs is deprecated. Instead, use numpy ufuncs directly.\n",
      "  rhos = xr.ufuncs.expm1(xr.DataArray(self.rho, coords=[cons_pc.year]))\n",
      "/home/liruixue/miniconda3/envs/dscim/lib/python3.8/site-packages/xarray/core/dataarray.py:3061: FutureWarning: xarray.ufuncs is deprecated. Instead, use numpy ufuncs directly.\n",
      "  da = self.__array_wrap__(f(self.variable.data, *args, **kwargs))\n",
      "/home/liruixue/repos/integration/dscim/menu/main_recipe.py:1174: FutureWarning: xarray.ufuncs is deprecated. Instead, use numpy ufuncs directly.\n",
      "  rhos = xr.ufuncs.expm1(xr.DataArray(self.rho, coords=[cons_pc.year]))\n",
      "/home/liruixue/miniconda3/envs/dscim/lib/python3.8/site-packages/xarray/core/dataarray.py:3061: FutureWarning: xarray.ufuncs is deprecated. Instead, use numpy ufuncs directly.\n",
      "  da = self.__array_wrap__(f(self.variable.data, *args, **kwargs))\n"
     ]
    },
    {
     "name": "stdout",
     "output_type": "stream",
     "text": [
      "Saving /mnt/CIL_integration/menu_results_AR6_epa/mortality/2020/unmasked/adding_up_euler_ramsey_eta1.421158116_rho0.00461878399_damage_function_coefficients.nc4\n"
     ]
    },
    {
     "name": "stderr",
     "output_type": "stream",
     "text": [
      "/home/liruixue/repos/integration/dscim/menu/main_recipe.py:1174: FutureWarning: xarray.ufuncs is deprecated. Instead, use numpy ufuncs directly.\n",
      "  rhos = xr.ufuncs.expm1(xr.DataArray(self.rho, coords=[cons_pc.year]))\n",
      "/home/liruixue/miniconda3/envs/dscim/lib/python3.8/site-packages/xarray/core/dataarray.py:3061: FutureWarning: xarray.ufuncs is deprecated. Instead, use numpy ufuncs directly.\n",
      "  da = self.__array_wrap__(f(self.variable.data, *args, **kwargs))\n"
     ]
    },
    {
     "name": "stdout",
     "output_type": "stream",
     "text": [
      "Saving /mnt/CIL_integration/menu_results_AR6_epa/mortality/2020/unmasked/adding_up_euler_ramsey_eta1.421158116_rho0.00461878399_uncollapsed_sccs.nc4\n",
      "Saving /mnt/CIL_integration/menu_results_AR6_epa/mortality/2020/unmasked/adding_up_euler_ramsey_eta1.421158116_rho0.00461878399_scc.nc4\n",
      "Results available: /mnt/CIL_integration/menu_results_AR6_epa/mortality/2020/unmasked/\n",
      "remaining combos: 76\n",
      "=========================================================\n",
      "('mortality', 2020, 'euler_ramsey', 'adding_up', 6, 1.567899395)\n",
      "\n",
      " Executing \n",
      "        Running adding_up\n",
      "        sector: mortality\n",
      "        discounting: euler_ramsey\n",
      "        eta: 1.567899395\n",
      "        rho: 0.00770271076\n",
      "        \n",
      "Processing damage functions ...\n",
      "Existing damage functions not found. Damage points will be loaded.\n",
      "Adding up aggregated damages found at /shares/gcp/integration/CE_library_epa_vsl_bc39/mortality//adding_up_ce_cc_eta1.567899395.zarr, /shares/gcp/integration/CE_library_epa_vsl_bc39/mortality//adding_up_ce_no_cc_eta1.567899395.zarr. These are being loaded...\n",
      "Subsetting on {'ssp': ['SSP2', 'SSP3', 'SSP4']} keys.\n",
      "Subsetting on {'ssp': ['SSP2', 'SSP3', 'SSP4']} keys.\n",
      "Saving /mnt/CIL_integration/menu_results_AR6_epa/mortality/2020/unmasked/adding_up_euler_ramsey_eta1.567899395_rho0.00770271076_damage_function_points.csv\n",
      "Subsetting on {'ssp': ['SSP2', 'SSP3', 'SSP4']} keys.\n",
      "Extrapolating global consumption.\n",
      "End-of-century growth rates are not capped.\n",
      "Skipped saving global_consumption.\n",
      "Saving /mnt/CIL_integration/menu_results_AR6_epa/mortality/2020/unmasked/adding_up_euler_ramsey_eta1.567899395_rho0.00770271076_damage_function_coefficients.nc4\n",
      "Saving /mnt/CIL_integration/menu_results_AR6_epa/mortality/2020/unmasked/adding_up_euler_ramsey_eta1.567899395_rho0.00770271076_damage_function_fit.nc4\n",
      "Processing SCC calculation ...\n",
      "Saving /mnt/CIL_integration/menu_results_AR6_epa/mortality/2020/unmasked/adding_up_euler_ramsey_eta1.567899395_rho0.00770271076_damage_function_coefficients.nc4\n",
      "Skipped saving ce_fair_no_pulse.\n"
     ]
    },
    {
     "name": "stderr",
     "output_type": "stream",
     "text": [
      "/home/liruixue/repos/integration/dscim/menu/main_recipe.py:1174: FutureWarning: xarray.ufuncs is deprecated. Instead, use numpy ufuncs directly.\n",
      "  rhos = xr.ufuncs.expm1(xr.DataArray(self.rho, coords=[cons_pc.year]))\n",
      "/home/liruixue/miniconda3/envs/dscim/lib/python3.8/site-packages/xarray/core/dataarray.py:3061: FutureWarning: xarray.ufuncs is deprecated. Instead, use numpy ufuncs directly.\n",
      "  da = self.__array_wrap__(f(self.variable.data, *args, **kwargs))\n",
      "/home/liruixue/repos/integration/dscim/menu/main_recipe.py:1174: FutureWarning: xarray.ufuncs is deprecated. Instead, use numpy ufuncs directly.\n",
      "  rhos = xr.ufuncs.expm1(xr.DataArray(self.rho, coords=[cons_pc.year]))\n",
      "/home/liruixue/miniconda3/envs/dscim/lib/python3.8/site-packages/xarray/core/dataarray.py:3061: FutureWarning: xarray.ufuncs is deprecated. Instead, use numpy ufuncs directly.\n",
      "  da = self.__array_wrap__(f(self.variable.data, *args, **kwargs))\n",
      "/home/liruixue/repos/integration/dscim/menu/main_recipe.py:1174: FutureWarning: xarray.ufuncs is deprecated. Instead, use numpy ufuncs directly.\n",
      "  rhos = xr.ufuncs.expm1(xr.DataArray(self.rho, coords=[cons_pc.year]))\n",
      "/home/liruixue/miniconda3/envs/dscim/lib/python3.8/site-packages/xarray/core/dataarray.py:3061: FutureWarning: xarray.ufuncs is deprecated. Instead, use numpy ufuncs directly.\n",
      "  da = self.__array_wrap__(f(self.variable.data, *args, **kwargs))\n",
      "/home/liruixue/repos/integration/dscim/menu/main_recipe.py:1174: FutureWarning: xarray.ufuncs is deprecated. Instead, use numpy ufuncs directly.\n",
      "  rhos = xr.ufuncs.expm1(xr.DataArray(self.rho, coords=[cons_pc.year]))\n",
      "/home/liruixue/miniconda3/envs/dscim/lib/python3.8/site-packages/xarray/core/dataarray.py:3061: FutureWarning: xarray.ufuncs is deprecated. Instead, use numpy ufuncs directly.\n",
      "  da = self.__array_wrap__(f(self.variable.data, *args, **kwargs))\n"
     ]
    },
    {
     "name": "stdout",
     "output_type": "stream",
     "text": [
      "Saving /mnt/CIL_integration/menu_results_AR6_epa/mortality/2020/unmasked/adding_up_euler_ramsey_eta1.567899395_rho0.00770271076_damage_function_coefficients.nc4\n"
     ]
    },
    {
     "name": "stderr",
     "output_type": "stream",
     "text": [
      "/home/liruixue/repos/integration/dscim/menu/main_recipe.py:1174: FutureWarning: xarray.ufuncs is deprecated. Instead, use numpy ufuncs directly.\n",
      "  rhos = xr.ufuncs.expm1(xr.DataArray(self.rho, coords=[cons_pc.year]))\n",
      "/home/liruixue/miniconda3/envs/dscim/lib/python3.8/site-packages/xarray/core/dataarray.py:3061: FutureWarning: xarray.ufuncs is deprecated. Instead, use numpy ufuncs directly.\n",
      "  da = self.__array_wrap__(f(self.variable.data, *args, **kwargs))\n"
     ]
    },
    {
     "name": "stdout",
     "output_type": "stream",
     "text": [
      "Saving /mnt/CIL_integration/menu_results_AR6_epa/mortality/2020/unmasked/adding_up_euler_ramsey_eta1.567899395_rho0.00770271076_discount_factors.nc4\n",
      "Skipped saving ce_fair_no_pulse.\n",
      "Saving /mnt/CIL_integration/menu_results_AR6_epa/mortality/2020/unmasked/adding_up_euler_ramsey_eta1.567899395_rho0.00770271076_damage_function_coefficients.nc4\n",
      "Skipped saving ce_fair_pulse.\n",
      "Saving /mnt/CIL_integration/menu_results_AR6_epa/mortality/2020/unmasked/adding_up_euler_ramsey_eta1.567899395_rho0.00770271076_damage_function_coefficients.nc4\n",
      "Saving /mnt/CIL_integration/menu_results_AR6_epa/mortality/2020/unmasked/adding_up_euler_ramsey_eta1.567899395_rho0.00770271076_damage_function_coefficients.nc4\n",
      "Saving /mnt/CIL_integration/menu_results_AR6_epa/mortality/2020/unmasked/adding_up_euler_ramsey_eta1.567899395_rho0.00770271076_marginal_damages.nc4\n",
      "Skipped saving ce_fair_no_pulse.\n"
     ]
    },
    {
     "name": "stderr",
     "output_type": "stream",
     "text": [
      "/home/liruixue/repos/integration/dscim/menu/main_recipe.py:1174: FutureWarning: xarray.ufuncs is deprecated. Instead, use numpy ufuncs directly.\n",
      "  rhos = xr.ufuncs.expm1(xr.DataArray(self.rho, coords=[cons_pc.year]))\n",
      "/home/liruixue/miniconda3/envs/dscim/lib/python3.8/site-packages/xarray/core/dataarray.py:3061: FutureWarning: xarray.ufuncs is deprecated. Instead, use numpy ufuncs directly.\n",
      "  da = self.__array_wrap__(f(self.variable.data, *args, **kwargs))\n",
      "/home/liruixue/repos/integration/dscim/menu/main_recipe.py:1174: FutureWarning: xarray.ufuncs is deprecated. Instead, use numpy ufuncs directly.\n",
      "  rhos = xr.ufuncs.expm1(xr.DataArray(self.rho, coords=[cons_pc.year]))\n",
      "/home/liruixue/miniconda3/envs/dscim/lib/python3.8/site-packages/xarray/core/dataarray.py:3061: FutureWarning: xarray.ufuncs is deprecated. Instead, use numpy ufuncs directly.\n",
      "  da = self.__array_wrap__(f(self.variable.data, *args, **kwargs))\n",
      "/home/liruixue/repos/integration/dscim/menu/main_recipe.py:1174: FutureWarning: xarray.ufuncs is deprecated. Instead, use numpy ufuncs directly.\n",
      "  rhos = xr.ufuncs.expm1(xr.DataArray(self.rho, coords=[cons_pc.year]))\n",
      "/home/liruixue/miniconda3/envs/dscim/lib/python3.8/site-packages/xarray/core/dataarray.py:3061: FutureWarning: xarray.ufuncs is deprecated. Instead, use numpy ufuncs directly.\n",
      "  da = self.__array_wrap__(f(self.variable.data, *args, **kwargs))\n"
     ]
    },
    {
     "name": "stdout",
     "output_type": "stream",
     "text": [
      "Saving /mnt/CIL_integration/menu_results_AR6_epa/mortality/2020/unmasked/adding_up_euler_ramsey_eta1.567899395_rho0.00770271076_damage_function_coefficients.nc4\n"
     ]
    },
    {
     "name": "stderr",
     "output_type": "stream",
     "text": [
      "/home/liruixue/repos/integration/dscim/menu/main_recipe.py:1174: FutureWarning: xarray.ufuncs is deprecated. Instead, use numpy ufuncs directly.\n",
      "  rhos = xr.ufuncs.expm1(xr.DataArray(self.rho, coords=[cons_pc.year]))\n",
      "/home/liruixue/miniconda3/envs/dscim/lib/python3.8/site-packages/xarray/core/dataarray.py:3061: FutureWarning: xarray.ufuncs is deprecated. Instead, use numpy ufuncs directly.\n",
      "  da = self.__array_wrap__(f(self.variable.data, *args, **kwargs))\n"
     ]
    },
    {
     "name": "stdout",
     "output_type": "stream",
     "text": [
      "Saving /mnt/CIL_integration/menu_results_AR6_epa/mortality/2020/unmasked/adding_up_euler_ramsey_eta1.567899395_rho0.00770271076_uncollapsed_sccs.nc4\n"
     ]
    },
    {
     "name": "stderr",
     "output_type": "stream",
     "text": [
      "/home/liruixue/repos/integration/dscim/menu/main_recipe.py:1174: FutureWarning: xarray.ufuncs is deprecated. Instead, use numpy ufuncs directly.\n",
      "  rhos = xr.ufuncs.expm1(xr.DataArray(self.rho, coords=[cons_pc.year]))\n",
      "/home/liruixue/miniconda3/envs/dscim/lib/python3.8/site-packages/xarray/core/dataarray.py:3061: FutureWarning: xarray.ufuncs is deprecated. Instead, use numpy ufuncs directly.\n",
      "  da = self.__array_wrap__(f(self.variable.data, *args, **kwargs))\n"
     ]
    },
    {
     "name": "stdout",
     "output_type": "stream",
     "text": [
      "Saving /mnt/CIL_integration/menu_results_AR6_epa/mortality/2020/unmasked/adding_up_euler_ramsey_eta1.567899395_rho0.00770271076_scc.nc4\n",
      "Results available: /mnt/CIL_integration/menu_results_AR6_epa/mortality/2020/unmasked/\n",
      "remaining combos: 75\n",
      "=========================================================\n",
      "('mortality', 2020, 'euler_ramsey', 'risk_aversion', 6, 2.0)\n",
      "\n",
      " Executing \n",
      "        Running risk_aversion\n",
      "        sector: mortality\n",
      "        discounting: euler_ramsey\n",
      "        eta: 2.0\n",
      "        rho: 0.0\n",
      "        \n",
      "Processing damage functions ...\n",
      "Existing damage functions not found. Damage points will be loaded.\n",
      "Risk-aversion CEs found at /shares/gcp/integration/CE_library_epa_vsl_bc39/mortality//risk_aversion_ce_no_cc_eta2.0.zarr. These are being loaded...\n",
      "Subsetting on {'ssp': ['SSP2', 'SSP3', 'SSP4']} keys.\n",
      "Risk-aversion CEs found at /shares/gcp/integration/CE_library_epa_vsl_bc39/mortality//risk_aversion_ce_cc_eta2.0.zarr. These are being loaded...\n",
      "Subsetting on {'ssp': ['SSP2', 'SSP3', 'SSP4']} keys.\n",
      "Subsetting on {'ssp': ['SSP2', 'SSP3', 'SSP4']} keys.\n",
      "Saving /mnt/CIL_integration/menu_results_AR6_epa/mortality/2020/unmasked/risk_aversion_euler_ramsey_eta2.0_rho0.0_damage_function_points.csv\n",
      "Subsetting on {'ssp': ['SSP2', 'SSP3', 'SSP4']} keys.\n",
      "Extrapolating global consumption.\n",
      "End-of-century growth rates are not capped.\n",
      "Skipped saving global_consumption.\n",
      "Saving /mnt/CIL_integration/menu_results_AR6_epa/mortality/2020/unmasked/risk_aversion_euler_ramsey_eta2.0_rho0.0_damage_function_coefficients.nc4\n",
      "Saving /mnt/CIL_integration/menu_results_AR6_epa/mortality/2020/unmasked/risk_aversion_euler_ramsey_eta2.0_rho0.0_damage_function_fit.nc4\n",
      "Processing SCC calculation ...\n",
      "Saving /mnt/CIL_integration/menu_results_AR6_epa/mortality/2020/unmasked/risk_aversion_euler_ramsey_eta2.0_rho0.0_damage_function_coefficients.nc4\n",
      "Skipped saving ce_fair_no_pulse.\n"
     ]
    },
    {
     "name": "stderr",
     "output_type": "stream",
     "text": [
      "/home/liruixue/repos/integration/dscim/menu/main_recipe.py:1174: FutureWarning: xarray.ufuncs is deprecated. Instead, use numpy ufuncs directly.\n",
      "  rhos = xr.ufuncs.expm1(xr.DataArray(self.rho, coords=[cons_pc.year]))\n",
      "/home/liruixue/miniconda3/envs/dscim/lib/python3.8/site-packages/xarray/core/dataarray.py:3061: FutureWarning: xarray.ufuncs is deprecated. Instead, use numpy ufuncs directly.\n",
      "  da = self.__array_wrap__(f(self.variable.data, *args, **kwargs))\n",
      "/home/liruixue/repos/integration/dscim/menu/main_recipe.py:1174: FutureWarning: xarray.ufuncs is deprecated. Instead, use numpy ufuncs directly.\n",
      "  rhos = xr.ufuncs.expm1(xr.DataArray(self.rho, coords=[cons_pc.year]))\n",
      "/home/liruixue/miniconda3/envs/dscim/lib/python3.8/site-packages/xarray/core/dataarray.py:3061: FutureWarning: xarray.ufuncs is deprecated. Instead, use numpy ufuncs directly.\n",
      "  da = self.__array_wrap__(f(self.variable.data, *args, **kwargs))\n",
      "/home/liruixue/repos/integration/dscim/menu/main_recipe.py:1174: FutureWarning: xarray.ufuncs is deprecated. Instead, use numpy ufuncs directly.\n",
      "  rhos = xr.ufuncs.expm1(xr.DataArray(self.rho, coords=[cons_pc.year]))\n",
      "/home/liruixue/miniconda3/envs/dscim/lib/python3.8/site-packages/xarray/core/dataarray.py:3061: FutureWarning: xarray.ufuncs is deprecated. Instead, use numpy ufuncs directly.\n",
      "  da = self.__array_wrap__(f(self.variable.data, *args, **kwargs))\n"
     ]
    },
    {
     "name": "stdout",
     "output_type": "stream",
     "text": [
      "Saving /mnt/CIL_integration/menu_results_AR6_epa/mortality/2020/unmasked/risk_aversion_euler_ramsey_eta2.0_rho0.0_damage_function_coefficients.nc4\n",
      "Saving /mnt/CIL_integration/menu_results_AR6_epa/mortality/2020/unmasked/risk_aversion_euler_ramsey_eta2.0_rho0.0_discount_factors.nc4\n"
     ]
    },
    {
     "name": "stderr",
     "output_type": "stream",
     "text": [
      "/home/liruixue/repos/integration/dscim/menu/main_recipe.py:1174: FutureWarning: xarray.ufuncs is deprecated. Instead, use numpy ufuncs directly.\n",
      "  rhos = xr.ufuncs.expm1(xr.DataArray(self.rho, coords=[cons_pc.year]))\n",
      "/home/liruixue/miniconda3/envs/dscim/lib/python3.8/site-packages/xarray/core/dataarray.py:3061: FutureWarning: xarray.ufuncs is deprecated. Instead, use numpy ufuncs directly.\n",
      "  da = self.__array_wrap__(f(self.variable.data, *args, **kwargs))\n"
     ]
    },
    {
     "name": "stdout",
     "output_type": "stream",
     "text": [
      "Skipped saving ce_fair_no_pulse.\n",
      "Saving /mnt/CIL_integration/menu_results_AR6_epa/mortality/2020/unmasked/risk_aversion_euler_ramsey_eta2.0_rho0.0_damage_function_coefficients.nc4\n",
      "Skipped saving ce_fair_pulse.\n",
      "Saving /mnt/CIL_integration/menu_results_AR6_epa/mortality/2020/unmasked/risk_aversion_euler_ramsey_eta2.0_rho0.0_damage_function_coefficients.nc4\n",
      "Saving /mnt/CIL_integration/menu_results_AR6_epa/mortality/2020/unmasked/risk_aversion_euler_ramsey_eta2.0_rho0.0_damage_function_coefficients.nc4\n",
      "Saving /mnt/CIL_integration/menu_results_AR6_epa/mortality/2020/unmasked/risk_aversion_euler_ramsey_eta2.0_rho0.0_marginal_damages.nc4\n",
      "Skipped saving ce_fair_no_pulse.\n"
     ]
    },
    {
     "name": "stderr",
     "output_type": "stream",
     "text": [
      "/home/liruixue/repos/integration/dscim/menu/main_recipe.py:1174: FutureWarning: xarray.ufuncs is deprecated. Instead, use numpy ufuncs directly.\n",
      "  rhos = xr.ufuncs.expm1(xr.DataArray(self.rho, coords=[cons_pc.year]))\n",
      "/home/liruixue/miniconda3/envs/dscim/lib/python3.8/site-packages/xarray/core/dataarray.py:3061: FutureWarning: xarray.ufuncs is deprecated. Instead, use numpy ufuncs directly.\n",
      "  da = self.__array_wrap__(f(self.variable.data, *args, **kwargs))\n",
      "/home/liruixue/repos/integration/dscim/menu/main_recipe.py:1174: FutureWarning: xarray.ufuncs is deprecated. Instead, use numpy ufuncs directly.\n",
      "  rhos = xr.ufuncs.expm1(xr.DataArray(self.rho, coords=[cons_pc.year]))\n",
      "/home/liruixue/miniconda3/envs/dscim/lib/python3.8/site-packages/xarray/core/dataarray.py:3061: FutureWarning: xarray.ufuncs is deprecated. Instead, use numpy ufuncs directly.\n",
      "  da = self.__array_wrap__(f(self.variable.data, *args, **kwargs))\n",
      "/home/liruixue/repos/integration/dscim/menu/main_recipe.py:1174: FutureWarning: xarray.ufuncs is deprecated. Instead, use numpy ufuncs directly.\n",
      "  rhos = xr.ufuncs.expm1(xr.DataArray(self.rho, coords=[cons_pc.year]))\n",
      "/home/liruixue/miniconda3/envs/dscim/lib/python3.8/site-packages/xarray/core/dataarray.py:3061: FutureWarning: xarray.ufuncs is deprecated. Instead, use numpy ufuncs directly.\n",
      "  da = self.__array_wrap__(f(self.variable.data, *args, **kwargs))\n"
     ]
    },
    {
     "name": "stdout",
     "output_type": "stream",
     "text": [
      "Saving /mnt/CIL_integration/menu_results_AR6_epa/mortality/2020/unmasked/risk_aversion_euler_ramsey_eta2.0_rho0.0_damage_function_coefficients.nc4\n"
     ]
    },
    {
     "name": "stderr",
     "output_type": "stream",
     "text": [
      "/home/liruixue/repos/integration/dscim/menu/main_recipe.py:1174: FutureWarning: xarray.ufuncs is deprecated. Instead, use numpy ufuncs directly.\n",
      "  rhos = xr.ufuncs.expm1(xr.DataArray(self.rho, coords=[cons_pc.year]))\n",
      "/home/liruixue/miniconda3/envs/dscim/lib/python3.8/site-packages/xarray/core/dataarray.py:3061: FutureWarning: xarray.ufuncs is deprecated. Instead, use numpy ufuncs directly.\n",
      "  da = self.__array_wrap__(f(self.variable.data, *args, **kwargs))\n"
     ]
    },
    {
     "name": "stdout",
     "output_type": "stream",
     "text": [
      "Saving /mnt/CIL_integration/menu_results_AR6_epa/mortality/2020/unmasked/risk_aversion_euler_ramsey_eta2.0_rho0.0_uncollapsed_sccs.nc4\n"
     ]
    },
    {
     "name": "stderr",
     "output_type": "stream",
     "text": [
      "/home/liruixue/repos/integration/dscim/menu/main_recipe.py:1174: FutureWarning: xarray.ufuncs is deprecated. Instead, use numpy ufuncs directly.\n",
      "  rhos = xr.ufuncs.expm1(xr.DataArray(self.rho, coords=[cons_pc.year]))\n",
      "/home/liruixue/miniconda3/envs/dscim/lib/python3.8/site-packages/xarray/core/dataarray.py:3061: FutureWarning: xarray.ufuncs is deprecated. Instead, use numpy ufuncs directly.\n",
      "  da = self.__array_wrap__(f(self.variable.data, *args, **kwargs))\n"
     ]
    },
    {
     "name": "stdout",
     "output_type": "stream",
     "text": [
      "Saving /mnt/CIL_integration/menu_results_AR6_epa/mortality/2020/unmasked/risk_aversion_euler_ramsey_eta2.0_rho0.0_scc.nc4\n",
      "Results available: /mnt/CIL_integration/menu_results_AR6_epa/mortality/2020/unmasked/\n",
      "remaining combos: 74\n",
      "=========================================================\n",
      "('mortality', 2020, 'euler_ramsey', 'risk_aversion', 6, 1.016010255)\n",
      "\n",
      " Executing \n",
      "        Running risk_aversion\n",
      "        sector: mortality\n",
      "        discounting: euler_ramsey\n",
      "        eta: 1.016010255\n",
      "        rho: 9.149608e-05\n",
      "        \n",
      "Processing damage functions ...\n",
      "Existing damage functions not found. Damage points will be loaded.\n",
      "Risk-aversion CEs found at /shares/gcp/integration/CE_library_epa_vsl_bc39/mortality//risk_aversion_ce_no_cc_eta1.016010255.zarr. These are being loaded...\n",
      "Subsetting on {'ssp': ['SSP2', 'SSP3', 'SSP4']} keys.\n",
      "Risk-aversion CEs found at /shares/gcp/integration/CE_library_epa_vsl_bc39/mortality//risk_aversion_ce_cc_eta1.016010255.zarr. These are being loaded...\n",
      "Subsetting on {'ssp': ['SSP2', 'SSP3', 'SSP4']} keys.\n",
      "Subsetting on {'ssp': ['SSP2', 'SSP3', 'SSP4']} keys.\n",
      "Saving /mnt/CIL_integration/menu_results_AR6_epa/mortality/2020/unmasked/risk_aversion_euler_ramsey_eta1.016010255_rho9.149608e-05_damage_function_points.csv\n",
      "Subsetting on {'ssp': ['SSP2', 'SSP3', 'SSP4']} keys.\n",
      "Extrapolating global consumption.\n",
      "End-of-century growth rates are not capped.\n",
      "Skipped saving global_consumption.\n",
      "Saving /mnt/CIL_integration/menu_results_AR6_epa/mortality/2020/unmasked/risk_aversion_euler_ramsey_eta1.016010255_rho9.149608e-05_damage_function_coefficients.nc4\n",
      "Saving /mnt/CIL_integration/menu_results_AR6_epa/mortality/2020/unmasked/risk_aversion_euler_ramsey_eta1.016010255_rho9.149608e-05_damage_function_fit.nc4\n",
      "Processing SCC calculation ...\n",
      "Saving /mnt/CIL_integration/menu_results_AR6_epa/mortality/2020/unmasked/risk_aversion_euler_ramsey_eta1.016010255_rho9.149608e-05_damage_function_coefficients.nc4\n",
      "Skipped saving ce_fair_no_pulse.\n"
     ]
    },
    {
     "name": "stderr",
     "output_type": "stream",
     "text": [
      "/home/liruixue/repos/integration/dscim/menu/main_recipe.py:1174: FutureWarning: xarray.ufuncs is deprecated. Instead, use numpy ufuncs directly.\n",
      "  rhos = xr.ufuncs.expm1(xr.DataArray(self.rho, coords=[cons_pc.year]))\n",
      "/home/liruixue/miniconda3/envs/dscim/lib/python3.8/site-packages/xarray/core/dataarray.py:3061: FutureWarning: xarray.ufuncs is deprecated. Instead, use numpy ufuncs directly.\n",
      "  da = self.__array_wrap__(f(self.variable.data, *args, **kwargs))\n",
      "/home/liruixue/repos/integration/dscim/menu/main_recipe.py:1174: FutureWarning: xarray.ufuncs is deprecated. Instead, use numpy ufuncs directly.\n",
      "  rhos = xr.ufuncs.expm1(xr.DataArray(self.rho, coords=[cons_pc.year]))\n",
      "/home/liruixue/miniconda3/envs/dscim/lib/python3.8/site-packages/xarray/core/dataarray.py:3061: FutureWarning: xarray.ufuncs is deprecated. Instead, use numpy ufuncs directly.\n",
      "  da = self.__array_wrap__(f(self.variable.data, *args, **kwargs))\n"
     ]
    },
    {
     "name": "stdout",
     "output_type": "stream",
     "text": [
      "Saving /mnt/CIL_integration/menu_results_AR6_epa/mortality/2020/unmasked/risk_aversion_euler_ramsey_eta1.016010255_rho9.149608e-05_damage_function_coefficients.nc4\n"
     ]
    },
    {
     "name": "stderr",
     "output_type": "stream",
     "text": [
      "/home/liruixue/repos/integration/dscim/menu/main_recipe.py:1174: FutureWarning: xarray.ufuncs is deprecated. Instead, use numpy ufuncs directly.\n",
      "  rhos = xr.ufuncs.expm1(xr.DataArray(self.rho, coords=[cons_pc.year]))\n",
      "/home/liruixue/miniconda3/envs/dscim/lib/python3.8/site-packages/xarray/core/dataarray.py:3061: FutureWarning: xarray.ufuncs is deprecated. Instead, use numpy ufuncs directly.\n",
      "  da = self.__array_wrap__(f(self.variable.data, *args, **kwargs))\n"
     ]
    },
    {
     "name": "stdout",
     "output_type": "stream",
     "text": [
      "Saving /mnt/CIL_integration/menu_results_AR6_epa/mortality/2020/unmasked/risk_aversion_euler_ramsey_eta1.016010255_rho9.149608e-05_discount_factors.nc4\n"
     ]
    },
    {
     "name": "stderr",
     "output_type": "stream",
     "text": [
      "/home/liruixue/repos/integration/dscim/menu/main_recipe.py:1174: FutureWarning: xarray.ufuncs is deprecated. Instead, use numpy ufuncs directly.\n",
      "  rhos = xr.ufuncs.expm1(xr.DataArray(self.rho, coords=[cons_pc.year]))\n",
      "/home/liruixue/miniconda3/envs/dscim/lib/python3.8/site-packages/xarray/core/dataarray.py:3061: FutureWarning: xarray.ufuncs is deprecated. Instead, use numpy ufuncs directly.\n",
      "  da = self.__array_wrap__(f(self.variable.data, *args, **kwargs))\n",
      "/home/liruixue/miniconda3/envs/dscim/lib/python3.8/site-packages/dask/core.py:119: RuntimeWarning: overflow encountered in power\n",
      "  return func(*(_execute_task(a, cache) for a in args))\n",
      "/home/liruixue/miniconda3/envs/dscim/lib/python3.8/site-packages/dask/core.py:119: RuntimeWarning: overflow encountered in power\n",
      "  return func(*(_execute_task(a, cache) for a in args))\n",
      "/home/liruixue/miniconda3/envs/dscim/lib/python3.8/site-packages/dask/core.py:119: RuntimeWarning: overflow encountered in power\n",
      "  return func(*(_execute_task(a, cache) for a in args))\n",
      "/home/liruixue/miniconda3/envs/dscim/lib/python3.8/site-packages/dask/core.py:119: RuntimeWarning: overflow encountered in power\n",
      "  return func(*(_execute_task(a, cache) for a in args))\n"
     ]
    },
    {
     "name": "stdout",
     "output_type": "stream",
     "text": [
      "Skipped saving ce_fair_no_pulse.\n",
      "Saving /mnt/CIL_integration/menu_results_AR6_epa/mortality/2020/unmasked/risk_aversion_euler_ramsey_eta1.016010255_rho9.149608e-05_damage_function_coefficients.nc4\n",
      "Skipped saving ce_fair_pulse.\n",
      "Saving /mnt/CIL_integration/menu_results_AR6_epa/mortality/2020/unmasked/risk_aversion_euler_ramsey_eta1.016010255_rho9.149608e-05_damage_function_coefficients.nc4\n",
      "Saving /mnt/CIL_integration/menu_results_AR6_epa/mortality/2020/unmasked/risk_aversion_euler_ramsey_eta1.016010255_rho9.149608e-05_damage_function_coefficients.nc4\n",
      "Saving /mnt/CIL_integration/menu_results_AR6_epa/mortality/2020/unmasked/risk_aversion_euler_ramsey_eta1.016010255_rho9.149608e-05_marginal_damages.nc4\n"
     ]
    },
    {
     "name": "stderr",
     "output_type": "stream",
     "text": [
      "/home/liruixue/miniconda3/envs/dscim/lib/python3.8/site-packages/dask/core.py:119: RuntimeWarning: overflow encountered in power\n",
      "  return func(*(_execute_task(a, cache) for a in args))\n",
      "/home/liruixue/miniconda3/envs/dscim/lib/python3.8/site-packages/dask/core.py:119: RuntimeWarning: overflow encountered in power\n",
      "  return func(*(_execute_task(a, cache) for a in args))\n",
      "/home/liruixue/miniconda3/envs/dscim/lib/python3.8/site-packages/dask/core.py:119: RuntimeWarning: overflow encountered in power\n",
      "  return func(*(_execute_task(a, cache) for a in args))\n",
      "/home/liruixue/miniconda3/envs/dscim/lib/python3.8/site-packages/dask/core.py:119: RuntimeWarning: overflow encountered in power\n",
      "  return func(*(_execute_task(a, cache) for a in args))\n",
      "/home/liruixue/miniconda3/envs/dscim/lib/python3.8/site-packages/dask/core.py:119: RuntimeWarning: overflow encountered in power\n",
      "  return func(*(_execute_task(a, cache) for a in args))\n",
      "/home/liruixue/miniconda3/envs/dscim/lib/python3.8/site-packages/dask/core.py:119: RuntimeWarning: overflow encountered in power\n",
      "  return func(*(_execute_task(a, cache) for a in args))\n",
      "/home/liruixue/miniconda3/envs/dscim/lib/python3.8/site-packages/dask/core.py:119: RuntimeWarning: overflow encountered in power\n",
      "  return func(*(_execute_task(a, cache) for a in args))\n",
      "/home/liruixue/miniconda3/envs/dscim/lib/python3.8/site-packages/dask/core.py:119: RuntimeWarning: overflow encountered in power\n",
      "  return func(*(_execute_task(a, cache) for a in args))\n",
      "/home/liruixue/miniconda3/envs/dscim/lib/python3.8/site-packages/dask/core.py:119: RuntimeWarning: overflow encountered in power\n",
      "  return func(*(_execute_task(a, cache) for a in args))\n",
      "/home/liruixue/miniconda3/envs/dscim/lib/python3.8/site-packages/dask/core.py:119: RuntimeWarning: overflow encountered in power\n",
      "  return func(*(_execute_task(a, cache) for a in args))\n",
      "/home/liruixue/miniconda3/envs/dscim/lib/python3.8/site-packages/dask/core.py:119: RuntimeWarning: overflow encountered in power\n",
      "  return func(*(_execute_task(a, cache) for a in args))\n",
      "/home/liruixue/miniconda3/envs/dscim/lib/python3.8/site-packages/dask/core.py:119: RuntimeWarning: overflow encountered in power\n",
      "  return func(*(_execute_task(a, cache) for a in args))\n",
      "/home/liruixue/miniconda3/envs/dscim/lib/python3.8/site-packages/dask/core.py:119: RuntimeWarning: overflow encountered in power\n",
      "  return func(*(_execute_task(a, cache) for a in args))\n",
      "/home/liruixue/miniconda3/envs/dscim/lib/python3.8/site-packages/dask/core.py:119: RuntimeWarning: overflow encountered in power\n",
      "  return func(*(_execute_task(a, cache) for a in args))\n",
      "/home/liruixue/miniconda3/envs/dscim/lib/python3.8/site-packages/dask/core.py:119: RuntimeWarning: overflow encountered in power\n",
      "  return func(*(_execute_task(a, cache) for a in args))\n",
      "/home/liruixue/miniconda3/envs/dscim/lib/python3.8/site-packages/dask/core.py:119: RuntimeWarning: overflow encountered in power\n",
      "  return func(*(_execute_task(a, cache) for a in args))\n",
      "/home/liruixue/miniconda3/envs/dscim/lib/python3.8/site-packages/dask/core.py:119: RuntimeWarning: overflow encountered in power\n",
      "  return func(*(_execute_task(a, cache) for a in args))\n",
      "/home/liruixue/miniconda3/envs/dscim/lib/python3.8/site-packages/dask/core.py:119: RuntimeWarning: overflow encountered in power\n",
      "  return func(*(_execute_task(a, cache) for a in args))\n"
     ]
    },
    {
     "name": "stdout",
     "output_type": "stream",
     "text": [
      "Skipped saving ce_fair_no_pulse.\n"
     ]
    },
    {
     "name": "stderr",
     "output_type": "stream",
     "text": [
      "/home/liruixue/repos/integration/dscim/menu/main_recipe.py:1174: FutureWarning: xarray.ufuncs is deprecated. Instead, use numpy ufuncs directly.\n",
      "  rhos = xr.ufuncs.expm1(xr.DataArray(self.rho, coords=[cons_pc.year]))\n",
      "/home/liruixue/miniconda3/envs/dscim/lib/python3.8/site-packages/xarray/core/dataarray.py:3061: FutureWarning: xarray.ufuncs is deprecated. Instead, use numpy ufuncs directly.\n",
      "  da = self.__array_wrap__(f(self.variable.data, *args, **kwargs))\n",
      "/home/liruixue/repos/integration/dscim/menu/main_recipe.py:1174: FutureWarning: xarray.ufuncs is deprecated. Instead, use numpy ufuncs directly.\n",
      "  rhos = xr.ufuncs.expm1(xr.DataArray(self.rho, coords=[cons_pc.year]))\n",
      "/home/liruixue/miniconda3/envs/dscim/lib/python3.8/site-packages/xarray/core/dataarray.py:3061: FutureWarning: xarray.ufuncs is deprecated. Instead, use numpy ufuncs directly.\n",
      "  da = self.__array_wrap__(f(self.variable.data, *args, **kwargs))\n",
      "/home/liruixue/repos/integration/dscim/menu/main_recipe.py:1174: FutureWarning: xarray.ufuncs is deprecated. Instead, use numpy ufuncs directly.\n",
      "  rhos = xr.ufuncs.expm1(xr.DataArray(self.rho, coords=[cons_pc.year]))\n",
      "/home/liruixue/miniconda3/envs/dscim/lib/python3.8/site-packages/xarray/core/dataarray.py:3061: FutureWarning: xarray.ufuncs is deprecated. Instead, use numpy ufuncs directly.\n",
      "  da = self.__array_wrap__(f(self.variable.data, *args, **kwargs))\n"
     ]
    },
    {
     "name": "stdout",
     "output_type": "stream",
     "text": [
      "Saving /mnt/CIL_integration/menu_results_AR6_epa/mortality/2020/unmasked/risk_aversion_euler_ramsey_eta1.016010255_rho9.149608e-05_damage_function_coefficients.nc4\n"
     ]
    },
    {
     "name": "stderr",
     "output_type": "stream",
     "text": [
      "/home/liruixue/repos/integration/dscim/menu/main_recipe.py:1174: FutureWarning: xarray.ufuncs is deprecated. Instead, use numpy ufuncs directly.\n",
      "  rhos = xr.ufuncs.expm1(xr.DataArray(self.rho, coords=[cons_pc.year]))\n",
      "/home/liruixue/miniconda3/envs/dscim/lib/python3.8/site-packages/xarray/core/dataarray.py:3061: FutureWarning: xarray.ufuncs is deprecated. Instead, use numpy ufuncs directly.\n",
      "  da = self.__array_wrap__(f(self.variable.data, *args, **kwargs))\n",
      "/home/liruixue/repos/integration/dscim/menu/main_recipe.py:1174: FutureWarning: xarray.ufuncs is deprecated. Instead, use numpy ufuncs directly.\n",
      "  rhos = xr.ufuncs.expm1(xr.DataArray(self.rho, coords=[cons_pc.year]))\n",
      "/home/liruixue/miniconda3/envs/dscim/lib/python3.8/site-packages/xarray/core/dataarray.py:3061: FutureWarning: xarray.ufuncs is deprecated. Instead, use numpy ufuncs directly.\n",
      "  da = self.__array_wrap__(f(self.variable.data, *args, **kwargs))\n"
     ]
    },
    {
     "name": "stdout",
     "output_type": "stream",
     "text": [
      "Saving /mnt/CIL_integration/menu_results_AR6_epa/mortality/2020/unmasked/risk_aversion_euler_ramsey_eta1.016010255_rho9.149608e-05_uncollapsed_sccs.nc4\n"
     ]
    },
    {
     "name": "stderr",
     "output_type": "stream",
     "text": [
      "/home/liruixue/miniconda3/envs/dscim/lib/python3.8/site-packages/dask/core.py:119: RuntimeWarning: overflow encountered in power\n",
      "  return func(*(_execute_task(a, cache) for a in args))\n",
      "/home/liruixue/miniconda3/envs/dscim/lib/python3.8/site-packages/dask/core.py:119: RuntimeWarning: overflow encountered in power\n",
      "  return func(*(_execute_task(a, cache) for a in args))\n",
      "/home/liruixue/miniconda3/envs/dscim/lib/python3.8/site-packages/dask/core.py:119: RuntimeWarning: overflow encountered in power\n",
      "  return func(*(_execute_task(a, cache) for a in args))\n",
      "/home/liruixue/miniconda3/envs/dscim/lib/python3.8/site-packages/dask/core.py:119: RuntimeWarning: overflow encountered in power\n",
      "  return func(*(_execute_task(a, cache) for a in args))\n",
      "/home/liruixue/miniconda3/envs/dscim/lib/python3.8/site-packages/dask/core.py:119: RuntimeWarning: overflow encountered in power\n",
      "  return func(*(_execute_task(a, cache) for a in args))\n",
      "/home/liruixue/miniconda3/envs/dscim/lib/python3.8/site-packages/dask/core.py:119: RuntimeWarning: overflow encountered in power\n",
      "  return func(*(_execute_task(a, cache) for a in args))\n",
      "/home/liruixue/miniconda3/envs/dscim/lib/python3.8/site-packages/dask/core.py:119: RuntimeWarning: overflow encountered in power\n",
      "  return func(*(_execute_task(a, cache) for a in args))\n",
      "/home/liruixue/miniconda3/envs/dscim/lib/python3.8/site-packages/dask/core.py:119: RuntimeWarning: overflow encountered in power\n",
      "  return func(*(_execute_task(a, cache) for a in args))\n",
      "/home/liruixue/miniconda3/envs/dscim/lib/python3.8/site-packages/dask/core.py:119: RuntimeWarning: overflow encountered in power\n",
      "  return func(*(_execute_task(a, cache) for a in args))\n",
      "/home/liruixue/miniconda3/envs/dscim/lib/python3.8/site-packages/dask/core.py:119: RuntimeWarning: overflow encountered in power\n",
      "  return func(*(_execute_task(a, cache) for a in args))\n",
      "/home/liruixue/miniconda3/envs/dscim/lib/python3.8/site-packages/dask/core.py:119: RuntimeWarning: overflow encountered in power\n",
      "  return func(*(_execute_task(a, cache) for a in args))\n"
     ]
    },
    {
     "name": "stdout",
     "output_type": "stream",
     "text": [
      "Saving /mnt/CIL_integration/menu_results_AR6_epa/mortality/2020/unmasked/risk_aversion_euler_ramsey_eta1.016010255_rho9.149608e-05_scc.nc4\n"
     ]
    },
    {
     "name": "stderr",
     "output_type": "stream",
     "text": [
      "/home/liruixue/miniconda3/envs/dscim/lib/python3.8/site-packages/dask/core.py:119: RuntimeWarning: overflow encountered in power\n",
      "  return func(*(_execute_task(a, cache) for a in args))\n",
      "/home/liruixue/miniconda3/envs/dscim/lib/python3.8/site-packages/dask/core.py:119: RuntimeWarning: overflow encountered in power\n",
      "  return func(*(_execute_task(a, cache) for a in args))\n",
      "/home/liruixue/miniconda3/envs/dscim/lib/python3.8/site-packages/dask/core.py:119: RuntimeWarning: overflow encountered in power\n",
      "  return func(*(_execute_task(a, cache) for a in args))\n",
      "/home/liruixue/miniconda3/envs/dscim/lib/python3.8/site-packages/dask/core.py:119: RuntimeWarning: overflow encountered in power\n",
      "  return func(*(_execute_task(a, cache) for a in args))\n",
      "/home/liruixue/miniconda3/envs/dscim/lib/python3.8/site-packages/dask/core.py:119: RuntimeWarning: overflow encountered in power\n",
      "  return func(*(_execute_task(a, cache) for a in args))\n",
      "/home/liruixue/miniconda3/envs/dscim/lib/python3.8/site-packages/dask/core.py:119: RuntimeWarning: overflow encountered in power\n",
      "  return func(*(_execute_task(a, cache) for a in args))\n",
      "/home/liruixue/miniconda3/envs/dscim/lib/python3.8/site-packages/dask/core.py:119: RuntimeWarning: overflow encountered in power\n",
      "  return func(*(_execute_task(a, cache) for a in args))\n",
      "/home/liruixue/miniconda3/envs/dscim/lib/python3.8/site-packages/dask/core.py:119: RuntimeWarning: overflow encountered in power\n",
      "  return func(*(_execute_task(a, cache) for a in args))\n"
     ]
    },
    {
     "name": "stdout",
     "output_type": "stream",
     "text": [
      "Results available: /mnt/CIL_integration/menu_results_AR6_epa/mortality/2020/unmasked/\n",
      "remaining combos: 73\n",
      "=========================================================\n",
      "('mortality', 2020, 'euler_ramsey', 'risk_aversion', 6, 1.244459066)\n",
      "\n",
      " Executing \n",
      "        Running risk_aversion\n",
      "        sector: mortality\n",
      "        discounting: euler_ramsey\n",
      "        eta: 1.244459066\n",
      "        rho: 0.00197263997\n",
      "        \n",
      "Processing damage functions ...\n",
      "Existing damage functions not found. Damage points will be loaded.\n",
      "Risk-aversion CEs found at /shares/gcp/integration/CE_library_epa_vsl_bc39/mortality//risk_aversion_ce_no_cc_eta1.244459066.zarr. These are being loaded...\n",
      "Subsetting on {'ssp': ['SSP2', 'SSP3', 'SSP4']} keys.\n",
      "Risk-aversion CEs found at /shares/gcp/integration/CE_library_epa_vsl_bc39/mortality//risk_aversion_ce_cc_eta1.244459066.zarr. These are being loaded...\n",
      "Subsetting on {'ssp': ['SSP2', 'SSP3', 'SSP4']} keys.\n",
      "Subsetting on {'ssp': ['SSP2', 'SSP3', 'SSP4']} keys.\n",
      "Saving /mnt/CIL_integration/menu_results_AR6_epa/mortality/2020/unmasked/risk_aversion_euler_ramsey_eta1.244459066_rho0.00197263997_damage_function_points.csv\n",
      "Subsetting on {'ssp': ['SSP2', 'SSP3', 'SSP4']} keys.\n",
      "Extrapolating global consumption.\n",
      "End-of-century growth rates are not capped.\n",
      "Skipped saving global_consumption.\n",
      "Saving /mnt/CIL_integration/menu_results_AR6_epa/mortality/2020/unmasked/risk_aversion_euler_ramsey_eta1.244459066_rho0.00197263997_damage_function_coefficients.nc4\n",
      "Saving /mnt/CIL_integration/menu_results_AR6_epa/mortality/2020/unmasked/risk_aversion_euler_ramsey_eta1.244459066_rho0.00197263997_damage_function_fit.nc4\n",
      "Processing SCC calculation ...\n",
      "Saving /mnt/CIL_integration/menu_results_AR6_epa/mortality/2020/unmasked/risk_aversion_euler_ramsey_eta1.244459066_rho0.00197263997_damage_function_coefficients.nc4\n",
      "Skipped saving ce_fair_no_pulse.\n"
     ]
    },
    {
     "name": "stderr",
     "output_type": "stream",
     "text": [
      "/home/liruixue/repos/integration/dscim/menu/main_recipe.py:1174: FutureWarning: xarray.ufuncs is deprecated. Instead, use numpy ufuncs directly.\n",
      "  rhos = xr.ufuncs.expm1(xr.DataArray(self.rho, coords=[cons_pc.year]))\n",
      "/home/liruixue/miniconda3/envs/dscim/lib/python3.8/site-packages/xarray/core/dataarray.py:3061: FutureWarning: xarray.ufuncs is deprecated. Instead, use numpy ufuncs directly.\n",
      "  da = self.__array_wrap__(f(self.variable.data, *args, **kwargs))\n",
      "/home/liruixue/repos/integration/dscim/menu/main_recipe.py:1174: FutureWarning: xarray.ufuncs is deprecated. Instead, use numpy ufuncs directly.\n",
      "  rhos = xr.ufuncs.expm1(xr.DataArray(self.rho, coords=[cons_pc.year]))\n",
      "/home/liruixue/miniconda3/envs/dscim/lib/python3.8/site-packages/xarray/core/dataarray.py:3061: FutureWarning: xarray.ufuncs is deprecated. Instead, use numpy ufuncs directly.\n",
      "  da = self.__array_wrap__(f(self.variable.data, *args, **kwargs))\n",
      "/home/liruixue/repos/integration/dscim/menu/main_recipe.py:1174: FutureWarning: xarray.ufuncs is deprecated. Instead, use numpy ufuncs directly.\n",
      "  rhos = xr.ufuncs.expm1(xr.DataArray(self.rho, coords=[cons_pc.year]))\n",
      "/home/liruixue/miniconda3/envs/dscim/lib/python3.8/site-packages/xarray/core/dataarray.py:3061: FutureWarning: xarray.ufuncs is deprecated. Instead, use numpy ufuncs directly.\n",
      "  da = self.__array_wrap__(f(self.variable.data, *args, **kwargs))\n"
     ]
    },
    {
     "name": "stdout",
     "output_type": "stream",
     "text": [
      "Saving /mnt/CIL_integration/menu_results_AR6_epa/mortality/2020/unmasked/risk_aversion_euler_ramsey_eta1.244459066_rho0.00197263997_damage_function_coefficients.nc4\n",
      "Saving /mnt/CIL_integration/menu_results_AR6_epa/mortality/2020/unmasked/risk_aversion_euler_ramsey_eta1.244459066_rho0.00197263997_discount_factors.nc4\n"
     ]
    },
    {
     "name": "stderr",
     "output_type": "stream",
     "text": [
      "/home/liruixue/repos/integration/dscim/menu/main_recipe.py:1174: FutureWarning: xarray.ufuncs is deprecated. Instead, use numpy ufuncs directly.\n",
      "  rhos = xr.ufuncs.expm1(xr.DataArray(self.rho, coords=[cons_pc.year]))\n",
      "/home/liruixue/miniconda3/envs/dscim/lib/python3.8/site-packages/xarray/core/dataarray.py:3061: FutureWarning: xarray.ufuncs is deprecated. Instead, use numpy ufuncs directly.\n",
      "  da = self.__array_wrap__(f(self.variable.data, *args, **kwargs))\n"
     ]
    },
    {
     "name": "stdout",
     "output_type": "stream",
     "text": [
      "Skipped saving ce_fair_no_pulse.\n",
      "Saving /mnt/CIL_integration/menu_results_AR6_epa/mortality/2020/unmasked/risk_aversion_euler_ramsey_eta1.244459066_rho0.00197263997_damage_function_coefficients.nc4\n",
      "Skipped saving ce_fair_pulse.\n",
      "Saving /mnt/CIL_integration/menu_results_AR6_epa/mortality/2020/unmasked/risk_aversion_euler_ramsey_eta1.244459066_rho0.00197263997_damage_function_coefficients.nc4\n",
      "Saving /mnt/CIL_integration/menu_results_AR6_epa/mortality/2020/unmasked/risk_aversion_euler_ramsey_eta1.244459066_rho0.00197263997_damage_function_coefficients.nc4\n",
      "Saving /mnt/CIL_integration/menu_results_AR6_epa/mortality/2020/unmasked/risk_aversion_euler_ramsey_eta1.244459066_rho0.00197263997_marginal_damages.nc4\n",
      "Skipped saving ce_fair_no_pulse.\n"
     ]
    },
    {
     "name": "stderr",
     "output_type": "stream",
     "text": [
      "/home/liruixue/repos/integration/dscim/menu/main_recipe.py:1174: FutureWarning: xarray.ufuncs is deprecated. Instead, use numpy ufuncs directly.\n",
      "  rhos = xr.ufuncs.expm1(xr.DataArray(self.rho, coords=[cons_pc.year]))\n",
      "/home/liruixue/miniconda3/envs/dscim/lib/python3.8/site-packages/xarray/core/dataarray.py:3061: FutureWarning: xarray.ufuncs is deprecated. Instead, use numpy ufuncs directly.\n",
      "  da = self.__array_wrap__(f(self.variable.data, *args, **kwargs))\n",
      "/home/liruixue/repos/integration/dscim/menu/main_recipe.py:1174: FutureWarning: xarray.ufuncs is deprecated. Instead, use numpy ufuncs directly.\n",
      "  rhos = xr.ufuncs.expm1(xr.DataArray(self.rho, coords=[cons_pc.year]))\n",
      "/home/liruixue/miniconda3/envs/dscim/lib/python3.8/site-packages/xarray/core/dataarray.py:3061: FutureWarning: xarray.ufuncs is deprecated. Instead, use numpy ufuncs directly.\n",
      "  da = self.__array_wrap__(f(self.variable.data, *args, **kwargs))\n",
      "/home/liruixue/repos/integration/dscim/menu/main_recipe.py:1174: FutureWarning: xarray.ufuncs is deprecated. Instead, use numpy ufuncs directly.\n",
      "  rhos = xr.ufuncs.expm1(xr.DataArray(self.rho, coords=[cons_pc.year]))\n",
      "/home/liruixue/miniconda3/envs/dscim/lib/python3.8/site-packages/xarray/core/dataarray.py:3061: FutureWarning: xarray.ufuncs is deprecated. Instead, use numpy ufuncs directly.\n",
      "  da = self.__array_wrap__(f(self.variable.data, *args, **kwargs))\n"
     ]
    },
    {
     "name": "stdout",
     "output_type": "stream",
     "text": [
      "Saving /mnt/CIL_integration/menu_results_AR6_epa/mortality/2020/unmasked/risk_aversion_euler_ramsey_eta1.244459066_rho0.00197263997_damage_function_coefficients.nc4\n"
     ]
    },
    {
     "name": "stderr",
     "output_type": "stream",
     "text": [
      "/home/liruixue/repos/integration/dscim/menu/main_recipe.py:1174: FutureWarning: xarray.ufuncs is deprecated. Instead, use numpy ufuncs directly.\n",
      "  rhos = xr.ufuncs.expm1(xr.DataArray(self.rho, coords=[cons_pc.year]))\n",
      "/home/liruixue/miniconda3/envs/dscim/lib/python3.8/site-packages/xarray/core/dataarray.py:3061: FutureWarning: xarray.ufuncs is deprecated. Instead, use numpy ufuncs directly.\n",
      "  da = self.__array_wrap__(f(self.variable.data, *args, **kwargs))\n",
      "/home/liruixue/repos/integration/dscim/menu/main_recipe.py:1174: FutureWarning: xarray.ufuncs is deprecated. Instead, use numpy ufuncs directly.\n",
      "  rhos = xr.ufuncs.expm1(xr.DataArray(self.rho, coords=[cons_pc.year]))\n",
      "/home/liruixue/miniconda3/envs/dscim/lib/python3.8/site-packages/xarray/core/dataarray.py:3061: FutureWarning: xarray.ufuncs is deprecated. Instead, use numpy ufuncs directly.\n",
      "  da = self.__array_wrap__(f(self.variable.data, *args, **kwargs))\n"
     ]
    },
    {
     "name": "stdout",
     "output_type": "stream",
     "text": [
      "Saving /mnt/CIL_integration/menu_results_AR6_epa/mortality/2020/unmasked/risk_aversion_euler_ramsey_eta1.244459066_rho0.00197263997_uncollapsed_sccs.nc4\n",
      "Saving /mnt/CIL_integration/menu_results_AR6_epa/mortality/2020/unmasked/risk_aversion_euler_ramsey_eta1.244459066_rho0.00197263997_scc.nc4\n",
      "Results available: /mnt/CIL_integration/menu_results_AR6_epa/mortality/2020/unmasked/\n",
      "remaining combos: 72\n",
      "=========================================================\n",
      "('mortality', 2020, 'euler_ramsey', 'risk_aversion', 6, 1.421158116)\n",
      "\n",
      " Executing \n",
      "        Running risk_aversion\n",
      "        sector: mortality\n",
      "        discounting: euler_ramsey\n",
      "        eta: 1.421158116\n",
      "        rho: 0.00461878399\n",
      "        \n",
      "Processing damage functions ...\n",
      "Existing damage functions not found. Damage points will be loaded.\n",
      "Risk-aversion CEs found at /shares/gcp/integration/CE_library_epa_vsl_bc39/mortality//risk_aversion_ce_no_cc_eta1.421158116.zarr. These are being loaded...\n",
      "Subsetting on {'ssp': ['SSP2', 'SSP3', 'SSP4']} keys.\n",
      "Risk-aversion CEs found at /shares/gcp/integration/CE_library_epa_vsl_bc39/mortality//risk_aversion_ce_cc_eta1.421158116.zarr. These are being loaded...\n",
      "Subsetting on {'ssp': ['SSP2', 'SSP3', 'SSP4']} keys.\n",
      "Subsetting on {'ssp': ['SSP2', 'SSP3', 'SSP4']} keys.\n",
      "Saving /mnt/CIL_integration/menu_results_AR6_epa/mortality/2020/unmasked/risk_aversion_euler_ramsey_eta1.421158116_rho0.00461878399_damage_function_points.csv\n",
      "Subsetting on {'ssp': ['SSP2', 'SSP3', 'SSP4']} keys.\n",
      "Extrapolating global consumption.\n",
      "End-of-century growth rates are not capped.\n",
      "Skipped saving global_consumption.\n",
      "Saving /mnt/CIL_integration/menu_results_AR6_epa/mortality/2020/unmasked/risk_aversion_euler_ramsey_eta1.421158116_rho0.00461878399_damage_function_coefficients.nc4\n",
      "Saving /mnt/CIL_integration/menu_results_AR6_epa/mortality/2020/unmasked/risk_aversion_euler_ramsey_eta1.421158116_rho0.00461878399_damage_function_fit.nc4\n",
      "Processing SCC calculation ...\n",
      "Saving /mnt/CIL_integration/menu_results_AR6_epa/mortality/2020/unmasked/risk_aversion_euler_ramsey_eta1.421158116_rho0.00461878399_damage_function_coefficients.nc4\n",
      "Skipped saving ce_fair_no_pulse.\n"
     ]
    },
    {
     "name": "stderr",
     "output_type": "stream",
     "text": [
      "/home/liruixue/repos/integration/dscim/menu/main_recipe.py:1174: FutureWarning: xarray.ufuncs is deprecated. Instead, use numpy ufuncs directly.\n",
      "  rhos = xr.ufuncs.expm1(xr.DataArray(self.rho, coords=[cons_pc.year]))\n",
      "/home/liruixue/miniconda3/envs/dscim/lib/python3.8/site-packages/xarray/core/dataarray.py:3061: FutureWarning: xarray.ufuncs is deprecated. Instead, use numpy ufuncs directly.\n",
      "  da = self.__array_wrap__(f(self.variable.data, *args, **kwargs))\n",
      "/home/liruixue/repos/integration/dscim/menu/main_recipe.py:1174: FutureWarning: xarray.ufuncs is deprecated. Instead, use numpy ufuncs directly.\n",
      "  rhos = xr.ufuncs.expm1(xr.DataArray(self.rho, coords=[cons_pc.year]))\n",
      "/home/liruixue/miniconda3/envs/dscim/lib/python3.8/site-packages/xarray/core/dataarray.py:3061: FutureWarning: xarray.ufuncs is deprecated. Instead, use numpy ufuncs directly.\n",
      "  da = self.__array_wrap__(f(self.variable.data, *args, **kwargs))\n",
      "/home/liruixue/repos/integration/dscim/menu/main_recipe.py:1174: FutureWarning: xarray.ufuncs is deprecated. Instead, use numpy ufuncs directly.\n",
      "  rhos = xr.ufuncs.expm1(xr.DataArray(self.rho, coords=[cons_pc.year]))\n",
      "/home/liruixue/miniconda3/envs/dscim/lib/python3.8/site-packages/xarray/core/dataarray.py:3061: FutureWarning: xarray.ufuncs is deprecated. Instead, use numpy ufuncs directly.\n",
      "  da = self.__array_wrap__(f(self.variable.data, *args, **kwargs))\n"
     ]
    },
    {
     "name": "stdout",
     "output_type": "stream",
     "text": [
      "Saving /mnt/CIL_integration/menu_results_AR6_epa/mortality/2020/unmasked/risk_aversion_euler_ramsey_eta1.421158116_rho0.00461878399_damage_function_coefficients.nc4\n"
     ]
    },
    {
     "name": "stderr",
     "output_type": "stream",
     "text": [
      "/home/liruixue/repos/integration/dscim/menu/main_recipe.py:1174: FutureWarning: xarray.ufuncs is deprecated. Instead, use numpy ufuncs directly.\n",
      "  rhos = xr.ufuncs.expm1(xr.DataArray(self.rho, coords=[cons_pc.year]))\n",
      "/home/liruixue/miniconda3/envs/dscim/lib/python3.8/site-packages/xarray/core/dataarray.py:3061: FutureWarning: xarray.ufuncs is deprecated. Instead, use numpy ufuncs directly.\n",
      "  da = self.__array_wrap__(f(self.variable.data, *args, **kwargs))\n"
     ]
    },
    {
     "name": "stdout",
     "output_type": "stream",
     "text": [
      "Saving /mnt/CIL_integration/menu_results_AR6_epa/mortality/2020/unmasked/risk_aversion_euler_ramsey_eta1.421158116_rho0.00461878399_discount_factors.nc4\n",
      "Skipped saving ce_fair_no_pulse.\n",
      "Saving /mnt/CIL_integration/menu_results_AR6_epa/mortality/2020/unmasked/risk_aversion_euler_ramsey_eta1.421158116_rho0.00461878399_damage_function_coefficients.nc4\n",
      "Skipped saving ce_fair_pulse.\n",
      "Saving /mnt/CIL_integration/menu_results_AR6_epa/mortality/2020/unmasked/risk_aversion_euler_ramsey_eta1.421158116_rho0.00461878399_damage_function_coefficients.nc4\n",
      "Saving /mnt/CIL_integration/menu_results_AR6_epa/mortality/2020/unmasked/risk_aversion_euler_ramsey_eta1.421158116_rho0.00461878399_damage_function_coefficients.nc4\n",
      "Saving /mnt/CIL_integration/menu_results_AR6_epa/mortality/2020/unmasked/risk_aversion_euler_ramsey_eta1.421158116_rho0.00461878399_marginal_damages.nc4\n",
      "Skipped saving ce_fair_no_pulse.\n"
     ]
    },
    {
     "name": "stderr",
     "output_type": "stream",
     "text": [
      "/home/liruixue/repos/integration/dscim/menu/main_recipe.py:1174: FutureWarning: xarray.ufuncs is deprecated. Instead, use numpy ufuncs directly.\n",
      "  rhos = xr.ufuncs.expm1(xr.DataArray(self.rho, coords=[cons_pc.year]))\n",
      "/home/liruixue/miniconda3/envs/dscim/lib/python3.8/site-packages/xarray/core/dataarray.py:3061: FutureWarning: xarray.ufuncs is deprecated. Instead, use numpy ufuncs directly.\n",
      "  da = self.__array_wrap__(f(self.variable.data, *args, **kwargs))\n",
      "/home/liruixue/repos/integration/dscim/menu/main_recipe.py:1174: FutureWarning: xarray.ufuncs is deprecated. Instead, use numpy ufuncs directly.\n",
      "  rhos = xr.ufuncs.expm1(xr.DataArray(self.rho, coords=[cons_pc.year]))\n",
      "/home/liruixue/miniconda3/envs/dscim/lib/python3.8/site-packages/xarray/core/dataarray.py:3061: FutureWarning: xarray.ufuncs is deprecated. Instead, use numpy ufuncs directly.\n",
      "  da = self.__array_wrap__(f(self.variable.data, *args, **kwargs))\n",
      "/home/liruixue/repos/integration/dscim/menu/main_recipe.py:1174: FutureWarning: xarray.ufuncs is deprecated. Instead, use numpy ufuncs directly.\n",
      "  rhos = xr.ufuncs.expm1(xr.DataArray(self.rho, coords=[cons_pc.year]))\n",
      "/home/liruixue/miniconda3/envs/dscim/lib/python3.8/site-packages/xarray/core/dataarray.py:3061: FutureWarning: xarray.ufuncs is deprecated. Instead, use numpy ufuncs directly.\n",
      "  da = self.__array_wrap__(f(self.variable.data, *args, **kwargs))\n"
     ]
    },
    {
     "name": "stdout",
     "output_type": "stream",
     "text": [
      "Saving /mnt/CIL_integration/menu_results_AR6_epa/mortality/2020/unmasked/risk_aversion_euler_ramsey_eta1.421158116_rho0.00461878399_damage_function_coefficients.nc4\n"
     ]
    },
    {
     "name": "stderr",
     "output_type": "stream",
     "text": [
      "/home/liruixue/repos/integration/dscim/menu/main_recipe.py:1174: FutureWarning: xarray.ufuncs is deprecated. Instead, use numpy ufuncs directly.\n",
      "  rhos = xr.ufuncs.expm1(xr.DataArray(self.rho, coords=[cons_pc.year]))\n",
      "/home/liruixue/miniconda3/envs/dscim/lib/python3.8/site-packages/xarray/core/dataarray.py:3061: FutureWarning: xarray.ufuncs is deprecated. Instead, use numpy ufuncs directly.\n",
      "  da = self.__array_wrap__(f(self.variable.data, *args, **kwargs))\n"
     ]
    },
    {
     "name": "stdout",
     "output_type": "stream",
     "text": [
      "Saving /mnt/CIL_integration/menu_results_AR6_epa/mortality/2020/unmasked/risk_aversion_euler_ramsey_eta1.421158116_rho0.00461878399_uncollapsed_sccs.nc4\n"
     ]
    },
    {
     "name": "stderr",
     "output_type": "stream",
     "text": [
      "/home/liruixue/repos/integration/dscim/menu/main_recipe.py:1174: FutureWarning: xarray.ufuncs is deprecated. Instead, use numpy ufuncs directly.\n",
      "  rhos = xr.ufuncs.expm1(xr.DataArray(self.rho, coords=[cons_pc.year]))\n",
      "/home/liruixue/miniconda3/envs/dscim/lib/python3.8/site-packages/xarray/core/dataarray.py:3061: FutureWarning: xarray.ufuncs is deprecated. Instead, use numpy ufuncs directly.\n",
      "  da = self.__array_wrap__(f(self.variable.data, *args, **kwargs))\n"
     ]
    },
    {
     "name": "stdout",
     "output_type": "stream",
     "text": [
      "Saving /mnt/CIL_integration/menu_results_AR6_epa/mortality/2020/unmasked/risk_aversion_euler_ramsey_eta1.421158116_rho0.00461878399_scc.nc4\n",
      "Results available: /mnt/CIL_integration/menu_results_AR6_epa/mortality/2020/unmasked/\n",
      "remaining combos: 71\n",
      "=========================================================\n",
      "('mortality', 2020, 'euler_ramsey', 'risk_aversion', 6, 1.567899395)\n",
      "\n",
      " Executing \n",
      "        Running risk_aversion\n",
      "        sector: mortality\n",
      "        discounting: euler_ramsey\n",
      "        eta: 1.567899395\n",
      "        rho: 0.00770271076\n",
      "        \n",
      "Processing damage functions ...\n",
      "Existing damage functions not found. Damage points will be loaded.\n",
      "Risk-aversion CEs found at /shares/gcp/integration/CE_library_epa_vsl_bc39/mortality//risk_aversion_ce_no_cc_eta1.567899395.zarr. These are being loaded...\n",
      "Subsetting on {'ssp': ['SSP2', 'SSP3', 'SSP4']} keys.\n",
      "Risk-aversion CEs found at /shares/gcp/integration/CE_library_epa_vsl_bc39/mortality//risk_aversion_ce_cc_eta1.567899395.zarr. These are being loaded...\n",
      "Subsetting on {'ssp': ['SSP2', 'SSP3', 'SSP4']} keys.\n",
      "Subsetting on {'ssp': ['SSP2', 'SSP3', 'SSP4']} keys.\n",
      "Saving /mnt/CIL_integration/menu_results_AR6_epa/mortality/2020/unmasked/risk_aversion_euler_ramsey_eta1.567899395_rho0.00770271076_damage_function_points.csv\n",
      "Subsetting on {'ssp': ['SSP2', 'SSP3', 'SSP4']} keys.\n",
      "Extrapolating global consumption.\n",
      "End-of-century growth rates are not capped.\n",
      "Skipped saving global_consumption.\n",
      "Saving /mnt/CIL_integration/menu_results_AR6_epa/mortality/2020/unmasked/risk_aversion_euler_ramsey_eta1.567899395_rho0.00770271076_damage_function_coefficients.nc4\n",
      "Saving /mnt/CIL_integration/menu_results_AR6_epa/mortality/2020/unmasked/risk_aversion_euler_ramsey_eta1.567899395_rho0.00770271076_damage_function_fit.nc4\n",
      "Processing SCC calculation ...\n",
      "Saving /mnt/CIL_integration/menu_results_AR6_epa/mortality/2020/unmasked/risk_aversion_euler_ramsey_eta1.567899395_rho0.00770271076_damage_function_coefficients.nc4\n",
      "Skipped saving ce_fair_no_pulse.\n"
     ]
    },
    {
     "name": "stderr",
     "output_type": "stream",
     "text": [
      "/home/liruixue/repos/integration/dscim/menu/main_recipe.py:1174: FutureWarning: xarray.ufuncs is deprecated. Instead, use numpy ufuncs directly.\n",
      "  rhos = xr.ufuncs.expm1(xr.DataArray(self.rho, coords=[cons_pc.year]))\n",
      "/home/liruixue/miniconda3/envs/dscim/lib/python3.8/site-packages/xarray/core/dataarray.py:3061: FutureWarning: xarray.ufuncs is deprecated. Instead, use numpy ufuncs directly.\n",
      "  da = self.__array_wrap__(f(self.variable.data, *args, **kwargs))\n",
      "/home/liruixue/repos/integration/dscim/menu/main_recipe.py:1174: FutureWarning: xarray.ufuncs is deprecated. Instead, use numpy ufuncs directly.\n",
      "  rhos = xr.ufuncs.expm1(xr.DataArray(self.rho, coords=[cons_pc.year]))\n",
      "/home/liruixue/miniconda3/envs/dscim/lib/python3.8/site-packages/xarray/core/dataarray.py:3061: FutureWarning: xarray.ufuncs is deprecated. Instead, use numpy ufuncs directly.\n",
      "  da = self.__array_wrap__(f(self.variable.data, *args, **kwargs))\n",
      "/home/liruixue/repos/integration/dscim/menu/main_recipe.py:1174: FutureWarning: xarray.ufuncs is deprecated. Instead, use numpy ufuncs directly.\n",
      "  rhos = xr.ufuncs.expm1(xr.DataArray(self.rho, coords=[cons_pc.year]))\n",
      "/home/liruixue/miniconda3/envs/dscim/lib/python3.8/site-packages/xarray/core/dataarray.py:3061: FutureWarning: xarray.ufuncs is deprecated. Instead, use numpy ufuncs directly.\n",
      "  da = self.__array_wrap__(f(self.variable.data, *args, **kwargs))\n"
     ]
    },
    {
     "name": "stdout",
     "output_type": "stream",
     "text": [
      "Saving /mnt/CIL_integration/menu_results_AR6_epa/mortality/2020/unmasked/risk_aversion_euler_ramsey_eta1.567899395_rho0.00770271076_damage_function_coefficients.nc4\n",
      "Saving /mnt/CIL_integration/menu_results_AR6_epa/mortality/2020/unmasked/risk_aversion_euler_ramsey_eta1.567899395_rho0.00770271076_discount_factors.nc4\n"
     ]
    },
    {
     "name": "stderr",
     "output_type": "stream",
     "text": [
      "/home/liruixue/repos/integration/dscim/menu/main_recipe.py:1174: FutureWarning: xarray.ufuncs is deprecated. Instead, use numpy ufuncs directly.\n",
      "  rhos = xr.ufuncs.expm1(xr.DataArray(self.rho, coords=[cons_pc.year]))\n",
      "/home/liruixue/miniconda3/envs/dscim/lib/python3.8/site-packages/xarray/core/dataarray.py:3061: FutureWarning: xarray.ufuncs is deprecated. Instead, use numpy ufuncs directly.\n",
      "  da = self.__array_wrap__(f(self.variable.data, *args, **kwargs))\n"
     ]
    },
    {
     "name": "stdout",
     "output_type": "stream",
     "text": [
      "Skipped saving ce_fair_no_pulse.\n",
      "Saving /mnt/CIL_integration/menu_results_AR6_epa/mortality/2020/unmasked/risk_aversion_euler_ramsey_eta1.567899395_rho0.00770271076_damage_function_coefficients.nc4\n",
      "Skipped saving ce_fair_pulse.\n",
      "Saving /mnt/CIL_integration/menu_results_AR6_epa/mortality/2020/unmasked/risk_aversion_euler_ramsey_eta1.567899395_rho0.00770271076_damage_function_coefficients.nc4\n",
      "Saving /mnt/CIL_integration/menu_results_AR6_epa/mortality/2020/unmasked/risk_aversion_euler_ramsey_eta1.567899395_rho0.00770271076_damage_function_coefficients.nc4\n",
      "Saving /mnt/CIL_integration/menu_results_AR6_epa/mortality/2020/unmasked/risk_aversion_euler_ramsey_eta1.567899395_rho0.00770271076_marginal_damages.nc4\n",
      "Skipped saving ce_fair_no_pulse.\n"
     ]
    },
    {
     "name": "stderr",
     "output_type": "stream",
     "text": [
      "/home/liruixue/repos/integration/dscim/menu/main_recipe.py:1174: FutureWarning: xarray.ufuncs is deprecated. Instead, use numpy ufuncs directly.\n",
      "  rhos = xr.ufuncs.expm1(xr.DataArray(self.rho, coords=[cons_pc.year]))\n",
      "/home/liruixue/miniconda3/envs/dscim/lib/python3.8/site-packages/xarray/core/dataarray.py:3061: FutureWarning: xarray.ufuncs is deprecated. Instead, use numpy ufuncs directly.\n",
      "  da = self.__array_wrap__(f(self.variable.data, *args, **kwargs))\n",
      "/home/liruixue/repos/integration/dscim/menu/main_recipe.py:1174: FutureWarning: xarray.ufuncs is deprecated. Instead, use numpy ufuncs directly.\n",
      "  rhos = xr.ufuncs.expm1(xr.DataArray(self.rho, coords=[cons_pc.year]))\n",
      "/home/liruixue/miniconda3/envs/dscim/lib/python3.8/site-packages/xarray/core/dataarray.py:3061: FutureWarning: xarray.ufuncs is deprecated. Instead, use numpy ufuncs directly.\n",
      "  da = self.__array_wrap__(f(self.variable.data, *args, **kwargs))\n",
      "/home/liruixue/repos/integration/dscim/menu/main_recipe.py:1174: FutureWarning: xarray.ufuncs is deprecated. Instead, use numpy ufuncs directly.\n",
      "  rhos = xr.ufuncs.expm1(xr.DataArray(self.rho, coords=[cons_pc.year]))\n",
      "/home/liruixue/miniconda3/envs/dscim/lib/python3.8/site-packages/xarray/core/dataarray.py:3061: FutureWarning: xarray.ufuncs is deprecated. Instead, use numpy ufuncs directly.\n",
      "  da = self.__array_wrap__(f(self.variable.data, *args, **kwargs))\n"
     ]
    },
    {
     "name": "stdout",
     "output_type": "stream",
     "text": [
      "Saving /mnt/CIL_integration/menu_results_AR6_epa/mortality/2020/unmasked/risk_aversion_euler_ramsey_eta1.567899395_rho0.00770271076_damage_function_coefficients.nc4\n"
     ]
    },
    {
     "name": "stderr",
     "output_type": "stream",
     "text": [
      "/home/liruixue/repos/integration/dscim/menu/main_recipe.py:1174: FutureWarning: xarray.ufuncs is deprecated. Instead, use numpy ufuncs directly.\n",
      "  rhos = xr.ufuncs.expm1(xr.DataArray(self.rho, coords=[cons_pc.year]))\n",
      "/home/liruixue/miniconda3/envs/dscim/lib/python3.8/site-packages/xarray/core/dataarray.py:3061: FutureWarning: xarray.ufuncs is deprecated. Instead, use numpy ufuncs directly.\n",
      "  da = self.__array_wrap__(f(self.variable.data, *args, **kwargs))\n"
     ]
    },
    {
     "name": "stdout",
     "output_type": "stream",
     "text": [
      "Saving /mnt/CIL_integration/menu_results_AR6_epa/mortality/2020/unmasked/risk_aversion_euler_ramsey_eta1.567899395_rho0.00770271076_uncollapsed_sccs.nc4\n"
     ]
    },
    {
     "name": "stderr",
     "output_type": "stream",
     "text": [
      "/home/liruixue/repos/integration/dscim/menu/main_recipe.py:1174: FutureWarning: xarray.ufuncs is deprecated. Instead, use numpy ufuncs directly.\n",
      "  rhos = xr.ufuncs.expm1(xr.DataArray(self.rho, coords=[cons_pc.year]))\n",
      "/home/liruixue/miniconda3/envs/dscim/lib/python3.8/site-packages/xarray/core/dataarray.py:3061: FutureWarning: xarray.ufuncs is deprecated. Instead, use numpy ufuncs directly.\n",
      "  da = self.__array_wrap__(f(self.variable.data, *args, **kwargs))\n"
     ]
    },
    {
     "name": "stdout",
     "output_type": "stream",
     "text": [
      "Saving /mnt/CIL_integration/menu_results_AR6_epa/mortality/2020/unmasked/risk_aversion_euler_ramsey_eta1.567899395_rho0.00770271076_scc.nc4\n",
      "Results available: /mnt/CIL_integration/menu_results_AR6_epa/mortality/2020/unmasked/\n",
      "remaining combos: 70\n",
      "=========================================================\n",
      "('mortality', 2020, 'constant', 'adding_up', 6, 2.0)\n",
      "\n",
      " Executing \n",
      "        Running adding_up\n",
      "        sector: mortality\n",
      "        discounting: constant\n",
      "        eta: 2.0\n",
      "        rho: 0.0\n",
      "        \n",
      "Processing damage functions ...\n",
      "Existing damage functions not found. Damage points will be loaded.\n",
      "Adding up aggregated damages found at /shares/gcp/integration/CE_library_epa_vsl_bc39/mortality//adding_up_ce_cc_eta2.0.zarr, /shares/gcp/integration/CE_library_epa_vsl_bc39/mortality//adding_up_ce_no_cc_eta2.0.zarr. These are being loaded...\n",
      "Subsetting on {'ssp': ['SSP2', 'SSP3', 'SSP4']} keys.\n",
      "Subsetting on {'ssp': ['SSP2', 'SSP3', 'SSP4']} keys.\n",
      "Saving /mnt/CIL_integration/menu_results_AR6_epa/mortality/2020/unmasked/adding_up_constant_eta2.0_rho0.0_damage_function_points.csv\n",
      "Subsetting on {'ssp': ['SSP2', 'SSP3', 'SSP4']} keys.\n",
      "Extrapolating global consumption.\n",
      "End-of-century growth rates are not capped.\n",
      "Skipped saving global_consumption.\n",
      "Saving /mnt/CIL_integration/menu_results_AR6_epa/mortality/2020/unmasked/adding_up_constant_eta2.0_rho0.0_damage_function_coefficients.nc4\n",
      "Saving /mnt/CIL_integration/menu_results_AR6_epa/mortality/2020/unmasked/adding_up_constant_eta2.0_rho0.0_damage_function_fit.nc4\n",
      "Processing SCC calculation ...\n",
      "Saving /mnt/CIL_integration/menu_results_AR6_epa/mortality/2020/unmasked/adding_up_constant_eta2.0_rho0.0_damage_function_coefficients.nc4\n",
      "Skipped saving ce_fair_no_pulse.\n",
      "Saving /mnt/CIL_integration/menu_results_AR6_epa/mortality/2020/unmasked/adding_up_constant_eta2.0_rho0.0_damage_function_coefficients.nc4\n",
      "Skipped saving ce_fair_pulse.\n",
      "Saving /mnt/CIL_integration/menu_results_AR6_epa/mortality/2020/unmasked/adding_up_constant_eta2.0_rho0.0_damage_function_coefficients.nc4\n",
      "Saving /mnt/CIL_integration/menu_results_AR6_epa/mortality/2020/unmasked/adding_up_constant_eta2.0_rho0.0_damage_function_coefficients.nc4\n",
      "Saving /mnt/CIL_integration/menu_results_AR6_epa/mortality/2020/unmasked/adding_up_constant_eta2.0_rho0.0_marginal_damages.nc4\n",
      "Saving /mnt/CIL_integration/menu_results_AR6_epa/mortality/2020/unmasked/adding_up_constant_eta2.0_rho0.0_uncollapsed_sccs.nc4\n"
     ]
    },
    {
     "name": "stderr",
     "output_type": "stream",
     "text": [
      "/home/liruixue/miniconda3/envs/dscim/lib/python3.8/site-packages/dask/array/core.py:4458: PerformanceWarning: Increasing number of chunks by factor of 14\n",
      "  result = blockwise(\n"
     ]
    },
    {
     "name": "stdout",
     "output_type": "stream",
     "text": [
      "Saving /mnt/CIL_integration/menu_results_AR6_epa/mortality/2020/unmasked/adding_up_constant_eta2.0_rho0.0_scc.nc4\n",
      "Results available: /mnt/CIL_integration/menu_results_AR6_epa/mortality/2020/unmasked/\n",
      "remaining combos: 69\n",
      "=========================================================\n",
      "('mortality', 2020, 'constant', 'adding_up', 6, 1.016010255)\n",
      "\n",
      " Executing \n",
      "        Running adding_up\n",
      "        sector: mortality\n",
      "        discounting: constant\n",
      "        eta: 1.016010255\n",
      "        rho: 9.149608e-05\n",
      "        \n",
      "Processing damage functions ...\n",
      "Existing damage functions not found. Damage points will be loaded.\n",
      "Adding up aggregated damages found at /shares/gcp/integration/CE_library_epa_vsl_bc39/mortality//adding_up_ce_cc_eta1.016010255.zarr, /shares/gcp/integration/CE_library_epa_vsl_bc39/mortality//adding_up_ce_no_cc_eta1.016010255.zarr. These are being loaded...\n",
      "Subsetting on {'ssp': ['SSP2', 'SSP3', 'SSP4']} keys.\n",
      "Subsetting on {'ssp': ['SSP2', 'SSP3', 'SSP4']} keys.\n",
      "Saving /mnt/CIL_integration/menu_results_AR6_epa/mortality/2020/unmasked/adding_up_constant_eta1.016010255_rho9.149608e-05_damage_function_points.csv\n",
      "Subsetting on {'ssp': ['SSP2', 'SSP3', 'SSP4']} keys.\n",
      "Extrapolating global consumption.\n",
      "End-of-century growth rates are not capped.\n",
      "Skipped saving global_consumption.\n",
      "Saving /mnt/CIL_integration/menu_results_AR6_epa/mortality/2020/unmasked/adding_up_constant_eta1.016010255_rho9.149608e-05_damage_function_coefficients.nc4\n",
      "Saving /mnt/CIL_integration/menu_results_AR6_epa/mortality/2020/unmasked/adding_up_constant_eta1.016010255_rho9.149608e-05_damage_function_fit.nc4\n",
      "Processing SCC calculation ...\n",
      "Saving /mnt/CIL_integration/menu_results_AR6_epa/mortality/2020/unmasked/adding_up_constant_eta1.016010255_rho9.149608e-05_damage_function_coefficients.nc4\n",
      "Skipped saving ce_fair_no_pulse.\n",
      "Saving /mnt/CIL_integration/menu_results_AR6_epa/mortality/2020/unmasked/adding_up_constant_eta1.016010255_rho9.149608e-05_damage_function_coefficients.nc4\n",
      "Skipped saving ce_fair_pulse.\n",
      "Saving /mnt/CIL_integration/menu_results_AR6_epa/mortality/2020/unmasked/adding_up_constant_eta1.016010255_rho9.149608e-05_damage_function_coefficients.nc4\n",
      "Saving /mnt/CIL_integration/menu_results_AR6_epa/mortality/2020/unmasked/adding_up_constant_eta1.016010255_rho9.149608e-05_damage_function_coefficients.nc4\n",
      "Saving /mnt/CIL_integration/menu_results_AR6_epa/mortality/2020/unmasked/adding_up_constant_eta1.016010255_rho9.149608e-05_marginal_damages.nc4\n"
     ]
    },
    {
     "name": "stderr",
     "output_type": "stream",
     "text": [
      "/home/liruixue/miniconda3/envs/dscim/lib/python3.8/site-packages/dask/core.py:119: RuntimeWarning: overflow encountered in power\n",
      "  return func(*(_execute_task(a, cache) for a in args))\n",
      "/home/liruixue/miniconda3/envs/dscim/lib/python3.8/site-packages/dask/core.py:119: RuntimeWarning: overflow encountered in power\n",
      "  return func(*(_execute_task(a, cache) for a in args))\n",
      "/home/liruixue/miniconda3/envs/dscim/lib/python3.8/site-packages/dask/core.py:119: RuntimeWarning: overflow encountered in power\n",
      "  return func(*(_execute_task(a, cache) for a in args))\n",
      "/home/liruixue/miniconda3/envs/dscim/lib/python3.8/site-packages/dask/core.py:119: RuntimeWarning: overflow encountered in power\n",
      "  return func(*(_execute_task(a, cache) for a in args))\n",
      "/home/liruixue/miniconda3/envs/dscim/lib/python3.8/site-packages/dask/core.py:119: RuntimeWarning: overflow encountered in power\n",
      "  return func(*(_execute_task(a, cache) for a in args))\n",
      "/home/liruixue/miniconda3/envs/dscim/lib/python3.8/site-packages/dask/core.py:119: RuntimeWarning: overflow encountered in power\n",
      "  return func(*(_execute_task(a, cache) for a in args))\n",
      "/home/liruixue/miniconda3/envs/dscim/lib/python3.8/site-packages/dask/core.py:119: RuntimeWarning: overflow encountered in power\n",
      "  return func(*(_execute_task(a, cache) for a in args))\n",
      "/home/liruixue/miniconda3/envs/dscim/lib/python3.8/site-packages/dask/core.py:119: RuntimeWarning: overflow encountered in power\n",
      "  return func(*(_execute_task(a, cache) for a in args))\n",
      "/home/liruixue/miniconda3/envs/dscim/lib/python3.8/site-packages/dask/core.py:119: RuntimeWarning: overflow encountered in power\n",
      "  return func(*(_execute_task(a, cache) for a in args))\n",
      "/home/liruixue/miniconda3/envs/dscim/lib/python3.8/site-packages/dask/core.py:119: RuntimeWarning: overflow encountered in power\n",
      "  return func(*(_execute_task(a, cache) for a in args))\n",
      "/home/liruixue/miniconda3/envs/dscim/lib/python3.8/site-packages/dask/core.py:119: RuntimeWarning: overflow encountered in power\n",
      "  return func(*(_execute_task(a, cache) for a in args))\n"
     ]
    },
    {
     "name": "stdout",
     "output_type": "stream",
     "text": [
      "Saving /mnt/CIL_integration/menu_results_AR6_epa/mortality/2020/unmasked/adding_up_constant_eta1.016010255_rho9.149608e-05_uncollapsed_sccs.nc4\n"
     ]
    },
    {
     "name": "stderr",
     "output_type": "stream",
     "text": [
      "/home/liruixue/miniconda3/envs/dscim/lib/python3.8/site-packages/dask/core.py:119: RuntimeWarning: overflow encountered in power\n",
      "  return func(*(_execute_task(a, cache) for a in args))\n",
      "/home/liruixue/miniconda3/envs/dscim/lib/python3.8/site-packages/dask/array/core.py:4458: PerformanceWarning: Increasing number of chunks by factor of 14\n",
      "  result = blockwise(\n",
      "/home/liruixue/miniconda3/envs/dscim/lib/python3.8/site-packages/dask/core.py:119: RuntimeWarning: overflow encountered in power\n",
      "  return func(*(_execute_task(a, cache) for a in args))\n",
      "/home/liruixue/miniconda3/envs/dscim/lib/python3.8/site-packages/dask/core.py:119: RuntimeWarning: overflow encountered in power\n",
      "  return func(*(_execute_task(a, cache) for a in args))\n",
      "/home/liruixue/miniconda3/envs/dscim/lib/python3.8/site-packages/dask/core.py:119: RuntimeWarning: overflow encountered in power\n",
      "  return func(*(_execute_task(a, cache) for a in args))\n",
      "/home/liruixue/miniconda3/envs/dscim/lib/python3.8/site-packages/dask/core.py:119: RuntimeWarning: overflow encountered in power\n",
      "  return func(*(_execute_task(a, cache) for a in args))\n",
      "/home/liruixue/miniconda3/envs/dscim/lib/python3.8/site-packages/dask/core.py:119: RuntimeWarning: overflow encountered in power\n",
      "  return func(*(_execute_task(a, cache) for a in args))\n"
     ]
    },
    {
     "name": "stdout",
     "output_type": "stream",
     "text": [
      "Saving /mnt/CIL_integration/menu_results_AR6_epa/mortality/2020/unmasked/adding_up_constant_eta1.016010255_rho9.149608e-05_scc.nc4\n"
     ]
    },
    {
     "name": "stderr",
     "output_type": "stream",
     "text": [
      "/home/liruixue/miniconda3/envs/dscim/lib/python3.8/site-packages/dask/core.py:119: RuntimeWarning: overflow encountered in power\n",
      "  return func(*(_execute_task(a, cache) for a in args))\n"
     ]
    },
    {
     "name": "stdout",
     "output_type": "stream",
     "text": [
      "Results available: /mnt/CIL_integration/menu_results_AR6_epa/mortality/2020/unmasked/\n",
      "remaining combos: 68\n",
      "=========================================================\n",
      "('mortality', 2020, 'constant', 'adding_up', 6, 1.244459066)\n",
      "\n",
      " Executing \n",
      "        Running adding_up\n",
      "        sector: mortality\n",
      "        discounting: constant\n",
      "        eta: 1.244459066\n",
      "        rho: 0.00197263997\n",
      "        \n",
      "Processing damage functions ...\n",
      "Existing damage functions not found. Damage points will be loaded.\n",
      "Adding up aggregated damages found at /shares/gcp/integration/CE_library_epa_vsl_bc39/mortality//adding_up_ce_cc_eta1.244459066.zarr, /shares/gcp/integration/CE_library_epa_vsl_bc39/mortality//adding_up_ce_no_cc_eta1.244459066.zarr. These are being loaded...\n",
      "Subsetting on {'ssp': ['SSP2', 'SSP3', 'SSP4']} keys.\n",
      "Subsetting on {'ssp': ['SSP2', 'SSP3', 'SSP4']} keys.\n",
      "Saving /mnt/CIL_integration/menu_results_AR6_epa/mortality/2020/unmasked/adding_up_constant_eta1.244459066_rho0.00197263997_damage_function_points.csv\n",
      "Subsetting on {'ssp': ['SSP2', 'SSP3', 'SSP4']} keys.\n",
      "Extrapolating global consumption.\n",
      "End-of-century growth rates are not capped.\n",
      "Skipped saving global_consumption.\n",
      "Saving /mnt/CIL_integration/menu_results_AR6_epa/mortality/2020/unmasked/adding_up_constant_eta1.244459066_rho0.00197263997_damage_function_coefficients.nc4\n",
      "Saving /mnt/CIL_integration/menu_results_AR6_epa/mortality/2020/unmasked/adding_up_constant_eta1.244459066_rho0.00197263997_damage_function_fit.nc4\n",
      "Processing SCC calculation ...\n",
      "Saving /mnt/CIL_integration/menu_results_AR6_epa/mortality/2020/unmasked/adding_up_constant_eta1.244459066_rho0.00197263997_damage_function_coefficients.nc4\n",
      "Skipped saving ce_fair_no_pulse.\n",
      "Saving /mnt/CIL_integration/menu_results_AR6_epa/mortality/2020/unmasked/adding_up_constant_eta1.244459066_rho0.00197263997_damage_function_coefficients.nc4\n",
      "Skipped saving ce_fair_pulse.\n",
      "Saving /mnt/CIL_integration/menu_results_AR6_epa/mortality/2020/unmasked/adding_up_constant_eta1.244459066_rho0.00197263997_damage_function_coefficients.nc4\n",
      "Saving /mnt/CIL_integration/menu_results_AR6_epa/mortality/2020/unmasked/adding_up_constant_eta1.244459066_rho0.00197263997_damage_function_coefficients.nc4\n",
      "Saving /mnt/CIL_integration/menu_results_AR6_epa/mortality/2020/unmasked/adding_up_constant_eta1.244459066_rho0.00197263997_marginal_damages.nc4\n",
      "Saving /mnt/CIL_integration/menu_results_AR6_epa/mortality/2020/unmasked/adding_up_constant_eta1.244459066_rho0.00197263997_uncollapsed_sccs.nc4\n"
     ]
    },
    {
     "name": "stderr",
     "output_type": "stream",
     "text": [
      "/home/liruixue/miniconda3/envs/dscim/lib/python3.8/site-packages/dask/array/core.py:4458: PerformanceWarning: Increasing number of chunks by factor of 14\n",
      "  result = blockwise(\n"
     ]
    },
    {
     "name": "stdout",
     "output_type": "stream",
     "text": [
      "Saving /mnt/CIL_integration/menu_results_AR6_epa/mortality/2020/unmasked/adding_up_constant_eta1.244459066_rho0.00197263997_scc.nc4\n",
      "Results available: /mnt/CIL_integration/menu_results_AR6_epa/mortality/2020/unmasked/\n",
      "remaining combos: 67\n",
      "=========================================================\n",
      "('mortality', 2020, 'constant', 'adding_up', 6, 1.421158116)\n",
      "\n",
      " Executing \n",
      "        Running adding_up\n",
      "        sector: mortality\n",
      "        discounting: constant\n",
      "        eta: 1.421158116\n",
      "        rho: 0.00461878399\n",
      "        \n",
      "Processing damage functions ...\n",
      "Existing damage functions not found. Damage points will be loaded.\n",
      "Adding up aggregated damages found at /shares/gcp/integration/CE_library_epa_vsl_bc39/mortality//adding_up_ce_cc_eta1.421158116.zarr, /shares/gcp/integration/CE_library_epa_vsl_bc39/mortality//adding_up_ce_no_cc_eta1.421158116.zarr. These are being loaded...\n",
      "Subsetting on {'ssp': ['SSP2', 'SSP3', 'SSP4']} keys.\n",
      "Subsetting on {'ssp': ['SSP2', 'SSP3', 'SSP4']} keys.\n",
      "Saving /mnt/CIL_integration/menu_results_AR6_epa/mortality/2020/unmasked/adding_up_constant_eta1.421158116_rho0.00461878399_damage_function_points.csv\n",
      "Subsetting on {'ssp': ['SSP2', 'SSP3', 'SSP4']} keys.\n",
      "Extrapolating global consumption.\n",
      "End-of-century growth rates are not capped.\n",
      "Skipped saving global_consumption.\n",
      "Saving /mnt/CIL_integration/menu_results_AR6_epa/mortality/2020/unmasked/adding_up_constant_eta1.421158116_rho0.00461878399_damage_function_coefficients.nc4\n",
      "Saving /mnt/CIL_integration/menu_results_AR6_epa/mortality/2020/unmasked/adding_up_constant_eta1.421158116_rho0.00461878399_damage_function_fit.nc4\n",
      "Processing SCC calculation ...\n",
      "Saving /mnt/CIL_integration/menu_results_AR6_epa/mortality/2020/unmasked/adding_up_constant_eta1.421158116_rho0.00461878399_damage_function_coefficients.nc4\n",
      "Skipped saving ce_fair_no_pulse.\n",
      "Saving /mnt/CIL_integration/menu_results_AR6_epa/mortality/2020/unmasked/adding_up_constant_eta1.421158116_rho0.00461878399_damage_function_coefficients.nc4\n",
      "Skipped saving ce_fair_pulse.\n",
      "Saving /mnt/CIL_integration/menu_results_AR6_epa/mortality/2020/unmasked/adding_up_constant_eta1.421158116_rho0.00461878399_damage_function_coefficients.nc4\n",
      "Saving /mnt/CIL_integration/menu_results_AR6_epa/mortality/2020/unmasked/adding_up_constant_eta1.421158116_rho0.00461878399_damage_function_coefficients.nc4\n",
      "Saving /mnt/CIL_integration/menu_results_AR6_epa/mortality/2020/unmasked/adding_up_constant_eta1.421158116_rho0.00461878399_marginal_damages.nc4\n",
      "Saving /mnt/CIL_integration/menu_results_AR6_epa/mortality/2020/unmasked/adding_up_constant_eta1.421158116_rho0.00461878399_uncollapsed_sccs.nc4\n"
     ]
    },
    {
     "name": "stderr",
     "output_type": "stream",
     "text": [
      "/home/liruixue/miniconda3/envs/dscim/lib/python3.8/site-packages/dask/array/core.py:4458: PerformanceWarning: Increasing number of chunks by factor of 14\n",
      "  result = blockwise(\n"
     ]
    },
    {
     "name": "stdout",
     "output_type": "stream",
     "text": [
      "Saving /mnt/CIL_integration/menu_results_AR6_epa/mortality/2020/unmasked/adding_up_constant_eta1.421158116_rho0.00461878399_scc.nc4\n",
      "Results available: /mnt/CIL_integration/menu_results_AR6_epa/mortality/2020/unmasked/\n",
      "remaining combos: 66\n",
      "=========================================================\n",
      "('mortality', 2020, 'constant', 'adding_up', 6, 1.567899395)\n",
      "\n",
      " Executing \n",
      "        Running adding_up\n",
      "        sector: mortality\n",
      "        discounting: constant\n",
      "        eta: 1.567899395\n",
      "        rho: 0.00770271076\n",
      "        \n",
      "Processing damage functions ...\n",
      "Existing damage functions not found. Damage points will be loaded.\n",
      "Adding up aggregated damages found at /shares/gcp/integration/CE_library_epa_vsl_bc39/mortality//adding_up_ce_cc_eta1.567899395.zarr, /shares/gcp/integration/CE_library_epa_vsl_bc39/mortality//adding_up_ce_no_cc_eta1.567899395.zarr. These are being loaded...\n",
      "Subsetting on {'ssp': ['SSP2', 'SSP3', 'SSP4']} keys.\n",
      "Subsetting on {'ssp': ['SSP2', 'SSP3', 'SSP4']} keys.\n",
      "Saving /mnt/CIL_integration/menu_results_AR6_epa/mortality/2020/unmasked/adding_up_constant_eta1.567899395_rho0.00770271076_damage_function_points.csv\n",
      "Subsetting on {'ssp': ['SSP2', 'SSP3', 'SSP4']} keys.\n",
      "Extrapolating global consumption.\n",
      "End-of-century growth rates are not capped.\n",
      "Skipped saving global_consumption.\n",
      "Saving /mnt/CIL_integration/menu_results_AR6_epa/mortality/2020/unmasked/adding_up_constant_eta1.567899395_rho0.00770271076_damage_function_coefficients.nc4\n",
      "Saving /mnt/CIL_integration/menu_results_AR6_epa/mortality/2020/unmasked/adding_up_constant_eta1.567899395_rho0.00770271076_damage_function_fit.nc4\n",
      "Processing SCC calculation ...\n",
      "Saving /mnt/CIL_integration/menu_results_AR6_epa/mortality/2020/unmasked/adding_up_constant_eta1.567899395_rho0.00770271076_damage_function_coefficients.nc4\n",
      "Skipped saving ce_fair_no_pulse.\n",
      "Saving /mnt/CIL_integration/menu_results_AR6_epa/mortality/2020/unmasked/adding_up_constant_eta1.567899395_rho0.00770271076_damage_function_coefficients.nc4\n",
      "Skipped saving ce_fair_pulse.\n",
      "Saving /mnt/CIL_integration/menu_results_AR6_epa/mortality/2020/unmasked/adding_up_constant_eta1.567899395_rho0.00770271076_damage_function_coefficients.nc4\n",
      "Saving /mnt/CIL_integration/menu_results_AR6_epa/mortality/2020/unmasked/adding_up_constant_eta1.567899395_rho0.00770271076_damage_function_coefficients.nc4\n",
      "Saving /mnt/CIL_integration/menu_results_AR6_epa/mortality/2020/unmasked/adding_up_constant_eta1.567899395_rho0.00770271076_marginal_damages.nc4\n",
      "Saving /mnt/CIL_integration/menu_results_AR6_epa/mortality/2020/unmasked/adding_up_constant_eta1.567899395_rho0.00770271076_uncollapsed_sccs.nc4\n"
     ]
    },
    {
     "name": "stderr",
     "output_type": "stream",
     "text": [
      "/home/liruixue/miniconda3/envs/dscim/lib/python3.8/site-packages/dask/array/core.py:4458: PerformanceWarning: Increasing number of chunks by factor of 14\n",
      "  result = blockwise(\n"
     ]
    },
    {
     "name": "stdout",
     "output_type": "stream",
     "text": [
      "Saving /mnt/CIL_integration/menu_results_AR6_epa/mortality/2020/unmasked/adding_up_constant_eta1.567899395_rho0.00770271076_scc.nc4\n",
      "Results available: /mnt/CIL_integration/menu_results_AR6_epa/mortality/2020/unmasked/\n",
      "remaining combos: 65\n",
      "=========================================================\n",
      "('mortality', 2020, 'constant', 'risk_aversion', 6, 2.0)\n",
      "\n",
      " Executing \n",
      "        Running risk_aversion\n",
      "        sector: mortality\n",
      "        discounting: constant\n",
      "        eta: 2.0\n",
      "        rho: 0.0\n",
      "        \n",
      "Processing damage functions ...\n",
      "Existing damage functions not found. Damage points will be loaded.\n",
      "Risk-aversion CEs found at /shares/gcp/integration/CE_library_epa_vsl_bc39/mortality//risk_aversion_ce_no_cc_eta2.0.zarr. These are being loaded...\n",
      "Subsetting on {'ssp': ['SSP2', 'SSP3', 'SSP4']} keys.\n",
      "Risk-aversion CEs found at /shares/gcp/integration/CE_library_epa_vsl_bc39/mortality//risk_aversion_ce_cc_eta2.0.zarr. These are being loaded...\n",
      "Subsetting on {'ssp': ['SSP2', 'SSP3', 'SSP4']} keys.\n",
      "Subsetting on {'ssp': ['SSP2', 'SSP3', 'SSP4']} keys.\n",
      "Saving /mnt/CIL_integration/menu_results_AR6_epa/mortality/2020/unmasked/risk_aversion_constant_eta2.0_rho0.0_damage_function_points.csv\n",
      "Subsetting on {'ssp': ['SSP2', 'SSP3', 'SSP4']} keys.\n",
      "Extrapolating global consumption.\n",
      "End-of-century growth rates are not capped.\n",
      "Skipped saving global_consumption.\n",
      "Saving /mnt/CIL_integration/menu_results_AR6_epa/mortality/2020/unmasked/risk_aversion_constant_eta2.0_rho0.0_damage_function_coefficients.nc4\n",
      "Saving /mnt/CIL_integration/menu_results_AR6_epa/mortality/2020/unmasked/risk_aversion_constant_eta2.0_rho0.0_damage_function_fit.nc4\n",
      "Processing SCC calculation ...\n",
      "Saving /mnt/CIL_integration/menu_results_AR6_epa/mortality/2020/unmasked/risk_aversion_constant_eta2.0_rho0.0_damage_function_coefficients.nc4\n",
      "Skipped saving ce_fair_no_pulse.\n",
      "Saving /mnt/CIL_integration/menu_results_AR6_epa/mortality/2020/unmasked/risk_aversion_constant_eta2.0_rho0.0_damage_function_coefficients.nc4\n",
      "Skipped saving ce_fair_pulse.\n",
      "Saving /mnt/CIL_integration/menu_results_AR6_epa/mortality/2020/unmasked/risk_aversion_constant_eta2.0_rho0.0_damage_function_coefficients.nc4\n",
      "Saving /mnt/CIL_integration/menu_results_AR6_epa/mortality/2020/unmasked/risk_aversion_constant_eta2.0_rho0.0_damage_function_coefficients.nc4\n",
      "Saving /mnt/CIL_integration/menu_results_AR6_epa/mortality/2020/unmasked/risk_aversion_constant_eta2.0_rho0.0_marginal_damages.nc4\n"
     ]
    },
    {
     "name": "stderr",
     "output_type": "stream",
     "text": [
      "ERROR:root:Internal Python error in the inspect module.\n",
      "Below is the traceback from this internal error.\n",
      "\n"
     ]
    },
    {
     "name": "stdout",
     "output_type": "stream",
     "text": [
      "Traceback (most recent call last):\n",
      "  File \"/home/liruixue/miniconda3/envs/dscim/lib/python3.8/site-packages/IPython/core/interactiveshell.py\", line 3444, in run_code\n",
      "    exec(code_obj, self.user_global_ns, self.user_ns)\n",
      "  File \"/tmp/ipykernel_146334/40617060.py\", line 39, in <module>\n",
      "    menu_item.order_plate('scc')\n",
      "  File \"/home/liruixue/repos/integration/dscim/menu/main_recipe.py\", line 298, in order_plate\n",
      "    course_dict[course]()\n",
      "  File \"/home/liruixue/repos/integration/dscim/menu/main_recipe.py\", line 292, in scc\n",
      "    self.calculate_scc\n",
      "  File \"/home/liruixue/repos/integration/dscim/descriptors.py\", line 18, in __get__\n",
      "    setattr(instance, self.__func__.__name__, self.__func__(instance))\n",
      "  File \"/home/liruixue/repos/integration/dscim/menu/decorators.py\", line 26, in save_wrap\n",
      "    out = func(self, *args, **kwargs)\n",
      "  File \"/home/liruixue/repos/integration/dscim/menu/main_recipe.py\", line 1046, in calculate_scc\n",
      "    damages=self.marginal_damages, discrate=self.discounting_type\n",
      "  File \"/home/liruixue/repos/integration/dscim/descriptors.py\", line 18, in __get__\n",
      "    setattr(instance, self.__func__.__name__, self.__func__(instance))\n",
      "  File \"/home/liruixue/repos/integration/dscim/menu/decorators.py\", line 44, in save_wrap\n",
      "    save.to_netcdf(f\"{filename_path}.nc4\")\n",
      "  File \"/home/liruixue/miniconda3/envs/dscim/lib/python3.8/site-packages/xarray/core/dataset.py\", line 1902, in to_netcdf\n",
      "    return to_netcdf(\n",
      "  File \"/home/liruixue/miniconda3/envs/dscim/lib/python3.8/site-packages/xarray/backends/api.py\", line 1081, in to_netcdf\n",
      "    writes = writer.sync(compute=compute)\n",
      "  File \"/home/liruixue/miniconda3/envs/dscim/lib/python3.8/site-packages/xarray/backends/common.py\", line 166, in sync\n",
      "    delayed_store = da.store(\n",
      "  File \"/home/liruixue/miniconda3/envs/dscim/lib/python3.8/site-packages/dask/array/core.py\", line 1076, in store\n",
      "    compute_as_if_collection(Array, store_dsk, map_keys, **kwargs)\n",
      "  File \"/home/liruixue/miniconda3/envs/dscim/lib/python3.8/site-packages/dask/base.py\", line 315, in compute_as_if_collection\n",
      "    return schedule(dsk2, keys, **kwargs)\n",
      "  File \"/home/liruixue/miniconda3/envs/dscim/lib/python3.8/site-packages/dask/threaded.py\", line 79, in get\n",
      "    results = get_async(\n",
      "  File \"/home/liruixue/miniconda3/envs/dscim/lib/python3.8/site-packages/dask/local.py\", line 496, in get_async\n",
      "    for key, res_info, failed in queue_get(queue).result():\n",
      "  File \"/home/liruixue/miniconda3/envs/dscim/lib/python3.8/site-packages/dask/local.py\", line 134, in queue_get\n",
      "    return q.get()\n",
      "  File \"/home/liruixue/miniconda3/envs/dscim/lib/python3.8/queue.py\", line 170, in get\n",
      "    self.not_empty.wait()\n",
      "  File \"/home/liruixue/miniconda3/envs/dscim/lib/python3.8/threading.py\", line 302, in wait\n",
      "    waiter.acquire()\n",
      "KeyboardInterrupt\n",
      "\n",
      "During handling of the above exception, another exception occurred:\n",
      "\n",
      "Traceback (most recent call last):\n",
      "  File \"/home/liruixue/miniconda3/envs/dscim/lib/python3.8/site-packages/IPython/core/interactiveshell.py\", line 2064, in showtraceback\n",
      "    stb = value._render_traceback_()\n",
      "AttributeError: 'KeyboardInterrupt' object has no attribute '_render_traceback_'\n",
      "\n",
      "During handling of the above exception, another exception occurred:\n",
      "\n",
      "Traceback (most recent call last):\n",
      "  File \"/home/liruixue/miniconda3/envs/dscim/lib/python3.8/site-packages/IPython/core/ultratb.py\", line 1101, in get_records\n",
      "    return _fixed_getinnerframes(etb, number_of_lines_of_context, tb_offset)\n",
      "  File \"/home/liruixue/miniconda3/envs/dscim/lib/python3.8/site-packages/IPython/core/ultratb.py\", line 248, in wrapped\n",
      "    return f(*args, **kwargs)\n",
      "  File \"/home/liruixue/miniconda3/envs/dscim/lib/python3.8/site-packages/IPython/core/ultratb.py\", line 281, in _fixed_getinnerframes\n",
      "    records = fix_frame_records_filenames(inspect.getinnerframes(etb, context))\n",
      "  File \"/home/liruixue/miniconda3/envs/dscim/lib/python3.8/inspect.py\", line 1503, in getinnerframes\n",
      "    frameinfo = (tb.tb_frame,) + getframeinfo(tb, context)\n",
      "  File \"/home/liruixue/miniconda3/envs/dscim/lib/python3.8/inspect.py\", line 1461, in getframeinfo\n",
      "    filename = getsourcefile(frame) or getfile(frame)\n",
      "  File \"/home/liruixue/miniconda3/envs/dscim/lib/python3.8/inspect.py\", line 708, in getsourcefile\n",
      "    if getattr(getmodule(object, filename), '__loader__', None) is not None:\n",
      "  File \"/home/liruixue/miniconda3/envs/dscim/lib/python3.8/inspect.py\", line 751, in getmodule\n",
      "    f = getabsfile(module)\n",
      "  File \"/home/liruixue/miniconda3/envs/dscim/lib/python3.8/inspect.py\", line 720, in getabsfile\n",
      "    _filename = getsourcefile(object) or getfile(object)\n",
      "  File \"/home/liruixue/miniconda3/envs/dscim/lib/python3.8/inspect.py\", line 705, in getsourcefile\n",
      "    if os.path.exists(filename):\n",
      "  File \"/home/liruixue/miniconda3/envs/dscim/lib/python3.8/genericpath.py\", line 19, in exists\n",
      "    os.stat(path)\n",
      "KeyboardInterrupt\n"
     ]
    },
    {
     "name": "stderr",
     "output_type": "stream",
     "text": [
      "ERROR:root:Internal Python error in the inspect module.\n",
      "Below is the traceback from this internal error.\n",
      "\n"
     ]
    },
    {
     "name": "stdout",
     "output_type": "stream",
     "text": [
      "Traceback (most recent call last):\n",
      "  File \"/home/liruixue/miniconda3/envs/dscim/lib/python3.8/site-packages/IPython/core/interactiveshell.py\", line 3444, in run_code\n",
      "    exec(code_obj, self.user_global_ns, self.user_ns)\n",
      "  File \"/tmp/ipykernel_146334/40617060.py\", line 39, in <module>\n",
      "    menu_item.order_plate('scc')\n",
      "  File \"/home/liruixue/repos/integration/dscim/menu/main_recipe.py\", line 298, in order_plate\n",
      "    course_dict[course]()\n",
      "  File \"/home/liruixue/repos/integration/dscim/menu/main_recipe.py\", line 292, in scc\n",
      "    self.calculate_scc\n",
      "  File \"/home/liruixue/repos/integration/dscim/descriptors.py\", line 18, in __get__\n",
      "    setattr(instance, self.__func__.__name__, self.__func__(instance))\n",
      "  File \"/home/liruixue/repos/integration/dscim/menu/decorators.py\", line 26, in save_wrap\n",
      "    out = func(self, *args, **kwargs)\n",
      "  File \"/home/liruixue/repos/integration/dscim/menu/main_recipe.py\", line 1046, in calculate_scc\n",
      "    damages=self.marginal_damages, discrate=self.discounting_type\n",
      "  File \"/home/liruixue/repos/integration/dscim/descriptors.py\", line 18, in __get__\n",
      "    setattr(instance, self.__func__.__name__, self.__func__(instance))\n",
      "  File \"/home/liruixue/repos/integration/dscim/menu/decorators.py\", line 44, in save_wrap\n",
      "    save.to_netcdf(f\"{filename_path}.nc4\")\n",
      "  File \"/home/liruixue/miniconda3/envs/dscim/lib/python3.8/site-packages/xarray/core/dataset.py\", line 1902, in to_netcdf\n",
      "    return to_netcdf(\n",
      "  File \"/home/liruixue/miniconda3/envs/dscim/lib/python3.8/site-packages/xarray/backends/api.py\", line 1081, in to_netcdf\n",
      "    writes = writer.sync(compute=compute)\n",
      "  File \"/home/liruixue/miniconda3/envs/dscim/lib/python3.8/site-packages/xarray/backends/common.py\", line 166, in sync\n",
      "    delayed_store = da.store(\n",
      "  File \"/home/liruixue/miniconda3/envs/dscim/lib/python3.8/site-packages/dask/array/core.py\", line 1076, in store\n",
      "    compute_as_if_collection(Array, store_dsk, map_keys, **kwargs)\n",
      "  File \"/home/liruixue/miniconda3/envs/dscim/lib/python3.8/site-packages/dask/base.py\", line 315, in compute_as_if_collection\n",
      "    return schedule(dsk2, keys, **kwargs)\n",
      "  File \"/home/liruixue/miniconda3/envs/dscim/lib/python3.8/site-packages/dask/threaded.py\", line 79, in get\n",
      "    results = get_async(\n",
      "  File \"/home/liruixue/miniconda3/envs/dscim/lib/python3.8/site-packages/dask/local.py\", line 496, in get_async\n",
      "    for key, res_info, failed in queue_get(queue).result():\n",
      "  File \"/home/liruixue/miniconda3/envs/dscim/lib/python3.8/site-packages/dask/local.py\", line 134, in queue_get\n",
      "    return q.get()\n",
      "  File \"/home/liruixue/miniconda3/envs/dscim/lib/python3.8/queue.py\", line 170, in get\n",
      "    self.not_empty.wait()\n",
      "  File \"/home/liruixue/miniconda3/envs/dscim/lib/python3.8/threading.py\", line 302, in wait\n",
      "    waiter.acquire()\n",
      "KeyboardInterrupt\n",
      "\n",
      "During handling of the above exception, another exception occurred:\n",
      "\n",
      "Traceback (most recent call last):\n",
      "  File \"/home/liruixue/miniconda3/envs/dscim/lib/python3.8/site-packages/IPython/core/interactiveshell.py\", line 2064, in showtraceback\n",
      "    stb = value._render_traceback_()\n",
      "AttributeError: 'KeyboardInterrupt' object has no attribute '_render_traceback_'\n",
      "\n",
      "During handling of the above exception, another exception occurred:\n",
      "\n",
      "Traceback (most recent call last):\n",
      "  File \"/home/liruixue/miniconda3/envs/dscim/lib/python3.8/site-packages/IPython/core/interactiveshell.py\", line 3364, in run_ast_nodes\n",
      "    if (await self.run_code(code, result,  async_=asy)):\n",
      "  File \"/home/liruixue/miniconda3/envs/dscim/lib/python3.8/site-packages/IPython/core/interactiveshell.py\", line 3461, in run_code\n",
      "    self.showtraceback(running_compiled_code=True)\n",
      "  File \"/home/liruixue/miniconda3/envs/dscim/lib/python3.8/site-packages/IPython/core/interactiveshell.py\", line 2066, in showtraceback\n",
      "    stb = self.InteractiveTB.structured_traceback(etype,\n",
      "  File \"/home/liruixue/miniconda3/envs/dscim/lib/python3.8/site-packages/IPython/core/ultratb.py\", line 1367, in structured_traceback\n",
      "    return FormattedTB.structured_traceback(\n",
      "  File \"/home/liruixue/miniconda3/envs/dscim/lib/python3.8/site-packages/IPython/core/ultratb.py\", line 1267, in structured_traceback\n",
      "    return VerboseTB.structured_traceback(\n",
      "  File \"/home/liruixue/miniconda3/envs/dscim/lib/python3.8/site-packages/IPython/core/ultratb.py\", line 1124, in structured_traceback\n",
      "    formatted_exception = self.format_exception_as_a_whole(etype, evalue, etb, number_of_lines_of_context,\n",
      "  File \"/home/liruixue/miniconda3/envs/dscim/lib/python3.8/site-packages/IPython/core/ultratb.py\", line 1082, in format_exception_as_a_whole\n",
      "    last_unique, recursion_repeat = find_recursion(orig_etype, evalue, records)\n",
      "  File \"/home/liruixue/miniconda3/envs/dscim/lib/python3.8/site-packages/IPython/core/ultratb.py\", line 382, in find_recursion\n",
      "    return len(records), 0\n",
      "TypeError: object of type 'NoneType' has no len()\n",
      "\n",
      "During handling of the above exception, another exception occurred:\n",
      "\n",
      "Traceback (most recent call last):\n",
      "  File \"/home/liruixue/miniconda3/envs/dscim/lib/python3.8/site-packages/IPython/core/interactiveshell.py\", line 2064, in showtraceback\n",
      "    stb = value._render_traceback_()\n",
      "AttributeError: 'TypeError' object has no attribute '_render_traceback_'\n",
      "\n",
      "During handling of the above exception, another exception occurred:\n",
      "\n",
      "Traceback (most recent call last):\n",
      "  File \"/home/liruixue/miniconda3/envs/dscim/lib/python3.8/site-packages/IPython/core/ultratb.py\", line 1101, in get_records\n",
      "    return _fixed_getinnerframes(etb, number_of_lines_of_context, tb_offset)\n",
      "  File \"/home/liruixue/miniconda3/envs/dscim/lib/python3.8/site-packages/IPython/core/ultratb.py\", line 248, in wrapped\n",
      "    return f(*args, **kwargs)\n",
      "  File \"/home/liruixue/miniconda3/envs/dscim/lib/python3.8/site-packages/IPython/core/ultratb.py\", line 281, in _fixed_getinnerframes\n",
      "    records = fix_frame_records_filenames(inspect.getinnerframes(etb, context))\n",
      "  File \"/home/liruixue/miniconda3/envs/dscim/lib/python3.8/inspect.py\", line 1503, in getinnerframes\n",
      "    frameinfo = (tb.tb_frame,) + getframeinfo(tb, context)\n",
      "  File \"/home/liruixue/miniconda3/envs/dscim/lib/python3.8/inspect.py\", line 1461, in getframeinfo\n",
      "    filename = getsourcefile(frame) or getfile(frame)\n",
      "  File \"/home/liruixue/miniconda3/envs/dscim/lib/python3.8/inspect.py\", line 708, in getsourcefile\n",
      "    if getattr(getmodule(object, filename), '__loader__', None) is not None:\n",
      "  File \"/home/liruixue/miniconda3/envs/dscim/lib/python3.8/inspect.py\", line 751, in getmodule\n",
      "    f = getabsfile(module)\n",
      "  File \"/home/liruixue/miniconda3/envs/dscim/lib/python3.8/inspect.py\", line 720, in getabsfile\n",
      "    _filename = getsourcefile(object) or getfile(object)\n",
      "  File \"/home/liruixue/miniconda3/envs/dscim/lib/python3.8/inspect.py\", line 705, in getsourcefile\n",
      "    if os.path.exists(filename):\n",
      "  File \"/home/liruixue/miniconda3/envs/dscim/lib/python3.8/genericpath.py\", line 19, in exists\n",
      "    os.stat(path)\n",
      "KeyboardInterrupt\n"
     ]
    },
    {
     "name": "stderr",
     "output_type": "stream",
     "text": [
      "ERROR:root:Internal Python error in the inspect module.\n",
      "Below is the traceback from this internal error.\n",
      "\n"
     ]
    },
    {
     "name": "stdout",
     "output_type": "stream",
     "text": [
      "Traceback (most recent call last):\n",
      "  File \"/home/liruixue/miniconda3/envs/dscim/lib/python3.8/site-packages/IPython/core/interactiveshell.py\", line 3444, in run_code\n",
      "    exec(code_obj, self.user_global_ns, self.user_ns)\n",
      "  File \"/tmp/ipykernel_146334/40617060.py\", line 39, in <module>\n",
      "    menu_item.order_plate('scc')\n",
      "  File \"/home/liruixue/repos/integration/dscim/menu/main_recipe.py\", line 298, in order_plate\n",
      "    course_dict[course]()\n",
      "  File \"/home/liruixue/repos/integration/dscim/menu/main_recipe.py\", line 292, in scc\n",
      "    self.calculate_scc\n",
      "  File \"/home/liruixue/repos/integration/dscim/descriptors.py\", line 18, in __get__\n",
      "    setattr(instance, self.__func__.__name__, self.__func__(instance))\n",
      "  File \"/home/liruixue/repos/integration/dscim/menu/decorators.py\", line 26, in save_wrap\n",
      "    out = func(self, *args, **kwargs)\n",
      "  File \"/home/liruixue/repos/integration/dscim/menu/main_recipe.py\", line 1046, in calculate_scc\n",
      "    damages=self.marginal_damages, discrate=self.discounting_type\n",
      "  File \"/home/liruixue/repos/integration/dscim/descriptors.py\", line 18, in __get__\n",
      "    setattr(instance, self.__func__.__name__, self.__func__(instance))\n",
      "  File \"/home/liruixue/repos/integration/dscim/menu/decorators.py\", line 44, in save_wrap\n",
      "    save.to_netcdf(f\"{filename_path}.nc4\")\n",
      "  File \"/home/liruixue/miniconda3/envs/dscim/lib/python3.8/site-packages/xarray/core/dataset.py\", line 1902, in to_netcdf\n",
      "    return to_netcdf(\n",
      "  File \"/home/liruixue/miniconda3/envs/dscim/lib/python3.8/site-packages/xarray/backends/api.py\", line 1081, in to_netcdf\n",
      "    writes = writer.sync(compute=compute)\n",
      "  File \"/home/liruixue/miniconda3/envs/dscim/lib/python3.8/site-packages/xarray/backends/common.py\", line 166, in sync\n",
      "    delayed_store = da.store(\n",
      "  File \"/home/liruixue/miniconda3/envs/dscim/lib/python3.8/site-packages/dask/array/core.py\", line 1076, in store\n",
      "    compute_as_if_collection(Array, store_dsk, map_keys, **kwargs)\n",
      "  File \"/home/liruixue/miniconda3/envs/dscim/lib/python3.8/site-packages/dask/base.py\", line 315, in compute_as_if_collection\n",
      "    return schedule(dsk2, keys, **kwargs)\n",
      "  File \"/home/liruixue/miniconda3/envs/dscim/lib/python3.8/site-packages/dask/threaded.py\", line 79, in get\n",
      "    results = get_async(\n",
      "  File \"/home/liruixue/miniconda3/envs/dscim/lib/python3.8/site-packages/dask/local.py\", line 496, in get_async\n",
      "    for key, res_info, failed in queue_get(queue).result():\n",
      "  File \"/home/liruixue/miniconda3/envs/dscim/lib/python3.8/site-packages/dask/local.py\", line 134, in queue_get\n",
      "    return q.get()\n",
      "  File \"/home/liruixue/miniconda3/envs/dscim/lib/python3.8/queue.py\", line 170, in get\n",
      "    self.not_empty.wait()\n",
      "  File \"/home/liruixue/miniconda3/envs/dscim/lib/python3.8/threading.py\", line 302, in wait\n",
      "    waiter.acquire()\n",
      "KeyboardInterrupt\n",
      "\n",
      "During handling of the above exception, another exception occurred:\n",
      "\n",
      "Traceback (most recent call last):\n",
      "  File \"/home/liruixue/miniconda3/envs/dscim/lib/python3.8/site-packages/IPython/core/interactiveshell.py\", line 2064, in showtraceback\n",
      "    stb = value._render_traceback_()\n",
      "AttributeError: 'KeyboardInterrupt' object has no attribute '_render_traceback_'\n",
      "\n",
      "During handling of the above exception, another exception occurred:\n",
      "\n",
      "Traceback (most recent call last):\n",
      "  File \"/home/liruixue/miniconda3/envs/dscim/lib/python3.8/site-packages/IPython/core/interactiveshell.py\", line 3364, in run_ast_nodes\n",
      "    if (await self.run_code(code, result,  async_=asy)):\n",
      "  File \"/home/liruixue/miniconda3/envs/dscim/lib/python3.8/site-packages/IPython/core/interactiveshell.py\", line 3461, in run_code\n",
      "    self.showtraceback(running_compiled_code=True)\n",
      "  File \"/home/liruixue/miniconda3/envs/dscim/lib/python3.8/site-packages/IPython/core/interactiveshell.py\", line 2066, in showtraceback\n",
      "    stb = self.InteractiveTB.structured_traceback(etype,\n",
      "  File \"/home/liruixue/miniconda3/envs/dscim/lib/python3.8/site-packages/IPython/core/ultratb.py\", line 1367, in structured_traceback\n",
      "    return FormattedTB.structured_traceback(\n",
      "  File \"/home/liruixue/miniconda3/envs/dscim/lib/python3.8/site-packages/IPython/core/ultratb.py\", line 1267, in structured_traceback\n",
      "    return VerboseTB.structured_traceback(\n",
      "  File \"/home/liruixue/miniconda3/envs/dscim/lib/python3.8/site-packages/IPython/core/ultratb.py\", line 1124, in structured_traceback\n",
      "    formatted_exception = self.format_exception_as_a_whole(etype, evalue, etb, number_of_lines_of_context,\n",
      "  File \"/home/liruixue/miniconda3/envs/dscim/lib/python3.8/site-packages/IPython/core/ultratb.py\", line 1082, in format_exception_as_a_whole\n",
      "    last_unique, recursion_repeat = find_recursion(orig_etype, evalue, records)\n",
      "  File \"/home/liruixue/miniconda3/envs/dscim/lib/python3.8/site-packages/IPython/core/ultratb.py\", line 382, in find_recursion\n",
      "    return len(records), 0\n",
      "TypeError: object of type 'NoneType' has no len()\n",
      "\n",
      "During handling of the above exception, another exception occurred:\n",
      "\n",
      "Traceback (most recent call last):\n",
      "  File \"/home/liruixue/miniconda3/envs/dscim/lib/python3.8/site-packages/IPython/core/interactiveshell.py\", line 2064, in showtraceback\n",
      "    stb = value._render_traceback_()\n",
      "AttributeError: 'TypeError' object has no attribute '_render_traceback_'\n",
      "\n",
      "During handling of the above exception, another exception occurred:\n",
      "\n",
      "Traceback (most recent call last):\n",
      "  File \"/home/liruixue/miniconda3/envs/dscim/lib/python3.8/site-packages/IPython/core/interactiveshell.py\", line 2947, in _run_cell\n",
      "    return runner(coro)\n",
      "  File \"/home/liruixue/miniconda3/envs/dscim/lib/python3.8/site-packages/IPython/core/async_helpers.py\", line 68, in _pseudo_sync_runner\n",
      "    coro.send(None)\n",
      "  File \"/home/liruixue/miniconda3/envs/dscim/lib/python3.8/site-packages/IPython/core/interactiveshell.py\", line 3172, in run_cell_async\n",
      "    has_raised = await self.run_ast_nodes(code_ast.body, cell_name,\n",
      "  File \"/home/liruixue/miniconda3/envs/dscim/lib/python3.8/site-packages/IPython/core/interactiveshell.py\", line 3383, in run_ast_nodes\n",
      "    self.showtraceback()\n",
      "  File \"/home/liruixue/miniconda3/envs/dscim/lib/python3.8/site-packages/IPython/core/interactiveshell.py\", line 2066, in showtraceback\n",
      "    stb = self.InteractiveTB.structured_traceback(etype,\n",
      "  File \"/home/liruixue/miniconda3/envs/dscim/lib/python3.8/site-packages/IPython/core/ultratb.py\", line 1367, in structured_traceback\n",
      "    return FormattedTB.structured_traceback(\n",
      "  File \"/home/liruixue/miniconda3/envs/dscim/lib/python3.8/site-packages/IPython/core/ultratb.py\", line 1267, in structured_traceback\n",
      "    return VerboseTB.structured_traceback(\n",
      "  File \"/home/liruixue/miniconda3/envs/dscim/lib/python3.8/site-packages/IPython/core/ultratb.py\", line 1142, in structured_traceback\n",
      "    formatted_exceptions += self.format_exception_as_a_whole(etype, evalue, etb, lines_of_context,\n",
      "  File \"/home/liruixue/miniconda3/envs/dscim/lib/python3.8/site-packages/IPython/core/ultratb.py\", line 1082, in format_exception_as_a_whole\n",
      "    last_unique, recursion_repeat = find_recursion(orig_etype, evalue, records)\n",
      "  File \"/home/liruixue/miniconda3/envs/dscim/lib/python3.8/site-packages/IPython/core/ultratb.py\", line 382, in find_recursion\n",
      "    return len(records), 0\n",
      "TypeError: object of type 'NoneType' has no len()\n",
      "\n",
      "During handling of the above exception, another exception occurred:\n",
      "\n",
      "Traceback (most recent call last):\n",
      "  File \"/home/liruixue/miniconda3/envs/dscim/lib/python3.8/site-packages/IPython/core/interactiveshell.py\", line 2064, in showtraceback\n",
      "    stb = value._render_traceback_()\n",
      "AttributeError: 'TypeError' object has no attribute '_render_traceback_'\n",
      "\n",
      "During handling of the above exception, another exception occurred:\n",
      "\n",
      "Traceback (most recent call last):\n",
      "  File \"/home/liruixue/miniconda3/envs/dscim/lib/python3.8/site-packages/IPython/core/ultratb.py\", line 1101, in get_records\n",
      "    return _fixed_getinnerframes(etb, number_of_lines_of_context, tb_offset)\n",
      "  File \"/home/liruixue/miniconda3/envs/dscim/lib/python3.8/site-packages/IPython/core/ultratb.py\", line 248, in wrapped\n",
      "    return f(*args, **kwargs)\n",
      "  File \"/home/liruixue/miniconda3/envs/dscim/lib/python3.8/site-packages/IPython/core/ultratb.py\", line 281, in _fixed_getinnerframes\n",
      "    records = fix_frame_records_filenames(inspect.getinnerframes(etb, context))\n",
      "  File \"/home/liruixue/miniconda3/envs/dscim/lib/python3.8/inspect.py\", line 1503, in getinnerframes\n",
      "    frameinfo = (tb.tb_frame,) + getframeinfo(tb, context)\n",
      "  File \"/home/liruixue/miniconda3/envs/dscim/lib/python3.8/inspect.py\", line 1461, in getframeinfo\n",
      "    filename = getsourcefile(frame) or getfile(frame)\n",
      "  File \"/home/liruixue/miniconda3/envs/dscim/lib/python3.8/inspect.py\", line 708, in getsourcefile\n",
      "    if getattr(getmodule(object, filename), '__loader__', None) is not None:\n",
      "  File \"/home/liruixue/miniconda3/envs/dscim/lib/python3.8/inspect.py\", line 751, in getmodule\n",
      "    f = getabsfile(module)\n",
      "  File \"/home/liruixue/miniconda3/envs/dscim/lib/python3.8/inspect.py\", line 720, in getabsfile\n",
      "    _filename = getsourcefile(object) or getfile(object)\n",
      "  File \"/home/liruixue/miniconda3/envs/dscim/lib/python3.8/inspect.py\", line 705, in getsourcefile\n",
      "    if os.path.exists(filename):\n",
      "  File \"/home/liruixue/miniconda3/envs/dscim/lib/python3.8/genericpath.py\", line 19, in exists\n",
      "    os.stat(path)\n",
      "KeyboardInterrupt\n"
     ]
    }
   ],
   "source": [
    "n_combos = len(combos)\n",
    "\n",
    "while n_combos > 0: \n",
    "    combo = combos[0]\n",
    "    print(\"=========================================================\")\n",
    "    print(combo)\n",
    "    sector = combo[0]\n",
    "    pulse_year = combo[1]\n",
    "    discount_type = combo[2]\n",
    "    menu_option = combo[3]\n",
    "    AR = combo[4]\n",
    "    eta = combo[5]\n",
    "    w = ProWaiter(path_to_config=f'/home/{username}/repos/integration/configs/epa_tool_config-histclim_AR{AR}.yaml')\n",
    "    \n",
    "    save_path= f'/mnt/CIL_integration/menu_results_AR{AR}_epa/{sector}/{pulse_year}/unmasked/'\n",
    "    \n",
    "    kwargs = {'discounting_type' : discount_type,\n",
    "              'sector': sector,\n",
    "              'ce_path' : f'/shares/gcp/integration/CE_library_epa_vsl_bc39/{sector}/',\n",
    "              'save_path' : save_path,\n",
    "              'weitzman_parameter' : weitzman_values,\n",
    "              'pulse_year' : pulse_year,\n",
    "              'eta': eta,\n",
    "              'rho': eta_rhos[eta]\n",
    "             }\n",
    "    \n",
    "    if 'CAMEL' in sector:\n",
    "        kwargs.update({\n",
    "            'damage_function_path' : f\"/mnt/CIL_integration/damage_function_library/damage_function_library_epa/{sector}/\",\n",
    "            'sector_path' : None\n",
    "        })\n",
    "\n",
    "\n",
    "    menu_item = w.menu_factory(menu_key=menu_option,\n",
    "                                           sector=sector,\n",
    "                                           kwargs=kwargs\n",
    "                                          )\n",
    "\n",
    "    menu_item.order_plate('scc') \n",
    "    \n",
    "    combos.remove(combo)\n",
    "    n_combos = len(combos)\n",
    "    print(f\"remaining combos: {n_combos}\")\n",
    "\n"
   ]
  },
  {
   "cell_type": "code",
   "execution_count": null,
   "metadata": {},
   "outputs": [],
   "source": []
  }
 ],
 "metadata": {
  "kernelspec": {
   "display_name": "Python 3 (ipykernel)",
   "language": "python",
   "name": "python3"
  },
  "language_info": {
   "codemirror_mode": {
    "name": "ipython",
    "version": 3
   },
   "file_extension": ".py",
   "mimetype": "text/x-python",
   "name": "python",
   "nbconvert_exporter": "python",
   "pygments_lexer": "ipython3",
   "version": "3.8.0"
  }
 },
 "nbformat": 4,
 "nbformat_minor": 4
}
