{
 "cells": [
  {
   "cell_type": "code",
   "execution_count": null,
   "metadata": {
    "tags": []
   },
   "outputs": [],
   "source": [
    "import os, gc, time\n",
    "USER = os.getenv('USER')\n",
    "import numpy as np\n",
    "import pandas as pd\n",
    "import xarray as xr\n",
    "import dask\n",
    "\n",
    "dask.config.set(**{'array.slicing.split_large_chunks': False})\n",
    "\n",
    "from dscim import ProWaiter\n",
    "import itertools\n",
    "from functools import reduce\n",
    "from pathlib import Path"
   ]
  },
  {
   "cell_type": "code",
   "execution_count": null,
   "metadata": {
    "tags": []
   },
   "outputs": [],
   "source": [
    "from dask.distributed import Client, progress\n",
    "from dscim.utils.functions import ce_func, mean_func"
   ]
  },
  {
   "cell_type": "code",
   "execution_count": null,
   "metadata": {},
   "outputs": [],
   "source": [
    "# from dask.distributed import Client\n",
    "\n",
    "# client = Client(\"tcp://127.0.0.1:45097\")\n",
    "# client"
   ]
  },
  {
   "cell_type": "code",
   "execution_count": null,
   "metadata": {
    "tags": []
   },
   "outputs": [],
   "source": [
    "# client = Client(n_workers=15, memory_limit=\"15G\", threads_per_worker=1) "
   ]
  },
  {
   "cell_type": "code",
   "execution_count": null,
   "metadata": {
    "tags": []
   },
   "outputs": [],
   "source": [
    "discount_types = [ \"euler_ramsey\",\"constant\"] # \"constant\",\n",
    "menu_options = [\"risk_aversion\", \"adding_up\"] \n",
    "# pulse_years=[2020]\n",
    "pulse_years = range(2020, 2081, 10)\n",
    "weitzman_values = [0.5, 1.0] # [x / 10.0 for x in range(1, 11, 1)] + [0.25, 0.01, 0.001, 0.0001]\n",
    "eta_rhos = { \n",
    "    2.0:0.0,\n",
    "    1.016010255 : 9.149608e-05,\n",
    "    1.244459066 : 0.00197263997,\n",
    "    1.421158116 : 0.00461878399,\n",
    "    1.567899395 : 0.00770271076\n",
    "}\n",
    "\n",
    "gas = \"CO2_Fossil\"\n",
    "# climate iterations\n",
    "factors=False\n",
    "marginal_damages=False\n",
    "v=3\n",
    "suffix='_coastalv19'\n",
    "\n",
    "# we're doing expost masking with rff_expost_masking.ipynb inside this same directory\n",
    "mask_list = [\n",
    "#     'climate',\n",
    "#     'gdppc',\n",
    "#     'emissions',\n",
    "#     'gdppc_emissions',\n",
    "#     'gdppc_emissions_climate',\n",
    "    'unmasked',\n",
    "    # 'gmst'\n",
    "\n",
    "]\n",
    "\n",
    "quantile_list = [\n",
    "    \"None\"\n",
    "#     [0.001, 0.999],\n",
    "#     [0.005, 0.995],\n",
    "    # [0.01, 0.99],\n",
    "    # [0.05, 0.95],\n",
    "    # [0,1],\n",
    "]\n",
    "\n",
    "# sectors = [\"AMEL_clipped\", \"mortality_clipped\", \"labor_clipped\", \"energy_clipped\", \"agriculture_clipped\"] #\"CAMEL_clipped\", \"coastal\"]\n",
    "sectors = [\"coastal\", \"AMEL_clipped\"]\n",
    "#            , \"mortality_clipped\", \"labor_clipped\", \"energy_clipped\", \"agriculture_clipped\"]\n",
    "\n",
    "combos = [(s, p, d, m, k, q, e) \n",
    "          for p in pulse_years\n",
    "          for s in sectors \n",
    "          for d in discount_types \n",
    "          for m in menu_options\n",
    "          for k in mask_list\n",
    "          for q in quantile_list\n",
    "          for e in eta_rhos\n",
    "         ]\n",
    "\n"
   ]
  },
  {
   "cell_type": "code",
   "execution_count": null,
   "metadata": {},
   "outputs": [],
   "source": [
    "combos"
   ]
  },
  {
   "cell_type": "markdown",
   "metadata": {},
   "source": [
    "# run all"
   ]
  },
  {
   "cell_type": "code",
   "execution_count": null,
   "metadata": {
    "tags": []
   },
   "outputs": [],
   "source": [
    "\n",
    "n_combos = len(combos)\n",
    "\n",
    "while n_combos > 0: \n",
    "    combo = combos[0]\n",
    "    print(\"=========================================================\")\n",
    "    print(combo)\n",
    "    sector = combo[0]\n",
    "    pulse_year = combo[1]\n",
    "    discount_type = combo[2]\n",
    "    menu_option = combo[3]\n",
    "    mask = combo[4]\n",
    "    quantile = combo[5]\n",
    "    eta = combo[6]\n",
    "    rho = eta_rhos[eta]\n",
    "\n",
    "    if mask == 'unmasked':\n",
    "        mask_name = None\n",
    "        mask_path = None\n",
    "    elif mask == 'gmst':\n",
    "        mask_name =  f'q{quantile[0]}_q{quantile[1]}'\n",
    "        mask_path = None\n",
    "    else:\n",
    "        mask_name = f'q{quantile[0]}_q{quantile[1]}'\n",
    "        mask_path = f\"/shares/gcp/integration/rff/climate/masks/CO2_Fossil/{mask}_based_masks.nc4\"\n",
    "\n",
    "    save_path = f'/mnt/CIL_integration/rff_all_gases/{gas}/{sector}/{pulse_year}/{mask}_{mask_name}'\n",
    "    \n",
    "    w = ProWaiter(path_to_config=f'/home/{USER}/repos/integration/configs/rff_config_all_gases.yaml')\n",
    "    kwargs = {'discounting_type' : discount_type,\n",
    "              'sector': sector,\n",
    "              'gases': gas,\n",
    "              'damage_function_path' : f\"/mnt/CIL_integration/damage_function_library/damage_function_library_rff{v}{suffix}/{sector}\",\n",
    "              'save_path' : save_path,\n",
    "              'save_files' : ['uncollapsed_sccs'],\n",
    "              'weitzman_parameter' : weitzman_values,\n",
    "              'pulse_year' : pulse_year,\n",
    "              'gmst_fair_path' : f\"/shares/gcp/integration/rff/climate/stacked/ar6_rff_iter0-19_fair162_all_gases_control_pulse_{pulse_year}_temp_v5.02_newformat_Jan222022.nc\",\n",
    "              'gmsl_fair_path' : \"/shares/gcp/integration/rff/climate/stacked/ar6_rff_iter0-19_fair162_control_pulse_2020-2030-2040-2050-2060-2070-2080_gmsl_emissions-driven_naturalfix_v5.02_Jan222022.zarr\",\n",
    "              'path_econ' : f'/shares/gcp/integration/rff/socioeconomics/rff_global_socioeconomics.nc4',\n",
    "              'ecs_mask_path' :  mask_path,\n",
    "              'ecs_mask_name' :  mask_name,\n",
    "              'eta' : eta,\n",
    "              'rho' : rho,\n",
    "             }\n",
    "    \n",
    "    menu_item = w.menu_factory(menu_key=menu_option,\n",
    "                                           sector=sector,\n",
    "                                           kwargs=kwargs\n",
    "                                          )\n",
    "    menu_item.order_plate('scc')\n",
    "    if marginal_damages==True:\n",
    "        md = (menu_item.global_consumption_no_pulse - menu_item.global_consumption_pulse)* menu_item.climate.conversion\n",
    "        md.rename('marginal_damages').to_dataset().chunk(\n",
    "        {\"discount_type\":1,\n",
    "         \"weitzman_parameter\":14,\n",
    "         \"rff_sp\":10000,\n",
    "         \"gas\":1,\n",
    "         \"simulation\":1,\n",
    "         \"year\":10}\n",
    "        ).to_zarr(\n",
    "            f'{save_path}/{menu_option}_{discount_type}_eta{menu_item.eta}_rho{menu_item.rho}_uncollapsed_marginal_damages.zarr',\n",
    "            consolidated = True,\n",
    "            mode = \"w\"\n",
    "        )\n",
    "    if factors == True:\n",
    "        \n",
    "        menu_item.calculate_discount_factors(\n",
    "            menu_item.global_consumption_no_pulse / menu_item.pop\n",
    "        ).to_dataset(name = \"discount_factor\").chunk(\n",
    "        {\"discount_type\":1,\n",
    "         \"weitzman_parameter\":14,\n",
    "         \"rff_sp\":10000,\n",
    "         \"gas\":1,\n",
    "         \"simulation\":1,\n",
    "         \"region\":1,\n",
    "         \"year\":10}\n",
    "        ).to_zarr(\n",
    "            f'{save_path}/{menu_option}_{discount_type}_eta{menu_item.eta}_rho{menu_item.rho}_uncollapsed_discount_factors.zarr',\n",
    "            consolidated = True,\n",
    "            mode = \"w\"\n",
    "        )\n",
    "        print(\"done saving discount factor\")\n",
    "    combos.remove(combo)\n",
    "    n_combos = len(combos)\n",
    "    print(f\"remaining combos: {n_combos}\")\n",
    "\n",
    "#     if (n_combos % 50 == 0):\n",
    "#         client.restart()\n",
    "#         time.sleep(30)"
   ]
  },
  {
   "cell_type": "code",
   "execution_count": null,
   "metadata": {},
   "outputs": [],
   "source": []
  }
 ],
 "metadata": {
  "kernelspec": {
   "display_name": "Python 3 (ipykernel)",
   "language": "python",
   "name": "python3"
  },
  "language_info": {
   "codemirror_mode": {
    "name": "ipython",
    "version": 3
   },
   "file_extension": ".py",
   "mimetype": "text/x-python",
   "name": "python",
   "nbconvert_exporter": "python",
   "pygments_lexer": "ipython3",
   "version": "3.8.0"
  }
 },
 "nbformat": 4,
 "nbformat_minor": 4
}
