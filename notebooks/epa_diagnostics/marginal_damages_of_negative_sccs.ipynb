{
 "cells": [
  {
   "cell_type": "code",
   "execution_count": null,
   "id": "24c68327-f813-41ec-829b-609e84bd476e",
   "metadata": {
    "tags": []
   },
   "outputs": [],
   "source": [
    "import xarray as xr\n",
    "import pandas as pd\n",
    "import numpy as np\n",
    "import seaborn as sns\n",
    "import matplotlib.pyplot as plt\n",
    "from dscim.utils.plotting_utils import MajorSymLogLocator, symlogfmt\n",
    "from matplotlib.ticker import SymmetricalLogLocator, FuncFormatter"
   ]
  },
  {
   "cell_type": "code",
   "execution_count": null,
   "id": "d4caa8fb-bf95-4269-8824-a7902454a8bf",
   "metadata": {
    "tags": []
   },
   "outputs": [],
   "source": [
    "# sectors=['agriculture_clipped', 'mortality_clipped', 'energy_clipped', 'labor_clipped', 'AMEL_clipped', \"CAMEL_clipped\"]\n",
    "sectors=['CAMEL_clipped']\n",
    "kinds=['zeroes', 'p0.01', 'p99.99']\n",
    "recipe='risk_aversion'\n",
    "disc='euler_ramsey'\n",
    "eta_rhos = {\n",
    "    2.0 :0.0,\n",
    "    # 1.016010255: 9.149608e-05,\n",
    "    # 1.244459066: 0.00197263997,\n",
    "    # 1.421158116: 0.00461878399,\n",
    "    # 1.567899395: 0.00770271076,\n",
    "}\n",
    "log=True"
   ]
  },
  {
   "cell_type": "code",
   "execution_count": null,
   "id": "08f91673-c4a2-41ac-aece-ffb397fc918a",
   "metadata": {
    "tags": []
   },
   "outputs": [],
   "source": [
    "for sector in sectors:\n",
    "    for eta,rho in eta_rhos.items():\n",
    "        for kind in kinds:\n",
    "            for discounting in ['discounted_damages', 'discount_factors', 'marginal_damages']:\n",
    "\n",
    "                results = f\"/mnt/CIL_integration/rff3_with_disc_factors/iter0-19/{sector}/2020/unmasked_None\"\n",
    "                rff_ids = pd.read_csv(\n",
    "                    f\"{results}/rff_ids/{recipe}_{disc}_eta{eta}_rho{rho}_{kind}_rff_ids.csv\"\n",
    "                ).set_index(['rff_sp', 'simulation']).index\n",
    "\n",
    "                damages = xr.open_zarr(\n",
    "                    f\"{results}/{recipe}_{disc}_eta{eta}_rho{rho}_uncollapsed_marginal_damages.zarr\"\n",
    "                ).sel(weitzman_parameter='0.5', drop=True).marginal_damages\n",
    "\n",
    "                sccs = xr.open_dataset(\n",
    "                    f\"{results}/{recipe}_{disc}_eta{eta}_rho{rho}_uncollapsed_sccs.nc4\"\n",
    "                ).sel(weitzman_parameter='0.5', fair_aggregation='uncollapsed', drop=True).uncollapsed_sccs.stack(\n",
    "                    {'rff_sp-simulation' :['rff_sp', 'simulation']}\n",
    "                ).sel({'rff_sp-simulation' : rff_ids}\n",
    "                     ).rename('SCC').to_dataframe().reset_index()\n",
    "                \n",
    "                df = xr.open_zarr(\n",
    "                            f\"{results}/{recipe}_{disc}_eta{eta}_rho{rho}_uncollapsed_discount_factors.zarr\"\n",
    "                        ).sel(weitzman_parameter='0.5', drop=True).discount_factor\n",
    "\n",
    "                if discounting=='discounted_damages':\n",
    "                    data = damages * df\n",
    "                elif discounting=='discount_factors':\n",
    "                    data = df\n",
    "                elif discounting=='marginal_damages':\n",
    "                    data = damages\n",
    "\n",
    "                data = data.stack(\n",
    "                    {'rff_sp-simulation' :['rff_sp', 'simulation']}\n",
    "                ).sel(\n",
    "                    {'rff_sp-simulation' : rff_ids}\n",
    "                ).rename('data').to_dataframe().reset_index()\n",
    "\n",
    "                data = data.merge(sccs, on=['rff_sp', 'simulation'])\n",
    "\n",
    "                fig, ax = plt.subplots(1,1,figsize=(15,8))\n",
    "\n",
    "                sns.lineplot(\n",
    "                    data=data,\n",
    "                     x='year',\n",
    "                     y='data',\n",
    "                     hue='SCC',\n",
    "                     ax=ax,\n",
    "                )\n",
    "\n",
    "                if log==True:\n",
    "                    ax.set_yscale('symlog')\n",
    "                \n",
    "                ax.yaxis.set_major_locator(MajorSymLogLocator())\n",
    "                ax.yaxis.set_major_formatter(FuncFormatter(symlogfmt))\n",
    "\n",
    "                plt.subplots_adjust(top=0.85)\n",
    "                fig.suptitle(f\"{discounting}, SCC subset={kind} \\n {sector} {recipe} {disc}, eta={eta} rho={rho}\")\n",
    "\n",
    "                plt.savefig(\n",
    "                    f'/mnt/CIL_integration/rff_diagnostics/v3/damages_SCC_subsets/{sector}_{recipe}_{disc}_{eta}_{rho}__sccs-{kind}_{discounting}_log-{log}.png', \n",
    "                    bbox_inches='tight', \n",
    "                    dpi=300\n",
    "                )"
   ]
  }
 ],
 "metadata": {
  "kernelspec": {
   "display_name": "Python 3 (ipykernel)",
   "language": "python",
   "name": "python3"
  },
  "language_info": {
   "codemirror_mode": {
    "name": "ipython",
    "version": 3
   },
   "file_extension": ".py",
   "mimetype": "text/x-python",
   "name": "python",
   "nbconvert_exporter": "python",
   "pygments_lexer": "ipython3",
   "version": "3.8.0"
  }
 },
 "nbformat": 4,
 "nbformat_minor": 5
}
