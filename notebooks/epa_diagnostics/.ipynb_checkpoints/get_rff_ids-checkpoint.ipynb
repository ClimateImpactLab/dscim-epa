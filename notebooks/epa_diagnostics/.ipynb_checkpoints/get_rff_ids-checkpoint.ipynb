{
 "cells": [
  {
   "cell_type": "code",
   "execution_count": 1,
   "id": "39c857bc-4123-4481-8900-b5418c8ba4a5",
   "metadata": {
    "tags": []
   },
   "outputs": [],
   "source": [
    "import xarray as xr\n",
    "import pandas as pd\n",
    "import numpy as np\n",
    "from itertools import product\n",
    "import os, sys"
   ]
  },
  {
   "cell_type": "code",
   "execution_count": 2,
   "id": "25343b0f-eb62-4321-ae2c-7a3e96b94c76",
   "metadata": {},
   "outputs": [],
   "source": [
    "USA=True"
   ]
  },
  {
   "cell_type": "code",
   "execution_count": 3,
   "id": "79d6fcd1-570f-46c3-a847-73a9429f1121",
   "metadata": {
    "tags": []
   },
   "outputs": [],
   "source": [
    "if USA==True:\n",
    "    result_root = \"/mnt/CIL_integration/USA_SCC_rff2\"\n",
    "    sectors=['CAMEL_USA']\n",
    "else:\n",
    "    result_root = \"/mnt/CIL_integration/rff2\"\n",
    "    sectors=['CAMEL']\n",
    "recipes=['risk_aversion', 'adding_up',]\n",
    "discs=['constant']\n",
    "kinds=['p1', 'p99', 'zeroes']\n",
    "masks=['epa_mask', 'unmasked'] #  'gdppc_mask']\n",
    "eta_rhos = {\n",
    "    2.0 : 0.0,\n",
    "    1.016010255: 9.149608e-05,\n",
    "    1.244459066: 0.00197263997,\n",
    "    1.421158116: 0.00461878399,\n",
    "    1.567899395: 0.00770271076,\n",
    "}"
   ]
  },
  {
   "cell_type": "code",
   "execution_count": 4,
   "id": "a415fb1c-336c-43b4-8783-756581982dea",
   "metadata": {
    "tags": []
   },
   "outputs": [],
   "source": [
    "def get_rff_id(sector,\n",
    "               mask,\n",
    "               recipe,\n",
    "               disc,\n",
    "               eta,\n",
    "               rho,\n",
    "               kind,\n",
    "              ):\n",
    "\n",
    "    if mask in ['epa_mask', 'unmasked']:\n",
    "        results = f\"{result_root}/{sector}/2020/unmasked_None/\"\n",
    "    elif mask=='gdppc_mask':\n",
    "        results=f'{result_root}/{sector}/2020/gdppc_emissions_q0.01_q0.99'\n",
    "\n",
    "    outdir=f\"{result_root}/{sector}/2020/unmasked_None/\"\n",
    "    \n",
    "    sccs = xr.open_dataset(\n",
    "            f\"{results}/{recipe}_{disc}_eta{eta}_rho{rho}_uncollapsed_sccs.nc4\"\n",
    "        ).sel(weitzman_parameter='0.5', fair_aggregation='uncollapsed', gas='CO2_Fossil', drop=True).uncollapsed_sccs\n",
    "        \n",
    "    # runid rff_sp-simulation crosswalk\n",
    "    cw = xr.open_dataset('/shares/gcp/integration/rff2/rffsp_fair_sequence.nc')\n",
    "    \n",
    "    if mask=='epa_mask':\n",
    "        rffsp_values = pd.read_csv(\"/shares/gcp/integration/rff/rffsp_trials.csv\").rffsp_id.unique()\n",
    "        runid_idx = cw.where(cw.rff_sp.isin(rffsp_values), drop=True)\n",
    "        sccs = sccs.sel(runid=runid_idx.runid)\n",
    "    \n",
    "    if kind=='p1':\n",
    "        cutoff = sccs.quantile(0.01, 'runid')\n",
    "        rff_ids = sccs.where(sccs < cutoff, drop=True)\n",
    "    elif kind=='zeroes':\n",
    "        rff_ids = sccs.where((sccs >-1) & (sccs<1), drop=True)\n",
    "    elif kind=='p99':\n",
    "        cutoff = sccs.quantile(0.99, 'runid')\n",
    "        rff_ids = sccs.where(sccs > cutoff, drop=True)\n",
    "\n",
    "    csv=pd.DataFrame(list(rff_ids['runid'].values), columns=['runid'])\n",
    "    os.makedirs(f\"{outdir}/runids/\", exist_ok=True)\n",
    "    csv.to_csv(f\"{outdir}/runids/{recipe}_{disc}_eta{eta}_rho{rho}_{kind}_{mask}_runids.csv\", index=False)"
   ]
  },
  {
   "cell_type": "code",
   "execution_count": 5,
   "id": "96f359e1-d52c-450b-8da8-a6c289ae078b",
   "metadata": {
    "tags": []
   },
   "outputs": [],
   "source": [
    "for sector, mask, recipe, disc, er, kind in product(sectors, masks, recipes, discs, eta_rhos.items(), kinds):\n",
    "    # print(sector, mask, recipe, disc, er, kind)\n",
    "    get_rff_id(sector,\n",
    "               mask,\n",
    "               recipe,\n",
    "               disc,\n",
    "               er[0],\n",
    "               er[1],\n",
    "               kind,\n",
    "              )"
   ]
  },
  {
   "cell_type": "code",
   "execution_count": null,
   "id": "0f449cfa-cf0d-44e9-8e1d-d9e4c08b0da3",
   "metadata": {},
   "outputs": [],
   "source": []
  }
 ],
 "metadata": {
  "kernelspec": {
   "display_name": "Python 3 (ipykernel)",
   "language": "python",
   "name": "python3"
  },
  "language_info": {
   "codemirror_mode": {
    "name": "ipython",
    "version": 3
   },
   "file_extension": ".py",
   "mimetype": "text/x-python",
   "name": "python",
   "nbconvert_exporter": "python",
   "pygments_lexer": "ipython3",
   "version": "3.8.0"
  }
 },
 "nbformat": 4,
 "nbformat_minor": 5
}
