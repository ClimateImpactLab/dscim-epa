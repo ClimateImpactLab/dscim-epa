{
 "cells": [
  {
   "cell_type": "code",
   "execution_count": null,
   "id": "d76a956d-6a09-4933-82a7-76bb2c109b76",
   "metadata": {
    "tags": []
   },
   "outputs": [],
   "source": [
    "from dscim.diagnostics.maps import maps\n",
    "from dscim.menu.simple_storage import EconVars\n",
    "import xarray as xr"
   ]
  },
  {
   "cell_type": "code",
   "execution_count": null,
   "id": "4fc867fb-bcc2-4b3f-ab04-820b5a605195",
   "metadata": {
    "tags": []
   },
   "outputs": [],
   "source": [
    "ECON_ZARR = \"/shares/gcp/integration/float32/dscim_input_data/econvars/zarrs/integration-econ-bc39_USA.zarr\"\n",
    "selection = dict(year=2097, ssp='SSP3', model='IIASA GDP', slr=9)\n",
    "# selection = dict(year=2097, ssp='SSP3', model='IIASA GDP', rcp='rcp85')"
   ]
  },
  {
   "cell_type": "code",
   "execution_count": null,
   "id": "64455f29-5469-41e5-b05e-8bda3a5efef8",
   "metadata": {
    "tags": []
   },
   "outputs": [],
   "source": [
    "gcms = [\n",
    "    None,\n",
    "        # \"surrogate_GFDL-CM3_99\",\n",
    "        # \"CCSM4\",\n",
    "        # \"ACCESS1-0\",\n",
    "        # \"GFDL-CM3\",\n",
    "        # \"IPSL-CM5A-LR\",\n",
    "        # \"MIROC-ESM-CHEM\",\n",
    "        # \"bcc-csm1-1\",\n",
    "        # \"CESM1-BGC\",  \n",
    "        # \"GFDL-ESM2G\",\n",
    "        # \"IPSL-CM5A-MR\",\n",
    "        # \"MPI-ESM-LR\",\n",
    "        # \"BNU-ESM\",\n",
    "        # \"CNRM-CM5\",\n",
    "        # \"GFDL-ESM2M\",\n",
    "        # \"MIROC5\",\n",
    "        # \"MPI-ESM-MR\",\n",
    "        # \"CanESM2\",\n",
    "        # \"CSIRO-Mk3-6-0\",\n",
    "        # \"inmcm4\",\n",
    "        # \"MIROC-ESM\",\n",
    "        # \"MRI-CGCM3\",\n",
    "        # \"NorESM1-M\",\n",
    "        # \"surrogate_GFDL-CM3_89\",\n",
    "        # \"surrogate_GFDL-ESM2G_11\",\n",
    "        # \"surrogate_CanESM2_99\",\n",
    "        # \"surrogate_GFDL-ESM2G_01\",\n",
    "        # \"surrogate_MRI-CGCM3_11\",\n",
    "        # \"surrogate_CanESM2_89\",\n",
    "        # \"surrogate_GFDL-CM3_94\",\n",
    "        # \"surrogate_MRI-CGCM3_01\",\n",
    "        # \"surrogate_CanESM2_94\",\n",
    "        # \"surrogate_MRI-CGCM3_06\",\n",
    "        # \"surrogate_GFDL-ESM2G_06\",\n",
    "    ]"
   ]
  },
  {
   "cell_type": "code",
   "execution_count": null,
   "id": "8b979e2a-147a-450c-858a-3aec8b38e187",
   "metadata": {
    "tags": []
   },
   "outputs": [],
   "source": [
    "for sector in [\n",
    "               # 'AMEL_clipped_USA',\n",
    "                'coastal_USA',\n",
    "              ]:\n",
    "    for gcm in gcms:\n",
    "\n",
    "        out = maps(\n",
    "                sector=sector,\n",
    "                ce_path = '/shares/gcp/integration/CE_library_epa_vsl_bc39',\n",
    "                ECON_ZARR=ECON_ZARR,\n",
    "                 gcm=gcm,\n",
    "                 year=2097,\n",
    "                 maxmin=False,\n",
    "                 variables= ['rp_inc_share', 'mean_damages_inc_share'],\n",
    "                 maxes=[100, 100],\n",
    "                 mins=[-100, -100],\n",
    "                 plot=True,\n",
    "                 selection=selection,\n",
    "                 save_path=f'/mnt/CIL_integration/plots/rff_diagnostics_USA/maps/{sector}'\n",
    "                )"
   ]
  }
 ],
 "metadata": {
  "kernelspec": {
   "display_name": "Python 3 (ipykernel)",
   "language": "python",
   "name": "python3"
  },
  "language_info": {
   "codemirror_mode": {
    "name": "ipython",
    "version": 3
   },
   "file_extension": ".py",
   "mimetype": "text/x-python",
   "name": "python",
   "nbconvert_exporter": "python",
   "pygments_lexer": "ipython3",
   "version": "3.8.0"
  }
 },
 "nbformat": 4,
 "nbformat_minor": 5
}
