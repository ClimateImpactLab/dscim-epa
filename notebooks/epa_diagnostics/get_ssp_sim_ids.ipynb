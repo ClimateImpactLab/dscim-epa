{
 "cells": [
  {
   "cell_type": "code",
   "execution_count": null,
   "id": "39c857bc-4123-4481-8900-b5418c8ba4a5",
   "metadata": {
    "tags": []
   },
   "outputs": [],
   "source": [
    "import xarray as xr\n",
    "import pandas as pd\n",
    "import numpy as np\n",
    "from itertools import product\n",
    "import os, sys"
   ]
  },
  {
   "cell_type": "code",
   "execution_count": null,
   "id": "79d6fcd1-570f-46c3-a847-73a9429f1121",
   "metadata": {
    "tags": []
   },
   "outputs": [],
   "source": [
    "sectors=['CAMEL']\n",
    "recipes=['adding_up', 'risk_aversion',]\n",
    "discs=['euler_ramsey', 'constant']\n",
    "kinds=['p1', 'p99', 'zeroes']\n",
    "eta_rhos = {\n",
    "    2.0 : 0.0,\n",
    "    1.016010255: 9.149608e-05,\n",
    "    1.244459066: 0.00197263997,\n",
    "    1.421158116: 0.00461878399,\n",
    "    1.567899395: 0.00770271076,\n",
    "}"
   ]
  },
  {
   "cell_type": "code",
   "execution_count": null,
   "id": "a415fb1c-336c-43b4-8783-756581982dea",
   "metadata": {
    "tags": []
   },
   "outputs": [],
   "source": [
    "def get_sim_id(sector,\n",
    "               recipe,\n",
    "               disc,\n",
    "               eta,\n",
    "               rho,\n",
    "               kind,\n",
    "              ):\n",
    "\n",
    "    results = f\"/mnt/CIL_integration/menu_results_AR6_epa/{sector}/2020/unmasked\"\n",
    "    \n",
    "    sccs = xr.open_dataset(\n",
    "            f\"{results}/{recipe}_{disc}_eta{eta}_rho{rho}_uncollapsed_sccs.nc4\"\n",
    "        ).sel(weitzman_parameter='0.5', fair_aggregation='uncollapsed', drop=True).uncollapsed_sccs\n",
    "    \n",
    "    if disc=='constant':\n",
    "        sccs = sccs.sel(discrate=0.02)\n",
    "\n",
    "    if kind=='p1':\n",
    "        cutoff = sccs.quantile(0.01, ['simulation'])\n",
    "        rff_ids = sccs.where(sccs < cutoff, drop=True)\n",
    "    elif kind=='zeroes':\n",
    "        rff_ids = sccs.where((sccs >-0.01) & (sccs<0.01), drop=True)\n",
    "    elif kind=='p99':\n",
    "        cutoff = sccs.quantile(0.99, ['simulation'])\n",
    "        rff_ids = sccs.where(sccs > cutoff, drop=True)\n",
    "\n",
    "    rff_ids = rff_ids.to_dataframe()\n",
    "\n",
    "    csv = rff_ids.loc[~rff_ids.uncollapsed_sccs.isnull()]\n",
    " \n",
    "    os.makedirs(f\"{results}/sim_ids/\", exist_ok=True)\n",
    "    csv.to_csv(f\"{results}/sim_ids/{recipe}_{disc}_eta{eta}_rho{rho}_{kind}_sim_ids.csv\")"
   ]
  },
  {
   "cell_type": "code",
   "execution_count": null,
   "id": "96f359e1-d52c-450b-8da8-a6c289ae078b",
   "metadata": {
    "tags": []
   },
   "outputs": [],
   "source": [
    "for sector, recipe, disc, er, kind in product(sectors, recipes, discs, eta_rhos.items(), kinds):\n",
    "    print(sector, recipe, disc, er, kind)\n",
    "    get_sim_id(sector,\n",
    "               recipe,\n",
    "               disc,\n",
    "               er[0],\n",
    "               er[1],\n",
    "               kind,\n",
    "              )"
   ]
  }
 ],
 "metadata": {
  "kernelspec": {
   "display_name": "Python 3 (ipykernel)",
   "language": "python",
   "name": "python3"
  },
  "language_info": {
   "codemirror_mode": {
    "name": "ipython",
    "version": 3
   },
   "file_extension": ".py",
   "mimetype": "text/x-python",
   "name": "python",
   "nbconvert_exporter": "python",
   "pygments_lexer": "ipython3",
   "version": "3.8.0"
  }
 },
 "nbformat": 4,
 "nbformat_minor": 5
}
