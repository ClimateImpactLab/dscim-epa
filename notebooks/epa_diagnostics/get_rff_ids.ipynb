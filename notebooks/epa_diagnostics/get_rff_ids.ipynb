{
 "cells": [
  {
   "cell_type": "code",
   "execution_count": 1,
   "id": "39c857bc-4123-4481-8900-b5418c8ba4a5",
   "metadata": {
    "execution": {
     "iopub.execute_input": "2022-05-06T16:23:23.338637Z",
     "iopub.status.busy": "2022-05-06T16:23:23.338361Z",
     "iopub.status.idle": "2022-05-06T16:23:25.035864Z",
     "shell.execute_reply": "2022-05-06T16:23:25.035038Z",
     "shell.execute_reply.started": "2022-05-06T16:23:23.338574Z"
    },
    "tags": []
   },
   "outputs": [],
   "source": [
    "import xarray as xr\n",
    "import pandas as pd\n",
    "import numpy as np\n",
    "from itertools import product\n",
    "import os, sys"
   ]
  },
  {
   "cell_type": "code",
   "execution_count": 2,
   "id": "25343b0f-eb62-4321-ae2c-7a3e96b94c76",
   "metadata": {
    "execution": {
     "iopub.execute_input": "2022-05-06T16:23:25.037483Z",
     "iopub.status.busy": "2022-05-06T16:23:25.037213Z",
     "iopub.status.idle": "2022-05-06T16:23:25.040449Z",
     "shell.execute_reply": "2022-05-06T16:23:25.039998Z",
     "shell.execute_reply.started": "2022-05-06T16:23:25.037465Z"
    },
    "tags": []
   },
   "outputs": [],
   "source": [
    "USA=False"
   ]
  },
  {
   "cell_type": "code",
   "execution_count": 3,
   "id": "79d6fcd1-570f-46c3-a847-73a9429f1121",
   "metadata": {
    "execution": {
     "iopub.execute_input": "2022-05-06T16:23:25.041227Z",
     "iopub.status.busy": "2022-05-06T16:23:25.041103Z",
     "iopub.status.idle": "2022-05-06T16:23:25.047185Z",
     "shell.execute_reply": "2022-05-06T16:23:25.046758Z",
     "shell.execute_reply.started": "2022-05-06T16:23:25.041212Z"
    },
    "tags": []
   },
   "outputs": [],
   "source": [
    "if USA==True:\n",
    "    result_root = \"/mnt/CIL_integration/USA_SCC_rff2\"\n",
    "    sectors=['mortality_USA', 'agriculture_USA', 'energy_USA', 'labor_USA']\n",
    "else:\n",
    "    result_root = \"/mnt/CIL_integration/rff2\"\n",
    "    sectors=['CAMEL', 'mortality', 'agriculture', 'energy', 'labor']\n",
    "recipes=['equity',]\n",
    "discs=['constant', 'euler_ramsey']\n",
    "kinds=['p50', 'p75', 'p99.99', 'p0.01', 'zeroes']\n",
    "masks=['epa_mask', 'unmasked']\n",
    "eta_rhos = {\n",
    "    2.0 : 0.0,\n",
    "    1.016010255: 9.149608e-05,\n",
    "    1.244459066: 0.00197263997,\n",
    "    1.421158116: 0.00461878399,\n",
    "    1.567899395: 0.00770271076,\n",
    "}"
   ]
  },
  {
   "cell_type": "code",
   "execution_count": 4,
   "id": "a415fb1c-336c-43b4-8783-756581982dea",
   "metadata": {
    "execution": {
     "iopub.execute_input": "2022-05-06T16:23:25.048451Z",
     "iopub.status.busy": "2022-05-06T16:23:25.048285Z",
     "iopub.status.idle": "2022-05-06T16:23:25.057795Z",
     "shell.execute_reply": "2022-05-06T16:23:25.057217Z",
     "shell.execute_reply.started": "2022-05-06T16:23:25.048433Z"
    },
    "tags": []
   },
   "outputs": [],
   "source": [
    "def get_rff_id(sector,\n",
    "               mask,\n",
    "               recipe,\n",
    "               disc,\n",
    "               eta,\n",
    "               rho,\n",
    "               kind,\n",
    "              ):\n",
    "\n",
    "    if mask in ['epa_mask', 'unmasked']:\n",
    "        results = f\"{result_root}/{sector}/2020/unmasked_None/\"\n",
    "    elif mask=='gdppc_mask':\n",
    "        results=f'{result_root}/{sector}/2020/gdppc_emissions_q0.01_q0.99'\n",
    "\n",
    "    outdir=f\"{result_root}/{sector}/2020/unmasked_None/\"\n",
    "    \n",
    "    sccs = xr.open_dataset(\n",
    "            f\"{results}/{recipe}_{disc}_eta{eta}_rho{rho}_uncollapsed_sccs.nc4\"\n",
    "        ).sel(weitzman_parameter='0.5', fair_aggregation='uncollapsed', gas='CO2_Fossil', drop=True).uncollapsed_sccs\n",
    "        \n",
    "    # runid rff_sp-simulation crosswalk\n",
    "    cw = xr.open_dataset('/shares/gcp/integration/rff2/rffsp_fair_sequence.nc')\n",
    "    \n",
    "    if mask=='epa_mask':\n",
    "        rffsp_values = pd.read_csv(\"/shares/gcp/integration/rff/rffsp_trials.csv\").rffsp_id.unique()\n",
    "        runid_idx = cw.where(cw.rff_sp.isin(rffsp_values), drop=True)\n",
    "        sccs = sccs.sel(runid=runid_idx.runid)\n",
    "    \n",
    "    if kind=='zeroes':\n",
    "        rff_ids = sccs.where((sccs >-1) & (sccs<1), drop=True)\n",
    "    elif kind=='p0.01':\n",
    "        cutoff = sccs.quantile(0.0001, 'runid')\n",
    "        rff_ids = sccs.where(sccs < cutoff, drop=True)\n",
    "    elif kind=='p50':\n",
    "        cutoff_a = sccs.quantile(0.499, 'runid')\n",
    "        cutoff_b = sccs.quantile(0.501, 'runid')\n",
    "        rff_ids = sccs.where((sccs > cutoff_a) & (sccs < cutoff_b), drop=True)\n",
    "    elif kind=='p75':\n",
    "        cutoff_a = sccs.quantile(0.749, 'runid')\n",
    "        cutoff_b = sccs.quantile(0.751, 'runid')\n",
    "        rff_ids = sccs.where((sccs > cutoff_a) & (sccs < cutoff_b), drop=True)\n",
    "    elif kind=='p99.99':\n",
    "        cutoff = sccs.quantile(0.9999, 'runid')\n",
    "        rff_ids = sccs.where(sccs > cutoff, drop=True)\n",
    "\n",
    "    csv=pd.DataFrame(list(rff_ids['runid'].values), columns=['runid'])\n",
    "    os.makedirs(f\"{outdir}/runids/\", exist_ok=True)\n",
    "    csv.to_csv(f\"{outdir}/runids/{recipe}_{disc}_eta{eta}_rho{rho}_{kind}_{mask}_runids.csv\", index=False)"
   ]
  },
  {
   "cell_type": "code",
   "execution_count": 5,
   "id": "96f359e1-d52c-450b-8da8-a6c289ae078b",
   "metadata": {
    "execution": {
     "iopub.execute_input": "2022-05-06T16:23:25.058464Z",
     "iopub.status.busy": "2022-05-06T16:23:25.058337Z",
     "iopub.status.idle": "2022-05-06T16:25:29.715505Z",
     "shell.execute_reply": "2022-05-06T16:25:29.714434Z",
     "shell.execute_reply.started": "2022-05-06T16:23:25.058438Z"
    },
    "tags": []
   },
   "outputs": [],
   "source": [
    "for sector, mask, recipe, disc, er, kind in product(sectors, masks, recipes, discs, eta_rhos.items(), kinds):\n",
    "    # print(sector, mask, recipe, disc, er, kind)\n",
    "    get_rff_id(sector,\n",
    "               mask,\n",
    "               recipe,\n",
    "               disc,\n",
    "               er[0],\n",
    "               er[1],\n",
    "               kind,\n",
    "              )"
   ]
  }
 ],
 "metadata": {
  "kernelspec": {
   "display_name": "Python 3 (ipykernel)",
   "language": "python",
   "name": "python3"
  },
  "language_info": {
   "codemirror_mode": {
    "name": "ipython",
    "version": 3
   },
   "file_extension": ".py",
   "mimetype": "text/x-python",
   "name": "python",
   "nbconvert_exporter": "python",
   "pygments_lexer": "ipython3",
   "version": "3.8.0"
  }
 },
 "nbformat": 4,
 "nbformat_minor": 5
}
