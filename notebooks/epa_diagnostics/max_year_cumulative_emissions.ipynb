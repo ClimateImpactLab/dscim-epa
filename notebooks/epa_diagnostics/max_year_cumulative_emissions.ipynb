{
 "cells": [
  {
   "cell_type": "code",
   "execution_count": null,
   "id": "378e3086-c554-4d79-b9f4-d52c46274cd7",
   "metadata": {
    "tags": []
   },
   "outputs": [],
   "source": [
    "import xarray as xr\n",
    "import pandas as pd\n",
    "import seaborn as sns\n",
    "import matplotlib.pyplot as plt\n",
    "import numpy as np\n",
    "sns.set_style('darkgrid')"
   ]
  },
  {
   "cell_type": "markdown",
   "id": "12624e56-4121-4fc0-b6bf-0c5bb2743792",
   "metadata": {},
   "source": [
    "# Getting the scalar so cumulative emissions are from 1750"
   ]
  },
  {
   "cell_type": "code",
   "execution_count": null,
   "id": "a3b922a1-c4a7-4235-8857-62cf4d2e06de",
   "metadata": {
    "tags": []
   },
   "outputs": [],
   "source": [
    "rcp_emissions= xr.open_dataset(\n",
    "    \"/shares/gcp/integration/float32/dscim_input_data/climate/AR6/ar6_fair162_control_pulse_2020-2030-2040-2050-2060-2070-2080_emis_conc_rf_temp_lambdaeff_emissions-driven_naturalfix_v4.0_Jan212022.nc\"\n",
    ").sel(gas='CO2_Fossil', runtype='control', pulse_year=2020, drop=True)\n",
    "\n",
    "scale_1850 = rcp_emissions.emissions.sel(rcp='ssp245').sel(year=slice(1750,2019)).sum('year').item()"
   ]
  },
  {
   "cell_type": "markdown",
   "id": "912d1677-da2e-40c6-8add-4f28788405e2",
   "metadata": {},
   "source": [
    "# RFF emissions trajectories"
   ]
  },
  {
   "cell_type": "code",
   "execution_count": null,
   "id": "2d883169-dc7d-4d17-9fb5-b32c83b29c14",
   "metadata": {
    "tags": []
   },
   "outputs": [],
   "source": [
    "drop_2300 = False\n",
    "cumulative = True\n",
    "save_path = '/mnt/CIL_integration/plots/rff_diagnostics/'"
   ]
  },
  {
   "cell_type": "code",
   "execution_count": null,
   "id": "77890ffa-fdb7-4bfa-afa6-b3ac5d4c21bd",
   "metadata": {
    "tags": []
   },
   "outputs": [],
   "source": [
    "emissions = xr.open_dataset(\n",
    "    \"/shares/gcp/integration/rff2/climate/emissions/rff-sp_emissions_all_gases.nc\"\n",
    ").sel(gas='C', drop=True)\n",
    "\n",
    "if cumulative == True:\n",
    "    summed = emissions.cumsum('Year').assign_coords({'Year' : emissions.Year}) + scale_1850\n",
    "    plot = summed.idxmax('Year').emissions.rename('max_year').to_dataframe().reset_index()\n",
    "    emission_type = 'Cumulative'\n",
    "    lim=[0,2,70,75]\n",
    "else:\n",
    "    plot = emissions.idxmax('Year').emissions.rename('max_year').to_dataframe().reset_index()\n",
    "    emission_type = 'Annual'\n",
    "    lim=[0,15,15,30]\n",
    "\n",
    "if drop_2300==True:\n",
    "    plot = plot.loc[plot.max_year != 2300]"
   ]
  },
  {
   "cell_type": "code",
   "execution_count": null,
   "id": "c7c12742-4780-4fd8-8911-b44eb9b619be",
   "metadata": {
    "tags": []
   },
   "outputs": [],
   "source": [
    "plot.to_csv(f\"{save_path}/brookings_data/rff_histogram_cumulative-{cumulative}_drop_2300-{drop_2300}.csv\")"
   ]
  },
  {
   "cell_type": "code",
   "execution_count": null,
   "id": "04ec6e9d-5068-492a-95c8-a444d4938d90",
   "metadata": {
    "tags": []
   },
   "outputs": [],
   "source": [
    "fig, (ax1, ax2) = plt.subplots(ncols=1, nrows=2, figsize=(15,8))\n",
    "\n",
    "for a in ax1, ax2:\n",
    "    ax = sns.histplot(\n",
    "        data=plot,\n",
    "        x='max_year',\n",
    "        stat='percent',\n",
    "        bins=100,\n",
    "        ax=a\n",
    "    )\n",
    "    \n",
    "ax2.set_ylim(lim[0], lim[1])\n",
    "ax1.set_ylim(lim[2], lim[3])\n",
    "ax1.set_ylabel('')\n",
    "ax2.set_ylabel('')\n",
    "\n",
    "ax2.spines['top'].set_visible(False)\n",
    "ax2.spines['right'].set_visible(False)\n",
    "\n",
    "ax1.axes.xaxis.set_ticks([])\n",
    "ax1.set_xlabel('')\n",
    "ax2.set_xlabel('Year of maximum')\n",
    "\n",
    "ax1.spines['top'].set_visible(False)\n",
    "ax1.spines['bottom'].set_visible(False)\n",
    "ax1.spines['right'].set_visible(False)\n",
    "\n",
    "# plt.annotate(\n",
    "#     f\"{round(plot.max_year.describe(percentiles=[0.01, 0.05, 0.1, 0.25, 0.5, 0.75, 0.9, 0.95, 0.99]),2)}\", \n",
    "#     (0.5, 0.5), \n",
    "#     xycoords='axes fraction')\n",
    "\n",
    "plt.suptitle(f\"Histogram: Year of Maximum {emission_type} Emissions, RFF GtC\", fontsize=18)\n",
    "\n",
    "if cumulative == True:\n",
    "    plt.subplots_adjust(hspace=0.1, top=0.95)\n",
    "    d = .005  # how big to make the diagonal lines in axes coordinates\n",
    "    # arguments to pass to plot, just so we don't keep repeating them\n",
    "    kwargs = dict(transform=ax1.transAxes, color='k', clip_on=False)\n",
    "    ax1.plot((-d, +d), (-d, +d), **kwargs)        # top-left diagonal\n",
    "\n",
    "    kwargs.update(transform=ax2.transAxes)  # switch to the bottom axes\n",
    "    ax2.plot((-d, +d), (1 - d, 1 + d), **kwargs)  # bottom-left diagonal\n",
    "else:\n",
    "    plt.subplots_adjust(hspace=0, top=0.95)\n",
    "\n",
    "plt.annotate(\"Percent\", (0.04, 0.5), rotation=90, xycoords='figure fraction')\n",
    "\n",
    "plt.savefig(f'{save_path}/max_year_{emission_type}_emissions_drop2300-{drop_2300}_broken_axis.pdf')"
   ]
  },
  {
   "cell_type": "code",
   "execution_count": null,
   "id": "8826d855-671e-4c75-bda2-f10310ff3b24",
   "metadata": {
    "tags": []
   },
   "outputs": [],
   "source": [
    "summy = 0 \n",
    "for ranges in [range(2001+i*50, 2001+(i+1)*50) for i in range(6)]:\n",
    "\n",
    "    print('Year', ranges, ':', plot.loc[plot.max_year.isin(ranges)].max_year.count() / len(plot.max_year) * 100, '%')\n",
    "    \n",
    "    summy+=plot.loc[plot.max_year.isin(ranges)].max_year.count() / len(plot.max_year) * 100\n",
    "    \n",
    "assert round(summy,5) == 100"
   ]
  },
  {
   "cell_type": "markdown",
   "id": "2765c9ea-3e66-45f1-baee-d1e879c2c2a5",
   "metadata": {},
   "source": [
    "# Heatmap of all RFF simulations annual emissions"
   ]
  },
  {
   "cell_type": "code",
   "execution_count": null,
   "id": "97ed5212-d4f5-455b-9641-d77ac0b6a31d",
   "metadata": {
    "tags": []
   },
   "outputs": [],
   "source": [
    "listy = []\n",
    "# bins = np.linspace(-15, 40, 12)\n",
    "bins = np.arange(-13, 41, 1)\n",
    "interval = 1\n",
    "\n",
    "for y in np.arange(2020,2300, interval):\n",
    "    \n",
    "    if interval==10:\n",
    "        slicey=slice(y,y+9)\n",
    "    elif interval==1:\n",
    "        slicey=slice(y,y)\n",
    "\n",
    "    sub = emissions.sel(Year=slicey, drop=True).groupby_bins('emissions', bins).count().to_dataframe().reset_index()\n",
    "    sub['Year'] = y\n",
    "\n",
    "    listy.append(sub)"
   ]
  },
  {
   "cell_type": "code",
   "execution_count": null,
   "id": "8220165b-aecd-4873-8ec6-39d16a2a3755",
   "metadata": {
    "tags": []
   },
   "outputs": [],
   "source": [
    "frame = pd.concat(listy)\n",
    "frame['Annual emissions'] = frame['index'].apply(lambda x : float(x.left))\n",
    "frame['percent'] = frame.emissions/10000*100\n",
    "data= frame.pivot('Annual emissions', 'Year', 'percent').sort_index(ascending=False)"
   ]
  },
  {
   "cell_type": "code",
   "execution_count": null,
   "id": "d85588ae-e112-4006-b33c-8890f0e7ea1e",
   "metadata": {
    "tags": []
   },
   "outputs": [],
   "source": [
    "fig, ax = plt.subplots(figsize=(20,8))\n",
    "\n",
    "sns.heatmap(\n",
    "    data=data,\n",
    "    ax=ax,\n",
    "    cmap='magma_r'\n",
    ")\n",
    "\n",
    "ax.set_xlabel('Year')\n",
    "fig.suptitle(\"Density plot of annual emissions (GtC)\")\n",
    "\n",
    "ax.set_xticks(ax.get_xticks()[::5])\n",
    "ax.set_yticks(ax.get_yticks()[::5])\n",
    "\n",
    "plt.xticks(rotation=360) \n",
    "plt.yticks(rotation=360) \n",
    "\n",
    "plt.savefig(f'{save_path}/annual_emissions_heatmap_single_year_single_emission.pdf', bbox_inches='tight')"
   ]
  },
  {
   "cell_type": "markdown",
   "id": "9449200b-152b-431e-8063-4dcfbf9307f4",
   "metadata": {},
   "source": [
    "# How many years have the same 2300 cumulative emissions value OR same max value"
   ]
  },
  {
   "cell_type": "code",
   "execution_count": null,
   "id": "23e02c36-0541-4d2f-8251-376c553f4139",
   "metadata": {
    "tags": []
   },
   "outputs": [],
   "source": [
    "if cumulative == True:\n",
    "    # year_type = 'max_year'\n",
    "    year_type = 'share_2300_year'\n",
    "    \n",
    "    if year_type=='max_year':\n",
    "        find_item = summed.max('Year')\n",
    "    elif year_type == 'share_2300_year':\n",
    "        find_item = summed.sel(Year=2300, drop=True)\n",
    "        \n",
    "    years = summed.where(\n",
    "        np.round(summed,4) == np.round(find_item,4), \n",
    "        drop=True\n",
    "    ).to_dataframe()\n",
    "\n",
    "    unique_years = years.loc[~years.emissions.isnull()].groupby('simulation').count()\n",
    "\n",
    "    non_unique_simulations = list(unique_years.loc[unique_years.emissions > 1].index)\n",
    "    \n",
    "    fig, ax = plt.subplots(figsize=(20,8))\n",
    "\n",
    "    sns.lineplot(\n",
    "        data=summed.sel(simulation=non_unique_simulations).to_dataframe().reset_index(),\n",
    "        x='Year',\n",
    "        y='emissions',\n",
    "        hue='simulation',\n",
    "        ax=ax\n",
    "    )\n",
    "\n",
    "    plt.suptitle(f\"Trajectories of non-unique {year_type} simulations ({len(non_unique_simulations)} simulations)\")\n",
    "\n",
    "    plt.savefig(f'{save_path}/non_unique_{year_type}_simulations.png', dpi=300, bbox_inches='tight')"
   ]
  },
  {
   "cell_type": "markdown",
   "id": "00d5fb05-2d94-4dce-8854-c0a62e0dea36",
   "metadata": {},
   "source": [
    "# RCP emissions trajectories"
   ]
  },
  {
   "cell_type": "code",
   "execution_count": null,
   "id": "e96dae22-3490-479b-8949-1ccb818e790b",
   "metadata": {
    "tags": []
   },
   "outputs": [],
   "source": [
    "rcp_emissions= xr.open_dataset(\n",
    "    \"/shares/gcp/integration/float32/dscim_input_data/climate/AR6/ar6_fair162_control_pulse_2020-2030-2040-2050-2060-2070-2080_emis_conc_rf_temp_lambdaeff_emissions-driven_naturalfix_v4.0_Jan212022.nc\"\n",
    ").sel(gas='CO2_Fossil', runtype='control', pulse_year=2020, year=slice(2020,2300))\n",
    "\n",
    "summed_rcp = (rcp_emissions.cumsum('year').assign_coords({'year' : rcp_emissions.year}) + scale_1850).emissions"
   ]
  },
  {
   "cell_type": "code",
   "execution_count": null,
   "id": "495ef0c7-eb6e-4849-8a2e-c2bcb618a6c0",
   "metadata": {
    "tags": []
   },
   "outputs": [],
   "source": [
    "summed_rcp.to_dataframe().to_csv(f\"{save_path}/brookings_data/rcp_histogram_cumulative-True_drop_2300-{drop_2300}.csv\")"
   ]
  },
  {
   "cell_type": "code",
   "execution_count": null,
   "id": "315b7125-6207-490d-b97c-eaf9d8f829ba",
   "metadata": {
    "tags": []
   },
   "outputs": [],
   "source": [
    "second_deriv = summed_rcp.differentiate('year')\n",
    "second_deriv.where(second_deriv==0, drop=True).idxmin('year').to_dataframe()"
   ]
  },
  {
   "cell_type": "code",
   "execution_count": null,
   "id": "2ea8892c-a0f0-492a-8c8f-e5d787a953b6",
   "metadata": {
    "tags": []
   },
   "outputs": [],
   "source": [
    "fig, ax = plt.subplots(figsize=(15,8))\n",
    "\n",
    "sns.lineplot(\n",
    "    data=summed_rcp.to_dataframe().reset_index(),\n",
    "    x='year',\n",
    "    y='emissions',\n",
    "    hue='rcp',\n",
    "    ax=ax\n",
    ")\n",
    "\n",
    "fig.suptitle(\"Cumulative Emissions for each RCP, GtC\")\n",
    "\n",
    "plt.savefig(f'{save_path}/rcp_cum_emissions.png', dpi=300, bbox_inches='tight')"
   ]
  },
  {
   "cell_type": "markdown",
   "id": "a6a52cf8-520f-4b3b-8ef3-64d7301f6255",
   "metadata": {},
   "source": [
    "# Combine RFF and RCP graphs"
   ]
  },
  {
   "cell_type": "code",
   "execution_count": null,
   "id": "24bedb85-b6d1-4a5a-9d77-360b728a212e",
   "metadata": {
    "tags": []
   },
   "outputs": [],
   "source": [
    "quantiles=[(0.01, 0.99), (0.05, 0.95)]\n",
    "\n",
    "if cumulative==True:\n",
    "    rff_quantiles = summed\n",
    "    rcp = summed_rcp\n",
    "else:\n",
    "    rff_quantiles = emissions.emissions \n",
    "    rcp = rcp_emissions.emissions \n",
    "\n",
    "rff_quantiles = rff_quantiles.quantile(\n",
    "    [i[0] for i in quantiles] + [i[1] for i in quantiles] + [0.5], \n",
    "    'simulation'\n",
    ").to_dataframe().reset_index()\n",
    "\n",
    "rcp = rcp.to_dataframe().reset_index()"
   ]
  },
  {
   "cell_type": "code",
   "execution_count": null,
   "id": "ecc1341b-5850-43fd-b2e4-012cfc3c8090",
   "metadata": {
    "tags": []
   },
   "outputs": [],
   "source": [
    "rff_quantiles.to_csv(f\"{save_path}/brookings_data/rff_timeseries_cumulative-{cumulative}_drop_2300-{drop_2300}.csv\")\n",
    "rcp.to_csv(f\"{save_path}/brookings_data/rcp_timeseries_cumulative-{cumulative}_drop_2300-{drop_2300}.csv\")"
   ]
  },
  {
   "cell_type": "code",
   "execution_count": null,
   "id": "1e45bd81-17b8-4aff-8058-240ebec4a99c",
   "metadata": {
    "tags": []
   },
   "outputs": [],
   "source": [
    "fig, ax = plt.subplots(figsize=(20,8))\n",
    "\n",
    "for col, q in enumerate(quantiles):\n",
    "\n",
    "    # ribbon plots\n",
    "    ax.fill_between(x=rff_quantiles.loc[rff_quantiles['quantile'] == q[0]].Year, \n",
    "                     y1=rff_quantiles.loc[rff_quantiles['quantile'] == q[0]].emissions, \n",
    "                     y2=rff_quantiles.loc[rff_quantiles['quantile'] == q[1]].emissions,\n",
    "                     color=sns.color_palette(\"Greys\", len(quantiles))[col], \n",
    "                     alpha=0.3,\n",
    "                     label=f\"RFF quantile : {q}\",\n",
    "                    )\n",
    "    \n",
    "# RFF median\n",
    "sns.lineplot(data=rff_quantiles.loc[rff_quantiles['quantile'] == 0.5],\n",
    "             x='Year',\n",
    "             y='emissions',\n",
    "             ax=ax,\n",
    "             color='black',\n",
    "             label=\"RFF quantile: 0.5\",\n",
    "            )\n",
    "\n",
    "# rcp scenarios\n",
    "palette = sns.color_palette(\"husl\", len(rcp.rcp.unique()))\n",
    "sns.lineplot(data=rcp,\n",
    "             x='year',\n",
    "             y='emissions',\n",
    "             ax=ax,\n",
    "             hue='rcp',\n",
    "             palette=palette\n",
    "            )\n",
    "\n",
    "ax.legend(bbox_to_anchor=(0.65,-0.1), ncol=2)\n",
    "\n",
    "ax.set_ylabel('Emissions')\n",
    "\n",
    "fig.suptitle(f\"RFF and RCP {emission_type} Emissions, GtC\")\n",
    "\n",
    "plt.savefig(f'{save_path}/rff_rcp_{emission_type}_emissions.pdf', bbox_inches='tight')"
   ]
  }
 ],
 "metadata": {
  "kernelspec": {
   "display_name": "Python 3 (ipykernel)",
   "language": "python",
   "name": "python3"
  },
  "language_info": {
   "codemirror_mode": {
    "name": "ipython",
    "version": 3
   },
   "file_extension": ".py",
   "mimetype": "text/x-python",
   "name": "python",
   "nbconvert_exporter": "python",
   "pygments_lexer": "ipython3",
   "version": "3.8.0"
  }
 },
 "nbformat": 4,
 "nbformat_minor": 5
}
