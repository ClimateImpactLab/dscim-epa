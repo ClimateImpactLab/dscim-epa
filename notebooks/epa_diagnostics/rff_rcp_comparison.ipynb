{
 "cells": [
  {
   "cell_type": "code",
   "execution_count": null,
   "id": "a7b78d7d-aa6a-4b95-9074-ba95114029cf",
   "metadata": {
    "tags": []
   },
   "outputs": [],
   "source": [
    "import xarray as xr\n",
    "import pandas as pd\n",
    "import numpy as np\n",
    "import matplotlib.pyplot as plt\n",
    "import seaborn as sns"
   ]
  },
  {
   "cell_type": "code",
   "execution_count": null,
   "id": "75bf49f8-989b-4dd2-a27f-d76b8c728006",
   "metadata": {
    "tags": []
   },
   "outputs": [],
   "source": [
    "year=2020 # pulse year\n",
    "quantiles=[0,0.01,0.05]\n",
    "years=[2050, 2100, 2200, 2300]"
   ]
  },
  {
   "cell_type": "code",
   "execution_count": null,
   "id": "570cb2f2-6efe-40ad-b7bb-372a290f5935",
   "metadata": {
    "tags": []
   },
   "outputs": [],
   "source": [
    "ssp = xr.open_dataset(\n",
    "    \"/shares/gcp/integration/float32/dscim_input_data/climate/AR6/ar6_fair162_sim_and_medianparams_control_pulse_2030-2040-2050-2060-2070-2080_emis_conc_rf_temp_lambdaeff_emissions-driven_naturalfix_v4.0_Jan212022.nc\"\n",
    ").sel(pulse_year=year, drop=True).pulse_temperature.sel(year=slice(2020,2300))\n",
    "\n",
    "rff = xr.open_dataset(\n",
    "    f\"/shares/gcp/integration/rff/climate/ar6_rff_iter0-19_fair162_CO2_Fossil_control_pulse_{year}_temp_v5.02_newformat_Jan72022.nc\"\n",
    ").sel(pulse_year=year, drop=True).pulse_temperature.sel(year=slice(2020,2300))"
   ]
  },
  {
   "cell_type": "code",
   "execution_count": null,
   "id": "99c0f7e3-0c85-4050-ac97-0d6418d7cfda",
   "metadata": {
    "tags": []
   },
   "outputs": [],
   "source": [
    "def ssp_crossing_year(ssp, rff, quantile):\n",
    "\n",
    "    diff= ssp.quantile(quantile, ['simulation']).min('rcp') - rff.quantile(quantile, ['rff_sp', 'simulation'])\n",
    "    minyear = diff.where(diff > 0, drop=True).idxmin('year')\n",
    "    \n",
    "    return minyear.values\n",
    "\n",
    "def zero_crossing_year(ssp, rff, quantile):\n",
    "\n",
    "    rff_val = rff.quantile(quantile, ['rff_sp', 'simulation'])\n",
    "    minyear = rff_val.where(rff_val >= 0, drop=True).idxmin('year')\n",
    "    \n",
    "    return minyear.values"
   ]
  },
  {
   "cell_type": "code",
   "execution_count": null,
   "id": "3c0a30de-9042-4f4e-b5c2-33b1b4ad0a72",
   "metadata": {
    "tags": []
   },
   "outputs": [],
   "source": [
    "for q in quantiles:\n",
    "    print(\"RFF percentile \", q, \"crosses SSP in year :\",\n",
    "          ssp_crossing_year(\n",
    "              ssp=ssp,\n",
    "              rff=rff,\n",
    "              quantile=q\n",
    "          )\n",
    "         )\n",
    "\n",
    "for q in quantiles:\n",
    "    print(\"RFF percentile \", q, \"crosses 0C in year :\",\n",
    "          zero_crossing_year(\n",
    "              ssp=ssp,\n",
    "              rff=rff,\n",
    "              quantile=q\n",
    "          )\n",
    "         )"
   ]
  },
  {
   "cell_type": "code",
   "execution_count": null,
   "id": "6469fe89-7576-4fc2-ae33-31aea3913e6b",
   "metadata": {
    "tags": []
   },
   "outputs": [],
   "source": [
    "fig, ax = plt.subplots(figsize=(15,8))\n",
    "\n",
    "sns.lineplot(data=ssp.min(['simulation', 'rcp']).to_dataframe().reset_index(),\n",
    "             x='year',\n",
    "             y='pulse_temperature',\n",
    "             ax=ax,\n",
    "             label='ssp min',\n",
    "            )\n",
    "\n",
    "sns.lineplot(data=rff.quantile(quantiles, ['rff_sp', 'simulation']).to_dataframe().reset_index(),\n",
    "             x='year',\n",
    "             y='pulse_temperature',\n",
    "             hue='quantile',\n",
    "             palette=sns.color_palette('Greys', 3),\n",
    "             ax=ax\n",
    "            )\n",
    "\n",
    "plt.suptitle(\"GMST over time, RFF quantiles and SSP-RCP min\")\n",
    "ax.set_xlabel(\"Year\")\n",
    "ax.set_ylabel(\"GMST\")\n",
    "\n",
    "plt.savefig(\"/mnt/CIL_integration/rff_diagnostics/v3/rff_ssp_gmst/quantile_timeseries.png\", dpi=300, bbox_inches='tight')"
   ]
  },
  {
   "cell_type": "code",
   "execution_count": null,
   "id": "bf9043de-26eb-4060-b42c-b24b0893b1ec",
   "metadata": {
    "tags": []
   },
   "outputs": [],
   "source": [
    "boxplot_rff=rff.sel(year=years).to_dataframe().reset_index()\n",
    "boxplot_ssp=ssp.sel(year=years).to_dataframe().reset_index()\n",
    "boxplot_rff['GMST'] = 'rff'\n",
    "boxplot_ssp['GMST'] = 'ssp'\n",
    "merged=pd.concat([boxplot_ssp, boxplot_rff])\n",
    "\n",
    "fig, ax = plt.subplots(figsize=(15,8))\n",
    "\n",
    "sns.boxplot(data=merged,\n",
    "            x='pulse_temperature',\n",
    "            y='year',\n",
    "            hue='GMST',\n",
    "            orient='h',\n",
    "            showfliers=True,\n",
    "            fliersize=1,\n",
    "            whis=[5, 95],\n",
    "            ax=ax\n",
    "           )\n",
    "\n",
    "ax.set_ylabel(\"Year\")\n",
    "ax.set_xlabel(\"GMST\")\n",
    "fig.suptitle(\"RFF and SSP-RCP GMST values (IQR, 5/95, outliers)\")\n",
    "\n",
    "plt.savefig(\"/mnt/CIL_integration/rff_diagnostics/v3/rff_ssp_gmst/boxplot_years.png\", dpi=300, bbox_inches='tight')"
   ]
  }
 ],
 "metadata": {
  "kernelspec": {
   "display_name": "Python 3 (ipykernel)",
   "language": "python",
   "name": "python3"
  },
  "language_info": {
   "codemirror_mode": {
    "name": "ipython",
    "version": 3
   },
   "file_extension": ".py",
   "mimetype": "text/x-python",
   "name": "python",
   "nbconvert_exporter": "python",
   "pygments_lexer": "ipython3",
   "version": "3.8.0"
  }
 },
 "nbformat": 4,
 "nbformat_minor": 5
}
