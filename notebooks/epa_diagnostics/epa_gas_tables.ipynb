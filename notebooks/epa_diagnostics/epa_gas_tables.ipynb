{
 "cells": [
  {
   "cell_type": "code",
   "execution_count": null,
   "id": "fba5f83b-fc1d-442c-8977-6498f4b9efef",
   "metadata": {
    "tags": []
   },
   "outputs": [],
   "source": [
    "import xarray as xr\n",
    "import pandas as pd\n",
    "import numpy as np"
   ]
  },
  {
   "cell_type": "code",
   "execution_count": null,
   "id": "17a42bc8-1bc1-4410-a154-214c50bbbe66",
   "metadata": {
    "tags": []
   },
   "outputs": [],
   "source": [
    "results_root = \"/shares/gcp/integration_replication/results/rff/\"\n",
    "sector='CAMEL_m1_c0.20'\n",
    "output = \"/mnt/CIL_integration/plots/rff_diagnostics/gas_tables/\"\n",
    "#results_mask = \"unmasked_None\"\n",
    "eta_rhos = {\n",
    "# 2.0 :0.0,\n",
    "1.016010255: 9.149608e-05,\n",
    "1.244459066: 0.00197263997,\n",
    "1.421158116: 0.00461878399,\n",
    "1.567899395: 0.00770271076,\n",
    "}\n",
    "wp='0.5'\n",
    "recipe='adding_up'\n",
    "disc='constant'\n",
    "discrates=[0.05, 0.03, 0.025]"
   ]
  },
  {
   "cell_type": "code",
   "execution_count": null,
   "id": "fc7c4e08-9ce8-4927-bd4c-f707296f85cd",
   "metadata": {
    "tags": []
   },
   "outputs": [],
   "source": [
    "gas='CO2_Fossil'\n",
    "eta = 1.016010255\n",
    "rho = 9.149608e-05"
   ]
  },
  {
   "cell_type": "code",
   "execution_count": null,
   "id": "dd336aae-e593-4992-97c5-0c92b48051c3",
   "metadata": {
    "tags": []
   },
   "outputs": [],
   "source": [
    "sccs = []\n",
    "\n",
    "for agg in ['95p', 'mean']:\n",
    "    for pulse_year in np.arange(2020, 2051, 10):\n",
    "\n",
    "        scc = (\n",
    "            xr.open_dataset(\n",
    "            f\"{results_root}/{sector}/{pulse_year}/{recipe}_{disc}_eta{eta}_rho{rho}_uncollapsed_sccs.nc4\")\n",
    "            .sel(weitzman_parameter=wp, fair_aggregation='uncollapsed', discount_type=disc, simulation=1, drop=True)\n",
    "            .uncollapsed_sccs.rename('SCC')\n",
    "            .expand_dims({'pulse_year' : [pulse_year]})\n",
    "        )\n",
    "\n",
    "        if agg=='mean':\n",
    "            scc = scc.mean('runid')\n",
    "        elif agg=='95p':\n",
    "            scc = scc.quantile(0.95, 'runid').drop('quantile')\n",
    "\n",
    "        sccs.append(scc.expand_dims({'aggregation' : [agg]}))\n",
    "\n",
    "sccs = xr.combine_by_coords(sccs)"
   ]
  },
  {
   "cell_type": "code",
   "execution_count": null,
   "id": "8aa0aa52-4c0a-4126-b751-0f92403aaa37",
   "metadata": {
    "tags": []
   },
   "outputs": [],
   "source": [
    "epa_table = pd.read_csv(\"/shares/gcp/integration/EPA_gas_tables.csv\", header=[0,1], index_col=[0,1])\n",
    "epa_table.index.names=['gas', 'year']\n",
    "epa_table.columns.names = ['aggregation', 'discrate']\n",
    "epa_table=epa_table.reset_index().melt(['year', 'gas']).set_index(['year', 'gas', 'aggregation', 'discrate']).to_xarray().rename({'year' : 'pulse_year'})\n",
    "epa_table['discrate'] = epa_table.discrate.astype(float)\n",
    "\n",
    "combined = xr.combine_by_coords([epa_table, sccs])\n",
    "ratio = sccs/epa_table.value.rename('SCC')"
   ]
  },
  {
   "cell_type": "code",
   "execution_count": null,
   "id": "d25d6724-4981-45b6-ba16-5f15a9a5ec18",
   "metadata": {
    "tags": []
   },
   "outputs": [],
   "source": [
    "print(sector, recipe, disc, eta, rho)\n",
    "for gas in sccs.gas:\n",
    "    cols = ['discrate', 'aggregation']\n",
    "    table = ratio.sel(gas=gas, discrate=discrates).to_dataframe().reset_index(cols)\n",
    "    table = table.loc[~((table.aggregation=='95p') & (table.discrate!=0.03))]\n",
    "    table = table.pivot(columns=cols).SCC\n",
    "    table.columns=table.columns.swaplevel(0)\n",
    "    table= table.sort_index(axis=1, ascending=False)\n",
    "    print(gas.item(), '\\n', round(table,2), '\\n')"
   ]
  },
  {
   "cell_type": "code",
   "execution_count": null,
   "id": "cdb46af8-1f69-4411-a9ba-0b626ed9b688",
   "metadata": {},
   "outputs": [],
   "source": []
  }
 ],
 "metadata": {
  "kernelspec": {
   "display_name": "Python 3 (ipykernel)",
   "language": "python",
   "name": "python3"
  },
  "language_info": {
   "codemirror_mode": {
    "name": "ipython",
    "version": 3
   },
   "file_extension": ".py",
   "mimetype": "text/x-python",
   "name": "python",
   "nbconvert_exporter": "python",
   "pygments_lexer": "ipython3",
   "version": "3.8.0"
  }
 },
 "nbformat": 4,
 "nbformat_minor": 5
}
