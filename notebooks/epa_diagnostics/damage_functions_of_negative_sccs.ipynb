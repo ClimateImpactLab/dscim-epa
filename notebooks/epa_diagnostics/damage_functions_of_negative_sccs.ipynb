{
 "cells": [
  {
   "cell_type": "code",
   "execution_count": null,
   "id": "24c68327-f813-41ec-829b-609e84bd476e",
   "metadata": {
    "tags": []
   },
   "outputs": [],
   "source": [
    "import xarray as xr\n",
    "import pandas as pd\n",
    "import numpy as np\n",
    "import seaborn as sns\n",
    "import matplotlib.pyplot as plt"
   ]
  },
  {
   "cell_type": "code",
   "execution_count": null,
   "id": "d4caa8fb-bf95-4269-8824-a7902454a8bf",
   "metadata": {
    "tags": []
   },
   "outputs": [],
   "source": [
    "# sectors=['agriculture_clipped', 'mortality_clipped', 'energy_clipped', 'labor_clipped', 'AMEL_clipped', \"CAMEL_clipped\"]\n",
    "sectors=['CAMEL_clipped']\n",
    "recipe='risk_aversion'\n",
    "disc='euler_ramsey'\n",
    "eta_rhos = {\n",
    "    2.0 :0.0,\n",
    "    # 1.016010255: 9.149608e-05,\n",
    "    # 1.244459066: 0.00197263997,\n",
    "    # 1.421158116: 0.00461878399,\n",
    "    # 1.567899395: 0.00770271076,\n",
    "}\n",
    "# xlim=(0,20)\n",
    "xlim=(-1,8)"
   ]
  },
  {
   "cell_type": "code",
   "execution_count": null,
   "id": "08f91673-c4a2-41ac-aece-ffb397fc918a",
   "metadata": {
    "tags": []
   },
   "outputs": [],
   "source": [
    "for sector in sectors:\n",
    "    for eta,rho in eta_rhos.items():\n",
    "        \n",
    "        df_library = f\"/mnt/CIL_integration/damage_function_library/damage_function_library_rff3_coastalv19/{sector}/\"\n",
    "        results = f\"/mnt/CIL_integration/rff3_with_disc_factors/iter0-19/{sector}/2020/unmasked_None\"\n",
    "        \n",
    "        sccs = xr.open_dataset(\n",
    "            f\"{results}/{recipe}_{disc}_eta{eta}_rho{rho}_uncollapsed_sccs.nc4\"\n",
    "        ).sel(weitzman_parameter='0.5').uncollapsed_sccs\n",
    "\n",
    "        cutoff=sccs.chunk({'simulation': -1}).quantile(0.0001, ['rff_sp', 'simulation'])\n",
    "\n",
    "        sccs = sccs.where(sccs < cutoff, drop=True)\n",
    "\n",
    "        rff_ids = sccs.rff_sp.values\n",
    "\n",
    "        coefs = xr.open_dataset(\n",
    "            f\"{df_library}/{recipe}_{disc}_eta{eta}_rho{rho}_damage_function_coefficients.nc4\"\n",
    "        ).sel(rff_sp=rff_ids)\n",
    "\n",
    "        temps = xr.DataArray(\n",
    "            np.arange(xlim[0],xlim[1], 0.25),\n",
    "            coords={\n",
    "                'anomaly' : np.arange(xlim[0], xlim[1], 0.25)\n",
    "            })\n",
    "\n",
    "        fit_rff = coefs['anomaly'] * temps + coefs['np.power(anomaly, 2)'] * temps ** 2\n",
    "        fit_rff = fit_rff.to_dataframe('fit_rff').reset_index()\n",
    "\n",
    "        g = sns.relplot(\n",
    "            data=fit_rff,\n",
    "                 x='anomaly',\n",
    "                 y='fit_rff',\n",
    "                 hue='year',\n",
    "                 col='rff_sp',\n",
    "                 col_wrap=3,\n",
    "                 kind='line',\n",
    "                 facet_kws={'sharey': False, 'sharex': True}\n",
    "                )\n",
    "\n",
    "        for i in range(len(rff_ids)):\n",
    "            g.axes.flatten()[i].set_title(f'''rff_sp:{rff_ids[i]}\n",
    "            {np.round(sccs.sel(rff_sp=rff_ids[i]).to_dataframe().uncollapsed_sccs.unique(),2)[1:]}'''\n",
    "                                         )\n",
    "        plt.subplots_adjust(hspace=0.2, top=0.9)\n",
    "        g.fig.suptitle(f\"Damage functions for RFF SPs in 0.01 percentile of SCCs \\n {sector} {recipe} {disc}, eta={eta} rho={rho}\")\n",
    "\n",
    "        plt.savefig(\n",
    "            f'/mnt/CIL_integration/rff_diagnostics/v3/damage_functions_negative_SCCs/{sector}_{recipe}_{disc}_{eta}_{rho}_xlim{xlim}.png', \n",
    "            bbox_inches='tight', \n",
    "            dpi=300\n",
    "        )"
   ]
  },
  {
   "cell_type": "code",
   "execution_count": null,
   "id": "8423b6b6-d6d8-4dee-8b47-639ffa0a8822",
   "metadata": {
    "tags": []
   },
   "outputs": [],
   "source": [
    "rff_ids"
   ]
  }
 ],
 "metadata": {
  "kernelspec": {
   "display_name": "Python 3 (ipykernel)",
   "language": "python",
   "name": "python3"
  },
  "language_info": {
   "codemirror_mode": {
    "name": "ipython",
    "version": 3
   },
   "file_extension": ".py",
   "mimetype": "text/x-python",
   "name": "python",
   "nbconvert_exporter": "python",
   "pygments_lexer": "ipython3",
   "version": "3.8.0"
  }
 },
 "nbformat": 4,
 "nbformat_minor": 5
}
