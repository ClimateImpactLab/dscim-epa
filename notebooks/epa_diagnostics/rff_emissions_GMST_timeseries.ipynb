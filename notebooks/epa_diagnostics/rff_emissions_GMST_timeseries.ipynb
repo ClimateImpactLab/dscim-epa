{
 "cells": [
  {
   "cell_type": "code",
   "execution_count": null,
   "id": "fe7416dc-2238-4fdd-ae22-375c09d6a412",
   "metadata": {
    "tags": []
   },
   "outputs": [],
   "source": [
    "import xarray as xr\n",
    "import pandas as pd\n",
    "import seaborn as sns\n",
    "import matplotlib.pyplot as plt\n",
    "import numpy as np\n",
    "import os, sys, yaml\n",
    "USER = os.getenv('USER')\n",
    "from dscim.menu.simple_storage import Climate\n",
    "from itertools import product"
   ]
  },
  {
   "cell_type": "code",
   "execution_count": null,
   "id": "96d3b58d-483f-4ace-9812-33bd0fcff075",
   "metadata": {
    "tags": []
   },
   "outputs": [],
   "source": [
    "sectors=['CAMEL_clipped']\n",
    "kinds=['zeroes']#, 'p0.01', 'p99.99']\n",
    "masks=['epa_mask'] #, 'gdppc_mask', 'unmasked']\n",
    "eta_rhos = {\n",
    "    # 2.0 :0.0,\n",
    "    1.016010255: 9.149608e-05,\n",
    "    # 1.244459066: 0.00197263997,\n",
    "    # 1.421158116: 0.00461878399,\n",
    "    # 1.567899395: 0.00770271076,\n",
    "}"
   ]
  },
  {
   "cell_type": "code",
   "execution_count": null,
   "id": "8fdcf0d0-7ae0-43b3-9f72-2ed7716500f7",
   "metadata": {
    "tags": []
   },
   "outputs": [],
   "source": [
    "def timeseries(\n",
    "    sector,\n",
    "    mask,\n",
    "    kind,\n",
    "    recipe='risk_aversion',\n",
    "    disc='euler_ramsey',\n",
    "    eta=2.0,\n",
    "    rho=0.0,\n",
    "):\n",
    "    \n",
    "    config = f'/home/{USER}/repos/integration/configs/rff_config.yaml'\n",
    "    results = f\"/mnt/CIL_integration/rff3_with_disc_factors/iter0-19/{sector}/2020/unmasked_None\"\n",
    "    \n",
    "    rff_ids = pd.read_csv(\n",
    "        f\"{results}/rff_ids/{recipe}_{disc}_eta{eta}_rho{rho}_{kind}_{mask}_rff_ids.csv\"\n",
    "    ).set_index(['rff_sp', 'simulation']).index\n",
    "\n",
    "    sccs = xr.open_dataset(\n",
    "        f\"{results}/{recipe}_{disc}_eta{eta}_rho{rho}_uncollapsed_sccs.nc4\"\n",
    "    ).sel(weitzman_parameter='0.5', fair_aggregation='uncollapsed', drop=True).uncollapsed_sccs.stack(\n",
    "        {'rff_sp-simulation' :['rff_sp', 'simulation']}\n",
    "    ).sel({'rff_sp-simulation' : rff_ids}\n",
    "         ).rename('SCC').to_dataframe().reset_index()\n",
    "\n",
    "    fig, ax = plt.subplots(3,1,figsize=(15,15), sharex=True)\n",
    "    \n",
    "    for i, yvar in enumerate(['cumulative_emissions', 'emissions', 'gmst']):\n",
    "        if yvar=='cumulative_emissions':\n",
    "            emissions = xr.open_dataset(\"/shares/gcp/integration/rff/climate/rff-sp_emissions_all_gases.nc\")\n",
    "            c_emissions=emissions.cumsum('Year')\n",
    "            c_emissions['Year'] = emissions.Year\n",
    "            ydata = (c_emissions\n",
    "                        .sel(gas='C', simulation=rff_ids.get_level_values('rff_sp'), drop=True)\n",
    "                        .to_dataframe()\n",
    "                        .reset_index()\n",
    "                        .rename(columns={'simulation' : 'rff_sp', 'Year' : 'year', 'emissions' : 'cumulative_emissions'})\n",
    "                       )\n",
    "            idx=['rff_sp']\n",
    "        elif yvar=='emissions':\n",
    "            ydata = (xr.open_dataset(\n",
    "                        \"/shares/gcp/integration/rff/climate/rff-sp_emissions_all_gases.nc\")\n",
    "                        .sel(gas='C', simulation=rff_ids.get_level_values('rff_sp'), drop=True)\n",
    "                        .to_dataframe()\n",
    "                        .reset_index()\n",
    "                        .rename(columns={'simulation' : 'rff_sp', 'Year' : 'year'})\n",
    "                       )\n",
    "            idx=['rff_sp']\n",
    "        elif yvar=='gmst':\n",
    "            with open(config) as config_file:\n",
    "                params = yaml.full_load(config_file)\n",
    "\n",
    "            ydata = (Climate(**params['climate'])\n",
    "                     .fair_pulse\n",
    "                     .stack({'rff_sp-simulation' :['rff_sp', 'simulation']})\n",
    "                     .sel({'rff_sp-simulation' : rff_ids})\n",
    "                     .to_dataframe()\n",
    "                     .reset_index()\n",
    "                     .rename(columns={'temperature' : 'gmst'})\n",
    "                    )\n",
    "            idx=['rff_sp', 'simulation']\n",
    "\n",
    "        data = sccs.merge(ydata, on=idx)\n",
    "\n",
    "        sns.lineplot(data=data,\n",
    "                 x='year',\n",
    "                 y=yvar,\n",
    "                 hue='SCC',\n",
    "                 ax=ax[i]\n",
    "                )\n",
    "        \n",
    "        ax[i].set_title(yvar)\n",
    "        if i > 0:\n",
    "            ax[i].get_legend().remove()\n",
    "    \n",
    "    plt.subplots_adjust(top=0.85)\n",
    "    fig.suptitle(f\"mask={mask}, SCC subset={kind} \\n {sector} {recipe} {disc}, eta={eta} rho={rho}\")\n",
    "    plt.savefig(\n",
    "        f'/mnt/CIL_integration/rff_diagnostics/v3/climate_timeseries/climate_timeseries_{sector}_{recipe}_{disc}_{eta}_{rho}_{kind}_{mask}.png', \n",
    "        bbox_inches='tight', \n",
    "        dpi=300\n",
    "        )"
   ]
  },
  {
   "cell_type": "code",
   "execution_count": null,
   "id": "5fd179f5-74fa-4c8c-9bc1-6e70093fc065",
   "metadata": {
    "tags": []
   },
   "outputs": [],
   "source": [
    "for s, m, k, er in product(sectors, masks, kinds, eta_rhos.items()):\n",
    "    print(s,m,k,er)\n",
    "    timeseries(sector=s,\n",
    "               mask=m,\n",
    "                    kind=k,\n",
    "                    eta=er[0],\n",
    "                    rho=er[1],\n",
    "                   )"
   ]
  }
 ],
 "metadata": {
  "kernelspec": {
   "display_name": "Python 3 (ipykernel)",
   "language": "python",
   "name": "python3"
  },
  "language_info": {
   "codemirror_mode": {
    "name": "ipython",
    "version": 3
   },
   "file_extension": ".py",
   "mimetype": "text/x-python",
   "name": "python",
   "nbconvert_exporter": "python",
   "pygments_lexer": "ipython3",
   "version": "3.8.0"
  }
 },
 "nbformat": 4,
 "nbformat_minor": 5
}
