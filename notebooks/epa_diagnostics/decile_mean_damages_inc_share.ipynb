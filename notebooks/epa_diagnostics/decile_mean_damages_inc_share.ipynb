{
 "cells": [
  {
   "cell_type": "code",
   "execution_count": 1,
   "id": "88dc21aa-fabc-4caa-9f8f-e4309a8695e9",
   "metadata": {
    "execution": {
     "iopub.execute_input": "2022-05-05T04:42:09.382100Z",
     "iopub.status.busy": "2022-05-05T04:42:09.381894Z",
     "iopub.status.idle": "2022-05-05T04:42:11.554252Z",
     "shell.execute_reply": "2022-05-05T04:42:11.553665Z",
     "shell.execute_reply.started": "2022-05-05T04:42:09.382041Z"
    },
    "tags": []
   },
   "outputs": [
    {
     "name": "stderr",
     "output_type": "stream",
     "text": [
      "/home/kschwarz/miniconda3/envs/dscim2/lib/python3.8/site-packages/statsmodels/compat/pandas.py:61: FutureWarning: pandas.Int64Index is deprecated and will be removed from pandas in a future version. Use pandas.Index with the appropriate dtype instead.\n",
      "  from pandas import Int64Index as NumericIndex\n"
     ]
    }
   ],
   "source": [
    "import pandas as pd\n",
    "import xarray as xr\n",
    "import matplotlib.pyplot as plt\n",
    "import numpy as np\n",
    "import os, sys\n",
    "from itertools import product\n",
    "USER = os.getenv(\"USER\")\n",
    "sys.path.append(f'/home/{USER}/repos/agriculture/1_code/5_crop_shift')\n",
    "from agval.utils.ag_weights import snag_weights\n",
    "import seaborn as sns\n",
    "import matplotlib.pyplot as plt\n",
    "sns.set_context('poster')"
   ]
  },
  {
   "cell_type": "code",
   "execution_count": 2,
   "id": "b33bb0b2-cebd-4dcd-8fa4-770030790e18",
   "metadata": {
    "execution": {
     "iopub.execute_input": "2022-05-05T04:42:11.555341Z",
     "iopub.status.busy": "2022-05-05T04:42:11.555194Z",
     "iopub.status.idle": "2022-05-05T04:42:11.559857Z",
     "shell.execute_reply": "2022-05-05T04:42:11.559365Z",
     "shell.execute_reply.started": "2022-05-05T04:42:11.555323Z"
    },
    "tags": []
   },
   "outputs": [],
   "source": [
    "USA=True\n",
    "models=['low']\n",
    "rcps=['rcp85', 'rcp45']\n",
    "ssps=['SSP3', 'SSP2']\n",
    "years=[2099]\n",
    "slrs=[5]\n",
    "sectors=['CAMEL', 'AMEL', 'agriculture', 'energy', 'labor', 'coastal', 'mortality'] \n",
    "output = '/mnt/CIL_integration/plots/damages_income_share_boxplots'"
   ]
  },
  {
   "cell_type": "code",
   "execution_count": 3,
   "id": "f0fcaa0a-8162-483f-aff6-ce9b6af58b50",
   "metadata": {
    "execution": {
     "iopub.execute_input": "2022-05-05T04:42:11.561622Z",
     "iopub.status.busy": "2022-05-05T04:42:11.561363Z",
     "iopub.status.idle": "2022-05-05T04:42:11.565519Z",
     "shell.execute_reply": "2022-05-05T04:42:11.564850Z",
     "shell.execute_reply.started": "2022-05-05T04:42:11.561600Z"
    },
    "tags": []
   },
   "outputs": [],
   "source": [
    "model_dict = {\n",
    "    'low' : 'IIASA GDP',\n",
    "    'high' : 'OECD Env-Growth'\n",
    "}"
   ]
  },
  {
   "cell_type": "code",
   "execution_count": 4,
   "id": "b2eda93d-2686-40d7-a03c-291e5ee43bb8",
   "metadata": {
    "execution": {
     "iopub.execute_input": "2022-05-05T04:42:11.566722Z",
     "iopub.status.busy": "2022-05-05T04:42:11.566569Z",
     "iopub.status.idle": "2022-05-05T04:42:44.832712Z",
     "shell.execute_reply": "2022-05-05T04:42:44.831848Z",
     "shell.execute_reply.started": "2022-05-05T04:42:11.566703Z"
    },
    "tags": []
   },
   "outputs": [
    {
     "name": "stdout",
     "output_type": "stream",
     "text": [
      "CAMEL rcp85 SSP3 low\n",
      "CAMEL rcp85 SSP2 low\n",
      "CAMEL rcp45 SSP3 low\n",
      "CAMEL rcp45 SSP2 low\n",
      "AMEL rcp85 SSP3 low\n",
      "AMEL rcp85 SSP2 low\n",
      "AMEL rcp45 SSP3 low\n",
      "AMEL rcp45 SSP2 low\n",
      "agriculture rcp85 SSP3 low\n",
      "agriculture rcp85 SSP2 low\n",
      "agriculture rcp45 SSP3 low\n",
      "agriculture rcp45 SSP2 low\n",
      "energy rcp85 SSP3 low\n",
      "energy rcp85 SSP2 low\n",
      "energy rcp45 SSP3 low\n",
      "energy rcp45 SSP2 low\n",
      "labor rcp85 SSP3 low\n",
      "labor rcp85 SSP2 low\n",
      "labor rcp45 SSP3 low\n",
      "labor rcp45 SSP2 low\n",
      "coastal  SSP3 low\n",
      "coastal  SSP2 low\n",
      "coastal  SSP3 low\n",
      "coastal  SSP2 low\n",
      "mortality rcp85 SSP3 low\n",
      "mortality rcp85 SSP2 low\n",
      "mortality rcp45 SSP3 low\n",
      "mortality rcp45 SSP2 low\n"
     ]
    }
   ],
   "source": [
    "for sector, model, rcp, ssp, year, slr in product(\n",
    "    sectors,\n",
    "    models,\n",
    "    rcps,\n",
    "    ssps,\n",
    "    years, \n",
    "    slrs,\n",
    "):\n",
    "    \n",
    "    selection = dict(ssp=ssp, model=model_dict[model], year=year, rcp=rcp, slr=slr)\n",
    "    \n",
    "    if sector=='CAMEL':\n",
    "        ce_cc = xr.open_zarr(\n",
    "            f\"/shares/gcp/integration/CE_library_epa_vsl_bc39/synthetic_CAMEL/CAMEL_weighted_gcm_slr{slr}_{year}_adding_up_ce_cc_eta2.0.zarr\"\n",
    "        )\n",
    "    else:\n",
    "        ce_cc = xr.open_zarr(\n",
    "            f\"/shares/gcp/integration/CE_library_epa_vsl_bc39/{sector}/adding_up_ce_cc_eta2.0.zarr\"\n",
    "        )\n",
    "    ce_cc = ce_cc.sel({k:v for k,v in selection.items() if k in ce_cc.dims})\n",
    "\n",
    "    gdppc = xr.open_zarr(\n",
    "    \"/shares/gcp/integration/float32/dscim_input_data/econvars/zarrs/integration-econ-bc39.zarr\"\n",
    ")\n",
    "\n",
    "    gdppc = gdppc.chunk(\n",
    "        {'region' : len(gdppc.region.values)}\n",
    "    ).sel(\n",
    "        {k:v for k,v in selection.items() if k in gdppc.dims}\n",
    "    ).gdppc\n",
    "    \n",
    "    # undo the mean consumption calculation (which is gdppc - damages) to get back damages\n",
    "    mean_damages = -1*(ce_cc.ce_cc - gdppc)\n",
    "    \n",
    "    if USA == True:\n",
    "        mean_damages = mean_damages.sel(region=[i for i in ce_cc.region.values if 'USA.' in i])\n",
    "        gdppc = gdppc.sel(region=[i for i in gdppc.region.values if 'USA.' in i])\n",
    "    \n",
    "    if sector=='coastal':\n",
    "        rcp=''\n",
    "    elif sector=='CAMEL':\n",
    "        pass\n",
    "    else:\n",
    "        slr=''\n",
    "        weights = snag_weights(rcp).to_xarray().weight\n",
    "        mean_damages['gcm'] = mean_damages.gcm.str.upper()\n",
    "        mean_damages = mean_damages.weighted(weights).mean('gcm')\n",
    "    \n",
    "    damages_inc_share = (mean_damages/gdppc).chunk({'region' : len(gdppc.region.values)}).to_dataset(name='damages_inc_share')\n",
    "    damages_inc_share['gdppc'] = gdppc\n",
    "    bins = gdppc.quantile(np.linspace(0,1,6)).values\n",
    "    \n",
    "    # table\n",
    "    groupby = damages_inc_share.groupby_bins('gdppc', bins)\n",
    "    mean = groupby.mean('region').damages_inc_share\n",
    "    quants = groupby.quantile([0, 0.25, 0.75, 1], 'region').damages_inc_share\n",
    "    table = xr.concat([quants, mean.expand_dims({'quantile' : ['mean']})], 'quantile').to_dataframe()\n",
    "    table.to_csv(f\"{output}/{sector}_{model_dict[model]}_{ssp}_{rcp}{slr}_{year}_domestic-{USA}.csv\")\n",
    "    \n",
    "    # plot\n",
    "    damages_inc_share['quintile'] = np.nan\n",
    "\n",
    "    for i, b in enumerate(bins):\n",
    "\n",
    "        if i > 0:\n",
    "            damages_inc_share['quintile'] = xr.where(\n",
    "                (damages_inc_share.gdppc < bins[i]) & (damages_inc_share.gdppc >= bins[i-1]),\n",
    "                i,\n",
    "                damages_inc_share.quintile\n",
    "            )\n",
    "        \n",
    "    plot = damages_inc_share.to_dataframe().reset_index()\n",
    "    plot = plot.loc[~plot.quintile.isnull()]\n",
    "    plot['quintile'] = plot.quintile.astype(int)\n",
    "\n",
    "    fig, ax = plt.subplots(figsize=(10, 10))\n",
    "    fig.suptitle(f\"Damages due to climate change as a share of GDP, \\n by GDP quintiles across regions\")\n",
    "\n",
    "    sns.boxplot(data=plot,\n",
    "                y='damages_inc_share',\n",
    "                x='quintile',\n",
    "                hue='quintile',\n",
    "                dodge=False,\n",
    "                whis=(5, 95),\n",
    "                ax=ax,\n",
    "                width=0.75,\n",
    "                palette='husl',\n",
    "                fliersize=2,\n",
    "                saturation=1,\n",
    "               )\n",
    "\n",
    "    plt.xlabel(\"Quintile\")\n",
    "    plt.ylabel(\"Damages as a share of GDP\")\n",
    "    ax.get_legend().remove()\n",
    "    plt.savefig(f\"{output}/{sector}_{model_dict[model]}_{ssp}_{rcp}{slr}_{year}_domestic-{USA}.png\", dpi=300, bbox_inches='tight')\n",
    "    plt.close()\n",
    "    \n",
    "    print(sector, rcp, ssp, model)"
   ]
  }
 ],
 "metadata": {
  "kernelspec": {
   "display_name": "Python 3 (ipykernel)",
   "language": "python",
   "name": "python3"
  },
  "language_info": {
   "codemirror_mode": {
    "name": "ipython",
    "version": 3
   },
   "file_extension": ".py",
   "mimetype": "text/x-python",
   "name": "python",
   "nbconvert_exporter": "python",
   "pygments_lexer": "ipython3",
   "version": "3.8.0"
  }
 },
 "nbformat": 4,
 "nbformat_minor": 5
}
