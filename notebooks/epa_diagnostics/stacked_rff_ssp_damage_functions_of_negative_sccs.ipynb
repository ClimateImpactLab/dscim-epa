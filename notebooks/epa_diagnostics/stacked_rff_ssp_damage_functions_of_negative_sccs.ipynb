{
 "cells": [
  {
   "cell_type": "code",
   "execution_count": null,
   "id": "181639fb-ae70-41ca-a2d5-750e4ff058ab",
   "metadata": {
    "tags": []
   },
   "outputs": [],
   "source": [
    "import xarray as xr\n",
    "import pandas as pd\n",
    "import numpy as np\n",
    "import seaborn as sns\n",
    "import os, sys\n",
    "import matplotlib.pyplot as plt\n",
    "from dscim.diagnostics.damage_function import damage_function"
   ]
  },
  {
   "cell_type": "code",
   "execution_count": null,
   "id": "a0032ec1-b1e5-4207-ab92-db383a3895b5",
   "metadata": {
    "tags": []
   },
   "outputs": [],
   "source": [
    "USA=False\n",
    "\n",
    "if USA==True:\n",
    "    sectors=['CAMEL_USA']\n",
    "else:\n",
    "    sectors=['CAMEL', 'mortality', 'energy', 'labor', 'agriculture']\n",
    "\n",
    "eta_rhos = {\n",
    "    2.0 :0.0,\n",
    "    1.016010255: 9.149608e-05,\n",
    "    1.244459066: 0.00197263997,\n",
    "    1.421158116: 0.00461878399,\n",
    "    1.567899395: 0.00770271076,\n",
    "}\n",
    "\n",
    "rff=True"
   ]
  },
  {
   "cell_type": "code",
   "execution_count": null,
   "id": "d0d05757-c852-4966-a109-180f153cad9b",
   "metadata": {
    "tags": []
   },
   "outputs": [],
   "source": [
    "def plot_stacked(sector,\n",
    "                 recipe='risk_aversion',\n",
    "                disc='constant',\n",
    "                eta=2.0,\n",
    "                 rho=0.0,\n",
    "                 xlim=(-1, 8),\n",
    "                years = [2020, 2050, 2090, \n",
    "                         2100, 2200, 2300],\n",
    "                 sharey=False,\n",
    "                ):\n",
    "\n",
    "    if USA==True:\n",
    "        root_rff=f'/mnt/CIL_integration/USA_SCC_rff2/{sector}/2020/unmasked_None'\n",
    "        root_ssp=f'/mnt/CIL_integration/USA_SCC/{sector}/2020/unmasked'\n",
    "        coefs_rff=f'/mnt/CIL_integration/damage_function_library/damage_function_library_USA_SCC_rff2/{sector}/'\n",
    "        coefs_ssp=f'/mnt/CIL_integration/damage_function_library/damage_function_library_USA_SCC/{sector}/'\n",
    "        output = '/mnt/CIL_integration/plots/rff_diagnostics_USA/rff_ssp_stacked_damage_functions/'\n",
    "\n",
    "    else:\n",
    "        root_rff=f'/mnt/CIL_integration/rff2/{sector}/2020/unmasked_None'\n",
    "        root_ssp=f'/mnt/CIL_integration/menu_results_AR6_epa/{sector}/2020/unmasked'\n",
    "        coefs_rff=f'/mnt/CIL_integration/damage_function_library/damage_function_library_rff2/{sector}/'\n",
    "        coefs_ssp=f'/mnt/CIL_integration/damage_function_library/damage_function_library_epa/{sector}/'\n",
    "        output = '/mnt/CIL_integration/plots/rff_diagnostics/rff_ssp_stacked_damage_functions/'\n",
    "\n",
    "    # overlap ssp and rff\n",
    "    quantiles = [0.01, 0.05, 0.25, 0.5, 0.75, 0.95, 0.99]\n",
    "    ds_rff_mean = xr.open_dataset(f\"{coefs_rff}/{recipe}_{disc}_eta{eta}_rho{rho}_damage_function_coefficients.nc4\").sel(year=years).mean('runid')\n",
    "    ds_rff = xr.open_dataset(f\"{coefs_rff}/{recipe}_{disc}_eta{eta}_rho{rho}_damage_function_coefficients.nc4\").sel(year=years).quantile(quantiles, 'runid')\n",
    "    ds_ssp = xr.open_dataset(f\"{coefs_ssp}/{recipe}_{disc}_eta{eta}_rho{rho}_damage_function_coefficients.nc4\").sel(year=years)\n",
    "\n",
    "    temps = xr.DataArray(\n",
    "        np.arange(xlim[0], xlim[1], 0.1),\n",
    "        coords={\n",
    "            'anomaly' : np.arange(xlim[0], xlim[1], 0.1)\n",
    "        })\n",
    "    \n",
    "    fit_rff_mean = ds_rff_mean['anomaly'] * temps + ds_rff_mean['np.power(anomaly, 2)'] * temps ** 2\n",
    "    fit_rff_mean = fit_rff_mean.to_dataframe('fit').reset_index()\n",
    "    fit_rff_mean['model'] =  \"RFF mean\"\n",
    "    fit_rff_mean = fit_rff_mean[['fit','year','model','anomaly']]\n",
    "\n",
    "    fit_rff = ds_rff['anomaly'] * temps + ds_rff['np.power(anomaly, 2)'] * temps ** 2\n",
    "    fit_rff = fit_rff.to_dataframe('fit').reset_index()\n",
    "    fit_rff['model'] =  \"quantile: \" + fit_rff['quantile'].astype(str)\n",
    "    fit_rff = fit_rff[['fit','year','model','anomaly']]\n",
    "\n",
    "    fit_ssp = ds_ssp['anomaly'] * temps + ds_ssp['np.power(anomaly, 2)'] * temps ** 2\n",
    "    fit_ssp = fit_ssp.to_dataframe('fit').reset_index()\n",
    "    fit_ssp[\"model\"] = fit_ssp.ssp + \"-\" + fit_ssp.model\n",
    "    fit_ssp = fit_ssp[['fit','year','model','anomaly']]\n",
    "\n",
    "    if rff==True:\n",
    "        fit = pd.concat([fit_ssp, fit_rff, fit_rff_mean]).set_index(['year','model','anomaly'])\n",
    "        pal=sns.color_palette(\"Paired\", 6) + sns.color_palette(\"Greys\", len(quantiles) + 1)\n",
    "    else:\n",
    "        fit = fit_ssp.set_index(['year','model','anomaly'])\n",
    "        pal=sns.color_palette(\"Paired\", 6)\n",
    "\n",
    "    g = sns.relplot(\n",
    "        data=fit,\n",
    "             x='anomaly',\n",
    "             y='fit',\n",
    "             hue='model',\n",
    "             col='year',\n",
    "             col_wrap=3,\n",
    "             kind='line',\n",
    "             palette = pal,\n",
    "             facet_kws={'sharey': sharey, 'sharex': True},\n",
    "             legend='full',\n",
    "            )\n",
    "\n",
    "    g.fig.suptitle(f\"{sector} {recipe} {disc} eta={eta} rho={rho}\")\n",
    "    \n",
    "    plt.subplots_adjust(top=0.85)\n",
    "\n",
    "    os.makedirs(output, exist_ok=True)\n",
    "    plt.savefig(f'{output}/stacked_{sector}_{recipe}_{disc}_{eta}_{rho}_xlim{xlim}_rff-{rff}_years{years}.png', \n",
    "                bbox_inches='tight', \n",
    "                dpi=300\n",
    "               )\n",
    "    \n",
    "    # plt.close()"
   ]
  },
  {
   "cell_type": "code",
   "execution_count": null,
   "id": "0b8b28ae-5f96-4de8-9314-c6857a7f215f",
   "metadata": {
    "tags": []
   },
   "outputs": [],
   "source": [
    "for sector in sectors:\n",
    "    for recipe in ['adding_up', 'risk_aversion']:\n",
    "        for disc in ['constant', 'euler_ramsey']:\n",
    "            for eta, rho in eta_rhos.items():\n",
    "                plot_stacked(sector, \n",
    "                             recipe=recipe,\n",
    "                             disc=disc,\n",
    "                             eta=eta, \n",
    "                             rho=rho, \n",
    "                             xlim=(0,8),\n",
    "                             years=[2020, 2050, 2075, 2100, 2200, 2300])"
   ]
  }
 ],
 "metadata": {
  "kernelspec": {
   "display_name": "Python 3 (ipykernel)",
   "language": "python",
   "name": "python3"
  },
  "language_info": {
   "codemirror_mode": {
    "name": "ipython",
    "version": 3
   },
   "file_extension": ".py",
   "mimetype": "text/x-python",
   "name": "python",
   "nbconvert_exporter": "python",
   "pygments_lexer": "ipython3",
   "version": "3.8.0"
  }
 },
 "nbformat": 4,
 "nbformat_minor": 5
}
