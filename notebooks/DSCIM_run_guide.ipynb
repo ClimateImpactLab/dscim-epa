{
 "cells": [
  {
   "cell_type": "markdown",
   "id": "47f5e5a7-add4-49e6-91ad-637055988d1e",
   "metadata": {
    "tags": []
   },
   "source": [
    "## Setup"
   ]
  },
  {
   "cell_type": "markdown",
   "id": "3a24d634-e25a-49bc-8680-9b09dba35257",
   "metadata": {},
   "source": [
    "### Installation (windows)\n"
   ]
  },
  {
   "cell_type": "markdown",
   "id": "4dcc2ad8-81da-41c6-8c26-35b61fe85091",
   "metadata": {},
   "source": [
    "1. Download Python (through conda provides useful features) https://developers.google.com/earth-engine/guides/python_install-conda `conda init bash`\n",
    "2. Download DSCIM locally somewhere `git clone https://github.com/ClimateImpactLab/dscim`\n",
    "3. \n",
    "```bash\n",
    "conda env create -f dscim-env.yml\n",
    "conda activate dscim\n",
    "```\n",
    "4. Install DSCIM:\n",
    "    - Download the dscim repository from github, extract and enter `pip install \"C://Path//to//dscim-main//dscim-main\"`\n",
    "    - `pip install --upgrade https://github.com/ClimateImpactLab/dscim`\n",
    "    - `pip install git+https://github.com/ClimateImpactLab/dscim` (this is what I did with git installed)\n"
   ]
  },
  {
   "cell_type": "code",
   "execution_count": null,
   "id": "7cefb3c9-8c3d-407c-a606-47e9bfc4d47b",
   "metadata": {},
   "outputs": [],
   "source": []
  }
 ],
 "metadata": {
  "kernelspec": {
   "display_name": "Python 3 (ipykernel)",
   "language": "python",
   "name": "python3"
  },
  "language_info": {
   "codemirror_mode": {
    "name": "ipython",
    "version": 3
   },
   "file_extension": ".py",
   "mimetype": "text/x-python",
   "name": "python",
   "nbconvert_exporter": "python",
   "pygments_lexer": "ipython3",
   "version": "3.8.0"
  }
 },
 "nbformat": 4,
 "nbformat_minor": 5
}
