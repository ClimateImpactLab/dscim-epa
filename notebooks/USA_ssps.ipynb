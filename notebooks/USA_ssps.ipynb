{
 "cells": [
  {
   "cell_type": "code",
   "execution_count": null,
   "metadata": {
    "tags": []
   },
   "outputs": [],
   "source": [
    "import os, gc, time\n",
    "username = os.getenv('USER')\n",
    "import numpy as np\n",
    "import pandas as pd\n",
    "import xarray as xr\n",
    "\n",
    "import dask\n",
    "dask.config.set(**{'array.slicing.split_large_chunks': False})\n",
    "\n",
    "from dscim import ProWaiter\n",
    "\n",
    "import seaborn as sns\n",
    "import matplotlib.pyplot as plt\n",
    "import matplotlib as mpl"
   ]
  },
  {
   "cell_type": "code",
   "execution_count": null,
   "metadata": {
    "tags": []
   },
   "outputs": [],
   "source": [
    "discount_types = [\"euler_ramsey\", \"constant\"]\n",
    "menu_options = [\"risk_aversion\", \"adding_up\", ]\n",
    "AR_list = [6]\n",
    "pulse_years = [2020]\n",
    "# pulse_years = range(2020, 2081, 10)\n",
    "weitzman_values = [x / 10.0 for x in range(1, 11, 1)] + [0.25, 0.01, 0.001, 0.0001] "
   ]
  },
  {
   "cell_type": "code",
   "execution_count": null,
   "metadata": {
    "tags": []
   },
   "outputs": [],
   "source": [
    "sectors =  [\"energy_USA\"] # \"mortality_USA\", \"agriculture_USA\", \"energy_USA\", \n",
    "eta_rhos = { \n",
    "    2.0 : 0.0,\n",
    "    1.016010255 : 9.149608e-05,\n",
    "    1.244459066 : 0.00197263997,\n",
    "    1.421158116 : 0.00461878399,\n",
    "    1.567899395 : 0.00770271076\n",
    "}\n",
    "\n",
    "combos = [(s, p, d, m, ar, eta) \n",
    "          for p in pulse_years\n",
    "          for s in sectors  \n",
    "          for d in discount_types \n",
    "          for m in menu_options\n",
    "          for ar in AR_list\n",
    "          for eta in eta_rhos.keys()]"
   ]
  },
  {
   "cell_type": "code",
   "execution_count": null,
   "metadata": {
    "tags": []
   },
   "outputs": [],
   "source": [
    "n_combos = len(combos)\n",
    "\n",
    "while n_combos > 0: \n",
    "    combo = combos[0]\n",
    "    print(\"=========================================================\")\n",
    "    print(combo)\n",
    "    sector = combo[0]\n",
    "    pulse_year = combo[1]\n",
    "    discount_type = combo[2]\n",
    "    menu_option = combo[3]\n",
    "    AR = combo[4]\n",
    "    eta = combo[5]\n",
    "    w = ProWaiter(path_to_config=f'/home/{username}/repos/integration/configs/USA_SCC_ssps.yaml')\n",
    "    \n",
    "    save_path= f'/mnt/CIL_integration/USA_SCC/{sector}/{pulse_year}/unmasked/'\n",
    "    \n",
    "    kwargs = {'discounting_type' : discount_type,\n",
    "              'sector': sector,\n",
    "              'ce_path' : f'/shares/gcp/integration/CE_library_epa_vsl_bc39/{sector}/',\n",
    "              'save_path' : save_path,\n",
    "              'weitzman_parameter' : weitzman_values,\n",
    "              'pulse_year' : pulse_year,\n",
    "              'eta': eta,\n",
    "              'rho': eta_rhos[eta]\n",
    "             }\n",
    "\n",
    "    if 'CAMEL' in sector:\n",
    "        kwargs.update({'damage_function_path' : f\"/mnt/CIL_integration/damage_function_library/damage_function_library_USA_SCC/{sector}\",\n",
    "                      })\n",
    "\n",
    "    menu_item = w.menu_factory(menu_key=menu_option,\n",
    "                                           sector=sector,\n",
    "                                           kwargs=kwargs\n",
    "                                          )\n",
    "    \n",
    "    menu_item.order_plate('damage_function')\n",
    "\n",
    "    combos.remove(combo)\n",
    "    n_combos = len(combos)\n",
    "    print(f\"remaining combos: {n_combos}\")\n",
    "\n"
   ]
  }
 ],
 "metadata": {
  "kernelspec": {
   "display_name": "Python 3 (ipykernel)",
   "language": "python",
   "name": "python3"
  },
  "language_info": {
   "codemirror_mode": {
    "name": "ipython",
    "version": 3
   },
   "file_extension": ".py",
   "mimetype": "text/x-python",
   "name": "python",
   "nbconvert_exporter": "python",
   "pygments_lexer": "ipython3",
   "version": "3.8.0"
  }
 },
 "nbformat": 4,
 "nbformat_minor": 4
}
