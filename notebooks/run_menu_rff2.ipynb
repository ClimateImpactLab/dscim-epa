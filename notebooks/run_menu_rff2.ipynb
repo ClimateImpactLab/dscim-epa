{
 "cells": [
  {
   "cell_type": "code",
   "execution_count": 2,
   "metadata": {
    "tags": []
   },
   "outputs": [],
   "source": [
    "import os, gc, time\n",
    "USER = os.getenv('USER')\n",
    "import numpy as np\n",
    "import pandas as pd\n",
    "import xarray as xr\n",
    "import dask\n",
    "\n",
    "dask.config.set(**{'array.slicing.split_large_chunks': False})\n",
    "\n",
    "from dscim import ProWaiter\n",
    "import itertools\n",
    "from functools import reduce\n",
    "from pathlib import Path"
   ]
  },
  {
   "cell_type": "code",
   "execution_count": 3,
   "metadata": {
    "tags": []
   },
   "outputs": [],
   "source": [
    "discount_types = [\"euler_ramsey\",\"constant\"]\n",
    "menu_options = [\"risk_aversion\", \"adding_up\"] \n",
    "# pulse_years=[2020]\n",
    "pulse_years = range(2020, 2081, 10)\n",
    "weitzman_values = [x / 10.0 for x in range(1, 11, 1)] + [0.25, 0.01, 0.001, 0.0001]\n",
    "eta_rhos = { \n",
    "    2.0:0.0,\n",
    "    1.016010255 : 9.149608e-05,\n",
    "    1.244459066 : 0.00197263997,\n",
    "    1.421158116 : 0.00461878399,\n",
    "    1.567899395 : 0.00770271076\n",
    "}\n",
    "\n",
    "# options\n",
    "factors=True\n",
    "marginal_damages=True\n",
    "global_cons=False\n",
    "\n",
    "# we're doing expost masking with rff_expost_masking.ipynb inside this same directory\n",
    "mask_list = [\n",
    "#     'climate',\n",
    "#     'gdppc',\n",
    "#     'emissions',\n",
    "#     'gdppc_emissions',\n",
    "#     'gdppc_emissions_climate',\n",
    "    'unmasked',\n",
    "    # 'gmst'\n",
    "\n",
    "]\n",
    "\n",
    "quantile_list = [\n",
    "    \"None\"\n",
    "#     [0.001, 0.999],\n",
    "#     [0.005, 0.995],\n",
    "    # [0.01, 0.99],\n",
    "    # [0.05, 0.95],\n",
    "    # [0,1],\n",
    "]\n",
    "\n",
    "sectors = ['mortality', 'mortality_vsl_popavg', 'mortality_vsl_ir']\n",
    "# sectors = ['CAMEL']\n",
    "\n",
    "combos = [(s, p, d, m, k, q, e) \n",
    "          for p in pulse_years\n",
    "          for s in sectors \n",
    "          for d in discount_types \n",
    "          for m in menu_options\n",
    "          for k in mask_list\n",
    "          for q in quantile_list\n",
    "          for e in eta_rhos\n",
    "         ]\n"
   ]
  },
  {
   "cell_type": "markdown",
   "metadata": {},
   "source": [
    "# run all"
   ]
  },
  {
   "cell_type": "code",
   "execution_count": 4,
   "metadata": {
    "tags": []
   },
   "outputs": [
    {
     "name": "stdout",
     "output_type": "stream",
     "text": [
      "=========================================================\n",
      "('mortality', 2020, 'euler_ramsey', 'equity', 'unmasked', 'None', 2.0)\n",
      "Skipped saving damage_function_coefficients.\n",
      "Subsetting on {} keys.\n",
      "Global consumption found up to 2300.\n",
      "Skipped saving global_consumption.\n",
      "Skipped saving damage_function_coefficients.\n",
      "Subsetting on {} keys.\n"
     ]
    },
    {
     "name": "stderr",
     "output_type": "stream",
     "text": [
      "/home/liruixue/repos/integration/dscim/menu/main_recipe.py:1174: FutureWarning: xarray.ufuncs is deprecated. Instead, use numpy ufuncs directly.\n",
      "  rhos = xr.ufuncs.expm1(xr.DataArray(self.rho, coords=[cons_pc.year]))\n",
      "/home/liruixue/miniconda3/envs/dscim/lib/python3.8/site-packages/xarray/core/dataarray.py:3061: FutureWarning: xarray.ufuncs is deprecated. Instead, use numpy ufuncs directly.\n",
      "  da = self.__array_wrap__(f(self.variable.data, *args, **kwargs))\n"
     ]
    },
    {
     "name": "stdout",
     "output_type": "stream",
     "text": [
      "done saving discount factor\n",
      "\n",
      " Executing \n",
      "        Running equity\n",
      "        sector: mortality\n",
      "        discounting: euler_ramsey\n",
      "        eta: 2.0\n",
      "        rho: 0.0\n",
      "        \n",
      "Processing damage functions ...\n",
      "Skipped saving damage_function_coefficients.\n",
      "Processing SCC calculation ...\n",
      "Saving /mnt/CIL_integration/rff2/mortality/2020/unmasked_None/equity_euler_ramsey_eta2.0_rho0.0_uncollapsed_sccs.nc4\n"
     ]
    },
    {
     "name": "stderr",
     "output_type": "stream",
     "text": [
      "/home/liruixue/repos/integration/dscim/menu/main_recipe.py:1174: FutureWarning: xarray.ufuncs is deprecated. Instead, use numpy ufuncs directly.\n",
      "  rhos = xr.ufuncs.expm1(xr.DataArray(self.rho, coords=[cons_pc.year]))\n",
      "/home/liruixue/miniconda3/envs/dscim/lib/python3.8/site-packages/xarray/core/dataarray.py:3061: FutureWarning: xarray.ufuncs is deprecated. Instead, use numpy ufuncs directly.\n",
      "  da = self.__array_wrap__(f(self.variable.data, *args, **kwargs))\n"
     ]
    },
    {
     "name": "stdout",
     "output_type": "stream",
     "text": [
      "Results available: /mnt/CIL_integration/rff2/mortality/2020/unmasked_None\n",
      "remaining combos: 629\n",
      "=========================================================\n",
      "('mortality', 2020, 'euler_ramsey', 'equity', 'unmasked', 'None', 1.016010255)\n",
      "Skipped saving damage_function_coefficients.\n",
      "Subsetting on {} keys.\n",
      "Global consumption found up to 2300.\n",
      "Skipped saving global_consumption.\n",
      "Skipped saving damage_function_coefficients.\n"
     ]
    },
    {
     "name": "stderr",
     "output_type": "stream",
     "text": [
      "/home/liruixue/miniconda3/envs/dscim/lib/python3.8/site-packages/dask/core.py:119: RuntimeWarning: overflow encountered in power\n",
      "  return func(*(_execute_task(a, cache) for a in args))\n"
     ]
    },
    {
     "name": "stdout",
     "output_type": "stream",
     "text": [
      "Subsetting on {} keys.\n"
     ]
    },
    {
     "name": "stderr",
     "output_type": "stream",
     "text": [
      "/home/liruixue/repos/integration/dscim/menu/main_recipe.py:1174: FutureWarning: xarray.ufuncs is deprecated. Instead, use numpy ufuncs directly.\n",
      "  rhos = xr.ufuncs.expm1(xr.DataArray(self.rho, coords=[cons_pc.year]))\n",
      "/home/liruixue/miniconda3/envs/dscim/lib/python3.8/site-packages/xarray/core/dataarray.py:3061: FutureWarning: xarray.ufuncs is deprecated. Instead, use numpy ufuncs directly.\n",
      "  da = self.__array_wrap__(f(self.variable.data, *args, **kwargs))\n"
     ]
    },
    {
     "name": "stdout",
     "output_type": "stream",
     "text": [
      "done saving discount factor\n",
      "\n",
      " Executing \n",
      "        Running equity\n",
      "        sector: mortality\n",
      "        discounting: euler_ramsey\n",
      "        eta: 1.016010255\n",
      "        rho: 9.149608e-05\n",
      "        \n",
      "Processing damage functions ...\n",
      "Skipped saving damage_function_coefficients.\n",
      "Processing SCC calculation ...\n"
     ]
    },
    {
     "name": "stderr",
     "output_type": "stream",
     "text": [
      "/home/liruixue/miniconda3/envs/dscim/lib/python3.8/site-packages/dask/core.py:119: RuntimeWarning: overflow encountered in power\n",
      "  return func(*(_execute_task(a, cache) for a in args))\n"
     ]
    },
    {
     "name": "stdout",
     "output_type": "stream",
     "text": [
      "Saving /mnt/CIL_integration/rff2/mortality/2020/unmasked_None/equity_euler_ramsey_eta1.016010255_rho9.149608e-05_uncollapsed_sccs.nc4\n"
     ]
    },
    {
     "name": "stderr",
     "output_type": "stream",
     "text": [
      "/home/liruixue/repos/integration/dscim/menu/main_recipe.py:1174: FutureWarning: xarray.ufuncs is deprecated. Instead, use numpy ufuncs directly.\n",
      "  rhos = xr.ufuncs.expm1(xr.DataArray(self.rho, coords=[cons_pc.year]))\n",
      "/home/liruixue/miniconda3/envs/dscim/lib/python3.8/site-packages/xarray/core/dataarray.py:3061: FutureWarning: xarray.ufuncs is deprecated. Instead, use numpy ufuncs directly.\n",
      "  da = self.__array_wrap__(f(self.variable.data, *args, **kwargs))\n",
      "/home/liruixue/miniconda3/envs/dscim/lib/python3.8/site-packages/dask/core.py:119: RuntimeWarning: overflow encountered in power\n",
      "  return func(*(_execute_task(a, cache) for a in args))\n"
     ]
    },
    {
     "name": "stdout",
     "output_type": "stream",
     "text": [
      "Results available: /mnt/CIL_integration/rff2/mortality/2020/unmasked_None\n",
      "remaining combos: 628\n",
      "=========================================================\n",
      "('mortality', 2020, 'euler_ramsey', 'equity', 'unmasked', 'None', 1.244459066)\n",
      "Skipped saving damage_function_coefficients.\n",
      "Subsetting on {} keys.\n",
      "Global consumption found up to 2300.\n",
      "Skipped saving global_consumption.\n",
      "Skipped saving damage_function_coefficients.\n",
      "Subsetting on {} keys.\n"
     ]
    },
    {
     "name": "stderr",
     "output_type": "stream",
     "text": [
      "/home/liruixue/repos/integration/dscim/menu/main_recipe.py:1174: FutureWarning: xarray.ufuncs is deprecated. Instead, use numpy ufuncs directly.\n",
      "  rhos = xr.ufuncs.expm1(xr.DataArray(self.rho, coords=[cons_pc.year]))\n",
      "/home/liruixue/miniconda3/envs/dscim/lib/python3.8/site-packages/xarray/core/dataarray.py:3061: FutureWarning: xarray.ufuncs is deprecated. Instead, use numpy ufuncs directly.\n",
      "  da = self.__array_wrap__(f(self.variable.data, *args, **kwargs))\n"
     ]
    },
    {
     "name": "stdout",
     "output_type": "stream",
     "text": [
      "done saving discount factor\n",
      "\n",
      " Executing \n",
      "        Running equity\n",
      "        sector: mortality\n",
      "        discounting: euler_ramsey\n",
      "        eta: 1.244459066\n",
      "        rho: 0.00197263997\n",
      "        \n",
      "Processing damage functions ...\n",
      "Skipped saving damage_function_coefficients.\n",
      "Processing SCC calculation ...\n",
      "Saving /mnt/CIL_integration/rff2/mortality/2020/unmasked_None/equity_euler_ramsey_eta1.244459066_rho0.00197263997_uncollapsed_sccs.nc4\n"
     ]
    },
    {
     "name": "stderr",
     "output_type": "stream",
     "text": [
      "/home/liruixue/repos/integration/dscim/menu/main_recipe.py:1174: FutureWarning: xarray.ufuncs is deprecated. Instead, use numpy ufuncs directly.\n",
      "  rhos = xr.ufuncs.expm1(xr.DataArray(self.rho, coords=[cons_pc.year]))\n",
      "/home/liruixue/miniconda3/envs/dscim/lib/python3.8/site-packages/xarray/core/dataarray.py:3061: FutureWarning: xarray.ufuncs is deprecated. Instead, use numpy ufuncs directly.\n",
      "  da = self.__array_wrap__(f(self.variable.data, *args, **kwargs))\n"
     ]
    },
    {
     "name": "stdout",
     "output_type": "stream",
     "text": [
      "Results available: /mnt/CIL_integration/rff2/mortality/2020/unmasked_None\n",
      "remaining combos: 627\n",
      "=========================================================\n",
      "('mortality', 2020, 'euler_ramsey', 'equity', 'unmasked', 'None', 1.421158116)\n",
      "Skipped saving damage_function_coefficients.\n",
      "Subsetting on {} keys.\n",
      "Global consumption found up to 2300.\n",
      "Skipped saving global_consumption.\n",
      "Skipped saving damage_function_coefficients.\n",
      "Subsetting on {} keys.\n"
     ]
    },
    {
     "name": "stderr",
     "output_type": "stream",
     "text": [
      "/home/liruixue/repos/integration/dscim/menu/main_recipe.py:1174: FutureWarning: xarray.ufuncs is deprecated. Instead, use numpy ufuncs directly.\n",
      "  rhos = xr.ufuncs.expm1(xr.DataArray(self.rho, coords=[cons_pc.year]))\n",
      "/home/liruixue/miniconda3/envs/dscim/lib/python3.8/site-packages/xarray/core/dataarray.py:3061: FutureWarning: xarray.ufuncs is deprecated. Instead, use numpy ufuncs directly.\n",
      "  da = self.__array_wrap__(f(self.variable.data, *args, **kwargs))\n"
     ]
    },
    {
     "name": "stdout",
     "output_type": "stream",
     "text": [
      "done saving discount factor\n",
      "\n",
      " Executing \n",
      "        Running equity\n",
      "        sector: mortality\n",
      "        discounting: euler_ramsey\n",
      "        eta: 1.421158116\n",
      "        rho: 0.00461878399\n",
      "        \n",
      "Processing damage functions ...\n",
      "Skipped saving damage_function_coefficients.\n",
      "Processing SCC calculation ...\n",
      "Saving /mnt/CIL_integration/rff2/mortality/2020/unmasked_None/equity_euler_ramsey_eta1.421158116_rho0.00461878399_uncollapsed_sccs.nc4\n"
     ]
    },
    {
     "name": "stderr",
     "output_type": "stream",
     "text": [
      "/home/liruixue/repos/integration/dscim/menu/main_recipe.py:1174: FutureWarning: xarray.ufuncs is deprecated. Instead, use numpy ufuncs directly.\n",
      "  rhos = xr.ufuncs.expm1(xr.DataArray(self.rho, coords=[cons_pc.year]))\n",
      "/home/liruixue/miniconda3/envs/dscim/lib/python3.8/site-packages/xarray/core/dataarray.py:3061: FutureWarning: xarray.ufuncs is deprecated. Instead, use numpy ufuncs directly.\n",
      "  da = self.__array_wrap__(f(self.variable.data, *args, **kwargs))\n"
     ]
    },
    {
     "name": "stdout",
     "output_type": "stream",
     "text": [
      "Results available: /mnt/CIL_integration/rff2/mortality/2020/unmasked_None\n",
      "remaining combos: 626\n",
      "=========================================================\n",
      "('mortality', 2020, 'euler_ramsey', 'equity', 'unmasked', 'None', 1.567899395)\n",
      "Skipped saving damage_function_coefficients.\n",
      "Subsetting on {} keys.\n",
      "Global consumption found up to 2300.\n",
      "Skipped saving global_consumption.\n",
      "Skipped saving damage_function_coefficients.\n",
      "Subsetting on {} keys.\n"
     ]
    },
    {
     "name": "stderr",
     "output_type": "stream",
     "text": [
      "/home/liruixue/repos/integration/dscim/menu/main_recipe.py:1174: FutureWarning: xarray.ufuncs is deprecated. Instead, use numpy ufuncs directly.\n",
      "  rhos = xr.ufuncs.expm1(xr.DataArray(self.rho, coords=[cons_pc.year]))\n",
      "/home/liruixue/miniconda3/envs/dscim/lib/python3.8/site-packages/xarray/core/dataarray.py:3061: FutureWarning: xarray.ufuncs is deprecated. Instead, use numpy ufuncs directly.\n",
      "  da = self.__array_wrap__(f(self.variable.data, *args, **kwargs))\n"
     ]
    },
    {
     "name": "stdout",
     "output_type": "stream",
     "text": [
      "done saving discount factor\n",
      "\n",
      " Executing \n",
      "        Running equity\n",
      "        sector: mortality\n",
      "        discounting: euler_ramsey\n",
      "        eta: 1.567899395\n",
      "        rho: 0.00770271076\n",
      "        \n",
      "Processing damage functions ...\n",
      "Skipped saving damage_function_coefficients.\n",
      "Processing SCC calculation ...\n",
      "Saving /mnt/CIL_integration/rff2/mortality/2020/unmasked_None/equity_euler_ramsey_eta1.567899395_rho0.00770271076_uncollapsed_sccs.nc4\n"
     ]
    },
    {
     "name": "stderr",
     "output_type": "stream",
     "text": [
      "/home/liruixue/repos/integration/dscim/menu/main_recipe.py:1174: FutureWarning: xarray.ufuncs is deprecated. Instead, use numpy ufuncs directly.\n",
      "  rhos = xr.ufuncs.expm1(xr.DataArray(self.rho, coords=[cons_pc.year]))\n",
      "/home/liruixue/miniconda3/envs/dscim/lib/python3.8/site-packages/xarray/core/dataarray.py:3061: FutureWarning: xarray.ufuncs is deprecated. Instead, use numpy ufuncs directly.\n",
      "  da = self.__array_wrap__(f(self.variable.data, *args, **kwargs))\n"
     ]
    },
    {
     "name": "stdout",
     "output_type": "stream",
     "text": [
      "Results available: /mnt/CIL_integration/rff2/mortality/2020/unmasked_None\n",
      "remaining combos: 625\n",
      "=========================================================\n",
      "('mortality', 2020, 'euler_ramsey', 'risk_aversion', 'unmasked', 'None', 2.0)\n",
      "Skipped saving damage_function_coefficients.\n",
      "Subsetting on {} keys.\n",
      "Global consumption found up to 2300.\n",
      "Skipped saving global_consumption.\n"
     ]
    },
    {
     "name": "stderr",
     "output_type": "stream",
     "text": [
      "ERROR:root:Internal Python error in the inspect module.\n",
      "Below is the traceback from this internal error.\n",
      "\n",
      "\n",
      "KeyboardInterrupt\n",
      "\n"
     ]
    }
   ],
   "source": [
    "n_combos = len(combos)\n",
    "\n",
    "while n_combos > 0: \n",
    "    combo = combos[0]\n",
    "    print(\"=========================================================\")\n",
    "    print(combo)\n",
    "    sector = combo[0]\n",
    "    pulse_year = combo[1]\n",
    "    discount_type = combo[2]\n",
    "    menu_option = combo[3]\n",
    "    mask = combo[4]\n",
    "    quantile = combo[5]\n",
    "    eta = combo[6]\n",
    "    rho = eta_rhos[eta]\n",
    "\n",
    "    if mask == 'unmasked':\n",
    "        mask_name = None\n",
    "        mask_path = None\n",
    "    elif mask == 'gmst':\n",
    "        mask_name =  f'q{quantile[0]}_q{quantile[1]}'\n",
    "        mask_path = None\n",
    "    else:\n",
    "        mask_name = f'q{quantile[0]}_q{quantile[1]}'\n",
    "        mask_path = f\"/shares/gcp/integration/rff/climate/masks/CO2_Fossil/{mask}_based_masks.nc4\"\n",
    "\n",
    "    save_path = f'/mnt/CIL_integration/rff2/{sector}/{pulse_year}/{mask}_{mask_name}'\n",
    "    \n",
    "    w = ProWaiter(path_to_config=f'/home/{USER}/repos/integration/configs/rff2_config_all_gases.yaml')\n",
    "    kwargs = {'discounting_type' : discount_type,\n",
    "              'sector': sector,\n",
    "              'damage_function_path' : f\"/mnt/CIL_integration/damage_function_library/damage_function_library_rff2/{sector}\",\n",
    "              'save_path' : save_path,\n",
    "              'save_files' : ['uncollapsed_sccs'],\n",
    "              'weitzman_parameter' : weitzman_values,\n",
    "              'pulse_year' : pulse_year,\n",
    "              'ecs_mask_path' :  mask_path,\n",
    "              'ecs_mask_name' :  mask_name,\n",
    "              'eta' : eta,\n",
    "              'rho' : rho,\n",
    "             }\n",
    "    \n",
    "    menu_item = w.menu_factory(menu_key=menu_option,\n",
    "                                           sector=sector,\n",
    "                                           kwargs=kwargs\n",
    "                                          )\n",
    "    # menu_item.order_plate('scc')\n",
    "    \n",
    "    if global_cons == True:\n",
    "        menu_item.global_consumption_no_pulse.to_netcdf(\n",
    "            f\"{save_path}/{menu_option}_{discount_type}_eta{menu_item.eta}_rho{menu_item.rho}_global_consumption_no_pulse.nc4\")\n",
    "        menu_item.global_consumption.to_netcdf(\n",
    "            f\"{save_path}/{menu_option}_{discount_type}_eta{menu_item.eta}_rho{menu_item.rho}_global_consumption.nc4\")\n",
    "\n",
    "\n",
    "    if marginal_damages==True:\n",
    "        md = (\n",
    "            (menu_item.global_consumption_no_pulse - menu_item.global_consumption_pulse) \n",
    "            * menu_item.climate.conversion\n",
    "        ).rename('marginal_damages').to_dataset()\n",
    "        \n",
    "        for var in md.variables:\n",
    "            md[var].encoding.clear()\n",
    "            \n",
    "        md.chunk(\n",
    "        {\"discount_type\":1,\n",
    "         \"weitzman_parameter\":14,\n",
    "         \"runid\":10000,\n",
    "         \"gas\":1,\n",
    "         \"year\":10}\n",
    "        ).to_zarr(\n",
    "            f'{save_path}/{menu_option}_{discount_type}_eta{menu_item.eta}_rho{menu_item.rho}_uncollapsed_marginal_damages.zarr',\n",
    "            consolidated = True,\n",
    "            mode = \"w\"\n",
    "        )\n",
    "    if factors == True:\n",
    "        \n",
    "        f = menu_item.calculate_discount_factors(\n",
    "            menu_item.global_consumption_no_pulse / menu_item.pop\n",
    "        ).to_dataset(name = \"discount_factor\")\n",
    "        \n",
    "        for var in f.variables:\n",
    "            f[var].encoding.clear()\n",
    "        \n",
    "        f.chunk(\n",
    "        {\"discount_type\":1,\n",
    "         \"weitzman_parameter\":14,\n",
    "         \"runid\":10000,\n",
    "         \"gas\":1,\n",
    "         \"region\":1,\n",
    "         \"year\":10}\n",
    "        ).to_zarr(\n",
    "            f'{save_path}/{menu_option}_{discount_type}_eta{menu_item.eta}_rho{menu_item.rho}_uncollapsed_discount_factors.zarr',\n",
    "            consolidated = True,\n",
    "            mode = \"w\"\n",
    "        )\n",
    "        print(\"done saving discount factor\")\n",
    "    \n",
    "    menu_item.order_plate('scc')\n",
    "    combos.remove(combo)\n",
    "    n_combos = len(combos)\n",
    "    print(f\"remaining combos: {n_combos}\")"
   ]
  },
  {
   "cell_type": "code",
   "execution_count": null,
   "metadata": {},
   "outputs": [],
   "source": []
  }
 ],
 "metadata": {
  "kernelspec": {
   "display_name": "Python 3 (ipykernel)",
   "language": "python",
   "name": "python3"
  },
  "language_info": {
   "codemirror_mode": {
    "name": "ipython",
    "version": 3
   },
   "file_extension": ".py",
   "mimetype": "text/x-python",
   "name": "python",
   "nbconvert_exporter": "python",
   "pygments_lexer": "ipython3",
   "version": "3.8.0"
  }
 },
 "nbformat": 4,
 "nbformat_minor": 4
}
