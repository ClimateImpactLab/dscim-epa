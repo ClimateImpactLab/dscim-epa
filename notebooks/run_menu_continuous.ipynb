{
 "cells": [
  {
   "cell_type": "code",
   "execution_count": 1,
   "metadata": {
    "tags": []
   },
   "outputs": [],
   "source": [
    "import os, gc, time\n",
    "username = os.getenv('USER')\n",
    "import numpy as np\n",
    "import pandas as pd\n",
    "import xarray as xr\n",
    "\n",
    "import dask\n",
    "dask.config.set(**{'array.slicing.split_large_chunks': False})\n",
    "\n",
    "from dscim import ProWaiter\n",
    "\n",
    "import seaborn as sns\n",
    "import matplotlib.pyplot as plt\n",
    "import matplotlib as mpl\n",
    "import dscim"
   ]
  },
  {
   "cell_type": "code",
   "execution_count": 2,
   "metadata": {
    "tags": []
   },
   "outputs": [],
   "source": [
    "discount_types = [\"euler_ramsey\", \"constant\"]\n",
    "menu_options = [\"adding_up\", \"risk_aversion\"]\n",
    "pulse_years = [2020]\n",
    "# pulse_years = range(2020, 2081, 10)\n",
    "weitzman_values = [x / 10.0 for x in range(1, 11, 1)] + [0.25, 0.01, 0.001, 0.0001]"
   ]
  },
  {
   "cell_type": "code",
   "execution_count": 5,
   "metadata": {
    "tags": []
   },
   "outputs": [],
   "source": [
    "sectors = [\"mortality_vsl_popavg\"] #, \"mortality_vsl_ir\"]\n",
    "# sectors = [\"CAMEL\", \"agriculture\", \"mortality\", \"energy\", \"labor\"]\n",
    "AR_list = [5]\n",
    "eta_rhos = { \n",
    "    2.0:0.0,\n",
    "    1.016010255 : 9.149608e-05,\n",
    "    1.244459066 : 0.00197263997,\n",
    "    1.421158116 : 0.00461878399,\n",
    "    1.567899395 : 0.00770271076\n",
    "}\n",
    "combos = [(s, p, d, m, ar, eta) \n",
    "          for p in pulse_years\n",
    "          for s in sectors  \n",
    "          for d in discount_types \n",
    "          for m in menu_options\n",
    "          for ar in AR_list\n",
    "          for eta in eta_rhos.keys()]"
   ]
  },
  {
   "cell_type": "code",
   "execution_count": 6,
   "metadata": {
    "tags": []
   },
   "outputs": [
    {
     "name": "stdout",
     "output_type": "stream",
     "text": [
      "=========================================================\n",
      "('mortality_vsl_popavg', 2020, 'euler_ramsey', 'adding_up', 5, 2.0)\n",
      "\n",
      " Executing \n",
      "        Running adding_up\n",
      "        sector: mortality_vsl_popavg\n",
      "        discounting: euler_ramsey\n",
      "        eta: 2.0\n",
      "        rho: 0.0\n",
      "        \n",
      "Processing damage functions ...\n",
      "Existing damage functions not found. Damage points will be loaded.\n",
      "Adding up aggregated damages found at /shares/gcp/integration/CE_library_epa_vsl_bc39/mortality_vsl_popavg//adding_up_ce_cc_eta2.0.zarr, /shares/gcp/integration/CE_library_epa_vsl_bc39/mortality_vsl_popavg//adding_up_ce_no_cc_eta2.0.zarr. These are being loaded...\n",
      "Subsetting on {'ssp': ['SSP2', 'SSP3', 'SSP4']} keys.\n",
      "Subsetting on {'ssp': ['SSP2', 'SSP3', 'SSP4']} keys.\n",
      "Saving /mnt/CIL_integration/menu_results_AR5_epa/mortality_vsl_popavg/2020/unmasked/adding_up_euler_ramsey_eta2.0_rho0.0_damage_function_points.csv\n",
      "Subsetting on {'ssp': ['SSP2', 'SSP3', 'SSP4']} keys.\n",
      "Extrapolating global consumption.\n",
      "End-of-century growth rates are not capped.\n",
      "Skipped saving global_consumption.\n",
      "Saving /mnt/CIL_integration/menu_results_AR5_epa/mortality_vsl_popavg/2020/unmasked/adding_up_euler_ramsey_eta2.0_rho0.0_damage_function_coefficients.nc4\n",
      "Saving /mnt/CIL_integration/menu_results_AR5_epa/mortality_vsl_popavg/2020/unmasked/adding_up_euler_ramsey_eta2.0_rho0.0_damage_function_fit.nc4\n",
      "Processing SCC calculation ...\n",
      "Saving /mnt/CIL_integration/menu_results_AR5_epa/mortality_vsl_popavg/2020/unmasked/adding_up_euler_ramsey_eta2.0_rho0.0_damage_function_coefficients.nc4\n",
      "Skipped saving ce_fair_no_pulse.\n",
      "Saving /mnt/CIL_integration/menu_results_AR5_epa/mortality_vsl_popavg/2020/unmasked/adding_up_euler_ramsey_eta2.0_rho0.0_damage_function_coefficients.nc4\n"
     ]
    },
    {
     "name": "stderr",
     "output_type": "stream",
     "text": [
      "/home/liruixue/repos/integration/dscim/menu/main_recipe.py:1174: FutureWarning: xarray.ufuncs is deprecated. Instead, use numpy ufuncs directly.\n",
      "  rhos = xr.ufuncs.expm1(xr.DataArray(self.rho, coords=[cons_pc.year]))\n",
      "/home/liruixue/miniconda3/envs/dscim/lib/python3.8/site-packages/xarray/core/dataarray.py:3061: FutureWarning: xarray.ufuncs is deprecated. Instead, use numpy ufuncs directly.\n",
      "  da = self.__array_wrap__(f(self.variable.data, *args, **kwargs))\n",
      "/home/liruixue/repos/integration/dscim/menu/main_recipe.py:1174: FutureWarning: xarray.ufuncs is deprecated. Instead, use numpy ufuncs directly.\n",
      "  rhos = xr.ufuncs.expm1(xr.DataArray(self.rho, coords=[cons_pc.year]))\n",
      "/home/liruixue/miniconda3/envs/dscim/lib/python3.8/site-packages/xarray/core/dataarray.py:3061: FutureWarning: xarray.ufuncs is deprecated. Instead, use numpy ufuncs directly.\n",
      "  da = self.__array_wrap__(f(self.variable.data, *args, **kwargs))\n",
      "/home/liruixue/repos/integration/dscim/menu/main_recipe.py:1174: FutureWarning: xarray.ufuncs is deprecated. Instead, use numpy ufuncs directly.\n",
      "  rhos = xr.ufuncs.expm1(xr.DataArray(self.rho, coords=[cons_pc.year]))\n",
      "/home/liruixue/miniconda3/envs/dscim/lib/python3.8/site-packages/xarray/core/dataarray.py:3061: FutureWarning: xarray.ufuncs is deprecated. Instead, use numpy ufuncs directly.\n",
      "  da = self.__array_wrap__(f(self.variable.data, *args, **kwargs))\n"
     ]
    },
    {
     "name": "stdout",
     "output_type": "stream",
     "text": [
      "Saving /mnt/CIL_integration/menu_results_AR5_epa/mortality_vsl_popavg/2020/unmasked/adding_up_euler_ramsey_eta2.0_rho0.0_discount_factors.nc4\n"
     ]
    },
    {
     "name": "stderr",
     "output_type": "stream",
     "text": [
      "/home/liruixue/repos/integration/dscim/menu/main_recipe.py:1174: FutureWarning: xarray.ufuncs is deprecated. Instead, use numpy ufuncs directly.\n",
      "  rhos = xr.ufuncs.expm1(xr.DataArray(self.rho, coords=[cons_pc.year]))\n",
      "/home/liruixue/miniconda3/envs/dscim/lib/python3.8/site-packages/xarray/core/dataarray.py:3061: FutureWarning: xarray.ufuncs is deprecated. Instead, use numpy ufuncs directly.\n",
      "  da = self.__array_wrap__(f(self.variable.data, *args, **kwargs))\n"
     ]
    },
    {
     "name": "stdout",
     "output_type": "stream",
     "text": [
      "Skipped saving ce_fair_no_pulse.\n",
      "Saving /mnt/CIL_integration/menu_results_AR5_epa/mortality_vsl_popavg/2020/unmasked/adding_up_euler_ramsey_eta2.0_rho0.0_damage_function_coefficients.nc4\n",
      "Skipped saving ce_fair_pulse.\n",
      "Saving /mnt/CIL_integration/menu_results_AR5_epa/mortality_vsl_popavg/2020/unmasked/adding_up_euler_ramsey_eta2.0_rho0.0_damage_function_coefficients.nc4\n",
      "Saving /mnt/CIL_integration/menu_results_AR5_epa/mortality_vsl_popavg/2020/unmasked/adding_up_euler_ramsey_eta2.0_rho0.0_damage_function_coefficients.nc4\n",
      "Saving /mnt/CIL_integration/menu_results_AR5_epa/mortality_vsl_popavg/2020/unmasked/adding_up_euler_ramsey_eta2.0_rho0.0_marginal_damages.nc4\n",
      "Skipped saving ce_fair_no_pulse.\n",
      "Saving /mnt/CIL_integration/menu_results_AR5_epa/mortality_vsl_popavg/2020/unmasked/adding_up_euler_ramsey_eta2.0_rho0.0_damage_function_coefficients.nc4\n"
     ]
    },
    {
     "name": "stderr",
     "output_type": "stream",
     "text": [
      "/home/liruixue/repos/integration/dscim/menu/main_recipe.py:1174: FutureWarning: xarray.ufuncs is deprecated. Instead, use numpy ufuncs directly.\n",
      "  rhos = xr.ufuncs.expm1(xr.DataArray(self.rho, coords=[cons_pc.year]))\n",
      "/home/liruixue/miniconda3/envs/dscim/lib/python3.8/site-packages/xarray/core/dataarray.py:3061: FutureWarning: xarray.ufuncs is deprecated. Instead, use numpy ufuncs directly.\n",
      "  da = self.__array_wrap__(f(self.variable.data, *args, **kwargs))\n",
      "/home/liruixue/repos/integration/dscim/menu/main_recipe.py:1174: FutureWarning: xarray.ufuncs is deprecated. Instead, use numpy ufuncs directly.\n",
      "  rhos = xr.ufuncs.expm1(xr.DataArray(self.rho, coords=[cons_pc.year]))\n",
      "/home/liruixue/miniconda3/envs/dscim/lib/python3.8/site-packages/xarray/core/dataarray.py:3061: FutureWarning: xarray.ufuncs is deprecated. Instead, use numpy ufuncs directly.\n",
      "  da = self.__array_wrap__(f(self.variable.data, *args, **kwargs))\n",
      "/home/liruixue/repos/integration/dscim/menu/main_recipe.py:1174: FutureWarning: xarray.ufuncs is deprecated. Instead, use numpy ufuncs directly.\n",
      "  rhos = xr.ufuncs.expm1(xr.DataArray(self.rho, coords=[cons_pc.year]))\n",
      "/home/liruixue/miniconda3/envs/dscim/lib/python3.8/site-packages/xarray/core/dataarray.py:3061: FutureWarning: xarray.ufuncs is deprecated. Instead, use numpy ufuncs directly.\n",
      "  da = self.__array_wrap__(f(self.variable.data, *args, **kwargs))\n",
      "/home/liruixue/repos/integration/dscim/menu/main_recipe.py:1174: FutureWarning: xarray.ufuncs is deprecated. Instead, use numpy ufuncs directly.\n",
      "  rhos = xr.ufuncs.expm1(xr.DataArray(self.rho, coords=[cons_pc.year]))\n",
      "/home/liruixue/miniconda3/envs/dscim/lib/python3.8/site-packages/xarray/core/dataarray.py:3061: FutureWarning: xarray.ufuncs is deprecated. Instead, use numpy ufuncs directly.\n",
      "  da = self.__array_wrap__(f(self.variable.data, *args, **kwargs))\n",
      "/home/liruixue/repos/integration/dscim/menu/main_recipe.py:1174: FutureWarning: xarray.ufuncs is deprecated. Instead, use numpy ufuncs directly.\n",
      "  rhos = xr.ufuncs.expm1(xr.DataArray(self.rho, coords=[cons_pc.year]))\n",
      "/home/liruixue/miniconda3/envs/dscim/lib/python3.8/site-packages/xarray/core/dataarray.py:3061: FutureWarning: xarray.ufuncs is deprecated. Instead, use numpy ufuncs directly.\n",
      "  da = self.__array_wrap__(f(self.variable.data, *args, **kwargs))\n"
     ]
    },
    {
     "name": "stdout",
     "output_type": "stream",
     "text": [
      "Saving /mnt/CIL_integration/menu_results_AR5_epa/mortality_vsl_popavg/2020/unmasked/adding_up_euler_ramsey_eta2.0_rho0.0_uncollapsed_sccs.nc4\n",
      "Saving /mnt/CIL_integration/menu_results_AR5_epa/mortality_vsl_popavg/2020/unmasked/adding_up_euler_ramsey_eta2.0_rho0.0_scc.nc4\n",
      "Results available: /mnt/CIL_integration/menu_results_AR5_epa/mortality_vsl_popavg/2020/unmasked/\n",
      "remaining combos: 19\n",
      "=========================================================\n",
      "('mortality_vsl_popavg', 2020, 'euler_ramsey', 'adding_up', 5, 1.016010255)\n",
      "\n",
      " Executing \n",
      "        Running adding_up\n",
      "        sector: mortality_vsl_popavg\n",
      "        discounting: euler_ramsey\n",
      "        eta: 1.016010255\n",
      "        rho: 9.149608e-05\n",
      "        \n",
      "Processing damage functions ...\n",
      "Existing damage functions not found. Damage points will be loaded.\n",
      "Adding up aggregated damages found at /shares/gcp/integration/CE_library_epa_vsl_bc39/mortality_vsl_popavg//adding_up_ce_cc_eta1.016010255.zarr, /shares/gcp/integration/CE_library_epa_vsl_bc39/mortality_vsl_popavg//adding_up_ce_no_cc_eta1.016010255.zarr. These are being loaded...\n",
      "Subsetting on {'ssp': ['SSP2', 'SSP3', 'SSP4']} keys.\n",
      "Subsetting on {'ssp': ['SSP2', 'SSP3', 'SSP4']} keys.\n",
      "Saving /mnt/CIL_integration/menu_results_AR5_epa/mortality_vsl_popavg/2020/unmasked/adding_up_euler_ramsey_eta1.016010255_rho9.149608e-05_damage_function_points.csv\n",
      "Subsetting on {'ssp': ['SSP2', 'SSP3', 'SSP4']} keys.\n",
      "Extrapolating global consumption.\n",
      "End-of-century growth rates are not capped.\n",
      "Skipped saving global_consumption.\n",
      "Saving /mnt/CIL_integration/menu_results_AR5_epa/mortality_vsl_popavg/2020/unmasked/adding_up_euler_ramsey_eta1.016010255_rho9.149608e-05_damage_function_coefficients.nc4\n",
      "Saving /mnt/CIL_integration/menu_results_AR5_epa/mortality_vsl_popavg/2020/unmasked/adding_up_euler_ramsey_eta1.016010255_rho9.149608e-05_damage_function_fit.nc4\n",
      "Processing SCC calculation ...\n",
      "Saving /mnt/CIL_integration/menu_results_AR5_epa/mortality_vsl_popavg/2020/unmasked/adding_up_euler_ramsey_eta1.016010255_rho9.149608e-05_damage_function_coefficients.nc4\n",
      "Skipped saving ce_fair_no_pulse.\n",
      "Saving /mnt/CIL_integration/menu_results_AR5_epa/mortality_vsl_popavg/2020/unmasked/adding_up_euler_ramsey_eta1.016010255_rho9.149608e-05_damage_function_coefficients.nc4\n"
     ]
    },
    {
     "name": "stderr",
     "output_type": "stream",
     "text": [
      "/home/liruixue/repos/integration/dscim/menu/main_recipe.py:1174: FutureWarning: xarray.ufuncs is deprecated. Instead, use numpy ufuncs directly.\n",
      "  rhos = xr.ufuncs.expm1(xr.DataArray(self.rho, coords=[cons_pc.year]))\n",
      "/home/liruixue/miniconda3/envs/dscim/lib/python3.8/site-packages/xarray/core/dataarray.py:3061: FutureWarning: xarray.ufuncs is deprecated. Instead, use numpy ufuncs directly.\n",
      "  da = self.__array_wrap__(f(self.variable.data, *args, **kwargs))\n",
      "/home/liruixue/repos/integration/dscim/menu/main_recipe.py:1174: FutureWarning: xarray.ufuncs is deprecated. Instead, use numpy ufuncs directly.\n",
      "  rhos = xr.ufuncs.expm1(xr.DataArray(self.rho, coords=[cons_pc.year]))\n",
      "/home/liruixue/miniconda3/envs/dscim/lib/python3.8/site-packages/xarray/core/dataarray.py:3061: FutureWarning: xarray.ufuncs is deprecated. Instead, use numpy ufuncs directly.\n",
      "  da = self.__array_wrap__(f(self.variable.data, *args, **kwargs))\n",
      "/home/liruixue/repos/integration/dscim/menu/main_recipe.py:1174: FutureWarning: xarray.ufuncs is deprecated. Instead, use numpy ufuncs directly.\n",
      "  rhos = xr.ufuncs.expm1(xr.DataArray(self.rho, coords=[cons_pc.year]))\n",
      "/home/liruixue/miniconda3/envs/dscim/lib/python3.8/site-packages/xarray/core/dataarray.py:3061: FutureWarning: xarray.ufuncs is deprecated. Instead, use numpy ufuncs directly.\n",
      "  da = self.__array_wrap__(f(self.variable.data, *args, **kwargs))\n"
     ]
    },
    {
     "name": "stdout",
     "output_type": "stream",
     "text": [
      "Saving /mnt/CIL_integration/menu_results_AR5_epa/mortality_vsl_popavg/2020/unmasked/adding_up_euler_ramsey_eta1.016010255_rho9.149608e-05_discount_factors.nc4\n"
     ]
    },
    {
     "name": "stderr",
     "output_type": "stream",
     "text": [
      "/home/liruixue/repos/integration/dscim/menu/main_recipe.py:1174: FutureWarning: xarray.ufuncs is deprecated. Instead, use numpy ufuncs directly.\n",
      "  rhos = xr.ufuncs.expm1(xr.DataArray(self.rho, coords=[cons_pc.year]))\n",
      "/home/liruixue/miniconda3/envs/dscim/lib/python3.8/site-packages/xarray/core/dataarray.py:3061: FutureWarning: xarray.ufuncs is deprecated. Instead, use numpy ufuncs directly.\n",
      "  da = self.__array_wrap__(f(self.variable.data, *args, **kwargs))\n",
      "/home/liruixue/miniconda3/envs/dscim/lib/python3.8/site-packages/dask/core.py:119: RuntimeWarning: overflow encountered in power\n",
      "  return func(*(_execute_task(a, cache) for a in args))\n",
      "/home/liruixue/miniconda3/envs/dscim/lib/python3.8/site-packages/dask/core.py:119: RuntimeWarning: overflow encountered in power\n",
      "  return func(*(_execute_task(a, cache) for a in args))\n"
     ]
    },
    {
     "name": "stdout",
     "output_type": "stream",
     "text": [
      "Skipped saving ce_fair_no_pulse.\n",
      "Saving /mnt/CIL_integration/menu_results_AR5_epa/mortality_vsl_popavg/2020/unmasked/adding_up_euler_ramsey_eta1.016010255_rho9.149608e-05_damage_function_coefficients.nc4\n",
      "Skipped saving ce_fair_pulse.\n",
      "Saving /mnt/CIL_integration/menu_results_AR5_epa/mortality_vsl_popavg/2020/unmasked/adding_up_euler_ramsey_eta1.016010255_rho9.149608e-05_damage_function_coefficients.nc4\n",
      "Saving /mnt/CIL_integration/menu_results_AR5_epa/mortality_vsl_popavg/2020/unmasked/adding_up_euler_ramsey_eta1.016010255_rho9.149608e-05_damage_function_coefficients.nc4\n",
      "Saving /mnt/CIL_integration/menu_results_AR5_epa/mortality_vsl_popavg/2020/unmasked/adding_up_euler_ramsey_eta1.016010255_rho9.149608e-05_marginal_damages.nc4\n"
     ]
    },
    {
     "name": "stderr",
     "output_type": "stream",
     "text": [
      "/home/liruixue/miniconda3/envs/dscim/lib/python3.8/site-packages/dask/core.py:119: RuntimeWarning: overflow encountered in power\n",
      "  return func(*(_execute_task(a, cache) for a in args))\n",
      "/home/liruixue/miniconda3/envs/dscim/lib/python3.8/site-packages/dask/core.py:119: RuntimeWarning: overflow encountered in power\n",
      "  return func(*(_execute_task(a, cache) for a in args))\n",
      "/home/liruixue/miniconda3/envs/dscim/lib/python3.8/site-packages/dask/core.py:119: RuntimeWarning: overflow encountered in power\n",
      "  return func(*(_execute_task(a, cache) for a in args))\n",
      "/home/liruixue/miniconda3/envs/dscim/lib/python3.8/site-packages/dask/core.py:119: RuntimeWarning: overflow encountered in power\n",
      "  return func(*(_execute_task(a, cache) for a in args))\n",
      "/home/liruixue/miniconda3/envs/dscim/lib/python3.8/site-packages/dask/core.py:119: RuntimeWarning: overflow encountered in power\n",
      "  return func(*(_execute_task(a, cache) for a in args))\n",
      "/home/liruixue/miniconda3/envs/dscim/lib/python3.8/site-packages/dask/core.py:119: RuntimeWarning: overflow encountered in power\n",
      "  return func(*(_execute_task(a, cache) for a in args))\n",
      "/home/liruixue/miniconda3/envs/dscim/lib/python3.8/site-packages/dask/core.py:119: RuntimeWarning: overflow encountered in power\n",
      "  return func(*(_execute_task(a, cache) for a in args))\n",
      "/home/liruixue/miniconda3/envs/dscim/lib/python3.8/site-packages/dask/core.py:119: RuntimeWarning: overflow encountered in power\n",
      "  return func(*(_execute_task(a, cache) for a in args))\n",
      "/home/liruixue/miniconda3/envs/dscim/lib/python3.8/site-packages/dask/core.py:119: RuntimeWarning: overflow encountered in power\n",
      "  return func(*(_execute_task(a, cache) for a in args))\n",
      "/home/liruixue/miniconda3/envs/dscim/lib/python3.8/site-packages/dask/core.py:119: RuntimeWarning: overflow encountered in power\n",
      "  return func(*(_execute_task(a, cache) for a in args))\n",
      "/home/liruixue/miniconda3/envs/dscim/lib/python3.8/site-packages/dask/core.py:119: RuntimeWarning: overflow encountered in power\n",
      "  return func(*(_execute_task(a, cache) for a in args))\n",
      "/home/liruixue/miniconda3/envs/dscim/lib/python3.8/site-packages/dask/core.py:119: RuntimeWarning: overflow encountered in power\n",
      "  return func(*(_execute_task(a, cache) for a in args))\n",
      "/home/liruixue/miniconda3/envs/dscim/lib/python3.8/site-packages/dask/core.py:119: RuntimeWarning: overflow encountered in power\n",
      "  return func(*(_execute_task(a, cache) for a in args))\n",
      "/home/liruixue/miniconda3/envs/dscim/lib/python3.8/site-packages/dask/core.py:119: RuntimeWarning: overflow encountered in power\n",
      "  return func(*(_execute_task(a, cache) for a in args))\n",
      "/home/liruixue/miniconda3/envs/dscim/lib/python3.8/site-packages/dask/core.py:119: RuntimeWarning: overflow encountered in power\n",
      "  return func(*(_execute_task(a, cache) for a in args))\n",
      "/home/liruixue/miniconda3/envs/dscim/lib/python3.8/site-packages/dask/core.py:119: RuntimeWarning: overflow encountered in power\n",
      "  return func(*(_execute_task(a, cache) for a in args))\n",
      "/home/liruixue/miniconda3/envs/dscim/lib/python3.8/site-packages/dask/core.py:119: RuntimeWarning: overflow encountered in power\n",
      "  return func(*(_execute_task(a, cache) for a in args))\n",
      "/home/liruixue/miniconda3/envs/dscim/lib/python3.8/site-packages/dask/core.py:119: RuntimeWarning: overflow encountered in power\n",
      "  return func(*(_execute_task(a, cache) for a in args))\n",
      "/home/liruixue/miniconda3/envs/dscim/lib/python3.8/site-packages/dask/core.py:119: RuntimeWarning: overflow encountered in power\n",
      "  return func(*(_execute_task(a, cache) for a in args))\n",
      "/home/liruixue/miniconda3/envs/dscim/lib/python3.8/site-packages/dask/core.py:119: RuntimeWarning: overflow encountered in power\n",
      "  return func(*(_execute_task(a, cache) for a in args))\n",
      "/home/liruixue/miniconda3/envs/dscim/lib/python3.8/site-packages/dask/core.py:119: RuntimeWarning: overflow encountered in power\n",
      "  return func(*(_execute_task(a, cache) for a in args))\n",
      "/home/liruixue/miniconda3/envs/dscim/lib/python3.8/site-packages/dask/core.py:119: RuntimeWarning: overflow encountered in power\n",
      "  return func(*(_execute_task(a, cache) for a in args))\n",
      "/home/liruixue/miniconda3/envs/dscim/lib/python3.8/site-packages/dask/core.py:119: RuntimeWarning: overflow encountered in power\n",
      "  return func(*(_execute_task(a, cache) for a in args))\n",
      "/home/liruixue/miniconda3/envs/dscim/lib/python3.8/site-packages/dask/core.py:119: RuntimeWarning: overflow encountered in power\n",
      "  return func(*(_execute_task(a, cache) for a in args))\n"
     ]
    },
    {
     "ename": "KeyboardInterrupt",
     "evalue": "",
     "output_type": "error",
     "traceback": [
      "\u001b[0;31m---------------------------------------------------------------------------\u001b[0m",
      "\u001b[0;31mKeyboardInterrupt\u001b[0m                         Traceback (most recent call last)",
      "\u001b[0;32m/tmp/ipykernel_299231/40617060.py\u001b[0m in \u001b[0;36m<module>\u001b[0;34m\u001b[0m\n\u001b[1;32m     37\u001b[0m                                           )\n\u001b[1;32m     38\u001b[0m \u001b[0;34m\u001b[0m\u001b[0m\n\u001b[0;32m---> 39\u001b[0;31m     \u001b[0mmenu_item\u001b[0m\u001b[0;34m.\u001b[0m\u001b[0morder_plate\u001b[0m\u001b[0;34m(\u001b[0m\u001b[0;34m'scc'\u001b[0m\u001b[0;34m)\u001b[0m\u001b[0;34m\u001b[0m\u001b[0;34m\u001b[0m\u001b[0m\n\u001b[0m\u001b[1;32m     40\u001b[0m \u001b[0;34m\u001b[0m\u001b[0m\n\u001b[1;32m     41\u001b[0m     \u001b[0mcombos\u001b[0m\u001b[0;34m.\u001b[0m\u001b[0mremove\u001b[0m\u001b[0;34m(\u001b[0m\u001b[0mcombo\u001b[0m\u001b[0;34m)\u001b[0m\u001b[0;34m\u001b[0m\u001b[0;34m\u001b[0m\u001b[0m\n",
      "\u001b[0;32m~/repos/integration/dscim/menu/main_recipe.py\u001b[0m in \u001b[0;36morder_plate\u001b[0;34m(self, course)\u001b[0m\n\u001b[1;32m    296\u001b[0m \u001b[0;34m\u001b[0m\u001b[0m\n\u001b[1;32m    297\u001b[0m         \u001b[0;32mtry\u001b[0m\u001b[0;34m:\u001b[0m\u001b[0;34m\u001b[0m\u001b[0;34m\u001b[0m\u001b[0m\n\u001b[0;32m--> 298\u001b[0;31m             \u001b[0mcourse_dict\u001b[0m\u001b[0;34m[\u001b[0m\u001b[0mcourse\u001b[0m\u001b[0;34m]\u001b[0m\u001b[0;34m(\u001b[0m\u001b[0;34m)\u001b[0m\u001b[0;34m\u001b[0m\u001b[0;34m\u001b[0m\u001b[0m\n\u001b[0m\u001b[1;32m    299\u001b[0m             \u001b[0mself\u001b[0m\u001b[0;34m.\u001b[0m\u001b[0mlogger\u001b[0m\u001b[0;34m.\u001b[0m\u001b[0minfo\u001b[0m\u001b[0;34m(\u001b[0m\u001b[0;34mf\"Results available: {self.save_path}\"\u001b[0m\u001b[0;34m)\u001b[0m\u001b[0;34m\u001b[0m\u001b[0;34m\u001b[0m\u001b[0m\n\u001b[1;32m    300\u001b[0m         \u001b[0;32mexcept\u001b[0m \u001b[0mKeyError\u001b[0m \u001b[0;32mas\u001b[0m \u001b[0me\u001b[0m\u001b[0;34m:\u001b[0m\u001b[0;34m\u001b[0m\u001b[0;34m\u001b[0m\u001b[0m\n",
      "\u001b[0;32m~/repos/integration/dscim/menu/main_recipe.py\u001b[0m in \u001b[0;36mscc\u001b[0;34m()\u001b[0m\n\u001b[1;32m    290\u001b[0m                 \u001b[0;32mif\u001b[0m \u001b[0mlen\u001b[0m\u001b[0;34m(\u001b[0m\u001b[0mself\u001b[0m\u001b[0;34m.\u001b[0m\u001b[0mfair_aggregation\u001b[0m\u001b[0;34m)\u001b[0m \u001b[0;34m>\u001b[0m \u001b[0;36m0\u001b[0m\u001b[0;34m:\u001b[0m\u001b[0;34m\u001b[0m\u001b[0;34m\u001b[0m\u001b[0m\n\u001b[1;32m    291\u001b[0m                     \u001b[0mself\u001b[0m\u001b[0;34m.\u001b[0m\u001b[0mstream_discount_factors\u001b[0m\u001b[0;34m\u001b[0m\u001b[0;34m\u001b[0m\u001b[0m\n\u001b[0;32m--> 292\u001b[0;31m                     \u001b[0mself\u001b[0m\u001b[0;34m.\u001b[0m\u001b[0mcalculate_scc\u001b[0m\u001b[0;34m\u001b[0m\u001b[0;34m\u001b[0m\u001b[0m\n\u001b[0m\u001b[1;32m    293\u001b[0m                 \u001b[0mself\u001b[0m\u001b[0;34m.\u001b[0m\u001b[0muncollapsed_sccs\u001b[0m\u001b[0;34m\u001b[0m\u001b[0;34m\u001b[0m\u001b[0m\n\u001b[1;32m    294\u001b[0m \u001b[0;34m\u001b[0m\u001b[0m\n",
      "\u001b[0;32m~/repos/integration/dscim/descriptors.py\u001b[0m in \u001b[0;36m__get__\u001b[0;34m(self, instance, _type)\u001b[0m\n\u001b[1;32m     16\u001b[0m             \u001b[0;32mreturn\u001b[0m \u001b[0mself\u001b[0m\u001b[0;34m\u001b[0m\u001b[0;34m\u001b[0m\u001b[0m\n\u001b[1;32m     17\u001b[0m \u001b[0;34m\u001b[0m\u001b[0m\n\u001b[0;32m---> 18\u001b[0;31m         \u001b[0msetattr\u001b[0m\u001b[0;34m(\u001b[0m\u001b[0minstance\u001b[0m\u001b[0;34m,\u001b[0m \u001b[0mself\u001b[0m\u001b[0;34m.\u001b[0m\u001b[0m__func__\u001b[0m\u001b[0;34m.\u001b[0m\u001b[0m__name__\u001b[0m\u001b[0;34m,\u001b[0m \u001b[0mself\u001b[0m\u001b[0;34m.\u001b[0m\u001b[0m__func__\u001b[0m\u001b[0;34m(\u001b[0m\u001b[0minstance\u001b[0m\u001b[0;34m)\u001b[0m\u001b[0;34m)\u001b[0m\u001b[0;34m\u001b[0m\u001b[0;34m\u001b[0m\u001b[0m\n\u001b[0m\u001b[1;32m     19\u001b[0m \u001b[0;34m\u001b[0m\u001b[0m\n\u001b[1;32m     20\u001b[0m         \u001b[0;31m# This descriptor is now overridden for this instance:\u001b[0m\u001b[0;34m\u001b[0m\u001b[0;34m\u001b[0m\u001b[0;34m\u001b[0m\u001b[0m\n",
      "\u001b[0;32m~/repos/integration/dscim/menu/decorators.py\u001b[0m in \u001b[0;36msave_wrap\u001b[0;34m(self, *args, **kwargs)\u001b[0m\n\u001b[1;32m     24\u001b[0m         \u001b[0;34m@\u001b[0m\u001b[0mfunctools\u001b[0m\u001b[0;34m.\u001b[0m\u001b[0mwraps\u001b[0m\u001b[0;34m(\u001b[0m\u001b[0mfunc\u001b[0m\u001b[0;34m)\u001b[0m\u001b[0;34m\u001b[0m\u001b[0;34m\u001b[0m\u001b[0m\n\u001b[1;32m     25\u001b[0m         \u001b[0;32mdef\u001b[0m \u001b[0msave_wrap\u001b[0m\u001b[0;34m(\u001b[0m\u001b[0mself\u001b[0m\u001b[0;34m,\u001b[0m \u001b[0;34m*\u001b[0m\u001b[0margs\u001b[0m\u001b[0;34m,\u001b[0m \u001b[0;34m**\u001b[0m\u001b[0mkwargs\u001b[0m\u001b[0;34m)\u001b[0m\u001b[0;34m:\u001b[0m\u001b[0;34m\u001b[0m\u001b[0;34m\u001b[0m\u001b[0m\n\u001b[0;32m---> 26\u001b[0;31m             \u001b[0mout\u001b[0m \u001b[0;34m=\u001b[0m \u001b[0mfunc\u001b[0m\u001b[0;34m(\u001b[0m\u001b[0mself\u001b[0m\u001b[0;34m,\u001b[0m \u001b[0;34m*\u001b[0m\u001b[0margs\u001b[0m\u001b[0;34m,\u001b[0m \u001b[0;34m**\u001b[0m\u001b[0mkwargs\u001b[0m\u001b[0;34m)\u001b[0m\u001b[0;34m\u001b[0m\u001b[0;34m\u001b[0m\u001b[0m\n\u001b[0m\u001b[1;32m     27\u001b[0m             \u001b[0msave\u001b[0m \u001b[0;34m=\u001b[0m \u001b[0mout\u001b[0m\u001b[0;34m\u001b[0m\u001b[0;34m\u001b[0m\u001b[0m\n\u001b[1;32m     28\u001b[0m \u001b[0;34m\u001b[0m\u001b[0m\n",
      "\u001b[0;32m~/repos/integration/dscim/menu/main_recipe.py\u001b[0m in \u001b[0;36mcalculate_scc\u001b[0;34m(self)\u001b[0m\n\u001b[1;32m   1044\u001b[0m \u001b[0;34m\u001b[0m\u001b[0m\n\u001b[1;32m   1045\u001b[0m         discounted_damages = self.discounted_damages(\n\u001b[0;32m-> 1046\u001b[0;31m             \u001b[0mdamages\u001b[0m\u001b[0;34m=\u001b[0m\u001b[0mself\u001b[0m\u001b[0;34m.\u001b[0m\u001b[0mmarginal_damages\u001b[0m\u001b[0;34m,\u001b[0m \u001b[0mdiscrate\u001b[0m\u001b[0;34m=\u001b[0m\u001b[0mself\u001b[0m\u001b[0;34m.\u001b[0m\u001b[0mdiscounting_type\u001b[0m\u001b[0;34m\u001b[0m\u001b[0;34m\u001b[0m\u001b[0m\n\u001b[0m\u001b[1;32m   1047\u001b[0m         )\n\u001b[1;32m   1048\u001b[0m         \u001b[0mdiscounted_damages\u001b[0m \u001b[0;34m=\u001b[0m \u001b[0mdiscounted_damages\u001b[0m\u001b[0;34m.\u001b[0m\u001b[0msum\u001b[0m\u001b[0;34m(\u001b[0m\u001b[0mdim\u001b[0m\u001b[0;34m=\u001b[0m\u001b[0;34m\"year\"\u001b[0m\u001b[0;34m)\u001b[0m\u001b[0;34m.\u001b[0m\u001b[0mrename\u001b[0m\u001b[0;34m(\u001b[0m\u001b[0;34m\"scc\"\u001b[0m\u001b[0;34m)\u001b[0m\u001b[0;34m\u001b[0m\u001b[0;34m\u001b[0m\u001b[0m\n",
      "\u001b[0;32m~/repos/integration/dscim/descriptors.py\u001b[0m in \u001b[0;36m__get__\u001b[0;34m(self, instance, _type)\u001b[0m\n\u001b[1;32m     16\u001b[0m             \u001b[0;32mreturn\u001b[0m \u001b[0mself\u001b[0m\u001b[0;34m\u001b[0m\u001b[0;34m\u001b[0m\u001b[0m\n\u001b[1;32m     17\u001b[0m \u001b[0;34m\u001b[0m\u001b[0m\n\u001b[0;32m---> 18\u001b[0;31m         \u001b[0msetattr\u001b[0m\u001b[0;34m(\u001b[0m\u001b[0minstance\u001b[0m\u001b[0;34m,\u001b[0m \u001b[0mself\u001b[0m\u001b[0;34m.\u001b[0m\u001b[0m__func__\u001b[0m\u001b[0;34m.\u001b[0m\u001b[0m__name__\u001b[0m\u001b[0;34m,\u001b[0m \u001b[0mself\u001b[0m\u001b[0;34m.\u001b[0m\u001b[0m__func__\u001b[0m\u001b[0;34m(\u001b[0m\u001b[0minstance\u001b[0m\u001b[0;34m)\u001b[0m\u001b[0;34m)\u001b[0m\u001b[0;34m\u001b[0m\u001b[0;34m\u001b[0m\u001b[0m\n\u001b[0m\u001b[1;32m     19\u001b[0m \u001b[0;34m\u001b[0m\u001b[0m\n\u001b[1;32m     20\u001b[0m         \u001b[0;31m# This descriptor is now overridden for this instance:\u001b[0m\u001b[0;34m\u001b[0m\u001b[0;34m\u001b[0m\u001b[0;34m\u001b[0m\u001b[0m\n",
      "\u001b[0;32m~/repos/integration/dscim/menu/decorators.py\u001b[0m in \u001b[0;36msave_wrap\u001b[0;34m(self, *args, **kwargs)\u001b[0m\n\u001b[1;32m     48\u001b[0m \u001b[0;34m\u001b[0m\u001b[0m\n\u001b[1;32m     49\u001b[0m                     \u001b[0mself\u001b[0m\u001b[0;34m.\u001b[0m\u001b[0mlogger\u001b[0m\u001b[0;34m.\u001b[0m\u001b[0minfo\u001b[0m\u001b[0;34m(\u001b[0m\u001b[0;34mf\"Saving {filename_path}.nc4\"\u001b[0m\u001b[0;34m)\u001b[0m\u001b[0;34m\u001b[0m\u001b[0;34m\u001b[0m\u001b[0m\n\u001b[0;32m---> 50\u001b[0;31m                     \u001b[0msave\u001b[0m\u001b[0;34m.\u001b[0m\u001b[0mto_netcdf\u001b[0m\u001b[0;34m(\u001b[0m\u001b[0;34mf\"{filename_path}.nc4\"\u001b[0m\u001b[0;34m)\u001b[0m\u001b[0;34m\u001b[0m\u001b[0;34m\u001b[0m\u001b[0m\n\u001b[0m\u001b[1;32m     51\u001b[0m \u001b[0;34m\u001b[0m\u001b[0m\n\u001b[1;32m     52\u001b[0m                 \u001b[0;32melif\u001b[0m \u001b[0misinstance\u001b[0m\u001b[0;34m(\u001b[0m\u001b[0msave\u001b[0m\u001b[0;34m,\u001b[0m \u001b[0mxr\u001b[0m\u001b[0;34m.\u001b[0m\u001b[0mDataset\u001b[0m\u001b[0;34m)\u001b[0m\u001b[0;34m:\u001b[0m\u001b[0;34m\u001b[0m\u001b[0;34m\u001b[0m\u001b[0m\n",
      "\u001b[0;32m~/miniconda3/envs/dscim/lib/python3.8/site-packages/xarray/core/dataset.py\u001b[0m in \u001b[0;36mto_netcdf\u001b[0;34m(self, path, mode, format, group, engine, encoding, unlimited_dims, compute, invalid_netcdf)\u001b[0m\n\u001b[1;32m   1900\u001b[0m         \u001b[0;32mfrom\u001b[0m \u001b[0;34m.\u001b[0m\u001b[0;34m.\u001b[0m\u001b[0mbackends\u001b[0m\u001b[0;34m.\u001b[0m\u001b[0mapi\u001b[0m \u001b[0;32mimport\u001b[0m \u001b[0mto_netcdf\u001b[0m\u001b[0;34m\u001b[0m\u001b[0;34m\u001b[0m\u001b[0m\n\u001b[1;32m   1901\u001b[0m \u001b[0;34m\u001b[0m\u001b[0m\n\u001b[0;32m-> 1902\u001b[0;31m         return to_netcdf(\n\u001b[0m\u001b[1;32m   1903\u001b[0m             \u001b[0mself\u001b[0m\u001b[0;34m,\u001b[0m\u001b[0;34m\u001b[0m\u001b[0;34m\u001b[0m\u001b[0m\n\u001b[1;32m   1904\u001b[0m             \u001b[0mpath\u001b[0m\u001b[0;34m,\u001b[0m\u001b[0;34m\u001b[0m\u001b[0;34m\u001b[0m\u001b[0m\n",
      "\u001b[0;32m~/miniconda3/envs/dscim/lib/python3.8/site-packages/xarray/backends/api.py\u001b[0m in \u001b[0;36mto_netcdf\u001b[0;34m(dataset, path_or_file, mode, format, group, engine, encoding, unlimited_dims, compute, multifile, invalid_netcdf)\u001b[0m\n\u001b[1;32m   1079\u001b[0m             \u001b[0;32mreturn\u001b[0m \u001b[0mwriter\u001b[0m\u001b[0;34m,\u001b[0m \u001b[0mstore\u001b[0m\u001b[0;34m\u001b[0m\u001b[0;34m\u001b[0m\u001b[0m\n\u001b[1;32m   1080\u001b[0m \u001b[0;34m\u001b[0m\u001b[0m\n\u001b[0;32m-> 1081\u001b[0;31m         \u001b[0mwrites\u001b[0m \u001b[0;34m=\u001b[0m \u001b[0mwriter\u001b[0m\u001b[0;34m.\u001b[0m\u001b[0msync\u001b[0m\u001b[0;34m(\u001b[0m\u001b[0mcompute\u001b[0m\u001b[0;34m=\u001b[0m\u001b[0mcompute\u001b[0m\u001b[0;34m)\u001b[0m\u001b[0;34m\u001b[0m\u001b[0;34m\u001b[0m\u001b[0m\n\u001b[0m\u001b[1;32m   1082\u001b[0m \u001b[0;34m\u001b[0m\u001b[0m\n\u001b[1;32m   1083\u001b[0m         \u001b[0;32mif\u001b[0m \u001b[0mpath_or_file\u001b[0m \u001b[0;32mis\u001b[0m \u001b[0;32mNone\u001b[0m\u001b[0;34m:\u001b[0m\u001b[0;34m\u001b[0m\u001b[0;34m\u001b[0m\u001b[0m\n",
      "\u001b[0;32m~/miniconda3/envs/dscim/lib/python3.8/site-packages/xarray/backends/common.py\u001b[0m in \u001b[0;36msync\u001b[0;34m(self, compute)\u001b[0m\n\u001b[1;32m    164\u001b[0m             \u001b[0;31m# targets = [dask.delayed(t) for t in self.targets]\u001b[0m\u001b[0;34m\u001b[0m\u001b[0;34m\u001b[0m\u001b[0;34m\u001b[0m\u001b[0m\n\u001b[1;32m    165\u001b[0m \u001b[0;34m\u001b[0m\u001b[0m\n\u001b[0;32m--> 166\u001b[0;31m             delayed_store = da.store(\n\u001b[0m\u001b[1;32m    167\u001b[0m                 \u001b[0mself\u001b[0m\u001b[0;34m.\u001b[0m\u001b[0msources\u001b[0m\u001b[0;34m,\u001b[0m\u001b[0;34m\u001b[0m\u001b[0;34m\u001b[0m\u001b[0m\n\u001b[1;32m    168\u001b[0m                 \u001b[0mself\u001b[0m\u001b[0;34m.\u001b[0m\u001b[0mtargets\u001b[0m\u001b[0;34m,\u001b[0m\u001b[0;34m\u001b[0m\u001b[0;34m\u001b[0m\u001b[0m\n",
      "\u001b[0;32m~/miniconda3/envs/dscim/lib/python3.8/site-packages/dask/array/core.py\u001b[0m in \u001b[0;36mstore\u001b[0;34m(sources, targets, lock, regions, compute, return_stored, **kwargs)\u001b[0m\n\u001b[1;32m   1074\u001b[0m     \u001b[0;32melif\u001b[0m \u001b[0mcompute\u001b[0m\u001b[0;34m:\u001b[0m\u001b[0;34m\u001b[0m\u001b[0;34m\u001b[0m\u001b[0m\n\u001b[1;32m   1075\u001b[0m         \u001b[0mstore_dsk\u001b[0m \u001b[0;34m=\u001b[0m \u001b[0mHighLevelGraph\u001b[0m\u001b[0;34m(\u001b[0m\u001b[0mlayers\u001b[0m\u001b[0;34m,\u001b[0m \u001b[0mdependencies\u001b[0m\u001b[0;34m)\u001b[0m\u001b[0;34m\u001b[0m\u001b[0;34m\u001b[0m\u001b[0m\n\u001b[0;32m-> 1076\u001b[0;31m         \u001b[0mcompute_as_if_collection\u001b[0m\u001b[0;34m(\u001b[0m\u001b[0mArray\u001b[0m\u001b[0;34m,\u001b[0m \u001b[0mstore_dsk\u001b[0m\u001b[0;34m,\u001b[0m \u001b[0mmap_keys\u001b[0m\u001b[0;34m,\u001b[0m \u001b[0;34m**\u001b[0m\u001b[0mkwargs\u001b[0m\u001b[0;34m)\u001b[0m\u001b[0;34m\u001b[0m\u001b[0;34m\u001b[0m\u001b[0m\n\u001b[0m\u001b[1;32m   1077\u001b[0m         \u001b[0;32mreturn\u001b[0m \u001b[0;32mNone\u001b[0m\u001b[0;34m\u001b[0m\u001b[0;34m\u001b[0m\u001b[0m\n\u001b[1;32m   1078\u001b[0m \u001b[0;34m\u001b[0m\u001b[0m\n",
      "\u001b[0;32m~/miniconda3/envs/dscim/lib/python3.8/site-packages/dask/base.py\u001b[0m in \u001b[0;36mcompute_as_if_collection\u001b[0;34m(cls, dsk, keys, scheduler, get, **kwargs)\u001b[0m\n\u001b[1;32m    313\u001b[0m     \u001b[0mschedule\u001b[0m \u001b[0;34m=\u001b[0m \u001b[0mget_scheduler\u001b[0m\u001b[0;34m(\u001b[0m\u001b[0mscheduler\u001b[0m\u001b[0;34m=\u001b[0m\u001b[0mscheduler\u001b[0m\u001b[0;34m,\u001b[0m \u001b[0mcls\u001b[0m\u001b[0;34m=\u001b[0m\u001b[0mcls\u001b[0m\u001b[0;34m,\u001b[0m \u001b[0mget\u001b[0m\u001b[0;34m=\u001b[0m\u001b[0mget\u001b[0m\u001b[0;34m)\u001b[0m\u001b[0;34m\u001b[0m\u001b[0;34m\u001b[0m\u001b[0m\n\u001b[1;32m    314\u001b[0m     \u001b[0mdsk2\u001b[0m \u001b[0;34m=\u001b[0m \u001b[0moptimization_function\u001b[0m\u001b[0;34m(\u001b[0m\u001b[0mcls\u001b[0m\u001b[0;34m)\u001b[0m\u001b[0;34m(\u001b[0m\u001b[0mdsk\u001b[0m\u001b[0;34m,\u001b[0m \u001b[0mkeys\u001b[0m\u001b[0;34m,\u001b[0m \u001b[0;34m**\u001b[0m\u001b[0mkwargs\u001b[0m\u001b[0;34m)\u001b[0m\u001b[0;34m\u001b[0m\u001b[0;34m\u001b[0m\u001b[0m\n\u001b[0;32m--> 315\u001b[0;31m     \u001b[0;32mreturn\u001b[0m \u001b[0mschedule\u001b[0m\u001b[0;34m(\u001b[0m\u001b[0mdsk2\u001b[0m\u001b[0;34m,\u001b[0m \u001b[0mkeys\u001b[0m\u001b[0;34m,\u001b[0m \u001b[0;34m**\u001b[0m\u001b[0mkwargs\u001b[0m\u001b[0;34m)\u001b[0m\u001b[0;34m\u001b[0m\u001b[0;34m\u001b[0m\u001b[0m\n\u001b[0m\u001b[1;32m    316\u001b[0m \u001b[0;34m\u001b[0m\u001b[0m\n\u001b[1;32m    317\u001b[0m \u001b[0;34m\u001b[0m\u001b[0m\n",
      "\u001b[0;32m~/miniconda3/envs/dscim/lib/python3.8/site-packages/dask/threaded.py\u001b[0m in \u001b[0;36mget\u001b[0;34m(dsk, result, cache, num_workers, pool, **kwargs)\u001b[0m\n\u001b[1;32m     77\u001b[0m             \u001b[0mpool\u001b[0m \u001b[0;34m=\u001b[0m \u001b[0mMultiprocessingPoolExecutor\u001b[0m\u001b[0;34m(\u001b[0m\u001b[0mpool\u001b[0m\u001b[0;34m)\u001b[0m\u001b[0;34m\u001b[0m\u001b[0;34m\u001b[0m\u001b[0m\n\u001b[1;32m     78\u001b[0m \u001b[0;34m\u001b[0m\u001b[0m\n\u001b[0;32m---> 79\u001b[0;31m     results = get_async(\n\u001b[0m\u001b[1;32m     80\u001b[0m         \u001b[0mpool\u001b[0m\u001b[0;34m.\u001b[0m\u001b[0msubmit\u001b[0m\u001b[0;34m,\u001b[0m\u001b[0;34m\u001b[0m\u001b[0;34m\u001b[0m\u001b[0m\n\u001b[1;32m     81\u001b[0m         \u001b[0mpool\u001b[0m\u001b[0;34m.\u001b[0m\u001b[0m_max_workers\u001b[0m\u001b[0;34m,\u001b[0m\u001b[0;34m\u001b[0m\u001b[0;34m\u001b[0m\u001b[0m\n",
      "\u001b[0;32m~/miniconda3/envs/dscim/lib/python3.8/site-packages/dask/local.py\u001b[0m in \u001b[0;36mget_async\u001b[0;34m(submit, num_workers, dsk, result, cache, get_id, rerun_exceptions_locally, pack_exception, raise_exception, callbacks, dumps, loads, chunksize, **kwargs)\u001b[0m\n\u001b[1;32m    494\u001b[0m             \u001b[0;32mwhile\u001b[0m \u001b[0mstate\u001b[0m\u001b[0;34m[\u001b[0m\u001b[0;34m\"waiting\"\u001b[0m\u001b[0;34m]\u001b[0m \u001b[0;32mor\u001b[0m \u001b[0mstate\u001b[0m\u001b[0;34m[\u001b[0m\u001b[0;34m\"ready\"\u001b[0m\u001b[0;34m]\u001b[0m \u001b[0;32mor\u001b[0m \u001b[0mstate\u001b[0m\u001b[0;34m[\u001b[0m\u001b[0;34m\"running\"\u001b[0m\u001b[0;34m]\u001b[0m\u001b[0;34m:\u001b[0m\u001b[0;34m\u001b[0m\u001b[0;34m\u001b[0m\u001b[0m\n\u001b[1;32m    495\u001b[0m                 \u001b[0mfire_tasks\u001b[0m\u001b[0;34m(\u001b[0m\u001b[0mchunksize\u001b[0m\u001b[0;34m)\u001b[0m\u001b[0;34m\u001b[0m\u001b[0;34m\u001b[0m\u001b[0m\n\u001b[0;32m--> 496\u001b[0;31m                 \u001b[0;32mfor\u001b[0m \u001b[0mkey\u001b[0m\u001b[0;34m,\u001b[0m \u001b[0mres_info\u001b[0m\u001b[0;34m,\u001b[0m \u001b[0mfailed\u001b[0m \u001b[0;32min\u001b[0m \u001b[0mqueue_get\u001b[0m\u001b[0;34m(\u001b[0m\u001b[0mqueue\u001b[0m\u001b[0;34m)\u001b[0m\u001b[0;34m.\u001b[0m\u001b[0mresult\u001b[0m\u001b[0;34m(\u001b[0m\u001b[0;34m)\u001b[0m\u001b[0;34m:\u001b[0m\u001b[0;34m\u001b[0m\u001b[0;34m\u001b[0m\u001b[0m\n\u001b[0m\u001b[1;32m    497\u001b[0m                     \u001b[0;32mif\u001b[0m \u001b[0mfailed\u001b[0m\u001b[0;34m:\u001b[0m\u001b[0;34m\u001b[0m\u001b[0;34m\u001b[0m\u001b[0m\n\u001b[1;32m    498\u001b[0m                         \u001b[0mexc\u001b[0m\u001b[0;34m,\u001b[0m \u001b[0mtb\u001b[0m \u001b[0;34m=\u001b[0m \u001b[0mloads\u001b[0m\u001b[0;34m(\u001b[0m\u001b[0mres_info\u001b[0m\u001b[0;34m)\u001b[0m\u001b[0;34m\u001b[0m\u001b[0;34m\u001b[0m\u001b[0m\n",
      "\u001b[0;32m~/miniconda3/envs/dscim/lib/python3.8/site-packages/dask/local.py\u001b[0m in \u001b[0;36mqueue_get\u001b[0;34m(q)\u001b[0m\n\u001b[1;32m    132\u001b[0m \u001b[0;34m\u001b[0m\u001b[0m\n\u001b[1;32m    133\u001b[0m     \u001b[0;32mdef\u001b[0m \u001b[0mqueue_get\u001b[0m\u001b[0;34m(\u001b[0m\u001b[0mq\u001b[0m\u001b[0;34m)\u001b[0m\u001b[0;34m:\u001b[0m\u001b[0;34m\u001b[0m\u001b[0;34m\u001b[0m\u001b[0m\n\u001b[0;32m--> 134\u001b[0;31m         \u001b[0;32mreturn\u001b[0m \u001b[0mq\u001b[0m\u001b[0;34m.\u001b[0m\u001b[0mget\u001b[0m\u001b[0;34m(\u001b[0m\u001b[0;34m)\u001b[0m\u001b[0;34m\u001b[0m\u001b[0;34m\u001b[0m\u001b[0m\n\u001b[0m\u001b[1;32m    135\u001b[0m \u001b[0;34m\u001b[0m\u001b[0m\n\u001b[1;32m    136\u001b[0m \u001b[0;34m\u001b[0m\u001b[0m\n",
      "\u001b[0;32m~/miniconda3/envs/dscim/lib/python3.8/queue.py\u001b[0m in \u001b[0;36mget\u001b[0;34m(self, block, timeout)\u001b[0m\n\u001b[1;32m    168\u001b[0m             \u001b[0;32melif\u001b[0m \u001b[0mtimeout\u001b[0m \u001b[0;32mis\u001b[0m \u001b[0;32mNone\u001b[0m\u001b[0;34m:\u001b[0m\u001b[0;34m\u001b[0m\u001b[0;34m\u001b[0m\u001b[0m\n\u001b[1;32m    169\u001b[0m                 \u001b[0;32mwhile\u001b[0m \u001b[0;32mnot\u001b[0m \u001b[0mself\u001b[0m\u001b[0;34m.\u001b[0m\u001b[0m_qsize\u001b[0m\u001b[0;34m(\u001b[0m\u001b[0;34m)\u001b[0m\u001b[0;34m:\u001b[0m\u001b[0;34m\u001b[0m\u001b[0;34m\u001b[0m\u001b[0m\n\u001b[0;32m--> 170\u001b[0;31m                     \u001b[0mself\u001b[0m\u001b[0;34m.\u001b[0m\u001b[0mnot_empty\u001b[0m\u001b[0;34m.\u001b[0m\u001b[0mwait\u001b[0m\u001b[0;34m(\u001b[0m\u001b[0;34m)\u001b[0m\u001b[0;34m\u001b[0m\u001b[0;34m\u001b[0m\u001b[0m\n\u001b[0m\u001b[1;32m    171\u001b[0m             \u001b[0;32melif\u001b[0m \u001b[0mtimeout\u001b[0m \u001b[0;34m<\u001b[0m \u001b[0;36m0\u001b[0m\u001b[0;34m:\u001b[0m\u001b[0;34m\u001b[0m\u001b[0;34m\u001b[0m\u001b[0m\n\u001b[1;32m    172\u001b[0m                 \u001b[0;32mraise\u001b[0m \u001b[0mValueError\u001b[0m\u001b[0;34m(\u001b[0m\u001b[0;34m\"'timeout' must be a non-negative number\"\u001b[0m\u001b[0;34m)\u001b[0m\u001b[0;34m\u001b[0m\u001b[0;34m\u001b[0m\u001b[0m\n",
      "\u001b[0;32m~/miniconda3/envs/dscim/lib/python3.8/threading.py\u001b[0m in \u001b[0;36mwait\u001b[0;34m(self, timeout)\u001b[0m\n\u001b[1;32m    300\u001b[0m         \u001b[0;32mtry\u001b[0m\u001b[0;34m:\u001b[0m    \u001b[0;31m# restore state no matter what (e.g., KeyboardInterrupt)\u001b[0m\u001b[0;34m\u001b[0m\u001b[0;34m\u001b[0m\u001b[0m\n\u001b[1;32m    301\u001b[0m             \u001b[0;32mif\u001b[0m \u001b[0mtimeout\u001b[0m \u001b[0;32mis\u001b[0m \u001b[0;32mNone\u001b[0m\u001b[0;34m:\u001b[0m\u001b[0;34m\u001b[0m\u001b[0;34m\u001b[0m\u001b[0m\n\u001b[0;32m--> 302\u001b[0;31m                 \u001b[0mwaiter\u001b[0m\u001b[0;34m.\u001b[0m\u001b[0macquire\u001b[0m\u001b[0;34m(\u001b[0m\u001b[0;34m)\u001b[0m\u001b[0;34m\u001b[0m\u001b[0;34m\u001b[0m\u001b[0m\n\u001b[0m\u001b[1;32m    303\u001b[0m                 \u001b[0mgotit\u001b[0m \u001b[0;34m=\u001b[0m \u001b[0;32mTrue\u001b[0m\u001b[0;34m\u001b[0m\u001b[0;34m\u001b[0m\u001b[0m\n\u001b[1;32m    304\u001b[0m             \u001b[0;32melse\u001b[0m\u001b[0;34m:\u001b[0m\u001b[0;34m\u001b[0m\u001b[0;34m\u001b[0m\u001b[0m\n",
      "\u001b[0;31mKeyboardInterrupt\u001b[0m: "
     ]
    }
   ],
   "source": [
    "n_combos = len(combos)\n",
    "\n",
    "while n_combos > 0: \n",
    "    combo = combos[0]\n",
    "    print(\"=========================================================\")\n",
    "    print(combo)\n",
    "    sector = combo[0]\n",
    "    pulse_year = combo[1]\n",
    "    discount_type = combo[2]\n",
    "    menu_option = combo[3]\n",
    "    AR = combo[4]\n",
    "    eta = combo[5]\n",
    "    w = ProWaiter(path_to_config=f'/home/{username}/repos/integration/configs/epa_tool_config-histclim_AR{AR}.yaml')\n",
    "    \n",
    "    save_path= f'/mnt/CIL_integration/menu_results_AR{AR}_epa/{sector}/{pulse_year}/unmasked/'\n",
    "    \n",
    "    kwargs = {'discounting_type' : discount_type,\n",
    "              'sector': sector,\n",
    "              'ce_path' : f'/shares/gcp/integration/CE_library_epa_vsl_bc39/{sector}/',\n",
    "              'save_path' : save_path,\n",
    "              'weitzman_parameter' : weitzman_values,\n",
    "              'pulse_year' : pulse_year,\n",
    "              'eta': eta,\n",
    "              'rho': eta_rhos[eta]\n",
    "             }\n",
    "    \n",
    "    if 'CAMEL' in sector:\n",
    "        kwargs.update({\n",
    "            'damage_function_path' : f\"/mnt/CIL_integration/damage_function_library/damage_function_library_epa/{sector}/\",\n",
    "            'sector_path' : None\n",
    "        })\n",
    "\n",
    "\n",
    "    menu_item = w.menu_factory(menu_key=menu_option,\n",
    "                                           sector=sector,\n",
    "                                           kwargs=kwargs\n",
    "                                          )\n",
    "\n",
    "    menu_item.order_plate('scc') \n",
    "    \n",
    "    combos.remove(combo)\n",
    "    n_combos = len(combos)\n",
    "    print(f\"remaining combos: {n_combos}\")\n",
    "\n"
   ]
  },
  {
   "cell_type": "code",
   "execution_count": null,
   "metadata": {},
   "outputs": [],
   "source": []
  },
  {
   "cell_type": "code",
   "execution_count": null,
   "metadata": {},
   "outputs": [],
   "source": []
  }
 ],
 "metadata": {
  "kernelspec": {
   "display_name": "Python 3 (ipykernel)",
   "language": "python",
   "name": "python3"
  },
  "language_info": {
   "codemirror_mode": {
    "name": "ipython",
    "version": 3
   },
   "file_extension": ".py",
   "mimetype": "text/x-python",
   "name": "python",
   "nbconvert_exporter": "python",
   "pygments_lexer": "ipython3",
   "version": "3.8.0"
  }
 },
 "nbformat": 4,
 "nbformat_minor": 4
}
